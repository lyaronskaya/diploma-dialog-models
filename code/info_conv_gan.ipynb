{
 "cells": [
  {
   "cell_type": "code",
   "execution_count": 1,
   "metadata": {
    "collapsed": false
   },
   "outputs": [],
   "source": [
    "%load_ext autoreload\n",
    "%autoreload 2"
   ]
  },
  {
   "cell_type": "code",
   "execution_count": 2,
   "metadata": {
    "collapsed": false
   },
   "outputs": [
    {
     "name": "stdout",
     "output_type": "stream",
     "text": [
      "env: THEANO_FLAGS=device=gpu2,floatX=float32\n"
     ]
    }
   ],
   "source": [
    "%env THEANO_FLAGS=device=gpu2,floatX=float32"
   ]
  },
  {
   "cell_type": "code",
   "execution_count": 3,
   "metadata": {
    "collapsed": false
   },
   "outputs": [
    {
     "name": "stderr",
     "output_type": "stream",
     "text": [
      "WARNING (theano.sandbox.cuda): The cuda backend is deprecated and will be removed in the next release (v0.10).  Please switch to the gpuarray backend. You can get more information about how to switch at this URL:\n",
      " https://github.com/Theano/Theano/wiki/Converting-to-the-new-gpu-back-end%28gpuarray%29\n",
      "\n",
      "Using gpu device 2: Tesla K80 (CNMeM is enabled with initial size: 19.0% of memory, cuDNN 5110)\n"
     ]
    }
   ],
   "source": [
    "import numpy as np\n",
    "import theano\n",
    "import theano.tensor as T\n",
    "import lasagne\n",
    "from lasagne.layers import *\n",
    "\n",
    "import matplotlib.pyplot as plt\n",
    "%matplotlib inline"
   ]
  },
  {
   "cell_type": "code",
   "execution_count": 4,
   "metadata": {
    "collapsed": false
   },
   "outputs": [],
   "source": [
    "#!mkdir sasha_rnn \n",
    "# !wget https://www.dropbox.com/s/fxbjs8gebdm7lkv/sp.json?dl=0 -O sp.json\n",
    "# !wget https://www.dropbox.com/s/ongjlpx798h8ysq/tinytitles.txt?dl=0 -O tinytitles.txt\n",
    "# !wget https://www.dropbox.com/s/fqhq3v7h1d67e4e/tokens.txt?dl=0 -O tokens.txt\n",
    "# !wget https://www.dropbox.com/s/l72wr3fqk3wio44/weights_persona.pcl?dl=0 -O weights_persona.pcl\n",
    "# !wget https://www.dropbox.com/s/pfg0lx5c17r68tw/weights.pcl?dl=0 -O weights.pkl\n",
    "# !wget https://www.dropbox.com/s/6igoxt5cji02m5e/names_new.txt?dl=0 -O names_new.txt"
   ]
  },
  {
   "cell_type": "markdown",
   "metadata": {},
   "source": [
    "## tokens"
   ]
  },
  {
   "cell_type": "code",
   "execution_count": 4,
   "metadata": {
    "collapsed": true
   },
   "outputs": [],
   "source": [
    "NAMES_FILENAME = \"names_new.txt\"\n",
    "TOKENS_FILENAME = \"tokens.txt\""
   ]
  },
  {
   "cell_type": "code",
   "execution_count": 5,
   "metadata": {
    "collapsed": false
   },
   "outputs": [],
   "source": [
    "with open(NAMES_FILENAME) as fin:\n",
    "    names = list(filter(len, fin.read().split('\\n')))"
   ]
  },
  {
   "cell_type": "code",
   "execution_count": 6,
   "metadata": {
    "collapsed": false
   },
   "outputs": [
    {
     "data": {
      "text/plain": [
       "['dr._oz',\n",
       " 'human_wendy',\n",
       " 'whoopi',\n",
       " 'kkk_leader',\n",
       " 'an_official',\n",
       " 'woodsy_owl',\n",
       " 'captain',\n",
       " 'ozzy',\n",
       " 'geraldo',\n",
       " 'male_anchor']"
      ]
     },
     "execution_count": 6,
     "metadata": {},
     "output_type": "execute_result"
    }
   ],
   "source": [
    "names[:10]"
   ]
  },
  {
   "cell_type": "code",
   "execution_count": 7,
   "metadata": {
    "collapsed": false
   },
   "outputs": [],
   "source": [
    "with open(TOKENS_FILENAME) as fin:\n",
    "    tokens = list(filter(len, fin.read().split('\\n')))\n",
    " \n",
    "tokens = tokens[:33646] + [name.strip('_').lower() for name in tokens[33646:]]\n",
    "\n",
    "tokens.append(\"_BOS_\") #beginning of sentence. Omitted in danet\n",
    "tokens.append(\"_PAD_\") #padding. Omitted in danet\n",
    "\n",
    "#tokens += names\n",
    "\n",
    "UNK_ix, BOS_ix, EOS_ix, PAD_ix = list(map(tokens.index, [\"_UNK_\",\"_BOS_\",\"_EOS_\",\"_PAD_\"]))\n",
    "n_tokens = len(tokens)\n",
    "\n",
    "from collections import defaultdict\n",
    "token_to_ix = defaultdict(lambda : UNK_ix, {t:i for i, t in enumerate(tokens)})"
   ]
  },
  {
   "cell_type": "code",
   "execution_count": 8,
   "metadata": {
    "collapsed": true
   },
   "outputs": [],
   "source": [
    "name_to_ix = defaultdict(lambda : UNK_ix, {t:i for i, t in enumerate(names)})"
   ]
  },
  {
   "cell_type": "code",
   "execution_count": 9,
   "metadata": {
    "collapsed": false
   },
   "outputs": [],
   "source": [
    "import regex\n",
    "import numpy as np\n",
    "\n",
    "def preprocess(lines, max_len=20, speaker=None, add_eos=True):\n",
    "    if type(lines) == (str):\n",
    "        lines = [lines]\n",
    "    \n",
    "    context=[]\n",
    "    for line in lines:\n",
    "        line = line.lower()\n",
    "        line = regex.sub(r'(\\p{P}|`|~)', r' \\1 ', line)\n",
    "        line_ix = list(map(token_to_ix.__getitem__, filter(len, line.split())))\n",
    "        if add_eos:\n",
    "            line_ix.append(EOS_ix)\n",
    "        context += line_ix\n",
    "            \n",
    "    if speaker is not None:\n",
    "        context.append(speaker)\n",
    "        \n",
    "    return context\n",
    "\n",
    "def ix_to_matrix(phrases_ix, max_len=None):\n",
    "    max_len = max_len or max(map(len,phrases_ix))\n",
    "    \n",
    "    matrix = np.zeros((len(phrases_ix),max_len),dtype='int32') + PAD_ix\n",
    "    \n",
    "    for i,phrase_ix in enumerate(phrases_ix):\n",
    "        matrix[i,:min(len(phrase_ix),max_len)] = phrase_ix[:max_len]\n",
    "        \n",
    "    return matrix\n",
    "\n",
    "def phrase_to_matrix(contexts, max_len=None, **kwargs):\n",
    "            \n",
    "    return ix_to_matrix([preprocess(phrases,**kwargs) for phrases in contexts], max_len=max_len)"
   ]
  },
  {
   "cell_type": "code",
   "execution_count": 10,
   "metadata": {
    "collapsed": false
   },
   "outputs": [
    {
     "data": {
      "text/plain": [
       "36071"
      ]
     },
     "execution_count": 10,
     "metadata": {},
     "output_type": "execute_result"
    }
   ],
   "source": [
    "len(tokens)"
   ]
  },
  {
   "cell_type": "code",
   "execution_count": 11,
   "metadata": {
    "collapsed": false
   },
   "outputs": [
    {
     "data": {
      "text/plain": [
       "array([[13885, 34723,    14,    14,    14,     0]], dtype=int32)"
      ]
     },
     "execution_count": 11,
     "metadata": {},
     "output_type": "execute_result"
    }
   ],
   "source": [
    "phrase_to_matrix([\"Hello dude!!!\"])"
   ]
  },
  {
   "cell_type": "code",
   "execution_count": null,
   "metadata": {
    "collapsed": true
   },
   "outputs": [],
   "source": [
    "def generate_data(data_rows, batch_size=32, speakers_list=None, context_length=3, max_len=20, n_iter=np.inf):\n",
    "    i=0\n",
    "\n",
    "    while True:\n",
    "        batch_ix = np.random.randint(0, len(data_rows) - context_length - 1, batch_size)\n",
    "        context_ix = batch_ix[:, None] + np.arange(context_length)[None, :]\n",
    "        answer_ix = batch_ix + context_length\n",
    "        batch_x = ix_to_matrix(list(map(np.concatenate, data_rows[context_ix])), max_len=max_len)\n",
    "        batch_y = ix_to_matrix(data_rows[answer_ix], max_len=max_len)\n",
    "        if speakers_list == None:\n",
    "            yield batch_x, batch_y\n",
    "        else:\n",
    "            respondent = speakers_list[answer_ix]\n",
    "            yield batch_x, batch_y, respondent\n",
    "        i+=1\n",
    "        if i >= n_iter:\n",
    "            break"
   ]
  },
  {
   "cell_type": "markdown",
   "metadata": {},
   "source": [
    "### Load data"
   ]
  },
  {
   "cell_type": "code",
   "execution_count": null,
   "metadata": {
    "collapsed": true
   },
   "outputs": [],
   "source": [
    "import json\n",
    "from pprint import pprint\n",
    "\n",
    "with open('sp.json', 'r') as fn:    \n",
    "    data = json.load(fn, encoding='cp1251')\n",
    "    \n",
    "    \n",
    "import re\n",
    "numbers_regex = re.compile('#?[0-9]+')\n",
    "\n",
    "def preprocess_speaker_name(name):\n",
    "    try:\n",
    "        str(name)\n",
    "    except:\n",
    "        return ''\n",
    "    name_parts = map(str.lower, str(name).split())\n",
    "    filtered = filter(lambda part: not re.match(numbers_regex, part), name_parts)\n",
    "    return '_'.join(filtered)\n",
    "\n",
    "data_rows = np.array([preprocess(lines=[phrase[1]])\n",
    "                      for part in data for phrase in part['conversation'] if phrase[0] and phrase[1] \n",
    "                      and len(phrase[0]) > 2])\n",
    "\n",
    "speakers_list = np.array([name_to_ix[preprocess_speaker_name(phrase[0][:-2])]\n",
    "                      for part in data for phrase in part['conversation'] if phrase[0] and phrase[1] \n",
    "                          and len(phrase[0]) > 2])"
   ]
  },
  {
   "cell_type": "code",
   "execution_count": null,
   "metadata": {
    "collapsed": true
   },
   "outputs": [],
   "source": []
  },
  {
   "cell_type": "markdown",
   "metadata": {},
   "source": [
    "# model"
   ]
  },
  {
   "cell_type": "code",
   "execution_count": 12,
   "metadata": {
    "collapsed": false
   },
   "outputs": [],
   "source": [
    "from warnings import warn\n",
    "import numpy as np\n",
    "import theano\n",
    "theano.config.floatX='float32'\n",
    "import theano.tensor as T"
   ]
  },
  {
   "cell_type": "code",
   "execution_count": 13,
   "metadata": {
    "collapsed": true
   },
   "outputs": [],
   "source": [
    "theano.config.exception_verbosity='high'"
   ]
  },
  {
   "cell_type": "code",
   "execution_count": 14,
   "metadata": {
    "collapsed": false
   },
   "outputs": [],
   "source": [
    "grad_clipping = 5\n",
    "lstm_units = 1024\n",
    "emb_size = 512\n",
    "bottleneck_units = 256\n",
    "person_emb_size = 100\n",
    "seq_len = 20\n",
    "sampling_num = 5\n",
    "n_persons = len(names)\n",
    "temperature = theano.shared(np.float32(1.))\n"
   ]
  },
  {
   "cell_type": "code",
   "execution_count": 15,
   "metadata": {
    "collapsed": false
   },
   "outputs": [],
   "source": [
    "from sasha_rnn.wrong_lstm_layer import WrongLSTMLayer\n",
    "from lasagne.layers import *\n",
    "\n",
    "class encoder:\n",
    "        \n",
    "    input_phrase = T.imatrix(\"encoder phrase tokens\")\n",
    "    \n",
    "    l_in = InputLayer((None,None), input_phrase, name='context input')\n",
    "    l_mask = InputLayer((None,None), T.neq(input_phrase, PAD_ix), 'context mask')\n",
    "    \n",
    "    l_emb = EmbeddingLayer(l_in, n_tokens, emb_size, name=\"context embedding\")\n",
    "    \n",
    "    \n",
    "    ####LSTMLayer with incorrect outputgate####\n",
    "    \n",
    "    l_lstm = WrongLSTMLayer(\n",
    "                        l_emb,\n",
    "                        lstm_units,\n",
    "                        name='encoder_lstm',\n",
    "                        grad_clipping=grad_clipping,\n",
    "                        mask_input=l_mask,\n",
    "                        only_return_final=True,\n",
    "                        peepholes=False)\n",
    "    \n",
    "    output = l_lstm\n",
    "\n"
   ]
  },
  {
   "cell_type": "code",
   "execution_count": 16,
   "metadata": {
    "collapsed": false
   },
   "outputs": [],
   "source": [
    "n_persons = len(names)\n",
    "person_id_var = T.ivector(\"personality idxs\")\n",
    "l_person_id = InputLayer((None,), person_id_var)\n",
    "l_person_emb = EmbeddingLayer(l_person_id, n_persons, person_emb_size, name=\"persona_based.emb\")"
   ]
  },
  {
   "cell_type": "code",
   "execution_count": 17,
   "metadata": {
    "collapsed": false
   },
   "outputs": [],
   "source": [
    "LATENT_SIZE = n_persons\n",
    "latent_c = T.imatrix(\"latent variable for InfoGAN\")\n",
    "#l_latent = InputLayer((None, LATENT_SIZE), input_var=latent_c)\n",
    "\n",
    "def sample_c(respondents):\n",
    "    return np.eye(LATENT_SIZE)[respondents]"
   ]
  },
  {
   "cell_type": "code",
   "execution_count": 18,
   "metadata": {
    "collapsed": false
   },
   "outputs": [],
   "source": [
    "from sasha_rnn.wrong_lstm_cell import WrongLSTMCell\n",
    "from agentnet import Recurrence\n",
    "from agentnet.resolver import  ProbabilisticResolver\n",
    "\n",
    "class decoder:\n",
    "    prev_cell = InputLayer((None,lstm_units), name='cell')\n",
    "    prev_out = InputLayer((None,lstm_units), name='out')\n",
    "    \n",
    "    \n",
    "    \n",
    "    #input\n",
    "    inp_word = InputLayer((None,))\n",
    "    word_embedding = EmbeddingLayer(inp_word, n_tokens, emb_size,\n",
    "                                         W=encoder.l_emb.W, name='emb')\n",
    "    encoder_lstm = InputLayer((None, lstm_units), name='encoder')\n",
    "    person_emb = InputLayer((None, person_emb_size), name='persona_based.each_tick')\n",
    "\n",
    "    #recurrent units\n",
    "    new_cell,new_out = WrongLSTMCell(prev_cell, prev_out,\n",
    "                                     input_or_inputs=[word_embedding, encoder_lstm, person_emb],#, inp_c],\n",
    "                                     name='decoder_lstm', peepholes=False\n",
    "                                    )\n",
    "    \n",
    "\n",
    "    bottleneck = DenseLayer(new_out, bottleneck_units,\n",
    "                              nonlinearity=T.tanh,\n",
    "                              name='decoder intermediate')\n",
    "\n",
    "    \n",
    "    next_word_probs = DenseLayer(bottleneck, n_tokens,\n",
    "                                 nonlinearity=lambda probs: T.nnet.softmax(probs/temperature),\n",
    "                                 name='decoder next word probas')\n",
    "\n",
    "    next_words = ProbabilisticResolver(next_word_probs, assume_normalized=True)\n",
    "    \n",
    "    \n",
    "\n"
   ]
  },
  {
   "cell_type": "code",
   "execution_count": 19,
   "metadata": {
    "collapsed": true
   },
   "outputs": [],
   "source": [
    "def get_mask_from_end_indicator(end_indicator):\n",
    "    return T.concatenate([T.ones_like(end_indicator[:,:1]),\n",
    "                          T.eq(T.cumsum(end_indicator,axis=1), 0)[:,:-1]], axis=1)"
   ]
  },
  {
   "cell_type": "code",
   "execution_count": 20,
   "metadata": {
    "collapsed": false
   },
   "outputs": [],
   "source": [
    "class generator:\n",
    "    \n",
    "    n_steps = T.iscalar()\n",
    "    \n",
    "    bos_input_layer = InputLayer((None,),T.zeros((encoder.input_phrase.shape[0],), 'int32')+BOS_ix, name=\"first input\")\n",
    "\n",
    "    recurrence = Recurrence(\n",
    "                           input_nonsequences={decoder.encoder_lstm: encoder.output,\n",
    "                                               decoder.person_emb: l_person_emb},\n",
    "                                               #decoder.inp_c: l_latent},\n",
    "                           state_variables={decoder.new_cell: decoder.prev_cell,\n",
    "                                            decoder.new_out: decoder.prev_out,\n",
    "                                            decoder.next_words: decoder.inp_word},\n",
    "                           tracked_outputs=[decoder.next_words, decoder.next_word_probs, decoder.new_cell, \n",
    "                                            decoder.new_out],\n",
    "                           state_init={decoder.next_words: bos_input_layer},\n",
    "                           n_steps=n_steps,\n",
    "                           unroll_scan=False,)\n",
    "    \n",
    "    weights = get_all_params(recurrence, trainable=True)    \n",
    "    \n",
    "    rec_output = get_output(recurrence)\n",
    "\n",
    "    out, probs, cell_seq, out_seq=rec_output[decoder.next_words],T.maximum(rec_output[decoder.next_word_probs],1e-10),\\\n",
    "                                               rec_output[decoder.new_cell], rec_output[decoder.new_out]\n",
    "    \n",
    "    mask = get_mask_from_end_indicator(T.eq(out, EOS_ix))\n",
    "    auto_updates = recurrence.get_automatic_updates()\n",
    "    \n",
    "    generate = theano.function([encoder.input_phrase, person_id_var, n_steps], out,\n",
    "                                updates=auto_updates, allow_input_downcast=True)\n",
    "    \n",
    "    #Greedy mode\n",
    "    greedy_out = get_output(recurrence[decoder.next_words], recurrence_flags={\"greedy\": True})\n",
    "    \n",
    "    greedy_auto_updates = recurrence.get_automatic_updates()\n",
    "    greedy_mask = get_mask_from_end_indicator(T.eq(greedy_out, EOS_ix))\n",
    "    \n",
    "    generate_greedy = theano.function([encoder.input_phrase, person_id_var, n_steps], greedy_out,\n",
    "                                       updates=greedy_auto_updates, allow_input_downcast=True)\n",
    "    \n",
    "    # Perplexity \n",
    "    from agentnet.learning.generic import get_values_for_actions\n",
    "    choosen_probs = get_values_for_actions(probs, out)\n",
    "    perplexity = T.mean(T.power(2, -T.sum(T.log(choosen_probs), axis=-1) / n_steps))\n",
    "    \n",
    "    get_perplexity_fn = theano.function([encoder.input_phrase, person_id_var, n_steps], perplexity,\n",
    "                                updates=auto_updates, allow_input_downcast=True)\n",
    "\n",
    "\n",
    "    @staticmethod\n",
    "    def reply(phrase, person_id, max_len=20, **kwargs):\n",
    "        phrase_ix = phrase_to_matrix([phrase], **kwargs)\n",
    "\n",
    "#         latent = sample_c([person_id])\n",
    "        answer_ix = generator.generate(phrase_ix, [person_id], max_len)[0]\n",
    "        if EOS_ix in answer_ix:\n",
    "            answer_ix = answer_ix[:list(answer_ix).index(EOS_ix)]\n",
    "        return ' '.join(map(tokens.__getitem__, answer_ix))\n",
    "    \n",
    "    "
   ]
  },
  {
   "cell_type": "code",
   "execution_count": 24,
   "metadata": {
    "collapsed": false
   },
   "outputs": [
    {
     "name": "stderr",
     "output_type": "stream",
     "text": [
      "/anaconda2/lib/python2.7/site-packages/ipykernel/__main__.py:10: FutureWarning: comparison to `None` will result in an elementwise object comparison in the future.\n"
     ]
    }
   ],
   "source": [
    "one_batch = generate_data(data_rows, speakers_list=speakers_list, n_iter=1, max_len=seq_len).next()\n"
   ]
  },
  {
   "cell_type": "code",
   "execution_count": 25,
   "metadata": {
    "collapsed": true
   },
   "outputs": [],
   "source": [
    "def phrase_from_idx(idxs, crop_by_eos=False):\n",
    "    if crop_by_eos and EOS_ix in idxs:\n",
    "        idxs = idxs[:list(idxs).index(EOS_ix)]\n",
    "        \n",
    "    phrase_tokens = map(tokens.__getitem__, idxs)\n",
    "    return phrase_tokens"
   ]
  },
  {
   "cell_type": "code",
   "execution_count": 59,
   "metadata": {
    "collapsed": false
   },
   "outputs": [],
   "source": [
    "name_batch =  phrase_to_matrix([[\"Hello\", \"Hello\", \"What is your name ? \"]], max_len=20)\n",
    "\n",
    "conversation_names = set(names) & set(tokens)\n",
    "\n",
    "conversation_name_idxs = map(name_to_ix.get, conversation_names)\n",
    "conversation_token_idxs = map(token_to_ix.get, conversation_names)\n",
    "\n",
    "name_batch_repeated = np.repeat(name_batch, len(conversation_names), axis=0)\n",
    "\n",
    "latent_for_name_batch = sample_c(conversation_name_idxs)\n",
    "\n",
    "\n",
    "def accuracy_in_names():\n",
    "    #model_answers = generator.generate(name_batch_repeated, conversation_name_idxs, 20, latent_for_name_batch)\n",
    "    model_answers = [generator.generate(name_batch, [name_idx], 20) \n",
    "                                        for name_idx in conversation_name_idxs]\n",
    "    def crop_by_eos(answer):\n",
    "        if  EOS_ix in answer:\n",
    "            return answer[:list(answer).index(EOS_ix)]\n",
    "        return answer\n",
    "        \n",
    "    res = map(lambda answer, name_idx: name_idx in set(crop_by_eos(answer[0])), model_answers, conversation_token_idxs)   \n",
    "    matched_idxs = np.where(res)[0]\n",
    "    name_idxs = [conversation_name_idxs[idx] for idx in matched_idxs]\n",
    "    matched_names = [names[idx] for idx in name_idxs]\n",
    "    \n",
    "    matched_answers = [' '.join(phrase_from_idx(model_answers[idx][0], crop_by_eos=True)) for idx in matched_idxs] \n",
    "    return matched_names, matched_answers\n",
    "    return sum(res)"
   ]
  },
  {
   "cell_type": "code",
   "execution_count": 21,
   "metadata": {
    "collapsed": true
   },
   "outputs": [],
   "source": [
    "# import pickle\n",
    "# with open(\"weights_persona.pcl\", 'rb') as f:\n",
    "#     d = pickle.load(f)\n",
    "    \n",
    "# d[0] = (np.random.normal(size=n_persons * person_emb_size).reshape((n_persons, person_emb_size)) * 1e-10).astype('float32')"
   ]
  },
  {
   "cell_type": "code",
   "execution_count": 27,
   "metadata": {
    "collapsed": false
   },
   "outputs": [],
   "source": [
    "import pickle\n",
    "with open(\"generator_ent_weights.pkl\", 'rb') as f:\n",
    "    d1 = pickle.load(f)"
   ]
  },
  {
   "cell_type": "code",
   "execution_count": 28,
   "metadata": {
    "collapsed": false
   },
   "outputs": [],
   "source": [
    "gen_params = get_all_params(generator.recurrence)\n",
    "for i in range(1, 16):\n",
    "    gen_params[i].set_value(d1[i - 1])\n",
    "gen_params[0].set_value(d1[15])\n",
    "i = 16\n",
    "for param in gen_params[16:]:\n",
    "    if param.get_value().shape == d1[i].shape:\n",
    "        param.set_value(d1[i])\n",
    "        i += 1"
   ]
  },
  {
   "cell_type": "code",
   "execution_count": 29,
   "metadata": {
    "collapsed": false
   },
   "outputs": [
    {
     "name": "stdout",
     "output_type": "stream",
     "text": [
      "my name is harry and i ' m the president ' s old pal , but i ' m sure\n",
      "my name is dan snyder . i ' m a very special little boy .\n",
      "my name is dr . biber .\n",
      "my name is dr . biber .\n",
      "my name is dr . biber .\n"
     ]
    }
   ],
   "source": [
    "temperature.set_value(np.float32(0.5))\n",
    "for i in range(5):\n",
    "    print(generator.reply([\"Hello!\", \"Hello\", \"What is your name ?\"], 2484))\n",
    "    \n",
    "temperature.set_value(np.float32(1))"
   ]
  },
  {
   "cell_type": "code",
   "execution_count": 30,
   "metadata": {
    "collapsed": false
   },
   "outputs": [],
   "source": [
    "emb_weights = d1[0]"
   ]
  },
  {
   "cell_type": "code",
   "execution_count": 31,
   "metadata": {
    "collapsed": false
   },
   "outputs": [
    {
     "data": {
      "text/plain": [
       "(36071, 512)"
      ]
     },
     "execution_count": 31,
     "metadata": {},
     "output_type": "execute_result"
    }
   ],
   "source": [
    "emb_weights.shape"
   ]
  },
  {
   "cell_type": "code",
   "execution_count": 33,
   "metadata": {
    "collapsed": false
   },
   "outputs": [],
   "source": [
    "from custom_layers import SrcTrgToMatrixLayer\n",
    "from lasagne.nonlinearities import *\n",
    "\n",
    "class conv_discriminator:\n",
    "#     questions_var = T.imatrix(name='questions var')\n",
    "    reference_answers_var = T.imatrix(name='reference answers var')\n",
    "\n",
    "    question = InputLayer((None, 20), name='question')\n",
    "    answer = InputLayer((None, 20), name='answer')\n",
    "\n",
    "    question_emb = EmbeddingLayer(question, emb_weights.shape[0], emb_weights.shape[1], W=emb_weights)\n",
    "    answer_emb = EmbeddingLayer(answer, emb_weights.shape[0], emb_weights.shape[1], W=emb_weights)\n",
    "\n",
    "    cnn_input = SrcTrgToMatrixLayer(question_emb, answer_emb)\n",
    "\n",
    "    nn = Conv2DLayer(cnn_input, 20, (3, 3), nonlinearity=None)\n",
    "    nn = Pool2DLayer(nn, (2, 2))\n",
    "    nn = Conv2DLayer(nn, 20, (3, 3), nonlinearity=None)\n",
    "    nn = Pool2DLayer(nn, (2, 2))\n",
    "    \n",
    "    dense = DenseLayer(nn, 20, nonlinearity=None)\n",
    "    l_prob = DenseLayer(dense, 2, nonlinearity=softmax)\n",
    "    \n",
    "    #dense_q = DenseLayer(nn, LATENT_SIZE * 2, nonlinearity=None)\n",
    "    #dense_q = ReshapeLayer(dense_q, (LATENT_SIZE, 2), nonlinearity=softmax)\n",
    "    l_Q = DenseLayer(nn, LATENT_SIZE, nonlinearity=softmax)\n",
    "\n",
    "    \n",
    "    output_on_fake, q_out = get_output([l_prob, l_Q], {question: encoder.input_phrase, answer: generator.out})\n",
    "    #q_probs = q_out[:, :, 1]\n",
    "    q_entropy = (latent_c * T.log(q_out)).sum(axis=-1).mean()\n",
    "\n",
    "    info_approximation = q_entropy                              \n",
    "    output_on_greedy_fake = get_output(l_prob, {question: encoder.input_phrase, answer: generator.greedy_out})\n",
    "    output_on_real = get_output(l_prob, {question: encoder.input_phrase, answer: reference_answers_var})\n",
    "    \n",
    "    loss = -T.log(output_on_fake[:, 0]).sum() - T.log(output_on_real[:, 1]).sum() - 0.001 * info_approximation\n",
    "\n",
    "    weights = get_all_params(l_prob, trainable=True) + get_all_params(l_Q, trainable=True)\n",
    "    weights.remove(question_emb.W)\n",
    "    weights.remove(answer_emb.W)\n",
    "\n",
    "    updates = generator.auto_updates + lasagne.updates.adam(loss, weights, learning_rate=0.0001) \n",
    "    \n",
    "    train_step = theano.function([encoder.input_phrase, reference_answers_var, person_id_var, generator.n_steps, latent_c], \n",
    "                                 [loss, info_approximation], \n",
    "                                 updates=updates,\n",
    "                                allow_input_downcast=True)"
   ]
  },
  {
   "cell_type": "code",
   "execution_count": 71,
   "metadata": {
    "collapsed": true
   },
   "outputs": [],
   "source": [
    "get_discr_out_on_fake = theano.function([encoder.input_phrase, person_id_var, generator.n_steps],\n",
    "                                        conv_discriminator.output_on_fake[:, 1], updates=generator.auto_updates,\n",
    "                                        allow_input_downcast=True)\n",
    "\n",
    "get_discr_out_on_real = theano.function([encoder.input_phrase, conv_discriminator.reference_answers_var], \n",
    "                                        conv_discriminator.output_on_real[:, 1],\n",
    "                                        allow_input_downcast=True)"
   ]
  },
  {
   "cell_type": "code",
   "execution_count": 61,
   "metadata": {
    "collapsed": false
   },
   "outputs": [],
   "source": [
    "from agentnet.utils.persistence import save, load\n",
    "save(conv_discriminator.l_prob, 'conv_infoent_discr_l_prob.pkl')"
   ]
  },
  {
   "cell_type": "code",
   "execution_count": 62,
   "metadata": {
    "collapsed": false
   },
   "outputs": [],
   "source": [
    "save(conv_discriminator.l_Q, 'conv_infoent_discr_l_Q.pkl')"
   ]
  },
  {
   "cell_type": "code",
   "execution_count": 36,
   "metadata": {
    "collapsed": false
   },
   "outputs": [],
   "source": [
    "test_discr_fn = theano.function([encoder.input_phrase, person_id_var, generator.n_steps], \n",
    "                                [generator.out, conv_discriminator.output_on_fake], updates=generator.auto_updates,\n",
    "                               allow_input_downcast=True)"
   ]
  },
  {
   "cell_type": "code",
   "execution_count": 49,
   "metadata": {
    "collapsed": false
   },
   "outputs": [],
   "source": [
    "class trainer:\n",
    "    reference_answers = T.imatrix(\"decoder reference answers\")\n",
    "    \n",
    "    bos_column = T.zeros((reference_answers.shape[0], 1), 'int32') + BOS_ix\n",
    "    reference_answers_bos = T.concatenate((bos_column, reference_answers), axis=1)  #prepend BOS\n",
    "        \n",
    "    l_ref = InputLayer((None, None), reference_answers_bos, name='context input')\n",
    "    l_ref_mask = InputLayer((None,None), T.neq(reference_answers_bos, PAD_ix), 'context mask')\n",
    "\n",
    "    recurrence = Recurrence(input_sequences={decoder.inp_word:l_ref},\n",
    "                           input_nonsequences={decoder.encoder_lstm:encoder.output,\n",
    "                                               decoder.person_emb:l_person_emb},\n",
    "                           state_variables={decoder.new_cell:decoder.prev_cell,\n",
    "                                            decoder.new_out:decoder.prev_out,},\n",
    "                           tracked_outputs=[decoder.next_word_probs],\n",
    "                           mask_input=l_ref_mask,\n",
    "                           unroll_scan=False,)\n",
    "    \n",
    "    \n",
    "    P_seq = get_output(recurrence[decoder.next_word_probs])\n",
    "    #V_seq = whateveryouadded\n",
    "    \n",
    "    ############################\n",
    "    ###loglikelihood training###\n",
    "    ############################\n",
    "    predicted_probas = P_seq[:, :-1].reshape((-1, n_tokens)) + 1e-6\n",
    "    target_values = reference_answers.ravel()\n",
    "\n",
    "    llh = lasagne.objectives.categorical_crossentropy(predicted_probas, target_values)\n",
    "    llh_loss = llh.mean()\n",
    "    llh_updates = lasagne.updates.adam(llh_loss, generator.weights, 0.001)\n",
    "\n",
    "    train_llh_step = theano.function([encoder.input_phrase, person_id_var, reference_answers],\n",
    "                                     llh_loss, updates=llh_updates, allow_input_downcast=True)\n",
    "    get_llh = theano.function([encoder.input_phrase, person_id_var, reference_answers], llh_loss,\n",
    "                             allow_input_downcast=True)\n",
    "    "
   ]
  },
  {
   "cell_type": "code",
   "execution_count": null,
   "metadata": {
    "collapsed": true
   },
   "outputs": [],
   "source": []
  },
  {
   "cell_type": "code",
   "execution_count": 37,
   "metadata": {
    "collapsed": true
   },
   "outputs": [],
   "source": [
    "def plot_smoothed(x, n=10):\n",
    "    smoothed_x = [np.mean(x[i-n:i]) for i in range(n, len(x))]\n",
    "    plt.plot(smoothed_x)"
   ]
  },
  {
   "cell_type": "code",
   "execution_count": 37,
   "metadata": {
    "collapsed": true
   },
   "outputs": [],
   "source": [
    "pretrain_discr_loss = []"
   ]
  },
  {
   "cell_type": "code",
   "execution_count": 38,
   "metadata": {
    "collapsed": true
   },
   "outputs": [],
   "source": [
    "pretrain_latent_gen = []"
   ]
  },
  {
   "cell_type": "code",
   "execution_count": 39,
   "metadata": {
    "collapsed": true
   },
   "outputs": [],
   "source": [
    "infolosses = []"
   ]
  },
  {
   "cell_type": "code",
   "execution_count": 99,
   "metadata": {
    "collapsed": false
   },
   "outputs": [
    {
     "data": {
      "text/plain": [
       "0.002415594976401036"
      ]
     },
     "execution_count": 99,
     "metadata": {},
     "output_type": "execute_result"
    }
   ],
   "source": [
    "2.73 ** -6."
   ]
  },
  {
   "cell_type": "code",
   "execution_count": 40,
   "metadata": {
    "collapsed": false
   },
   "outputs": [
    {
     "name": "stderr",
     "output_type": "stream",
     "text": [
      "/anaconda2/lib/python2.7/site-packages/ipykernel/__main__.py:10: FutureWarning: comparison to `None` will result in an elementwise object comparison in the future.\n"
     ]
    },
    {
     "name": "stdout",
     "output_type": "stream",
     "text": [
      "51.33558 -8.07154\n",
      "48.27124 -8.06815\n",
      "47.90277 -8.05942\n",
      "46.26079 -8.06295\n",
      "45.94870 -8.05252\n",
      "44.54993 -8.03546\n",
      "43.29191 -8.07861\n",
      "43.50407 -8.03985\n",
      "42.57881 -8.01925\n",
      "42.49622 -8.04096\n",
      "40.92238 -8.04824\n",
      "38.74004 -8.04672\n",
      "40.17352 -8.04155\n",
      "37.20708 -8.01773\n",
      "37.72484 -8.04177\n",
      "35.93889 -8.03603\n",
      "36.21176 -8.02493\n",
      "35.76099 -8.02646\n",
      "34.16207 -8.05278\n",
      "32.66802 -8.00296\n",
      "33.62802 -8.00822\n",
      "32.24629 -8.02215\n",
      "34.05779 -8.01364\n",
      "31.77098 -8.03592\n",
      "31.86721 -8.04650\n",
      "24.94081 -8.02475\n",
      "32.85449 -8.02077\n",
      "25.30106 -8.01766\n",
      "28.92288 -7.99068\n",
      "24.86328 -8.00241\n",
      "28.81413 -7.98713\n",
      "28.63487 -7.99489\n",
      "32.33042 -7.94362\n",
      "27.50740 -8.00305\n",
      "28.97284 -7.95000\n",
      "30.56905 -7.99693\n",
      "26.86299 -7.98297\n",
      "27.88584 -8.00121\n",
      "26.63042 -8.01051\n",
      "24.10823 -7.96388\n",
      "28.08673 -7.95902\n",
      "28.53225 -7.99655\n",
      "26.71026 -8.00650\n",
      "29.28932 -8.02359\n",
      "33.88100 -7.95676\n",
      "30.54907 -7.97613\n",
      "31.60169 -7.96014\n",
      "29.34288 -7.95254\n",
      "21.61700 -7.92179\n",
      "25.48066 -7.96908\n",
      "27.05620 -7.95920\n",
      "22.52760 -7.92384\n",
      "31.94356 -7.93392\n",
      "27.69799 -7.92234\n",
      "30.20638 -7.88975\n",
      "24.85527 -7.90882\n",
      "28.03900 -7.89911\n",
      "22.86757 -7.92396\n",
      "25.23524 -7.89617\n",
      "26.99964 -7.90521\n",
      "20.98900 -7.87448\n",
      "25.50068 -7.90775\n",
      "24.87933 -7.81916\n",
      "27.65377 -7.89142\n",
      "32.63140 -7.87295\n",
      "21.14476 -7.87658\n",
      "23.81984 -7.93050\n",
      "25.55281 -7.91541\n",
      "28.34820 -7.82662\n",
      "29.32523 -7.86483\n",
      "24.51752 -7.86038\n",
      "24.19742 -7.86457\n",
      "27.45624 -7.86613\n",
      "27.14224 -7.92108\n",
      "23.31093 -7.85292\n",
      "25.40102 -7.86551\n",
      "21.75078 -7.75839\n",
      "22.20937 -7.94842\n",
      "16.91100 -7.92342\n",
      "23.86492 -7.78681\n",
      "29.17999 -7.82163\n",
      "24.51889 -7.79422\n",
      "30.17919 -7.84564\n",
      "18.81002 -7.75013\n",
      "27.80668 -7.82974\n",
      "27.44977 -7.82491\n",
      "31.98338 -7.78717\n",
      "25.49437 -7.77141\n",
      "26.52612 -7.80877\n",
      "30.29405 -7.80522\n",
      "25.69864 -7.85611\n",
      "32.88470 -7.71067\n",
      "19.34282 -7.67477\n",
      "21.78362 -7.75539\n",
      "27.15432 -7.73732\n",
      "19.06097 -7.78984\n",
      "24.60770 -7.77945\n",
      "25.16479 -7.79051\n",
      "28.58893 -7.78755\n",
      "23.58038 -7.72073\n",
      "20.91527 -7.70935\n",
      "28.40716 -7.76381\n",
      "23.23484 -7.69203\n",
      "20.58082 -7.73341\n",
      "22.96831 -7.71471\n",
      "26.78247 -7.68233\n",
      "26.14906 -7.74389\n",
      "24.84685 -7.67431\n",
      "28.90200 -7.80609\n",
      "24.23349 -7.72031\n",
      "25.25399 -7.69728\n",
      "20.16282 -7.72932\n",
      "21.66006 -7.74347\n",
      "22.93086 -7.65893\n",
      "21.92236 -7.73157\n",
      "25.67070 -7.62594\n",
      "28.46608 -7.73301\n",
      "28.52153 -7.68621\n",
      "14.94121 -7.69662\n",
      "21.17324 -7.61564\n",
      "21.82337 -7.62789\n",
      "21.50471 -7.63346\n",
      "23.22347 -7.59799\n",
      "21.78618 -7.62585\n",
      "19.15036 -7.64733\n",
      "26.84563 -7.64829\n",
      "17.69825 -7.64387\n",
      "17.24138 -7.62073\n",
      "23.80803 -7.61727\n",
      "19.72130 -7.65104\n",
      "15.08135 -7.58264\n",
      "20.25819 -7.65213\n",
      "22.16962 -7.64664\n",
      "21.80752 -7.55205\n",
      "24.93750 -7.62307\n",
      "23.02571 -7.53991\n",
      "20.45975 -7.53885\n",
      "30.84084 -7.52296\n",
      "22.26003 -7.55562\n",
      "26.87349 -7.55907\n",
      "17.15590 -7.43199\n",
      "19.99424 -7.50744\n",
      "18.27721 -7.57910\n",
      "19.16209 -7.61730\n",
      "21.38841 -7.48093\n",
      "20.22859 -7.59573\n",
      "20.45347 -7.62608\n",
      "20.48329 -7.67044\n",
      "21.67002 -7.46336\n",
      "23.74825 -7.57644\n",
      "19.13172 -7.62494\n",
      "22.15489 -7.39449\n",
      "20.93013 -7.38051\n",
      "20.07787 -7.55030\n",
      "20.85361 -7.52954\n",
      "20.40188 -7.51584\n",
      "19.52086 -7.41991\n",
      "14.57641 -7.58945\n",
      "25.39208 -7.57304\n",
      "20.08236 -7.53973\n",
      "19.05793 -7.44601\n",
      "18.07630 -7.30566\n",
      "20.41800 -7.42090\n",
      "19.38641 -7.48372\n",
      "20.63840 -7.30690\n",
      "22.07001 -7.35951\n",
      "14.93567 -7.39177\n",
      "18.63536 -7.38035\n",
      "24.87342 -7.41971\n",
      "27.20328 -7.55333\n",
      "17.34034 -7.48555\n",
      "17.00520 -7.58013\n",
      "17.46145 -7.35692\n",
      "20.89540 -7.44928\n",
      "17.98142 -7.37729\n",
      "19.91921 -7.36156\n",
      "18.20537 -7.33217\n",
      "17.59826 -7.35180\n",
      "25.04553 -7.40274\n",
      "19.50753 -7.52163\n",
      "17.74977 -7.55722\n",
      "22.30207 -7.38041\n",
      "21.81570 -7.42447\n",
      "25.62039 -7.27196\n",
      "21.03259 -7.54497\n",
      "19.44883 -7.37045\n",
      "16.49119 -7.31185\n",
      "26.47741 -7.32827\n",
      "12.27321 -7.32252\n",
      "25.26573 -7.36135\n",
      "22.00291 -7.35118\n",
      "20.09934 -7.41122\n",
      "19.07169 -7.40105\n",
      "21.73857 -7.25425\n",
      "20.70552 -7.19456\n",
      "15.99444 -7.16200\n",
      "18.15100 -7.28574\n",
      "12.64590 -7.38913\n",
      "16.05920 -7.27960\n",
      "24.26524 -7.20520\n",
      "18.81799 -7.32235\n",
      "32.15903 -7.34115\n",
      "20.61334 -7.48611\n",
      "21.76354 -7.23704\n",
      "21.37092 -7.23369\n",
      "22.18620 -7.22537\n",
      "17.78546 -7.10909\n",
      "19.89061 -7.32681\n",
      "24.69669 -7.23665\n",
      "19.18846 -7.25302\n",
      "20.48563 -7.36222\n",
      "24.22639 -7.34420\n",
      "18.56297 -7.40094\n",
      "22.79480 -7.32354\n",
      "17.27943 -7.15413\n",
      "15.85147 -7.14525\n",
      "27.33978 -7.16987\n",
      "22.78214 -7.32905\n",
      "15.75540 -6.92551\n",
      "18.48060 -7.19264\n",
      "17.50146 -7.19166\n",
      "16.01102 -7.43883\n",
      "23.67608 -7.17492\n",
      "21.83199 -7.10570\n",
      "17.59924 -7.20069\n",
      "22.86183 -7.35051\n",
      "23.02835 -7.28019\n",
      "26.61268 -7.31666\n",
      "21.22646 -7.10808\n",
      "17.13894 -7.21322\n",
      "17.24753 -7.17129\n",
      "19.23873 -7.25609\n",
      "15.63072 -7.41079\n",
      "27.77022 -7.18593\n",
      "17.80684 -7.04745\n",
      "17.53617 -7.26346\n",
      "19.73992 -7.22804\n",
      "17.67792 -7.00297\n",
      "25.34816 -7.27829\n",
      "33.18449 -7.12827\n",
      "18.00982 -7.26550\n",
      "22.31893 -7.31867\n",
      "14.46068 -7.25257\n",
      "27.73500 -7.42415\n",
      "17.23683 -7.06705\n",
      "20.19441 -6.92738\n",
      "16.39361 -7.30504\n",
      "21.59415 -7.32904\n",
      "21.59698 -7.07391\n",
      "26.01673 -7.14849\n",
      "18.10620 -7.17966\n",
      "26.59569 -7.29174\n",
      "18.75576 -7.12483\n",
      "20.93642 -7.12460\n",
      "24.84681 -7.04184\n",
      "16.58303 -7.18693\n",
      "25.34974 -7.24611\n",
      "18.70343 -7.09456\n",
      "20.89622 -7.17469\n",
      "22.29369 -6.98521\n",
      "18.47328 -6.95415\n",
      "20.33951 -7.12790\n",
      "13.47497 -7.09820\n",
      "17.05867 -7.08030\n",
      "17.92616 -6.87868\n",
      "21.62954 -7.18931\n",
      "21.03526 -7.08720\n",
      "19.58766 -7.23488\n",
      "15.81627 -7.03624\n",
      "20.24537 -7.28823\n",
      "20.72878 -6.98782\n",
      "21.16394 -6.95274\n",
      "21.26407 -7.41468\n",
      "12.71095 -6.93697\n",
      "16.52068 -7.09880\n",
      "18.16648 -7.31957\n",
      "18.42300 -7.04764\n",
      "20.59490 -6.96863\n",
      "19.46135 -7.06680\n",
      "24.27190 -7.03847\n",
      "22.17612 -7.16243\n",
      "14.22921 -6.92509\n",
      "23.31081 -7.07114\n",
      "19.29214 -7.04655\n",
      "20.72937 -7.20466\n",
      "23.17951 -6.92948\n",
      "13.26465 -6.92463\n",
      "22.00754 -6.82812\n",
      "19.51317 -6.53414\n",
      "15.58799 -7.02843\n",
      "18.69834 -7.04154\n",
      "21.52226 -6.90136\n",
      "20.80907 -7.33783\n",
      "19.32947 -6.69891\n",
      "19.13305 -6.74669\n",
      "20.57770 -7.04043\n",
      "19.27198 -7.10729\n",
      "15.84997 -6.76546\n",
      "16.17461 -6.97189\n",
      "20.38200 -7.04151\n",
      "18.58789 -7.10192\n",
      "17.07312 -6.60258\n",
      "16.30962 -6.97810\n",
      "18.07731 -6.70557\n",
      "13.49547 -7.14528\n",
      "18.88084 -6.94652\n",
      "13.63342 -7.02272\n",
      "22.02580 -7.11655\n",
      "19.28038 -6.77305\n",
      "16.99594 -6.94978\n",
      "28.53767 -7.26520\n",
      "26.44844 -6.94004\n",
      "26.17827 -6.79700\n",
      "14.20499 -6.86229\n",
      "18.32286 -6.54361\n",
      "19.63168 -6.90381\n",
      "23.08948 -6.88061\n",
      "18.53603 -6.81643\n",
      "20.03814 -6.90336\n",
      "27.57651 -7.09102\n",
      "20.94843 -6.99887\n",
      "16.70857 -6.87741\n",
      "25.10877 -6.91371\n",
      "10.52127 -6.98712\n",
      "18.70761 -6.85149\n",
      "12.46610 -6.69558\n",
      "19.22142 -6.76518\n",
      "17.40986 -6.79626\n",
      "17.34677 -6.96572\n",
      "24.44481 -6.98055\n",
      "10.77637 -6.59720\n",
      "14.57397 -6.96900\n",
      "12.98517 -6.92487\n",
      "20.95602 -6.94648\n",
      "15.56920 -6.42903\n",
      "22.60252 -6.94613\n",
      "18.79225 -6.78747\n",
      "17.61051 -6.62225\n",
      "9.80159 -6.56503\n",
      "21.91483 -6.64711\n",
      "15.88044 -6.87634\n",
      "17.78596 -6.87473\n",
      "18.19311 -6.79132\n",
      "13.90326 -7.05665\n",
      "14.82399 -6.90767\n",
      "18.22406 -6.87669\n",
      "17.55111 -6.71116\n",
      "17.00697 -6.74477\n",
      "16.58569 -6.69728\n",
      "16.48117 -6.83291\n",
      "18.56217 -7.03566\n",
      "15.28393 -6.72665\n",
      "17.11539 -7.08244\n",
      "16.21683 -6.91209\n",
      "20.90274 -7.00397\n",
      "16.25594 -6.82433\n",
      "21.51696 -7.06880\n",
      "18.36601 -6.47690\n",
      "13.93425 -7.04940\n",
      "17.68270 -6.74262\n",
      "22.02347 -6.60000\n",
      "15.47631 -6.48473\n",
      "11.98863 -6.73027\n",
      "17.76536 -7.12856\n",
      "23.86245 -6.85250\n",
      "22.40717 -6.86803\n",
      "15.15073 -6.96921\n",
      "16.69776 -7.01696\n",
      "18.24981 -7.04535\n",
      "19.30526 -7.13313\n",
      "17.82702 -6.87970\n",
      "16.80397 -6.34985\n",
      "17.78198 -6.85110\n",
      "21.86831 -6.67416\n",
      "19.67817 -6.68803\n",
      "27.32925 -6.79461\n",
      "18.64457 -6.86427\n",
      "18.16831 -6.67638\n",
      "18.97190 -6.55281\n",
      "21.29638 -6.54009\n",
      "18.78562 -6.68785\n",
      "12.42810 -6.56924\n",
      "20.22531 -6.87957\n",
      "21.86048 -7.12479\n",
      "11.35223 -6.45666\n",
      "19.66761 -6.79467\n",
      "14.29377 -6.56648\n",
      "14.87029 -6.75258\n",
      "13.29271 -6.67031\n",
      "21.98450 -6.83533\n",
      "15.91252 -6.55372\n",
      "18.93476 -6.27137\n",
      "17.85406 -6.75583\n",
      "15.79090 -6.82501\n",
      "9.51385 -6.24218\n",
      "21.68529 -6.66191\n",
      "16.55837 -6.33482\n",
      "22.42697 -6.86368\n",
      "20.64921 -6.62264\n",
      "16.22409 -6.41907\n",
      "10.71173 -6.66615\n",
      "15.80824 -6.76965\n",
      "13.33967 -6.61152\n",
      "18.01363 -6.93294\n",
      "15.54880 -6.65527\n",
      "13.13324 -6.08831\n",
      "18.00688 -6.54142\n",
      "17.91575 -6.23382\n",
      "15.20216 -6.64043\n",
      "18.82949 -6.21547\n",
      "21.20751 -6.42854\n",
      "17.70903 -6.80758\n",
      "15.36371 -6.45517\n",
      "16.32839 -6.44321\n",
      "13.97928 -6.57632\n",
      "11.48699 -6.24286\n",
      "19.45609 -6.67558\n",
      "14.69972 -6.76890\n",
      "19.11704 -6.34793\n",
      "19.03782 -6.63382\n",
      "19.61737 -6.54458\n",
      "13.98969 -6.45181\n",
      "20.44716 -6.40434\n",
      "14.24114 -5.96184\n",
      "15.48168 -5.92634\n",
      "17.37918 -6.57118\n",
      "20.76194 -6.75303\n",
      "17.79070 -6.30493\n",
      "16.72685 -6.42499\n",
      "23.19365 -6.55860\n",
      "22.11439 -6.29056\n",
      "21.33569 -6.31547\n",
      "14.40526 -5.83731\n",
      "19.16152 -6.64814\n",
      "14.25987 -6.08201\n",
      "18.43299 -6.34232\n",
      "16.26913 -6.38665\n",
      "21.26606 -6.60947\n",
      "16.60344 -6.56768\n",
      "14.97713 -6.42888\n",
      "23.74274 -6.83158\n",
      "17.93765 -6.67516\n",
      "19.07062 -6.50238\n",
      "16.67701 -6.72670\n",
      "16.17141 -6.54050\n",
      "15.75864 -6.13137\n",
      "14.16878 -6.48184\n",
      "11.50842 -6.05525\n",
      "19.27105 -6.76030\n",
      "8.46847 -5.85129\n",
      "15.60229 -6.53181\n",
      "14.14688 -5.95363\n",
      "17.98486 -6.46878\n",
      "16.19133 -6.82132\n",
      "16.09719 -6.28366\n",
      "15.34366 -6.29775\n",
      "13.27559 -6.40429\n",
      "6.70439 -6.54331\n",
      "22.43035 -6.56508\n",
      "15.33634 -6.13190\n",
      "15.33056 -6.08079\n",
      "12.52689 -6.40742\n",
      "17.94244 -6.33609\n",
      "15.95894 -6.24798\n",
      "19.40630 -6.07724\n",
      "14.66162 -6.60744\n",
      "17.98261 -6.41126\n",
      "11.21456 -6.42340\n",
      "15.19609 -6.27324\n",
      "12.24686 -6.31714\n",
      "17.86578 -6.08480\n",
      "20.35791 -6.31759\n",
      "17.30080 -6.00722\n",
      "14.92832 -6.52490\n",
      "11.56034 -6.37373\n",
      "23.43573 -6.00281\n",
      "18.69877 -6.64103\n",
      "13.29640 -6.20848\n",
      "17.83169 -6.28771\n",
      "15.74261 -6.79281\n",
      "15.00890 -6.14525\n",
      "15.73786 -6.48314\n",
      "20.04888 -6.03938\n",
      "17.32661 -5.97652\n",
      "17.90315 -6.36340\n",
      "14.32559 -6.24512\n",
      "10.45151 -6.54248\n",
      "19.05322 -6.25507\n",
      "13.94293 -6.38417\n",
      "24.74430 -6.01046\n",
      "19.32669 -6.06443\n",
      "15.12200 -6.23472\n",
      "14.45125 -6.28316\n",
      "14.01978 -6.61318\n",
      "14.44700 -6.06278\n",
      "20.36491 -6.53071\n",
      "15.13149 -6.36708\n",
      "15.48855 -5.84738\n",
      "19.93383 -6.56094\n",
      "13.27980 -6.12657\n",
      "23.56699 -6.16965\n",
      "16.96139 -5.95104\n",
      "11.94312 -6.03648\n",
      "14.08621 -6.38116\n",
      "12.22771 -5.97576\n",
      "11.52395 -6.58173\n",
      "18.45177 -6.39096\n",
      "9.30434 -5.91765\n",
      "16.91939 -6.30922\n",
      "13.70620 -6.16816\n",
      "18.80218 -6.18704\n",
      "18.37066 -6.20117\n",
      "28.34292 -6.66697\n",
      "20.37763 -6.54593\n",
      "24.30259 -6.55361\n",
      "18.05022 -6.12386\n",
      "18.29287 -6.02203\n",
      "29.06056 -6.54791\n",
      "12.21366 -6.04139\n",
      "22.45188 -6.23758\n",
      "14.16459 -6.65066\n",
      "20.79399 -6.36142\n",
      "18.64130 -6.47148\n",
      "15.90426 -6.04987\n",
      "20.26466 -6.39642\n",
      "17.29181 -6.37044\n",
      "14.03412 -5.92919\n",
      "18.71390 -6.44336\n",
      "16.72651 -5.95956\n",
      "18.03020 -6.59065\n",
      "18.37040 -5.71290\n",
      "12.20778 -5.94427\n",
      "18.08060 -5.92052\n",
      "21.03720 -6.50639\n",
      "15.83659 -5.85457\n",
      "16.29068 -6.24945\n",
      "12.65223 -6.43255\n",
      "20.81336 -6.15773\n",
      "17.15121 -6.31130\n",
      "12.49500 -6.68102\n",
      "16.79269 -6.15490\n",
      "18.83481 -5.89221\n",
      "15.14721 -6.30951\n",
      "13.31550 -5.95105\n",
      "14.82280 -6.35861\n",
      "17.25782 -6.10075\n",
      "16.34700 -5.80379\n",
      "14.04213 -6.82671\n",
      "22.64049 -6.13062\n",
      "14.60091 -6.36535\n",
      "21.66423 -6.04373\n",
      "17.57628 -5.95160\n",
      "19.88036 -6.51196\n",
      "12.27644 -6.17760\n",
      "21.67458 -5.96253\n",
      "12.31672 -6.30104\n",
      "14.44136 -6.25475\n",
      "13.84541 -6.01304\n",
      "19.15141 -5.92674\n",
      "14.00993 -6.03555\n",
      "19.78010 -6.09711\n",
      "19.36640 -5.98512\n",
      "17.71905 -5.82209\n",
      "18.18172 -5.88774\n",
      "17.88319 -6.17167\n",
      "23.09579 -6.16928\n",
      "14.70738 -5.81570\n",
      "15.40617 -5.99035\n",
      "15.14238 -6.29281\n",
      "23.85585 -6.32636\n",
      "17.56118 -5.88903\n",
      "15.85890 -5.52917\n",
      "19.50349 -5.91731\n",
      "16.03319 -5.81925\n",
      "14.40473 -6.18573\n",
      "14.13160 -6.64809\n",
      "10.72836 -6.68769\n",
      "17.78884 -5.56312\n",
      "12.40646 -6.01704\n",
      "21.67607 -6.15178\n",
      "12.35902 -6.35165\n",
      "19.27132 -6.49626\n",
      "15.40319 -6.02077\n",
      "23.63608 -5.72984\n",
      "11.00372 -5.78795\n",
      "19.72094 -6.64999\n",
      "13.57012 -5.58816\n",
      "10.77423 -6.38474\n",
      "18.33321 -5.94124\n",
      "13.95934 -6.19936\n",
      "14.99756 -6.39548\n",
      "14.44583 -5.94482\n",
      "13.17973 -6.70829\n",
      "13.40316 -6.21104\n",
      "15.31011 -6.11147\n",
      "12.50207 -5.76513\n",
      "19.17050 -5.92628\n",
      "22.78566 -5.95100\n",
      "12.54457 -6.33550\n",
      "12.62187 -5.69901\n",
      "14.69284 -6.48801\n",
      "12.73497 -6.04980\n",
      "16.64035 -6.06526\n",
      "12.00517 -5.86120\n",
      "17.21973 -6.43968\n",
      "18.61642 -5.58751\n",
      "15.43736 -5.58590\n",
      "15.97278 -6.92325\n",
      "12.51564 -6.15588\n",
      "13.59269 -5.85406\n",
      "14.34725 -6.12389\n",
      "17.38048 -6.56096\n",
      "12.30515 -6.40506\n",
      "14.71114 -5.82452\n",
      "16.87296 -5.33281\n",
      "19.58867 -6.29450\n",
      "13.79671 -5.97259\n",
      "12.56969 -6.31425\n",
      "12.50862 -5.90979\n",
      "16.14943 -6.75318\n",
      "16.52396 -5.85839\n",
      "18.52561 -5.99731\n",
      "17.25998 -6.09984\n",
      "20.15853 -5.95406\n",
      "20.83965 -6.03376\n",
      "15.15193 -6.07332\n",
      "11.71517 -6.20106\n",
      "9.83031 -5.91762\n",
      "11.35912 -5.42340\n",
      "17.58175 -6.05625\n",
      "15.91717 -6.28566\n",
      "15.89872 -5.50523\n",
      "8.01789 -5.76323\n",
      "15.91512 -6.32770\n",
      "23.12424 -5.92658\n",
      "17.19596 -5.42509\n",
      "17.33596 -6.39534\n",
      "23.48569 -5.90339\n",
      "11.15275 -5.44182\n",
      "19.23025 -6.03782\n",
      "9.51573 -6.39367\n",
      "14.27841 -6.66861\n",
      "11.59061 -6.19983\n",
      "14.16063 -5.90783\n",
      "16.30184 -6.06913\n",
      "20.49909 -6.02559\n",
      "13.56198 -6.07592\n",
      "13.06134 -5.58102\n",
      "17.02704 -6.81983\n",
      "16.08851 -5.93694\n",
      "16.88197 -6.00712\n",
      "14.60997 -5.99588\n",
      "18.85927 -6.12046\n",
      "17.84615 -5.63701\n",
      "18.64527 -5.63224\n",
      "15.93196 -5.95744\n",
      "6.06844 -6.46237\n",
      "9.07363 -6.59150\n",
      "21.26453 -5.91356\n",
      "15.27329 -5.75733\n",
      "16.52155 -6.05708\n",
      "10.61367 -5.39474\n",
      "18.48849 -5.83983\n",
      "18.39577 -6.32665\n",
      "10.03580 -6.12173\n",
      "24.09183 -6.01884\n",
      "14.55086 -5.42505\n",
      "12.13419 -6.06956\n",
      "13.59508 -5.71605\n",
      "14.70316 -5.69746\n",
      "13.63144 -5.68870\n",
      "17.00366 -5.90164\n",
      "14.66438 -5.90412\n",
      "14.98438 -5.41993\n",
      "13.62670 -5.89621\n",
      "21.55193 -6.19609\n",
      "15.41301 -5.41805\n",
      "15.32634 -5.84989\n",
      "10.71954 -5.85199\n",
      "16.76482 -6.05213\n",
      "17.29495 -5.79911\n",
      "18.39134 -5.65127\n",
      "12.72757 -5.85072\n",
      "15.31089 -6.05104\n",
      "13.03705 -6.20893\n",
      "13.51927 -5.77044\n",
      "17.28560 -6.80037\n",
      "18.06877 -6.15994\n",
      "11.54117 -6.03892\n",
      "19.34498 -5.54289\n",
      "16.64371 -6.06552\n",
      "12.35551 -5.74125\n",
      "14.96660 -5.93742\n",
      "12.53625 -5.79462\n",
      "9.15856 -5.59908\n",
      "12.30316 -5.74443\n",
      "16.21506 -5.61370\n",
      "15.23902 -6.09857\n",
      "13.27450 -5.62335\n",
      "18.92529 -6.02786\n",
      "12.27248 -5.73276\n",
      "13.38990 -5.52007\n",
      "12.94925 -5.40574\n",
      "16.42081 -6.49990\n",
      "13.02892 -6.13321\n",
      "17.55978 -5.67652\n",
      "15.52959 -6.29191\n",
      "17.39687 -6.11034\n",
      "10.91766 -5.76398\n",
      "19.07837 -6.09972\n",
      "19.12746 -5.80212\n",
      "19.25283 -6.04007\n",
      "12.02591 -5.95502\n",
      "9.67490 -5.15298\n",
      "15.14272 -5.98604\n",
      "17.64268 -6.77653\n",
      "11.80694 -5.46711\n",
      "18.53205 -6.37927\n",
      "15.16213 -6.64464\n",
      "14.84627 -5.72789\n",
      "16.11910 -5.77542\n",
      "16.00174 -5.93323\n",
      "16.31619 -5.80217\n",
      "12.56113 -5.98129\n",
      "11.69107 -6.19739\n",
      "16.00265 -6.05283\n",
      "12.56654 -5.55382\n",
      "15.10150 -5.46435\n",
      "11.81085 -5.83223\n",
      "13.10440 -5.16173\n",
      "16.91113 -6.00443\n",
      "16.87610 -6.03129\n",
      "13.48738 -5.64729\n",
      "15.77282 -5.19883\n",
      "17.54721 -5.49676\n",
      "9.54050 -5.46211\n",
      "20.78965 -6.45389\n",
      "16.14131 -6.39885\n",
      "11.00884 -5.37041\n",
      "18.45127 -6.06114\n",
      "12.60670 -5.79623\n",
      "9.33119 -6.66842\n",
      "11.96675 -5.10275\n",
      "10.72977 -5.12808\n",
      "20.78269 -5.87376\n",
      "10.03383 -5.78549\n",
      "12.77545 -5.84241\n",
      "16.87055 -5.70483\n",
      "11.84570 -6.16768\n",
      "19.33830 -5.25606\n",
      "13.03483 -5.68150\n",
      "21.06147 -5.95961\n",
      "14.10616 -5.59916\n",
      "14.81777 -6.04792\n",
      "11.89538 -5.55808\n",
      "11.71157 -5.90906\n",
      "14.64822 -6.17794\n",
      "9.66366 -5.77271\n",
      "16.02964 -5.71564\n",
      "15.97807 -5.47317\n",
      "11.17792 -6.22859\n",
      "14.52620 -5.16127\n",
      "10.64796 -5.76720\n",
      "16.87127 -6.39620\n",
      "12.64700 -5.53375\n",
      "16.51663 -6.07869\n",
      "12.90937 -5.05566\n",
      "15.19645 -6.33680\n",
      "15.90885 -5.82533\n",
      "11.05490 -5.29095\n",
      "13.19380 -5.56674\n",
      "21.34546 -6.04155\n",
      "10.44985 -6.08062\n",
      "13.27687 -5.44810\n",
      "12.85076 -5.76336\n",
      "16.17386 -6.05700\n",
      "13.03765 -5.15260\n",
      "13.87177 -5.90007\n",
      "22.03223 -6.36444\n",
      "15.87884 -6.05645\n",
      "17.59011 -5.21271\n",
      "12.87630 -5.46055\n",
      "18.96306 -5.52044\n",
      "18.80332 -5.77997\n",
      "12.17902 -6.53060\n",
      "15.01018 -5.89918\n",
      "7.51819 -5.62095\n",
      "16.28113 -6.32008\n",
      "18.39092 -5.93013\n",
      "14.05337 -5.86607\n",
      "18.37920 -5.72598\n",
      "14.52870 -5.65005\n",
      "18.11736 -5.99577\n",
      "13.22600 -5.52771\n",
      "9.45639 -6.37216\n",
      "7.67091 -5.71143\n",
      "18.45448 -5.94759\n",
      "12.71833 -5.92384\n",
      "12.98233 -5.65715\n",
      "12.62560 -6.62412\n",
      "11.49200 -5.81577\n",
      "10.85345 -6.02283\n",
      "15.69811 -6.37664\n",
      "18.12733 -6.11091\n",
      "12.68770 -5.35502\n",
      "13.02799 -4.85670\n",
      "12.64005 -6.68695\n",
      "14.44946 -6.19866\n",
      "18.27376 -6.12454\n",
      "16.30078 -5.53955\n",
      "11.25470 -5.50448\n",
      "11.07340 -6.15246\n",
      "14.21462 -5.61099\n",
      "20.01381 -5.70297\n",
      "11.58568 -6.18476\n",
      "18.87171 -5.95331\n",
      "12.82502 -5.85188\n",
      "12.44844 -5.83301\n",
      "11.35003 -4.79424\n",
      "14.83599 -6.11167\n",
      "13.82005 -5.89947\n",
      "16.61647 -5.50803\n",
      "16.81815 -5.90034\n",
      "13.51340 -6.32213\n",
      "18.15481 -6.41527\n",
      "18.90422 -6.30157\n",
      "18.81973 -5.50437\n",
      "11.37291 -5.58208\n",
      "13.90184 -5.98452\n",
      "15.20443 -5.36208\n",
      "13.68599 -5.91312\n",
      "13.96655 -5.95846\n",
      "20.16477 -5.43508\n",
      "18.28020 -5.84716\n",
      "17.94358 -5.78693\n",
      "14.60255 -5.42208\n",
      "12.91341 -6.39059\n",
      "19.77657 -5.81323\n",
      "16.30972 -5.64865\n",
      "18.80404 -5.32139\n",
      "19.86614 -6.18694\n",
      "14.31615 -5.67886\n",
      "10.36305 -6.02077\n",
      "10.25668 -5.21377\n",
      "17.67995 -6.21362\n",
      "9.42246 -5.81108\n",
      "16.02545 -5.74978\n",
      "7.34852 -6.32197\n",
      "9.58400 -6.21237\n",
      "16.37129 -5.51161\n",
      "11.86982 -6.33870\n",
      "14.25271 -5.84724\n",
      "11.44369 -5.68099\n",
      "14.37506 -5.34742\n",
      "10.80891 -5.83394\n",
      "12.10163 -5.55627\n",
      "12.73616 -6.16885\n",
      "22.55483 -5.68619\n",
      "13.87206 -6.13538\n",
      "10.67473 -5.47103\n",
      "13.46440 -5.89959\n",
      "12.72132 -6.09884\n",
      "13.02918 -5.39247\n",
      "12.52098 -6.14085\n",
      "16.57392 -5.94849\n",
      "9.31006 -5.36843\n",
      "14.50394 -6.05582\n",
      "20.35021 -6.08936\n",
      "15.31439 -4.97743\n",
      "14.76032 -6.00912\n",
      "19.94548 -4.96367\n"
     ]
    },
    {
     "ename": "KeyboardInterrupt",
     "evalue": "",
     "output_type": "error",
     "traceback": [
      "\u001b[0;31m---------------------------------------------------------------------------\u001b[0m",
      "\u001b[0;31mKeyboardInterrupt\u001b[0m                         Traceback (most recent call last)",
      "\u001b[0;32m<ipython-input-40-d4e20c3d9c32>\u001b[0m in \u001b[0;36m<module>\u001b[0;34m()\u001b[0m\n\u001b[1;32m      1\u001b[0m \u001b[0;32mfor\u001b[0m \u001b[0mbx\u001b[0m\u001b[0;34m,\u001b[0m \u001b[0mby\u001b[0m\u001b[0;34m,\u001b[0m \u001b[0mrespondent\u001b[0m \u001b[0;32min\u001b[0m \u001b[0mgenerate_data\u001b[0m\u001b[0;34m(\u001b[0m\u001b[0mdata_rows\u001b[0m\u001b[0;34m,\u001b[0m \u001b[0mspeakers_list\u001b[0m\u001b[0;34m=\u001b[0m\u001b[0mspeakers_list\u001b[0m\u001b[0;34m,\u001b[0m \u001b[0mn_iter\u001b[0m\u001b[0;34m=\u001b[0m\u001b[0;36m10000\u001b[0m\u001b[0;34m,\u001b[0m \u001b[0mmax_len\u001b[0m\u001b[0;34m=\u001b[0m\u001b[0mseq_len\u001b[0m\u001b[0;34m)\u001b[0m\u001b[0;34m:\u001b[0m\u001b[0;34m\u001b[0m\u001b[0m\n\u001b[0;32m----> 2\u001b[0;31m     \u001b[0merr\u001b[0m\u001b[0;34m,\u001b[0m \u001b[0minfoloss\u001b[0m \u001b[0;34m=\u001b[0m \u001b[0mconv_discriminator\u001b[0m\u001b[0;34m.\u001b[0m\u001b[0mtrain_step\u001b[0m\u001b[0;34m(\u001b[0m\u001b[0mbx\u001b[0m\u001b[0;34m,\u001b[0m \u001b[0mby\u001b[0m\u001b[0;34m,\u001b[0m \u001b[0mrespondent\u001b[0m\u001b[0;34m,\u001b[0m \u001b[0;36m20\u001b[0m\u001b[0;34m,\u001b[0m \u001b[0msample_c\u001b[0m\u001b[0;34m(\u001b[0m\u001b[0mrespondent\u001b[0m\u001b[0;34m)\u001b[0m\u001b[0;34m)\u001b[0m\u001b[0;34m\u001b[0m\u001b[0m\n\u001b[0m\u001b[1;32m      3\u001b[0m     \u001b[0;31m#gen_err = trainer.train_llh_step(bx, respondent, by)\u001b[0m\u001b[0;34m\u001b[0m\u001b[0;34m\u001b[0m\u001b[0m\n\u001b[1;32m      4\u001b[0m     \u001b[0mpretrain_discr_loss\u001b[0m\u001b[0;34m.\u001b[0m\u001b[0mappend\u001b[0m\u001b[0;34m(\u001b[0m\u001b[0merr\u001b[0m\u001b[0;34m)\u001b[0m\u001b[0;34m\u001b[0m\u001b[0m\n\u001b[1;32m      5\u001b[0m     \u001b[0minfolosses\u001b[0m\u001b[0;34m.\u001b[0m\u001b[0mappend\u001b[0m\u001b[0;34m(\u001b[0m\u001b[0minfoloss\u001b[0m\u001b[0;34m)\u001b[0m\u001b[0;34m\u001b[0m\u001b[0m\n",
      "\u001b[0;32m/anaconda2/lib/python2.7/site-packages/theano/compile/function_module.pyc\u001b[0m in \u001b[0;36m__call__\u001b[0;34m(self, *args, **kwargs)\u001b[0m\n\u001b[1;32m    882\u001b[0m         \u001b[0;32mtry\u001b[0m\u001b[0;34m:\u001b[0m\u001b[0;34m\u001b[0m\u001b[0m\n\u001b[1;32m    883\u001b[0m             \u001b[0moutputs\u001b[0m \u001b[0;34m=\u001b[0m\u001b[0;31m\\\u001b[0m\u001b[0;34m\u001b[0m\u001b[0m\n\u001b[0;32m--> 884\u001b[0;31m                 \u001b[0mself\u001b[0m\u001b[0;34m.\u001b[0m\u001b[0mfn\u001b[0m\u001b[0;34m(\u001b[0m\u001b[0;34m)\u001b[0m \u001b[0;32mif\u001b[0m \u001b[0moutput_subset\u001b[0m \u001b[0;32mis\u001b[0m \u001b[0mNone\u001b[0m \u001b[0;32melse\u001b[0m\u001b[0;31m\\\u001b[0m\u001b[0;34m\u001b[0m\u001b[0m\n\u001b[0m\u001b[1;32m    885\u001b[0m                 \u001b[0mself\u001b[0m\u001b[0;34m.\u001b[0m\u001b[0mfn\u001b[0m\u001b[0;34m(\u001b[0m\u001b[0moutput_subset\u001b[0m\u001b[0;34m=\u001b[0m\u001b[0moutput_subset\u001b[0m\u001b[0;34m)\u001b[0m\u001b[0;34m\u001b[0m\u001b[0m\n\u001b[1;32m    886\u001b[0m         \u001b[0;32mexcept\u001b[0m \u001b[0mException\u001b[0m\u001b[0;34m:\u001b[0m\u001b[0;34m\u001b[0m\u001b[0m\n",
      "\u001b[0;32m/anaconda2/lib/python2.7/site-packages/theano/gof/op.pyc\u001b[0m in \u001b[0;36mrval\u001b[0;34m(p, i, o, n)\u001b[0m\n\u001b[1;32m    885\u001b[0m         \u001b[0;32mif\u001b[0m \u001b[0mparams\u001b[0m \u001b[0;32mis\u001b[0m \u001b[0mgraph\u001b[0m\u001b[0;34m.\u001b[0m\u001b[0mNoParams\u001b[0m\u001b[0;34m:\u001b[0m\u001b[0;34m\u001b[0m\u001b[0m\n\u001b[1;32m    886\u001b[0m             \u001b[0;31m# default arguments are stored in the closure of `rval`\u001b[0m\u001b[0;34m\u001b[0m\u001b[0;34m\u001b[0m\u001b[0m\n\u001b[0;32m--> 887\u001b[0;31m             \u001b[0;32mdef\u001b[0m \u001b[0mrval\u001b[0m\u001b[0;34m(\u001b[0m\u001b[0mp\u001b[0m\u001b[0;34m=\u001b[0m\u001b[0mp\u001b[0m\u001b[0;34m,\u001b[0m \u001b[0mi\u001b[0m\u001b[0;34m=\u001b[0m\u001b[0mnode_input_storage\u001b[0m\u001b[0;34m,\u001b[0m \u001b[0mo\u001b[0m\u001b[0;34m=\u001b[0m\u001b[0mnode_output_storage\u001b[0m\u001b[0;34m,\u001b[0m \u001b[0mn\u001b[0m\u001b[0;34m=\u001b[0m\u001b[0mnode\u001b[0m\u001b[0;34m)\u001b[0m\u001b[0;34m:\u001b[0m\u001b[0;34m\u001b[0m\u001b[0m\n\u001b[0m\u001b[1;32m    888\u001b[0m                 \u001b[0mr\u001b[0m \u001b[0;34m=\u001b[0m \u001b[0mp\u001b[0m\u001b[0;34m(\u001b[0m\u001b[0mn\u001b[0m\u001b[0;34m,\u001b[0m \u001b[0;34m[\u001b[0m\u001b[0mx\u001b[0m\u001b[0;34m[\u001b[0m\u001b[0;36m0\u001b[0m\u001b[0;34m]\u001b[0m \u001b[0;32mfor\u001b[0m \u001b[0mx\u001b[0m \u001b[0;32min\u001b[0m \u001b[0mi\u001b[0m\u001b[0;34m]\u001b[0m\u001b[0;34m,\u001b[0m \u001b[0mo\u001b[0m\u001b[0;34m)\u001b[0m\u001b[0;34m\u001b[0m\u001b[0m\n\u001b[1;32m    889\u001b[0m                 \u001b[0;32mfor\u001b[0m \u001b[0mo\u001b[0m \u001b[0;32min\u001b[0m \u001b[0mnode\u001b[0m\u001b[0;34m.\u001b[0m\u001b[0moutputs\u001b[0m\u001b[0;34m:\u001b[0m\u001b[0;34m\u001b[0m\u001b[0m\n",
      "\u001b[0;31mKeyboardInterrupt\u001b[0m: "
     ]
    }
   ],
   "source": [
    "for bx, by, respondent in generate_data(data_rows, speakers_list=speakers_list, n_iter=10000, max_len=seq_len):\n",
    "    err, infoloss = conv_discriminator.train_step(bx, by, respondent, 20, sample_c(respondent))\n",
    "    #gen_err = trainer.train_llh_step(bx, respondent, by)\n",
    "    pretrain_discr_loss.append(err)\n",
    "    infolosses.append(infoloss)\n",
    "    print \"%.5f\"%err, \"%.5f\"%infoloss"
   ]
  },
  {
   "cell_type": "code",
   "execution_count": 41,
   "metadata": {
    "collapsed": false
   },
   "outputs": [
    {
     "data": {
      "image/png": "[encoded data removed]",
      "text/plain": [
       "<matplotlib.figure.Figure at 0x7fe722a21bd0>"
      ]
     },
     "metadata": {},
     "output_type": "display_data"
    }
   ],
   "source": [
    "plot_smoothed(pretrain_discr_loss, n=40)"
   ]
  },
  {
   "cell_type": "code",
   "execution_count": 42,
   "metadata": {
    "collapsed": false
   },
   "outputs": [
    {
     "data": {
      "image/png": "[encoded data removed]",
      "text/plain": [
       "<matplotlib.figure.Figure at 0x7fe722a21f50>"
      ]
     },
     "metadata": {},
     "output_type": "display_data"
    }
   ],
   "source": [
    "plot_smoothed(infolosses)"
   ]
  },
  {
   "cell_type": "code",
   "execution_count": 43,
   "metadata": {
    "collapsed": false
   },
   "outputs": [
    {
     "name": "stdout",
     "output_type": "stream",
     "text": [
      "0.00240157\n",
      "GENERATED:  my name is randy marsh . this is my special battery protocol .\n",
      "0.525611\n",
      "GENERATED:  my name is butters , and i ' m _UNK_ ' . i had a guy invited me to my\n",
      "0.379213\n",
      "GENERATED:  my name is bubbe marsh , and i ' m pretty special and small and jewish . mysterion , don\n",
      "0.384388\n",
      "GENERATED:  my name . . . used to be . . . i know joseph smith . oh god , what\n",
      "0.0999485\n",
      "GENERATED:  oh , jesus ! ah you crazy , it ' s the most unbelievable thing !\n",
      "0.00222513\n",
      "GENERATED:  jimmy marsh .\n",
      "0.00657407\n",
      "GENERATED:  satan . your new priest friend has something to remember with his name .\n",
      "0.00066202\n",
      "GENERATED:  butters ?\n",
      "0.607849\n",
      "GENERATED:  it ' s my darling mackey . i ' m just making it a holiday special . the answer is\n",
      "0.0346378\n",
      "GENERATED:  my name is clyde frog . i ' m special olympics grampa .\n"
     ]
    }
   ],
   "source": [
    "for i in range(10):\n",
    "    name_id = 439\n",
    "    name_batch =  phrase_to_matrix([[\"Hello\", \"Hello\", \"What is your name ? \"]], max_len=20)\n",
    "    #att_seqs = attention_discriminator.get_attention_fake(name_batch, [name_id], 20)\n",
    "    gen_answer, gen_reward = test_discr_fn(name_batch, [name_id], 20)\n",
    "    gen_answer = ' '.join(phrase_from_idx(gen_answer[0], crop_by_eos=True))\n",
    "    print gen_reward[0, 1]\n",
    "    print \"GENERATED: \", gen_answer"
   ]
  },
  {
   "cell_type": "code",
   "execution_count": 44,
   "metadata": {
    "collapsed": false
   },
   "outputs": [
    {
     "name": "stdout",
     "output_type": "stream",
     "text": [
      "0.00116132\n",
      "shhh . _EOS_ shut up , cartman ! just face it . we lost this one . _EOS_ kenny .\n",
      "REAL:  ( okay . )\n",
      "GENERATED:  ( you . . . really did don ' t ! )\n",
      "0.0753187\n",
      "you ' re the best player at our school , dude . you ' ll make the team for sure\n",
      "REAL:  all students trying out for the all - state team to center court !\n",
      "GENERATED:  correct me . if you ' re a man , then we ' re on the side of your team\n",
      "0.708377\n",
      "okay , people . i know we all want to get down to the docks for the halloween haunt ,\n",
      "REAL:  yes , we know it ' s horrible . it ' s probably best you not look at it .\n",
      "GENERATED:  come on , general disarray , to start the race ! it ' s the extreme plague .\n",
      "0.00927394\n",
      "well , apparently , he thinks he ' s a vietnamese prostitute named ming li . _EOS_ . . oh\n",
      "REAL:  what ?\n",
      "GENERATED:  please don ' t .\n",
      "1.42587e-05\n",
      "_EOS_ _EOS_ _EOS_ _PAD_ _PAD_ _PAD_ _PAD_ _PAD_ _PAD_ _PAD_ _PAD_ _PAD_ _PAD_ _PAD_ _PAD_ _PAD_ _PAD_ _PAD_ _PAD_ _PAD_\n",
      "REAL:  \n",
      "GENERATED:  \n",
      "0.408761\n",
      "please , ma . i don ' t think kenny has anywhere else to be tonight . _EOS_ oh ,\n",
      "REAL:  come on , ike !\n",
      "GENERATED:  come on , dude ! we can ' t just stand here ! we have little sinned , and don\n",
      "0.0211801\n",
      "that was real cool , kids . hey , kyle , there ' s a different controller in my car\n",
      "REAL:  really ? that ' d be sweet .\n",
      "GENERATED:  it ' s a _UNK_ . it ' s a\n",
      "0.000119493\n",
      "_UNK_ chewbacca ? _EOS_ ms . struthers , don ' t forget the gift we gave you : the child\n",
      "REAL:  ms . struthers . you helped so many people , and you ' ve taught us that helping people is\n",
      "GENERATED:  what ?\n",
      "0.23791\n",
      ". . . ' scuse me . . . am i being fired ? _EOS_ jared , it ' s\n",
      "REAL:  well , your new slogan , for instance .\n",
      "GENERATED:  yes , but it sounds like people like you , understand ? they ' re your lawyers , haha .\n",
      "0.00510181\n",
      "okay kids , everyone in the pool ! _EOS_ nuh - uh . _EOS_ just jump in . _EOS_ _PAD_\n",
      "REAL:  i don ' t wanna .\n",
      "GENERATED:  good ! you ' re a spring chicken !\n",
      "0.0644618\n",
      "dude , what do you mean \" we don ' t have a coach . \" ? _EOS_ look ,\n",
      "REAL:  i ' m sorry . my dad is taking professional sarcastaball really seriously .\n",
      "GENERATED:  i ' m glad we had water , another methane replaced .\n",
      "4.58632e-11\n",
      "new , from _UNK_ , it ' s crank prank time phone ! _EOS_ i just dial a random number\n",
      "REAL:  \n",
      "GENERATED:  \n",
      "0.00284332\n",
      "dude , no way . _EOS_ yeah , i hate you , but i ' m not going to help\n",
      "REAL:  principal victoria , we are a devout catholic family ! do you mind telling me why my daughter now thinks\n",
      "GENERATED:  wait a minute . what happened to me ?\n",
      "0.00661852\n",
      "yeah , it ' s cool . _EOS_ why sure , that sounds hellafun . _EOS_ hahahahahaha . . .\n",
      "REAL:  yeah .\n",
      "GENERATED:  yeah , that ' d be sweet .\n",
      "0.0134632\n",
      "yeah ! ! _EOS_ hey mr . reiner , why don ' t you butt out ! _EOS_ i '\n",
      "REAL:  i don ' t _UNK_ you anymore , asshole !\n",
      "GENERATED:  everyone thinks i have diarrhea and turds , asshole !\n",
      "0.000634495\n",
      "( oh boy . ) _EOS_ oh , it makes me sick ! those damned psychologists prescribe all kinds of\n",
      "REAL:  no , not at all .\n",
      "GENERATED:  . . . wa bu - whoawhoa _UNK_ ? ?\n",
      "3.63163e-05\n",
      "why are you looking at me ? _EOS_ why are you looking at me ? _EOS_ why isn ' t\n",
      "REAL:  hey , fuck you .\n",
      "GENERATED:  goddamnit , stop what you ' re talking about !\n",
      "0.0291184\n",
      "hello ? _EOS_ how ' s the clubhouse coming , stan ? _EOS_ we ' re working on it .\n",
      "REAL:  well , i just thought i ' d tell you that me and kenny have finished our clubhouse , and\n",
      "GENERATED:  you ' re not gonna don ' t take us back , chef .\n",
      "0.432367\n",
      "yes , what is this about ? _EOS_ we need your expertise , sir . _EOS_ have you ever heard\n",
      "REAL:  another species ? what are you talking about ?\n",
      "GENERATED:  could not make you with the awwww or some kind of paranormal matter ?\n",
      "1.6011e-09\n",
      "yay ! _EOS_ but does that mean you aren ' t baptized ? _EOS_ no . i ' m jewish\n",
      "REAL:  yay ! yay !\n",
      "GENERATED:  yay !\n",
      "0.461863\n",
      "i will find sources to concrete . _EOS_ using the wood that krishna cut down as a beaver , jesus\n",
      "REAL:  meanwhile , in the ocean depths , seaman seeks out water to mix with the concrete .\n",
      "GENERATED:  and now , the enhanced version - of the stem cells , using recycled plastic , and built the meth\n",
      "5.92615e-08\n",
      "there . i got rid of the problem for you . now there ' s no conflict . _EOS_ no\n",
      "REAL:  wagghh . . !\n",
      "GENERATED:  no !\n",
      "0.0482213\n",
      "yes , your two hundred american dollars will last _EOS_ wow , what a great country . everybody ' s\n",
      "REAL:  hello , girls . i ' m the easter bunny .\n",
      "GENERATED:  we ' ve been here for many years putting these calves together from the world .\n",
      "0.291833\n",
      "i looked through your stupid book ! it ' s five hundred and forty pages of ripping on wendy and\n",
      "REAL:  you didn ' t read the rest , dude .\n",
      "GENERATED:  page is banned in the paper starring you .\n",
      "0.000319682\n",
      "oh , uh . . . _EOS_ hahaha , and they ' re probably just realizing that now ! quick\n",
      "REAL:  look ! look ! i ' ve made the news ! i - i ' ve _UNK_ havoc !\n",
      "GENERATED:  ugh . oh , okay .\n",
      "0.0727929\n",
      "uh , it ' s okay . we know the owner . _EOS_ oh , really ? let ' s\n",
      "REAL:  hey gino , these kids say they know you .\n",
      "GENERATED:  i only have two years going to people once and for all !\n",
      "0.00067849\n",
      "i would like to take this opportunity to explain why farts are funny and queefs are not . men have\n",
      "REAL:  for instance , we have the sneezing unicorn .\n",
      "GENERATED:  may i have your wife and _UNK_ , please ?\n",
      "0.000333005\n",
      "come back here , dammit ! _EOS_ whoa , wait ! _EOS_ just a little higher . _EOS_ _PAD_ _PAD_\n",
      "REAL:  mom ! dad !\n",
      "GENERATED:  all right , all right !\n",
      "0.00497748\n",
      "yeah ! _EOS_ they sure are getting to know each other . _EOS_ i ' ts amazing ! you know\n",
      "REAL:  his friend lives on a farm ?\n",
      "GENERATED:  yes , me too .\n",
      "0.000291604\n",
      "nice . _EOS_ nissse _EOS_ i know my actions were wrong , but i cannot be fully to blame .\n",
      "REAL:  ohhhh .\n",
      "GENERATED:  what idea ? !\n",
      "0.000155418\n",
      "and now , time for _EOS_ m - whoa , i ' m scared . _EOS_ well , be sure\n",
      "REAL:  mm - good night .\n",
      "GENERATED:  spare a box of purple _UNK_ .\n",
      "0.00164991\n",
      "_UNK_ , oooh ! _EOS_ ( yaaaaah ! ) _EOS_ ( aaaaaah ! ) _EOS_ _PAD_ _PAD_ _PAD_ _PAD_ _PAD_\n",
      "REAL:  today , on dr . phil . the tragic story of a little boy whose mother constantly tries to fuck\n",
      "GENERATED:  make it come out the other bus !\n"
     ]
    }
   ],
   "source": [
    "gen_answers, gen_rewards = test_discr_fn(one_batch[0], one_batch[2], 20)\n",
    "gen_answers = [' '.join(phrase_from_idx(gen_answers[j], crop_by_eos=True)) for j in range(len(one_batch[1]))]\n",
    "answers =  [' '.join(phrase_from_idx(one_batch[1][j], crop_by_eos=True)) for j in range(len(one_batch[1]))]\n",
    "discr_reward = gen_rewards[:, 1]\n",
    "#att_seqs = attention_discriminator.get_attention_real(one_batch[0], one_batch[1])\n",
    "for i in range(one_batch[0].shape[0]):\n",
    "    print discr_reward[i]\n",
    "    print ' '.join(phrase_from_idx(one_batch[0][i]))\n",
    "    print \"REAL: \", answers[i]\n",
    "    print \"GENERATED: \", gen_answers[i]"
   ]
  },
  {
   "cell_type": "code",
   "execution_count": null,
   "metadata": {
    "collapsed": false
   },
   "outputs": [],
   "source": [
    "from agentnet.learning.generic import get_values_for_actions\n",
    "\n",
    "class pg_trainer:    \n",
    "    \n",
    "    rewards = conv_discriminator.output_on_fake[:, 1]\n",
    "    baseline = conv_discriminator.output_on_greedy_fake[:, 1]\n",
    "\n",
    "    advantage = rewards - baseline\n",
    "\n",
    "    policy = get_values_for_actions(generator.probs, generator.out)\n",
    "    #policy = T.maximum(policy, 1e-10)\n",
    "    log_policy = T.log(policy)\n",
    "    neg_entropy = (generator.probs * T.log(generator.probs)).sum(axis=-1)\n",
    "\n",
    "    loss = ((-log_policy * advantage[:,None] + 0.01 * neg_entropy) * generator.mask).sum() / generator.mask.sum()\n",
    "\n",
    "    grads = T.grad(loss, generator.weights)\n",
    "    grads = lasagne.updates.total_norm_constraint(grads, 10)\n",
    "\n",
    "    updates = generator.auto_updates + generator.greedy_auto_updates\n",
    "    updates += lasagne.updates.adam(grads, generator.weights, learning_rate=1e-5) \n",
    "\n",
    "    train_step = theano.function([encoder.input_phrase, person_id_var, generator.n_steps], loss,\n",
    "                                 updates=updates,\n",
    "                                 allow_input_downcast=True)"
   ]
  },
  {
   "cell_type": "code",
   "execution_count": 76,
   "metadata": {
    "collapsed": true
   },
   "outputs": [],
   "source": [
    "pg_train_loss = []"
   ]
  },
  {
   "cell_type": "code",
   "execution_count": null,
   "metadata": {
    "collapsed": true
   },
   "outputs": [],
   "source": [
    "for bx, by, respondent in generate_data(data_rows, speakers_list=speakers_list, n_iter=100, max_len=seq_len):\n",
    "    err = pg_trainer.train_step(bx, respondent, 20)\n",
    "    pg_train_loss.append(err)\n",
    "    print(\"%.5f\"%err)"
   ]
  },
  {
   "cell_type": "code",
   "execution_count": 81,
   "metadata": {
    "collapsed": false
   },
   "outputs": [
    {
     "data": {
      "image/png": "[encoded data removed]",
      "text/plain": [
       "<matplotlib.figure.Figure at 0x7fcb42733b10>"
      ]
     },
     "metadata": {},
     "output_type": "display_data"
    }
   ],
   "source": [
    "plot_smoothed(pg_train_loss, n=4)"
   ]
  },
  {
   "cell_type": "code",
   "execution_count": 39,
   "metadata": {
    "collapsed": true
   },
   "outputs": [],
   "source": [
    "gen_train_errors = []\n",
    "discr_train_errors = []\n",
    "info_train_errors = []\n",
    "llh_train_errors = []\n",
    "accuracies_in_names = []"
   ]
  },
  {
   "cell_type": "code",
   "execution_count": 79,
   "metadata": {
    "collapsed": false
   },
   "outputs": [
    {
     "name": "stderr",
     "output_type": "stream",
     "text": [
      "/anaconda2/lib/python2.7/site-packages/ipykernel/__main__.py:10: FutureWarning: comparison to `None` will result in an elementwise object comparison in the future.\n"
     ]
    },
    {
     "ename": "MemoryError",
     "evalue": "Error allocating 52428800 bytes of device memory (CNMEM_STATUS_OUT_OF_MEMORY).\nApply node that caused the error: GpuContiguous(GpuDimShuffle{0,3,1,2}.0)\nToposort index: 539\nInputs types: [CudaNdarrayType(float32, 4D)]\nInputs shapes: [(32, 1024, 20, 20)]\nInputs strides: [(409600, 1, 20480, 1024)]\nInputs values: ['not shown']\nInputs type_num: ['']\nOutputs clients: [[GpuDnnConv{algo='small', inplace=True}(GpuContiguous.0, GpuContiguous.0, GpuAllocEmpty.0, GpuDnnConvDesc{border_mode='valid', subsample=(1, 1), conv_mode='conv', precision='float32'}.0, Constant{1.0}, Constant{0.0})]]\n\nDebugprint of the apply node: \nGpuContiguous [id A] <CudaNdarrayType(float32, 4D)> ''   \n |GpuDimShuffle{0,3,1,2} [id B] <CudaNdarrayType(float32, 4D)> ''   \n   |GpuJoin [id C] <CudaNdarrayType(float32, 4D)> ''   \n     |TensorConstant{3} [id D] <TensorType(int8, scalar)>\n     |GpuReshape{4} [id E] <CudaNdarrayType(float32, 4D)> ''   \n     | |GpuAlloc [id F] <CudaNdarrayType(float32, 4D)> ''   \n     | | |GpuDimShuffle{0,1,x,2} [id G] <CudaNdarrayType(float32, (False, False, True, False))> ''   \n     | | | |GpuReshape{3} [id H] <CudaNdarrayType(float32, 3D)> ''   \n     | | |   |GpuAdvancedSubtensor1 [id I] <CudaNdarrayType(float32, matrix)> ''   \n     | | |   | |W [id J] <CudaNdarrayType(float32, matrix)>\n     | | |   | |Elemwise{Cast{int64}} [id K] <TensorType(int64, vector)> ''   \n     | | |   |   |Reshape{1} [id L] <TensorType(int32, vector)> ''   \n     | | |   |     |encoder phrase tokens [id M] <TensorType(int32, matrix)>\n     | | |   |     |TensorConstant{(1,) of -1} [id N] <TensorType(int64, (True,))>\n     | | |   |MakeVector{dtype='int64'} [id O] <TensorType(int64, vector)> ''   \n     | | |     |Shape_i{0} [id P] <TensorType(int64, scalar)> ''   \n     | | |     | |encoder phrase tokens [id M] <TensorType(int32, matrix)>\n     | | |     |Shape_i{1} [id Q] <TensorType(int64, scalar)> ''   \n     | | |     | |encoder phrase tokens [id M] <TensorType(int32, matrix)>\n     | | |     |Shape_i{1} [id R] <TensorType(int64, scalar)> ''   \n     | | |       |W [id J] <CudaNdarrayType(float32, matrix)>\n     | | |Shape_i{0} [id P] <TensorType(int64, scalar)> ''   \n     | | |Shape_i{1} [id Q] <TensorType(int64, scalar)> ''   \n     | | |TensorConstant{20} [id S] <TensorType(int8, scalar)>\n     | | |Shape_i{1} [id R] <TensorType(int64, scalar)> ''   \n     | |TensorConstant{[ -1  20  20 512]} [id T] <TensorType(int64, vector)>\n     |GpuReshape{4} [id U] <CudaNdarrayType(float32, 4D)> ''   \n       |GpuAlloc [id V] <CudaNdarrayType(float32, 4D)> ''   \n       | |GpuDimShuffle{0,1,x,2} [id W] <CudaNdarrayType(float32, (False, False, True, False))> ''   \n       | | |GpuReshape{3} [id X] <CudaNdarrayType(float32, 3D)> ''   \n       | |   |GpuAdvancedSubtensor1 [id Y] <CudaNdarrayType(float32, matrix)> ''   \n       | |   | |W [id Z] <CudaNdarrayType(float32, matrix)>\n       | |   | |Elemwise{Cast{int64}} [id BA] <TensorType(int64, vector)> ''   \n       | |   |   |Reshape{1} [id BB] <TensorType(int32, vector)> ''   \n       | |   |     |InplaceDimShuffle{1,0} [id BC] <TensorType(int32, matrix)> ''   \n       | |   |     | |Subtensor{int64:int64:int8} [id BD] <TensorType(int32, matrix)> ''   \n       | |   |     |   |forall_inplace,gpu,scan_fn&scan_fn}.3 [id BE] <TensorType(int32, matrix)> ''   \n       | |   |     |   | |<TensorType(int32, scalar)> [id BF] <TensorType(int32, scalar)>\n       | |   |     |   | |GpuIncSubtensor{InplaceSet;:int64:} [id BG] <CudaNdarrayType(float32, 3D)> ''   \n       | |   |     |   | | |GpuAllocEmpty [id BH] <CudaNdarrayType(float32, 3D)> ''   \n       | |   |     |   | | | |Elemwise{Composite{(Switch(LT(i0, i1), (i0 + i2), (i0 - i1)) + i2)}} [id BI] <TensorType(int64, scalar)> ''   \n       | |   |     |   | | | | |Elemwise{Composite{maximum(maximum(((i0 - Switch(LT(Composite{Switch(LT(i0, i1), i1, i0)}(Composite{Switch(LT(i0, i1), (i2 - i3), i0)}(Composite{((i0 - (Switch(LT(i1, i2), i2, i1) - i3)) - i3)}((i1 + i2), (i3 + i2), i4, i5), i4, (i1 + i2), i5), i4), Composite{Switch(LT(i0, i1), i1, i0)}((i1 + i2), i4)), Composite{Switch(LT(i0, i1), i1, i0)}(Composite{Switch(LT(i0, i1), (i2 - i3), i0)}(Composite{((i0 - (Switch(LT(i1, i2), i2, i1) - i3)) - i3)}((i1 + i2), (i3 + i2), i4, i5), i4, (i1 + i2), i5), i4), Composite{Switch(LT(i0, i1), i1, i0)}((i1 + i2), i4))) + i2), i6), maximum(((i0 - Switch(LT(Composite{Switch(LT(i0, i1), i1, i0)}(Composite{Switch(LT(i0, i1), (i2 - i3), i0)}(Composite{((i0 - (Switch(LT(i1, i2), i2, i1) - i3)) - i3)}((i7 + i2), (i8 + i2), i4, i5), i4, (i7 + i2), i5), i4), Composite{Switch(LT(i0, i1), i1, i0)}((i7 + i2), i4)), Composite{Switch(LT(i0, i1), i1, i0)}(Composite{Switch(LT(i0, i1), (i2 - i3), i0)}(Composite{((i0 - (Switch(LT(i1, i2), i2, i1) - i3)) - i3)}((i7 + i2), (i8 + i2), i4, i5), i4, (i7 + i2), i5), i4), Composite{Switch(LT(i0, i1), i1, i0)}((i7 + i2), i4))) + i2), i6))}} [id BJ] <TensorType(int64, scalar)> ''   \n       | |   |     |   | | | | | |<TensorType(int32, scalar)> [id BF] <TensorType(int32, scalar)>\n       | |   |     |   | | | | | |Elemwise{Composite{Switch(GE(Composite{Switch(LT(i0, i1), i2, i0)}(Composite{Switch(LT(i0, i1), (i0 + i2), i0)}(Composite{Switch(i0, i1, maximum(i2, (i3 - i4)))}(i0, i1, i2, i3, i4), i1, i5), i1, i6), i5), i7, Composite{Switch(LT(i0, i1), i2, i0)}(Composite{Switch(LT(i0, i1), (i0 + i2), i0)}(Composite{Switch(i0, i1, maximum(i2, (i3 - i4)))}(i0, i1, i2, i3, i4), i1, i5), i1, i6))}} [id BK] <TensorType(int64, scalar)> ''   \n       | |   |     |   | | | | | | |Elemwise{le,no_inplace} [id BL] <TensorType(bool, scalar)> ''   \n       | |   |     |   | | | | | | | |Elemwise{sub,no_inplace} [id BM] <TensorType(int64, scalar)> ''   \n       | |   |     |   | | | | | | | | |Elemwise{Composite{Switch(LT(Composite{Switch(GE(i0, i1), i1, i0)}(Composite{Switch(LT(i0, i1), i2, i0)}(Composite{Switch(LT(i0, i1), (i0 + i2), i0)}(Composite{Switch(i0, i1, minimum(i2, i3))}(i0, i1, i2, i3), i1, i4), i1, i5), i4), i1), i1, Composite{Switch(GE(i0, i1), i1, i0)}(Composite{Switch(LT(i0, i1), i2, i0)}(Composite{Switch(LT(i0, i1), (i0 + i2), i0)}(Composite{Switch(i0, i1, minimum(i2, i3))}(i0, i1, i2, i3), i1, i4), i1, i5), i4))}} [id BN] <TensorType(int64, scalar)> ''   \n       | |   |     |   | | | | | | | | | |Elemwise{le,no_inplace} [id BO] <TensorType(bool, scalar)> ''   \n       | |   |     |   | | | | | | | | | | |Elemwise{Composite{Switch(i0, Switch(LT((i1 + i2), i3), i3, (i1 + i2)), Switch(LT(i4, i2), i4, i2))}} [id BP] <TensorType(int64, scalar)> ''   \n       | |   |     |   | | | | | | | | | | | |Elemwise{lt,no_inplace} [id BQ] <TensorType(bool, scalar)> ''   \n       | |   |     |   | | | | | | | | | | | | |Elemwise{Identity} [id BR] <TensorType(int64, scalar)> ''   \n       | |   |     |   | | | | | | | | | | | | | |<TensorType(int32, scalar)> [id BF] <TensorType(int32, scalar)>\n       | |   |     |   | | | | | | | | | | | | |TensorConstant{0} [id BS] <TensorType(int8, scalar)>\n       | |   |     |   | | | | | | | | | | | |<TensorType(int32, scalar)> [id BF] <TensorType(int32, scalar)>\n       | |   |     |   | | | | | | | | | | | |Elemwise{Composite{Switch(LT((i0 + i1), i2), i2, (i0 + i1))}} [id BT] <TensorType(int64, scalar)> ''   \n       | |   |     |   | | | | | | | | | | | | |TensorConstant{-1} [id BU] <TensorType(int64, scalar)>\n       | |   |     |   | | | | | | | | | | | | |Elemwise{sub,no_inplace} [id BV] <TensorType(int64, scalar)> ''   \n       | |   |     |   | | | | | | | | | | | | | |Elemwise{Composite{Switch(LT(i0, i1), i1, i0)}} [id BW] <TensorType(int64, scalar)> ''   \n       | |   |     |   | | | | | | | | | | | | | | |Elemwise{add,no_inplace} [id BX] <TensorType(int64, scalar)> ''   \n       | |   |     |   | | | | | | | | | | | | | | | |TensorConstant{1} [id BY] <TensorType(int64, scalar)>\n       | |   |     |   | | | | | | | | | | | | | | | |<TensorType(int32, scalar)> [id BF] <TensorType(int32, scalar)>\n       | |   |     |   | | | | | | | | | | | | | | |TensorConstant{0} [id BS] <TensorType(int8, scalar)>\n       | |   |     |   | | | | | | | | | | | | | |Elemwise{Composite{Switch(LT(Composite{Switch(LT(i0, i1), i1, i0)}(Composite{Switch(LT(i0, i1), i2, i0)}((i0 - i1), i2, i3), i2), i1), Composite{Switch(LT(i0, i1), i1, i0)}(Composite{Switch(LT(i0, i1), i2, i0)}((i0 - i1), i2, i3), i2), i1)}} [id BZ] <TensorType(int64, scalar)> ''   \n       | |   |     |   | | | | | | | | | | | | |   |Elemwise{add,no_inplace} [id BX] <TensorType(int64, scalar)> ''   \n       | |   |     |   | | | | | | | | | | | | |   |Elemwise{Composite{Switch(LT(i0, i1), i1, i0)}} [id BW] <TensorType(int64, scalar)> ''   \n       | |   |     |   | | | | | | | | | | | | |   |TensorConstant{0} [id BS] <TensorType(int8, scalar)>\n       | |   |     |   | | | | | | | | | | | | |   |Elemwise{Identity} [id BR] <TensorType(int64, scalar)> ''   \n       | |   |     |   | | | | | | | | | | | | |TensorConstant{0} [id BS] <TensorType(int8, scalar)>\n       | |   |     |   | | | | | | | | | | | |TensorConstant{0} [id BS] <TensorType(int8, scalar)>\n       | |   |     |   | | | | | | | | | | | |Elemwise{Identity} [id BR] <TensorType(int64, scalar)> ''   \n       | |   |     |   | | | | | | | | | | |TensorConstant{0} [id BS] <TensorType(int8, scalar)>\n       | |   |     |   | | | | | | | | | |TensorConstant{0} [id BS] <TensorType(int8, scalar)>\n       | |   |     |   | | | | | | | | | |Elemwise{Composite{Switch(i0, Switch(LT((i1 + i2), i3), i3, (i1 + i2)), Switch(LT(i4, i2), i4, i2))}} [id BP] <TensorType(int64, scalar)> ''   \n       | |   |     |   | | | | | | | | | |Elemwise{Composite{Switch(LT((i0 + i1), i2), i2, (i0 + i1))}} [id BT] <TensorType(int64, scalar)> ''   \n       | |   |     |   | | | | | | | | | |Elemwise{sub,no_inplace} [id BV] <TensorType(int64, scalar)> ''   \n       | |   |     |   | | | | | | | | | |TensorConstant{-1} [id CA] <TensorType(int8, scalar)>\n       | |   |     |   | | | | | | | | |Elemwise{Composite{Switch(LT(Composite{Switch(LT(i0, i1), i1, i0)}(Composite{Switch(GE(i0, i1), i1, i0)}(Composite{Switch(LT(i0, i1), i1, i0)}(Composite{Switch(LT(i0, i1), (i0 + i2), i0)}(Composite{Switch(i0, i1, minimum(i2, i3))}(i0, i1, i2, i3), i1, i4), i1), i4), i1), i5), Composite{Switch(LT(i0, i1), i1, i0)}(Composite{Switch(GE(i0, i1), i1, i0)}(Composite{Switch(LT(i0, i1), i1, i0)}(Composite{Switch(LT(i0, i1), (i0 + i2), i0)}(Composite{Switch(i0, i1, minimum(i2, i3))}(i0, i1, i2, i3), i1, i4), i1), i4), i1), i5)}} [id CB] <TensorType(int64, scalar)> ''   \n       | |   |     |   | | | | | | | |   |Elemwise{le,no_inplace} [id BO] <TensorType(bool, scalar)> ''   \n       | |   |     |   | | | | | | | |   |TensorConstant{0} [id BS] <TensorType(int8, scalar)>\n       | |   |     |   | | | | | | | |   |TensorConstant{0} [id CC] <TensorType(int64, scalar)>\n       | |   |     |   | | | | | | | |   |Elemwise{Composite{Switch(LT((i0 + i1), i2), i2, (i0 + i1))}} [id BT] <TensorType(int64, scalar)> ''   \n       | |   |     |   | | | | | | | |   |Elemwise{sub,no_inplace} [id BV] <TensorType(int64, scalar)> ''   \n       | |   |     |   | | | | | | | |   |Elemwise{Composite{Switch(LT(Composite{Switch(GE(i0, i1), i1, i0)}(Composite{Switch(LT(i0, i1), i2, i0)}(Composite{Switch(LT(i0, i1), (i0 + i2), i0)}(Composite{Switch(i0, i1, minimum(i2, i3))}(i0, i1, i2, i3), i1, i4), i1, i5), i4), i1), i1, Composite{Switch(GE(i0, i1), i1, i0)}(Composite{Switch(LT(i0, i1), i2, i0)}(Composite{Switch(LT(i0, i1), (i0 + i2), i0)}(Composite{Switch(i0, i1, minimum(i2, i3))}(i0, i1, i2, i3), i1, i4), i1, i5), i4))}} [id BN] <TensorType(int64, scalar)> ''   \n       | |   |     |   | | | | | | | |TensorConstant{0} [id BS] <TensorType(int8, scalar)>\n       | |   |     |   | | | | | | |TensorConstant{0} [id BS] <TensorType(int8, scalar)>\n       | |   |     |   | | | | | | |Elemwise{Composite{Switch(LT(Composite{Switch(LT(i0, i1), i1, i0)}(Composite{Switch(LT(i0, i1), i2, i0)}((i0 - i1), i2, i3), i2), i1), Composite{Switch(LT(i0, i1), i1, i0)}(Composite{Switch(LT(i0, i1), i2, i0)}((i0 - i1), i2, i3), i2), i1)}} [id BZ] <TensorType(int64, scalar)> ''   \n       | |   |     |   | | | | | | |Elemwise{add,no_inplace} [id CD] <TensorType(int64, scalar)> ''   \n       | |   |     |   | | | | | | | |TensorConstant{-1} [id BU] <TensorType(int64, scalar)>\n       | |   |     |   | | | | | | | |Elemwise{Composite{Switch(LT(i0, i1), i1, i0)}} [id BW] <TensorType(int64, scalar)> ''   \n       | |   |     |   | | | | | | |Elemwise{Composite{Switch(LT(Composite{Switch(LT(i0, i1), i1, i0)}(Composite{Switch(GE(i0, i1), i1, i0)}(Composite{Switch(LT(i0, i1), i1, i0)}(Composite{Switch(LT(i0, i1), (i0 + i2), i0)}(Composite{Switch(i0, i1, minimum(i2, i3))}(i0, i1, i2, i3), i1, i4), i1), i4), i1), i5), Composite{Switch(LT(i0, i1), i1, i0)}(Composite{Switch(GE(i0, i1), i1, i0)}(Composite{Switch(LT(i0, i1), i1, i0)}(Composite{Switch(LT(i0, i1), (i0 + i2), i0)}(Composite{Switch(i0, i1, minimum(i2, i3))}(i0, i1, i2, i3), i1, i4), i1), i4), i1), i5)}} [id CB] <TensorType(int64, scalar)> ''   \n       | |   |     |   | | | | | | |Elemwise{add,no_inplace} [id BX] <TensorType(int64, scalar)> ''   \n       | |   |     |   | | | | | | |TensorConstant{-1} [id CA] <TensorType(int8, scalar)>\n       | |   |     |   | | | | | | |Elemwise{sub,no_inplace} [id CE] <TensorType(int64, scalar)> ''   \n       | |   |     |   | | | | | |   |Elemwise{add,no_inplace} [id BX] <TensorType(int64, scalar)> ''   \n       | |   |     |   | | | | | |   |TensorConstant{1} [id CF] <TensorType(int8, scalar)>\n       | |   |     |   | | | | | |TensorConstant{1} [id BY] <TensorType(int64, scalar)>\n       | |   |     |   | | | | | |Elemwise{Composite{(((i0 - Switch(GE(Composite{Switch(LT(i0, i1), i2, i0)}(Composite{Switch(LT(i0, i1), (i0 + i2), i0)}(Composite{Switch(i0, i1, Switch(AND(LT(i2, i1), GT(i3, i1)), i4, maximum((i5 + i6), i2)))}(i1, i2, (i3 - i4), i5, i6, i7, i8), i2, i9), i2, i10), i9), i9, Composite{Switch(LT(i0, i1), i2, i0)}(Composite{Switch(LT(i0, i1), (i0 + i2), i0)}(Composite{Switch(i0, i1, Switch(AND(LT(i2, i1), GT(i3, i1)), i4, maximum((i5 + i6), i2)))}(i1, i2, (i3 - i4), i5, i6, i7, i8), i2, i9), i2, i10))) - i11) // i12)}} [id CG] <TensorType(int64, scalar)> ''   \n       | |   |     |   | | | | | | |Elemwise{Composite{Switch(GE(Composite{Switch(LT(i0, i1), i2, i0)}(Composite{Switch(LT(i0, i1), (i0 + i2), i0)}(Composite{Switch(i0, i1, maximum(i2, (i3 - i4)))}(i0, i1, i2, i3, i4), i1, i5), i1, i6), i5), i7, Composite{Switch(LT(i0, i1), i2, i0)}(Composite{Switch(LT(i0, i1), (i0 + i2), i0)}(Composite{Switch(i0, i1, maximum(i2, (i3 - i4)))}(i0, i1, i2, i3, i4), i1, i5), i1, i6))}} [id BK] <TensorType(int64, scalar)> ''   \n       | |   |     |   | | | | | | |Elemwise{le,no_inplace} [id BL] <TensorType(bool, scalar)> ''   \n       | |   |     |   | | | | | | |TensorConstant{0} [id BS] <TensorType(int8, scalar)>\n       | |   |     |   | | | | | | |Elemwise{add,no_inplace} [id CD] <TensorType(int64, scalar)> ''   \n       | |   |     |   | | | | | | |Elemwise{Composite{Switch(LT(Composite{Switch(GE(i0, i1), i1, i0)}(Composite{Switch(LT(i0, i1), i2, i0)}(Composite{Switch(LT(i0, i1), (i0 + i2), i0)}(Composite{Switch(i0, i1, minimum(i2, i3))}(i0, i1, i2, i3), i1, i4), i1, i5), i4), i1), i1, Composite{Switch(GE(i0, i1), i1, i0)}(Composite{Switch(LT(i0, i1), i2, i0)}(Composite{Switch(LT(i0, i1), (i0 + i2), i0)}(Composite{Switch(i0, i1, minimum(i2, i3))}(i0, i1, i2, i3), i1, i4), i1, i5), i4))}} [id BN] <TensorType(int64, scalar)> ''   \n       | |   |     |   | | | | | | |Elemwise{sub,no_inplace} [id BM] <TensorType(int64, scalar)> ''   \n       | |   |     |   | | | | | | |Elemwise{sub,no_inplace} [id CH] <TensorType(int64, scalar)> ''   \n       | |   |     |   | | | | | | | |TensorConstant{-2} [id CI] <TensorType(int64, scalar)>\n       | |   |     |   | | | | | | | |<TensorType(int32, scalar)> [id BF] <TensorType(int32, scalar)>\n       | |   |     |   | | | | | | |TensorConstant{-1} [id BU] <TensorType(int64, scalar)>\n       | |   |     |   | | | | | | |Elemwise{Composite{Switch(LT(Composite{Switch(LT(i0, i1), i1, i0)}(Composite{Switch(LT(i0, i1), i2, i0)}((i0 - i1), i2, i3), i2), i1), Composite{Switch(LT(i0, i1), i1, i0)}(Composite{Switch(LT(i0, i1), i2, i0)}((i0 - i1), i2, i3), i2), i1)}} [id BZ] <TensorType(int64, scalar)> ''   \n       | |   |     |   | | | | | | |Elemwise{add,no_inplace} [id BX] <TensorType(int64, scalar)> ''   \n       | |   |     |   | | | | | | |TensorConstant{-1} [id CA] <TensorType(int8, scalar)>\n       | |   |     |   | | | | | | |TensorConstant{1} [id CF] <TensorType(int8, scalar)>\n       | |   |     |   | | | | | | |TensorConstant{1} [id BY] <TensorType(int64, scalar)>\n       | |   |     |   | | | | | |TensorConstant{0} [id BS] <TensorType(int8, scalar)>\n       | |   |     |   | | | | | |TensorConstant{1} [id CF] <TensorType(int8, scalar)>\n       | |   |     |   | | | | | |TensorConstant{2} [id CJ] <TensorType(int64, scalar)>\n       | |   |     |   | | | | | |Elemwise{Composite{Switch(GE(Composite{Switch(LT(i0, i1), i2, i0)}(Composite{Switch(i0, (i1 + i2), i1)}(i0, i1, i2), i3, i4), i2), i5, Composite{Switch(LT(i0, i1), i2, i0)}(Composite{Switch(i0, (i1 + i2), i1)}(i0, i1, i2), i3, i4))}} [id CK] <TensorType(int64, scalar)> ''   \n       | |   |     |   | | | | | | |Elemwise{lt,no_inplace} [id CL] <TensorType(bool, scalar)> ''   \n       | |   |     |   | | | | | | | |Elemwise{Composite{Switch(i0, i1, maximum(minimum((i2 + i3), i4), i5))}} [id CM] <TensorType(int64, scalar)> ''   \n       | |   |     |   | | | | | | | | |Elemwise{le,no_inplace} [id CN] <TensorType(bool, scalar)> ''   \n       | |   |     |   | | | | | | | | | |Elemwise{sub,no_inplace} [id CO] <TensorType(int64, scalar)> ''   \n       | |   |     |   | | | | | | | | | | |Elemwise{Composite{Switch(LT(i0, i1), i1, i0)}} [id CP] <TensorType(int64, scalar)> ''   \n       | |   |     |   | | | | | | | | | | | |Elemwise{add,no_inplace} [id CQ] <TensorType(int64, scalar)> ''   \n       | |   |     |   | | | | | | | | | | | | |TensorConstant{1} [id BY] <TensorType(int64, scalar)>\n       | |   |     |   | | | | | | | | | | | | |Elemwise{Composite{Switch(GE(Composite{Switch(LT(i0, i1), i2, i0)}(Composite{Switch(LT(i0, i1), (i0 + i2), i0)}(Composite{Switch(i0, i1, maximum(i2, i3))}(i0, i1, i2, i3), i1, i4), i1, i5), i4), i6, Composite{Switch(LT(i0, i1), i2, i0)}(Composite{Switch(LT(i0, i1), (i0 + i2), i0)}(Composite{Switch(i0, i1, maximum(i2, i3))}(i0, i1, i2, i3), i1, i4), i1, i5))}} [id CR] <TensorType(int64, scalar)> ''   \n       | |   |     |   | | | | | | | | | | | |   |Elemwise{le,no_inplace} [id CS] <TensorType(bool, scalar)> ''   \n       | |   |     |   | | | | | | | | | | | |   | |Elemwise{Composite{Switch(i0, Switch(LT(Composite{((i0 + i1) - i2)}(i1, i2, i3), i4), i4, Composite{((i0 + i1) - i2)}(i1, i2, i3)), Switch(LT(i5, i6), i5, i6))}} [id CT] <TensorType(int64, scalar)> ''   \n       | |   |     |   | | | | | | | | | | | |   | | |Elemwise{lt,no_inplace} [id BQ] <TensorType(bool, scalar)> ''   \n       | |   |     |   | | | | | | | | | | | |   | | |<TensorType(int32, scalar)> [id BF] <TensorType(int32, scalar)>\n       | |   |     |   | | | | | | | | | | | |   | | |Elemwise{Composite{Switch(LT(i0, i1), i1, i0)}} [id CU] <TensorType(int64, scalar)> ''   \n       | |   |     |   | | | | | | | | | | | |   | | | |Elemwise{switch,no_inplace} [id CV] <TensorType(int64, scalar)> ''   \n       | |   |     |   | | | | | | | | | | | |   | | | | |Elemwise{lt,no_inplace} [id BQ] <TensorType(bool, scalar)> ''   \n       | |   |     |   | | | | | | | | | | | |   | | | | |TensorConstant{0} [id BS] <TensorType(int8, scalar)>\n       | |   |     |   | | | | | | | | | | | |   | | | | |Elemwise{Identity} [id BR] <TensorType(int64, scalar)> ''   \n       | |   |     |   | | | | | | | | | | | |   | | | |TensorConstant{0} [id BS] <TensorType(int8, scalar)>\n       | |   |     |   | | | | | | | | | | | |   | | |Elemwise{Composite{Switch(LT(Composite{Switch(LT(i0, i1), i1, i0)}(Composite{Switch(LT(i0, i1), i2, i0)}((i0 - i1), i2, i3), i2), i1), Composite{Switch(LT(i0, i1), i1, i0)}(Composite{Switch(LT(i0, i1), i2, i0)}((i0 - i1), i2, i3), i2), i1)}} [id CW] <TensorType(int64, scalar)> ''   \n       | |   |     |   | | | | | | | | | | | |   | | | |Elemwise{switch,no_inplace} [id CV] <TensorType(int64, scalar)> ''   \n       | |   |     |   | | | | | | | | | | | |   | | | |Elemwise{Composite{Switch(LT(i0, i1), i1, i0)}} [id CU] <TensorType(int64, scalar)> ''   \n       | |   |     |   | | | | | | | | | | | |   | | | |TensorConstant{0} [id BS] <TensorType(int8, scalar)>\n       | |   |     |   | | | | | | | | | | | |   | | | |Elemwise{add,no_inplace} [id CX] <TensorType(int64, scalar)> ''   \n       | |   |     |   | | | | | | | | | | | |   | | |   |TensorConstant{-1} [id BU] <TensorType(int64, scalar)>\n       | |   |     |   | | | | | | | | | | | |   | | |   |Elemwise{switch,no_inplace} [id CV] <TensorType(int64, scalar)> ''   \n       | |   |     |   | | | | | | | | | | | |   | | |TensorConstant{0} [id BS] <TensorType(int8, scalar)>\n       | |   |     |   | | | | | | | | | | | |   | | |Elemwise{Identity} [id BR] <TensorType(int64, scalar)> ''   \n       | |   |     |   | | | | | | | | | | | |   | | |Elemwise{sub,no_inplace} [id CY] <TensorType(int64, scalar)> ''   \n       | |   |     |   | | | | | | | | | | | |   | |   |Elemwise{Composite{Switch(LT(i0, i1), i1, i0)}} [id CU] <TensorType(int64, scalar)> ''   \n       | |   |     |   | | | | | | | | | | | |   | |   |Elemwise{Composite{Switch(LT(Composite{Switch(LT(i0, i1), i1, i0)}(Composite{Switch(LT(i0, i1), i2, i0)}((i0 - i1), i2, i3), i2), i1), Composite{Switch(LT(i0, i1), i1, i0)}(Composite{Switch(LT(i0, i1), i2, i0)}((i0 - i1), i2, i3), i2), i1)}} [id CW] <TensorType(int64, scalar)> ''   \n       | |   |     |   | | | | | | | | | | | |   | |TensorConstant{0} [id BS] <TensorType(int8, scalar)>\n       | |   |     |   | | | | | | | | | | | |   |TensorConstant{0} [id BS] <TensorType(int8, scalar)>\n       | |   |     |   | | | | | | | | | | | |   |Elemwise{Composite{Switch(LT(Composite{Switch(LT(i0, i1), i1, i0)}(Composite{Switch(LT(i0, i1), i2, i0)}((i0 - i1), i2, i3), i2), i1), Composite{Switch(LT(i0, i1), i1, i0)}(Composite{Switch(LT(i0, i1), i2, i0)}((i0 - i1), i2, i3), i2), i1)}} [id CW] <TensorType(int64, scalar)> ''   \n       | |   |     |   | | | | | | | | | | | |   |Elemwise{add,no_inplace} [id CZ] <TensorType(int64, scalar)> ''   \n       | |   |     |   | | | | | | | | | | | |   | |TensorConstant{-1} [id BU] <TensorType(int64, scalar)>\n       | |   |     |   | | | | | | | | | | | |   | |Elemwise{Composite{Switch(LT(i0, i1), i1, i0)}} [id CU] <TensorType(int64, scalar)> ''   \n       | |   |     |   | | | | | | | | | | | |   |Elemwise{switch,no_inplace} [id CV] <TensorType(int64, scalar)> ''   \n       | |   |     |   | | | | | | | | | | | |   |TensorConstant{-1} [id CA] <TensorType(int8, scalar)>\n       | |   |     |   | | | | | | | | | | | |   |Elemwise{add,no_inplace} [id CX] <TensorType(int64, scalar)> ''   \n       | |   |     |   | | | | | | | | | | | |TensorConstant{0} [id BS] <TensorType(int8, scalar)>\n       | |   |     |   | | | | | | | | | | |Elemwise{Composite{Switch(LT(Composite{Switch(LT(i0, i1), i1, i0)}(Composite{Switch(LT(i0, i1), i2, i0)}(Composite{(i0 - Switch(LT(i1, i2), i2, i1))}(i0, Composite{(i0 - Switch(GE(i1, i2), i2, i1))}(i1, Composite{Switch(LT(i0, i1), i2, i0)}(Composite{Switch(LT(i0, i1), (i0 + i2), i0)}(Composite{Switch(i0, i1, Switch(AND(LT(i2, i1), GT(i3, i1)), (i4 - i5), maximum((i4 + i6), i2)))}(i2, i3, (i4 - i5), i5, i6, i7, i8), i3, i7), i3, i9), i7), i3), i3, i1), i3), i10), Composite{Switch(LT(i0, i1), i1, i0)}(Composite{Switch(LT(i0, i1), i2, i0)}(Composite{(i0 - Switch(LT(i1, i2), i2, i1))}(i0, Composite{(i0 - Switch(GE(i1, i2), i2, i1))}(i1, Composite{Switch(LT(i0, i1), i2, i0)}(Composite{Switch(LT(i0, i1), (i0 + i2), i0)}(Composite{Switch(i0, i1, Switch(AND(LT(i2, i1), GT(i3, i1)), (i4 - i5), maximum((i4 + i6), i2)))}(i2, i3, (i4 - i5), i5, i6, i7, i8), i3, i7), i3, i9), i7), i3), i3, i1), i3), i10)}} [id DA] <TensorType(int64, scalar)> ''   \n       | |   |     |   | | | | | | | | | |   |Elemwise{add,no_inplace} [id CQ] <TensorType(int64, scalar)> ''   \n       | |   |     |   | | | | | | | | | |   |Elemwise{Composite{Switch(GE(Composite{Switch(LT(i0, i1), i2, i0)}(Composite{Switch(LT(i0, i1), (i0 + i2), i0)}(Composite{Switch(i0, i1, maximum(i2, i3))}(i0, i1, i2, i3), i1, i4), i1, i5), i4), i6, Composite{Switch(LT(i0, i1), i2, i0)}(Composite{Switch(LT(i0, i1), (i0 + i2), i0)}(Composite{Switch(i0, i1, maximum(i2, i3))}(i0, i1, i2, i3), i1, i4), i1, i5))}} [id CR] <TensorType(int64, scalar)> ''   \n       | |   |     |   | | | | | | | | | |   |Elemwise{le,no_inplace} [id CS] <TensorType(bool, scalar)> ''   \n       | |   |     |   | | | | | | | | | |   |TensorConstant{0} [id BS] <TensorType(int8, scalar)>\n       | |   |     |   | | | | | | | | | |   |Elemwise{add,no_inplace} [id CZ] <TensorType(int64, scalar)> ''   \n       | |   |     |   | | | | | | | | | |   |Elemwise{Composite{Switch(i0, Switch(LT(Composite{((i0 + i1) - i2)}(i1, i2, i3), i4), i4, Composite{((i0 + i1) - i2)}(i1, i2, i3)), Switch(LT(i5, i6), i5, i6))}} [id CT] <TensorType(int64, scalar)> ''   \n       | |   |     |   | | | | | | | | | |   |TensorConstant{-1} [id BU] <TensorType(int64, scalar)>\n       | |   |     |   | | | | | | | | | |   |Elemwise{switch,no_inplace} [id CV] <TensorType(int64, scalar)> ''   \n       | |   |     |   | | | | | | | | | |   |Elemwise{Composite{Switch(LT(Composite{Switch(LT(i0, i1), i1, i0)}(Composite{Switch(LT(i0, i1), i2, i0)}((i0 - i1), i2, i3), i2), i1), Composite{Switch(LT(i0, i1), i1, i0)}(Composite{Switch(LT(i0, i1), i2, i0)}((i0 - i1), i2, i3), i2), i1)}} [id CW] <TensorType(int64, scalar)> ''   \n       | |   |     |   | | | | | | | | | |   |TensorConstant{-1} [id CA] <TensorType(int8, scalar)>\n       | |   |     |   | | | | | | | | | |   |Elemwise{Composite{Switch(LT(i0, i1), i1, i0)}} [id CP] <TensorType(int64, scalar)> ''   \n       | |   |     |   | | | | | | | | | |TensorConstant{0} [id BS] <TensorType(int8, scalar)>\n       | |   |     |   | | | | | | | | |TensorConstant{0} [id BS] <TensorType(int8, scalar)>\n       | |   |     |   | | | | | | | | |TensorConstant{-1} [id BU] <TensorType(int64, scalar)>\n       | |   |     |   | | | | | | | | |Elemwise{Composite{Switch(LT(i0, i1), i1, i0)}} [id CP] <TensorType(int64, scalar)> ''   \n       | |   |     |   | | | | | | | | |Elemwise{switch,no_inplace} [id CV] <TensorType(int64, scalar)> ''   \n       | |   |     |   | | | | | | | | |TensorConstant{0} [id CC] <TensorType(int64, scalar)>\n       | |   |     |   | | | | | | | |TensorConstant{0} [id BS] <TensorType(int8, scalar)>\n       | |   |     |   | | | | | | |Elemwise{Composite{Switch(i0, i1, maximum(minimum((i2 + i3), i4), i5))}} [id CM] <TensorType(int64, scalar)> ''   \n       | |   |     |   | | | | | | |Elemwise{add,no_inplace} [id BX] <TensorType(int64, scalar)> ''   \n       | |   |     |   | | | | | | |TensorConstant{0} [id BS] <TensorType(int8, scalar)>\n       | |   |     |   | | | | | | |TensorConstant{-1} [id CA] <TensorType(int8, scalar)>\n       | |   |     |   | | | | | | |Elemwise{sub,no_inplace} [id CE] <TensorType(int64, scalar)> ''   \n       | |   |     |   | | | | | |Elemwise{Composite{(((i0 - Switch(GE(Composite{Switch(LT(i0, i1), i2, i0)}(Composite{Switch(i0, (i1 + i2), i1)}(i1, i2, i3), i4, i5), i3), i3, Composite{Switch(LT(i0, i1), i2, i0)}(Composite{Switch(i0, (i1 + i2), i1)}(i1, i2, i3), i4, i5))) - i6) // i7)}} [id DB] <TensorType(int64, scalar)> ''   \n       | |   |     |   | | | | |   |Elemwise{Composite{Switch(GE(Composite{Switch(LT(i0, i1), i2, i0)}(Composite{Switch(i0, (i1 + i2), i1)}(i0, i1, i2), i3, i4), i2), i5, Composite{Switch(LT(i0, i1), i2, i0)}(Composite{Switch(i0, (i1 + i2), i1)}(i0, i1, i2), i3, i4))}} [id CK] <TensorType(int64, scalar)> ''   \n       | |   |     |   | | | | |   |Elemwise{lt,no_inplace} [id DC] <TensorType(bool, scalar)> ''   \n       | |   |     |   | | | | |   | |Elemwise{Composite{Switch(i0, i1, Switch(AND(LT((i2 + i3), i1), GT(i4, i1)), i5, minimum((i2 + i3), i6)))}} [id DD] <TensorType(int64, scalar)> ''   \n       | |   |     |   | | | | |   | | |Elemwise{le,no_inplace} [id CN] <TensorType(bool, scalar)> ''   \n       | |   |     |   | | | | |   | | |TensorConstant{0} [id BS] <TensorType(int8, scalar)>\n       | |   |     |   | | | | |   | | |TensorConstant{-1} [id BU] <TensorType(int64, scalar)>\n       | |   |     |   | | | | |   | | |Elemwise{Composite{Switch(LT(Composite{Switch(LT(i0, i1), i1, i0)}(Composite{Switch(LT(i0, i1), i2, i0)}(Composite{(i0 - Switch(LT(i1, i2), i2, i1))}(i0, Composite{(i0 - Switch(GE(i1, i2), i2, i1))}(i1, Composite{Switch(LT(i0, i1), i2, i0)}(Composite{Switch(LT(i0, i1), (i0 + i2), i0)}(Composite{Switch(i0, i1, Switch(AND(LT(i2, i1), GT(i3, i1)), (i4 - i5), maximum((i4 + i6), i2)))}(i2, i3, (i4 - i5), i5, i6, i7, i8), i3, i7), i3, i9), i7), i3), i3, i1), i3), i10), Composite{Switch(LT(i0, i1), i1, i0)}(Composite{Switch(LT(i0, i1), i2, i0)}(Composite{(i0 - Switch(LT(i1, i2), i2, i1))}(i0, Composite{(i0 - Switch(GE(i1, i2), i2, i1))}(i1, Composite{Switch(LT(i0, i1), i2, i0)}(Composite{Switch(LT(i0, i1), (i0 + i2), i0)}(Composite{Switch(i0, i1, Switch(AND(LT(i2, i1), GT(i3, i1)), (i4 - i5), maximum((i4 + i6), i2)))}(i2, i3, (i4 - i5), i5, i6, i7, i8), i3, i7), i3, i9), i7), i3), i3, i1), i3), i10)}} [id DA] <TensorType(int64, scalar)> ''   \n       | |   |     |   | | | | |   | | |Elemwise{sub,no_inplace} [id CO] <TensorType(int64, scalar)> ''   \n       | |   |     |   | | | | |   | | |Elemwise{sub,no_inplace} [id CH] <TensorType(int64, scalar)> ''   \n       | |   |     |   | | | | |   | | |Elemwise{switch,no_inplace} [id CV] <TensorType(int64, scalar)> ''   \n       | |   |     |   | | | | |   | |TensorConstant{0} [id BS] <TensorType(int8, scalar)>\n       | |   |     |   | | | | |   |Elemwise{Composite{Switch(i0, i1, Switch(AND(LT((i2 + i3), i1), GT(i4, i1)), i5, minimum((i2 + i3), i6)))}} [id DD] <TensorType(int64, scalar)> ''   \n       | |   |     |   | | | | |   |Elemwise{add,no_inplace} [id BX] <TensorType(int64, scalar)> ''   \n       | |   |     |   | | | | |   |TensorConstant{0} [id BS] <TensorType(int8, scalar)>\n       | |   |     |   | | | | |   |TensorConstant{-1} [id CA] <TensorType(int8, scalar)>\n       | |   |     |   | | | | |   |TensorConstant{1} [id CF] <TensorType(int8, scalar)>\n       | |   |     |   | | | | |   |TensorConstant{1} [id BY] <TensorType(int64, scalar)>\n       | |   |     |   | | | | |TensorConstant{1} [id CF] <TensorType(int8, scalar)>\n       | |   |     |   | | | | |TensorConstant{1} [id BY] <TensorType(int64, scalar)>\n       | |   |     |   | | | |Shape_i{0} [id P] <TensorType(int64, scalar)> ''   \n       | |   |     |   | | | |TensorConstant{1024} [id DE] <TensorType(int64, scalar)>\n       | |   |     |   | | |GpuFromHost [id DF] <CudaNdarrayType(float32, 3D)> ''   \n       | |   |     |   | | | |Rebroadcast{0} [id DG] <TensorType(float32, 3D)> ''   \n       | |   |     |   | | |   |Alloc [id DH] <TensorType(float32, (True, False, False))> ''   \n       | |   |     |   | | |     |TensorConstant{0.0} [id DI] <TensorType(float32, scalar)>\n       | |   |     |   | | |     |TensorConstant{1} [id CF] <TensorType(int8, scalar)>\n       | |   |     |   | | |     |Shape_i{0} [id P] <TensorType(int64, scalar)> ''   \n       | |   |     |   | | |     |TensorConstant{1024} [id DJ] <TensorType(int16, scalar)>\n       | |   |     |   | | |Constant{1} [id DK] <int64>\n       | |   |     |   | |GpuIncSubtensor{InplaceSet;:int64:} [id DL] <CudaNdarrayType(float32, 3D)> ''   \n       | |   |     |   | | |GpuAllocEmpty [id DM] <CudaNdarrayType(float32, 3D)> ''   \n       | |   |     |   | | | |Elemwise{Composite{(Switch(LT(maximum(i0, i1), i2), (maximum(i0, i1) + i3), (maximum(i0, i1) - i2)) + i3)}} [id DN] <TensorType(int64, scalar)> ''   \n       | |   |     |   | | | | |Elemwise{Composite{((i0 - Switch(LT(Composite{Switch(LT(i0, i1), i1, i0)}(Composite{Switch(LT(i0, i1), (i2 - i3), i0)}(Composite{((i0 - (Switch(LT(i1, i2), i2, i1) - i3)) - i3)}((Composite{Switch(GE(Composite{Switch(LT(i0, i1), i2, i0)}(Composite{Switch(i0, (i1 + i2), i1)}(i0, i1, i2), i3, i4), i2), (i2 - i5), Composite{Switch(LT(i0, i1), i2, i0)}(Composite{Switch(i0, (i1 + i2), i1)}(i0, i1, i2), i3, i4))}(i1, i2, i3, i4, i5, i6) + i7), Composite{((((i0 - Switch(GE(i1, i2), i2, i1)) - i3) // i4) + i4)}(Composite{Switch(GE(Composite{Switch(LT(i0, i1), i2, i0)}(Composite{Switch(i0, (i1 + i2), i1)}(i0, i1, i2), i3, i4), i2), (i2 - i5), Composite{Switch(LT(i0, i1), i2, i0)}(Composite{Switch(i0, (i1 + i2), i1)}(i0, i1, i2), i3, i4))}(i1, i2, i3, i4, i5, i6), Composite{Switch(LT(i0, i1), i2, i0)}(Composite{Switch(i0, (i1 + i2), i1)}(i8, i9, i3), i4, i5), i3, i6, i7), i4, i6), i4, (Composite{Switch(GE(Composite{Switch(LT(i0, i1), i2, i0)}(Composite{Switch(i0, (i1 + i2), i1)}(i0, i1, i2), i3, i4), i2), (i2 - i5), Composite{Switch(LT(i0, i1), i2, i0)}(Composite{Switch(i0, (i1 + i2), i1)}(i0, i1, i2), i3, i4))}(i1, i2, i3, i4, i5, i6) + i7), i6), i4), Composite{Switch(LT(i0, i1), i1, i0)}((Composite{Switch(GE(Composite{Switch(LT(i0, i1), i2, i0)}(Composite{Switch(i0, (i1 + i2), i1)}(i0, i1, i2), i3, i4), i2), (i2 - i5), Composite{Switch(LT(i0, i1), i2, i0)}(Composite{Switch(i0, (i1 + i2), i1)}(i0, i1, i2), i3, i4))}(i1, i2, i3, i4, i5, i6) + i7), i4)), Composite{Switch(LT(i0, i1), i1, i0)}(Composite{Switch(LT(i0, i1), (i2 - i3), i0)}(Composite{((i0 - (Switch(LT(i1, i2), i2, i1) - i3)) - i3)}((Composite{Switch(GE(Composite{Switch(LT(i0, i1), i2, i0)}(Composite{Switch(i0, (i1 + i2), i1)}(i0, i1, i2), i3, i4), i2), (i2 - i5), Composite{Switch(LT(i0, i1), i2, i0)}(Composite{Switch(i0, (i1 + i2), i1)}(i0, i1, i2), i3, i4))}(i1, i2, i3, i4, i5, i6) + i7), Composite{((((i0 - Switch(GE(i1, i2), i2, i1)) - i3) // i4) + i4)}(Composite{Switch(GE(Composite{Switch(LT(i0, i1), i2, i0)}(Composite{Switch(i0, (i1 + i2), i1)}(i0, i1, i2), i3, i4), i2), (i2 - i5), Composite{Switch(LT(i0, i1), i2, i0)}(Composite{Switch(i0, (i1 + i2), i1)}(i0, i1, i2), i3, i4))}(i1, i2, i3, i4, i5, i6), Composite{Switch(LT(i0, i1), i2, i0)}(Composite{Switch(i0, (i1 + i2), i1)}(i8, i9, i3), i4, i5), i3, i6, i7), i4, i6), i4, (Composite{Switch(GE(Composite{Switch(LT(i0, i1), i2, i0)}(Composite{Switch(i0, (i1 + i2), i1)}(i0, i1, i2), i3, i4), i2), (i2 - i5), Composite{Switch(LT(i0, i1), i2, i0)}(Composite{Switch(i0, (i1 + i2), i1)}(i0, i1, i2), i3, i4))}(i1, i2, i3, i4, i5, i6) + i7), i6), i4), Composite{Switch(LT(i0, i1), i1, i0)}((Composite{Switch(GE(Composite{Switch(LT(i0, i1), i2, i0)}(Composite{Switch(i0, (i1 + i2), i1)}(i0, i1, i2), i3, i4), i2), (i2 - i5), Composite{Switch(LT(i0, i1), i2, i0)}(Composite{Switch(i0, (i1 + i2), i1)}(i0, i1, i2), i3, i4))}(i1, i2, i3, i4, i5, i6) + i7), i4))) + i7)}} [id DO] <TensorType(int64, scalar)> ''   \n       | |   |     |   | | | | | |<TensorType(int32, scalar)> [id BF] <TensorType(int32, scalar)>\n       | |   |     |   | | | | | |Elemwise{lt,no_inplace} [id CL] <TensorType(bool, scalar)> ''   \n       | |   |     |   | | | | | |Elemwise{Composite{Switch(i0, i1, maximum(minimum((i2 + i3), i4), i5))}} [id CM] <TensorType(int64, scalar)> ''   \n       | |   |     |   | | | | | |Elemwise{add,no_inplace} [id DP] <TensorType(int32, scalar)> ''   \n       | |   |     |   | | | | | | |<TensorType(int32, scalar)> [id BF] <TensorType(int32, scalar)>\n       | |   |     |   | | | | | | |TensorConstant{1} [id DQ] <TensorType(int32, scalar)>\n       | |   |     |   | | | | | |TensorConstant{0} [id BS] <TensorType(int8, scalar)>\n       | |   |     |   | | | | | |TensorConstant{-1} [id CA] <TensorType(int8, scalar)>\n       | |   |     |   | | | | | |TensorConstant{1} [id CF] <TensorType(int8, scalar)>\n       | |   |     |   | | | | | |TensorConstant{1} [id BY] <TensorType(int64, scalar)>\n       | |   |     |   | | | | | |Elemwise{lt,no_inplace} [id DC] <TensorType(bool, scalar)> ''   \n       | |   |     |   | | | | | |Elemwise{Composite{Switch(i0, i1, Switch(AND(LT((i2 + i3), i1), GT(i4, i1)), i5, minimum((i2 + i3), i6)))}} [id DD] <TensorType(int64, scalar)> ''   \n       | |   |     |   | | | | |TensorConstant{2} [id CJ] <TensorType(int64, scalar)>\n       | |   |     |   | | | | |TensorConstant{1} [id CF] <TensorType(int8, scalar)>\n       | |   |     |   | | | | |TensorConstant{1} [id BY] <TensorType(int64, scalar)>\n       | |   |     |   | | | |Shape_i{0} [id P] <TensorType(int64, scalar)> ''   \n       | |   |     |   | | | |TensorConstant{1024} [id DE] <TensorType(int64, scalar)>\n       | |   |     |   | | |GpuFromHost [id DF] <CudaNdarrayType(float32, 3D)> ''   \n       | |   |     |   | | |Constant{1} [id DK] <int64>\n       | |   |     |   | |IncSubtensor{InplaceSet;:int64:} [id DR] <TensorType(int32, matrix)> ''   \n       | |   |     |   | | |AllocEmpty{dtype='int32'} [id DS] <TensorType(int32, matrix)> ''   \n       | |   |     |   | | | |Elemwise{Composite{(Switch(LT(maximum(i0, i1), i2), (maximum(i0, i1) + i3), (maximum(i0, i1) - i2)) + i3)}} [id DN] <TensorType(int64, scalar)> ''   \n       | |   |     |   | | | |Shape_i{0} [id P] <TensorType(int64, scalar)> ''   \n       | |   |     |   | | |Rebroadcast{0} [id DT] <TensorType(int32, matrix)> ''   \n       | |   |     |   | | | |Alloc [id DU] <TensorType(int32, row)> ''   \n       | |   |     |   | | |   |TensorConstant{(1, 1) of 36069} [id DV] <TensorType(int32, (True, True))>\n       | |   |     |   | | |   |TensorConstant{1} [id BY] <TensorType(int64, scalar)>\n       | |   |     |   | | |   |Shape_i{0} [id P] <TensorType(int64, scalar)> ''   \n       | |   |     |   | | |Constant{1} [id DK] <int64>\n       | |   |     |   | |IncSubtensor{InplaceSet;:int64:} [id DW] <TensorType(int32, matrix)> ''   \n       | |   |     |   | | |AllocEmpty{dtype='int32'} [id DX] <TensorType(int32, matrix)> ''   \n       | |   |     |   | | | |Elemwise{Composite{(Switch(LT(maximum(i0, i1), i2), (maximum(i0, i1) + i3), (maximum(i0, i1) - i2)) + i3)}} [id DY] <TensorType(int64, scalar)> ''   \n       | |   |     |   | | | | |Elemwise{Composite{((i0 - Switch(LT(i1, i2), i1, i2)) + i1)}} [id DZ] <TensorType(int64, scalar)> ''   \n       | |   |     |   | | | | | |<TensorType(int32, scalar)> [id BF] <TensorType(int32, scalar)>\n       | |   |     |   | | | | | |TensorConstant{1} [id BY] <TensorType(int64, scalar)>\n       | |   |     |   | | | | | |Elemwise{add,no_inplace} [id DP] <TensorType(int32, scalar)> ''   \n       | |   |     |   | | | | |TensorConstant{2} [id CJ] <TensorType(int64, scalar)>\n       | |   |     |   | | | | |TensorConstant{1} [id CF] <TensorType(int8, scalar)>\n       | |   |     |   | | | | |TensorConstant{1} [id BY] <TensorType(int64, scalar)>\n       | |   |     |   | | | |Shape_i{0} [id P] <TensorType(int64, scalar)> ''   \n       | |   |     |   | | |Rebroadcast{0} [id DT] <TensorType(int32, matrix)> ''   \n       | |   |     |   | | |Constant{1} [id DK] <int64>\n       | |   |     |   | |GpuIncSubtensor{InplaceSet;:int64:} [id EA] <CudaNdarrayType(float32, 3D)> ''   \n       | |   |     |   | | |GpuAllocEmpty [id EB] <CudaNdarrayType(float32, 3D)> ''   \n       | |   |     |   | | | |Elemwise{Composite{(Switch(LT(maximum(i0, i1), i2), (maximum(i0, i1) + i3), (maximum(i0, i1) - i2)) + i3)}} [id DY] <TensorType(int64, scalar)> ''   \n       | |   |     |   | | | |Shape_i{0} [id P] <TensorType(int64, scalar)> ''   \n       | |   |     |   | | | |TensorConstant{36071} [id EC] <TensorType(int64, scalar)>\n       | |   |     |   | | |GpuFromHost [id ED] <CudaNdarrayType(float32, 3D)> ''   \n       | |   |     |   | | | |Rebroadcast{0} [id EE] <TensorType(float32, 3D)> ''   \n       | |   |     |   | | |   |Alloc [id EF] <TensorType(float32, (True, False, False))> ''   \n       | |   |     |   | | |     |TensorConstant{0.0} [id DI] <TensorType(float32, scalar)>\n       | |   |     |   | | |     |TensorConstant{1} [id CF] <TensorType(int8, scalar)>\n       | |   |     |   | | |     |Shape_i{0} [id P] <TensorType(int64, scalar)> ''   \n       | |   |     |   | | |     |TensorConstant{36071} [id EG] <TensorType(int32, scalar)>\n       | |   |     |   | | |Constant{1} [id DK] <int64>\n       | |   |     |   | |GpuIncSubtensor{InplaceSet;:int64:} [id EH] <CudaNdarrayType(float32, (True, False, False))> ''   \n       | |   |     |   | | |GpuAllocEmpty [id EI] <CudaNdarrayType(float32, (True, False, False))> ''   \n       | |   |     |   | | | |TensorConstant{1} [id BY] <TensorType(int64, scalar)>\n       | |   |     |   | | | |Shape_i{0} [id P] <TensorType(int64, scalar)> ''   \n       | |   |     |   | | | |TensorConstant{1024} [id DE] <TensorType(int64, scalar)>\n       | |   |     |   | | |GpuFromHost [id EJ] <CudaNdarrayType(float32, (True, False, False))> ''   \n       | |   |     |   | | | |Alloc [id DH] <TensorType(float32, (True, False, False))> ''   \n       | |   |     |   | | |Constant{1} [id DK] <int64>\n       | |   |     |   | |DeepCopyOp [id EK] <CudaNdarrayType(float32, (True, False, False))> ''   \n       | |   |     |   | | |GpuIncSubtensor{InplaceSet;:int64:} [id EH] <CudaNdarrayType(float32, (True, False, False))> ''   \n       | |   |     |   | |IncSubtensor{InplaceSet;:int64:} [id EL] <TensorType(int32, row)> ''   \n       | |   |     |   | | |AllocEmpty{dtype='int32'} [id EM] <TensorType(int32, row)> ''   \n       | |   |     |   | | | |TensorConstant{1} [id BY] <TensorType(int64, scalar)>\n       | |   |     |   | | | |Shape_i{0} [id P] <TensorType(int64, scalar)> ''   \n       | |   |     |   | | |TensorConstant{(1, 1) of 36069} [id DV] <TensorType(int32, (True, True))>\n       | |   |     |   | | |Constant{1} [id DK] <int64>\n       | |   |     |   | |DeepCopyOp [id EN] <TensorType(int32, matrix)> ''   \n       | |   |     |   | | |IncSubtensor{InplaceSet;:int64:} [id DW] <TensorType(int32, matrix)> ''   \n       | |   |     |   | |<RandomStateType> [id EO] <RandomStateType>\n       | |   |     |   | |context embedding.W [id EP] <CudaNdarrayType(float32, matrix)>\n       | |   |     |   | |decoder intermediate.W [id EQ] <CudaNdarrayType(float32, matrix)>\n       | |   |     |   | |decoder next word probas.W [id ER] <CudaNdarrayType(float32, matrix)>\n       | |   |     |   | |GpuDot22 [id ES] <CudaNdarrayType(float32, matrix)> ''   \n       | |   |     |   | | |GpuAdvancedSubtensor1 [id ET] <CudaNdarrayType(float32, matrix)> ''   \n       | |   |     |   | | | |persona_based.emb.W [id EU] <CudaNdarrayType(float32, matrix)>\n       | |   |     |   | | | |Elemwise{Cast{int64}} [id EV] <TensorType(int64, vector)> ''   \n       | |   |     |   | | |   |personality idxs [id EW] <TensorType(int32, vector)>\n       | |   |     |   | | |GpuJoin [id EX] <CudaNdarrayType(float32, matrix)> ''   \n       | |   |     |   | |   |TensorConstant{1} [id CF] <TensorType(int8, scalar)>\n       | |   |     |   | |   |decoder_lstm.W_persona_based.each_tick_to_ingate [id EY] <CudaNdarrayType(float32, matrix)>\n       | |   |     |   | |   |decoder_lstm.W_persona_based.each_tick_to_forgetgate [id EZ] <CudaNdarrayType(float32, matrix)>\n       | |   |     |   | |   |decoder_lstm.W_persona_based.each_tick_to_cell [id FA] <CudaNdarrayType(float32, matrix)>\n       | |   |     |   | |   |decoder_lstm.W_persona_based.each_tick_to_outgate [id FB] <CudaNdarrayType(float32, matrix)>\n       | |   |     |   | |GpuDot22 [id FC] <CudaNdarrayType(float32, matrix)> ''   \n       | |   |     |   | | |GpuSubtensor{int64} [id FD] <CudaNdarrayType(float32, matrix)> ''   \n       | |   |     |   | | | |forall_inplace,gpu,scan_fn}.1 [id FE] <CudaNdarrayType(float32, 3D)> ''   \n       | |   |     |   | | | | |Elemwise{maximum,no_inplace} [id FF] <TensorType(int64, scalar)> ''   \n       | |   |     |   | | | | | |Elemwise{Composite{minimum(maximum(maximum((i0 - i1), (i0 - i1)), ((i2 + i3) - i1)), i4)}} [id FG] <TensorType(int64, scalar)> ''   \n       | |   |     |   | | | | | | |Elemwise{Composite{Switch(LT(i0, i1), i1, i0)}} [id FH] <TensorType(int64, scalar)> ''   \n       | |   |     |   | | | | | | | |Elemwise{add,no_inplace} [id FI] <TensorType(int64, scalar)> ''   \n       | |   |     |   | | | | | | | | |Elemwise{Composite{Switch(GE(Composite{Switch(LT(i0, i1), i2, i0)}(Composite{Switch(i0, (i1 + i2), i1)}(i0, i1, i2), i3, i4), i2), (i2 - i5), Composite{Switch(LT(i0, i1), i2, i0)}(Composite{Switch(i0, (i1 + i2), i1)}(i0, i1, i2), i3, i4))}} [id FJ] <TensorType(int64, scalar)> ''   \n       | |   |     |   | | | | | | | | | |Elemwise{lt,no_inplace} [id FK] <TensorType(bool, scalar)> ''   \n       | |   |     |   | | | | | | | | | | |Elemwise{Composite{Switch(i0, i1, maximum(minimum((i2 + i3), i4), i5))}} [id FL] <TensorType(int64, scalar)> ''   \n       | |   |     |   | | | | | | | | | | | |Elemwise{le,no_inplace} [id FM] <TensorType(bool, scalar)> ''   \n       | |   |     |   | | | | | | | | | | | | |Elemwise{sub,no_inplace} [id FN] <TensorType(int64, scalar)> ''   \n       | |   |     |   | | | | | | | | | | | | | |Elemwise{Composite{Switch(LT(i0, i1), i1, i0)}} [id FO] <TensorType(int64, scalar)> ''   \n       | |   |     |   | | | | | | | | | | | | | | |Elemwise{add,no_inplace} [id FP] <TensorType(int64, scalar)> ''   \n       | |   |     |   | | | | | | | | | | | | | | | |TensorConstant{1} [id BY] <TensorType(int64, scalar)>\n       | |   |     |   | | | | | | | | | | | | | | | |Elemwise{Composite{Switch(GE(Composite{Switch(LT(i0, i1), i2, i0)}(Composite{Switch(LT(i0, i1), (i0 + i2), i0)}(Composite{Switch(i0, i1, maximum(i2, i3))}(i0, i1, i2, i3), i1, i4), i1, i5), i4), i3, Composite{Switch(LT(i0, i1), i2, i0)}(Composite{Switch(LT(i0, i1), (i0 + i2), i0)}(Composite{Switch(i0, i1, maximum(i2, i3))}(i0, i1, i2, i3), i1, i4), i1, i5))}} [id FQ] <TensorType(int64, scalar)> ''   \n       | |   |     |   | | | | | | | | | | | | | | |   |Elemwise{le,no_inplace} [id FR] <TensorType(bool, scalar)> ''   \n       | |   |     |   | | | | | | | | | | | | | | |   | |Elemwise{Composite{Switch(LT(i0, i1), i0, i1)}} [id FS] <TensorType(int64, scalar)> ''   \n       | |   |     |   | | | | | | | | | | | | | | |   | | |Shape_i{1} [id Q] <TensorType(int64, scalar)> ''   \n       | |   |     |   | | | | | | | | | | | | | | |   | | |Elemwise{sub,no_inplace} [id FT] <TensorType(int64, scalar)> ''   \n       | |   |     |   | | | | | | | | | | | | | | |   | |   |Shape_i{1} [id Q] <TensorType(int64, scalar)> ''   \n       | |   |     |   | | | | | | | | | | | | | | |   | |   |Elemwise{Composite{Switch(LT(i0, i1), i0, i1)}} [id FU] <TensorType(int64, scalar)> ''   \n       | |   |     |   | | | | | | | | | | | | | | |   | |     |TensorConstant{0} [id CC] <TensorType(int64, scalar)>\n       | |   |     |   | | | | | | | | | | | | | | |   | |     |Shape_i{1} [id Q] <TensorType(int64, scalar)> ''   \n       | |   |     |   | | | | | | | | | | | | | | |   | |TensorConstant{0} [id BS] <TensorType(int8, scalar)>\n       | |   |     |   | | | | | | | | | | | | | | |   |TensorConstant{0} [id BS] <TensorType(int8, scalar)>\n       | |   |     |   | | | | | | | | | | | | | | |   |Elemwise{Composite{Switch(LT(i0, i1), i0, i1)}} [id FU] <TensorType(int64, scalar)> ''   \n       | |   |     |   | | | | | | | | | | | | | | |   |Elemwise{add,no_inplace} [id FV] <TensorType(int64, scalar)> ''   \n       | |   |     |   | | | | | | | | | | | | | | |   | |TensorConstant{-1} [id BU] <TensorType(int64, scalar)>\n       | |   |     |   | | | | | | | | | | | | | | |   | |Shape_i{1} [id Q] <TensorType(int64, scalar)> ''   \n       | |   |     |   | | | | | | | | | | | | | | |   |Shape_i{1} [id Q] <TensorType(int64, scalar)> ''   \n       | |   |     |   | | | | | | | | | | | | | | |   |TensorConstant{-1} [id CA] <TensorType(int8, scalar)>\n       | |   |     |   | | | | | | | | | | | | | | |TensorConstant{0} [id BS] <TensorType(int8, scalar)>\n       | |   |     |   | | | | | | | | | | | | | |Elemwise{Composite{Switch(LT(Composite{Switch(LT(i0, i1), i1, i0)}(Composite{Switch(LT(i0, i1), i2, i0)}(Composite{(i0 - Switch(LT(i1, i2), i2, i1))}(i0, Composite{(i0 - Switch(GE(i1, i2), i2, i1))}(i1, Composite{Switch(LT(i0, i1), i2, i0)}(Composite{Switch(LT(i0, i1), (i0 + i2), i0)}(Composite{Switch(i0, i1, Switch(AND(LT(i2, i1), GT(i3, i1)), i4, maximum((i5 + i6), i2)))}(i2, i3, (i4 - i5), i5, i6, i7, i8), i3, i9), i3, i10), i9), i3), i3, i1), i3), i11), Composite{Switch(LT(i0, i1), i1, i0)}(Composite{Switch(LT(i0, i1), i2, i0)}(Composite{(i0 - Switch(LT(i1, i2), i2, i1))}(i0, Composite{(i0 - Switch(GE(i1, i2), i2, i1))}(i1, Composite{Switch(LT(i0, i1), i2, i0)}(Composite{Switch(LT(i0, i1), (i0 + i2), i0)}(Composite{Switch(i0, i1, Switch(AND(LT(i2, i1), GT(i3, i1)), i4, maximum((i5 + i6), i2)))}(i2, i3, (i4 - i5), i5, i6, i7, i8), i3, i9), i3, i10), i9), i3), i3, i1), i3), i11)}} [id FW] <TensorType(int64, scalar)> ''   \n       | |   |     |   | | | | | | | | | | | | |   |Elemwise{add,no_inplace} [id FP] <TensorType(int64, scalar)> ''   \n       | |   |     |   | | | | | | | | | | | | |   |Elemwise{Composite{Switch(GE(Composite{Switch(LT(i0, i1), i2, i0)}(Composite{Switch(LT(i0, i1), (i0 + i2), i0)}(Composite{Switch(i0, i1, maximum(i2, i3))}(i0, i1, i2, i3), i1, i4), i1, i5), i4), i3, Composite{Switch(LT(i0, i1), i2, i0)}(Composite{Switch(LT(i0, i1), (i0 + i2), i0)}(Composite{Switch(i0, i1, maximum(i2, i3))}(i0, i1, i2, i3), i1, i4), i1, i5))}} [id FQ] <TensorType(int64, scalar)> ''   \n       | |   |     |   | | | | | | | | | | | | |   |Elemwise{le,no_inplace} [id FR] <TensorType(bool, scalar)> ''   \n       | |   |     |   | | | | | | | | | | | | |   |TensorConstant{0} [id BS] <TensorType(int8, scalar)>\n       | |   |     |   | | | | | | | | | | | | |   |Elemwise{add,no_inplace} [id FV] <TensorType(int64, scalar)> ''   \n       | |   |     |   | | | | | | | | | | | | |   |Elemwise{Composite{Switch(LT(i0, i1), i0, i1)}} [id FS] <TensorType(int64, scalar)> ''   \n       | |   |     |   | | | | | | | | | | | | |   |Elemwise{sub,no_inplace} [id FX] <TensorType(int64, scalar)> ''   \n       | |   |     |   | | | | | | | | | | | | |   | |TensorConstant{-1} [id BU] <TensorType(int64, scalar)>\n       | |   |     |   | | | | | | | | | | | | |   | |Shape_i{1} [id Q] <TensorType(int64, scalar)> ''   \n       | |   |     |   | | | | | | | | | | | | |   |TensorConstant{-1} [id BU] <TensorType(int64, scalar)>\n       | |   |     |   | | | | | | | | | | | | |   |Elemwise{Composite{Switch(LT(i0, i1), i0, i1)}} [id FU] <TensorType(int64, scalar)> ''   \n       | |   |     |   | | | | | | | | | | | | |   |Shape_i{1} [id Q] <TensorType(int64, scalar)> ''   \n       | |   |     |   | | | | | | | | | | | | |   |TensorConstant{-1} [id CA] <TensorType(int8, scalar)>\n       | |   |     |   | | | | | | | | | | | | |   |Elemwise{Composite{Switch(LT(i0, i1), i1, i0)}} [id FO] <TensorType(int64, scalar)> ''   \n       | |   |     |   | | | | | | | | | | | | |TensorConstant{0} [id BS] <TensorType(int8, scalar)>\n       | |   |     |   | | | | | | | | | | | |TensorConstant{0} [id BS] <TensorType(int8, scalar)>\n       | |   |     |   | | | | | | | | | | | |TensorConstant{-1} [id BU] <TensorType(int64, scalar)>\n       | |   |     |   | | | | | | | | | | | |Elemwise{Composite{Switch(LT(i0, i1), i1, i0)}} [id FO] <TensorType(int64, scalar)> ''   \n       | |   |     |   | | | | | | | | | | | |Shape_i{1} [id Q] <TensorType(int64, scalar)> ''   \n       | |   |     |   | | | | | | | | | | | |TensorConstant{0} [id CC] <TensorType(int64, scalar)>\n       | |   |     |   | | | | | | | | | | |TensorConstant{0} [id BS] <TensorType(int8, scalar)>\n       | |   |     |   | | | | | | | | | |Elemwise{Composite{Switch(i0, i1, maximum(minimum((i2 + i3), i4), i5))}} [id FL] <TensorType(int64, scalar)> ''   \n       | |   |     |   | | | | | | | | | |Elemwise{add,no_inplace} [id FY] <TensorType(int64, scalar)> ''   \n       | |   |     |   | | | | | | | | | | |TensorConstant{1} [id BY] <TensorType(int64, scalar)>\n       | |   |     |   | | | | | | | | | | |Shape_i{1} [id Q] <TensorType(int64, scalar)> ''   \n       | |   |     |   | | | | | | | | | |TensorConstant{0} [id BS] <TensorType(int8, scalar)>\n       | |   |     |   | | | | | | | | | |TensorConstant{-1} [id CA] <TensorType(int8, scalar)>\n       | |   |     |   | | | | | | | | | |TensorConstant{1} [id CF] <TensorType(int8, scalar)>\n       | |   |     |   | | | | | | | | |TensorConstant{1} [id BY] <TensorType(int64, scalar)>\n       | |   |     |   | | | | | | | |TensorConstant{0} [id BS] <TensorType(int8, scalar)>\n       | |   |     |   | | | | | | |TensorConstant{1} [id CF] <TensorType(int8, scalar)>\n       | |   |     |   | | | | | | |Elemwise{Composite{Switch(i0, (i1 + i2), i1)}} [id FZ] <TensorType(int64, scalar)> ''   \n       | |   |     |   | | | | | | | |Elemwise{lt,no_inplace} [id GA] <TensorType(bool, scalar)> ''   \n       | |   |     |   | | | | | | | | |Elemwise{Composite{Switch(LT((i0 - i1), i2), i3, Switch(GE((i0 - i1), i4), (i5 + i0), Switch(LE(i4, i2), (i5 + i0), i0)))}} [id GB] <TensorType(int64, scalar)> ''   \n       | |   |     |   | | | | | | | | | |Shape_i{1} [id Q] <TensorType(int64, scalar)> ''   \n       | |   |     |   | | | | | | | | | |Elemwise{Composite{Switch(LT(i0, i1), i0, i1)}} [id GC] <TensorType(int64, scalar)> ''   \n       | |   |     |   | | | | | | | | | | |TensorConstant{1} [id BY] <TensorType(int64, scalar)>\n       | |   |     |   | | | | | | | | | | |Elemwise{add,no_inplace} [id FY] <TensorType(int64, scalar)> ''   \n       | |   |     |   | | | | | | | | | |TensorConstant{0} [id BS] <TensorType(int8, scalar)>\n       | |   |     |   | | | | | | | | | |Elemwise{sub,no_inplace} [id GD] <TensorType(int64, scalar)> ''   \n       | |   |     |   | | | | | | | | | | |TensorConstant{-2} [id CI] <TensorType(int64, scalar)>\n       | |   |     |   | | | | | | | | | | |Shape_i{1} [id Q] <TensorType(int64, scalar)> ''   \n       | |   |     |   | | | | | | | | | |Elemwise{sub,no_inplace} [id GE] <TensorType(int64, scalar)> ''   \n       | |   |     |   | | | | | | | | | | |Elemwise{add,no_inplace} [id FY] <TensorType(int64, scalar)> ''   \n       | |   |     |   | | | | | | | | | | |Elemwise{Composite{Switch(LT(i0, i1), i0, i1)}} [id GC] <TensorType(int64, scalar)> ''   \n       | |   |     |   | | | | | | | | | |TensorConstant{2} [id CJ] <TensorType(int64, scalar)>\n       | |   |     |   | | | | | | | | |TensorConstant{0} [id BS] <TensorType(int8, scalar)>\n       | |   |     |   | | | | | | | |Elemwise{Composite{Switch(LT((i0 - i1), i2), i3, Switch(GE((i0 - i1), i4), (i5 + i0), Switch(LE(i4, i2), (i5 + i0), i0)))}} [id GB] <TensorType(int64, scalar)> ''   \n       | |   |     |   | | | | | | | |Elemwise{add,no_inplace} [id FY] <TensorType(int64, scalar)> ''   \n       | |   |     |   | | | | | | |TensorConstant{1} [id BY] <TensorType(int64, scalar)>\n       | |   |     |   | | | | | | |Shape_i{1} [id Q] <TensorType(int64, scalar)> ''   \n       | |   |     |   | | | | | |TensorConstant{1} [id BY] <TensorType(int64, scalar)>\n       | |   |     |   | | | | |GpuSubtensor{int64:int64:int8} [id GF] <CudaNdarrayType(float32, 3D)> ''   \n       | |   |     |   | | | | | |GpuElemwise{add,no_inplace} [id GG] <CudaNdarrayType(float32, 3D)> ''   \n       | |   |     |   | | | | | | |GpuReshape{3} [id GH] <CudaNdarrayType(float32, 3D)> ''   \n       | |   |     |   | | | | | | | |GpuDot22 [id GI] <CudaNdarrayType(float32, matrix)> ''   \n       | |   |     |   | | | | | | | | |GpuReshape{2} [id GJ] <CudaNdarrayType(float32, matrix)> ''   \n       | |   |     |   | | | | | | | | | |GpuDimShuffle{1,0,2} [id GK] <CudaNdarrayType(float32, 3D)> ''   \n       | |   |     |   | | | | | | | | | | |GpuReshape{3} [id GL] <CudaNdarrayType(float32, 3D)> ''   \n       | |   |     |   | | | | | | | | | |   |GpuAdvancedSubtensor1 [id GM] <CudaNdarrayType(float32, matrix)> ''   \n       | |   |     |   | | | | | | | | | |   | |context embedding.W [id EP] <CudaNdarrayType(float32, matrix)>\n       | |   |     |   | | | | | | | | | |   | |Elemwise{Cast{int64}} [id K] <TensorType(int64, vector)> ''   \n       | |   |     |   | | | | | | | | | |   |MakeVector{dtype='int64'} [id GN] <TensorType(int64, vector)> ''   \n       | |   |     |   | | | | | | | | | |     |Shape_i{0} [id P] <TensorType(int64, scalar)> ''   \n       | |   |     |   | | | | | | | | | |     |Shape_i{1} [id Q] <TensorType(int64, scalar)> ''   \n       | |   |     |   | | | | | | | | | |     |Shape_i{1} [id GO] <TensorType(int64, scalar)> ''   \n       | |   |     |   | | | | | | | | | |       |context embedding.W [id EP] <CudaNdarrayType(float32, matrix)>\n       | |   |     |   | | | | | | | | | |MakeVector{dtype='int64'} [id GP] <TensorType(int64, vector)> ''   \n       | |   |     |   | | | | | | | | |   |Elemwise{mul,no_inplace} [id GQ] <TensorType(int64, scalar)> ''   \n       | |   |     |   | | | | | | | | |   | |Shape_i{1} [id Q] <TensorType(int64, scalar)> ''   \n       | |   |     |   | | | | | | | | |   | |Shape_i{0} [id P] <TensorType(int64, scalar)> ''   \n       | |   |     |   | | | | | | | | |   |Shape_i{1} [id GO] <TensorType(int64, scalar)> ''   \n       | |   |     |   | | | | | | | | |GpuJoin [id GR] <CudaNdarrayType(float32, matrix)> ''   \n       | |   |     |   | | | | | | | |   |TensorConstant{1} [id CF] <TensorType(int8, scalar)>\n       | |   |     |   | | | | | | | |   |encoder_lstm.W_in_to_ingate [id GS] <CudaNdarrayType(float32, matrix)>\n       | |   |     |   | | | | | | | |   |encoder_lstm.W_in_to_forgetgate [id GT] <CudaNdarrayType(float32, matrix)>\n       | |   |     |   | | | | | | | |   |encoder_lstm.W_in_to_cell [id GU] <CudaNdarrayType(float32, matrix)>\n       | |   |     |   | | | | | | | |   |encoder_lstm.W_in_to_outgate [id GV] <CudaNdarrayType(float32, matrix)>\n       | |   |     |   | | | | | | | |MakeVector{dtype='int64'} [id GW] <TensorType(int64, vector)> ''   \n       | |   |     |   | | | | | | |   |Shape_i{1} [id Q] <TensorType(int64, scalar)> ''   \n       | |   |     |   | | | | | | |   |Shape_i{0} [id P] <TensorType(int64, scalar)> ''   \n       | |   |     |   | | | | | | |   |Elemwise{add,no_inplace} [id GX] <TensorType(int64, scalar)> ''   \n       | |   |     |   | | | | | | |     |Shape_i{1} [id GY] <TensorType(int64, scalar)> ''   \n       | |   |     |   | | | | | | |     | |encoder_lstm.W_in_to_ingate [id GS] <CudaNdarrayType(float32, matrix)>\n       | |   |     |   | | | | | | |     |Shape_i{1} [id GZ] <TensorType(int64, scalar)> ''   \n       | |   |     |   | | | | | | |     | |encoder_lstm.W_in_to_forgetgate [id GT] <CudaNdarrayType(float32, matrix)>\n       | |   |     |   | | | | | | |     |Shape_i{1} [id HA] <TensorType(int64, scalar)> ''   \n       | |   |     |   | | | | | | |     | |encoder_lstm.W_in_to_cell [id GU] <CudaNdarrayType(float32, matrix)>\n       | |   |     |   | | | | | | |     |Shape_i{1} [id HB] <TensorType(int64, scalar)> ''   \n       | |   |     |   | | | | | | |       |encoder_lstm.W_in_to_outgate [id GV] <CudaNdarrayType(float32, matrix)>\n       | |   |     |   | | | | | | |GpuDimShuffle{x,x,0} [id HC] <CudaNdarrayType(float32, (True, True, False))> ''   \n       | |   |     |   | | | | | |   |GpuJoin [id HD] <CudaNdarrayType(float32, vector)> ''   \n       | |   |     |   | | | | | |     |TensorConstant{0} [id BS] <TensorType(int8, scalar)>\n       | |   |     |   | | | | | |     |encoder_lstm.b_ingate [id HE] <CudaNdarrayType(float32, vector)>\n       | |   |     |   | | | | | |     |encoder_lstm.b_forgetgate [id HF] <CudaNdarrayType(float32, vector)>\n       | |   |     |   | | | | | |     |encoder_lstm.b_cell [id HG] <CudaNdarrayType(float32, vector)>\n       | |   |     |   | | | | | |     |encoder_lstm.b_outgate [id HH] <CudaNdarrayType(float32, vector)>\n       | |   |     |   | | | | | |ScalarFromTensor [id HI] <int64> ''   \n       | |   |     |   | | | | | | |Elemwise{Composite{Switch(LE(i0, i1), i1, i2)}} [id HJ] <TensorType(int64, scalar)> ''   \n       | |   |     |   | | | | | |   |Shape_i{1} [id Q] <TensorType(int64, scalar)> ''   \n       | |   |     |   | | | | | |   |TensorConstant{0} [id BS] <TensorType(int8, scalar)>\n       | |   |     |   | | | | | |   |TensorConstant{0} [id CC] <TensorType(int64, scalar)>\n       | |   |     |   | | | | | |ScalarFromTensor [id HK] <int64> ''   \n       | |   |     |   | | | | | | |Shape_i{1} [id Q] <TensorType(int64, scalar)> ''   \n       | |   |     |   | | | | | |Constant{1} [id HL] <int8>\n       | |   |     |   | | | | |Subtensor{int64:int64:int8} [id HM] <TensorType(bool, (False, False, True))> ''   \n       | |   |     |   | | | | | |Elemwise{neq,no_inplace} [id HN] <TensorType(bool, (False, False, True))> ''   \n       | |   |     |   | | | | | | |InplaceDimShuffle{1,0,x} [id HO] <TensorType(int32, (False, False, True))> ''   \n       | |   |     |   | | | | | | | |encoder phrase tokens [id M] <TensorType(int32, matrix)>\n       | |   |     |   | | | | | | |TensorConstant{(1, 1, 1) of 36070} [id HP] <TensorType(int32, (True, True, True))>\n       | |   |     |   | | | | | |ScalarFromTensor [id HI] <int64> ''   \n       | |   |     |   | | | | | |ScalarFromTensor [id HK] <int64> ''   \n       | |   |     |   | | | | | |Constant{1} [id HL] <int8>\n       | |   |     |   | | | | |GpuIncSubtensor{InplaceSet;:int64:} [id HQ] <CudaNdarrayType(float32, 3D)> ''   \n       | |   |     |   | | | | | |GpuAllocEmpty [id HR] <CudaNdarrayType(float32, 3D)> ''   \n       | |   |     |   | | | | | | |Elemwise{Composite{(Switch(LT(maximum(i0, i1), i2), (maximum(i0, i1) + i3), (maximum(i0, i1) - i2)) + i3)}} [id HS] <TensorType(int64, scalar)> ''   \n       | |   |     |   | | | | | | | |Elemwise{Composite{((i0 - Switch(LT(Composite{Switch(LT(i0, i1), i1, i0)}(Composite{Switch(LT(i0, i1), (i2 - i3), i0)}(Composite{((i0 - (Switch(LT(i1, i2), i2, i1) - i3)) - i3)}(i1, (i2 + i3), i4, i5), i4, i1, i5), i4), i6), Composite{Switch(LT(i0, i1), i1, i0)}(Composite{Switch(LT(i0, i1), (i2 - i3), i0)}(Composite{((i0 - (Switch(LT(i1, i2), i2, i1) - i3)) - i3)}(i1, (i2 + i3), i4, i5), i4, i1, i5), i4), i6)) + i3)}} [id HT] <TensorType(int64, scalar)> ''   \n       | |   |     |   | | | | | | | | |Elemwise{maximum,no_inplace} [id FF] <TensorType(int64, scalar)> ''   \n       | |   |     |   | | | | | | | | |Elemwise{add,no_inplace} [id FI] <TensorType(int64, scalar)> ''   \n       | |   |     |   | | | | | | | | |Elemwise{Composite{(((i0 - Switch(GE(Composite{Switch(LT(i0, i1), i2, i0)}(Composite{Switch(i0, (i1 + i2), i1)}(i1, i2, i3), i4, i5), i3), i3, Composite{Switch(LT(i0, i1), i2, i0)}(Composite{Switch(i0, (i1 + i2), i1)}(i1, i2, i3), i4, i5))) - i6) // i7)}} [id HU] <TensorType(int64, scalar)> ''   \n       | |   |     |   | | | | | | | | | |Elemwise{Composite{Switch(GE(Composite{Switch(LT(i0, i1), i2, i0)}(Composite{Switch(i0, (i1 + i2), i1)}(i0, i1, i2), i3, i4), i2), (i2 - i5), Composite{Switch(LT(i0, i1), i2, i0)}(Composite{Switch(i0, (i1 + i2), i1)}(i0, i1, i2), i3, i4))}} [id FJ] <TensorType(int64, scalar)> ''   \n       | |   |     |   | | | | | | | | | |Elemwise{lt,no_inplace} [id HV] <TensorType(bool, scalar)> ''   \n       | |   |     |   | | | | | | | | | | |Elemwise{Composite{Switch(i0, i1, Switch(i2, i3, i4))}} [id HW] <TensorType(int64, scalar)> ''   \n       | |   |     |   | | | | | | | | | | | |Elemwise{le,no_inplace} [id FM] <TensorType(bool, scalar)> ''   \n       | |   |     |   | | | | | | | | | | | |TensorConstant{0} [id BS] <TensorType(int8, scalar)>\n       | |   |     |   | | | | | | | | | | | |Elemwise{Composite{AND(LT(i0, i1), GT(i2, i1))}} [id HX] <TensorType(bool, scalar)> ''   \n       | |   |     |   | | | | | | | | | | | | |Elemwise{add,no_inplace} [id HY] <TensorType(int64, scalar)> ''   \n       | |   |     |   | | | | | | | | | | | | | |TensorConstant{-1} [id BU] <TensorType(int64, scalar)>\n       | |   |     |   | | | | | | | | | | | | | |Elemwise{Composite{Switch(LT(Composite{Switch(LT(i0, i1), i1, i0)}(Composite{Switch(LT(i0, i1), i2, i0)}(Composite{(i0 - Switch(LT(i1, i2), i2, i1))}(i0, Composite{(i0 - Switch(GE(i1, i2), i2, i1))}(i1, Composite{Switch(LT(i0, i1), i2, i0)}(Composite{Switch(LT(i0, i1), (i0 + i2), i0)}(Composite{Switch(i0, i1, Switch(AND(LT(i2, i1), GT(i3, i1)), i4, maximum((i5 + i6), i2)))}(i2, i3, (i4 - i5), i5, i6, i7, i8), i3, i9), i3, i10), i9), i3), i3, i1), i3), i11), Composite{Switch(LT(i0, i1), i1, i0)}(Composite{Switch(LT(i0, i1), i2, i0)}(Composite{(i0 - Switch(LT(i1, i2), i2, i1))}(i0, Composite{(i0 - Switch(GE(i1, i2), i2, i1))}(i1, Composite{Switch(LT(i0, i1), i2, i0)}(Composite{Switch(LT(i0, i1), (i0 + i2), i0)}(Composite{Switch(i0, i1, Switch(AND(LT(i2, i1), GT(i3, i1)), i4, maximum((i5 + i6), i2)))}(i2, i3, (i4 - i5), i5, i6, i7, i8), i3, i9), i3, i10), i9), i3), i3, i1), i3), i11)}} [id FW] <TensorType(int64, scalar)> ''   \n       | |   |     |   | | | | | | | | | | | | |TensorConstant{0} [id BS] <TensorType(int8, scalar)>\n       | |   |     |   | | | | | | | | | | | | |Elemwise{sub,no_inplace} [id FN] <TensorType(int64, scalar)> ''   \n       | |   |     |   | | | | | | | | | | | |Elemwise{sub,no_inplace} [id GD] <TensorType(int64, scalar)> ''   \n       | |   |     |   | | | | | | | | | | | |Elemwise{minimum,no_inplace} [id HZ] <TensorType(int64, scalar)> ''   \n       | |   |     |   | | | | | | | | | | |   |Elemwise{add,no_inplace} [id HY] <TensorType(int64, scalar)> ''   \n       | |   |     |   | | | | | | | | | | |   |Shape_i{1} [id Q] <TensorType(int64, scalar)> ''   \n       | |   |     |   | | | | | | | | | | |TensorConstant{0} [id BS] <TensorType(int8, scalar)>\n       | |   |     |   | | | | | | | | | |Elemwise{Composite{Switch(i0, i1, Switch(i2, i3, i4))}} [id HW] <TensorType(int64, scalar)> ''   \n       | |   |     |   | | | | | | | | | |Elemwise{add,no_inplace} [id FY] <TensorType(int64, scalar)> ''   \n       | |   |     |   | | | | | | | | | |TensorConstant{0} [id BS] <TensorType(int8, scalar)>\n       | |   |     |   | | | | | | | | | |TensorConstant{-1} [id CA] <TensorType(int8, scalar)>\n       | |   |     |   | | | | | | | | | |TensorConstant{1} [id CF] <TensorType(int8, scalar)>\n       | |   |     |   | | | | | | | | | |TensorConstant{1} [id BY] <TensorType(int64, scalar)>\n       | |   |     |   | | | | | | | | |TensorConstant{1} [id BY] <TensorType(int64, scalar)>\n       | |   |     |   | | | | | | | | |TensorConstant{0} [id BS] <TensorType(int8, scalar)>\n       | |   |     |   | | | | | | | | |TensorConstant{1} [id CF] <TensorType(int8, scalar)>\n       | |   |     |   | | | | | | | | |Elemwise{Composite{Switch(LT(i0, i1), i1, i0)}} [id FH] <TensorType(int64, scalar)> ''   \n       | |   |     |   | | | | | | | |TensorConstant{2} [id CJ] <TensorType(int64, scalar)>\n       | |   |     |   | | | | | | | |TensorConstant{1} [id CF] <TensorType(int8, scalar)>\n       | |   |     |   | | | | | | | |TensorConstant{1} [id BY] <TensorType(int64, scalar)>\n       | |   |     |   | | | | | | |Shape_i{0} [id P] <TensorType(int64, scalar)> ''   \n       | |   |     |   | | | | | | |Shape_i{1} [id IA] <TensorType(int64, scalar)> ''   \n       | |   |     |   | | | | | |   |encoder_lstm.cell_init [id IB] <CudaNdarrayType(float32, row)>\n       | |   |     |   | | | | | |Rebroadcast{0} [id IC] <CudaNdarrayType(float32, 3D)> ''   \n       | |   |     |   | | | | | | |GpuDimShuffle{x,0,1} [id ID] <CudaNdarrayType(float32, (True, False, False))> ''   \n       | |   |     |   | | | | | |   |GpuGer{inplace} [id IE] <CudaNdarrayType(float32, matrix)> ''   \n       | |   |     |   | | | | | |     |GpuAlloc{memset_0=True} [id IF] <CudaNdarrayType(float32, matrix)> ''   \n       | |   |     |   | | | | | |     | |CudaNdarrayConstant{0.0} [id IG] <CudaNdarrayType(float32, scalar)>\n       | |   |     |   | | | | | |     | |Shape_i{0} [id P] <TensorType(int64, scalar)> ''   \n       | |   |     |   | | | | | |     | |Shape_i{1} [id IA] <TensorType(int64, scalar)> ''   \n       | |   |     |   | | | | | |     |TensorConstant{1.0} [id IH] <TensorType(float32, scalar)>\n       | |   |     |   | | | | | |     |GpuDimShuffle{0} [id II] <CudaNdarrayType(float32, vector)> ''   \n       | |   |     |   | | | | | |     | |GpuAlloc [id IJ] <CudaNdarrayType(float32, col)> ''   \n       | |   |     |   | | | | | |     |   |CudaNdarrayConstant{1.0} [id IK] <CudaNdarrayType(float32, scalar)>\n       | |   |     |   | | | | | |     |   |Shape_i{0} [id P] <TensorType(int64, scalar)> ''   \n       | |   |     |   | | | | | |     |   |TensorConstant{1} [id CF] <TensorType(int8, scalar)>\n       | |   |     |   | | | | | |     |GpuDimShuffle{1} [id IL] <CudaNdarrayType(float32, vector)> ''   \n       | |   |     |   | | | | | |       |encoder_lstm.cell_init [id IB] <CudaNdarrayType(float32, row)>\n       | |   |     |   | | | | | |Constant{1} [id DK] <int64>\n       | |   |     |   | | | | |GpuIncSubtensor{InplaceSet;:int64:} [id IM] <CudaNdarrayType(float32, 3D)> ''   \n       | |   |     |   | | | | | |GpuAllocEmpty [id IN] <CudaNdarrayType(float32, 3D)> ''   \n       | |   |     |   | | | | | | |Elemwise{Composite{(Switch(LT(i0, i1), (i0 + i2), (i0 - i1)) + i2)}} [id IO] <TensorType(int64, scalar)> ''   \n       | |   |     |   | | | | | | | |Elemwise{Composite{maximum(maximum(((i0 - Switch(i1, (i2 + i3), i2)) + i4), i5), maximum(((i0 - Switch(LT(Composite{Switch(LT(i0, i1), i1, i0)}(Composite{Switch(LT(i0, i1), (i2 - i3), i0)}(Composite{((i0 - (Switch(LT(i1, i2), i2, i1) - i3)) - i3)}((Composite{Switch(GE(Composite{Switch(LT(i0, i1), i2, i0)}(Composite{Switch(i0, (i1 + i2), i1)}(i0, i1, i2), i3, i4), i2), i5, Composite{Switch(LT(i0, i1), i2, i0)}(Composite{Switch(i0, (i1 + i2), i1)}(i0, i1, i2), i3, i4))}(i6, i7, i3, i8, i9, i10) + i4), Composite{((((i0 - Switch(GE(i1, i2), i2, i1)) - i3) // i4) + i4)}(Composite{Switch(GE(Composite{Switch(LT(i0, i1), i2, i0)}(Composite{Switch(i0, (i1 + i2), i1)}(i0, i1, i2), i3, i4), i2), i5, Composite{Switch(LT(i0, i1), i2, i0)}(Composite{Switch(i0, (i1 + i2), i1)}(i0, i1, i2), i3, i4))}(i6, i7, i3, i8, i9, i10), Composite{Switch(LT(i0, i1), i2, i0)}(Composite{Switch(i0, (i1 + i2), i1)}(i11, i12, i3), i8, i9), i3, i13, i4), i8, i13), i8, (Composite{Switch(GE(Composite{Switch(LT(i0, i1), i2, i0)}(Composite{Switch(i0, (i1 + i2), i1)}(i0, i1, i2), i3, i4), i2), i5, Composite{Switch(LT(i0, i1), i2, i0)}(Composite{Switch(i0, (i1 + i2), i1)}(i0, i1, i2), i3, i4))}(i6, i7, i3, i8, i9, i10) + i4), i13), i8), Composite{Switch(LT(i0, i1), i1, i0)}((Composite{Switch(GE(Composite{Switch(LT(i0, i1), i2, i0)}(Composite{Switch(i0, (i1 + i2), i1)}(i0, i1, i2), i3, i4), i2), i5, Composite{Switch(LT(i0, i1), i2, i0)}(Composite{Switch(i0, (i1 + i2), i1)}(i0, i1, i2), i3, i4))}(i6, i7, i3, i8, i9, i10) + i4), i8)), Composite{Switch(LT(i0, i1), i1, i0)}(Composite{Switch(LT(i0, i1), (i2 - i3), i0)}(Composite{((i0 - (Switch(LT(i1, i2), i2, i1) - i3)) - i3)}((Composite{Switch(GE(Composite{Switch(LT(i0, i1), i2, i0)}(Composite{Switch(i0, (i1 + i2), i1)}(i0, i1, i2), i3, i4), i2), i5, Composite{Switch(LT(i0, i1), i2, i0)}(Composite{Switch(i0, (i1 + i2), i1)}(i0, i1, i2), i3, i4))}(i6, i7, i3, i8, i9, i10) + i4), Composite{((((i0 - Switch(GE(i1, i2), i2, i1)) - i3) // i4) + i4)}(Composite{Switch(GE(Composite{Switch(LT(i0, i1), i2, i0)}(Composite{Switch(i0, (i1 + i2), i1)}(i0, i1, i2), i3, i4), i2), i5, Composite{Switch(LT(i0, i1), i2, i0)}(Composite{Switch(i0, (i1 + i2), i1)}(i0, i1, i2), i3, i4))}(i6, i7, i3, i8, i9, i10), Composite{Switch(LT(i0, i1), i2, i0)}(Composite{Switch(i0, (i1 + i2), i1)}(i11, i12, i3), i8, i9), i3, i13, i4), i8, i13), i8, (Composite{Switch(GE(Composite{Switch(LT(i0, i1), i2, i0)}(Composite{Switch(i0, (i1 + i2), i1)}(i0, i1, i2), i3, i4), i2), i5, Composite{Switch(LT(i0, i1), i2, i0)}(Composite{Switch(i0, (i1 + i2), i1)}(i0, i1, i2), i3, i4))}(i6, i7, i3, i8, i9, i10) + i4), i13), i8), Composite{Switch(LT(i0, i1), i1, i0)}((Composite{Switch(GE(Composite{Switch(LT(i0, i1), i2, i0)}(Composite{Switch(i0, (i1 + i2), i1)}(i0, i1, i2), i3, i4), i2), i5, Composite{Switch(LT(i0, i1), i2, i0)}(Composite{Switch(i0, (i1 + i2), i1)}(i0, i1, i2), i3, i4))}(i6, i7, i3, i8, i9, i10) + i4), i8))) + i4), i5))}} [id IP] <TensorType(int64, scalar)> ''   \n       | |   |     |   | | | | | | | | |Elemwise{maximum,no_inplace} [id FF] <TensorType(int64, scalar)> ''   \n       | |   |     |   | | | | | | | | |Elemwise{lt,no_inplace} [id GA] <TensorType(bool, scalar)> ''   \n       | |   |     |   | | | | | | | | |Elemwise{Composite{Switch(LT((i0 - i1), i2), i3, Switch(GE((i0 - i1), i4), (i5 + i0), Switch(LE(i4, i2), (i5 + i0), i0)))}} [id GB] <TensorType(int64, scalar)> ''   \n       | |   |     |   | | | | | | | | |Elemwise{add,no_inplace} [id IQ] <TensorType(int64, scalar)> ''   \n       | |   |     |   | | | | | | | | | |Shape_i{1} [id Q] <TensorType(int64, scalar)> ''   \n       | |   |     |   | | | | | | | | | |TensorConstant{1} [id BY] <TensorType(int64, scalar)>\n       | |   |     |   | | | | | | | | |TensorConstant{1} [id BY] <TensorType(int64, scalar)>\n       | |   |     |   | | | | | | | | |TensorConstant{2} [id CJ] <TensorType(int64, scalar)>\n       | |   |     |   | | | | | | | | |Elemwise{lt,no_inplace} [id FK] <TensorType(bool, scalar)> ''   \n       | |   |     |   | | | | | | | | |Elemwise{Composite{Switch(i0, i1, maximum(minimum((i2 + i3), i4), i5))}} [id FL] <TensorType(int64, scalar)> ''   \n       | |   |     |   | | | | | | | | |TensorConstant{0} [id BS] <TensorType(int8, scalar)>\n       | |   |     |   | | | | | | | | |TensorConstant{-1} [id CA] <TensorType(int8, scalar)>\n       | |   |     |   | | | | | | | | |Elemwise{sub,no_inplace} [id IR] <TensorType(int64, scalar)> ''   \n       | |   |     |   | | | | | | | | | |Elemwise{add,no_inplace} [id IQ] <TensorType(int64, scalar)> ''   \n       | |   |     |   | | | | | | | | | |TensorConstant{1} [id CF] <TensorType(int8, scalar)>\n       | |   |     |   | | | | | | | | |Elemwise{lt,no_inplace} [id HV] <TensorType(bool, scalar)> ''   \n       | |   |     |   | | | | | | | | |Elemwise{Composite{Switch(i0, i1, Switch(i2, i3, i4))}} [id HW] <TensorType(int64, scalar)> ''   \n       | |   |     |   | | | | | | | | |TensorConstant{1} [id CF] <TensorType(int8, scalar)>\n       | |   |     |   | | | | | | | |TensorConstant{1} [id CF] <TensorType(int8, scalar)>\n       | |   |     |   | | | | | | | |TensorConstant{1} [id BY] <TensorType(int64, scalar)>\n       | |   |     |   | | | | | | |Shape_i{0} [id P] <TensorType(int64, scalar)> ''   \n       | |   |     |   | | | | | | |Shape_i{1} [id IS] <TensorType(int64, scalar)> ''   \n       | |   |     |   | | | | | |   |encoder_lstm.hid_init [id IT] <CudaNdarrayType(float32, row)>\n       | |   |     |   | | | | | |Rebroadcast{0} [id IU] <CudaNdarrayType(float32, 3D)> ''   \n       | |   |     |   | | | | | | |GpuDimShuffle{x,0,1} [id IV] <CudaNdarrayType(float32, (True, False, False))> ''   \n       | |   |     |   | | | | | |   |GpuGer{inplace} [id IW] <CudaNdarrayType(float32, matrix)> ''   \n       | |   |     |   | | | | | |     |GpuAlloc{memset_0=True} [id IX] <CudaNdarrayType(float32, matrix)> ''   \n       | |   |     |   | | | | | |     | |CudaNdarrayConstant{0.0} [id IG] <CudaNdarrayType(float32, scalar)>\n       | |   |     |   | | | | | |     | |Shape_i{0} [id P] <TensorType(int64, scalar)> ''   \n       | |   |     |   | | | | | |     | |Shape_i{1} [id IS] <TensorType(int64, scalar)> ''   \n       | |   |     |   | | | | | |     |TensorConstant{1.0} [id IH] <TensorType(float32, scalar)>\n       | |   |     |   | | | | | |     |GpuDimShuffle{0} [id II] <CudaNdarrayType(float32, vector)> ''   \n       | |   |     |   | | | | | |     |GpuDimShuffle{1} [id IY] <CudaNdarrayType(float32, vector)> ''   \n       | |   |     |   | | | | | |       |encoder_lstm.hid_init [id IT] <CudaNdarrayType(float32, row)>\n       | |   |     |   | | | | | |Constant{1} [id DK] <int64>\n       | |   |     |   | | | | |GpuJoin [id IZ] <CudaNdarrayType(float32, matrix)> ''   \n       | |   |     |   | | | |   |TensorConstant{1} [id CF] <TensorType(int8, scalar)>\n       | |   |     |   | | | |   |encoder_lstm.W_hid_to_ingate [id JA] <CudaNdarrayType(float32, matrix)>\n       | |   |     |   | | | |   |encoder_lstm.W_hid_to_forgetgate [id JB] <CudaNdarrayType(float32, matrix)>\n       | |   |     |   | | | |   |encoder_lstm.W_hid_to_cell [id JC] <CudaNdarrayType(float32, matrix)>\n       | |   |     |   | | | |   |encoder_lstm.W_hid_to_outgate [id JD] <CudaNdarrayType(float32, matrix)>\n       | |   |     |   | | | |ScalarFromTensor [id JE] <int64> ''   \n       | |   |     |   | | |   |Elemwise{Composite{(((i0 - i1) - i2) + i3)}} [id JF] <TensorType(int64, scalar)> ''   \n       | |   |     |   | | |     |Elemwise{Composite{Switch(i0, (i1 + i2), i1)}} [id FZ] <TensorType(int64, scalar)> ''   \n       | |   |     |   | | |     |Elemwise{maximum,no_inplace} [id JG] <TensorType(int64, scalar)> ''   \n       | |   |     |   | | |     | |Elemwise{Composite{minimum(maximum(maximum((i0 - i1), (i0 - i1)), ((i2 + i3) - i1)), i4)}} [id FG] <TensorType(int64, scalar)> ''   \n       | |   |     |   | | |     | |TensorConstant{1} [id CF] <TensorType(int8, scalar)>\n       | |   |     |   | | |     |TensorConstant{1} [id CF] <TensorType(int8, scalar)>\n       | |   |     |   | | |     |Elemwise{Composite{maximum(maximum(((i0 - Switch(i1, (i2 + i3), i2)) + i4), i5), maximum(((i0 - Switch(LT(Composite{Switch(LT(i0, i1), i1, i0)}(Composite{Switch(LT(i0, i1), (i2 - i3), i0)}(Composite{((i0 - (Switch(LT(i1, i2), i2, i1) - i3)) - i3)}((Composite{Switch(GE(Composite{Switch(LT(i0, i1), i2, i0)}(Composite{Switch(i0, (i1 + i2), i1)}(i0, i1, i2), i3, i4), i2), i5, Composite{Switch(LT(i0, i1), i2, i0)}(Composite{Switch(i0, (i1 + i2), i1)}(i0, i1, i2), i3, i4))}(i6, i7, i3, i8, i9, i10) + i4), Composite{((((i0 - Switch(GE(i1, i2), i2, i1)) - i3) // i4) + i4)}(Composite{Switch(GE(Composite{Switch(LT(i0, i1), i2, i0)}(Composite{Switch(i0, (i1 + i2), i1)}(i0, i1, i2), i3, i4), i2), i5, Composite{Switch(LT(i0, i1), i2, i0)}(Composite{Switch(i0, (i1 + i2), i1)}(i0, i1, i2), i3, i4))}(i6, i7, i3, i8, i9, i10), Composite{Switch(LT(i0, i1), i2, i0)}(Composite{Switch(i0, (i1 + i2), i1)}(i11, i12, i3), i8, i9), i3, i13, i4), i8, i13), i8, (Composite{Switch(GE(Composite{Switch(LT(i0, i1), i2, i0)}(Composite{Switch(i0, (i1 + i2), i1)}(i0, i1, i2), i3, i4), i2), i5, Composite{Switch(LT(i0, i1), i2, i0)}(Composite{Switch(i0, (i1 + i2), i1)}(i0, i1, i2), i3, i4))}(i6, i7, i3, i8, i9, i10) + i4), i13), i8), Composite{Switch(LT(i0, i1), i1, i0)}((Composite{Switch(GE(Composite{Switch(LT(i0, i1), i2, i0)}(Composite{Switch(i0, (i1 + i2), i1)}(i0, i1, i2), i3, i4), i2), i5, Composite{Switch(LT(i0, i1), i2, i0)}(Composite{Switch(i0, (i1 + i2), i1)}(i0, i1, i2), i3, i4))}(i6, i7, i3, i8, i9, i10) + i4), i8)), Composite{Switch(LT(i0, i1), i1, i0)}(Composite{Switch(LT(i0, i1), (i2 - i3), i0)}(Composite{((i0 - (Switch(LT(i1, i2), i2, i1) - i3)) - i3)}((Composite{Switch(GE(Composite{Switch(LT(i0, i1), i2, i0)}(Composite{Switch(i0, (i1 + i2), i1)}(i0, i1, i2), i3, i4), i2), i5, Composite{Switch(LT(i0, i1), i2, i0)}(Composite{Switch(i0, (i1 + i2), i1)}(i0, i1, i2), i3, i4))}(i6, i7, i3, i8, i9, i10) + i4), Composite{((((i0 - Switch(GE(i1, i2), i2, i1)) - i3) // i4) + i4)}(Composite{Switch(GE(Composite{Switch(LT(i0, i1), i2, i0)}(Composite{Switch(i0, (i1 + i2), i1)}(i0, i1, i2), i3, i4), i2), i5, Composite{Switch(LT(i0, i1), i2, i0)}(Composite{Switch(i0, (i1 + i2), i1)}(i0, i1, i2), i3, i4))}(i6, i7, i3, i8, i9, i10), Composite{Switch(LT(i0, i1), i2, i0)}(Composite{Switch(i0, (i1 + i2), i1)}(i11, i12, i3), i8, i9), i3, i13, i4), i8, i13), i8, (Composite{Switch(GE(Composite{Switch(LT(i0, i1), i2, i0)}(Composite{Switch(i0, (i1 + i2), i1)}(i0, i1, i2), i3, i4), i2), i5, Composite{Switch(LT(i0, i1), i2, i0)}(Composite{Switch(i0, (i1 + i2), i1)}(i0, i1, i2), i3, i4))}(i6, i7, i3, i8, i9, i10) + i4), i13), i8), Composite{Switch(LT(i0, i1), i1, i0)}((Composite{Switch(GE(Composite{Switch(LT(i0, i1), i2, i0)}(Composite{Switch(i0, (i1 + i2), i1)}(i0, i1, i2), i3, i4), i2), i5, Composite{Switch(LT(i0, i1), i2, i0)}(Composite{Switch(i0, (i1 + i2), i1)}(i0, i1, i2), i3, i4))}(i6, i7, i3, i8, i9, i10) + i4), i8))) + i4), i5))}} [id IP] <TensorType(int64, scalar)> ''   \n       | |   |     |   | | |GpuJoin [id JH] <CudaNdarrayType(float32, matrix)> ''   \n       | |   |     |   | |   |TensorConstant{1} [id CF] <TensorType(int8, scalar)>\n       | |   |     |   | |   |decoder_lstm.W_encoder_to_ingate [id JI] <CudaNdarrayType(float32, matrix)>\n       | |   |     |   | |   |decoder_lstm.W_encoder_to_forgetgate [id JJ] <CudaNdarrayType(float32, matrix)>\n       | |   |     |   | |   |decoder_lstm.W_encoder_to_cell [id JK] <CudaNdarrayType(float32, matrix)>\n       | |   |     |   | |   |decoder_lstm.W_encoder_to_outgate [id JL] <CudaNdarrayType(float32, matrix)>\n       | |   |     |   | |GpuJoin [id JM] <CudaNdarrayType(float32, matrix)> ''   \n       | |   |     |   | | |TensorConstant{1} [id CF] <TensorType(int8, scalar)>\n       | |   |     |   | | |decoder_lstm.W_emb_to_ingate [id JN] <CudaNdarrayType(float32, matrix)>\n       | |   |     |   | | |decoder_lstm.W_emb_to_forgetgate [id JO] <CudaNdarrayType(float32, matrix)>\n       | |   |     |   | | |decoder_lstm.W_emb_to_cell [id JP] <CudaNdarrayType(float32, matrix)>\n       | |   |     |   | | |decoder_lstm.W_emb_to_outgate [id JQ] <CudaNdarrayType(float32, matrix)>\n       | |   |     |   | |GpuJoin [id JR] <CudaNdarrayType(float32, matrix)> ''   \n       | |   |     |   | | |TensorConstant{1} [id CF] <TensorType(int8, scalar)>\n       | |   |     |   | | |decoder_lstm.W_out_to_ingate [id JS] <CudaNdarrayType(float32, matrix)>\n       | |   |     |   | | |decoder_lstm.W_out_to_forgetgate [id JT] <CudaNdarrayType(float32, matrix)>\n       | |   |     |   | | |decoder_lstm.W_out_to_cell [id JU] <CudaNdarrayType(float32, matrix)>\n       | |   |     |   | | |decoder_lstm.W_out_to_outgate [id JV] <CudaNdarrayType(float32, matrix)>\n       | |   |     |   | |GpuDimShuffle{x,0} [id JW] <CudaNdarrayType(float32, row)> ''   \n       | |   |     |   | | |GpuJoin [id JX] <CudaNdarrayType(float32, vector)> ''   \n       | |   |     |   | |   |TensorConstant{0} [id BS] <TensorType(int8, scalar)>\n       | |   |     |   | |   |decoder_lstm.b_to_ingate [id JY] <CudaNdarrayType(float32, vector)>\n       | |   |     |   | |   |decoder_lstm.b_to_forgetgate [id JZ] <CudaNdarrayType(float32, vector)>\n       | |   |     |   | |   |decoder_lstm.b_to_cell [id KA] <CudaNdarrayType(float32, vector)>\n       | |   |     |   | |   |decoder_lstm.b_to_outgate [id KB] <CudaNdarrayType(float32, vector)>\n       | |   |     |   | |GpuDimShuffle{x,x} [id KC] <CudaNdarrayType(float32, (True, True))> ''   \n       | |   |     |   | | |GpuFromHost [id KD] <CudaNdarrayType(float32, scalar)> ''   \n       | |   |     |   | |   |<TensorType(float32, scalar)> [id KE] <TensorType(float32, scalar)>\n       | |   |     |   | |GpuDimShuffle{x,0} [id KF] <CudaNdarrayType(float32, row)> ''   \n       | |   |     |   | | |decoder next word probas.b [id KG] <CudaNdarrayType(float32, vector)>\n       | |   |     |   | |GpuDimShuffle{x,0} [id KH] <CudaNdarrayType(float32, row)> ''   \n       | |   |     |   |   |decoder intermediate.b [id KI] <CudaNdarrayType(float32, vector)>\n       | |   |     |   |ScalarFromTensor [id KJ] <int64> ''   \n       | |   |     |   | |Elemwise{Composite{(((i0 - i1) - i2) + i3)}} [id KK] <TensorType(int64, scalar)> ''   \n       | |   |     |   |   |Elemwise{Composite{Switch(LT(i0, i1), i0, i1)}} [id KL] <TensorType(int64, scalar)> ''   \n       | |   |     |   |   | |TensorConstant{1} [id BY] <TensorType(int64, scalar)>\n       | |   |     |   |   | |Elemwise{add,no_inplace} [id BX] <TensorType(int64, scalar)> ''   \n       | |   |     |   |   |<TensorType(int32, scalar)> [id BF] <TensorType(int32, scalar)>\n       | |   |     |   |   |TensorConstant{1} [id CF] <TensorType(int8, scalar)>\n       | |   |     |   |   |Elemwise{maximum,no_inplace} [id KM] <TensorType(int64, scalar)> ''   \n       | |   |     |   |     |Elemwise{Composite{((i0 - Switch(LT(i1, i2), i1, i2)) + i1)}} [id DZ] <TensorType(int64, scalar)> ''   \n       | |   |     |   |     |TensorConstant{2} [id KN] <TensorType(int8, scalar)>\n       | |   |     |   |ScalarFromTensor [id KO] <int64> ''   \n       | |   |     |   | |Elemwise{Composite{(((i0 - i1) - i2) + i3)}} [id KP] <TensorType(int64, scalar)> ''   \n       | |   |     |   |   |Elemwise{add,no_inplace} [id BX] <TensorType(int64, scalar)> ''   \n       | |   |     |   |   |<TensorType(int32, scalar)> [id BF] <TensorType(int32, scalar)>\n       | |   |     |   |   |TensorConstant{1} [id CF] <TensorType(int8, scalar)>\n       | |   |     |   |   |Elemwise{maximum,no_inplace} [id KM] <TensorType(int64, scalar)> ''   \n       | |   |     |   |Constant{1} [id HL] <int8>\n       | |   |     |TensorConstant{(1,) of -1} [id N] <TensorType(int64, (True,))>\n       | |   |MakeVector{dtype='int64'} [id KQ] <TensorType(int64, vector)> ''   \n       | |     |Shape_i{0} [id P] <TensorType(int64, scalar)> ''   \n       | |     |Elemwise{sub,no_inplace} [id KR] <TensorType(int64, scalar)> ''   \n       | |     | |Elemwise{add,no_inplace} [id BX] <TensorType(int64, scalar)> ''   \n       | |     | |Elemwise{Composite{Switch(LT(i0, i1), i0, i1)}} [id KL] <TensorType(int64, scalar)> ''   \n       | |     |Shape_i{1} [id KS] <TensorType(int64, scalar)> ''   \n       | |       |W [id Z] <CudaNdarrayType(float32, matrix)>\n       | |Shape_i{0} [id P] <TensorType(int64, scalar)> ''   \n       | |Elemwise{sub,no_inplace} [id KR] <TensorType(int64, scalar)> ''   \n       | |TensorConstant{20} [id S] <TensorType(int8, scalar)>\n       | |Shape_i{1} [id KS] <TensorType(int64, scalar)> ''   \n       |TensorConstant{[ -1  20  20 512]} [id T] <TensorType(int64, vector)>\n\nInner graphs of the scan ops:\n\nforall_inplace,gpu,scan_fn&scan_fn}.3 [id BE] <TensorType(int32, matrix)> ''   \n >GpuElemwise{Composite{((tanh(i0) * scalar_sigmoid(i1)) + (i2 * scalar_sigmoid(i3)))},no_inplace} [id KT] <CudaNdarrayType(float32, matrix)> ''   \n > |GpuSubtensor{::, int64:int64:} [id KU] <CudaNdarrayType(float32, matrix)> ''   \n > | |GpuElemwise{Add}[(0, 3)] [id KV] <CudaNdarrayType(float32, matrix)> ''   \n > | | |<CudaNdarrayType(float32, row)> [id KW] <CudaNdarrayType(float32, row)> -> [id JW]\n > | | |<CudaNdarrayType(float32, matrix)> [id KX] <CudaNdarrayType(float32, matrix)> -> [id FC]\n > | | |<CudaNdarrayType(float32, matrix)> [id KY] <CudaNdarrayType(float32, matrix)> -> [id ES]\n > | | |GpuGemm{inplace} [id KZ] <CudaNdarrayType(float32, matrix)> ''   \n > | |   |GpuDot22 [id LA] <CudaNdarrayType(float32, matrix)> ''   \n > | |   | |<CudaNdarrayType(float32, matrix)> [id LB] <CudaNdarrayType(float32, matrix)> -> [id DL]\n > | |   | |<CudaNdarrayType(float32, matrix)> [id LC] <CudaNdarrayType(float32, matrix)> -> [id JR]\n > | |   |TensorConstant{1.0} [id LD] <TensorType(float32, scalar)>\n > | |   |GpuAdvancedSubtensor1 [id LE] <CudaNdarrayType(float32, matrix)> ''   \n > | |   | |context embedding.W_copy0[cuda] [id LF] <CudaNdarrayType(float32, matrix)> -> [id EP]\n > | |   | |Elemwise{Cast{int64}} [id LG] <TensorType(int64, vector)> ''   \n > | |   |   |<TensorType(int32, vector)> [id LH] <TensorType(int32, vector)> -> [id DR]\n > | |   |<CudaNdarrayType(float32, matrix)> [id LI] <CudaNdarrayType(float32, matrix)> -> [id JM]\n > | |   |TensorConstant{1.0} [id LD] <TensorType(float32, scalar)>\n > | |Constant{2048} [id LJ] <int64>\n > | |Constant{3072} [id LK] <int64>\n > |GpuSubtensor{::, int64:int64:} [id LL] <CudaNdarrayType(float32, matrix)> ''   \n > | |GpuElemwise{Add}[(0, 3)] [id KV] <CudaNdarrayType(float32, matrix)> ''   \n > | |Constant{0} [id LM] <int64>\n > | |Constant{1024} [id LN] <int64>\n > |<CudaNdarrayType(float32, matrix)> [id LO] <CudaNdarrayType(float32, matrix)> -> [id BG]\n > |GpuSubtensor{::, int64:int64:} [id LP] <CudaNdarrayType(float32, matrix)> ''   \n >   |GpuElemwise{Add}[(0, 3)] [id KV] <CudaNdarrayType(float32, matrix)> ''   \n >   |Constant{1024} [id LN] <int64>\n >   |Constant{2048} [id LJ] <int64>\n >GpuElemwise{Composite{tanh((scalar_sigmoid(i0) * i1))},no_inplace} [id LQ] <CudaNdarrayType(float32, matrix)> ''   \n > |GpuSubtensor{::, int64:int64:} [id LR] <CudaNdarrayType(float32, matrix)> ''   \n > | |GpuElemwise{Add}[(0, 3)] [id KV] <CudaNdarrayType(float32, matrix)> ''   \n > | |Constant{3072} [id LK] <int64>\n > | |Constant{4096} [id LS] <int64>\n > |GpuElemwise{Composite{((tanh(i0) * scalar_sigmoid(i1)) + (i2 * scalar_sigmoid(i3)))},no_inplace} [id KT] <CudaNdarrayType(float32, matrix)> ''   \n >ViewOp [id LT] <TensorType(int32, vector)> ''   \n > |Sum{axis=[1], acc_dtype=int64} [id LU] <TensorType(int32, vector)> ''   \n >   |Elemwise{gt,no_inplace} [id LV] <TensorType(bool, matrix)> ''   \n >     |RandomFunction{uniform}.1 [id LW] <TensorType(float32, col)> ''   \n >     | |<RandomStateType> [id LX] <RandomStateType> -> [id EO]\n >     | |MakeVector{dtype='int64'} [id LY] <TensorType(int64, vector)> ''   \n >     | | |Shape_i{0} [id LZ] <TensorType(int64, scalar)> ''   \n >     | | | |<CudaNdarrayType(float32, matrix)> [id LB] <CudaNdarrayType(float32, matrix)> -> [id DL]\n >     | | |TensorConstant{1} [id MA] <TensorType(int64, scalar)>\n >     | |TensorConstant{0.0} [id MB] <TensorType(float32, scalar)>\n >     | |TensorConstant{1.0} [id LD] <TensorType(float32, scalar)>\n >     |HostFromGpu [id MC] <TensorType(float32, matrix)> ''   \n >       |GpuSubtensor{::, :int64:} [id MD] <CudaNdarrayType(float32, matrix)> ''   \n >         |GpuCumsum{1} [id ME] <CudaNdarrayType(float32, matrix)> ''   \n >         | |GpuDimShuffle{0,1} [id MF] <CudaNdarrayType(float32, matrix)> ''   \n >         |   |GpuDnnSoftmax{tensor_format='bc01', mode='channel', algo='accurate'} [id MG] <CudaNdarrayType(float32, (False, False, True, True))> ''   \n >         |     |GpuContiguous [id MH] <CudaNdarrayType(float32, (False, False, True, True))> ''   \n >         |       |GpuDimShuffle{0,1,x,x} [id MI] <CudaNdarrayType(float32, (False, False, True, True))> ''   \n >         |         |GpuElemwise{Composite{((i0 + i1) / i2)}}[(0, 0)] [id MJ] <CudaNdarrayType(float32, matrix)> ''   \n >         |           |GpuDot22 [id MK] <CudaNdarrayType(float32, matrix)> ''   \n >         |           | |GpuElemwise{Composite{tanh((i0 + i1))}}[(0, 0)] [id ML] <CudaNdarrayType(float32, matrix)> ''   \n >         |           | | |GpuDot22 [id MM] <CudaNdarrayType(float32, matrix)> ''   \n >         |           | | | |GpuElemwise{Composite{tanh((scalar_sigmoid(i0) * i1))},no_inplace} [id LQ] <CudaNdarrayType(float32, matrix)> ''   \n >         |           | | | |decoder intermediate.W_copy0[cuda] [id MN] <CudaNdarrayType(float32, matrix)> -> [id EQ]\n >         |           | | |<CudaNdarrayType(float32, row)> [id MO] <CudaNdarrayType(float32, row)> -> [id KH]\n >         |           | |decoder next word probas.W_copy0[cuda] [id MP] <CudaNdarrayType(float32, matrix)> -> [id ER]\n >         |           |<CudaNdarrayType(float32, row)> [id MQ] <CudaNdarrayType(float32, row)> -> [id KF]\n >         |           |<CudaNdarrayType(float32, (True, True))> [id MR] <CudaNdarrayType(float32, (True, True))> -> [id KC]\n >         |Constant{-1} [id MS] <int64>\n >Sum{axis=[1], acc_dtype=int64} [id LU] <TensorType(int32, vector)> ''   \n >GpuDimShuffle{0,1} [id MF] <CudaNdarrayType(float32, matrix)> ''   \n >GpuElemwise{Composite{((tanh(i0) * scalar_sigmoid(i1)) + (i2 * scalar_sigmoid(i3)))},no_inplace} [id MT] <CudaNdarrayType(float32, matrix)> ''   \n > |GpuSubtensor{::, int64:int64:} [id MU] <CudaNdarrayType(float32, matrix)> ''   \n > | |GpuElemwise{Add}[(0, 3)] [id MV] <CudaNdarrayType(float32, matrix)> ''   \n > | | |<CudaNdarrayType(float32, row)> [id KW] <CudaNdarrayType(float32, row)> -> [id JW]\n > | | |<CudaNdarrayType(float32, matrix)> [id KX] <CudaNdarrayType(float32, matrix)> -> [id FC]\n > | | |<CudaNdarrayType(float32, matrix)> [id KY] <CudaNdarrayType(float32, matrix)> -> [id ES]\n > | | |GpuGemm{inplace} [id MW] <CudaNdarrayType(float32, matrix)> ''   \n > | |   |GpuDot22 [id MX] <CudaNdarrayType(float32, matrix)> ''   \n > | |   | |<CudaNdarrayType(float32, matrix)> [id MY] <CudaNdarrayType(float32, matrix)> -> [id EK]\n > | |   | |<CudaNdarrayType(float32, matrix)> [id LC] <CudaNdarrayType(float32, matrix)> -> [id JR]\n > | |   |TensorConstant{1.0} [id LD] <TensorType(float32, scalar)>\n > | |   |GpuAdvancedSubtensor1 [id MZ] <CudaNdarrayType(float32, matrix)> ''   \n > | |   | |context embedding.W_copy0[cuda] [id LF] <CudaNdarrayType(float32, matrix)> -> [id EP]\n > | |   | |Elemwise{Cast{int64}} [id NA] <TensorType(int64, vector)> ''   \n > | |   |   |<TensorType(int32, vector)> [id NB] <TensorType(int32, vector)> -> [id EL]\n > | |   |<CudaNdarrayType(float32, matrix)> [id LI] <CudaNdarrayType(float32, matrix)> -> [id JM]\n > | |   |TensorConstant{1.0} [id LD] <TensorType(float32, scalar)>\n > | |Constant{2048} [id LJ] <int64>\n > | |Constant{3072} [id LK] <int64>\n > |GpuSubtensor{::, int64:int64:} [id NC] <CudaNdarrayType(float32, matrix)> ''   \n > | |GpuElemwise{Add}[(0, 3)] [id MV] <CudaNdarrayType(float32, matrix)> ''   \n > | |Constant{0} [id LM] <int64>\n > | |Constant{1024} [id LN] <int64>\n > |<CudaNdarrayType(float32, matrix)> [id ND] <CudaNdarrayType(float32, matrix)> -> [id EH]\n > |GpuSubtensor{::, int64:int64:} [id NE] <CudaNdarrayType(float32, matrix)> ''   \n >   |GpuElemwise{Add}[(0, 3)] [id MV] <CudaNdarrayType(float32, matrix)> ''   \n >   |Constant{1024} [id LN] <int64>\n >   |Constant{2048} [id LJ] <int64>\n >GpuElemwise{Composite{tanh((scalar_sigmoid(i0) * i1))},no_inplace} [id NF] <CudaNdarrayType(float32, matrix)> ''   \n > |GpuSubtensor{::, int64:int64:} [id NG] <CudaNdarrayType(float32, matrix)> ''   \n > | |GpuElemwise{Add}[(0, 3)] [id MV] <CudaNdarrayType(float32, matrix)> ''   \n > | |Constant{3072} [id LK] <int64>\n > | |Constant{4096} [id LS] <int64>\n > |GpuElemwise{Composite{((tanh(i0) * scalar_sigmoid(i1)) + (i2 * scalar_sigmoid(i3)))},no_inplace} [id MT] <CudaNdarrayType(float32, matrix)> ''   \n >ViewOp [id NH] <TensorType(int32, vector)> ''   \n > |Elemwise{Cast{int32}} [id NI] <TensorType(int32, vector)> ''   \n >   |Argmax [id NJ] <TensorType(int64, vector)> 'argmax'   \n >Elemwise{Cast{int32}} [id NI] <TensorType(int32, vector)> ''   \n >RandomFunction{uniform}.0 [id LW] <RandomStateType> ''   \n\nforall_inplace,gpu,scan_fn}.1 [id FE] <CudaNdarrayType(float32, 3D)> ''   \n >GpuElemwise{Switch,no_inplace} [id NK] <CudaNdarrayType(float32, matrix)> ''   \n > |GpuFromHost [id NL] <CudaNdarrayType(float32, col)> ''   \n > | |Elemwise{Cast{float32}} [id NM] <TensorType(float32, col)> ''   \n > |   |<TensorType(bool, col)> [id NN] <TensorType(bool, col)> -> [id HM]\n > |GpuElemwise{Composite{((scalar_sigmoid(i0) * i1) + (scalar_sigmoid(i2) * tanh(i3)))},no_inplace} [id NO] <CudaNdarrayType(float32, matrix)> ''   \n > | |GpuSubtensor{::, int64:int64:} [id NP] <CudaNdarrayType(float32, matrix)> ''   \n > | | |GpuGemm{no_inplace} [id NQ] <CudaNdarrayType(float32, matrix)> ''   \n > | | | |<CudaNdarrayType(float32, matrix)> [id NR] <CudaNdarrayType(float32, matrix)> -> [id GF]\n > | | | |TensorConstant{1.0} [id NS] <TensorType(float32, scalar)>\n > | | | |<CudaNdarrayType(float32, matrix)> [id NT] <CudaNdarrayType(float32, matrix)> -> [id IM]\n > | | | |<CudaNdarrayType(float32, matrix)> [id NU] <CudaNdarrayType(float32, matrix)> -> [id IZ]\n > | | | |TensorConstant{1.0} [id NS] <TensorType(float32, scalar)>\n > | | |Constant{1024} [id NV] <int64>\n > | | |Constant{2048} [id NW] <int64>\n > | |<CudaNdarrayType(float32, matrix)> [id NX] <CudaNdarrayType(float32, matrix)> -> [id HQ]\n > | |GpuSubtensor{::, int64:int64:} [id NY] <CudaNdarrayType(float32, matrix)> ''   \n > | | |GpuGemm{no_inplace} [id NQ] <CudaNdarrayType(float32, matrix)> ''   \n > | | |Constant{0} [id NZ] <int64>\n > | | |Constant{1024} [id NV] <int64>\n > | |GpuSubtensor{::, int64:int64:} [id OA] <CudaNdarrayType(float32, matrix)> ''   \n > |   |GpuGemm{no_inplace} [id NQ] <CudaNdarrayType(float32, matrix)> ''   \n > |   |Constant{2048} [id NW] <int64>\n > |   |Constant{3072} [id OB] <int64>\n > |<CudaNdarrayType(float32, matrix)> [id NX] <CudaNdarrayType(float32, matrix)> -> [id HQ]\n >GpuElemwise{Composite{Switch(i0, tanh((i1 * scalar_sigmoid(i2))), i3)},no_inplace} [id OC] <CudaNdarrayType(float32, matrix)> ''   \n > |GpuFromHost [id NL] <CudaNdarrayType(float32, col)> ''   \n > |GpuElemwise{Composite{((scalar_sigmoid(i0) * i1) + (scalar_sigmoid(i2) * tanh(i3)))},no_inplace} [id NO] <CudaNdarrayType(float32, matrix)> ''   \n > |GpuSubtensor{::, int64:int64:} [id OD] <CudaNdarrayType(float32, matrix)> ''   \n > | |GpuGemm{no_inplace} [id NQ] <CudaNdarrayType(float32, matrix)> ''   \n > | |Constant{3072} [id OB] <int64>\n > | |Constant{4096} [id OE] <int64>\n > |<CudaNdarrayType(float32, matrix)> [id NT] <CudaNdarrayType(float32, matrix)> -> [id IM]\n\nStorage map footprint:\n - GpuAlloc{memset_0=True}.0, Shape: (2, 36071, 512), ElemSize: 4 Byte(s), TotalSize: 147746816 Byte(s)\n - forall_inplace,gpu,grad_of_scan_fn}.15, Shape: (2, 36071, 512), ElemSize: 4 Byte(s), TotalSize: 147746816 Byte(s)\n - forall_inplace,gpu,grad_of_scan_fn}.4, Shape: (21, 32, 36071), ElemSize: 4 Byte(s), TotalSize: 96958848 Byte(s)\n - GpuSubtensor{::int64}.0, Shape: (21, 32, 36071), ElemSize: 4 Byte(s), TotalSize: 96958848 Byte(s)\n - forall_inplace,gpu,grad_of_scan_fn}.33, Shape: (20, 32, 36071), ElemSize: 4 Byte(s), TotalSize: 92341760 Byte(s)\n - GpuElemwise{maximum,no_inplace}.0, Shape: (32, 20, 36071), ElemSize: 4 Byte(s), TotalSize: 92341760 Byte(s)\n - GpuSubtensor{int64:int64:int8}.0, Shape: (20, 32, 36071), ElemSize: 4 Byte(s), TotalSize: 92341760 Byte(s)\n - GpuAlloc{memset_0=True}.0, Shape: (20, 32, 36071), ElemSize: 4 Byte(s), TotalSize: 92341760 Byte(s)\n - context embedding.W, Shared Input, Shape: (36071, 512), ElemSize: 4 Byte(s), TotalSize: 73873408 Byte(s)\n - W, Shared Input, Shape: (36071, 512), ElemSize: 4 Byte(s), TotalSize: 73873408 Byte(s)\n - W, Shared Input, Shape: (36071, 512), ElemSize: 4 Byte(s), TotalSize: 73873408 Byte(s)\n - <CudaNdarrayType(float32, matrix)>, Shared Input, Shape: (36071, 512), ElemSize: 4 Byte(s), TotalSize: 73873408 Byte(s)\n - <CudaNdarrayType(float32, matrix)>, Shared Input, Shape: (36071, 512), ElemSize: 4 Byte(s), TotalSize: 73873408 Byte(s)\n - GpuAlloc{memset_0=True}.0, Shape: (36071, 512), ElemSize: 4 Byte(s), TotalSize: 73873408 Byte(s)\n - GpuDimShuffle{0,3,1,2}.0, Shape: (32, 1024, 20, 20), ElemSize: 4 Byte(s), TotalSize: 52428800 Byte(s)\n - <CudaNdarrayType(float32, matrix)>, Shared Input, Shape: (256, 36071), ElemSize: 4 Byte(s), TotalSize: 36936704 Byte(s)\n - <CudaNdarrayType(float32, matrix)>, Shared Input, Shape: (256, 36071), ElemSize: 4 Byte(s), TotalSize: 36936704 Byte(s)\n - decoder next word probas.W, Shared Input, Shape: (256, 36071), ElemSize: 4 Byte(s), TotalSize: 36936704 Byte(s)\n - GpuReshape{4}.0, Shape: (32, 20, 20, 512), ElemSize: 4 Byte(s), TotalSize: 26214400 Byte(s)\n - GpuJoin.0, Shape: (1024, 4096), ElemSize: 4 Byte(s), TotalSize: 16777216 Byte(s)\n - GpuDimShuffle{1,0}.0, Shape: (4096, 1024), ElemSize: 4 Byte(s), TotalSize: 16777216 Byte(s)\n - GpuDimShuffle{1,0}.0, Shape: (4096, 1024), ElemSize: 4 Byte(s), TotalSize: 16777216 Byte(s)\n - GpuJoin.0, Shape: (1024, 4096), ElemSize: 4 Byte(s), TotalSize: 16777216 Byte(s)\n - GpuJoin.0, Shape: (1024, 4096), ElemSize: 4 Byte(s), TotalSize: 16777216 Byte(s)\n - GpuElemwise{add,no_inplace}.0, Shape: (20, 32, 4096), ElemSize: 4 Byte(s), TotalSize: 10485760 Byte(s)\n - GpuAlloc{memset_0=True}.0, Shape: (2, 1024, 1024), ElemSize: 4 Byte(s), TotalSize: 8388608 Byte(s)\n - forall_inplace,gpu,grad_of_scan_fn}.22, Shape: (2, 1024, 1024), ElemSize: 4 Byte(s), TotalSize: 8388608 Byte(s)\n - forall_inplace,gpu,grad_of_scan_fn}.13, Shape: (2, 1024, 1024), ElemSize: 4 Byte(s), TotalSize: 8388608 Byte(s)\n - GpuJoin.0, Shape: (512, 4096), ElemSize: 4 Byte(s), TotalSize: 8388608 Byte(s)\n - GpuAlloc{memset_0=True}.0, Shape: (2, 1024, 1024), ElemSize: 4 Byte(s), TotalSize: 8388608 Byte(s)\n - forall_inplace,gpu,grad_of_scan_fn}.21, Shape: (2, 1024, 1024), ElemSize: 4 Byte(s), TotalSize: 8388608 Byte(s)\n - GpuAlloc{memset_0=True}.0, Shape: (2, 1024, 1024), ElemSize: 4 Byte(s), TotalSize: 8388608 Byte(s)\n - GpuAlloc{memset_0=True}.0, Shape: (2, 1024, 1024), ElemSize: 4 Byte(s), TotalSize: 8388608 Byte(s)\n - forall_inplace,gpu,grad_of_scan_fn}.12, Shape: (2, 1024, 1024), ElemSize: 4 Byte(s), TotalSize: 8388608 Byte(s)\n - GpuAlloc{memset_0=True}.0, Shape: (2, 1024, 1024), ElemSize: 4 Byte(s), TotalSize: 8388608 Byte(s)\n - forall_inplace,gpu,grad_of_scan_fn}.23, Shape: (2, 1024, 1024), ElemSize: 4 Byte(s), TotalSize: 8388608 Byte(s)\n - forall_inplace,gpu,grad_of_scan_fn}.11, Shape: (2, 1024, 1024), ElemSize: 4 Byte(s), TotalSize: 8388608 Byte(s)\n - forall_inplace,gpu,grad_of_scan_fn}.14, Shape: (2, 1024, 1024), ElemSize: 4 Byte(s), TotalSize: 8388608 Byte(s)\n - GpuJoin.0, Shape: (512, 4096), ElemSize: 4 Byte(s), TotalSize: 8388608 Byte(s)\n - forall_inplace,gpu,grad_of_scan_fn}.20, Shape: (2, 1024, 1024), ElemSize: 4 Byte(s), TotalSize: 8388608 Byte(s)\n - GpuAlloc{memset_0=True}.0, Shape: (2, 1024, 1024), ElemSize: 4 Byte(s), TotalSize: 8388608 Byte(s)\n - GpuAlloc{memset_0=True}.0, Shape: (2, 1024, 1024), ElemSize: 4 Byte(s), TotalSize: 8388608 Byte(s)\n - GpuDimShuffle{1,0}.0, Shape: (4096, 512), ElemSize: 4 Byte(s), TotalSize: 8388608 Byte(s)\n - GpuAlloc{memset_0=True}.0, Shape: (2, 1024, 1024), ElemSize: 4 Byte(s), TotalSize: 8388608 Byte(s)\n - <CudaNdarrayType(float32, matrix)>, Shared Input, Shape: (1024, 1024), ElemSize: 4 Byte(s), TotalSize: 4194304 Byte(s)\n - <CudaNdarrayType(float32, matrix)>, Shared Input, Shape: (1024, 1024), ElemSize: 4 Byte(s), TotalSize: 4194304 Byte(s)\n - forall_inplace,gpu,grad_of_scan_fn}.19, Shape: (2, 512, 1024), ElemSize: 4 Byte(s), TotalSize: 4194304 Byte(s)\n - <CudaNdarrayType(float32, matrix)>, Shared Input, Shape: (1024, 1024), ElemSize: 4 Byte(s), TotalSize: 4194304 Byte(s)\n - forall_inplace,gpu,grad_of_scan_fn}.18, Shape: (2, 512, 1024), ElemSize: 4 Byte(s), TotalSize: 4194304 Byte(s)\n - GpuAlloc{memset_0=True}.0, Shape: (2, 512, 1024), ElemSize: 4 Byte(s), TotalSize: 4194304 Byte(s)\n - encoder_lstm.W_hid_to_cell, Shared Input, Shape: (1024, 1024), ElemSize: 4 Byte(s), TotalSize: 4194304 Byte(s)\n - decoder_lstm.W_encoder_to_outgate, Shared Input, Shape: (1024, 1024), ElemSize: 4 Byte(s), TotalSize: 4194304 Byte(s)\n - forall_inplace,gpu,grad_of_scan_fn}.16, Shape: (2, 512, 1024), ElemSize: 4 Byte(s), TotalSize: 4194304 Byte(s)\n - encoder_lstm.W_hid_to_forgetgate, Shared Input, Shape: (1024, 1024), ElemSize: 4 Byte(s), TotalSize: 4194304 Byte(s)\n - encoder_lstm.W_hid_to_ingate, Shared Input, Shape: (1024, 1024), ElemSize: 4 Byte(s), TotalSize: 4194304 Byte(s)\n - <CudaNdarrayType(float32, matrix)>, Shared Input, Shape: (1024, 1024), ElemSize: 4 Byte(s), TotalSize: 4194304 Byte(s)\n - <CudaNdarrayType(float32, matrix)>, Shared Input, Shape: (1024, 1024), ElemSize: 4 Byte(s), TotalSize: 4194304 Byte(s)\n - <CudaNdarrayType(float32, matrix)>, Shared Input, Shape: (1024, 1024), ElemSize: 4 Byte(s), TotalSize: 4194304 Byte(s)\n - <CudaNdarrayType(float32, matrix)>, Shared Input, Shape: (1024, 1024), ElemSize: 4 Byte(s), TotalSize: 4194304 Byte(s)\n - <CudaNdarrayType(float32, matrix)>, Shared Input, Shape: (1024, 1024), ElemSize: 4 Byte(s), TotalSize: 4194304 Byte(s)\n - <CudaNdarrayType(float32, matrix)>, Shared Input, Shape: (1024, 1024), ElemSize: 4 Byte(s), TotalSize: 4194304 Byte(s)\n - <CudaNdarrayType(float32, matrix)>, Shared Input, Shape: (1024, 1024), ElemSize: 4 Byte(s), TotalSize: 4194304 Byte(s)\n - <CudaNdarrayType(float32, matrix)>, Shared Input, Shape: (1024, 1024), ElemSize: 4 Byte(s), TotalSize: 4194304 Byte(s)\n - <CudaNdarrayType(float32, matrix)>, Shared Input, Shape: (1024, 1024), ElemSize: 4 Byte(s), TotalSize: 4194304 Byte(s)\n - GpuAlloc{memset_0=True}.0, Shape: (2, 512, 1024), ElemSize: 4 Byte(s), TotalSize: 4194304 Byte(s)\n - <CudaNdarrayType(float32, matrix)>, Shared Input, Shape: (1024, 1024), ElemSize: 4 Byte(s), TotalSize: 4194304 Byte(s)\n - <CudaNdarrayType(float32, matrix)>, Shared Input, Shape: (1024, 1024), ElemSize: 4 Byte(s), TotalSize: 4194304 Byte(s)\n - decoder_lstm.W_encoder_to_forgetgate, Shared Input, Shape: (1024, 1024), ElemSize: 4 Byte(s), TotalSize: 4194304 Byte(s)\n - <CudaNdarrayType(float32, matrix)>, Shared Input, Shape: (1024, 1024), ElemSize: 4 Byte(s), TotalSize: 4194304 Byte(s)\n - forall_inplace,gpu,grad_of_scan_fn}.17, Shape: (2, 512, 1024), ElemSize: 4 Byte(s), TotalSize: 4194304 Byte(s)\n - GpuAlloc{memset_0=True}.0, Shape: (2, 512, 1024), ElemSize: 4 Byte(s), TotalSize: 4194304 Byte(s)\n - <CudaNdarrayType(float32, matrix)>, Shared Input, Shape: (1024, 1024), ElemSize: 4 Byte(s), TotalSize: 4194304 Byte(s)\n - encoder_lstm.W_hid_to_outgate, Shared Input, Shape: (1024, 1024), ElemSize: 4 Byte(s), TotalSize: 4194304 Byte(s)\n - <CudaNdarrayType(float32, matrix)>, Shared Input, Shape: (1024, 1024), ElemSize: 4 Byte(s), TotalSize: 4194304 Byte(s)\n - <CudaNdarrayType(float32, matrix)>, Shared Input, Shape: (1024, 1024), ElemSize: 4 Byte(s), TotalSize: 4194304 Byte(s)\n - <CudaNdarrayType(float32, matrix)>, Shared Input, Shape: (1024, 1024), ElemSize: 4 Byte(s), TotalSize: 4194304 Byte(s)\n - <CudaNdarrayType(float32, matrix)>, Shared Input, Shape: (1024, 1024), ElemSize: 4 Byte(s), TotalSize: 4194304 Byte(s)\n - GpuAlloc{memset_0=True}.0, Shape: (2, 512, 1024), ElemSize: 4 Byte(s), TotalSize: 4194304 Byte(s)\n - <CudaNdarrayType(float32, matrix)>, Shared Input, Shape: (1024, 1024), ElemSize: 4 Byte(s), TotalSize: 4194304 Byte(s)\n - decoder_lstm.W_encoder_to_ingate, Shared Input, Shape: (1024, 1024), ElemSize: 4 Byte(s), TotalSize: 4194304 Byte(s)\n - decoder_lstm.W_out_to_ingate, Shared Input, Shape: (1024, 1024), ElemSize: 4 Byte(s), TotalSize: 4194304 Byte(s)\n - decoder_lstm.W_encoder_to_cell, Shared Input, Shape: (1024, 1024), ElemSize: 4 Byte(s), TotalSize: 4194304 Byte(s)\n - decoder_lstm.W_out_to_cell, Shared Input, Shape: (1024, 1024), ElemSize: 4 Byte(s), TotalSize: 4194304 Byte(s)\n - decoder_lstm.W_out_to_forgetgate, Shared Input, Shape: (1024, 1024), ElemSize: 4 Byte(s), TotalSize: 4194304 Byte(s)\n - <CudaNdarrayType(float32, matrix)>, Shared Input, Shape: (1024, 1024), ElemSize: 4 Byte(s), TotalSize: 4194304 Byte(s)\n - decoder_lstm.W_out_to_outgate, Shared Input, Shape: (1024, 1024), ElemSize: 4 Byte(s), TotalSize: 4194304 Byte(s)\n - <CudaNdarrayType(float32, matrix)>, Shared Input, Shape: (1024, 1024), ElemSize: 4 Byte(s), TotalSize: 4194304 Byte(s)\n - <CudaNdarrayType(float32, matrix)>, Shared Input, Shape: (1024, 1024), ElemSize: 4 Byte(s), TotalSize: 4194304 Byte(s)\n - forall_inplace,gpu,grad_of_scan_fn}.5, Shape: (21, 32, 1024), ElemSize: 4 Byte(s), TotalSize: 2752512 Byte(s)\n - GpuAlloc{memset_0=True}.0, Shape: (21, 32, 1024), ElemSize: 4 Byte(s), TotalSize: 2752512 Byte(s)\n - GpuAlloc{memset_0=True}.0, Shape: (21, 32, 1024), ElemSize: 4 Byte(s), TotalSize: 2752512 Byte(s)\n - GpuAlloc{memset_0=True}.0, Shape: (21, 32, 1024), ElemSize: 4 Byte(s), TotalSize: 2752512 Byte(s)\n - forall_inplace,gpu,grad_of_scan_fn}.6, Shape: (21, 32, 1024), ElemSize: 4 Byte(s), TotalSize: 2752512 Byte(s)\n - forall_inplace,gpu,scan_fn}.1, Shape: (21, 32, 1024), ElemSize: 4 Byte(s), TotalSize: 2752512 Byte(s)\n - forall_inplace,gpu,scan_fn&scan_fn}.0, Shape: (21, 32, 1024), ElemSize: 4 Byte(s), TotalSize: 2752512 Byte(s)\n - forall_inplace,gpu,grad_of_scan_fn}.1, Shape: (21, 32, 1024), ElemSize: 4 Byte(s), TotalSize: 2752512 Byte(s)\n - forall_inplace,gpu,scan_fn&scan_fn}.1, Shape: (21, 32, 1024), ElemSize: 4 Byte(s), TotalSize: 2752512 Byte(s)\n - forall_inplace,gpu,grad_of_scan_fn}.0, Shape: (21, 32, 1024), ElemSize: 4 Byte(s), TotalSize: 2752512 Byte(s)\n - GpuAlloc{memset_0=True}.0, Shape: (21, 32, 1024), ElemSize: 4 Byte(s), TotalSize: 2752512 Byte(s)\n - forall_inplace,gpu,scan_fn}.0, Shape: (21, 32, 1024), ElemSize: 4 Byte(s), TotalSize: 2752512 Byte(s)\n - GpuSubtensor{int64:int64:int64}.0, Shape: (20, 32, 1024), ElemSize: 4 Byte(s), TotalSize: 2621440 Byte(s)\n - GpuDimShuffle{0,2,1}.0, Shape: (20, 1024, 32), ElemSize: 4 Byte(s), TotalSize: 2621440 Byte(s)\n - GpuAlloc{memset_0=True}.0, Shape: (20, 32, 1024), ElemSize: 4 Byte(s), TotalSize: 2621440 Byte(s)\n - GpuSubtensor{int64:int64:int64}.0, Shape: (20, 32, 1024), ElemSize: 4 Byte(s), TotalSize: 2621440 Byte(s)\n - forall_inplace,gpu,grad_of_scan_fn}.34, Shape: (20, 1024, 32), ElemSize: 4 Byte(s), TotalSize: 2621440 Byte(s)\n - GpuSubtensor{int64:int64:int64}.0, Shape: (20, 32, 1024), ElemSize: 4 Byte(s), TotalSize: 2621440 Byte(s)\n - encoder_lstm.W_in_to_ingate, Shared Input, Shape: (512, 1024), ElemSize: 4 Byte(s), TotalSize: 2097152 Byte(s)\n - encoder_lstm.W_in_to_forgetgate, Shared Input, Shape: (512, 1024), ElemSize: 4 Byte(s), TotalSize: 2097152 Byte(s)\n - <CudaNdarrayType(float32, matrix)>, Shared Input, Shape: (512, 1024), ElemSize: 4 Byte(s), TotalSize: 2097152 Byte(s)\n - <CudaNdarrayType(float32, matrix)>, Shared Input, Shape: (512, 1024), ElemSize: 4 Byte(s), TotalSize: 2097152 Byte(s)\n - <CudaNdarrayType(float32, matrix)>, Shared Input, Shape: (512, 1024), ElemSize: 4 Byte(s), TotalSize: 2097152 Byte(s)\n - <CudaNdarrayType(float32, matrix)>, Shared Input, Shape: (512, 1024), ElemSize: 4 Byte(s), TotalSize: 2097152 Byte(s)\n - <CudaNdarrayType(float32, matrix)>, Shared Input, Shape: (512, 1024), ElemSize: 4 Byte(s), TotalSize: 2097152 Byte(s)\n - <CudaNdarrayType(float32, matrix)>, Shared Input, Shape: (512, 1024), ElemSize: 4 Byte(s), TotalSize: 2097152 Byte(s)\n - <CudaNdarrayType(float32, matrix)>, Shared Input, Shape: (512, 1024), ElemSize: 4 Byte(s), TotalSize: 2097152 Byte(s)\n - <CudaNdarrayType(float32, matrix)>, Shared Input, Shape: (512, 1024), ElemSize: 4 Byte(s), TotalSize: 2097152 Byte(s)\n - <CudaNdarrayType(float32, matrix)>, Shared Input, Shape: (512, 1024), ElemSize: 4 Byte(s), TotalSize: 2097152 Byte(s)\n - <CudaNdarrayType(float32, matrix)>, Shared Input, Shape: (512, 1024), ElemSize: 4 Byte(s), TotalSize: 2097152 Byte(s)\n - <CudaNdarrayType(float32, matrix)>, Shared Input, Shape: (512, 1024), ElemSize: 4 Byte(s), TotalSize: 2097152 Byte(s)\n - encoder_lstm.W_in_to_outgate, Shared Input, Shape: (512, 1024), ElemSize: 4 Byte(s), TotalSize: 2097152 Byte(s)\n - <CudaNdarrayType(float32, matrix)>, Shared Input, Shape: (512, 1024), ElemSize: 4 Byte(s), TotalSize: 2097152 Byte(s)\n - <CudaNdarrayType(float32, matrix)>, Shared Input, Shape: (512, 1024), ElemSize: 4 Byte(s), TotalSize: 2097152 Byte(s)\n - <CudaNdarrayType(float32, matrix)>, Shared Input, Shape: (512, 1024), ElemSize: 4 Byte(s), TotalSize: 2097152 Byte(s)\n - decoder_lstm.W_emb_to_cell, Shared Input, Shape: (512, 1024), ElemSize: 4 Byte(s), TotalSize: 2097152 Byte(s)\n - decoder_lstm.W_emb_to_forgetgate, Shared Input, Shape: (512, 1024), ElemSize: 4 Byte(s), TotalSize: 2097152 Byte(s)\n - <CudaNdarrayType(float32, matrix)>, Shared Input, Shape: (512, 1024), ElemSize: 4 Byte(s), TotalSize: 2097152 Byte(s)\n - encoder_lstm.W_in_to_cell, Shared Input, Shape: (512, 1024), ElemSize: 4 Byte(s), TotalSize: 2097152 Byte(s)\n - decoder_lstm.W_emb_to_outgate, Shared Input, Shape: (512, 1024), ElemSize: 4 Byte(s), TotalSize: 2097152 Byte(s)\n - decoder_lstm.W_emb_to_ingate, Shared Input, Shape: (512, 1024), ElemSize: 4 Byte(s), TotalSize: 2097152 Byte(s)\n - <CudaNdarrayType(float32, matrix)>, Shared Input, Shape: (512, 1024), ElemSize: 4 Byte(s), TotalSize: 2097152 Byte(s)\n - GpuJoin.0, Shape: (100, 4096), ElemSize: 4 Byte(s), TotalSize: 1638400 Byte(s)\n - GpuDimShuffle{1,0}.0, Shape: (4096, 100), ElemSize: 4 Byte(s), TotalSize: 1638400 Byte(s)\n - GpuReshape{2}.0, Shape: (640, 512), ElemSize: 4 Byte(s), TotalSize: 1310720 Byte(s)\n - persona_based.emb.W, Shared Input, Shape: (3194, 100), ElemSize: 4 Byte(s), TotalSize: 1277600 Byte(s)\n - <CudaNdarrayType(float32, matrix)>, Shared Input, Shape: (3194, 100), ElemSize: 4 Byte(s), TotalSize: 1277600 Byte(s)\n - <CudaNdarrayType(float32, matrix)>, Shared Input, Shape: (3194, 100), ElemSize: 4 Byte(s), TotalSize: 1277600 Byte(s)\n - decoder intermediate.W, Shared Input, Shape: (1024, 256), ElemSize: 4 Byte(s), TotalSize: 1048576 Byte(s)\n - <CudaNdarrayType(float32, matrix)>, Shared Input, Shape: (1024, 256), ElemSize: 4 Byte(s), TotalSize: 1048576 Byte(s)\n - <CudaNdarrayType(float32, matrix)>, Shared Input, Shape: (1024, 256), ElemSize: 4 Byte(s), TotalSize: 1048576 Byte(s)\n - GpuAlloc{memset_0=True}.0, Shape: (2, 100, 1024), ElemSize: 4 Byte(s), TotalSize: 819200 Byte(s)\n - forall_inplace,gpu,grad_of_scan_fn}.26, Shape: (2, 100, 1024), ElemSize: 4 Byte(s), TotalSize: 819200 Byte(s)\n - forall_inplace,gpu,grad_of_scan_fn}.25, Shape: (2, 100, 1024), ElemSize: 4 Byte(s), TotalSize: 819200 Byte(s)\n - forall_inplace,gpu,grad_of_scan_fn}.24, Shape: (2, 100, 1024), ElemSize: 4 Byte(s), TotalSize: 819200 Byte(s)\n - GpuAlloc{memset_0=True}.0, Shape: (2, 100, 1024), ElemSize: 4 Byte(s), TotalSize: 819200 Byte(s)\n - GpuAlloc{memset_0=True}.0, Shape: (2, 100, 1024), ElemSize: 4 Byte(s), TotalSize: 819200 Byte(s)\n - forall_inplace,gpu,grad_of_scan_fn}.27, Shape: (2, 100, 1024), ElemSize: 4 Byte(s), TotalSize: 819200 Byte(s)\n - GpuAlloc{memset_0=True}.0, Shape: (2, 100, 1024), ElemSize: 4 Byte(s), TotalSize: 819200 Byte(s)\n - W, Shared Input, Shape: (20, 1024, 3, 3), ElemSize: 4 Byte(s), TotalSize: 737280 Byte(s)\n - forall_inplace,gpu,grad_of_scan_fn}.35, Shape: (20, 32, 256), ElemSize: 4 Byte(s), TotalSize: 655360 Byte(s)\n - forall_inplace,gpu,grad_of_scan_fn}.32, Shape: (20, 256, 32), ElemSize: 4 Byte(s), TotalSize: 655360 Byte(s)\n - GpuDot22.0, Shape: (32, 4096), ElemSize: 4 Byte(s), TotalSize: 524288 Byte(s)\n - GpuDot22.0, Shape: (32, 4096), ElemSize: 4 Byte(s), TotalSize: 524288 Byte(s)\n - decoder_lstm.W_persona_based.each_tick_to_cell, Shared Input, Shape: (100, 1024), ElemSize: 4 Byte(s), TotalSize: 409600 Byte(s)\n - decoder_lstm.W_persona_based.each_tick_to_outgate, Shared Input, Shape: (100, 1024), ElemSize: 4 Byte(s), TotalSize: 409600 Byte(s)\n - decoder_lstm.W_persona_based.each_tick_to_forgetgate, Shared Input, Shape: (100, 1024), ElemSize: 4 Byte(s), TotalSize: 409600 Byte(s)\n - <CudaNdarrayType(float32, matrix)>, Shared Input, Shape: (100, 1024), ElemSize: 4 Byte(s), TotalSize: 409600 Byte(s)\n - <CudaNdarrayType(float32, matrix)>, Shared Input, Shape: (100, 1024), ElemSize: 4 Byte(s), TotalSize: 409600 Byte(s)\n - decoder_lstm.W_persona_based.each_tick_to_ingate, Shared Input, Shape: (100, 1024), ElemSize: 4 Byte(s), TotalSize: 409600 Byte(s)\n - <CudaNdarrayType(float32, matrix)>, Shared Input, Shape: (100, 1024), ElemSize: 4 Byte(s), TotalSize: 409600 Byte(s)\n - <CudaNdarrayType(float32, matrix)>, Shared Input, Shape: (100, 1024), ElemSize: 4 Byte(s), TotalSize: 409600 Byte(s)\n - <CudaNdarrayType(float32, matrix)>, Shared Input, Shape: (100, 1024), ElemSize: 4 Byte(s), TotalSize: 409600 Byte(s)\n - <CudaNdarrayType(float32, matrix)>, Shared Input, Shape: (100, 1024), ElemSize: 4 Byte(s), TotalSize: 409600 Byte(s)\n - <CudaNdarrayType(float32, matrix)>, Shared Input, Shape: (100, 1024), ElemSize: 4 Byte(s), TotalSize: 409600 Byte(s)\n - <CudaNdarrayType(float32, matrix)>, Shared Input, Shape: (100, 1024), ElemSize: 4 Byte(s), TotalSize: 409600 Byte(s)\n - GpuAlloc{memset_0=True}.0, Shape: (2, 36071), ElemSize: 4 Byte(s), TotalSize: 288568 Byte(s)\n - forall_inplace,gpu,grad_of_scan_fn}.29, Shape: (2, 36071), ElemSize: 4 Byte(s), TotalSize: 288568 Byte(s)\n - GpuAlloc{memset_0=True}.0, Shape: (2, 32, 1024), ElemSize: 4 Byte(s), TotalSize: 262144 Byte(s)\n - forall_inplace,gpu,grad_of_scan_fn}.31, Shape: (2, 32, 1024), ElemSize: 4 Byte(s), TotalSize: 262144 Byte(s)\n - decoder next word probas.b, Shared Input, Shape: (36071,), ElemSize: 4 Byte(s), TotalSize: 144284 Byte(s)\n - <CudaNdarrayType(float32, vector)>, Shared Input, Shape: (36071,), ElemSize: 4 Byte(s), TotalSize: 144284 Byte(s)\n - <CudaNdarrayType(float32, vector)>, Shared Input, Shape: (36071,), ElemSize: 4 Byte(s), TotalSize: 144284 Byte(s)\n - GpuDimShuffle{x,0}.0, Shape: (1, 36071), ElemSize: 4 Byte(s), TotalSize: 144284 Byte(s)\n - GpuDimShuffle{1,0}.0, Shape: (1024, 32), ElemSize: 4 Byte(s), TotalSize: 131072 Byte(s)\n - GpuSubtensor{int64}.0, Shape: (32, 1024), ElemSize: 4 Byte(s), TotalSize: 131072 Byte(s)\n - forall_inplace,gpu,scan_fn&scan_fn}.6, Shape: (1, 32, 1024), ElemSize: 4 Byte(s), TotalSize: 131072 Byte(s)\n - forall_inplace,gpu,scan_fn&scan_fn}.5, Shape: (1, 32, 1024), ElemSize: 4 Byte(s), TotalSize: 131072 Byte(s)\n - forall_inplace,gpu,grad_of_scan_fn}.30, Shape: (2, 32, 100), ElemSize: 4 Byte(s), TotalSize: 25600 Byte(s)\n - GpuAlloc{memset_0=True}.0, Shape: (2, 32, 100), ElemSize: 4 Byte(s), TotalSize: 25600 Byte(s)\n - GpuDimShuffle{x,0}.0, Shape: (1, 4096), ElemSize: 4 Byte(s), TotalSize: 16384 Byte(s)\n - W, Shared Input, Shape: (20, 20, 3, 3), ElemSize: 4 Byte(s), TotalSize: 14400 Byte(s)\n - W, Shared Input, Shape: (180, 20), ElemSize: 4 Byte(s), TotalSize: 14400 Byte(s)\n - GpuAdvancedSubtensor1.0, Shape: (32, 100), ElemSize: 4 Byte(s), TotalSize: 12800 Byte(s)\n - GpuDimShuffle{1,0}.0, Shape: (100, 32), ElemSize: 4 Byte(s), TotalSize: 12800 Byte(s)\n - forall_inplace,gpu,grad_of_scan_fn}.10, Shape: (2, 1024), ElemSize: 4 Byte(s), TotalSize: 8192 Byte(s)\n - forall_inplace,gpu,grad_of_scan_fn}.7, Shape: (2, 1024), ElemSize: 4 Byte(s), TotalSize: 8192 Byte(s)\n - forall_inplace,gpu,grad_of_scan_fn}.8, Shape: (2, 1024), ElemSize: 4 Byte(s), TotalSize: 8192 Byte(s)\n - forall_inplace,gpu,grad_of_scan_fn}.9, Shape: (2, 1024), ElemSize: 4 Byte(s), TotalSize: 8192 Byte(s)\n - GpuAlloc{memset_0=True}.0, Shape: (2, 1024), ElemSize: 4 Byte(s), TotalSize: 8192 Byte(s)\n - GpuAlloc{memset_0=True}.0, Shape: (2, 1024), ElemSize: 4 Byte(s), TotalSize: 8192 Byte(s)\n - GpuAlloc{memset_0=True}.0, Shape: (2, 1024), ElemSize: 4 Byte(s), TotalSize: 8192 Byte(s)\n - GpuAlloc{memset_0=True}.0, Shape: (2, 1024), ElemSize: 4 Byte(s), TotalSize: 8192 Byte(s)\n - Elemwise{Cast{int64}}.0, Shape: (640,), ElemSize: 8 Byte(s), TotalSize: 5120 Byte(s)\n - <CudaNdarrayType(float32, vector)>, Shared Input, Shape: (1024,), ElemSize: 4 Byte(s), TotalSize: 4096 Byte(s)\n - encoder_lstm.b_forgetgate, Shared Input, Shape: (1024,), ElemSize: 4 Byte(s), TotalSize: 4096 Byte(s)\n - encoder_lstm.cell_init, Shared Input, Shape: (1, 1024), ElemSize: 4 Byte(s), TotalSize: 4096 Byte(s)\n - encoder_lstm.hid_init, Shared Input, Shape: (1, 1024), ElemSize: 4 Byte(s), TotalSize: 4096 Byte(s)\n - encoder_lstm.b_cell, Shared Input, Shape: (1024,), ElemSize: 4 Byte(s), TotalSize: 4096 Byte(s)\n - decoder_lstm.b_to_outgate, Shared Input, Shape: (1024,), ElemSize: 4 Byte(s), TotalSize: 4096 Byte(s)\n - encoder_lstm.b_ingate, Shared Input, Shape: (1024,), ElemSize: 4 Byte(s), TotalSize: 4096 Byte(s)\n - encoder_lstm.b_outgate, Shared Input, Shape: (1024,), ElemSize: 4 Byte(s), TotalSize: 4096 Byte(s)\n - <CudaNdarrayType(float32, vector)>, Shared Input, Shape: (1024,), ElemSize: 4 Byte(s), TotalSize: 4096 Byte(s)\n - <CudaNdarrayType(float32, vector)>, Shared Input, Shape: (1024,), ElemSize: 4 Byte(s), TotalSize: 4096 Byte(s)\n - <CudaNdarrayType(float32, vector)>, Shared Input, Shape: (1024,), ElemSize: 4 Byte(s), TotalSize: 4096 Byte(s)\n - <CudaNdarrayType(float32, vector)>, Shared Input, Shape: (1024,), ElemSize: 4 Byte(s), TotalSize: 4096 Byte(s)\n - <CudaNdarrayType(float32, vector)>, Shared Input, Shape: (1024,), ElemSize: 4 Byte(s), TotalSize: 4096 Byte(s)\n - <CudaNdarrayType(float32, vector)>, Shared Input, Shape: (1024,), ElemSize: 4 Byte(s), TotalSize: 4096 Byte(s)\n - <CudaNdarrayType(float32, vector)>, Shared Input, Shape: (1024,), ElemSize: 4 Byte(s), TotalSize: 4096 Byte(s)\n - <CudaNdarrayType(float32, vector)>, Shared Input, Shape: (1024,), ElemSize: 4 Byte(s), TotalSize: 4096 Byte(s)\n - <CudaNdarrayType(float32, vector)>, Shared Input, Shape: (1024,), ElemSize: 4 Byte(s), TotalSize: 4096 Byte(s)\n - <CudaNdarrayType(float32, vector)>, Shared Input, Shape: (1024,), ElemSize: 4 Byte(s), TotalSize: 4096 Byte(s)\n - <CudaNdarrayType(float32, vector)>, Shared Input, Shape: (1024,), ElemSize: 4 Byte(s), TotalSize: 4096 Byte(s)\n - <CudaNdarrayType(float32, vector)>, Shared Input, Shape: (1024,), ElemSize: 4 Byte(s), TotalSize: 4096 Byte(s)\n - decoder_lstm.b_to_ingate, Shared Input, Shape: (1024,), ElemSize: 4 Byte(s), TotalSize: 4096 Byte(s)\n - decoder_lstm.b_to_forgetgate, Shared Input, Shape: (1024,), ElemSize: 4 Byte(s), TotalSize: 4096 Byte(s)\n - <CudaNdarrayType(float32, vector)>, Shared Input, Shape: (1024,), ElemSize: 4 Byte(s), TotalSize: 4096 Byte(s)\n - decoder_lstm.b_to_cell, Shared Input, Shape: (1024,), ElemSize: 4 Byte(s), TotalSize: 4096 Byte(s)\n - <CudaNdarrayType(float32, vector)>, Shared Input, Shape: (1024,), ElemSize: 4 Byte(s), TotalSize: 4096 Byte(s)\n - <CudaNdarrayType(float32, vector)>, Shared Input, Shape: (1024,), ElemSize: 4 Byte(s), TotalSize: 4096 Byte(s)\n - forall_inplace,gpu,grad_of_scan_fn}.3, Shape: (21, 32), ElemSize: 4 Byte(s), TotalSize: 2688 Byte(s)\n - forall_inplace,gpu,grad_of_scan_fn}.2, Shape: (21, 32), ElemSize: 4 Byte(s), TotalSize: 2688 Byte(s)\n - GpuAlloc{memset_0=True}.0, Shape: (21, 32), ElemSize: 4 Byte(s), TotalSize: 2688 Byte(s)\n - forall_inplace,gpu,scan_fn&scan_fn}.2, Shape: (21, 32), ElemSize: 4 Byte(s), TotalSize: 2688 Byte(s)\n - GpuAlloc{memset_0=True}.0, Shape: (21, 32), ElemSize: 4 Byte(s), TotalSize: 2688 Byte(s)\n - GpuAlloc{memset_0=True}.0, Shape: (20, 32), ElemSize: 4 Byte(s), TotalSize: 2560 Byte(s)\n - InplaceDimShuffle{1,0}.0, Shape: (32, 20), ElemSize: 4 Byte(s), TotalSize: 2560 Byte(s)\n - Subtensor{int64:int64:int64}.0, Shape: (20, 32), ElemSize: 4 Byte(s), TotalSize: 2560 Byte(s)\n - encoder phrase tokens, Input, Shape: (32, 20), ElemSize: 4 Byte(s), TotalSize: 2560 Byte(s)\n - forall_inplace,gpu,scan_fn&scan_fn}.8, Shape: (20, 32), ElemSize: 4 Byte(s), TotalSize: 2560 Byte(s)\n - GpuFromHost.0, Shape: (32, 20), ElemSize: 4 Byte(s), TotalSize: 2560 Byte(s)\n - forall_inplace,gpu,grad_of_scan_fn}.28, Shape: (2, 256), ElemSize: 4 Byte(s), TotalSize: 2048 Byte(s)\n - GpuAlloc{memset_0=True}.0, Shape: (2, 256), ElemSize: 4 Byte(s), TotalSize: 2048 Byte(s)\n - decoder intermediate.b, Shared Input, Shape: (256,), ElemSize: 4 Byte(s), TotalSize: 1024 Byte(s)\n - GpuDimShuffle{x,0}.0, Shape: (1, 256), ElemSize: 4 Byte(s), TotalSize: 1024 Byte(s)\n - <CudaNdarrayType(float32, vector)>, Shared Input, Shape: (256,), ElemSize: 4 Byte(s), TotalSize: 1024 Byte(s)\n - <CudaNdarrayType(float32, vector)>, Shared Input, Shape: (256,), ElemSize: 4 Byte(s), TotalSize: 1024 Byte(s)\n - Elemwise{neq,no_inplace}.0, Shape: (20, 32, 1), ElemSize: 1 Byte(s), TotalSize: 640 Byte(s)\n - InplaceDimShuffle{0,x}.0, Shape: (32, 1), ElemSize: 8 Byte(s), TotalSize: 256 Byte(s)\n - Elemwise{Cast{int64}}.0, Shape: (32,), ElemSize: 8 Byte(s), TotalSize: 256 Byte(s)\n - W, Shared Input, Shape: (20, 2), ElemSize: 4 Byte(s), TotalSize: 160 Byte(s)\n - InplaceDimShuffle{x,0}.0, Shape: (1, 20), ElemSize: 8 Byte(s), TotalSize: 160 Byte(s)\n - personality idxs, Input, Shape: (32,), ElemSize: 4 Byte(s), TotalSize: 128 Byte(s)\n - forall_inplace,gpu,scan_fn&scan_fn}.7, Shape: (1, 32), ElemSize: 4 Byte(s), TotalSize: 128 Byte(s)\n - b, Shared Input, Shape: (20,), ElemSize: 4 Byte(s), TotalSize: 80 Byte(s)\n - b, Shared Input, Shape: (20,), ElemSize: 4 Byte(s), TotalSize: 80 Byte(s)\n - b, Shared Input, Shape: (20,), ElemSize: 4 Byte(s), TotalSize: 80 Byte(s)\n - MakeVector{dtype='int64'}.0, Shape: (4,), ElemSize: 8 Byte(s), TotalSize: 32 Byte(s)\n - TensorConstant{[ -1  20  20 512]}, Shape: (4,), ElemSize: 8 Byte(s), TotalSize: 32 Byte(s)\n - MakeVector{dtype='int64'}.0, Shape: (4,), ElemSize: 8 Byte(s), TotalSize: 32 Byte(s)\n - MakeVector{dtype='int64'}.0, Shape: (4,), ElemSize: 8 Byte(s), TotalSize: 32 Byte(s)\n - MakeVector{dtype='int64'}.0, Shape: (4,), ElemSize: 8 Byte(s), TotalSize: 32 Byte(s)\n - MakeVector{dtype='int64'}.0, Shape: (4,), ElemSize: 8 Byte(s), TotalSize: 32 Byte(s)\n - MakeVector{dtype='int64'}.0, Shape: (3,), ElemSize: 8 Byte(s), TotalSize: 24 Byte(s)\n - TensorConstant{(2,) of 0}, Shape: (2,), ElemSize: 8 Byte(s), TotalSize: 16 Byte(s)\n - TensorConstant{(2,) of 2}, Shape: (2,), ElemSize: 8 Byte(s), TotalSize: 16 Byte(s)\n - TensorConstant{(1,) of -1}, Shape: (1,), ElemSize: 8 Byte(s), TotalSize: 8 Byte(s)\n - Elemwise{Composite{Switch(GE(Composite{Switch(LT(i0, i1), i2, i0)}(Composite{Switch(i0, (i1 + i2), i1)}(i0, i1, i2), i3, i4), i2), (i2 - i5), Composite{Switch(LT(i0, i1), i2, i0)}(Composite{Switch(i0, (i1 + i2), i1)}(i0, i1, i2), i3, i4))}}.0, Shape: (), ElemSize: 8 Byte(s), TotalSize: 8.0 Byte(s)\n - Elemwise{Composite{Switch(GE(Composite{Switch(LT(i0, i1), i2, i0)}(Composite{Switch(i0, (i1 + i2), i1)}(i0, i1, i2), i3, i4), i2), i5, Composite{Switch(LT(i0, i1), i2, i0)}(Composite{Switch(i0, (i1 + i2), i1)}(i0, i1, i2), i3, i4))}}.0, Shape: (), ElemSize: 8 Byte(s), TotalSize: 8.0 Byte(s)\n - ScalarFromTensor.0, Shape: (), ElemSize: 8 Byte(s), TotalSize: 8.0 Byte(s)\n - Elemwise{add,no_inplace}.0, Shape: (), ElemSize: 8 Byte(s), TotalSize: 8.0 Byte(s)\n - TensorConstant{-20}, Shape: (), ElemSize: 8 Byte(s), TotalSize: 8.0 Byte(s)\n - TensorConstant{204800}, Shape: (), ElemSize: 8 Byte(s), TotalSize: 8.0 Byte(s)\n - TensorConstant{2}, Shape: (), ElemSize: 8 Byte(s), TotalSize: 8.0 Byte(s)\n - Elemwise{add,no_inplace}.0, Shape: (), ElemSize: 8 Byte(s), TotalSize: 8.0 Byte(s)\n - Elemwise{Composite{(Switch(LT(i0, i1), (i0 + i2), (i0 - i1)) + i2)}}.0, Shape: (), ElemSize: 8 Byte(s), TotalSize: 8.0 Byte(s)\n - Shape_i{0}.0, Shape: (), ElemSize: 8 Byte(s), TotalSize: 8.0 Byte(s)\n - Shape_i{1}.0, Shape: (), ElemSize: 8 Byte(s), TotalSize: 8.0 Byte(s)\n - Elemwise{Composite{Switch(LT(i0, i1), i0, i1)}}.0, Shape: (), ElemSize: 8 Byte(s), TotalSize: 8.0 Byte(s)\n - Elemwise{Composite{((i0 - (i1 + i0 + i2)) + i2)}}.0, Shape: (), ElemSize: 8 Byte(s), TotalSize: 8.0 Byte(s)\n - Constant{0}, Shape: (), ElemSize: 8 Byte(s), TotalSize: 8.0 Byte(s)\n - Elemwise{maximum,no_inplace}.0, Shape: (), ElemSize: 8 Byte(s), TotalSize: 8.0 Byte(s)\n - Shape_i{1}.0, Shape: (), ElemSize: 8 Byte(s), TotalSize: 8.0 Byte(s)\n - Elemwise{sub,no_inplace}.0, Shape: (), ElemSize: 8 Byte(s), TotalSize: 8.0 Byte(s)\n - Elemwise{Composite{Switch(i0, i1, maximum(minimum((i2 + i3), i4), i5))}}.0, Shape: (), ElemSize: 8 Byte(s), TotalSize: 8.0 Byte(s)\n - Elemwise{sub,no_inplace}.0, Shape: (), ElemSize: 8 Byte(s), TotalSize: 8.0 Byte(s)\n - TensorConstant{4096}, Shape: (), ElemSize: 8 Byte(s), TotalSize: 8.0 Byte(s)\n - Shape_i{1}.0, Shape: (), ElemSize: 8 Byte(s), TotalSize: 8.0 Byte(s)\n - Shape_i{1}.0, Shape: (), ElemSize: 8 Byte(s), TotalSize: 8.0 Byte(s)\n - Shape_i{1}.0, Shape: (), ElemSize: 8 Byte(s), TotalSize: 8.0 Byte(s)\n - Shape_i{1}.0, Shape: (), ElemSize: 8 Byte(s), TotalSize: 8.0 Byte(s)\n - Shape_i{0}.0, Shape: (), ElemSize: 8 Byte(s), TotalSize: 8.0 Byte(s)\n - Shape_i{0}.0, Shape: (), ElemSize: 8 Byte(s), TotalSize: 8.0 Byte(s)\n - Constant{1}, Shape: (), ElemSize: 8 Byte(s), TotalSize: 8.0 Byte(s)\n - Shape_i{0}.0, Shape: (), ElemSize: 8 Byte(s), TotalSize: 8.0 Byte(s)\n - Elemwise{Composite{maximum(maximum(((i0 - Switch(i1, (i2 + i3), i2)) + i4), i5), maximum(((i0 - Switch(LT(Composite{Switch(LT(i0, i1), i1, i0)}(Composite{Switch(LT(i0, i1), (i2 - i3), i0)}(Composite{((i0 - (Switch(LT(i1, i2), i2, i1) - i3)) - i3)}((Composite{Switch(GE(Composite{Switch(LT(i0, i1), i2, i0)}(Composite{Switch(i0, (i1 + i2), i1)}(i0, i1, i2), i3, i4), i2), i5, Composite{Switch(LT(i0, i1), i2, i0)}(Composite{Switch(i0, (i1 + i2), i1)}(i0, i1, i2), i3, i4))}(i6, i7, i3, i8, i9, i10) + i4), Composite{((((i0 - Switch(GE(i1, i2), i2, i1)) - i3) // i4) + i4)}(Composite{Switch(GE(Composite{Switch(LT(i0, i1), i2, i0)}(Composite{Switch(i0, (i1 + i2), i1)}(i0, i1, i2), i3, i4), i2), i5, Composite{Switch(LT(i0, i1), i2, i0)}(Composite{Switch(i0, (i1 + i2), i1)}(i0, i1, i2), i3, i4))}(i6, i7, i3, i8, i9, i10), Composite{Switch(LT(i0, i1), i2, i0)}(Composite{Switch(i0, (i1 + i2), i1)}(i11, i12, i3), i8, i9), i3, i13, i4), i8, i13), i8, (Composite{Switch(GE(Composite{Switch(LT(i0, i1), i2, i0)}(Composite{Switch(i0, (i1 + i2), i1)}(i0, i1, i2), i3, i4), i2), i5, Composite{Switch(LT(i0, i1), i2, i0)}(Composite{Switch(i0, (i1 + i2), i1)}(i0, i1, i2), i3, i4))}(i6, i7, i3, i8, i9, i10) + i4), i13), i8), Composite{Switch(LT(i0, i1), i1, i0)}((Composite{Switch(GE(Composite{Switch(LT(i0, i1), i2, i0)}(Composite{Switch(i0, (i1 + i2), i1)}(i0, i1, i2), i3, i4), i2), i5, Composite{Switch(LT(i0, i1), i2, i0)}(Composite{Switch(i0, (i1 + i2), i1)}(i0, i1, i2), i3, i4))}(i6, i7, i3, i8, i9, i10) + i4), i8)), Composite{Switch(LT(i0, i1), i1, i0)}(Composite{Switch(LT(i0, i1), (i2 - i3), i0)}(Composite{((i0 - (Switch(LT(i1, i2), i2, i1) - i3)) - i3)}((Composite{Switch(GE(Composite{Switch(LT(i0, i1), i2, i0)}(Composite{Switch(i0, (i1 + i2), i1)}(i0, i1, i2), i3, i4), i2), i5, Composite{Switch(LT(i0, i1), i2, i0)}(Composite{Switch(i0, (i1 + i2), i1)}(i0, i1, i2), i3, i4))}(i6, i7, i3, i8, i9, i10) + i4), Composite{((((i0 - Switch(GE(i1, i2), i2, i1)) - i3) // i4) + i4)}(Composite{Switch(GE(Composite{Switch(LT(i0, i1), i2, i0)}(Composite{Switch(i0, (i1 + i2), i1)}(i0, i1, i2), i3, i4), i2), i5, Composite{Switch(LT(i0, i1), i2, i0)}(Composite{Switch(i0, (i1 + i2), i1)}(i0, i1, i2), i3, i4))}(i6, i7, i3, i8, i9, i10), Composite{Switch(LT(i0, i1), i2, i0)}(Composite{Switch(i0, (i1 + i2), i1)}(i11, i12, i3), i8, i9), i3, i13, i4), i8, i13), i8, (Composite{Switch(GE(Composite{Switch(LT(i0, i1), i2, i0)}(Composite{Switch(i0, (i1 + i2), i1)}(i0, i1, i2), i3, i4), i2), i5, Composite{Switch(LT(i0, i1), i2, i0)}(Composite{Switch(i0, (i1 + i2), i1)}(i0, i1, i2), i3, i4))}(i6, i7, i3, i8, i9, i10) + i4), i13), i8), Composite{Switch(LT(i0, i1), i1, i0)}((Composite{Switch(GE(Composite{Switch(LT(i0, i1), i2, i0)}(Composite{Switch(i0, (i1 + i2), i1)}(i0, i1, i2), i3, i4), i2), i5, Composite{Switch(LT(i0, i1), i2, i0)}(Composite{Switch(i0, (i1 + i2), i1)}(i0, i1, i2), i3, i4))}(i6, i7, i3, i8, i9, i10) + i4), i8))) + i4), i5))}}.0, Shape: (), ElemSize: 8 Byte(s), TotalSize: 8.0 Byte(s)\n - Elemwise{Identity}.0, Shape: (), ElemSize: 8 Byte(s), TotalSize: 8.0 Byte(s)\n - Shape_i{1}.0, Shape: (), ElemSize: 8 Byte(s), TotalSize: 8.0 Byte(s)\n - Elemwise{add,no_inplace}.0, Shape: (), ElemSize: 8 Byte(s), TotalSize: 8.0 Byte(s)\n - Elemwise{Composite{(Switch(LT(i0, i1), (i0 + i2), (i0 - i1)) + i2)}}.0, Shape: (), ElemSize: 8 Byte(s), TotalSize: 8.0 Byte(s)\n - Elemwise{Composite{maximum(maximum(((i0 - Switch(LT(Composite{Switch(LT(i0, i1), i1, i0)}(Composite{Switch(LT(i0, i1), (i2 - i3), i0)}(Composite{((i0 - (Switch(LT(i1, i2), i2, i1) - i3)) - i3)}((i1 + i2), (i3 + i2), i4, i5), i4, (i1 + i2), i5), i4), Composite{Switch(LT(i0, i1), i1, i0)}((i1 + i2), i4)), Composite{Switch(LT(i0, i1), i1, i0)}(Composite{Switch(LT(i0, i1), (i2 - i3), i0)}(Composite{((i0 - (Switch(LT(i1, i2), i2, i1) - i3)) - i3)}((i1 + i2), (i3 + i2), i4, i5), i4, (i1 + i2), i5), i4), Composite{Switch(LT(i0, i1), i1, i0)}((i1 + i2), i4))) + i2), i6), maximum(((i0 - Switch(LT(Composite{Switch(LT(i0, i1), i1, i0)}(Composite{Switch(LT(i0, i1), (i2 - i3), i0)}(Composite{((i0 - (Switch(LT(i1, i2), i2, i1) - i3)) - i3)}((i7 + i2), (i8 + i2), i4, i5), i4, (i7 + i2), i5), i4), Composite{Switch(LT(i0, i1), i1, i0)}((i7 + i2), i4)), Composite{Switch(LT(i0, i1), i1, i0)}(Composite{Switch(LT(i0, i1), (i2 - i3), i0)}(Composite{((i0 - (Switch(LT(i1, i2), i2, i1) - i3)) - i3)}((i7 + i2), (i8 + i2), i4, i5), i4, (i7 + i2), i5), i4), Composite{Switch(LT(i0, i1), i1, i0)}((i7 + i2), i4))) + i2), i6))}}.0, Shape: (), ElemSize: 8 Byte(s), TotalSize: 8.0 Byte(s)\n - Elemwise{add,no_inplace}.0, Shape: (), ElemSize: 8 Byte(s), TotalSize: 8.0 Byte(s)\n - Elemwise{Composite{Switch(GE(Composite{Switch(LT(i0, i1), i2, i0)}(Composite{Switch(LT(i0, i1), (i0 + i2), i0)}(Composite{Switch(i0, i1, maximum(i2, (i3 - i4)))}(i0, i1, i2, i3, i4), i1, i5), i1, i6), i5), i7, Composite{Switch(LT(i0, i1), i2, i0)}(Composite{Switch(LT(i0, i1), (i0 + i2), i0)}(Composite{Switch(i0, i1, maximum(i2, (i3 - i4)))}(i0, i1, i2, i3, i4), i1, i5), i1, i6))}}.0, Shape: (), ElemSize: 8 Byte(s), TotalSize: 8.0 Byte(s)\n - b, Shared Input, Shape: (2,), ElemSize: 4 Byte(s), TotalSize: 8 Byte(s)\n - TensorConstant{0}, Shape: (), ElemSize: 8 Byte(s), TotalSize: 8.0 Byte(s)\n - ScalarFromTensor.0, Shape: (), ElemSize: 8 Byte(s), TotalSize: 8.0 Byte(s)\n - Elemwise{sub,no_inplace}.0, Shape: (), ElemSize: 8 Byte(s), TotalSize: 8.0 Byte(s)\n - Elemwise{Composite{(Switch(LT(maximum(i0, i1), i2), (maximum(i0, i1) + i3), (maximum(i0, i1) - i2)) + i3)}}.0, Shape: (), ElemSize: 8 Byte(s), TotalSize: 8.0 Byte(s)\n - Elemwise{sub,no_inplace}.0, Shape: (), ElemSize: 8 Byte(s), TotalSize: 8.0 Byte(s)\n - Shape_i{1}.0, Shape: (), ElemSize: 8 Byte(s), TotalSize: 8.0 Byte(s)\n - Elemwise{Composite{Switch(LT(i0, i1), i1, i0)}}.0, Shape: (), ElemSize: 8 Byte(s), TotalSize: 8.0 Byte(s)\n - Elemwise{Composite{(((i0 - Switch(GE(Composite{Switch(LT(i0, i1), i2, i0)}(Composite{Switch(LT(i0, i1), (i0 + i2), i0)}(Composite{Switch(i0, i1, Switch(AND(LT(i2, i1), GT(i3, i1)), i4, maximum((i5 + i6), i2)))}(i1, i2, (i3 - i4), i5, i6, i7, i8), i2, i9), i2, i10), i9), i9, Composite{Switch(LT(i0, i1), i2, i0)}(Composite{Switch(LT(i0, i1), (i0 + i2), i0)}(Composite{Switch(i0, i1, Switch(AND(LT(i2, i1), GT(i3, i1)), i4, maximum((i5 + i6), i2)))}(i1, i2, (i3 - i4), i5, i6, i7, i8), i2, i9), i2, i10))) - i11) // i12)}}.0, Shape: (), ElemSize: 8 Byte(s), TotalSize: 8.0 Byte(s)\n - Shape_i{0}.0, Shape: (), ElemSize: 8 Byte(s), TotalSize: 8.0 Byte(s)\n - Elemwise{sub,no_inplace}.0, Shape: (), ElemSize: 8 Byte(s), TotalSize: 8.0 Byte(s)\n - Elemwise{Composite{((i0 - Switch(LT(Composite{Switch(LT(i0, i1), i1, i0)}(Composite{Switch(LT(i0, i1), (i2 - i3), i0)}(Composite{((i0 - (Switch(LT(i1, i2), i2, i1) - i3)) - i3)}((Composite{Switch(GE(Composite{Switch(LT(i0, i1), i2, i0)}(Composite{Switch(i0, (i1 + i2), i1)}(i0, i1, i2), i3, i4), i2), (i2 - i5), Composite{Switch(LT(i0, i1), i2, i0)}(Composite{Switch(i0, (i1 + i2), i1)}(i0, i1, i2), i3, i4))}(i1, i2, i3, i4, i5, i6) + i7), Composite{((((i0 - Switch(GE(i1, i2), i2, i1)) - i3) // i4) + i4)}(Composite{Switch(GE(Composite{Switch(LT(i0, i1), i2, i0)}(Composite{Switch(i0, (i1 + i2), i1)}(i0, i1, i2), i3, i4), i2), (i2 - i5), Composite{Switch(LT(i0, i1), i2, i0)}(Composite{Switch(i0, (i1 + i2), i1)}(i0, i1, i2), i3, i4))}(i1, i2, i3, i4, i5, i6), Composite{Switch(LT(i0, i1), i2, i0)}(Composite{Switch(i0, (i1 + i2), i1)}(i8, i9, i3), i4, i5), i3, i6, i7), i4, i6), i4, (Composite{Switch(GE(Composite{Switch(LT(i0, i1), i2, i0)}(Composite{Switch(i0, (i1 + i2), i1)}(i0, i1, i2), i3, i4), i2), (i2 - i5), Composite{Switch(LT(i0, i1), i2, i0)}(Composite{Switch(i0, (i1 + i2), i1)}(i0, i1, i2), i3, i4))}(i1, i2, i3, i4, i5, i6) + i7), i6), i4), Composite{Switch(LT(i0, i1), i1, i0)}((Composite{Switch(GE(Composite{Switch(LT(i0, i1), i2, i0)}(Composite{Switch(i0, (i1 + i2), i1)}(i0, i1, i2), i3, i4), i2), (i2 - i5), Composite{Switch(LT(i0, i1), i2, i0)}(Composite{Switch(i0, (i1 + i2), i1)}(i0, i1, i2), i3, i4))}(i1, i2, i3, i4, i5, i6) + i7), i4)), Composite{Switch(LT(i0, i1), i1, i0)}(Composite{Switch(LT(i0, i1), (i2 - i3), i0)}(Composite{((i0 - (Switch(LT(i1, i2), i2, i1) - i3)) - i3)}((Composite{Switch(GE(Composite{Switch(LT(i0, i1), i2, i0)}(Composite{Switch(i0, (i1 + i2), i1)}(i0, i1, i2), i3, i4), i2), (i2 - i5), Composite{Switch(LT(i0, i1), i2, i0)}(Composite{Switch(i0, (i1 + i2), i1)}(i0, i1, i2), i3, i4))}(i1, i2, i3, i4, i5, i6) + i7), Composite{((((i0 - Switch(GE(i1, i2), i2, i1)) - i3) // i4) + i4)}(Composite{Switch(GE(Composite{Switch(LT(i0, i1), i2, i0)}(Composite{Switch(i0, (i1 + i2), i1)}(i0, i1, i2), i3, i4), i2), (i2 - i5), Composite{Switch(LT(i0, i1), i2, i0)}(Composite{Switch(i0, (i1 + i2), i1)}(i0, i1, i2), i3, i4))}(i1, i2, i3, i4, i5, i6), Composite{Switch(LT(i0, i1), i2, i0)}(Composite{Switch(i0, (i1 + i2), i1)}(i8, i9, i3), i4, i5), i3, i6, i7), i4, i6), i4, (Composite{Switch(GE(Composite{Switch(LT(i0, i1), i2, i0)}(Composite{Switch(i0, (i1 + i2), i1)}(i0, i1, i2), i3, i4), i2), (i2 - i5), Composite{Switch(LT(i0, i1), i2, i0)}(Composite{Switch(i0, (i1 + i2), i1)}(i0, i1, i2), i3, i4))}(i1, i2, i3, i4, i5, i6) + i7), i6), i4), Composite{Switch(LT(i0, i1), i1, i0)}((Composite{Switch(GE(Composite{Switch(LT(i0, i1), i2, i0)}(Composite{Switch(i0, (i1 + i2), i1)}(i0, i1, i2), i3, i4), i2), (i2 - i5), Composite{Switch(LT(i0, i1), i2, i0)}(Composite{Switch(i0, (i1 + i2), i1)}(i0, i1, i2), i3, i4))}(i1, i2, i3, i4, i5, i6) + i7), i4))) + i7)}}.0, Shape: (), ElemSize: 8 Byte(s), TotalSize: 8.0 Byte(s)\n - Elemwise{Composite{((i0 - Switch(LT(Composite{Switch(LT(i0, i1), i1, i0)}(Composite{Switch(LT(i0, i1), (i2 - i3), i0)}(Composite{((i0 - (Switch(LT(i1, i2), i2, i1) - i3)) - i3)}(i1, (i2 + i3), i4, i5), i4, i1, i5), i4), i6), Composite{Switch(LT(i0, i1), i1, i0)}(Composite{Switch(LT(i0, i1), (i2 - i3), i0)}(Composite{((i0 - (Switch(LT(i1, i2), i2, i1) - i3)) - i3)}(i1, (i2 + i3), i4, i5), i4, i1, i5), i4), i6)) + i3)}}.0, Shape: (), ElemSize: 8 Byte(s), TotalSize: 8.0 Byte(s)\n - Elemwise{sub,no_inplace}.0, Shape: (), ElemSize: 8 Byte(s), TotalSize: 8.0 Byte(s)\n - Elemwise{Composite{(((i0 - Switch(GE(Composite{Switch(LT(i0, i1), i2, i0)}(Composite{Switch(i0, (i1 + i2), i1)}(i1, i2, i3), i4, i5), i3), i3, Composite{Switch(LT(i0, i1), i2, i0)}(Composite{Switch(i0, (i1 + i2), i1)}(i1, i2, i3), i4, i5))) - i6) // i7)}}.0, Shape: (), ElemSize: 8 Byte(s), TotalSize: 8.0 Byte(s)\n - Elemwise{Composite{(Switch(LT(maximum(i0, i1), i2), (maximum(i0, i1) + i3), (maximum(i0, i1) - i2)) + i3)}}.0, Shape: (), ElemSize: 8 Byte(s), TotalSize: 8.0 Byte(s)\n - Shape_i{1}.0, Shape: (), ElemSize: 8 Byte(s), TotalSize: 8.0 Byte(s)\n - TensorConstant{9}, Shape: (), ElemSize: 8 Byte(s), TotalSize: 8.0 Byte(s)\n - TensorConstant{-1}, Shape: (), ElemSize: 8 Byte(s), TotalSize: 8.0 Byte(s)\n - Elemwise{sub,no_inplace}.0, Shape: (), ElemSize: 8 Byte(s), TotalSize: 8.0 Byte(s)\n - TensorConstant{3072}, Shape: (), ElemSize: 8 Byte(s), TotalSize: 8.0 Byte(s)\n - Elemwise{mul,no_inplace}.0, Shape: (), ElemSize: 8 Byte(s), TotalSize: 8.0 Byte(s)\n - TensorConstant{20}, Shape: (), ElemSize: 8 Byte(s), TotalSize: 8.0 Byte(s)\n - Elemwise{add,no_inplace}.0, Shape: (), ElemSize: 8 Byte(s), TotalSize: 8.0 Byte(s)\n - Elemwise{minimum,no_inplace}.0, Shape: (), ElemSize: 8 Byte(s), TotalSize: 8.0 Byte(s)\n - Elemwise{Composite{((i0 - i1) + i2)}}.0, Shape: (), ElemSize: 8 Byte(s), TotalSize: 8.0 Byte(s)\n - TensorConstant{1024}, Shape: (), ElemSize: 8 Byte(s), TotalSize: 8.0 Byte(s)\n - TensorConstant{36071}, Shape: (), ElemSize: 8 Byte(s), TotalSize: 8.0 Byte(s)\n - ScalarFromTensor.0, Shape: (), ElemSize: 8 Byte(s), TotalSize: 8.0 Byte(s)\n - TensorConstant{-2}, Shape: (), ElemSize: 8 Byte(s), TotalSize: 8.0 Byte(s)\n - TensorConstant{1}, Shape: (), ElemSize: 8 Byte(s), TotalSize: 8.0 Byte(s)\n - Shape_i{1}.0, Shape: (), ElemSize: 8 Byte(s), TotalSize: 8.0 Byte(s)\n - Elemwise{Composite{(((i0 - Switch(GE(Composite{Switch(LT(i0, i1), i2, i0)}(Composite{Switch(i0, (i1 + i2), i1)}(i1, i2, i3), i4, i5), i3), i3, Composite{Switch(LT(i0, i1), i2, i0)}(Composite{Switch(i0, (i1 + i2), i1)}(i1, i2, i3), i4, i5))) - i6) // i7)}}.0, Shape: (), ElemSize: 8 Byte(s), TotalSize: 8.0 Byte(s)\n - Constant{-1}, Shape: (), ElemSize: 8 Byte(s), TotalSize: 8.0 Byte(s)\n - Shape_i{1}.0, Shape: (), ElemSize: 8 Byte(s), TotalSize: 8.0 Byte(s)\n - <TensorType(float32, scalar)>, Shared Input, Shape: (), ElemSize: 4 Byte(s), TotalSize: 4.0 Byte(s)\n - CudaNdarrayConstant{[[ 0.89999998]]}, Shape: (1, 1), ElemSize: 4 Byte(s), TotalSize: 4 Byte(s)\n - CudaNdarrayConstant{10.0}, Shape: (), ElemSize: 4 Byte(s), TotalSize: 4.0 Byte(s)\n - <TensorType(int32, scalar)>, Input, Shape: (), ElemSize: 4 Byte(s), TotalSize: 4.0 Byte(s)\n - CudaNdarrayConstant{[[ 0.10000002]]}, Shape: (1, 1), ElemSize: 4 Byte(s), TotalSize: 4 Byte(s)\n - CudaNdarrayConstant{[[[ 0.01]]]}, Shape: (1, 1, 1), ElemSize: 4 Byte(s), TotalSize: 4 Byte(s)\n - CudaNdarrayConstant{0.899999976158}, Shape: (), ElemSize: 4 Byte(s), TotalSize: 4.0 Byte(s)\n - Constant{0.0}, Shape: (), ElemSize: 4 Byte(s), TotalSize: 4.0 Byte(s)\n - TensorConstant{0.0}, Shape: (), ElemSize: 4 Byte(s), TotalSize: 4.0 Byte(s)\n - CudaNdarrayConstant{0.0}, Shape: (), ElemSize: 4 Byte(s), TotalSize: 4.0 Byte(s)\n - CudaNdarrayConstant{[ 0.00099999]}, Shape: (1,), ElemSize: 4 Byte(s), TotalSize: 4 Byte(s)\n - GpuDimShuffle{x,x}.0, Shape: (1, 1), ElemSize: 4 Byte(s), TotalSize: 4 Byte(s)\n - CudaNdarrayConstant{1.00000001169e-07}, Shape: (), ElemSize: 4 Byte(s), TotalSize: 4.0 Byte(s)\n - CudaNdarrayConstant{1.0}, Shape: (), ElemSize: 4 Byte(s), TotalSize: 4.0 Byte(s)\n - CudaNdarrayConstant{[[ 0.]]}, Shape: (1, 1), ElemSize: 4 Byte(s), TotalSize: 4 Byte(s)\n - CudaNdarrayConstant{0.999000012875}, Shape: (), ElemSize: 4 Byte(s), TotalSize: 4.0 Byte(s)\n - TensorConstant{36071}, Shape: (), ElemSize: 4 Byte(s), TotalSize: 4.0 Byte(s)\n - GpuElemwise{Composite{((i0 * sqrt((i1 - (i2 ** i3)))) / (i1 - (i4 ** i3)))},no_inplace}.0, Shape: (), ElemSize: 4 Byte(s), TotalSize: 4.0 Byte(s)\n - <CudaNdarrayType(float32, scalar)>, Shared Input, Shape: (), ElemSize: 4 Byte(s), TotalSize: 4.0 Byte(s)\n - CudaNdarrayConstant{[[ 0.01]]}, Shape: (1, 1), ElemSize: 4 Byte(s), TotalSize: 4 Byte(s)\n - CudaNdarrayConstant{[ 0.10000002]}, Shape: (1,), ElemSize: 4 Byte(s), TotalSize: 4 Byte(s)\n - CudaNdarrayConstant{[ 0.89999998]}, Shape: (1,), ElemSize: 4 Byte(s), TotalSize: 4 Byte(s)\n - CudaNdarrayConstant{[[-1.]]}, Shape: (1, 1), ElemSize: 4 Byte(s), TotalSize: 4 Byte(s)\n - CudaNdarrayConstant{[[[  1.00000001e-10]]]}, Shape: (1, 1, 1), ElemSize: 4 Byte(s), TotalSize: 4 Byte(s)\n - CudaNdarrayConstant{9.99999974738e-06}, Shape: (), ElemSize: 4 Byte(s), TotalSize: 4.0 Byte(s)\n - GpuDimShuffle{x}.0, Shape: (1,), ElemSize: 4 Byte(s), TotalSize: 4 Byte(s)\n - CudaNdarrayConstant{[[ 0.00099999]]}, Shape: (1, 1), ElemSize: 4 Byte(s), TotalSize: 4 Byte(s)\n - CudaNdarrayConstant{[[[ 0.]]]}, Shape: (1, 1, 1), ElemSize: 4 Byte(s), TotalSize: 4 Byte(s)\n - GpuElemwise{sqr,no_inplace}.0, Shape: (1, 1), ElemSize: 4 Byte(s), TotalSize: 4 Byte(s)\n - TensorConstant{(1, 1) of 36069}, Shape: (1, 1), ElemSize: 4 Byte(s), TotalSize: 4 Byte(s)\n - TensorConstant{1.0}, Shape: (), ElemSize: 4 Byte(s), TotalSize: 4.0 Byte(s)\n - Constant{1.0}, Shape: (), ElemSize: 4 Byte(s), TotalSize: 4.0 Byte(s)\n - CudaNdarrayConstant{[[  9.99999994e-09]]}, Shape: (1, 1), ElemSize: 4 Byte(s), TotalSize: 4 Byte(s)\n - CudaNdarrayConstant{[  9.99999994e-09]}, Shape: (1,), ElemSize: 4 Byte(s), TotalSize: 4 Byte(s)\n - TensorConstant{(1, 1, 1) of 36070}, Shape: (1, 1, 1), ElemSize: 4 Byte(s), TotalSize: 4 Byte(s)\n - CudaNdarrayConstant{[[ 0.99900001]]}, Shape: (1, 1), ElemSize: 4 Byte(s), TotalSize: 4 Byte(s)\n - CudaNdarrayConstant{[ 0.99900001]}, Shape: (1,), ElemSize: 4 Byte(s), TotalSize: 4 Byte(s)\n - TensorConstant{1}, Shape: (), ElemSize: 4 Byte(s), TotalSize: 4.0 Byte(s)\n - TensorConstant{1024}, Shape: (), ElemSize: 2 Byte(s), TotalSize: 2.0 Byte(s)\n - TensorConstant{-1}, Shape: (), ElemSize: 1 Byte(s), TotalSize: 1.0 Byte(s)\n - TensorConstant{0}, Shape: (), ElemSize: 1 Byte(s), TotalSize: 1.0 Byte(s)\n - TensorConstant{3}, Shape: (), ElemSize: 1 Byte(s), TotalSize: 1.0 Byte(s)\n - TensorConstant{(1, 1) of 0}, Shape: (1, 1), ElemSize: 1 Byte(s), TotalSize: 1 Byte(s)\n - TensorConstant{2}, Shape: (), ElemSize: 1 Byte(s), TotalSize: 1.0 Byte(s)\n - TensorConstant{1}, Shape: (), ElemSize: 1 Byte(s), TotalSize: 1.0 Byte(s)\n - Elemwise{lt,no_inplace}.0, Shape: (), ElemSize: 1 Byte(s), TotalSize: 1.0 Byte(s)\n - TensorConstant{20}, Shape: (), ElemSize: 1 Byte(s), TotalSize: 1.0 Byte(s)\n - Elemwise{Composite{AND(LT(i0, i1), GT(i2, i1))}}.0, Shape: (), ElemSize: 1 Byte(s), TotalSize: 1.0 Byte(s)\n - TensorConstant{(1, 1) of True}, Shape: (1, 1), ElemSize: 1 Byte(s), TotalSize: 1 Byte(s)\n - Constant{1}, Shape: (), ElemSize: 1 Byte(s), TotalSize: 1.0 Byte(s)\n - Elemwise{le,no_inplace}.0, Shape: (), ElemSize: 1 Byte(s), TotalSize: 1.0 Byte(s)\n - TensorConstant{3}, Shape: (), ElemSize: 1 Byte(s), TotalSize: 1.0 Byte(s)\n TotalSize: 1685981947.0 Byte(s) 1.570 GB\n TotalSize inputs: 694709416.0 Byte(s) 0.647 GB\n\nHINT: Re-running with most Theano optimization disabled could give you a back-trace of when this node was created. This can be done with by setting the Theano flag 'optimizer=fast_compile'. If that does not work, Theano optimizations can be disabled with 'optimizer=None'.",
     "output_type": "error",
     "traceback": [
      "\u001b[0;31m---------------------------------------------------------------------------\u001b[0m",
      "\u001b[0;31mMemoryError\u001b[0m                               Traceback (most recent call last)",
      "\u001b[0;32m<ipython-input-79-3c2abb83eec8>\u001b[0m in \u001b[0;36m<module>\u001b[0;34m()\u001b[0m\n\u001b[1;32m      2\u001b[0m     \u001b[0;32mfor\u001b[0m \u001b[0m_\u001b[0m \u001b[0;32min\u001b[0m \u001b[0mrange\u001b[0m\u001b[0;34m(\u001b[0m\u001b[0;36m1\u001b[0m\u001b[0;34m)\u001b[0m\u001b[0;34m:\u001b[0m\u001b[0;34m\u001b[0m\u001b[0m\n\u001b[1;32m      3\u001b[0m         \u001b[0;32mfor\u001b[0m \u001b[0mbx\u001b[0m\u001b[0;34m,\u001b[0m \u001b[0mby\u001b[0m\u001b[0;34m,\u001b[0m \u001b[0mrespondent\u001b[0m \u001b[0;32min\u001b[0m \u001b[0mgenerate_data\u001b[0m\u001b[0;34m(\u001b[0m\u001b[0mdata_rows\u001b[0m\u001b[0;34m,\u001b[0m \u001b[0mspeakers_list\u001b[0m\u001b[0;34m=\u001b[0m\u001b[0mspeakers_list\u001b[0m\u001b[0;34m,\u001b[0m \u001b[0mn_iter\u001b[0m\u001b[0;34m=\u001b[0m\u001b[0;36m3\u001b[0m\u001b[0;34m,\u001b[0m \u001b[0mmax_len\u001b[0m\u001b[0;34m=\u001b[0m\u001b[0mseq_len\u001b[0m\u001b[0;34m)\u001b[0m\u001b[0;34m:\u001b[0m\u001b[0;34m\u001b[0m\u001b[0m\n\u001b[0;32m----> 4\u001b[0;31m             \u001b[0merr\u001b[0m \u001b[0;34m=\u001b[0m \u001b[0mpg_trainer\u001b[0m\u001b[0;34m.\u001b[0m\u001b[0mtrain_step\u001b[0m\u001b[0;34m(\u001b[0m\u001b[0mbx\u001b[0m\u001b[0;34m,\u001b[0m \u001b[0mrespondent\u001b[0m\u001b[0;34m,\u001b[0m \u001b[0;36m20\u001b[0m\u001b[0;34m)\u001b[0m\u001b[0;34m\u001b[0m\u001b[0m\n\u001b[0m\u001b[1;32m      5\u001b[0m             \u001b[0mgen_train_errors\u001b[0m\u001b[0;34m.\u001b[0m\u001b[0mappend\u001b[0m\u001b[0;34m(\u001b[0m\u001b[0merr\u001b[0m\u001b[0;34m)\u001b[0m\u001b[0;34m\u001b[0m\u001b[0m\n\u001b[1;32m      6\u001b[0m         \u001b[0;32mprint\u001b[0m\u001b[0;34m(\u001b[0m\u001b[0;34m\"Gen %.5f\"\u001b[0m\u001b[0;34m%\u001b[0m\u001b[0merr\u001b[0m\u001b[0;34m)\u001b[0m\u001b[0;34m\u001b[0m\u001b[0m\n",
      "\u001b[0;32m/anaconda2/lib/python2.7/site-packages/theano/compile/function_module.pyc\u001b[0m in \u001b[0;36m__call__\u001b[0;34m(self, *args, **kwargs)\u001b[0m\n\u001b[1;32m    896\u001b[0m                     \u001b[0mnode\u001b[0m\u001b[0;34m=\u001b[0m\u001b[0mself\u001b[0m\u001b[0;34m.\u001b[0m\u001b[0mfn\u001b[0m\u001b[0;34m.\u001b[0m\u001b[0mnodes\u001b[0m\u001b[0;34m[\u001b[0m\u001b[0mself\u001b[0m\u001b[0;34m.\u001b[0m\u001b[0mfn\u001b[0m\u001b[0;34m.\u001b[0m\u001b[0mposition_of_error\u001b[0m\u001b[0;34m]\u001b[0m\u001b[0;34m,\u001b[0m\u001b[0;34m\u001b[0m\u001b[0m\n\u001b[1;32m    897\u001b[0m                     \u001b[0mthunk\u001b[0m\u001b[0;34m=\u001b[0m\u001b[0mthunk\u001b[0m\u001b[0;34m,\u001b[0m\u001b[0;34m\u001b[0m\u001b[0m\n\u001b[0;32m--> 898\u001b[0;31m                     storage_map=getattr(self.fn, 'storage_map', None))\n\u001b[0m\u001b[1;32m    899\u001b[0m             \u001b[0;32melse\u001b[0m\u001b[0;34m:\u001b[0m\u001b[0;34m\u001b[0m\u001b[0m\n\u001b[1;32m    900\u001b[0m                 \u001b[0;31m# old-style linkers raise their own exceptions\u001b[0m\u001b[0;34m\u001b[0m\u001b[0;34m\u001b[0m\u001b[0m\n",
      "\u001b[0;32m/anaconda2/lib/python2.7/site-packages/theano/gof/link.pyc\u001b[0m in \u001b[0;36mraise_with_op\u001b[0;34m(node, thunk, exc_info, storage_map)\u001b[0m\n\u001b[1;32m    323\u001b[0m         \u001b[0;31m# extra long error message in that case.\u001b[0m\u001b[0;34m\u001b[0m\u001b[0;34m\u001b[0m\u001b[0m\n\u001b[1;32m    324\u001b[0m         \u001b[0;32mpass\u001b[0m\u001b[0;34m\u001b[0m\u001b[0m\n\u001b[0;32m--> 325\u001b[0;31m     \u001b[0mreraise\u001b[0m\u001b[0;34m(\u001b[0m\u001b[0mexc_type\u001b[0m\u001b[0;34m,\u001b[0m \u001b[0mexc_value\u001b[0m\u001b[0;34m,\u001b[0m \u001b[0mexc_trace\u001b[0m\u001b[0;34m)\u001b[0m\u001b[0;34m\u001b[0m\u001b[0m\n\u001b[0m\u001b[1;32m    326\u001b[0m \u001b[0;34m\u001b[0m\u001b[0m\n\u001b[1;32m    327\u001b[0m \u001b[0;34m\u001b[0m\u001b[0m\n",
      "\u001b[0;32m/anaconda2/lib/python2.7/site-packages/theano/compile/function_module.pyc\u001b[0m in \u001b[0;36m__call__\u001b[0;34m(self, *args, **kwargs)\u001b[0m\n\u001b[1;32m    882\u001b[0m         \u001b[0;32mtry\u001b[0m\u001b[0;34m:\u001b[0m\u001b[0;34m\u001b[0m\u001b[0m\n\u001b[1;32m    883\u001b[0m             \u001b[0moutputs\u001b[0m \u001b[0;34m=\u001b[0m\u001b[0;31m\\\u001b[0m\u001b[0;34m\u001b[0m\u001b[0m\n\u001b[0;32m--> 884\u001b[0;31m                 \u001b[0mself\u001b[0m\u001b[0;34m.\u001b[0m\u001b[0mfn\u001b[0m\u001b[0;34m(\u001b[0m\u001b[0;34m)\u001b[0m \u001b[0;32mif\u001b[0m \u001b[0moutput_subset\u001b[0m \u001b[0;32mis\u001b[0m \u001b[0mNone\u001b[0m \u001b[0;32melse\u001b[0m\u001b[0;31m\\\u001b[0m\u001b[0;34m\u001b[0m\u001b[0m\n\u001b[0m\u001b[1;32m    885\u001b[0m                 \u001b[0mself\u001b[0m\u001b[0;34m.\u001b[0m\u001b[0mfn\u001b[0m\u001b[0;34m(\u001b[0m\u001b[0moutput_subset\u001b[0m\u001b[0;34m=\u001b[0m\u001b[0moutput_subset\u001b[0m\u001b[0;34m)\u001b[0m\u001b[0;34m\u001b[0m\u001b[0m\n\u001b[1;32m    886\u001b[0m         \u001b[0;32mexcept\u001b[0m \u001b[0mException\u001b[0m\u001b[0;34m:\u001b[0m\u001b[0;34m\u001b[0m\u001b[0m\n",
      "\u001b[0;31mMemoryError\u001b[0m: Error allocating 52428800 bytes of device memory (CNMEM_STATUS_OUT_OF_MEMORY).\nApply node that caused the error: GpuContiguous(GpuDimShuffle{0,3,1,2}.0)\nToposort index: 539\nInputs types: [CudaNdarrayType(float32, 4D)]\nInputs shapes: [(32, 1024, 20, 20)]\nInputs strides: [(409600, 1, 20480, 1024)]\nInputs values: ['not shown']\nInputs type_num: ['']\nOutputs clients: [[GpuDnnConv{algo='small', inplace=True}(GpuContiguous.0, GpuContiguous.0, GpuAllocEmpty.0, GpuDnnConvDesc{border_mode='valid', subsample=(1, 1), conv_mode='conv', precision='float32'}.0, Constant{1.0}, Constant{0.0})]]\n\nDebugprint of the apply node: \nGpuContiguous [id A] <CudaNdarrayType(float32, 4D)> ''   \n |GpuDimShuffle{0,3,1,2} [id B] <CudaNdarrayType(float32, 4D)> ''   \n   |GpuJoin [id C] <CudaNdarrayType(float32, 4D)> ''   \n     |TensorConstant{3} [id D] <TensorType(int8, scalar)>\n     |GpuReshape{4} [id E] <CudaNdarrayType(float32, 4D)> ''   \n     | |GpuAlloc [id F] <CudaNdarrayType(float32, 4D)> ''   \n     | | |GpuDimShuffle{0,1,x,2} [id G] <CudaNdarrayType(float32, (False, False, True, False))> ''   \n     | | | |GpuReshape{3} [id H] <CudaNdarrayType(float32, 3D)> ''   \n     | | |   |GpuAdvancedSubtensor1 [id I] <CudaNdarrayType(float32, matrix)> ''   \n     | | |   | |W [id J] <CudaNdarrayType(float32, matrix)>\n     | | |   | |Elemwise{Cast{int64}} [id K] <TensorType(int64, vector)> ''   \n     | | |   |   |Reshape{1} [id L] <TensorType(int32, vector)> ''   \n     | | |   |     |encoder phrase tokens [id M] <TensorType(int32, matrix)>\n     | | |   |     |TensorConstant{(1,) of -1} [id N] <TensorType(int64, (True,))>\n     | | |   |MakeVector{dtype='int64'} [id O] <TensorType(int64, vector)> ''   \n     | | |     |Shape_i{0} [id P] <TensorType(int64, scalar)> ''   \n     | | |     | |encoder phrase tokens [id M] <TensorType(int32, matrix)>\n     | | |     |Shape_i{1} [id Q] <TensorType(int64, scalar)> ''   \n     | | |     | |encoder phrase tokens [id M] <TensorType(int32, matrix)>\n     | | |     |Shape_i{1} [id R] <TensorType(int64, scalar)> ''   \n     | | |       |W [id J] <CudaNdarrayType(float32, matrix)>\n     | | |Shape_i{0} [id P] <TensorType(int64, scalar)> ''   \n     | | |Shape_i{1} [id Q] <TensorType(int64, scalar)> ''   \n     | | |TensorConstant{20} [id S] <TensorType(int8, scalar)>\n     | | |Shape_i{1} [id R] <TensorType(int64, scalar)> ''   \n     | |TensorConstant{[ -1  20  20 512]} [id T] <TensorType(int64, vector)>\n     |GpuReshape{4} [id U] <CudaNdarrayType(float32, 4D)> ''   \n       |GpuAlloc [id V] <CudaNdarrayType(float32, 4D)> ''   \n       | |GpuDimShuffle{0,1,x,2} [id W] <CudaNdarrayType(float32, (False, False, True, False))> ''   \n       | | |GpuReshape{3} [id X] <CudaNdarrayType(float32, 3D)> ''   \n       | |   |GpuAdvancedSubtensor1 [id Y] <CudaNdarrayType(float32, matrix)> ''   \n       | |   | |W [id Z] <CudaNdarrayType(float32, matrix)>\n       | |   | |Elemwise{Cast{int64}} [id BA] <TensorType(int64, vector)> ''   \n       | |   |   |Reshape{1} [id BB] <TensorType(int32, vector)> ''   \n       | |   |     |InplaceDimShuffle{1,0} [id BC] <TensorType(int32, matrix)> ''   \n       | |   |     | |Subtensor{int64:int64:int8} [id BD] <TensorType(int32, matrix)> ''   \n       | |   |     |   |forall_inplace,gpu,scan_fn&scan_fn}.3 [id BE] <TensorType(int32, matrix)> ''   \n       | |   |     |   | |<TensorType(int32, scalar)> [id BF] <TensorType(int32, scalar)>\n       | |   |     |   | |GpuIncSubtensor{InplaceSet;:int64:} [id BG] <CudaNdarrayType(float32, 3D)> ''   \n       | |   |     |   | | |GpuAllocEmpty [id BH] <CudaNdarrayType(float32, 3D)> ''   \n       | |   |     |   | | | |Elemwise{Composite{(Switch(LT(i0, i1), (i0 + i2), (i0 - i1)) + i2)}} [id BI] <TensorType(int64, scalar)> ''   \n       | |   |     |   | | | | |Elemwise{Composite{maximum(maximum(((i0 - Switch(LT(Composite{Switch(LT(i0, i1), i1, i0)}(Composite{Switch(LT(i0, i1), (i2 - i3), i0)}(Composite{((i0 - (Switch(LT(i1, i2), i2, i1) - i3)) - i3)}((i1 + i2), (i3 + i2), i4, i5), i4, (i1 + i2), i5), i4), Composite{Switch(LT(i0, i1), i1, i0)}((i1 + i2), i4)), Composite{Switch(LT(i0, i1), i1, i0)}(Composite{Switch(LT(i0, i1), (i2 - i3), i0)}(Composite{((i0 - (Switch(LT(i1, i2), i2, i1) - i3)) - i3)}((i1 + i2), (i3 + i2), i4, i5), i4, (i1 + i2), i5), i4), Composite{Switch(LT(i0, i1), i1, i0)}((i1 + i2), i4))) + i2), i6), maximum(((i0 - Switch(LT(Composite{Switch(LT(i0, i1), i1, i0)}(Composite{Switch(LT(i0, i1), (i2 - i3), i0)}(Composite{((i0 - (Switch(LT(i1, i2), i2, i1) - i3)) - i3)}((i7 + i2), (i8 + i2), i4, i5), i4, (i7 + i2), i5), i4), Composite{Switch(LT(i0, i1), i1, i0)}((i7 + i2), i4)), Composite{Switch(LT(i0, i1), i1, i0)}(Composite{Switch(LT(i0, i1), (i2 - i3), i0)}(Composite{((i0 - (Switch(LT(i1, i2), i2, i1) - i3)) - i3)}((i7 + i2), (i8 + i2), i4, i5), i4, (i7 + i2), i5), i4), Composite{Switch(LT(i0, i1), i1, i0)}((i7 + i2), i4))) + i2), i6))}} [id BJ] <TensorType(int64, scalar)> ''   \n       | |   |     |   | | | | | |<TensorType(int32, scalar)> [id BF] <TensorType(int32, scalar)>\n       | |   |     |   | | | | | |Elemwise{Composite{Switch(GE(Composite{Switch(LT(i0, i1), i2, i0)}(Composite{Switch(LT(i0, i1), (i0 + i2), i0)}(Composite{Switch(i0, i1, maximum(i2, (i3 - i4)))}(i0, i1, i2, i3, i4), i1, i5), i1, i6), i5), i7, Composite{Switch(LT(i0, i1), i2, i0)}(Composite{Switch(LT(i0, i1), (i0 + i2), i0)}(Composite{Switch(i0, i1, maximum(i2, (i3 - i4)))}(i0, i1, i2, i3, i4), i1, i5), i1, i6))}} [id BK] <TensorType(int64, scalar)> ''   \n       | |   |     |   | | | | | | |Elemwise{le,no_inplace} [id BL] <TensorType(bool, scalar)> ''   \n       | |   |     |   | | | | | | | |Elemwise{sub,no_inplace} [id BM] <TensorType(int64, scalar)> ''   \n       | |   |     |   | | | | | | | | |Elemwise{Composite{Switch(LT(Composite{Switch(GE(i0, i1), i1, i0)}(Composite{Switch(LT(i0, i1), i2, i0)}(Composite{Switch(LT(i0, i1), (i0 + i2), i0)}(Composite{Switch(i0, i1, minimum(i2, i3))}(i0, i1, i2, i3), i1, i4), i1, i5), i4), i1), i1, Composite{Switch(GE(i0, i1), i1, i0)}(Composite{Switch(LT(i0, i1), i2, i0)}(Composite{Switch(LT(i0, i1), (i0 + i2), i0)}(Composite{Switch(i0, i1, minimum(i2, i3))}(i0, i1, i2, i3), i1, i4), i1, i5), i4))}} [id BN] <TensorType(int64, scalar)> ''   \n       | |   |     |   | | | | | | | | | |Elemwise{le,no_inplace} [id BO] <TensorType(bool, scalar)> ''   \n       | |   |     |   | | | | | | | | | | |Elemwise{Composite{Switch(i0, Switch(LT((i1 + i2), i3), i3, (i1 + i2)), Switch(LT(i4, i2), i4, i2))}} [id BP] <TensorType(int64, scalar)> ''   \n       | |   |     |   | | | | | | | | | | | |Elemwise{lt,no_inplace} [id BQ] <TensorType(bool, scalar)> ''   \n       | |   |     |   | | | | | | | | | | | | |Elemwise{Identity} [id BR] <TensorType(int64, scalar)> ''   \n       | |   |     |   | | | | | | | | | | | | | |<TensorType(int32, scalar)> [id BF] <TensorType(int32, scalar)>\n       | |   |     |   | | | | | | | | | | | | |TensorConstant{0} [id BS] <TensorType(int8, scalar)>\n       | |   |     |   | | | | | | | | | | | |<TensorType(int32, scalar)> [id BF] <TensorType(int32, scalar)>\n       | |   |     |   | | | | | | | | | | | |Elemwise{Composite{Switch(LT((i0 + i1), i2), i2, (i0 + i1))}} [id BT] <TensorType(int64, scalar)> ''   \n       | |   |     |   | | | | | | | | | | | | |TensorConstant{-1} [id BU] <TensorType(int64, scalar)>\n       | |   |     |   | | | | | | | | | | | | |Elemwise{sub,no_inplace} [id BV] <TensorType(int64, scalar)> ''   \n       | |   |     |   | | | | | | | | | | | | | |Elemwise{Composite{Switch(LT(i0, i1), i1, i0)}} [id BW] <TensorType(int64, scalar)> ''   \n       | |   |     |   | | | | | | | | | | | | | | |Elemwise{add,no_inplace} [id BX] <TensorType(int64, scalar)> ''   \n       | |   |     |   | | | | | | | | | | | | | | | |TensorConstant{1} [id BY] <TensorType(int64, scalar)>\n       | |   |     |   | | | | | | | | | | | | | | | |<TensorType(int32, scalar)> [id BF] <TensorType(int32, scalar)>\n       | |   |     |   | | | | | | | | | | | | | | |TensorConstant{0} [id BS] <TensorType(int8, scalar)>\n       | |   |     |   | | | | | | | | | | | | | |Elemwise{Composite{Switch(LT(Composite{Switch(LT(i0, i1), i1, i0)}(Composite{Switch(LT(i0, i1), i2, i0)}((i0 - i1), i2, i3), i2), i1), Composite{Switch(LT(i0, i1), i1, i0)}(Composite{Switch(LT(i0, i1), i2, i0)}((i0 - i1), i2, i3), i2), i1)}} [id BZ] <TensorType(int64, scalar)> ''   \n       | |   |     |   | | | | | | | | | | | | |   |Elemwise{add,no_inplace} [id BX] <TensorType(int64, scalar)> ''   \n       | |   |     |   | | | | | | | | | | | | |   |Elemwise{Composite{Switch(LT(i0, i1), i1, i0)}} [id BW] <TensorType(int64, scalar)> ''   \n       | |   |     |   | | | | | | | | | | | | |   |TensorConstant{0} [id BS] <TensorType(int8, scalar)>\n       | |   |     |   | | | | | | | | | | | | |   |Elemwise{Identity} [id BR] <TensorType(int64, scalar)> ''   \n       | |   |     |   | | | | | | | | | | | | |TensorConstant{0} [id BS] <TensorType(int8, scalar)>\n       | |   |     |   | | | | | | | | | | | |TensorConstant{0} [id BS] <TensorType(int8, scalar)>\n       | |   |     |   | | | | | | | | | | | |Elemwise{Identity} [id BR] <TensorType(int64, scalar)> ''   \n       | |   |     |   | | | | | | | | | | |TensorConstant{0} [id BS] <TensorType(int8, scalar)>\n       | |   |     |   | | | | | | | | | |TensorConstant{0} [id BS] <TensorType(int8, scalar)>\n       | |   |     |   | | | | | | | | | |Elemwise{Composite{Switch(i0, Switch(LT((i1 + i2), i3), i3, (i1 + i2)), Switch(LT(i4, i2), i4, i2))}} [id BP] <TensorType(int64, scalar)> ''   \n       | |   |     |   | | | | | | | | | |Elemwise{Composite{Switch(LT((i0 + i1), i2), i2, (i0 + i1))}} [id BT] <TensorType(int64, scalar)> ''   \n       | |   |     |   | | | | | | | | | |Elemwise{sub,no_inplace} [id BV] <TensorType(int64, scalar)> ''   \n       | |   |     |   | | | | | | | | | |TensorConstant{-1} [id CA] <TensorType(int8, scalar)>\n       | |   |     |   | | | | | | | | |Elemwise{Composite{Switch(LT(Composite{Switch(LT(i0, i1), i1, i0)}(Composite{Switch(GE(i0, i1), i1, i0)}(Composite{Switch(LT(i0, i1), i1, i0)}(Composite{Switch(LT(i0, i1), (i0 + i2), i0)}(Composite{Switch(i0, i1, minimum(i2, i3))}(i0, i1, i2, i3), i1, i4), i1), i4), i1), i5), Composite{Switch(LT(i0, i1), i1, i0)}(Composite{Switch(GE(i0, i1), i1, i0)}(Composite{Switch(LT(i0, i1), i1, i0)}(Composite{Switch(LT(i0, i1), (i0 + i2), i0)}(Composite{Switch(i0, i1, minimum(i2, i3))}(i0, i1, i2, i3), i1, i4), i1), i4), i1), i5)}} [id CB] <TensorType(int64, scalar)> ''   \n       | |   |     |   | | | | | | | |   |Elemwise{le,no_inplace} [id BO] <TensorType(bool, scalar)> ''   \n       | |   |     |   | | | | | | | |   |TensorConstant{0} [id BS] <TensorType(int8, scalar)>\n       | |   |     |   | | | | | | | |   |TensorConstant{0} [id CC] <TensorType(int64, scalar)>\n       | |   |     |   | | | | | | | |   |Elemwise{Composite{Switch(LT((i0 + i1), i2), i2, (i0 + i1))}} [id BT] <TensorType(int64, scalar)> ''   \n       | |   |     |   | | | | | | | |   |Elemwise{sub,no_inplace} [id BV] <TensorType(int64, scalar)> ''   \n       | |   |     |   | | | | | | | |   |Elemwise{Composite{Switch(LT(Composite{Switch(GE(i0, i1), i1, i0)}(Composite{Switch(LT(i0, i1), i2, i0)}(Composite{Switch(LT(i0, i1), (i0 + i2), i0)}(Composite{Switch(i0, i1, minimum(i2, i3))}(i0, i1, i2, i3), i1, i4), i1, i5), i4), i1), i1, Composite{Switch(GE(i0, i1), i1, i0)}(Composite{Switch(LT(i0, i1), i2, i0)}(Composite{Switch(LT(i0, i1), (i0 + i2), i0)}(Composite{Switch(i0, i1, minimum(i2, i3))}(i0, i1, i2, i3), i1, i4), i1, i5), i4))}} [id BN] <TensorType(int64, scalar)> ''   \n       | |   |     |   | | | | | | | |TensorConstant{0} [id BS] <TensorType(int8, scalar)>\n       | |   |     |   | | | | | | |TensorConstant{0} [id BS] <TensorType(int8, scalar)>\n       | |   |     |   | | | | | | |Elemwise{Composite{Switch(LT(Composite{Switch(LT(i0, i1), i1, i0)}(Composite{Switch(LT(i0, i1), i2, i0)}((i0 - i1), i2, i3), i2), i1), Composite{Switch(LT(i0, i1), i1, i0)}(Composite{Switch(LT(i0, i1), i2, i0)}((i0 - i1), i2, i3), i2), i1)}} [id BZ] <TensorType(int64, scalar)> ''   \n       | |   |     |   | | | | | | |Elemwise{add,no_inplace} [id CD] <TensorType(int64, scalar)> ''   \n       | |   |     |   | | | | | | | |TensorConstant{-1} [id BU] <TensorType(int64, scalar)>\n       | |   |     |   | | | | | | | |Elemwise{Composite{Switch(LT(i0, i1), i1, i0)}} [id BW] <TensorType(int64, scalar)> ''   \n       | |   |     |   | | | | | | |Elemwise{Composite{Switch(LT(Composite{Switch(LT(i0, i1), i1, i0)}(Composite{Switch(GE(i0, i1), i1, i0)}(Composite{Switch(LT(i0, i1), i1, i0)}(Composite{Switch(LT(i0, i1), (i0 + i2), i0)}(Composite{Switch(i0, i1, minimum(i2, i3))}(i0, i1, i2, i3), i1, i4), i1), i4), i1), i5), Composite{Switch(LT(i0, i1), i1, i0)}(Composite{Switch(GE(i0, i1), i1, i0)}(Composite{Switch(LT(i0, i1), i1, i0)}(Composite{Switch(LT(i0, i1), (i0 + i2), i0)}(Composite{Switch(i0, i1, minimum(i2, i3))}(i0, i1, i2, i3), i1, i4), i1), i4), i1), i5)}} [id CB] <TensorType(int64, scalar)> ''   \n       | |   |     |   | | | | | | |Elemwise{add,no_inplace} [id BX] <TensorType(int64, scalar)> ''   \n       | |   |     |   | | | | | | |TensorConstant{-1} [id CA] <TensorType(int8, scalar)>\n       | |   |     |   | | | | | | |Elemwise{sub,no_inplace} [id CE] <TensorType(int64, scalar)> ''   \n       | |   |     |   | | | | | |   |Elemwise{add,no_inplace} [id BX] <TensorType(int64, scalar)> ''   \n       | |   |     |   | | | | | |   |TensorConstant{1} [id CF] <TensorType(int8, scalar)>\n       | |   |     |   | | | | | |TensorConstant{1} [id BY] <TensorType(int64, scalar)>\n       | |   |     |   | | | | | |Elemwise{Composite{(((i0 - Switch(GE(Composite{Switch(LT(i0, i1), i2, i0)}(Composite{Switch(LT(i0, i1), (i0 + i2), i0)}(Composite{Switch(i0, i1, Switch(AND(LT(i2, i1), GT(i3, i1)), i4, maximum((i5 + i6), i2)))}(i1, i2, (i3 - i4), i5, i6, i7, i8), i2, i9), i2, i10), i9), i9, Composite{Switch(LT(i0, i1), i2, i0)}(Composite{Switch(LT(i0, i1), (i0 + i2), i0)}(Composite{Switch(i0, i1, Switch(AND(LT(i2, i1), GT(i3, i1)), i4, maximum((i5 + i6), i2)))}(i1, i2, (i3 - i4), i5, i6, i7, i8), i2, i9), i2, i10))) - i11) // i12)}} [id CG] <TensorType(int64, scalar)> ''   \n       | |   |     |   | | | | | | |Elemwise{Composite{Switch(GE(Composite{Switch(LT(i0, i1), i2, i0)}(Composite{Switch(LT(i0, i1), (i0 + i2), i0)}(Composite{Switch(i0, i1, maximum(i2, (i3 - i4)))}(i0, i1, i2, i3, i4), i1, i5), i1, i6), i5), i7, Composite{Switch(LT(i0, i1), i2, i0)}(Composite{Switch(LT(i0, i1), (i0 + i2), i0)}(Composite{Switch(i0, i1, maximum(i2, (i3 - i4)))}(i0, i1, i2, i3, i4), i1, i5), i1, i6))}} [id BK] <TensorType(int64, scalar)> ''   \n       | |   |     |   | | | | | | |Elemwise{le,no_inplace} [id BL] <TensorType(bool, scalar)> ''   \n       | |   |     |   | | | | | | |TensorConstant{0} [id BS] <TensorType(int8, scalar)>\n       | |   |     |   | | | | | | |Elemwise{add,no_inplace} [id CD] <TensorType(int64, scalar)> ''   \n       | |   |     |   | | | | | | |Elemwise{Composite{Switch(LT(Composite{Switch(GE(i0, i1), i1, i0)}(Composite{Switch(LT(i0, i1), i2, i0)}(Composite{Switch(LT(i0, i1), (i0 + i2), i0)}(Composite{Switch(i0, i1, minimum(i2, i3))}(i0, i1, i2, i3), i1, i4), i1, i5), i4), i1), i1, Composite{Switch(GE(i0, i1), i1, i0)}(Composite{Switch(LT(i0, i1), i2, i0)}(Composite{Switch(LT(i0, i1), (i0 + i2), i0)}(Composite{Switch(i0, i1, minimum(i2, i3))}(i0, i1, i2, i3), i1, i4), i1, i5), i4))}} [id BN] <TensorType(int64, scalar)> ''   \n       | |   |     |   | | | | | | |Elemwise{sub,no_inplace} [id BM] <TensorType(int64, scalar)> ''   \n       | |   |     |   | | | | | | |Elemwise{sub,no_inplace} [id CH] <TensorType(int64, scalar)> ''   \n       | |   |     |   | | | | | | | |TensorConstant{-2} [id CI] <TensorType(int64, scalar)>\n       | |   |     |   | | | | | | | |<TensorType(int32, scalar)> [id BF] <TensorType(int32, scalar)>\n       | |   |     |   | | | | | | |TensorConstant{-1} [id BU] <TensorType(int64, scalar)>\n       | |   |     |   | | | | | | |Elemwise{Composite{Switch(LT(Composite{Switch(LT(i0, i1), i1, i0)}(Composite{Switch(LT(i0, i1), i2, i0)}((i0 - i1), i2, i3), i2), i1), Composite{Switch(LT(i0, i1), i1, i0)}(Composite{Switch(LT(i0, i1), i2, i0)}((i0 - i1), i2, i3), i2), i1)}} [id BZ] <TensorType(int64, scalar)> ''   \n       | |   |     |   | | | | | | |Elemwise{add,no_inplace} [id BX] <TensorType(int64, scalar)> ''   \n       | |   |     |   | | | | | | |TensorConstant{-1} [id CA] <TensorType(int8, scalar)>\n       | |   |     |   | | | | | | |TensorConstant{1} [id CF] <TensorType(int8, scalar)>\n       | |   |     |   | | | | | | |TensorConstant{1} [id BY] <TensorType(int64, scalar)>\n       | |   |     |   | | | | | |TensorConstant{0} [id BS] <TensorType(int8, scalar)>\n       | |   |     |   | | | | | |TensorConstant{1} [id CF] <TensorType(int8, scalar)>\n       | |   |     |   | | | | | |TensorConstant{2} [id CJ] <TensorType(int64, scalar)>\n       | |   |     |   | | | | | |Elemwise{Composite{Switch(GE(Composite{Switch(LT(i0, i1), i2, i0)}(Composite{Switch(i0, (i1 + i2), i1)}(i0, i1, i2), i3, i4), i2), i5, Composite{Switch(LT(i0, i1), i2, i0)}(Composite{Switch(i0, (i1 + i2), i1)}(i0, i1, i2), i3, i4))}} [id CK] <TensorType(int64, scalar)> ''   \n       | |   |     |   | | | | | | |Elemwise{lt,no_inplace} [id CL] <TensorType(bool, scalar)> ''   \n       | |   |     |   | | | | | | | |Elemwise{Composite{Switch(i0, i1, maximum(minimum((i2 + i3), i4), i5))}} [id CM] <TensorType(int64, scalar)> ''   \n       | |   |     |   | | | | | | | | |Elemwise{le,no_inplace} [id CN] <TensorType(bool, scalar)> ''   \n       | |   |     |   | | | | | | | | | |Elemwise{sub,no_inplace} [id CO] <TensorType(int64, scalar)> ''   \n       | |   |     |   | | | | | | | | | | |Elemwise{Composite{Switch(LT(i0, i1), i1, i0)}} [id CP] <TensorType(int64, scalar)> ''   \n       | |   |     |   | | | | | | | | | | | |Elemwise{add,no_inplace} [id CQ] <TensorType(int64, scalar)> ''   \n       | |   |     |   | | | | | | | | | | | | |TensorConstant{1} [id BY] <TensorType(int64, scalar)>\n       | |   |     |   | | | | | | | | | | | | |Elemwise{Composite{Switch(GE(Composite{Switch(LT(i0, i1), i2, i0)}(Composite{Switch(LT(i0, i1), (i0 + i2), i0)}(Composite{Switch(i0, i1, maximum(i2, i3))}(i0, i1, i2, i3), i1, i4), i1, i5), i4), i6, Composite{Switch(LT(i0, i1), i2, i0)}(Composite{Switch(LT(i0, i1), (i0 + i2), i0)}(Composite{Switch(i0, i1, maximum(i2, i3))}(i0, i1, i2, i3), i1, i4), i1, i5))}} [id CR] <TensorType(int64, scalar)> ''   \n       | |   |     |   | | | | | | | | | | | |   |Elemwise{le,no_inplace} [id CS] <TensorType(bool, scalar)> ''   \n       | |   |     |   | | | | | | | | | | | |   | |Elemwise{Composite{Switch(i0, Switch(LT(Composite{((i0 + i1) - i2)}(i1, i2, i3), i4), i4, Composite{((i0 + i1) - i2)}(i1, i2, i3)), Switch(LT(i5, i6), i5, i6))}} [id CT] <TensorType(int64, scalar)> ''   \n       | |   |     |   | | | | | | | | | | | |   | | |Elemwise{lt,no_inplace} [id BQ] <TensorType(bool, scalar)> ''   \n       | |   |     |   | | | | | | | | | | | |   | | |<TensorType(int32, scalar)> [id BF] <TensorType(int32, scalar)>\n       | |   |     |   | | | | | | | | | | | |   | | |Elemwise{Composite{Switch(LT(i0, i1), i1, i0)}} [id CU] <TensorType(int64, scalar)> ''   \n       | |   |     |   | | | | | | | | | | | |   | | | |Elemwise{switch,no_inplace} [id CV] <TensorType(int64, scalar)> ''   \n       | |   |     |   | | | | | | | | | | | |   | | | | |Elemwise{lt,no_inplace} [id BQ] <TensorType(bool, scalar)> ''   \n       | |   |     |   | | | | | | | | | | | |   | | | | |TensorConstant{0} [id BS] <TensorType(int8, scalar)>\n       | |   |     |   | | | | | | | | | | | |   | | | | |Elemwise{Identity} [id BR] <TensorType(int64, scalar)> ''   \n       | |   |     |   | | | | | | | | | | | |   | | | |TensorConstant{0} [id BS] <TensorType(int8, scalar)>\n       | |   |     |   | | | | | | | | | | | |   | | |Elemwise{Composite{Switch(LT(Composite{Switch(LT(i0, i1), i1, i0)}(Composite{Switch(LT(i0, i1), i2, i0)}((i0 - i1), i2, i3), i2), i1), Composite{Switch(LT(i0, i1), i1, i0)}(Composite{Switch(LT(i0, i1), i2, i0)}((i0 - i1), i2, i3), i2), i1)}} [id CW] <TensorType(int64, scalar)> ''   \n       | |   |     |   | | | | | | | | | | | |   | | | |Elemwise{switch,no_inplace} [id CV] <TensorType(int64, scalar)> ''   \n       | |   |     |   | | | | | | | | | | | |   | | | |Elemwise{Composite{Switch(LT(i0, i1), i1, i0)}} [id CU] <TensorType(int64, scalar)> ''   \n       | |   |     |   | | | | | | | | | | | |   | | | |TensorConstant{0} [id BS] <TensorType(int8, scalar)>\n       | |   |     |   | | | | | | | | | | | |   | | | |Elemwise{add,no_inplace} [id CX] <TensorType(int64, scalar)> ''   \n       | |   |     |   | | | | | | | | | | | |   | | |   |TensorConstant{-1} [id BU] <TensorType(int64, scalar)>\n       | |   |     |   | | | | | | | | | | | |   | | |   |Elemwise{switch,no_inplace} [id CV] <TensorType(int64, scalar)> ''   \n       | |   |     |   | | | | | | | | | | | |   | | |TensorConstant{0} [id BS] <TensorType(int8, scalar)>\n       | |   |     |   | | | | | | | | | | | |   | | |Elemwise{Identity} [id BR] <TensorType(int64, scalar)> ''   \n       | |   |     |   | | | | | | | | | | | |   | | |Elemwise{sub,no_inplace} [id CY] <TensorType(int64, scalar)> ''   \n       | |   |     |   | | | | | | | | | | | |   | |   |Elemwise{Composite{Switch(LT(i0, i1), i1, i0)}} [id CU] <TensorType(int64, scalar)> ''   \n       | |   |     |   | | | | | | | | | | | |   | |   |Elemwise{Composite{Switch(LT(Composite{Switch(LT(i0, i1), i1, i0)}(Composite{Switch(LT(i0, i1), i2, i0)}((i0 - i1), i2, i3), i2), i1), Composite{Switch(LT(i0, i1), i1, i0)}(Composite{Switch(LT(i0, i1), i2, i0)}((i0 - i1), i2, i3), i2), i1)}} [id CW] <TensorType(int64, scalar)> ''   \n       | |   |     |   | | | | | | | | | | | |   | |TensorConstant{0} [id BS] <TensorType(int8, scalar)>\n       | |   |     |   | | | | | | | | | | | |   |TensorConstant{0} [id BS] <TensorType(int8, scalar)>\n       | |   |     |   | | | | | | | | | | | |   |Elemwise{Composite{Switch(LT(Composite{Switch(LT(i0, i1), i1, i0)}(Composite{Switch(LT(i0, i1), i2, i0)}((i0 - i1), i2, i3), i2), i1), Composite{Switch(LT(i0, i1), i1, i0)}(Composite{Switch(LT(i0, i1), i2, i0)}((i0 - i1), i2, i3), i2), i1)}} [id CW] <TensorType(int64, scalar)> ''   \n       | |   |     |   | | | | | | | | | | | |   |Elemwise{add,no_inplace} [id CZ] <TensorType(int64, scalar)> ''   \n       | |   |     |   | | | | | | | | | | | |   | |TensorConstant{-1} [id BU] <TensorType(int64, scalar)>\n       | |   |     |   | | | | | | | | | | | |   | |Elemwise{Composite{Switch(LT(i0, i1), i1, i0)}} [id CU] <TensorType(int64, scalar)> ''   \n       | |   |     |   | | | | | | | | | | | |   |Elemwise{switch,no_inplace} [id CV] <TensorType(int64, scalar)> ''   \n       | |   |     |   | | | | | | | | | | | |   |TensorConstant{-1} [id CA] <TensorType(int8, scalar)>\n       | |   |     |   | | | | | | | | | | | |   |Elemwise{add,no_inplace} [id CX] <TensorType(int64, scalar)> ''   \n       | |   |     |   | | | | | | | | | | | |TensorConstant{0} [id BS] <TensorType(int8, scalar)>\n       | |   |     |   | | | | | | | | | | |Elemwise{Composite{Switch(LT(Composite{Switch(LT(i0, i1), i1, i0)}(Composite{Switch(LT(i0, i1), i2, i0)}(Composite{(i0 - Switch(LT(i1, i2), i2, i1))}(i0, Composite{(i0 - Switch(GE(i1, i2), i2, i1))}(i1, Composite{Switch(LT(i0, i1), i2, i0)}(Composite{Switch(LT(i0, i1), (i0 + i2), i0)}(Composite{Switch(i0, i1, Switch(AND(LT(i2, i1), GT(i3, i1)), (i4 - i5), maximum((i4 + i6), i2)))}(i2, i3, (i4 - i5), i5, i6, i7, i8), i3, i7), i3, i9), i7), i3), i3, i1), i3), i10), Composite{Switch(LT(i0, i1), i1, i0)}(Composite{Switch(LT(i0, i1), i2, i0)}(Composite{(i0 - Switch(LT(i1, i2), i2, i1))}(i0, Composite{(i0 - Switch(GE(i1, i2), i2, i1))}(i1, Composite{Switch(LT(i0, i1), i2, i0)}(Composite{Switch(LT(i0, i1), (i0 + i2), i0)}(Composite{Switch(i0, i1, Switch(AND(LT(i2, i1), GT(i3, i1)), (i4 - i5), maximum((i4 + i6), i2)))}(i2, i3, (i4 - i5), i5, i6, i7, i8), i3, i7), i3, i9), i7), i3), i3, i1), i3), i10)}} [id DA] <TensorType(int64, scalar)> ''   \n       | |   |     |   | | | | | | | | | |   |Elemwise{add,no_inplace} [id CQ] <TensorType(int64, scalar)> ''   \n       | |   |     |   | | | | | | | | | |   |Elemwise{Composite{Switch(GE(Composite{Switch(LT(i0, i1), i2, i0)}(Composite{Switch(LT(i0, i1), (i0 + i2), i0)}(Composite{Switch(i0, i1, maximum(i2, i3))}(i0, i1, i2, i3), i1, i4), i1, i5), i4), i6, Composite{Switch(LT(i0, i1), i2, i0)}(Composite{Switch(LT(i0, i1), (i0 + i2), i0)}(Composite{Switch(i0, i1, maximum(i2, i3))}(i0, i1, i2, i3), i1, i4), i1, i5))}} [id CR] <TensorType(int64, scalar)> ''   \n       | |   |     |   | | | | | | | | | |   |Elemwise{le,no_inplace} [id CS] <TensorType(bool, scalar)> ''   \n       | |   |     |   | | | | | | | | | |   |TensorConstant{0} [id BS] <TensorType(int8, scalar)>\n       | |   |     |   | | | | | | | | | |   |Elemwise{add,no_inplace} [id CZ] <TensorType(int64, scalar)> ''   \n       | |   |     |   | | | | | | | | | |   |Elemwise{Composite{Switch(i0, Switch(LT(Composite{((i0 + i1) - i2)}(i1, i2, i3), i4), i4, Composite{((i0 + i1) - i2)}(i1, i2, i3)), Switch(LT(i5, i6), i5, i6))}} [id CT] <TensorType(int64, scalar)> ''   \n       | |   |     |   | | | | | | | | | |   |TensorConstant{-1} [id BU] <TensorType(int64, scalar)>\n       | |   |     |   | | | | | | | | | |   |Elemwise{switch,no_inplace} [id CV] <TensorType(int64, scalar)> ''   \n       | |   |     |   | | | | | | | | | |   |Elemwise{Composite{Switch(LT(Composite{Switch(LT(i0, i1), i1, i0)}(Composite{Switch(LT(i0, i1), i2, i0)}((i0 - i1), i2, i3), i2), i1), Composite{Switch(LT(i0, i1), i1, i0)}(Composite{Switch(LT(i0, i1), i2, i0)}((i0 - i1), i2, i3), i2), i1)}} [id CW] <TensorType(int64, scalar)> ''   \n       | |   |     |   | | | | | | | | | |   |TensorConstant{-1} [id CA] <TensorType(int8, scalar)>\n       | |   |     |   | | | | | | | | | |   |Elemwise{Composite{Switch(LT(i0, i1), i1, i0)}} [id CP] <TensorType(int64, scalar)> ''   \n       | |   |     |   | | | | | | | | | |TensorConstant{0} [id BS] <TensorType(int8, scalar)>\n       | |   |     |   | | | | | | | | |TensorConstant{0} [id BS] <TensorType(int8, scalar)>\n       | |   |     |   | | | | | | | | |TensorConstant{-1} [id BU] <TensorType(int64, scalar)>\n       | |   |     |   | | | | | | | | |Elemwise{Composite{Switch(LT(i0, i1), i1, i0)}} [id CP] <TensorType(int64, scalar)> ''   \n       | |   |     |   | | | | | | | | |Elemwise{switch,no_inplace} [id CV] <TensorType(int64, scalar)> ''   \n       | |   |     |   | | | | | | | | |TensorConstant{0} [id CC] <TensorType(int64, scalar)>\n       | |   |     |   | | | | | | | |TensorConstant{0} [id BS] <TensorType(int8, scalar)>\n       | |   |     |   | | | | | | |Elemwise{Composite{Switch(i0, i1, maximum(minimum((i2 + i3), i4), i5))}} [id CM] <TensorType(int64, scalar)> ''   \n       | |   |     |   | | | | | | |Elemwise{add,no_inplace} [id BX] <TensorType(int64, scalar)> ''   \n       | |   |     |   | | | | | | |TensorConstant{0} [id BS] <TensorType(int8, scalar)>\n       | |   |     |   | | | | | | |TensorConstant{-1} [id CA] <TensorType(int8, scalar)>\n       | |   |     |   | | | | | | |Elemwise{sub,no_inplace} [id CE] <TensorType(int64, scalar)> ''   \n       | |   |     |   | | | | | |Elemwise{Composite{(((i0 - Switch(GE(Composite{Switch(LT(i0, i1), i2, i0)}(Composite{Switch(i0, (i1 + i2), i1)}(i1, i2, i3), i4, i5), i3), i3, Composite{Switch(LT(i0, i1), i2, i0)}(Composite{Switch(i0, (i1 + i2), i1)}(i1, i2, i3), i4, i5))) - i6) // i7)}} [id DB] <TensorType(int64, scalar)> ''   \n       | |   |     |   | | | | |   |Elemwise{Composite{Switch(GE(Composite{Switch(LT(i0, i1), i2, i0)}(Composite{Switch(i0, (i1 + i2), i1)}(i0, i1, i2), i3, i4), i2), i5, Composite{Switch(LT(i0, i1), i2, i0)}(Composite{Switch(i0, (i1 + i2), i1)}(i0, i1, i2), i3, i4))}} [id CK] <TensorType(int64, scalar)> ''   \n       | |   |     |   | | | | |   |Elemwise{lt,no_inplace} [id DC] <TensorType(bool, scalar)> ''   \n       | |   |     |   | | | | |   | |Elemwise{Composite{Switch(i0, i1, Switch(AND(LT((i2 + i3), i1), GT(i4, i1)), i5, minimum((i2 + i3), i6)))}} [id DD] <TensorType(int64, scalar)> ''   \n       | |   |     |   | | | | |   | | |Elemwise{le,no_inplace} [id CN] <TensorType(bool, scalar)> ''   \n       | |   |     |   | | | | |   | | |TensorConstant{0} [id BS] <TensorType(int8, scalar)>\n       | |   |     |   | | | | |   | | |TensorConstant{-1} [id BU] <TensorType(int64, scalar)>\n       | |   |     |   | | | | |   | | |Elemwise{Composite{Switch(LT(Composite{Switch(LT(i0, i1), i1, i0)}(Composite{Switch(LT(i0, i1), i2, i0)}(Composite{(i0 - Switch(LT(i1, i2), i2, i1))}(i0, Composite{(i0 - Switch(GE(i1, i2), i2, i1))}(i1, Composite{Switch(LT(i0, i1), i2, i0)}(Composite{Switch(LT(i0, i1), (i0 + i2), i0)}(Composite{Switch(i0, i1, Switch(AND(LT(i2, i1), GT(i3, i1)), (i4 - i5), maximum((i4 + i6), i2)))}(i2, i3, (i4 - i5), i5, i6, i7, i8), i3, i7), i3, i9), i7), i3), i3, i1), i3), i10), Composite{Switch(LT(i0, i1), i1, i0)}(Composite{Switch(LT(i0, i1), i2, i0)}(Composite{(i0 - Switch(LT(i1, i2), i2, i1))}(i0, Composite{(i0 - Switch(GE(i1, i2), i2, i1))}(i1, Composite{Switch(LT(i0, i1), i2, i0)}(Composite{Switch(LT(i0, i1), (i0 + i2), i0)}(Composite{Switch(i0, i1, Switch(AND(LT(i2, i1), GT(i3, i1)), (i4 - i5), maximum((i4 + i6), i2)))}(i2, i3, (i4 - i5), i5, i6, i7, i8), i3, i7), i3, i9), i7), i3), i3, i1), i3), i10)}} [id DA] <TensorType(int64, scalar)> ''   \n       | |   |     |   | | | | |   | | |Elemwise{sub,no_inplace} [id CO] <TensorType(int64, scalar)> ''   \n       | |   |     |   | | | | |   | | |Elemwise{sub,no_inplace} [id CH] <TensorType(int64, scalar)> ''   \n       | |   |     |   | | | | |   | | |Elemwise{switch,no_inplace} [id CV] <TensorType(int64, scalar)> ''   \n       | |   |     |   | | | | |   | |TensorConstant{0} [id BS] <TensorType(int8, scalar)>\n       | |   |     |   | | | | |   |Elemwise{Composite{Switch(i0, i1, Switch(AND(LT((i2 + i3), i1), GT(i4, i1)), i5, minimum((i2 + i3), i6)))}} [id DD] <TensorType(int64, scalar)> ''   \n       | |   |     |   | | | | |   |Elemwise{add,no_inplace} [id BX] <TensorType(int64, scalar)> ''   \n       | |   |     |   | | | | |   |TensorConstant{0} [id BS] <TensorType(int8, scalar)>\n       | |   |     |   | | | | |   |TensorConstant{-1} [id CA] <TensorType(int8, scalar)>\n       | |   |     |   | | | | |   |TensorConstant{1} [id CF] <TensorType(int8, scalar)>\n       | |   |     |   | | | | |   |TensorConstant{1} [id BY] <TensorType(int64, scalar)>\n       | |   |     |   | | | | |TensorConstant{1} [id CF] <TensorType(int8, scalar)>\n       | |   |     |   | | | | |TensorConstant{1} [id BY] <TensorType(int64, scalar)>\n       | |   |     |   | | | |Shape_i{0} [id P] <TensorType(int64, scalar)> ''   \n       | |   |     |   | | | |TensorConstant{1024} [id DE] <TensorType(int64, scalar)>\n       | |   |     |   | | |GpuFromHost [id DF] <CudaNdarrayType(float32, 3D)> ''   \n       | |   |     |   | | | |Rebroadcast{0} [id DG] <TensorType(float32, 3D)> ''   \n       | |   |     |   | | |   |Alloc [id DH] <TensorType(float32, (True, False, False))> ''   \n       | |   |     |   | | |     |TensorConstant{0.0} [id DI] <TensorType(float32, scalar)>\n       | |   |     |   | | |     |TensorConstant{1} [id CF] <TensorType(int8, scalar)>\n       | |   |     |   | | |     |Shape_i{0} [id P] <TensorType(int64, scalar)> ''   \n       | |   |     |   | | |     |TensorConstant{1024} [id DJ] <TensorType(int16, scalar)>\n       | |   |     |   | | |Constant{1} [id DK] <int64>\n       | |   |     |   | |GpuIncSubtensor{InplaceSet;:int64:} [id DL] <CudaNdarrayType(float32, 3D)> ''   \n       | |   |     |   | | |GpuAllocEmpty [id DM] <CudaNdarrayType(float32, 3D)> ''   \n       | |   |     |   | | | |Elemwise{Composite{(Switch(LT(maximum(i0, i1), i2), (maximum(i0, i1) + i3), (maximum(i0, i1) - i2)) + i3)}} [id DN] <TensorType(int64, scalar)> ''   \n       | |   |     |   | | | | |Elemwise{Composite{((i0 - Switch(LT(Composite{Switch(LT(i0, i1), i1, i0)}(Composite{Switch(LT(i0, i1), (i2 - i3), i0)}(Composite{((i0 - (Switch(LT(i1, i2), i2, i1) - i3)) - i3)}((Composite{Switch(GE(Composite{Switch(LT(i0, i1), i2, i0)}(Composite{Switch(i0, (i1 + i2), i1)}(i0, i1, i2), i3, i4), i2), (i2 - i5), Composite{Switch(LT(i0, i1), i2, i0)}(Composite{Switch(i0, (i1 + i2), i1)}(i0, i1, i2), i3, i4))}(i1, i2, i3, i4, i5, i6) + i7), Composite{((((i0 - Switch(GE(i1, i2), i2, i1)) - i3) // i4) + i4)}(Composite{Switch(GE(Composite{Switch(LT(i0, i1), i2, i0)}(Composite{Switch(i0, (i1 + i2), i1)}(i0, i1, i2), i3, i4), i2), (i2 - i5), Composite{Switch(LT(i0, i1), i2, i0)}(Composite{Switch(i0, (i1 + i2), i1)}(i0, i1, i2), i3, i4))}(i1, i2, i3, i4, i5, i6), Composite{Switch(LT(i0, i1), i2, i0)}(Composite{Switch(i0, (i1 + i2), i1)}(i8, i9, i3), i4, i5), i3, i6, i7), i4, i6), i4, (Composite{Switch(GE(Composite{Switch(LT(i0, i1), i2, i0)}(Composite{Switch(i0, (i1 + i2), i1)}(i0, i1, i2), i3, i4), i2), (i2 - i5), Composite{Switch(LT(i0, i1), i2, i0)}(Composite{Switch(i0, (i1 + i2), i1)}(i0, i1, i2), i3, i4))}(i1, i2, i3, i4, i5, i6) + i7), i6), i4), Composite{Switch(LT(i0, i1), i1, i0)}((Composite{Switch(GE(Composite{Switch(LT(i0, i1), i2, i0)}(Composite{Switch(i0, (i1 + i2), i1)}(i0, i1, i2), i3, i4), i2), (i2 - i5), Composite{Switch(LT(i0, i1), i2, i0)}(Composite{Switch(i0, (i1 + i2), i1)}(i0, i1, i2), i3, i4))}(i1, i2, i3, i4, i5, i6) + i7), i4)), Composite{Switch(LT(i0, i1), i1, i0)}(Composite{Switch(LT(i0, i1), (i2 - i3), i0)}(Composite{((i0 - (Switch(LT(i1, i2), i2, i1) - i3)) - i3)}((Composite{Switch(GE(Composite{Switch(LT(i0, i1), i2, i0)}(Composite{Switch(i0, (i1 + i2), i1)}(i0, i1, i2), i3, i4), i2), (i2 - i5), Composite{Switch(LT(i0, i1), i2, i0)}(Composite{Switch(i0, (i1 + i2), i1)}(i0, i1, i2), i3, i4))}(i1, i2, i3, i4, i5, i6) + i7), Composite{((((i0 - Switch(GE(i1, i2), i2, i1)) - i3) // i4) + i4)}(Composite{Switch(GE(Composite{Switch(LT(i0, i1), i2, i0)}(Composite{Switch(i0, (i1 + i2), i1)}(i0, i1, i2), i3, i4), i2), (i2 - i5), Composite{Switch(LT(i0, i1), i2, i0)}(Composite{Switch(i0, (i1 + i2), i1)}(i0, i1, i2), i3, i4))}(i1, i2, i3, i4, i5, i6), Composite{Switch(LT(i0, i1), i2, i0)}(Composite{Switch(i0, (i1 + i2), i1)}(i8, i9, i3), i4, i5), i3, i6, i7), i4, i6), i4, (Composite{Switch(GE(Composite{Switch(LT(i0, i1), i2, i0)}(Composite{Switch(i0, (i1 + i2), i1)}(i0, i1, i2), i3, i4), i2), (i2 - i5), Composite{Switch(LT(i0, i1), i2, i0)}(Composite{Switch(i0, (i1 + i2), i1)}(i0, i1, i2), i3, i4))}(i1, i2, i3, i4, i5, i6) + i7), i6), i4), Composite{Switch(LT(i0, i1), i1, i0)}((Composite{Switch(GE(Composite{Switch(LT(i0, i1), i2, i0)}(Composite{Switch(i0, (i1 + i2), i1)}(i0, i1, i2), i3, i4), i2), (i2 - i5), Composite{Switch(LT(i0, i1), i2, i0)}(Composite{Switch(i0, (i1 + i2), i1)}(i0, i1, i2), i3, i4))}(i1, i2, i3, i4, i5, i6) + i7), i4))) + i7)}} [id DO] <TensorType(int64, scalar)> ''   \n       | |   |     |   | | | | | |<TensorType(int32, scalar)> [id BF] <TensorType(int32, scalar)>\n       | |   |     |   | | | | | |Elemwise{lt,no_inplace} [id CL] <TensorType(bool, scalar)> ''   \n       | |   |     |   | | | | | |Elemwise{Composite{Switch(i0, i1, maximum(minimum((i2 + i3), i4), i5))}} [id CM] <TensorType(int64, scalar)> ''   \n       | |   |     |   | | | | | |Elemwise{add,no_inplace} [id DP] <TensorType(int32, scalar)> ''   \n       | |   |     |   | | | | | | |<TensorType(int32, scalar)> [id BF] <TensorType(int32, scalar)>\n       | |   |     |   | | | | | | |TensorConstant{1} [id DQ] <TensorType(int32, scalar)>\n       | |   |     |   | | | | | |TensorConstant{0} [id BS] <TensorType(int8, scalar)>\n       | |   |     |   | | | | | |TensorConstant{-1} [id CA] <TensorType(int8, scalar)>\n       | |   |     |   | | | | | |TensorConstant{1} [id CF] <TensorType(int8, scalar)>\n       | |   |     |   | | | | | |TensorConstant{1} [id BY] <TensorType(int64, scalar)>\n       | |   |     |   | | | | | |Elemwise{lt,no_inplace} [id DC] <TensorType(bool, scalar)> ''   \n       | |   |     |   | | | | | |Elemwise{Composite{Switch(i0, i1, Switch(AND(LT((i2 + i3), i1), GT(i4, i1)), i5, minimum((i2 + i3), i6)))}} [id DD] <TensorType(int64, scalar)> ''   \n       | |   |     |   | | | | |TensorConstant{2} [id CJ] <TensorType(int64, scalar)>\n       | |   |     |   | | | | |TensorConstant{1} [id CF] <TensorType(int8, scalar)>\n       | |   |     |   | | | | |TensorConstant{1} [id BY] <TensorType(int64, scalar)>\n       | |   |     |   | | | |Shape_i{0} [id P] <TensorType(int64, scalar)> ''   \n       | |   |     |   | | | |TensorConstant{1024} [id DE] <TensorType(int64, scalar)>\n       | |   |     |   | | |GpuFromHost [id DF] <CudaNdarrayType(float32, 3D)> ''   \n       | |   |     |   | | |Constant{1} [id DK] <int64>\n       | |   |     |   | |IncSubtensor{InplaceSet;:int64:} [id DR] <TensorType(int32, matrix)> ''   \n       | |   |     |   | | |AllocEmpty{dtype='int32'} [id DS] <TensorType(int32, matrix)> ''   \n       | |   |     |   | | | |Elemwise{Composite{(Switch(LT(maximum(i0, i1), i2), (maximum(i0, i1) + i3), (maximum(i0, i1) - i2)) + i3)}} [id DN] <TensorType(int64, scalar)> ''   \n       | |   |     |   | | | |Shape_i{0} [id P] <TensorType(int64, scalar)> ''   \n       | |   |     |   | | |Rebroadcast{0} [id DT] <TensorType(int32, matrix)> ''   \n       | |   |     |   | | | |Alloc [id DU] <TensorType(int32, row)> ''   \n       | |   |     |   | | |   |TensorConstant{(1, 1) of 36069} [id DV] <TensorType(int32, (True, True))>\n       | |   |     |   | | |   |TensorConstant{1} [id BY] <TensorType(int64, scalar)>\n       | |   |     |   | | |   |Shape_i{0} [id P] <TensorType(int64, scalar)> ''   \n       | |   |     |   | | |Constant{1} [id DK] <int64>\n       | |   |     |   | |IncSubtensor{InplaceSet;:int64:} [id DW] <TensorType(int32, matrix)> ''   \n       | |   |     |   | | |AllocEmpty{dtype='int32'} [id DX] <TensorType(int32, matrix)> ''   \n       | |   |     |   | | | |Elemwise{Composite{(Switch(LT(maximum(i0, i1), i2), (maximum(i0, i1) + i3), (maximum(i0, i1) - i2)) + i3)}} [id DY] <TensorType(int64, scalar)> ''   \n       | |   |     |   | | | | |Elemwise{Composite{((i0 - Switch(LT(i1, i2), i1, i2)) + i1)}} [id DZ] <TensorType(int64, scalar)> ''   \n       | |   |     |   | | | | | |<TensorType(int32, scalar)> [id BF] <TensorType(int32, scalar)>\n       | |   |     |   | | | | | |TensorConstant{1} [id BY] <TensorType(int64, scalar)>\n       | |   |     |   | | | | | |Elemwise{add,no_inplace} [id DP] <TensorType(int32, scalar)> ''   \n       | |   |     |   | | | | |TensorConstant{2} [id CJ] <TensorType(int64, scalar)>\n       | |   |     |   | | | | |TensorConstant{1} [id CF] <TensorType(int8, scalar)>\n       | |   |     |   | | | | |TensorConstant{1} [id BY] <TensorType(int64, scalar)>\n       | |   |     |   | | | |Shape_i{0} [id P] <TensorType(int64, scalar)> ''   \n       | |   |     |   | | |Rebroadcast{0} [id DT] <TensorType(int32, matrix)> ''   \n       | |   |     |   | | |Constant{1} [id DK] <int64>\n       | |   |     |   | |GpuIncSubtensor{InplaceSet;:int64:} [id EA] <CudaNdarrayType(float32, 3D)> ''   \n       | |   |     |   | | |GpuAllocEmpty [id EB] <CudaNdarrayType(float32, 3D)> ''   \n       | |   |     |   | | | |Elemwise{Composite{(Switch(LT(maximum(i0, i1), i2), (maximum(i0, i1) + i3), (maximum(i0, i1) - i2)) + i3)}} [id DY] <TensorType(int64, scalar)> ''   \n       | |   |     |   | | | |Shape_i{0} [id P] <TensorType(int64, scalar)> ''   \n       | |   |     |   | | | |TensorConstant{36071} [id EC] <TensorType(int64, scalar)>\n       | |   |     |   | | |GpuFromHost [id ED] <CudaNdarrayType(float32, 3D)> ''   \n       | |   |     |   | | | |Rebroadcast{0} [id EE] <TensorType(float32, 3D)> ''   \n       | |   |     |   | | |   |Alloc [id EF] <TensorType(float32, (True, False, False))> ''   \n       | |   |     |   | | |     |TensorConstant{0.0} [id DI] <TensorType(float32, scalar)>\n       | |   |     |   | | |     |TensorConstant{1} [id CF] <TensorType(int8, scalar)>\n       | |   |     |   | | |     |Shape_i{0} [id P] <TensorType(int64, scalar)> ''   \n       | |   |     |   | | |     |TensorConstant{36071} [id EG] <TensorType(int32, scalar)>\n       | |   |     |   | | |Constant{1} [id DK] <int64>\n       | |   |     |   | |GpuIncSubtensor{InplaceSet;:int64:} [id EH] <CudaNdarrayType(float32, (True, False, False))> ''   \n       | |   |     |   | | |GpuAllocEmpty [id EI] <CudaNdarrayType(float32, (True, False, False))> ''   \n       | |   |     |   | | | |TensorConstant{1} [id BY] <TensorType(int64, scalar)>\n       | |   |     |   | | | |Shape_i{0} [id P] <TensorType(int64, scalar)> ''   \n       | |   |     |   | | | |TensorConstant{1024} [id DE] <TensorType(int64, scalar)>\n       | |   |     |   | | |GpuFromHost [id EJ] <CudaNdarrayType(float32, (True, False, False))> ''   \n       | |   |     |   | | | |Alloc [id DH] <TensorType(float32, (True, False, False))> ''   \n       | |   |     |   | | |Constant{1} [id DK] <int64>\n       | |   |     |   | |DeepCopyOp [id EK] <CudaNdarrayType(float32, (True, False, False))> ''   \n       | |   |     |   | | |GpuIncSubtensor{InplaceSet;:int64:} [id EH] <CudaNdarrayType(float32, (True, False, False))> ''   \n       | |   |     |   | |IncSubtensor{InplaceSet;:int64:} [id EL] <TensorType(int32, row)> ''   \n       | |   |     |   | | |AllocEmpty{dtype='int32'} [id EM] <TensorType(int32, row)> ''   \n       | |   |     |   | | | |TensorConstant{1} [id BY] <TensorType(int64, scalar)>\n       | |   |     |   | | | |Shape_i{0} [id P] <TensorType(int64, scalar)> ''   \n       | |   |     |   | | |TensorConstant{(1, 1) of 36069} [id DV] <TensorType(int32, (True, True))>\n       | |   |     |   | | |Constant{1} [id DK] <int64>\n       | |   |     |   | |DeepCopyOp [id EN] <TensorType(int32, matrix)> ''   \n       | |   |     |   | | |IncSubtensor{InplaceSet;:int64:} [id DW] <TensorType(int32, matrix)> ''   \n       | |   |     |   | |<RandomStateType> [id EO] <RandomStateType>\n       | |   |     |   | |context embedding.W [id EP] <CudaNdarrayType(float32, matrix)>\n       | |   |     |   | |decoder intermediate.W [id EQ] <CudaNdarrayType(float32, matrix)>\n       | |   |     |   | |decoder next word probas.W [id ER] <CudaNdarrayType(float32, matrix)>\n       | |   |     |   | |GpuDot22 [id ES] <CudaNdarrayType(float32, matrix)> ''   \n       | |   |     |   | | |GpuAdvancedSubtensor1 [id ET] <CudaNdarrayType(float32, matrix)> ''   \n       | |   |     |   | | | |persona_based.emb.W [id EU] <CudaNdarrayType(float32, matrix)>\n       | |   |     |   | | | |Elemwise{Cast{int64}} [id EV] <TensorType(int64, vector)> ''   \n       | |   |     |   | | |   |personality idxs [id EW] <TensorType(int32, vector)>\n       | |   |     |   | | |GpuJoin [id EX] <CudaNdarrayType(float32, matrix)> ''   \n       | |   |     |   | |   |TensorConstant{1} [id CF] <TensorType(int8, scalar)>\n       | |   |     |   | |   |decoder_lstm.W_persona_based.each_tick_to_ingate [id EY] <CudaNdarrayType(float32, matrix)>\n       | |   |     |   | |   |decoder_lstm.W_persona_based.each_tick_to_forgetgate [id EZ] <CudaNdarrayType(float32, matrix)>\n       | |   |     |   | |   |decoder_lstm.W_persona_based.each_tick_to_cell [id FA] <CudaNdarrayType(float32, matrix)>\n       | |   |     |   | |   |decoder_lstm.W_persona_based.each_tick_to_outgate [id FB] <CudaNdarrayType(float32, matrix)>\n       | |   |     |   | |GpuDot22 [id FC] <CudaNdarrayType(float32, matrix)> ''   \n       | |   |     |   | | |GpuSubtensor{int64} [id FD] <CudaNdarrayType(float32, matrix)> ''   \n       | |   |     |   | | | |forall_inplace,gpu,scan_fn}.1 [id FE] <CudaNdarrayType(float32, 3D)> ''   \n       | |   |     |   | | | | |Elemwise{maximum,no_inplace} [id FF] <TensorType(int64, scalar)> ''   \n       | |   |     |   | | | | | |Elemwise{Composite{minimum(maximum(maximum((i0 - i1), (i0 - i1)), ((i2 + i3) - i1)), i4)}} [id FG] <TensorType(int64, scalar)> ''   \n       | |   |     |   | | | | | | |Elemwise{Composite{Switch(LT(i0, i1), i1, i0)}} [id FH] <TensorType(int64, scalar)> ''   \n       | |   |     |   | | | | | | | |Elemwise{add,no_inplace} [id FI] <TensorType(int64, scalar)> ''   \n       | |   |     |   | | | | | | | | |Elemwise{Composite{Switch(GE(Composite{Switch(LT(i0, i1), i2, i0)}(Composite{Switch(i0, (i1 + i2), i1)}(i0, i1, i2), i3, i4), i2), (i2 - i5), Composite{Switch(LT(i0, i1), i2, i0)}(Composite{Switch(i0, (i1 + i2), i1)}(i0, i1, i2), i3, i4))}} [id FJ] <TensorType(int64, scalar)> ''   \n       | |   |     |   | | | | | | | | | |Elemwise{lt,no_inplace} [id FK] <TensorType(bool, scalar)> ''   \n       | |   |     |   | | | | | | | | | | |Elemwise{Composite{Switch(i0, i1, maximum(minimum((i2 + i3), i4), i5))}} [id FL] <TensorType(int64, scalar)> ''   \n       | |   |     |   | | | | | | | | | | | |Elemwise{le,no_inplace} [id FM] <TensorType(bool, scalar)> ''   \n       | |   |     |   | | | | | | | | | | | | |Elemwise{sub,no_inplace} [id FN] <TensorType(int64, scalar)> ''   \n       | |   |     |   | | | | | | | | | | | | | |Elemwise{Composite{Switch(LT(i0, i1), i1, i0)}} [id FO] <TensorType(int64, scalar)> ''   \n       | |   |     |   | | | | | | | | | | | | | | |Elemwise{add,no_inplace} [id FP] <TensorType(int64, scalar)> ''   \n       | |   |     |   | | | | | | | | | | | | | | | |TensorConstant{1} [id BY] <TensorType(int64, scalar)>\n       | |   |     |   | | | | | | | | | | | | | | | |Elemwise{Composite{Switch(GE(Composite{Switch(LT(i0, i1), i2, i0)}(Composite{Switch(LT(i0, i1), (i0 + i2), i0)}(Composite{Switch(i0, i1, maximum(i2, i3))}(i0, i1, i2, i3), i1, i4), i1, i5), i4), i3, Composite{Switch(LT(i0, i1), i2, i0)}(Composite{Switch(LT(i0, i1), (i0 + i2), i0)}(Composite{Switch(i0, i1, maximum(i2, i3))}(i0, i1, i2, i3), i1, i4), i1, i5))}} [id FQ] <TensorType(int64, scalar)> ''   \n       | |   |     |   | | | | | | | | | | | | | | |   |Elemwise{le,no_inplace} [id FR] <TensorType(bool, scalar)> ''   \n       | |   |     |   | | | | | | | | | | | | | | |   | |Elemwise{Composite{Switch(LT(i0, i1), i0, i1)}} [id FS] <TensorType(int64, scalar)> ''   \n       | |   |     |   | | | | | | | | | | | | | | |   | | |Shape_i{1} [id Q] <TensorType(int64, scalar)> ''   \n       | |   |     |   | | | | | | | | | | | | | | |   | | |Elemwise{sub,no_inplace} [id FT] <TensorType(int64, scalar)> ''   \n       | |   |     |   | | | | | | | | | | | | | | |   | |   |Shape_i{1} [id Q] <TensorType(int64, scalar)> ''   \n       | |   |     |   | | | | | | | | | | | | | | |   | |   |Elemwise{Composite{Switch(LT(i0, i1), i0, i1)}} [id FU] <TensorType(int64, scalar)> ''   \n       | |   |     |   | | | | | | | | | | | | | | |   | |     |TensorConstant{0} [id CC] <TensorType(int64, scalar)>\n       | |   |     |   | | | | | | | | | | | | | | |   | |     |Shape_i{1} [id Q] <TensorType(int64, scalar)> ''   \n       | |   |     |   | | | | | | | | | | | | | | |   | |TensorConstant{0} [id BS] <TensorType(int8, scalar)>\n       | |   |     |   | | | | | | | | | | | | | | |   |TensorConstant{0} [id BS] <TensorType(int8, scalar)>\n       | |   |     |   | | | | | | | | | | | | | | |   |Elemwise{Composite{Switch(LT(i0, i1), i0, i1)}} [id FU] <TensorType(int64, scalar)> ''   \n       | |   |     |   | | | | | | | | | | | | | | |   |Elemwise{add,no_inplace} [id FV] <TensorType(int64, scalar)> ''   \n       | |   |     |   | | | | | | | | | | | | | | |   | |TensorConstant{-1} [id BU] <TensorType(int64, scalar)>\n       | |   |     |   | | | | | | | | | | | | | | |   | |Shape_i{1} [id Q] <TensorType(int64, scalar)> ''   \n       | |   |     |   | | | | | | | | | | | | | | |   |Shape_i{1} [id Q] <TensorType(int64, scalar)> ''   \n       | |   |     |   | | | | | | | | | | | | | | |   |TensorConstant{-1} [id CA] <TensorType(int8, scalar)>\n       | |   |     |   | | | | | | | | | | | | | | |TensorConstant{0} [id BS] <TensorType(int8, scalar)>\n       | |   |     |   | | | | | | | | | | | | | |Elemwise{Composite{Switch(LT(Composite{Switch(LT(i0, i1), i1, i0)}(Composite{Switch(LT(i0, i1), i2, i0)}(Composite{(i0 - Switch(LT(i1, i2), i2, i1))}(i0, Composite{(i0 - Switch(GE(i1, i2), i2, i1))}(i1, Composite{Switch(LT(i0, i1), i2, i0)}(Composite{Switch(LT(i0, i1), (i0 + i2), i0)}(Composite{Switch(i0, i1, Switch(AND(LT(i2, i1), GT(i3, i1)), i4, maximum((i5 + i6), i2)))}(i2, i3, (i4 - i5), i5, i6, i7, i8), i3, i9), i3, i10), i9), i3), i3, i1), i3), i11), Composite{Switch(LT(i0, i1), i1, i0)}(Composite{Switch(LT(i0, i1), i2, i0)}(Composite{(i0 - Switch(LT(i1, i2), i2, i1))}(i0, Composite{(i0 - Switch(GE(i1, i2), i2, i1))}(i1, Composite{Switch(LT(i0, i1), i2, i0)}(Composite{Switch(LT(i0, i1), (i0 + i2), i0)}(Composite{Switch(i0, i1, Switch(AND(LT(i2, i1), GT(i3, i1)), i4, maximum((i5 + i6), i2)))}(i2, i3, (i4 - i5), i5, i6, i7, i8), i3, i9), i3, i10), i9), i3), i3, i1), i3), i11)}} [id FW] <TensorType(int64, scalar)> ''   \n       | |   |     |   | | | | | | | | | | | | |   |Elemwise{add,no_inplace} [id FP] <TensorType(int64, scalar)> ''   \n       | |   |     |   | | | | | | | | | | | | |   |Elemwise{Composite{Switch(GE(Composite{Switch(LT(i0, i1), i2, i0)}(Composite{Switch(LT(i0, i1), (i0 + i2), i0)}(Composite{Switch(i0, i1, maximum(i2, i3))}(i0, i1, i2, i3), i1, i4), i1, i5), i4), i3, Composite{Switch(LT(i0, i1), i2, i0)}(Composite{Switch(LT(i0, i1), (i0 + i2), i0)}(Composite{Switch(i0, i1, maximum(i2, i3))}(i0, i1, i2, i3), i1, i4), i1, i5))}} [id FQ] <TensorType(int64, scalar)> ''   \n       | |   |     |   | | | | | | | | | | | | |   |Elemwise{le,no_inplace} [id FR] <TensorType(bool, scalar)> ''   \n       | |   |     |   | | | | | | | | | | | | |   |TensorConstant{0} [id BS] <TensorType(int8, scalar)>\n       | |   |     |   | | | | | | | | | | | | |   |Elemwise{add,no_inplace} [id FV] <TensorType(int64, scalar)> ''   \n       | |   |     |   | | | | | | | | | | | | |   |Elemwise{Composite{Switch(LT(i0, i1), i0, i1)}} [id FS] <TensorType(int64, scalar)> ''   \n       | |   |     |   | | | | | | | | | | | | |   |Elemwise{sub,no_inplace} [id FX] <TensorType(int64, scalar)> ''   \n       | |   |     |   | | | | | | | | | | | | |   | |TensorConstant{-1} [id BU] <TensorType(int64, scalar)>\n       | |   |     |   | | | | | | | | | | | | |   | |Shape_i{1} [id Q] <TensorType(int64, scalar)> ''   \n       | |   |     |   | | | | | | | | | | | | |   |TensorConstant{-1} [id BU] <TensorType(int64, scalar)>\n       | |   |     |   | | | | | | | | | | | | |   |Elemwise{Composite{Switch(LT(i0, i1), i0, i1)}} [id FU] <TensorType(int64, scalar)> ''   \n       | |   |     |   | | | | | | | | | | | | |   |Shape_i{1} [id Q] <TensorType(int64, scalar)> ''   \n       | |   |     |   | | | | | | | | | | | | |   |TensorConstant{-1} [id CA] <TensorType(int8, scalar)>\n       | |   |     |   | | | | | | | | | | | | |   |Elemwise{Composite{Switch(LT(i0, i1), i1, i0)}} [id FO] <TensorType(int64, scalar)> ''   \n       | |   |     |   | | | | | | | | | | | | |TensorConstant{0} [id BS] <TensorType(int8, scalar)>\n       | |   |     |   | | | | | | | | | | | |TensorConstant{0} [id BS] <TensorType(int8, scalar)>\n       | |   |     |   | | | | | | | | | | | |TensorConstant{-1} [id BU] <TensorType(int64, scalar)>\n       | |   |     |   | | | | | | | | | | | |Elemwise{Composite{Switch(LT(i0, i1), i1, i0)}} [id FO] <TensorType(int64, scalar)> ''   \n       | |   |     |   | | | | | | | | | | | |Shape_i{1} [id Q] <TensorType(int64, scalar)> ''   \n       | |   |     |   | | | | | | | | | | | |TensorConstant{0} [id CC] <TensorType(int64, scalar)>\n       | |   |     |   | | | | | | | | | | |TensorConstant{0} [id BS] <TensorType(int8, scalar)>\n       | |   |     |   | | | | | | | | | |Elemwise{Composite{Switch(i0, i1, maximum(minimum((i2 + i3), i4), i5))}} [id FL] <TensorType(int64, scalar)> ''   \n       | |   |     |   | | | | | | | | | |Elemwise{add,no_inplace} [id FY] <TensorType(int64, scalar)> ''   \n       | |   |     |   | | | | | | | | | | |TensorConstant{1} [id BY] <TensorType(int64, scalar)>\n       | |   |     |   | | | | | | | | | | |Shape_i{1} [id Q] <TensorType(int64, scalar)> ''   \n       | |   |     |   | | | | | | | | | |TensorConstant{0} [id BS] <TensorType(int8, scalar)>\n       | |   |     |   | | | | | | | | | |TensorConstant{-1} [id CA] <TensorType(int8, scalar)>\n       | |   |     |   | | | | | | | | | |TensorConstant{1} [id CF] <TensorType(int8, scalar)>\n       | |   |     |   | | | | | | | | |TensorConstant{1} [id BY] <TensorType(int64, scalar)>\n       | |   |     |   | | | | | | | |TensorConstant{0} [id BS] <TensorType(int8, scalar)>\n       | |   |     |   | | | | | | |TensorConstant{1} [id CF] <TensorType(int8, scalar)>\n       | |   |     |   | | | | | | |Elemwise{Composite{Switch(i0, (i1 + i2), i1)}} [id FZ] <TensorType(int64, scalar)> ''   \n       | |   |     |   | | | | | | | |Elemwise{lt,no_inplace} [id GA] <TensorType(bool, scalar)> ''   \n       | |   |     |   | | | | | | | | |Elemwise{Composite{Switch(LT((i0 - i1), i2), i3, Switch(GE((i0 - i1), i4), (i5 + i0), Switch(LE(i4, i2), (i5 + i0), i0)))}} [id GB] <TensorType(int64, scalar)> ''   \n       | |   |     |   | | | | | | | | | |Shape_i{1} [id Q] <TensorType(int64, scalar)> ''   \n       | |   |     |   | | | | | | | | | |Elemwise{Composite{Switch(LT(i0, i1), i0, i1)}} [id GC] <TensorType(int64, scalar)> ''   \n       | |   |     |   | | | | | | | | | | |TensorConstant{1} [id BY] <TensorType(int64, scalar)>\n       | |   |     |   | | | | | | | | | | |Elemwise{add,no_inplace} [id FY] <TensorType(int64, scalar)> ''   \n       | |   |     |   | | | | | | | | | |TensorConstant{0} [id BS] <TensorType(int8, scalar)>\n       | |   |     |   | | | | | | | | | |Elemwise{sub,no_inplace} [id GD] <TensorType(int64, scalar)> ''   \n       | |   |     |   | | | | | | | | | | |TensorConstant{-2} [id CI] <TensorType(int64, scalar)>\n       | |   |     |   | | | | | | | | | | |Shape_i{1} [id Q] <TensorType(int64, scalar)> ''   \n       | |   |     |   | | | | | | | | | |Elemwise{sub,no_inplace} [id GE] <TensorType(int64, scalar)> ''   \n       | |   |     |   | | | | | | | | | | |Elemwise{add,no_inplace} [id FY] <TensorType(int64, scalar)> ''   \n       | |   |     |   | | | | | | | | | | |Elemwise{Composite{Switch(LT(i0, i1), i0, i1)}} [id GC] <TensorType(int64, scalar)> ''   \n       | |   |     |   | | | | | | | | | |TensorConstant{2} [id CJ] <TensorType(int64, scalar)>\n       | |   |     |   | | | | | | | | |TensorConstant{0} [id BS] <TensorType(int8, scalar)>\n       | |   |     |   | | | | | | | |Elemwise{Composite{Switch(LT((i0 - i1), i2), i3, Switch(GE((i0 - i1), i4), (i5 + i0), Switch(LE(i4, i2), (i5 + i0), i0)))}} [id GB] <TensorType(int64, scalar)> ''   \n       | |   |     |   | | | | | | | |Elemwise{add,no_inplace} [id FY] <TensorType(int64, scalar)> ''   \n       | |   |     |   | | | | | | |TensorConstant{1} [id BY] <TensorType(int64, scalar)>\n       | |   |     |   | | | | | | |Shape_i{1} [id Q] <TensorType(int64, scalar)> ''   \n       | |   |     |   | | | | | |TensorConstant{1} [id BY] <TensorType(int64, scalar)>\n       | |   |     |   | | | | |GpuSubtensor{int64:int64:int8} [id GF] <CudaNdarrayType(float32, 3D)> ''   \n       | |   |     |   | | | | | |GpuElemwise{add,no_inplace} [id GG] <CudaNdarrayType(float32, 3D)> ''   \n       | |   |     |   | | | | | | |GpuReshape{3} [id GH] <CudaNdarrayType(float32, 3D)> ''   \n       | |   |     |   | | | | | | | |GpuDot22 [id GI] <CudaNdarrayType(float32, matrix)> ''   \n       | |   |     |   | | | | | | | | |GpuReshape{2} [id GJ] <CudaNdarrayType(float32, matrix)> ''   \n       | |   |     |   | | | | | | | | | |GpuDimShuffle{1,0,2} [id GK] <CudaNdarrayType(float32, 3D)> ''   \n       | |   |     |   | | | | | | | | | | |GpuReshape{3} [id GL] <CudaNdarrayType(float32, 3D)> ''   \n       | |   |     |   | | | | | | | | | |   |GpuAdvancedSubtensor1 [id GM] <CudaNdarrayType(float32, matrix)> ''   \n       | |   |     |   | | | | | | | | | |   | |context embedding.W [id EP] <CudaNdarrayType(float32, matrix)>\n       | |   |     |   | | | | | | | | | |   | |Elemwise{Cast{int64}} [id K] <TensorType(int64, vector)> ''   \n       | |   |     |   | | | | | | | | | |   |MakeVector{dtype='int64'} [id GN] <TensorType(int64, vector)> ''   \n       | |   |     |   | | | | | | | | | |     |Shape_i{0} [id P] <TensorType(int64, scalar)> ''   \n       | |   |     |   | | | | | | | | | |     |Shape_i{1} [id Q] <TensorType(int64, scalar)> ''   \n       | |   |     |   | | | | | | | | | |     |Shape_i{1} [id GO] <TensorType(int64, scalar)> ''   \n       | |   |     |   | | | | | | | | | |       |context embedding.W [id EP] <CudaNdarrayType(float32, matrix)>\n       | |   |     |   | | | | | | | | | |MakeVector{dtype='int64'} [id GP] <TensorType(int64, vector)> ''   \n       | |   |     |   | | | | | | | | |   |Elemwise{mul,no_inplace} [id GQ] <TensorType(int64, scalar)> ''   \n       | |   |     |   | | | | | | | | |   | |Shape_i{1} [id Q] <TensorType(int64, scalar)> ''   \n       | |   |     |   | | | | | | | | |   | |Shape_i{0} [id P] <TensorType(int64, scalar)> ''   \n       | |   |     |   | | | | | | | | |   |Shape_i{1} [id GO] <TensorType(int64, scalar)> ''   \n       | |   |     |   | | | | | | | | |GpuJoin [id GR] <CudaNdarrayType(float32, matrix)> ''   \n       | |   |     |   | | | | | | | |   |TensorConstant{1} [id CF] <TensorType(int8, scalar)>\n       | |   |     |   | | | | | | | |   |encoder_lstm.W_in_to_ingate [id GS] <CudaNdarrayType(float32, matrix)>\n       | |   |     |   | | | | | | | |   |encoder_lstm.W_in_to_forgetgate [id GT] <CudaNdarrayType(float32, matrix)>\n       | |   |     |   | | | | | | | |   |encoder_lstm.W_in_to_cell [id GU] <CudaNdarrayType(float32, matrix)>\n       | |   |     |   | | | | | | | |   |encoder_lstm.W_in_to_outgate [id GV] <CudaNdarrayType(float32, matrix)>\n       | |   |     |   | | | | | | | |MakeVector{dtype='int64'} [id GW] <TensorType(int64, vector)> ''   \n       | |   |     |   | | | | | | |   |Shape_i{1} [id Q] <TensorType(int64, scalar)> ''   \n       | |   |     |   | | | | | | |   |Shape_i{0} [id P] <TensorType(int64, scalar)> ''   \n       | |   |     |   | | | | | | |   |Elemwise{add,no_inplace} [id GX] <TensorType(int64, scalar)> ''   \n       | |   |     |   | | | | | | |     |Shape_i{1} [id GY] <TensorType(int64, scalar)> ''   \n       | |   |     |   | | | | | | |     | |encoder_lstm.W_in_to_ingate [id GS] <CudaNdarrayType(float32, matrix)>\n       | |   |     |   | | | | | | |     |Shape_i{1} [id GZ] <TensorType(int64, scalar)> ''   \n       | |   |     |   | | | | | | |     | |encoder_lstm.W_in_to_forgetgate [id GT] <CudaNdarrayType(float32, matrix)>\n       | |   |     |   | | | | | | |     |Shape_i{1} [id HA] <TensorType(int64, scalar)> ''   \n       | |   |     |   | | | | | | |     | |encoder_lstm.W_in_to_cell [id GU] <CudaNdarrayType(float32, matrix)>\n       | |   |     |   | | | | | | |     |Shape_i{1} [id HB] <TensorType(int64, scalar)> ''   \n       | |   |     |   | | | | | | |       |encoder_lstm.W_in_to_outgate [id GV] <CudaNdarrayType(float32, matrix)>\n       | |   |     |   | | | | | | |GpuDimShuffle{x,x,0} [id HC] <CudaNdarrayType(float32, (True, True, False))> ''   \n       | |   |     |   | | | | | |   |GpuJoin [id HD] <CudaNdarrayType(float32, vector)> ''   \n       | |   |     |   | | | | | |     |TensorConstant{0} [id BS] <TensorType(int8, scalar)>\n       | |   |     |   | | | | | |     |encoder_lstm.b_ingate [id HE] <CudaNdarrayType(float32, vector)>\n       | |   |     |   | | | | | |     |encoder_lstm.b_forgetgate [id HF] <CudaNdarrayType(float32, vector)>\n       | |   |     |   | | | | | |     |encoder_lstm.b_cell [id HG] <CudaNdarrayType(float32, vector)>\n       | |   |     |   | | | | | |     |encoder_lstm.b_outgate [id HH] <CudaNdarrayType(float32, vector)>\n       | |   |     |   | | | | | |ScalarFromTensor [id HI] <int64> ''   \n       | |   |     |   | | | | | | |Elemwise{Composite{Switch(LE(i0, i1), i1, i2)}} [id HJ] <TensorType(int64, scalar)> ''   \n       | |   |     |   | | | | | |   |Shape_i{1} [id Q] <TensorType(int64, scalar)> ''   \n       | |   |     |   | | | | | |   |TensorConstant{0} [id BS] <TensorType(int8, scalar)>\n       | |   |     |   | | | | | |   |TensorConstant{0} [id CC] <TensorType(int64, scalar)>\n       | |   |     |   | | | | | |ScalarFromTensor [id HK] <int64> ''   \n       | |   |     |   | | | | | | |Shape_i{1} [id Q] <TensorType(int64, scalar)> ''   \n       | |   |     |   | | | | | |Constant{1} [id HL] <int8>\n       | |   |     |   | | | | |Subtensor{int64:int64:int8} [id HM] <TensorType(bool, (False, False, True))> ''   \n       | |   |     |   | | | | | |Elemwise{neq,no_inplace} [id HN] <TensorType(bool, (False, False, True))> ''   \n       | |   |     |   | | | | | | |InplaceDimShuffle{1,0,x} [id HO] <TensorType(int32, (False, False, True))> ''   \n       | |   |     |   | | | | | | | |encoder phrase tokens [id M] <TensorType(int32, matrix)>\n       | |   |     |   | | | | | | |TensorConstant{(1, 1, 1) of 36070} [id HP] <TensorType(int32, (True, True, True))>\n       | |   |     |   | | | | | |ScalarFromTensor [id HI] <int64> ''   \n       | |   |     |   | | | | | |ScalarFromTensor [id HK] <int64> ''   \n       | |   |     |   | | | | | |Constant{1} [id HL] <int8>\n       | |   |     |   | | | | |GpuIncSubtensor{InplaceSet;:int64:} [id HQ] <CudaNdarrayType(float32, 3D)> ''   \n       | |   |     |   | | | | | |GpuAllocEmpty [id HR] <CudaNdarrayType(float32, 3D)> ''   \n       | |   |     |   | | | | | | |Elemwise{Composite{(Switch(LT(maximum(i0, i1), i2), (maximum(i0, i1) + i3), (maximum(i0, i1) - i2)) + i3)}} [id HS] <TensorType(int64, scalar)> ''   \n       | |   |     |   | | | | | | | |Elemwise{Composite{((i0 - Switch(LT(Composite{Switch(LT(i0, i1), i1, i0)}(Composite{Switch(LT(i0, i1), (i2 - i3), i0)}(Composite{((i0 - (Switch(LT(i1, i2), i2, i1) - i3)) - i3)}(i1, (i2 + i3), i4, i5), i4, i1, i5), i4), i6), Composite{Switch(LT(i0, i1), i1, i0)}(Composite{Switch(LT(i0, i1), (i2 - i3), i0)}(Composite{((i0 - (Switch(LT(i1, i2), i2, i1) - i3)) - i3)}(i1, (i2 + i3), i4, i5), i4, i1, i5), i4), i6)) + i3)}} [id HT] <TensorType(int64, scalar)> ''   \n       | |   |     |   | | | | | | | | |Elemwise{maximum,no_inplace} [id FF] <TensorType(int64, scalar)> ''   \n       | |   |     |   | | | | | | | | |Elemwise{add,no_inplace} [id FI] <TensorType(int64, scalar)> ''   \n       | |   |     |   | | | | | | | | |Elemwise{Composite{(((i0 - Switch(GE(Composite{Switch(LT(i0, i1), i2, i0)}(Composite{Switch(i0, (i1 + i2), i1)}(i1, i2, i3), i4, i5), i3), i3, Composite{Switch(LT(i0, i1), i2, i0)}(Composite{Switch(i0, (i1 + i2), i1)}(i1, i2, i3), i4, i5))) - i6) // i7)}} [id HU] <TensorType(int64, scalar)> ''   \n       | |   |     |   | | | | | | | | | |Elemwise{Composite{Switch(GE(Composite{Switch(LT(i0, i1), i2, i0)}(Composite{Switch(i0, (i1 + i2), i1)}(i0, i1, i2), i3, i4), i2), (i2 - i5), Composite{Switch(LT(i0, i1), i2, i0)}(Composite{Switch(i0, (i1 + i2), i1)}(i0, i1, i2), i3, i4))}} [id FJ] <TensorType(int64, scalar)> ''   \n       | |   |     |   | | | | | | | | | |Elemwise{lt,no_inplace} [id HV] <TensorType(bool, scalar)> ''   \n       | |   |     |   | | | | | | | | | | |Elemwise{Composite{Switch(i0, i1, Switch(i2, i3, i4))}} [id HW] <TensorType(int64, scalar)> ''   \n       | |   |     |   | | | | | | | | | | | |Elemwise{le,no_inplace} [id FM] <TensorType(bool, scalar)> ''   \n       | |   |     |   | | | | | | | | | | | |TensorConstant{0} [id BS] <TensorType(int8, scalar)>\n       | |   |     |   | | | | | | | | | | | |Elemwise{Composite{AND(LT(i0, i1), GT(i2, i1))}} [id HX] <TensorType(bool, scalar)> ''   \n       | |   |     |   | | | | | | | | | | | | |Elemwise{add,no_inplace} [id HY] <TensorType(int64, scalar)> ''   \n       | |   |     |   | | | | | | | | | | | | | |TensorConstant{-1} [id BU] <TensorType(int64, scalar)>\n       | |   |     |   | | | | | | | | | | | | | |Elemwise{Composite{Switch(LT(Composite{Switch(LT(i0, i1), i1, i0)}(Composite{Switch(LT(i0, i1), i2, i0)}(Composite{(i0 - Switch(LT(i1, i2), i2, i1))}(i0, Composite{(i0 - Switch(GE(i1, i2), i2, i1))}(i1, Composite{Switch(LT(i0, i1), i2, i0)}(Composite{Switch(LT(i0, i1), (i0 + i2), i0)}(Composite{Switch(i0, i1, Switch(AND(LT(i2, i1), GT(i3, i1)), i4, maximum((i5 + i6), i2)))}(i2, i3, (i4 - i5), i5, i6, i7, i8), i3, i9), i3, i10), i9), i3), i3, i1), i3), i11), Composite{Switch(LT(i0, i1), i1, i0)}(Composite{Switch(LT(i0, i1), i2, i0)}(Composite{(i0 - Switch(LT(i1, i2), i2, i1))}(i0, Composite{(i0 - Switch(GE(i1, i2), i2, i1))}(i1, Composite{Switch(LT(i0, i1), i2, i0)}(Composite{Switch(LT(i0, i1), (i0 + i2), i0)}(Composite{Switch(i0, i1, Switch(AND(LT(i2, i1), GT(i3, i1)), i4, maximum((i5 + i6), i2)))}(i2, i3, (i4 - i5), i5, i6, i7, i8), i3, i9), i3, i10), i9), i3), i3, i1), i3), i11)}} [id FW] <TensorType(int64, scalar)> ''   \n       | |   |     |   | | | | | | | | | | | | |TensorConstant{0} [id BS] <TensorType(int8, scalar)>\n       | |   |     |   | | | | | | | | | | | | |Elemwise{sub,no_inplace} [id FN] <TensorType(int64, scalar)> ''   \n       | |   |     |   | | | | | | | | | | | |Elemwise{sub,no_inplace} [id GD] <TensorType(int64, scalar)> ''   \n       | |   |     |   | | | | | | | | | | | |Elemwise{minimum,no_inplace} [id HZ] <TensorType(int64, scalar)> ''   \n       | |   |     |   | | | | | | | | | | |   |Elemwise{add,no_inplace} [id HY] <TensorType(int64, scalar)> ''   \n       | |   |     |   | | | | | | | | | | |   |Shape_i{1} [id Q] <TensorType(int64, scalar)> ''   \n       | |   |     |   | | | | | | | | | | |TensorConstant{0} [id BS] <TensorType(int8, scalar)>\n       | |   |     |   | | | | | | | | | |Elemwise{Composite{Switch(i0, i1, Switch(i2, i3, i4))}} [id HW] <TensorType(int64, scalar)> ''   \n       | |   |     |   | | | | | | | | | |Elemwise{add,no_inplace} [id FY] <TensorType(int64, scalar)> ''   \n       | |   |     |   | | | | | | | | | |TensorConstant{0} [id BS] <TensorType(int8, scalar)>\n       | |   |     |   | | | | | | | | | |TensorConstant{-1} [id CA] <TensorType(int8, scalar)>\n       | |   |     |   | | | | | | | | | |TensorConstant{1} [id CF] <TensorType(int8, scalar)>\n       | |   |     |   | | | | | | | | | |TensorConstant{1} [id BY] <TensorType(int64, scalar)>\n       | |   |     |   | | | | | | | | |TensorConstant{1} [id BY] <TensorType(int64, scalar)>\n       | |   |     |   | | | | | | | | |TensorConstant{0} [id BS] <TensorType(int8, scalar)>\n       | |   |     |   | | | | | | | | |TensorConstant{1} [id CF] <TensorType(int8, scalar)>\n       | |   |     |   | | | | | | | | |Elemwise{Composite{Switch(LT(i0, i1), i1, i0)}} [id FH] <TensorType(int64, scalar)> ''   \n       | |   |     |   | | | | | | | |TensorConstant{2} [id CJ] <TensorType(int64, scalar)>\n       | |   |     |   | | | | | | | |TensorConstant{1} [id CF] <TensorType(int8, scalar)>\n       | |   |     |   | | | | | | | |TensorConstant{1} [id BY] <TensorType(int64, scalar)>\n       | |   |     |   | | | | | | |Shape_i{0} [id P] <TensorType(int64, scalar)> ''   \n       | |   |     |   | | | | | | |Shape_i{1} [id IA] <TensorType(int64, scalar)> ''   \n       | |   |     |   | | | | | |   |encoder_lstm.cell_init [id IB] <CudaNdarrayType(float32, row)>\n       | |   |     |   | | | | | |Rebroadcast{0} [id IC] <CudaNdarrayType(float32, 3D)> ''   \n       | |   |     |   | | | | | | |GpuDimShuffle{x,0,1} [id ID] <CudaNdarrayType(float32, (True, False, False))> ''   \n       | |   |     |   | | | | | |   |GpuGer{inplace} [id IE] <CudaNdarrayType(float32, matrix)> ''   \n       | |   |     |   | | | | | |     |GpuAlloc{memset_0=True} [id IF] <CudaNdarrayType(float32, matrix)> ''   \n       | |   |     |   | | | | | |     | |CudaNdarrayConstant{0.0} [id IG] <CudaNdarrayType(float32, scalar)>\n       | |   |     |   | | | | | |     | |Shape_i{0} [id P] <TensorType(int64, scalar)> ''   \n       | |   |     |   | | | | | |     | |Shape_i{1} [id IA] <TensorType(int64, scalar)> ''   \n       | |   |     |   | | | | | |     |TensorConstant{1.0} [id IH] <TensorType(float32, scalar)>\n       | |   |     |   | | | | | |     |GpuDimShuffle{0} [id II] <CudaNdarrayType(float32, vector)> ''   \n       | |   |     |   | | | | | |     | |GpuAlloc [id IJ] <CudaNdarrayType(float32, col)> ''   \n       | |   |     |   | | | | | |     |   |CudaNdarrayConstant{1.0} [id IK] <CudaNdarrayType(float32, scalar)>\n       | |   |     |   | | | | | |     |   |Shape_i{0} [id P] <TensorType(int64, scalar)> ''   \n       | |   |     |   | | | | | |     |   |TensorConstant{1} [id CF] <TensorType(int8, scalar)>\n       | |   |     |   | | | | | |     |GpuDimShuffle{1} [id IL] <CudaNdarrayType(float32, vector)> ''   \n       | |   |     |   | | | | | |       |encoder_lstm.cell_init [id IB] <CudaNdarrayType(float32, row)>\n       | |   |     |   | | | | | |Constant{1} [id DK] <int64>\n       | |   |     |   | | | | |GpuIncSubtensor{InplaceSet;:int64:} [id IM] <CudaNdarrayType(float32, 3D)> ''   \n       | |   |     |   | | | | | |GpuAllocEmpty [id IN] <CudaNdarrayType(float32, 3D)> ''   \n       | |   |     |   | | | | | | |Elemwise{Composite{(Switch(LT(i0, i1), (i0 + i2), (i0 - i1)) + i2)}} [id IO] <TensorType(int64, scalar)> ''   \n       | |   |     |   | | | | | | | |Elemwise{Composite{maximum(maximum(((i0 - Switch(i1, (i2 + i3), i2)) + i4), i5), maximum(((i0 - Switch(LT(Composite{Switch(LT(i0, i1), i1, i0)}(Composite{Switch(LT(i0, i1), (i2 - i3), i0)}(Composite{((i0 - (Switch(LT(i1, i2), i2, i1) - i3)) - i3)}((Composite{Switch(GE(Composite{Switch(LT(i0, i1), i2, i0)}(Composite{Switch(i0, (i1 + i2), i1)}(i0, i1, i2), i3, i4), i2), i5, Composite{Switch(LT(i0, i1), i2, i0)}(Composite{Switch(i0, (i1 + i2), i1)}(i0, i1, i2), i3, i4))}(i6, i7, i3, i8, i9, i10) + i4), Composite{((((i0 - Switch(GE(i1, i2), i2, i1)) - i3) // i4) + i4)}(Composite{Switch(GE(Composite{Switch(LT(i0, i1), i2, i0)}(Composite{Switch(i0, (i1 + i2), i1)}(i0, i1, i2), i3, i4), i2), i5, Composite{Switch(LT(i0, i1), i2, i0)}(Composite{Switch(i0, (i1 + i2), i1)}(i0, i1, i2), i3, i4))}(i6, i7, i3, i8, i9, i10), Composite{Switch(LT(i0, i1), i2, i0)}(Composite{Switch(i0, (i1 + i2), i1)}(i11, i12, i3), i8, i9), i3, i13, i4), i8, i13), i8, (Composite{Switch(GE(Composite{Switch(LT(i0, i1), i2, i0)}(Composite{Switch(i0, (i1 + i2), i1)}(i0, i1, i2), i3, i4), i2), i5, Composite{Switch(LT(i0, i1), i2, i0)}(Composite{Switch(i0, (i1 + i2), i1)}(i0, i1, i2), i3, i4))}(i6, i7, i3, i8, i9, i10) + i4), i13), i8), Composite{Switch(LT(i0, i1), i1, i0)}((Composite{Switch(GE(Composite{Switch(LT(i0, i1), i2, i0)}(Composite{Switch(i0, (i1 + i2), i1)}(i0, i1, i2), i3, i4), i2), i5, Composite{Switch(LT(i0, i1), i2, i0)}(Composite{Switch(i0, (i1 + i2), i1)}(i0, i1, i2), i3, i4))}(i6, i7, i3, i8, i9, i10) + i4), i8)), Composite{Switch(LT(i0, i1), i1, i0)}(Composite{Switch(LT(i0, i1), (i2 - i3), i0)}(Composite{((i0 - (Switch(LT(i1, i2), i2, i1) - i3)) - i3)}((Composite{Switch(GE(Composite{Switch(LT(i0, i1), i2, i0)}(Composite{Switch(i0, (i1 + i2), i1)}(i0, i1, i2), i3, i4), i2), i5, Composite{Switch(LT(i0, i1), i2, i0)}(Composite{Switch(i0, (i1 + i2), i1)}(i0, i1, i2), i3, i4))}(i6, i7, i3, i8, i9, i10) + i4), Composite{((((i0 - Switch(GE(i1, i2), i2, i1)) - i3) // i4) + i4)}(Composite{Switch(GE(Composite{Switch(LT(i0, i1), i2, i0)}(Composite{Switch(i0, (i1 + i2), i1)}(i0, i1, i2), i3, i4), i2), i5, Composite{Switch(LT(i0, i1), i2, i0)}(Composite{Switch(i0, (i1 + i2), i1)}(i0, i1, i2), i3, i4))}(i6, i7, i3, i8, i9, i10), Composite{Switch(LT(i0, i1), i2, i0)}(Composite{Switch(i0, (i1 + i2), i1)}(i11, i12, i3), i8, i9), i3, i13, i4), i8, i13), i8, (Composite{Switch(GE(Composite{Switch(LT(i0, i1), i2, i0)}(Composite{Switch(i0, (i1 + i2), i1)}(i0, i1, i2), i3, i4), i2), i5, Composite{Switch(LT(i0, i1), i2, i0)}(Composite{Switch(i0, (i1 + i2), i1)}(i0, i1, i2), i3, i4))}(i6, i7, i3, i8, i9, i10) + i4), i13), i8), Composite{Switch(LT(i0, i1), i1, i0)}((Composite{Switch(GE(Composite{Switch(LT(i0, i1), i2, i0)}(Composite{Switch(i0, (i1 + i2), i1)}(i0, i1, i2), i3, i4), i2), i5, Composite{Switch(LT(i0, i1), i2, i0)}(Composite{Switch(i0, (i1 + i2), i1)}(i0, i1, i2), i3, i4))}(i6, i7, i3, i8, i9, i10) + i4), i8))) + i4), i5))}} [id IP] <TensorType(int64, scalar)> ''   \n       | |   |     |   | | | | | | | | |Elemwise{maximum,no_inplace} [id FF] <TensorType(int64, scalar)> ''   \n       | |   |     |   | | | | | | | | |Elemwise{lt,no_inplace} [id GA] <TensorType(bool, scalar)> ''   \n       | |   |     |   | | | | | | | | |Elemwise{Composite{Switch(LT((i0 - i1), i2), i3, Switch(GE((i0 - i1), i4), (i5 + i0), Switch(LE(i4, i2), (i5 + i0), i0)))}} [id GB] <TensorType(int64, scalar)> ''   \n       | |   |     |   | | | | | | | | |Elemwise{add,no_inplace} [id IQ] <TensorType(int64, scalar)> ''   \n       | |   |     |   | | | | | | | | | |Shape_i{1} [id Q] <TensorType(int64, scalar)> ''   \n       | |   |     |   | | | | | | | | | |TensorConstant{1} [id BY] <TensorType(int64, scalar)>\n       | |   |     |   | | | | | | | | |TensorConstant{1} [id BY] <TensorType(int64, scalar)>\n       | |   |     |   | | | | | | | | |TensorConstant{2} [id CJ] <TensorType(int64, scalar)>\n       | |   |     |   | | | | | | | | |Elemwise{lt,no_inplace} [id FK] <TensorType(bool, scalar)> ''   \n       | |   |     |   | | | | | | | | |Elemwise{Composite{Switch(i0, i1, maximum(minimum((i2 + i3), i4), i5))}} [id FL] <TensorType(int64, scalar)> ''   \n       | |   |     |   | | | | | | | | |TensorConstant{0} [id BS] <TensorType(int8, scalar)>\n       | |   |     |   | | | | | | | | |TensorConstant{-1} [id CA] <TensorType(int8, scalar)>\n       | |   |     |   | | | | | | | | |Elemwise{sub,no_inplace} [id IR] <TensorType(int64, scalar)> ''   \n       | |   |     |   | | | | | | | | | |Elemwise{add,no_inplace} [id IQ] <TensorType(int64, scalar)> ''   \n       | |   |     |   | | | | | | | | | |TensorConstant{1} [id CF] <TensorType(int8, scalar)>\n       | |   |     |   | | | | | | | | |Elemwise{lt,no_inplace} [id HV] <TensorType(bool, scalar)> ''   \n       | |   |     |   | | | | | | | | |Elemwise{Composite{Switch(i0, i1, Switch(i2, i3, i4))}} [id HW] <TensorType(int64, scalar)> ''   \n       | |   |     |   | | | | | | | | |TensorConstant{1} [id CF] <TensorType(int8, scalar)>\n       | |   |     |   | | | | | | | |TensorConstant{1} [id CF] <TensorType(int8, scalar)>\n       | |   |     |   | | | | | | | |TensorConstant{1} [id BY] <TensorType(int64, scalar)>\n       | |   |     |   | | | | | | |Shape_i{0} [id P] <TensorType(int64, scalar)> ''   \n       | |   |     |   | | | | | | |Shape_i{1} [id IS] <TensorType(int64, scalar)> ''   \n       | |   |     |   | | | | | |   |encoder_lstm.hid_init [id IT] <CudaNdarrayType(float32, row)>\n       | |   |     |   | | | | | |Rebroadcast{0} [id IU] <CudaNdarrayType(float32, 3D)> ''   \n       | |   |     |   | | | | | | |GpuDimShuffle{x,0,1} [id IV] <CudaNdarrayType(float32, (True, False, False))> ''   \n       | |   |     |   | | | | | |   |GpuGer{inplace} [id IW] <CudaNdarrayType(float32, matrix)> ''   \n       | |   |     |   | | | | | |     |GpuAlloc{memset_0=True} [id IX] <CudaNdarrayType(float32, matrix)> ''   \n       | |   |     |   | | | | | |     | |CudaNdarrayConstant{0.0} [id IG] <CudaNdarrayType(float32, scalar)>\n       | |   |     |   | | | | | |     | |Shape_i{0} [id P] <TensorType(int64, scalar)> ''   \n       | |   |     |   | | | | | |     | |Shape_i{1} [id IS] <TensorType(int64, scalar)> ''   \n       | |   |     |   | | | | | |     |TensorConstant{1.0} [id IH] <TensorType(float32, scalar)>\n       | |   |     |   | | | | | |     |GpuDimShuffle{0} [id II] <CudaNdarrayType(float32, vector)> ''   \n       | |   |     |   | | | | | |     |GpuDimShuffle{1} [id IY] <CudaNdarrayType(float32, vector)> ''   \n       | |   |     |   | | | | | |       |encoder_lstm.hid_init [id IT] <CudaNdarrayType(float32, row)>\n       | |   |     |   | | | | | |Constant{1} [id DK] <int64>\n       | |   |     |   | | | | |GpuJoin [id IZ] <CudaNdarrayType(float32, matrix)> ''   \n       | |   |     |   | | | |   |TensorConstant{1} [id CF] <TensorType(int8, scalar)>\n       | |   |     |   | | | |   |encoder_lstm.W_hid_to_ingate [id JA] <CudaNdarrayType(float32, matrix)>\n       | |   |     |   | | | |   |encoder_lstm.W_hid_to_forgetgate [id JB] <CudaNdarrayType(float32, matrix)>\n       | |   |     |   | | | |   |encoder_lstm.W_hid_to_cell [id JC] <CudaNdarrayType(float32, matrix)>\n       | |   |     |   | | | |   |encoder_lstm.W_hid_to_outgate [id JD] <CudaNdarrayType(float32, matrix)>\n       | |   |     |   | | | |ScalarFromTensor [id JE] <int64> ''   \n       | |   |     |   | | |   |Elemwise{Composite{(((i0 - i1) - i2) + i3)}} [id JF] <TensorType(int64, scalar)> ''   \n       | |   |     |   | | |     |Elemwise{Composite{Switch(i0, (i1 + i2), i1)}} [id FZ] <TensorType(int64, scalar)> ''   \n       | |   |     |   | | |     |Elemwise{maximum,no_inplace} [id JG] <TensorType(int64, scalar)> ''   \n       | |   |     |   | | |     | |Elemwise{Composite{minimum(maximum(maximum((i0 - i1), (i0 - i1)), ((i2 + i3) - i1)), i4)}} [id FG] <TensorType(int64, scalar)> ''   \n       | |   |     |   | | |     | |TensorConstant{1} [id CF] <TensorType(int8, scalar)>\n       | |   |     |   | | |     |TensorConstant{1} [id CF] <TensorType(int8, scalar)>\n       | |   |     |   | | |     |Elemwise{Composite{maximum(maximum(((i0 - Switch(i1, (i2 + i3), i2)) + i4), i5), maximum(((i0 - Switch(LT(Composite{Switch(LT(i0, i1), i1, i0)}(Composite{Switch(LT(i0, i1), (i2 - i3), i0)}(Composite{((i0 - (Switch(LT(i1, i2), i2, i1) - i3)) - i3)}((Composite{Switch(GE(Composite{Switch(LT(i0, i1), i2, i0)}(Composite{Switch(i0, (i1 + i2), i1)}(i0, i1, i2), i3, i4), i2), i5, Composite{Switch(LT(i0, i1), i2, i0)}(Composite{Switch(i0, (i1 + i2), i1)}(i0, i1, i2), i3, i4))}(i6, i7, i3, i8, i9, i10) + i4), Composite{((((i0 - Switch(GE(i1, i2), i2, i1)) - i3) // i4) + i4)}(Composite{Switch(GE(Composite{Switch(LT(i0, i1), i2, i0)}(Composite{Switch(i0, (i1 + i2), i1)}(i0, i1, i2), i3, i4), i2), i5, Composite{Switch(LT(i0, i1), i2, i0)}(Composite{Switch(i0, (i1 + i2), i1)}(i0, i1, i2), i3, i4))}(i6, i7, i3, i8, i9, i10), Composite{Switch(LT(i0, i1), i2, i0)}(Composite{Switch(i0, (i1 + i2), i1)}(i11, i12, i3), i8, i9), i3, i13, i4), i8, i13), i8, (Composite{Switch(GE(Composite{Switch(LT(i0, i1), i2, i0)}(Composite{Switch(i0, (i1 + i2), i1)}(i0, i1, i2), i3, i4), i2), i5, Composite{Switch(LT(i0, i1), i2, i0)}(Composite{Switch(i0, (i1 + i2), i1)}(i0, i1, i2), i3, i4))}(i6, i7, i3, i8, i9, i10) + i4), i13), i8), Composite{Switch(LT(i0, i1), i1, i0)}((Composite{Switch(GE(Composite{Switch(LT(i0, i1), i2, i0)}(Composite{Switch(i0, (i1 + i2), i1)}(i0, i1, i2), i3, i4), i2), i5, Composite{Switch(LT(i0, i1), i2, i0)}(Composite{Switch(i0, (i1 + i2), i1)}(i0, i1, i2), i3, i4))}(i6, i7, i3, i8, i9, i10) + i4), i8)), Composite{Switch(LT(i0, i1), i1, i0)}(Composite{Switch(LT(i0, i1), (i2 - i3), i0)}(Composite{((i0 - (Switch(LT(i1, i2), i2, i1) - i3)) - i3)}((Composite{Switch(GE(Composite{Switch(LT(i0, i1), i2, i0)}(Composite{Switch(i0, (i1 + i2), i1)}(i0, i1, i2), i3, i4), i2), i5, Composite{Switch(LT(i0, i1), i2, i0)}(Composite{Switch(i0, (i1 + i2), i1)}(i0, i1, i2), i3, i4))}(i6, i7, i3, i8, i9, i10) + i4), Composite{((((i0 - Switch(GE(i1, i2), i2, i1)) - i3) // i4) + i4)}(Composite{Switch(GE(Composite{Switch(LT(i0, i1), i2, i0)}(Composite{Switch(i0, (i1 + i2), i1)}(i0, i1, i2), i3, i4), i2), i5, Composite{Switch(LT(i0, i1), i2, i0)}(Composite{Switch(i0, (i1 + i2), i1)}(i0, i1, i2), i3, i4))}(i6, i7, i3, i8, i9, i10), Composite{Switch(LT(i0, i1), i2, i0)}(Composite{Switch(i0, (i1 + i2), i1)}(i11, i12, i3), i8, i9), i3, i13, i4), i8, i13), i8, (Composite{Switch(GE(Composite{Switch(LT(i0, i1), i2, i0)}(Composite{Switch(i0, (i1 + i2), i1)}(i0, i1, i2), i3, i4), i2), i5, Composite{Switch(LT(i0, i1), i2, i0)}(Composite{Switch(i0, (i1 + i2), i1)}(i0, i1, i2), i3, i4))}(i6, i7, i3, i8, i9, i10) + i4), i13), i8), Composite{Switch(LT(i0, i1), i1, i0)}((Composite{Switch(GE(Composite{Switch(LT(i0, i1), i2, i0)}(Composite{Switch(i0, (i1 + i2), i1)}(i0, i1, i2), i3, i4), i2), i5, Composite{Switch(LT(i0, i1), i2, i0)}(Composite{Switch(i0, (i1 + i2), i1)}(i0, i1, i2), i3, i4))}(i6, i7, i3, i8, i9, i10) + i4), i8))) + i4), i5))}} [id IP] <TensorType(int64, scalar)> ''   \n       | |   |     |   | | |GpuJoin [id JH] <CudaNdarrayType(float32, matrix)> ''   \n       | |   |     |   | |   |TensorConstant{1} [id CF] <TensorType(int8, scalar)>\n       | |   |     |   | |   |decoder_lstm.W_encoder_to_ingate [id JI] <CudaNdarrayType(float32, matrix)>\n       | |   |     |   | |   |decoder_lstm.W_encoder_to_forgetgate [id JJ] <CudaNdarrayType(float32, matrix)>\n       | |   |     |   | |   |decoder_lstm.W_encoder_to_cell [id JK] <CudaNdarrayType(float32, matrix)>\n       | |   |     |   | |   |decoder_lstm.W_encoder_to_outgate [id JL] <CudaNdarrayType(float32, matrix)>\n       | |   |     |   | |GpuJoin [id JM] <CudaNdarrayType(float32, matrix)> ''   \n       | |   |     |   | | |TensorConstant{1} [id CF] <TensorType(int8, scalar)>\n       | |   |     |   | | |decoder_lstm.W_emb_to_ingate [id JN] <CudaNdarrayType(float32, matrix)>\n       | |   |     |   | | |decoder_lstm.W_emb_to_forgetgate [id JO] <CudaNdarrayType(float32, matrix)>\n       | |   |     |   | | |decoder_lstm.W_emb_to_cell [id JP] <CudaNdarrayType(float32, matrix)>\n       | |   |     |   | | |decoder_lstm.W_emb_to_outgate [id JQ] <CudaNdarrayType(float32, matrix)>\n       | |   |     |   | |GpuJoin [id JR] <CudaNdarrayType(float32, matrix)> ''   \n       | |   |     |   | | |TensorConstant{1} [id CF] <TensorType(int8, scalar)>\n       | |   |     |   | | |decoder_lstm.W_out_to_ingate [id JS] <CudaNdarrayType(float32, matrix)>\n       | |   |     |   | | |decoder_lstm.W_out_to_forgetgate [id JT] <CudaNdarrayType(float32, matrix)>\n       | |   |     |   | | |decoder_lstm.W_out_to_cell [id JU] <CudaNdarrayType(float32, matrix)>\n       | |   |     |   | | |decoder_lstm.W_out_to_outgate [id JV] <CudaNdarrayType(float32, matrix)>\n       | |   |     |   | |GpuDimShuffle{x,0} [id JW] <CudaNdarrayType(float32, row)> ''   \n       | |   |     |   | | |GpuJoin [id JX] <CudaNdarrayType(float32, vector)> ''   \n       | |   |     |   | |   |TensorConstant{0} [id BS] <TensorType(int8, scalar)>\n       | |   |     |   | |   |decoder_lstm.b_to_ingate [id JY] <CudaNdarrayType(float32, vector)>\n       | |   |     |   | |   |decoder_lstm.b_to_forgetgate [id JZ] <CudaNdarrayType(float32, vector)>\n       | |   |     |   | |   |decoder_lstm.b_to_cell [id KA] <CudaNdarrayType(float32, vector)>\n       | |   |     |   | |   |decoder_lstm.b_to_outgate [id KB] <CudaNdarrayType(float32, vector)>\n       | |   |     |   | |GpuDimShuffle{x,x} [id KC] <CudaNdarrayType(float32, (True, True))> ''   \n       | |   |     |   | | |GpuFromHost [id KD] <CudaNdarrayType(float32, scalar)> ''   \n       | |   |     |   | |   |<TensorType(float32, scalar)> [id KE] <TensorType(float32, scalar)>\n       | |   |     |   | |GpuDimShuffle{x,0} [id KF] <CudaNdarrayType(float32, row)> ''   \n       | |   |     |   | | |decoder next word probas.b [id KG] <CudaNdarrayType(float32, vector)>\n       | |   |     |   | |GpuDimShuffle{x,0} [id KH] <CudaNdarrayType(float32, row)> ''   \n       | |   |     |   |   |decoder intermediate.b [id KI] <CudaNdarrayType(float32, vector)>\n       | |   |     |   |ScalarFromTensor [id KJ] <int64> ''   \n       | |   |     |   | |Elemwise{Composite{(((i0 - i1) - i2) + i3)}} [id KK] <TensorType(int64, scalar)> ''   \n       | |   |     |   |   |Elemwise{Composite{Switch(LT(i0, i1), i0, i1)}} [id KL] <TensorType(int64, scalar)> ''   \n       | |   |     |   |   | |TensorConstant{1} [id BY] <TensorType(int64, scalar)>\n       | |   |     |   |   | |Elemwise{add,no_inplace} [id BX] <TensorType(int64, scalar)> ''   \n       | |   |     |   |   |<TensorType(int32, scalar)> [id BF] <TensorType(int32, scalar)>\n       | |   |     |   |   |TensorConstant{1} [id CF] <TensorType(int8, scalar)>\n       | |   |     |   |   |Elemwise{maximum,no_inplace} [id KM] <TensorType(int64, scalar)> ''   \n       | |   |     |   |     |Elemwise{Composite{((i0 - Switch(LT(i1, i2), i1, i2)) + i1)}} [id DZ] <TensorType(int64, scalar)> ''   \n       | |   |     |   |     |TensorConstant{2} [id KN] <TensorType(int8, scalar)>\n       | |   |     |   |ScalarFromTensor [id KO] <int64> ''   \n       | |   |     |   | |Elemwise{Composite{(((i0 - i1) - i2) + i3)}} [id KP] <TensorType(int64, scalar)> ''   \n       | |   |     |   |   |Elemwise{add,no_inplace} [id BX] <TensorType(int64, scalar)> ''   \n       | |   |     |   |   |<TensorType(int32, scalar)> [id BF] <TensorType(int32, scalar)>\n       | |   |     |   |   |TensorConstant{1} [id CF] <TensorType(int8, scalar)>\n       | |   |     |   |   |Elemwise{maximum,no_inplace} [id KM] <TensorType(int64, scalar)> ''   \n       | |   |     |   |Constant{1} [id HL] <int8>\n       | |   |     |TensorConstant{(1,) of -1} [id N] <TensorType(int64, (True,))>\n       | |   |MakeVector{dtype='int64'} [id KQ] <TensorType(int64, vector)> ''   \n       | |     |Shape_i{0} [id P] <TensorType(int64, scalar)> ''   \n       | |     |Elemwise{sub,no_inplace} [id KR] <TensorType(int64, scalar)> ''   \n       | |     | |Elemwise{add,no_inplace} [id BX] <TensorType(int64, scalar)> ''   \n       | |     | |Elemwise{Composite{Switch(LT(i0, i1), i0, i1)}} [id KL] <TensorType(int64, scalar)> ''   \n       | |     |Shape_i{1} [id KS] <TensorType(int64, scalar)> ''   \n       | |       |W [id Z] <CudaNdarrayType(float32, matrix)>\n       | |Shape_i{0} [id P] <TensorType(int64, scalar)> ''   \n       | |Elemwise{sub,no_inplace} [id KR] <TensorType(int64, scalar)> ''   \n       | |TensorConstant{20} [id S] <TensorType(int8, scalar)>\n       | |Shape_i{1} [id KS] <TensorType(int64, scalar)> ''   \n       |TensorConstant{[ -1  20  20 512]} [id T] <TensorType(int64, vector)>\n\nInner graphs of the scan ops:\n\nforall_inplace,gpu,scan_fn&scan_fn}.3 [id BE] <TensorType(int32, matrix)> ''   \n >GpuElemwise{Composite{((tanh(i0) * scalar_sigmoid(i1)) + (i2 * scalar_sigmoid(i3)))},no_inplace} [id KT] <CudaNdarrayType(float32, matrix)> ''   \n > |GpuSubtensor{::, int64:int64:} [id KU] <CudaNdarrayType(float32, matrix)> ''   \n > | |GpuElemwise{Add}[(0, 3)] [id KV] <CudaNdarrayType(float32, matrix)> ''   \n > | | |<CudaNdarrayType(float32, row)> [id KW] <CudaNdarrayType(float32, row)> -> [id JW]\n > | | |<CudaNdarrayType(float32, matrix)> [id KX] <CudaNdarrayType(float32, matrix)> -> [id FC]\n > | | |<CudaNdarrayType(float32, matrix)> [id KY] <CudaNdarrayType(float32, matrix)> -> [id ES]\n > | | |GpuGemm{inplace} [id KZ] <CudaNdarrayType(float32, matrix)> ''   \n > | |   |GpuDot22 [id LA] <CudaNdarrayType(float32, matrix)> ''   \n > | |   | |<CudaNdarrayType(float32, matrix)> [id LB] <CudaNdarrayType(float32, matrix)> -> [id DL]\n > | |   | |<CudaNdarrayType(float32, matrix)> [id LC] <CudaNdarrayType(float32, matrix)> -> [id JR]\n > | |   |TensorConstant{1.0} [id LD] <TensorType(float32, scalar)>\n > | |   |GpuAdvancedSubtensor1 [id LE] <CudaNdarrayType(float32, matrix)> ''   \n > | |   | |context embedding.W_copy0[cuda] [id LF] <CudaNdarrayType(float32, matrix)> -> [id EP]\n > | |   | |Elemwise{Cast{int64}} [id LG] <TensorType(int64, vector)> ''   \n > | |   |   |<TensorType(int32, vector)> [id LH] <TensorType(int32, vector)> -> [id DR]\n > | |   |<CudaNdarrayType(float32, matrix)> [id LI] <CudaNdarrayType(float32, matrix)> -> [id JM]\n > | |   |TensorConstant{1.0} [id LD] <TensorType(float32, scalar)>\n > | |Constant{2048} [id LJ] <int64>\n > | |Constant{3072} [id LK] <int64>\n > |GpuSubtensor{::, int64:int64:} [id LL] <CudaNdarrayType(float32, matrix)> ''   \n > | |GpuElemwise{Add}[(0, 3)] [id KV] <CudaNdarrayType(float32, matrix)> ''   \n > | |Constant{0} [id LM] <int64>\n > | |Constant{1024} [id LN] <int64>\n > |<CudaNdarrayType(float32, matrix)> [id LO] <CudaNdarrayType(float32, matrix)> -> [id BG]\n > |GpuSubtensor{::, int64:int64:} [id LP] <CudaNdarrayType(float32, matrix)> ''   \n >   |GpuElemwise{Add}[(0, 3)] [id KV] <CudaNdarrayType(float32, matrix)> ''   \n >   |Constant{1024} [id LN] <int64>\n >   |Constant{2048} [id LJ] <int64>\n >GpuElemwise{Composite{tanh((scalar_sigmoid(i0) * i1))},no_inplace} [id LQ] <CudaNdarrayType(float32, matrix)> ''   \n > |GpuSubtensor{::, int64:int64:} [id LR] <CudaNdarrayType(float32, matrix)> ''   \n > | |GpuElemwise{Add}[(0, 3)] [id KV] <CudaNdarrayType(float32, matrix)> ''   \n > | |Constant{3072} [id LK] <int64>\n > | |Constant{4096} [id LS] <int64>\n > |GpuElemwise{Composite{((tanh(i0) * scalar_sigmoid(i1)) + (i2 * scalar_sigmoid(i3)))},no_inplace} [id KT] <CudaNdarrayType(float32, matrix)> ''   \n >ViewOp [id LT] <TensorType(int32, vector)> ''   \n > |Sum{axis=[1], acc_dtype=int64} [id LU] <TensorType(int32, vector)> ''   \n >   |Elemwise{gt,no_inplace} [id LV] <TensorType(bool, matrix)> ''   \n >     |RandomFunction{uniform}.1 [id LW] <TensorType(float32, col)> ''   \n >     | |<RandomStateType> [id LX] <RandomStateType> -> [id EO]\n >     | |MakeVector{dtype='int64'} [id LY] <TensorType(int64, vector)> ''   \n >     | | |Shape_i{0} [id LZ] <TensorType(int64, scalar)> ''   \n >     | | | |<CudaNdarrayType(float32, matrix)> [id LB] <CudaNdarrayType(float32, matrix)> -> [id DL]\n >     | | |TensorConstant{1} [id MA] <TensorType(int64, scalar)>\n >     | |TensorConstant{0.0} [id MB] <TensorType(float32, scalar)>\n >     | |TensorConstant{1.0} [id LD] <TensorType(float32, scalar)>\n >     |HostFromGpu [id MC] <TensorType(float32, matrix)> ''   \n >       |GpuSubtensor{::, :int64:} [id MD] <CudaNdarrayType(float32, matrix)> ''   \n >         |GpuCumsum{1} [id ME] <CudaNdarrayType(float32, matrix)> ''   \n >         | |GpuDimShuffle{0,1} [id MF] <CudaNdarrayType(float32, matrix)> ''   \n >         |   |GpuDnnSoftmax{tensor_format='bc01', mode='channel', algo='accurate'} [id MG] <CudaNdarrayType(float32, (False, False, True, True))> ''   \n >         |     |GpuContiguous [id MH] <CudaNdarrayType(float32, (False, False, True, True))> ''   \n >         |       |GpuDimShuffle{0,1,x,x} [id MI] <CudaNdarrayType(float32, (False, False, True, True))> ''   \n >         |         |GpuElemwise{Composite{((i0 + i1) / i2)}}[(0, 0)] [id MJ] <CudaNdarrayType(float32, matrix)> ''   \n >         |           |GpuDot22 [id MK] <CudaNdarrayType(float32, matrix)> ''   \n >         |           | |GpuElemwise{Composite{tanh((i0 + i1))}}[(0, 0)] [id ML] <CudaNdarrayType(float32, matrix)> ''   \n >         |           | | |GpuDot22 [id MM] <CudaNdarrayType(float32, matrix)> ''   \n >         |           | | | |GpuElemwise{Composite{tanh((scalar_sigmoid(i0) * i1))},no_inplace} [id LQ] <CudaNdarrayType(float32, matrix)> ''   \n >         |           | | | |decoder intermediate.W_copy0[cuda] [id MN] <CudaNdarrayType(float32, matrix)> -> [id EQ]\n >         |           | | |<CudaNdarrayType(float32, row)> [id MO] <CudaNdarrayType(float32, row)> -> [id KH]\n >         |           | |decoder next word probas.W_copy0[cuda] [id MP] <CudaNdarrayType(float32, matrix)> -> [id ER]\n >         |           |<CudaNdarrayType(float32, row)> [id MQ] <CudaNdarrayType(float32, row)> -> [id KF]\n >         |           |<CudaNdarrayType(float32, (True, True))> [id MR] <CudaNdarrayType(float32, (True, True))> -> [id KC]\n >         |Constant{-1} [id MS] <int64>\n >Sum{axis=[1], acc_dtype=int64} [id LU] <TensorType(int32, vector)> ''   \n >GpuDimShuffle{0,1} [id MF] <CudaNdarrayType(float32, matrix)> ''   \n >GpuElemwise{Composite{((tanh(i0) * scalar_sigmoid(i1)) + (i2 * scalar_sigmoid(i3)))},no_inplace} [id MT] <CudaNdarrayType(float32, matrix)> ''   \n > |GpuSubtensor{::, int64:int64:} [id MU] <CudaNdarrayType(float32, matrix)> ''   \n > | |GpuElemwise{Add}[(0, 3)] [id MV] <CudaNdarrayType(float32, matrix)> ''   \n > | | |<CudaNdarrayType(float32, row)> [id KW] <CudaNdarrayType(float32, row)> -> [id JW]\n > | | |<CudaNdarrayType(float32, matrix)> [id KX] <CudaNdarrayType(float32, matrix)> -> [id FC]\n > | | |<CudaNdarrayType(float32, matrix)> [id KY] <CudaNdarrayType(float32, matrix)> -> [id ES]\n > | | |GpuGemm{inplace} [id MW] <CudaNdarrayType(float32, matrix)> ''   \n > | |   |GpuDot22 [id MX] <CudaNdarrayType(float32, matrix)> ''   \n > | |   | |<CudaNdarrayType(float32, matrix)> [id MY] <CudaNdarrayType(float32, matrix)> -> [id EK]\n > | |   | |<CudaNdarrayType(float32, matrix)> [id LC] <CudaNdarrayType(float32, matrix)> -> [id JR]\n > | |   |TensorConstant{1.0} [id LD] <TensorType(float32, scalar)>\n > | |   |GpuAdvancedSubtensor1 [id MZ] <CudaNdarrayType(float32, matrix)> ''   \n > | |   | |context embedding.W_copy0[cuda] [id LF] <CudaNdarrayType(float32, matrix)> -> [id EP]\n > | |   | |Elemwise{Cast{int64}} [id NA] <TensorType(int64, vector)> ''   \n > | |   |   |<TensorType(int32, vector)> [id NB] <TensorType(int32, vector)> -> [id EL]\n > | |   |<CudaNdarrayType(float32, matrix)> [id LI] <CudaNdarrayType(float32, matrix)> -> [id JM]\n > | |   |TensorConstant{1.0} [id LD] <TensorType(float32, scalar)>\n > | |Constant{2048} [id LJ] <int64>\n > | |Constant{3072} [id LK] <int64>\n > |GpuSubtensor{::, int64:int64:} [id NC] <CudaNdarrayType(float32, matrix)> ''   \n > | |GpuElemwise{Add}[(0, 3)] [id MV] <CudaNdarrayType(float32, matrix)> ''   \n > | |Constant{0} [id LM] <int64>\n > | |Constant{1024} [id LN] <int64>\n > |<CudaNdarrayType(float32, matrix)> [id ND] <CudaNdarrayType(float32, matrix)> -> [id EH]\n > |GpuSubtensor{::, int64:int64:} [id NE] <CudaNdarrayType(float32, matrix)> ''   \n >   |GpuElemwise{Add}[(0, 3)] [id MV] <CudaNdarrayType(float32, matrix)> ''   \n >   |Constant{1024} [id LN] <int64>\n >   |Constant{2048} [id LJ] <int64>\n >GpuElemwise{Composite{tanh((scalar_sigmoid(i0) * i1))},no_inplace} [id NF] <CudaNdarrayType(float32, matrix)> ''   \n > |GpuSubtensor{::, int64:int64:} [id NG] <CudaNdarrayType(float32, matrix)> ''   \n > | |GpuElemwise{Add}[(0, 3)] [id MV] <CudaNdarrayType(float32, matrix)> ''   \n > | |Constant{3072} [id LK] <int64>\n > | |Constant{4096} [id LS] <int64>\n > |GpuElemwise{Composite{((tanh(i0) * scalar_sigmoid(i1)) + (i2 * scalar_sigmoid(i3)))},no_inplace} [id MT] <CudaNdarrayType(float32, matrix)> ''   \n >ViewOp [id NH] <TensorType(int32, vector)> ''   \n > |Elemwise{Cast{int32}} [id NI] <TensorType(int32, vector)> ''   \n >   |Argmax [id NJ] <TensorType(int64, vector)> 'argmax'   \n >Elemwise{Cast{int32}} [id NI] <TensorType(int32, vector)> ''   \n >RandomFunction{uniform}.0 [id LW] <RandomStateType> ''   \n\nforall_inplace,gpu,scan_fn}.1 [id FE] <CudaNdarrayType(float32, 3D)> ''   \n >GpuElemwise{Switch,no_inplace} [id NK] <CudaNdarrayType(float32, matrix)> ''   \n > |GpuFromHost [id NL] <CudaNdarrayType(float32, col)> ''   \n > | |Elemwise{Cast{float32}} [id NM] <TensorType(float32, col)> ''   \n > |   |<TensorType(bool, col)> [id NN] <TensorType(bool, col)> -> [id HM]\n > |GpuElemwise{Composite{((scalar_sigmoid(i0) * i1) + (scalar_sigmoid(i2) * tanh(i3)))},no_inplace} [id NO] <CudaNdarrayType(float32, matrix)> ''   \n > | |GpuSubtensor{::, int64:int64:} [id NP] <CudaNdarrayType(float32, matrix)> ''   \n > | | |GpuGemm{no_inplace} [id NQ] <CudaNdarrayType(float32, matrix)> ''   \n > | | | |<CudaNdarrayType(float32, matrix)> [id NR] <CudaNdarrayType(float32, matrix)> -> [id GF]\n > | | | |TensorConstant{1.0} [id NS] <TensorType(float32, scalar)>\n > | | | |<CudaNdarrayType(float32, matrix)> [id NT] <CudaNdarrayType(float32, matrix)> -> [id IM]\n > | | | |<CudaNdarrayType(float32, matrix)> [id NU] <CudaNdarrayType(float32, matrix)> -> [id IZ]\n > | | | |TensorConstant{1.0} [id NS] <TensorType(float32, scalar)>\n > | | |Constant{1024} [id NV] <int64>\n > | | |Constant{2048} [id NW] <int64>\n > | |<CudaNdarrayType(float32, matrix)> [id NX] <CudaNdarrayType(float32, matrix)> -> [id HQ]\n > | |GpuSubtensor{::, int64:int64:} [id NY] <CudaNdarrayType(float32, matrix)> ''   \n > | | |GpuGemm{no_inplace} [id NQ] <CudaNdarrayType(float32, matrix)> ''   \n > | | |Constant{0} [id NZ] <int64>\n > | | |Constant{1024} [id NV] <int64>\n > | |GpuSubtensor{::, int64:int64:} [id OA] <CudaNdarrayType(float32, matrix)> ''   \n > |   |GpuGemm{no_inplace} [id NQ] <CudaNdarrayType(float32, matrix)> ''   \n > |   |Constant{2048} [id NW] <int64>\n > |   |Constant{3072} [id OB] <int64>\n > |<CudaNdarrayType(float32, matrix)> [id NX] <CudaNdarrayType(float32, matrix)> -> [id HQ]\n >GpuElemwise{Composite{Switch(i0, tanh((i1 * scalar_sigmoid(i2))), i3)},no_inplace} [id OC] <CudaNdarrayType(float32, matrix)> ''   \n > |GpuFromHost [id NL] <CudaNdarrayType(float32, col)> ''   \n > |GpuElemwise{Composite{((scalar_sigmoid(i0) * i1) + (scalar_sigmoid(i2) * tanh(i3)))},no_inplace} [id NO] <CudaNdarrayType(float32, matrix)> ''   \n > |GpuSubtensor{::, int64:int64:} [id OD] <CudaNdarrayType(float32, matrix)> ''   \n > | |GpuGemm{no_inplace} [id NQ] <CudaNdarrayType(float32, matrix)> ''   \n > | |Constant{3072} [id OB] <int64>\n > | |Constant{4096} [id OE] <int64>\n > |<CudaNdarrayType(float32, matrix)> [id NT] <CudaNdarrayType(float32, matrix)> -> [id IM]\n\nStorage map footprint:\n - GpuAlloc{memset_0=True}.0, Shape: (2, 36071, 512), ElemSize: 4 Byte(s), TotalSize: 147746816 Byte(s)\n - forall_inplace,gpu,grad_of_scan_fn}.15, Shape: (2, 36071, 512), ElemSize: 4 Byte(s), TotalSize: 147746816 Byte(s)\n - forall_inplace,gpu,grad_of_scan_fn}.4, Shape: (21, 32, 36071), ElemSize: 4 Byte(s), TotalSize: 96958848 Byte(s)\n - GpuSubtensor{::int64}.0, Shape: (21, 32, 36071), ElemSize: 4 Byte(s), TotalSize: 96958848 Byte(s)\n - forall_inplace,gpu,grad_of_scan_fn}.33, Shape: (20, 32, 36071), ElemSize: 4 Byte(s), TotalSize: 92341760 Byte(s)\n - GpuElemwise{maximum,no_inplace}.0, Shape: (32, 20, 36071), ElemSize: 4 Byte(s), TotalSize: 92341760 Byte(s)\n - GpuSubtensor{int64:int64:int8}.0, Shape: (20, 32, 36071), ElemSize: 4 Byte(s), TotalSize: 92341760 Byte(s)\n - GpuAlloc{memset_0=True}.0, Shape: (20, 32, 36071), ElemSize: 4 Byte(s), TotalSize: 92341760 Byte(s)\n - context embedding.W, Shared Input, Shape: (36071, 512), ElemSize: 4 Byte(s), TotalSize: 73873408 Byte(s)\n - W, Shared Input, Shape: (36071, 512), ElemSize: 4 Byte(s), TotalSize: 73873408 Byte(s)\n - W, Shared Input, Shape: (36071, 512), ElemSize: 4 Byte(s), TotalSize: 73873408 Byte(s)\n - <CudaNdarrayType(float32, matrix)>, Shared Input, Shape: (36071, 512), ElemSize: 4 Byte(s), TotalSize: 73873408 Byte(s)\n - <CudaNdarrayType(float32, matrix)>, Shared Input, Shape: (36071, 512), ElemSize: 4 Byte(s), TotalSize: 73873408 Byte(s)\n - GpuAlloc{memset_0=True}.0, Shape: (36071, 512), ElemSize: 4 Byte(s), TotalSize: 73873408 Byte(s)\n - GpuDimShuffle{0,3,1,2}.0, Shape: (32, 1024, 20, 20), ElemSize: 4 Byte(s), TotalSize: 52428800 Byte(s)\n - <CudaNdarrayType(float32, matrix)>, Shared Input, Shape: (256, 36071), ElemSize: 4 Byte(s), TotalSize: 36936704 Byte(s)\n - <CudaNdarrayType(float32, matrix)>, Shared Input, Shape: (256, 36071), ElemSize: 4 Byte(s), TotalSize: 36936704 Byte(s)\n - decoder next word probas.W, Shared Input, Shape: (256, 36071), ElemSize: 4 Byte(s), TotalSize: 36936704 Byte(s)\n - GpuReshape{4}.0, Shape: (32, 20, 20, 512), ElemSize: 4 Byte(s), TotalSize: 26214400 Byte(s)\n - GpuJoin.0, Shape: (1024, 4096), ElemSize: 4 Byte(s), TotalSize: 16777216 Byte(s)\n - GpuDimShuffle{1,0}.0, Shape: (4096, 1024), ElemSize: 4 Byte(s), TotalSize: 16777216 Byte(s)\n - GpuDimShuffle{1,0}.0, Shape: (4096, 1024), ElemSize: 4 Byte(s), TotalSize: 16777216 Byte(s)\n - GpuJoin.0, Shape: (1024, 4096), ElemSize: 4 Byte(s), TotalSize: 16777216 Byte(s)\n - GpuJoin.0, Shape: (1024, 4096), ElemSize: 4 Byte(s), TotalSize: 16777216 Byte(s)\n - GpuElemwise{add,no_inplace}.0, Shape: (20, 32, 4096), ElemSize: 4 Byte(s), TotalSize: 10485760 Byte(s)\n - GpuAlloc{memset_0=True}.0, Shape: (2, 1024, 1024), ElemSize: 4 Byte(s), TotalSize: 8388608 Byte(s)\n - forall_inplace,gpu,grad_of_scan_fn}.22, Shape: (2, 1024, 1024), ElemSize: 4 Byte(s), TotalSize: 8388608 Byte(s)\n - forall_inplace,gpu,grad_of_scan_fn}.13, Shape: (2, 1024, 1024), ElemSize: 4 Byte(s), TotalSize: 8388608 Byte(s)\n - GpuJoin.0, Shape: (512, 4096), ElemSize: 4 Byte(s), TotalSize: 8388608 Byte(s)\n - GpuAlloc{memset_0=True}.0, Shape: (2, 1024, 1024), ElemSize: 4 Byte(s), TotalSize: 8388608 Byte(s)\n - forall_inplace,gpu,grad_of_scan_fn}.21, Shape: (2, 1024, 1024), ElemSize: 4 Byte(s), TotalSize: 8388608 Byte(s)\n - GpuAlloc{memset_0=True}.0, Shape: (2, 1024, 1024), ElemSize: 4 Byte(s), TotalSize: 8388608 Byte(s)\n - GpuAlloc{memset_0=True}.0, Shape: (2, 1024, 1024), ElemSize: 4 Byte(s), TotalSize: 8388608 Byte(s)\n - forall_inplace,gpu,grad_of_scan_fn}.12, Shape: (2, 1024, 1024), ElemSize: 4 Byte(s), TotalSize: 8388608 Byte(s)\n - GpuAlloc{memset_0=True}.0, Shape: (2, 1024, 1024), ElemSize: 4 Byte(s), TotalSize: 8388608 Byte(s)\n - forall_inplace,gpu,grad_of_scan_fn}.23, Shape: (2, 1024, 1024), ElemSize: 4 Byte(s), TotalSize: 8388608 Byte(s)\n - forall_inplace,gpu,grad_of_scan_fn}.11, Shape: (2, 1024, 1024), ElemSize: 4 Byte(s), TotalSize: 8388608 Byte(s)\n - forall_inplace,gpu,grad_of_scan_fn}.14, Shape: (2, 1024, 1024), ElemSize: 4 Byte(s), TotalSize: 8388608 Byte(s)\n - GpuJoin.0, Shape: (512, 4096), ElemSize: 4 Byte(s), TotalSize: 8388608 Byte(s)\n - forall_inplace,gpu,grad_of_scan_fn}.20, Shape: (2, 1024, 1024), ElemSize: 4 Byte(s), TotalSize: 8388608 Byte(s)\n - GpuAlloc{memset_0=True}.0, Shape: (2, 1024, 1024), ElemSize: 4 Byte(s), TotalSize: 8388608 Byte(s)\n - GpuAlloc{memset_0=True}.0, Shape: (2, 1024, 1024), ElemSize: 4 Byte(s), TotalSize: 8388608 Byte(s)\n - GpuDimShuffle{1,0}.0, Shape: (4096, 512), ElemSize: 4 Byte(s), TotalSize: 8388608 Byte(s)\n - GpuAlloc{memset_0=True}.0, Shape: (2, 1024, 1024), ElemSize: 4 Byte(s), TotalSize: 8388608 Byte(s)\n - <CudaNdarrayType(float32, matrix)>, Shared Input, Shape: (1024, 1024), ElemSize: 4 Byte(s), TotalSize: 4194304 Byte(s)\n - <CudaNdarrayType(float32, matrix)>, Shared Input, Shape: (1024, 1024), ElemSize: 4 Byte(s), TotalSize: 4194304 Byte(s)\n - forall_inplace,gpu,grad_of_scan_fn}.19, Shape: (2, 512, 1024), ElemSize: 4 Byte(s), TotalSize: 4194304 Byte(s)\n - <CudaNdarrayType(float32, matrix)>, Shared Input, Shape: (1024, 1024), ElemSize: 4 Byte(s), TotalSize: 4194304 Byte(s)\n - forall_inplace,gpu,grad_of_scan_fn}.18, Shape: (2, 512, 1024), ElemSize: 4 Byte(s), TotalSize: 4194304 Byte(s)\n - GpuAlloc{memset_0=True}.0, Shape: (2, 512, 1024), ElemSize: 4 Byte(s), TotalSize: 4194304 Byte(s)\n - encoder_lstm.W_hid_to_cell, Shared Input, Shape: (1024, 1024), ElemSize: 4 Byte(s), TotalSize: 4194304 Byte(s)\n - decoder_lstm.W_encoder_to_outgate, Shared Input, Shape: (1024, 1024), ElemSize: 4 Byte(s), TotalSize: 4194304 Byte(s)\n - forall_inplace,gpu,grad_of_scan_fn}.16, Shape: (2, 512, 1024), ElemSize: 4 Byte(s), TotalSize: 4194304 Byte(s)\n - encoder_lstm.W_hid_to_forgetgate, Shared Input, Shape: (1024, 1024), ElemSize: 4 Byte(s), TotalSize: 4194304 Byte(s)\n - encoder_lstm.W_hid_to_ingate, Shared Input, Shape: (1024, 1024), ElemSize: 4 Byte(s), TotalSize: 4194304 Byte(s)\n - <CudaNdarrayType(float32, matrix)>, Shared Input, Shape: (1024, 1024), ElemSize: 4 Byte(s), TotalSize: 4194304 Byte(s)\n - <CudaNdarrayType(float32, matrix)>, Shared Input, Shape: (1024, 1024), ElemSize: 4 Byte(s), TotalSize: 4194304 Byte(s)\n - <CudaNdarrayType(float32, matrix)>, Shared Input, Shape: (1024, 1024), ElemSize: 4 Byte(s), TotalSize: 4194304 Byte(s)\n - <CudaNdarrayType(float32, matrix)>, Shared Input, Shape: (1024, 1024), ElemSize: 4 Byte(s), TotalSize: 4194304 Byte(s)\n - <CudaNdarrayType(float32, matrix)>, Shared Input, Shape: (1024, 1024), ElemSize: 4 Byte(s), TotalSize: 4194304 Byte(s)\n - <CudaNdarrayType(float32, matrix)>, Shared Input, Shape: (1024, 1024), ElemSize: 4 Byte(s), TotalSize: 4194304 Byte(s)\n - <CudaNdarrayType(float32, matrix)>, Shared Input, Shape: (1024, 1024), ElemSize: 4 Byte(s), TotalSize: 4194304 Byte(s)\n - <CudaNdarrayType(float32, matrix)>, Shared Input, Shape: (1024, 1024), ElemSize: 4 Byte(s), TotalSize: 4194304 Byte(s)\n - <CudaNdarrayType(float32, matrix)>, Shared Input, Shape: (1024, 1024), ElemSize: 4 Byte(s), TotalSize: 4194304 Byte(s)\n - GpuAlloc{memset_0=True}.0, Shape: (2, 512, 1024), ElemSize: 4 Byte(s), TotalSize: 4194304 Byte(s)\n - <CudaNdarrayType(float32, matrix)>, Shared Input, Shape: (1024, 1024), ElemSize: 4 Byte(s), TotalSize: 4194304 Byte(s)\n - <CudaNdarrayType(float32, matrix)>, Shared Input, Shape: (1024, 1024), ElemSize: 4 Byte(s), TotalSize: 4194304 Byte(s)\n - decoder_lstm.W_encoder_to_forgetgate, Shared Input, Shape: (1024, 1024), ElemSize: 4 Byte(s), TotalSize: 4194304 Byte(s)\n - <CudaNdarrayType(float32, matrix)>, Shared Input, Shape: (1024, 1024), ElemSize: 4 Byte(s), TotalSize: 4194304 Byte(s)\n - forall_inplace,gpu,grad_of_scan_fn}.17, Shape: (2, 512, 1024), ElemSize: 4 Byte(s), TotalSize: 4194304 Byte(s)\n - GpuAlloc{memset_0=True}.0, Shape: (2, 512, 1024), ElemSize: 4 Byte(s), TotalSize: 4194304 Byte(s)\n - <CudaNdarrayType(float32, matrix)>, Shared Input, Shape: (1024, 1024), ElemSize: 4 Byte(s), TotalSize: 4194304 Byte(s)\n - encoder_lstm.W_hid_to_outgate, Shared Input, Shape: (1024, 1024), ElemSize: 4 Byte(s), TotalSize: 4194304 Byte(s)\n - <CudaNdarrayType(float32, matrix)>, Shared Input, Shape: (1024, 1024), ElemSize: 4 Byte(s), TotalSize: 4194304 Byte(s)\n - <CudaNdarrayType(float32, matrix)>, Shared Input, Shape: (1024, 1024), ElemSize: 4 Byte(s), TotalSize: 4194304 Byte(s)\n - <CudaNdarrayType(float32, matrix)>, Shared Input, Shape: (1024, 1024), ElemSize: 4 Byte(s), TotalSize: 4194304 Byte(s)\n - <CudaNdarrayType(float32, matrix)>, Shared Input, Shape: (1024, 1024), ElemSize: 4 Byte(s), TotalSize: 4194304 Byte(s)\n - GpuAlloc{memset_0=True}.0, Shape: (2, 512, 1024), ElemSize: 4 Byte(s), TotalSize: 4194304 Byte(s)\n - <CudaNdarrayType(float32, matrix)>, Shared Input, Shape: (1024, 1024), ElemSize: 4 Byte(s), TotalSize: 4194304 Byte(s)\n - decoder_lstm.W_encoder_to_ingate, Shared Input, Shape: (1024, 1024), ElemSize: 4 Byte(s), TotalSize: 4194304 Byte(s)\n - decoder_lstm.W_out_to_ingate, Shared Input, Shape: (1024, 1024), ElemSize: 4 Byte(s), TotalSize: 4194304 Byte(s)\n - decoder_lstm.W_encoder_to_cell, Shared Input, Shape: (1024, 1024), ElemSize: 4 Byte(s), TotalSize: 4194304 Byte(s)\n - decoder_lstm.W_out_to_cell, Shared Input, Shape: (1024, 1024), ElemSize: 4 Byte(s), TotalSize: 4194304 Byte(s)\n - decoder_lstm.W_out_to_forgetgate, Shared Input, Shape: (1024, 1024), ElemSize: 4 Byte(s), TotalSize: 4194304 Byte(s)\n - <CudaNdarrayType(float32, matrix)>, Shared Input, Shape: (1024, 1024), ElemSize: 4 Byte(s), TotalSize: 4194304 Byte(s)\n - decoder_lstm.W_out_to_outgate, Shared Input, Shape: (1024, 1024), ElemSize: 4 Byte(s), TotalSize: 4194304 Byte(s)\n - <CudaNdarrayType(float32, matrix)>, Shared Input, Shape: (1024, 1024), ElemSize: 4 Byte(s), TotalSize: 4194304 Byte(s)\n - <CudaNdarrayType(float32, matrix)>, Shared Input, Shape: (1024, 1024), ElemSize: 4 Byte(s), TotalSize: 4194304 Byte(s)\n - forall_inplace,gpu,grad_of_scan_fn}.5, Shape: (21, 32, 1024), ElemSize: 4 Byte(s), TotalSize: 2752512 Byte(s)\n - GpuAlloc{memset_0=True}.0, Shape: (21, 32, 1024), ElemSize: 4 Byte(s), TotalSize: 2752512 Byte(s)\n - GpuAlloc{memset_0=True}.0, Shape: (21, 32, 1024), ElemSize: 4 Byte(s), TotalSize: 2752512 Byte(s)\n - GpuAlloc{memset_0=True}.0, Shape: (21, 32, 1024), ElemSize: 4 Byte(s), TotalSize: 2752512 Byte(s)\n - forall_inplace,gpu,grad_of_scan_fn}.6, Shape: (21, 32, 1024), ElemSize: 4 Byte(s), TotalSize: 2752512 Byte(s)\n - forall_inplace,gpu,scan_fn}.1, Shape: (21, 32, 1024), ElemSize: 4 Byte(s), TotalSize: 2752512 Byte(s)\n - forall_inplace,gpu,scan_fn&scan_fn}.0, Shape: (21, 32, 1024), ElemSize: 4 Byte(s), TotalSize: 2752512 Byte(s)\n - forall_inplace,gpu,grad_of_scan_fn}.1, Shape: (21, 32, 1024), ElemSize: 4 Byte(s), TotalSize: 2752512 Byte(s)\n - forall_inplace,gpu,scan_fn&scan_fn}.1, Shape: (21, 32, 1024), ElemSize: 4 Byte(s), TotalSize: 2752512 Byte(s)\n - forall_inplace,gpu,grad_of_scan_fn}.0, Shape: (21, 32, 1024), ElemSize: 4 Byte(s), TotalSize: 2752512 Byte(s)\n - GpuAlloc{memset_0=True}.0, Shape: (21, 32, 1024), ElemSize: 4 Byte(s), TotalSize: 2752512 Byte(s)\n - forall_inplace,gpu,scan_fn}.0, Shape: (21, 32, 1024), ElemSize: 4 Byte(s), TotalSize: 2752512 Byte(s)\n - GpuSubtensor{int64:int64:int64}.0, Shape: (20, 32, 1024), ElemSize: 4 Byte(s), TotalSize: 2621440 Byte(s)\n - GpuDimShuffle{0,2,1}.0, Shape: (20, 1024, 32), ElemSize: 4 Byte(s), TotalSize: 2621440 Byte(s)\n - GpuAlloc{memset_0=True}.0, Shape: (20, 32, 1024), ElemSize: 4 Byte(s), TotalSize: 2621440 Byte(s)\n - GpuSubtensor{int64:int64:int64}.0, Shape: (20, 32, 1024), ElemSize: 4 Byte(s), TotalSize: 2621440 Byte(s)\n - forall_inplace,gpu,grad_of_scan_fn}.34, Shape: (20, 1024, 32), ElemSize: 4 Byte(s), TotalSize: 2621440 Byte(s)\n - GpuSubtensor{int64:int64:int64}.0, Shape: (20, 32, 1024), ElemSize: 4 Byte(s), TotalSize: 2621440 Byte(s)\n - encoder_lstm.W_in_to_ingate, Shared Input, Shape: (512, 1024), ElemSize: 4 Byte(s), TotalSize: 2097152 Byte(s)\n - encoder_lstm.W_in_to_forgetgate, Shared Input, Shape: (512, 1024), ElemSize: 4 Byte(s), TotalSize: 2097152 Byte(s)\n - <CudaNdarrayType(float32, matrix)>, Shared Input, Shape: (512, 1024), ElemSize: 4 Byte(s), TotalSize: 2097152 Byte(s)\n - <CudaNdarrayType(float32, matrix)>, Shared Input, Shape: (512, 1024), ElemSize: 4 Byte(s), TotalSize: 2097152 Byte(s)\n - <CudaNdarrayType(float32, matrix)>, Shared Input, Shape: (512, 1024), ElemSize: 4 Byte(s), TotalSize: 2097152 Byte(s)\n - <CudaNdarrayType(float32, matrix)>, Shared Input, Shape: (512, 1024), ElemSize: 4 Byte(s), TotalSize: 2097152 Byte(s)\n - <CudaNdarrayType(float32, matrix)>, Shared Input, Shape: (512, 1024), ElemSize: 4 Byte(s), TotalSize: 2097152 Byte(s)\n - <CudaNdarrayType(float32, matrix)>, Shared Input, Shape: (512, 1024), ElemSize: 4 Byte(s), TotalSize: 2097152 Byte(s)\n - <CudaNdarrayType(float32, matrix)>, Shared Input, Shape: (512, 1024), ElemSize: 4 Byte(s), TotalSize: 2097152 Byte(s)\n - <CudaNdarrayType(float32, matrix)>, Shared Input, Shape: (512, 1024), ElemSize: 4 Byte(s), TotalSize: 2097152 Byte(s)\n - <CudaNdarrayType(float32, matrix)>, Shared Input, Shape: (512, 1024), ElemSize: 4 Byte(s), TotalSize: 2097152 Byte(s)\n - <CudaNdarrayType(float32, matrix)>, Shared Input, Shape: (512, 1024), ElemSize: 4 Byte(s), TotalSize: 2097152 Byte(s)\n - <CudaNdarrayType(float32, matrix)>, Shared Input, Shape: (512, 1024), ElemSize: 4 Byte(s), TotalSize: 2097152 Byte(s)\n - encoder_lstm.W_in_to_outgate, Shared Input, Shape: (512, 1024), ElemSize: 4 Byte(s), TotalSize: 2097152 Byte(s)\n - <CudaNdarrayType(float32, matrix)>, Shared Input, Shape: (512, 1024), ElemSize: 4 Byte(s), TotalSize: 2097152 Byte(s)\n - <CudaNdarrayType(float32, matrix)>, Shared Input, Shape: (512, 1024), ElemSize: 4 Byte(s), TotalSize: 2097152 Byte(s)\n - <CudaNdarrayType(float32, matrix)>, Shared Input, Shape: (512, 1024), ElemSize: 4 Byte(s), TotalSize: 2097152 Byte(s)\n - decoder_lstm.W_emb_to_cell, Shared Input, Shape: (512, 1024), ElemSize: 4 Byte(s), TotalSize: 2097152 Byte(s)\n - decoder_lstm.W_emb_to_forgetgate, Shared Input, Shape: (512, 1024), ElemSize: 4 Byte(s), TotalSize: 2097152 Byte(s)\n - <CudaNdarrayType(float32, matrix)>, Shared Input, Shape: (512, 1024), ElemSize: 4 Byte(s), TotalSize: 2097152 Byte(s)\n - encoder_lstm.W_in_to_cell, Shared Input, Shape: (512, 1024), ElemSize: 4 Byte(s), TotalSize: 2097152 Byte(s)\n - decoder_lstm.W_emb_to_outgate, Shared Input, Shape: (512, 1024), ElemSize: 4 Byte(s), TotalSize: 2097152 Byte(s)\n - decoder_lstm.W_emb_to_ingate, Shared Input, Shape: (512, 1024), ElemSize: 4 Byte(s), TotalSize: 2097152 Byte(s)\n - <CudaNdarrayType(float32, matrix)>, Shared Input, Shape: (512, 1024), ElemSize: 4 Byte(s), TotalSize: 2097152 Byte(s)\n - GpuJoin.0, Shape: (100, 4096), ElemSize: 4 Byte(s), TotalSize: 1638400 Byte(s)\n - GpuDimShuffle{1,0}.0, Shape: (4096, 100), ElemSize: 4 Byte(s), TotalSize: 1638400 Byte(s)\n - GpuReshape{2}.0, Shape: (640, 512), ElemSize: 4 Byte(s), TotalSize: 1310720 Byte(s)\n - persona_based.emb.W, Shared Input, Shape: (3194, 100), ElemSize: 4 Byte(s), TotalSize: 1277600 Byte(s)\n - <CudaNdarrayType(float32, matrix)>, Shared Input, Shape: (3194, 100), ElemSize: 4 Byte(s), TotalSize: 1277600 Byte(s)\n - <CudaNdarrayType(float32, matrix)>, Shared Input, Shape: (3194, 100), ElemSize: 4 Byte(s), TotalSize: 1277600 Byte(s)\n - decoder intermediate.W, Shared Input, Shape: (1024, 256), ElemSize: 4 Byte(s), TotalSize: 1048576 Byte(s)\n - <CudaNdarrayType(float32, matrix)>, Shared Input, Shape: (1024, 256), ElemSize: 4 Byte(s), TotalSize: 1048576 Byte(s)\n - <CudaNdarrayType(float32, matrix)>, Shared Input, Shape: (1024, 256), ElemSize: 4 Byte(s), TotalSize: 1048576 Byte(s)\n - GpuAlloc{memset_0=True}.0, Shape: (2, 100, 1024), ElemSize: 4 Byte(s), TotalSize: 819200 Byte(s)\n - forall_inplace,gpu,grad_of_scan_fn}.26, Shape: (2, 100, 1024), ElemSize: 4 Byte(s), TotalSize: 819200 Byte(s)\n - forall_inplace,gpu,grad_of_scan_fn}.25, Shape: (2, 100, 1024), ElemSize: 4 Byte(s), TotalSize: 819200 Byte(s)\n - forall_inplace,gpu,grad_of_scan_fn}.24, Shape: (2, 100, 1024), ElemSize: 4 Byte(s), TotalSize: 819200 Byte(s)\n - GpuAlloc{memset_0=True}.0, Shape: (2, 100, 1024), ElemSize: 4 Byte(s), TotalSize: 819200 Byte(s)\n - GpuAlloc{memset_0=True}.0, Shape: (2, 100, 1024), ElemSize: 4 Byte(s), TotalSize: 819200 Byte(s)\n - forall_inplace,gpu,grad_of_scan_fn}.27, Shape: (2, 100, 1024), ElemSize: 4 Byte(s), TotalSize: 819200 Byte(s)\n - GpuAlloc{memset_0=True}.0, Shape: (2, 100, 1024), ElemSize: 4 Byte(s), TotalSize: 819200 Byte(s)\n - W, Shared Input, Shape: (20, 1024, 3, 3), ElemSize: 4 Byte(s), TotalSize: 737280 Byte(s)\n - forall_inplace,gpu,grad_of_scan_fn}.35, Shape: (20, 32, 256), ElemSize: 4 Byte(s), TotalSize: 655360 Byte(s)\n - forall_inplace,gpu,grad_of_scan_fn}.32, Shape: (20, 256, 32), ElemSize: 4 Byte(s), TotalSize: 655360 Byte(s)\n - GpuDot22.0, Shape: (32, 4096), ElemSize: 4 Byte(s), TotalSize: 524288 Byte(s)\n - GpuDot22.0, Shape: (32, 4096), ElemSize: 4 Byte(s), TotalSize: 524288 Byte(s)\n - decoder_lstm.W_persona_based.each_tick_to_cell, Shared Input, Shape: (100, 1024), ElemSize: 4 Byte(s), TotalSize: 409600 Byte(s)\n - decoder_lstm.W_persona_based.each_tick_to_outgate, Shared Input, Shape: (100, 1024), ElemSize: 4 Byte(s), TotalSize: 409600 Byte(s)\n - decoder_lstm.W_persona_based.each_tick_to_forgetgate, Shared Input, Shape: (100, 1024), ElemSize: 4 Byte(s), TotalSize: 409600 Byte(s)\n - <CudaNdarrayType(float32, matrix)>, Shared Input, Shape: (100, 1024), ElemSize: 4 Byte(s), TotalSize: 409600 Byte(s)\n - <CudaNdarrayType(float32, matrix)>, Shared Input, Shape: (100, 1024), ElemSize: 4 Byte(s), TotalSize: 409600 Byte(s)\n - decoder_lstm.W_persona_based.each_tick_to_ingate, Shared Input, Shape: (100, 1024), ElemSize: 4 Byte(s), TotalSize: 409600 Byte(s)\n - <CudaNdarrayType(float32, matrix)>, Shared Input, Shape: (100, 1024), ElemSize: 4 Byte(s), TotalSize: 409600 Byte(s)\n - <CudaNdarrayType(float32, matrix)>, Shared Input, Shape: (100, 1024), ElemSize: 4 Byte(s), TotalSize: 409600 Byte(s)\n - <CudaNdarrayType(float32, matrix)>, Shared Input, Shape: (100, 1024), ElemSize: 4 Byte(s), TotalSize: 409600 Byte(s)\n - <CudaNdarrayType(float32, matrix)>, Shared Input, Shape: (100, 1024), ElemSize: 4 Byte(s), TotalSize: 409600 Byte(s)\n - <CudaNdarrayType(float32, matrix)>, Shared Input, Shape: (100, 1024), ElemSize: 4 Byte(s), TotalSize: 409600 Byte(s)\n - <CudaNdarrayType(float32, matrix)>, Shared Input, Shape: (100, 1024), ElemSize: 4 Byte(s), TotalSize: 409600 Byte(s)\n - GpuAlloc{memset_0=True}.0, Shape: (2, 36071), ElemSize: 4 Byte(s), TotalSize: 288568 Byte(s)\n - forall_inplace,gpu,grad_of_scan_fn}.29, Shape: (2, 36071), ElemSize: 4 Byte(s), TotalSize: 288568 Byte(s)\n - GpuAlloc{memset_0=True}.0, Shape: (2, 32, 1024), ElemSize: 4 Byte(s), TotalSize: 262144 Byte(s)\n - forall_inplace,gpu,grad_of_scan_fn}.31, Shape: (2, 32, 1024), ElemSize: 4 Byte(s), TotalSize: 262144 Byte(s)\n - decoder next word probas.b, Shared Input, Shape: (36071,), ElemSize: 4 Byte(s), TotalSize: 144284 Byte(s)\n - <CudaNdarrayType(float32, vector)>, Shared Input, Shape: (36071,), ElemSize: 4 Byte(s), TotalSize: 144284 Byte(s)\n - <CudaNdarrayType(float32, vector)>, Shared Input, Shape: (36071,), ElemSize: 4 Byte(s), TotalSize: 144284 Byte(s)\n - GpuDimShuffle{x,0}.0, Shape: (1, 36071), ElemSize: 4 Byte(s), TotalSize: 144284 Byte(s)\n - GpuDimShuffle{1,0}.0, Shape: (1024, 32), ElemSize: 4 Byte(s), TotalSize: 131072 Byte(s)\n - GpuSubtensor{int64}.0, Shape: (32, 1024), ElemSize: 4 Byte(s), TotalSize: 131072 Byte(s)\n - forall_inplace,gpu,scan_fn&scan_fn}.6, Shape: (1, 32, 1024), ElemSize: 4 Byte(s), TotalSize: 131072 Byte(s)\n - forall_inplace,gpu,scan_fn&scan_fn}.5, Shape: (1, 32, 1024), ElemSize: 4 Byte(s), TotalSize: 131072 Byte(s)\n - forall_inplace,gpu,grad_of_scan_fn}.30, Shape: (2, 32, 100), ElemSize: 4 Byte(s), TotalSize: 25600 Byte(s)\n - GpuAlloc{memset_0=True}.0, Shape: (2, 32, 100), ElemSize: 4 Byte(s), TotalSize: 25600 Byte(s)\n - GpuDimShuffle{x,0}.0, Shape: (1, 4096), ElemSize: 4 Byte(s), TotalSize: 16384 Byte(s)\n - W, Shared Input, Shape: (20, 20, 3, 3), ElemSize: 4 Byte(s), TotalSize: 14400 Byte(s)\n - W, Shared Input, Shape: (180, 20), ElemSize: 4 Byte(s), TotalSize: 14400 Byte(s)\n - GpuAdvancedSubtensor1.0, Shape: (32, 100), ElemSize: 4 Byte(s), TotalSize: 12800 Byte(s)\n - GpuDimShuffle{1,0}.0, Shape: (100, 32), ElemSize: 4 Byte(s), TotalSize: 12800 Byte(s)\n - forall_inplace,gpu,grad_of_scan_fn}.10, Shape: (2, 1024), ElemSize: 4 Byte(s), TotalSize: 8192 Byte(s)\n - forall_inplace,gpu,grad_of_scan_fn}.7, Shape: (2, 1024), ElemSize: 4 Byte(s), TotalSize: 8192 Byte(s)\n - forall_inplace,gpu,grad_of_scan_fn}.8, Shape: (2, 1024), ElemSize: 4 Byte(s), TotalSize: 8192 Byte(s)\n - forall_inplace,gpu,grad_of_scan_fn}.9, Shape: (2, 1024), ElemSize: 4 Byte(s), TotalSize: 8192 Byte(s)\n - GpuAlloc{memset_0=True}.0, Shape: (2, 1024), ElemSize: 4 Byte(s), TotalSize: 8192 Byte(s)\n - GpuAlloc{memset_0=True}.0, Shape: (2, 1024), ElemSize: 4 Byte(s), TotalSize: 8192 Byte(s)\n - GpuAlloc{memset_0=True}.0, Shape: (2, 1024), ElemSize: 4 Byte(s), TotalSize: 8192 Byte(s)\n - GpuAlloc{memset_0=True}.0, Shape: (2, 1024), ElemSize: 4 Byte(s), TotalSize: 8192 Byte(s)\n - Elemwise{Cast{int64}}.0, Shape: (640,), ElemSize: 8 Byte(s), TotalSize: 5120 Byte(s)\n - <CudaNdarrayType(float32, vector)>, Shared Input, Shape: (1024,), ElemSize: 4 Byte(s), TotalSize: 4096 Byte(s)\n - encoder_lstm.b_forgetgate, Shared Input, Shape: (1024,), ElemSize: 4 Byte(s), TotalSize: 4096 Byte(s)\n - encoder_lstm.cell_init, Shared Input, Shape: (1, 1024), ElemSize: 4 Byte(s), TotalSize: 4096 Byte(s)\n - encoder_lstm.hid_init, Shared Input, Shape: (1, 1024), ElemSize: 4 Byte(s), TotalSize: 4096 Byte(s)\n - encoder_lstm.b_cell, Shared Input, Shape: (1024,), ElemSize: 4 Byte(s), TotalSize: 4096 Byte(s)\n - decoder_lstm.b_to_outgate, Shared Input, Shape: (1024,), ElemSize: 4 Byte(s), TotalSize: 4096 Byte(s)\n - encoder_lstm.b_ingate, Shared Input, Shape: (1024,), ElemSize: 4 Byte(s), TotalSize: 4096 Byte(s)\n - encoder_lstm.b_outgate, Shared Input, Shape: (1024,), ElemSize: 4 Byte(s), TotalSize: 4096 Byte(s)\n - <CudaNdarrayType(float32, vector)>, Shared Input, Shape: (1024,), ElemSize: 4 Byte(s), TotalSize: 4096 Byte(s)\n - <CudaNdarrayType(float32, vector)>, Shared Input, Shape: (1024,), ElemSize: 4 Byte(s), TotalSize: 4096 Byte(s)\n - <CudaNdarrayType(float32, vector)>, Shared Input, Shape: (1024,), ElemSize: 4 Byte(s), TotalSize: 4096 Byte(s)\n - <CudaNdarrayType(float32, vector)>, Shared Input, Shape: (1024,), ElemSize: 4 Byte(s), TotalSize: 4096 Byte(s)\n - <CudaNdarrayType(float32, vector)>, Shared Input, Shape: (1024,), ElemSize: 4 Byte(s), TotalSize: 4096 Byte(s)\n - <CudaNdarrayType(float32, vector)>, Shared Input, Shape: (1024,), ElemSize: 4 Byte(s), TotalSize: 4096 Byte(s)\n - <CudaNdarrayType(float32, vector)>, Shared Input, Shape: (1024,), ElemSize: 4 Byte(s), TotalSize: 4096 Byte(s)\n - <CudaNdarrayType(float32, vector)>, Shared Input, Shape: (1024,), ElemSize: 4 Byte(s), TotalSize: 4096 Byte(s)\n - <CudaNdarrayType(float32, vector)>, Shared Input, Shape: (1024,), ElemSize: 4 Byte(s), TotalSize: 4096 Byte(s)\n - <CudaNdarrayType(float32, vector)>, Shared Input, Shape: (1024,), ElemSize: 4 Byte(s), TotalSize: 4096 Byte(s)\n - <CudaNdarrayType(float32, vector)>, Shared Input, Shape: (1024,), ElemSize: 4 Byte(s), TotalSize: 4096 Byte(s)\n - <CudaNdarrayType(float32, vector)>, Shared Input, Shape: (1024,), ElemSize: 4 Byte(s), TotalSize: 4096 Byte(s)\n - decoder_lstm.b_to_ingate, Shared Input, Shape: (1024,), ElemSize: 4 Byte(s), TotalSize: 4096 Byte(s)\n - decoder_lstm.b_to_forgetgate, Shared Input, Shape: (1024,), ElemSize: 4 Byte(s), TotalSize: 4096 Byte(s)\n - <CudaNdarrayType(float32, vector)>, Shared Input, Shape: (1024,), ElemSize: 4 Byte(s), TotalSize: 4096 Byte(s)\n - decoder_lstm.b_to_cell, Shared Input, Shape: (1024,), ElemSize: 4 Byte(s), TotalSize: 4096 Byte(s)\n - <CudaNdarrayType(float32, vector)>, Shared Input, Shape: (1024,), ElemSize: 4 Byte(s), TotalSize: 4096 Byte(s)\n - <CudaNdarrayType(float32, vector)>, Shared Input, Shape: (1024,), ElemSize: 4 Byte(s), TotalSize: 4096 Byte(s)\n - forall_inplace,gpu,grad_of_scan_fn}.3, Shape: (21, 32), ElemSize: 4 Byte(s), TotalSize: 2688 Byte(s)\n - forall_inplace,gpu,grad_of_scan_fn}.2, Shape: (21, 32), ElemSize: 4 Byte(s), TotalSize: 2688 Byte(s)\n - GpuAlloc{memset_0=True}.0, Shape: (21, 32), ElemSize: 4 Byte(s), TotalSize: 2688 Byte(s)\n - forall_inplace,gpu,scan_fn&scan_fn}.2, Shape: (21, 32), ElemSize: 4 Byte(s), TotalSize: 2688 Byte(s)\n - GpuAlloc{memset_0=True}.0, Shape: (21, 32), ElemSize: 4 Byte(s), TotalSize: 2688 Byte(s)\n - GpuAlloc{memset_0=True}.0, Shape: (20, 32), ElemSize: 4 Byte(s), TotalSize: 2560 Byte(s)\n - InplaceDimShuffle{1,0}.0, Shape: (32, 20), ElemSize: 4 Byte(s), TotalSize: 2560 Byte(s)\n - Subtensor{int64:int64:int64}.0, Shape: (20, 32), ElemSize: 4 Byte(s), TotalSize: 2560 Byte(s)\n - encoder phrase tokens, Input, Shape: (32, 20), ElemSize: 4 Byte(s), TotalSize: 2560 Byte(s)\n - forall_inplace,gpu,scan_fn&scan_fn}.8, Shape: (20, 32), ElemSize: 4 Byte(s), TotalSize: 2560 Byte(s)\n - GpuFromHost.0, Shape: (32, 20), ElemSize: 4 Byte(s), TotalSize: 2560 Byte(s)\n - forall_inplace,gpu,grad_of_scan_fn}.28, Shape: (2, 256), ElemSize: 4 Byte(s), TotalSize: 2048 Byte(s)\n - GpuAlloc{memset_0=True}.0, Shape: (2, 256), ElemSize: 4 Byte(s), TotalSize: 2048 Byte(s)\n - decoder intermediate.b, Shared Input, Shape: (256,), ElemSize: 4 Byte(s), TotalSize: 1024 Byte(s)\n - GpuDimShuffle{x,0}.0, Shape: (1, 256), ElemSize: 4 Byte(s), TotalSize: 1024 Byte(s)\n - <CudaNdarrayType(float32, vector)>, Shared Input, Shape: (256,), ElemSize: 4 Byte(s), TotalSize: 1024 Byte(s)\n - <CudaNdarrayType(float32, vector)>, Shared Input, Shape: (256,), ElemSize: 4 Byte(s), TotalSize: 1024 Byte(s)\n - Elemwise{neq,no_inplace}.0, Shape: (20, 32, 1), ElemSize: 1 Byte(s), TotalSize: 640 Byte(s)\n - InplaceDimShuffle{0,x}.0, Shape: (32, 1), ElemSize: 8 Byte(s), TotalSize: 256 Byte(s)\n - Elemwise{Cast{int64}}.0, Shape: (32,), ElemSize: 8 Byte(s), TotalSize: 256 Byte(s)\n - W, Shared Input, Shape: (20, 2), ElemSize: 4 Byte(s), TotalSize: 160 Byte(s)\n - InplaceDimShuffle{x,0}.0, Shape: (1, 20), ElemSize: 8 Byte(s), TotalSize: 160 Byte(s)\n - personality idxs, Input, Shape: (32,), ElemSize: 4 Byte(s), TotalSize: 128 Byte(s)\n - forall_inplace,gpu,scan_fn&scan_fn}.7, Shape: (1, 32), ElemSize: 4 Byte(s), TotalSize: 128 Byte(s)\n - b, Shared Input, Shape: (20,), ElemSize: 4 Byte(s), TotalSize: 80 Byte(s)\n - b, Shared Input, Shape: (20,), ElemSize: 4 Byte(s), TotalSize: 80 Byte(s)\n - b, Shared Input, Shape: (20,), ElemSize: 4 Byte(s), TotalSize: 80 Byte(s)\n - MakeVector{dtype='int64'}.0, Shape: (4,), ElemSize: 8 Byte(s), TotalSize: 32 Byte(s)\n - TensorConstant{[ -1  20  20 512]}, Shape: (4,), ElemSize: 8 Byte(s), TotalSize: 32 Byte(s)\n - MakeVector{dtype='int64'}.0, Shape: (4,), ElemSize: 8 Byte(s), TotalSize: 32 Byte(s)\n - MakeVector{dtype='int64'}.0, Shape: (4,), ElemSize: 8 Byte(s), TotalSize: 32 Byte(s)\n - MakeVector{dtype='int64'}.0, Shape: (4,), ElemSize: 8 Byte(s), TotalSize: 32 Byte(s)\n - MakeVector{dtype='int64'}.0, Shape: (4,), ElemSize: 8 Byte(s), TotalSize: 32 Byte(s)\n - MakeVector{dtype='int64'}.0, Shape: (3,), ElemSize: 8 Byte(s), TotalSize: 24 Byte(s)\n - TensorConstant{(2,) of 0}, Shape: (2,), ElemSize: 8 Byte(s), TotalSize: 16 Byte(s)\n - TensorConstant{(2,) of 2}, Shape: (2,), ElemSize: 8 Byte(s), TotalSize: 16 Byte(s)\n - TensorConstant{(1,) of -1}, Shape: (1,), ElemSize: 8 Byte(s), TotalSize: 8 Byte(s)\n - Elemwise{Composite{Switch(GE(Composite{Switch(LT(i0, i1), i2, i0)}(Composite{Switch(i0, (i1 + i2), i1)}(i0, i1, i2), i3, i4), i2), (i2 - i5), Composite{Switch(LT(i0, i1), i2, i0)}(Composite{Switch(i0, (i1 + i2), i1)}(i0, i1, i2), i3, i4))}}.0, Shape: (), ElemSize: 8 Byte(s), TotalSize: 8.0 Byte(s)\n - Elemwise{Composite{Switch(GE(Composite{Switch(LT(i0, i1), i2, i0)}(Composite{Switch(i0, (i1 + i2), i1)}(i0, i1, i2), i3, i4), i2), i5, Composite{Switch(LT(i0, i1), i2, i0)}(Composite{Switch(i0, (i1 + i2), i1)}(i0, i1, i2), i3, i4))}}.0, Shape: (), ElemSize: 8 Byte(s), TotalSize: 8.0 Byte(s)\n - ScalarFromTensor.0, Shape: (), ElemSize: 8 Byte(s), TotalSize: 8.0 Byte(s)\n - Elemwise{add,no_inplace}.0, Shape: (), ElemSize: 8 Byte(s), TotalSize: 8.0 Byte(s)\n - TensorConstant{-20}, Shape: (), ElemSize: 8 Byte(s), TotalSize: 8.0 Byte(s)\n - TensorConstant{204800}, Shape: (), ElemSize: 8 Byte(s), TotalSize: 8.0 Byte(s)\n - TensorConstant{2}, Shape: (), ElemSize: 8 Byte(s), TotalSize: 8.0 Byte(s)\n - Elemwise{add,no_inplace}.0, Shape: (), ElemSize: 8 Byte(s), TotalSize: 8.0 Byte(s)\n - Elemwise{Composite{(Switch(LT(i0, i1), (i0 + i2), (i0 - i1)) + i2)}}.0, Shape: (), ElemSize: 8 Byte(s), TotalSize: 8.0 Byte(s)\n - Shape_i{0}.0, Shape: (), ElemSize: 8 Byte(s), TotalSize: 8.0 Byte(s)\n - Shape_i{1}.0, Shape: (), ElemSize: 8 Byte(s), TotalSize: 8.0 Byte(s)\n - Elemwise{Composite{Switch(LT(i0, i1), i0, i1)}}.0, Shape: (), ElemSize: 8 Byte(s), TotalSize: 8.0 Byte(s)\n - Elemwise{Composite{((i0 - (i1 + i0 + i2)) + i2)}}.0, Shape: (), ElemSize: 8 Byte(s), TotalSize: 8.0 Byte(s)\n - Constant{0}, Shape: (), ElemSize: 8 Byte(s), TotalSize: 8.0 Byte(s)\n - Elemwise{maximum,no_inplace}.0, Shape: (), ElemSize: 8 Byte(s), TotalSize: 8.0 Byte(s)\n - Shape_i{1}.0, Shape: (), ElemSize: 8 Byte(s), TotalSize: 8.0 Byte(s)\n - Elemwise{sub,no_inplace}.0, Shape: (), ElemSize: 8 Byte(s), TotalSize: 8.0 Byte(s)\n - Elemwise{Composite{Switch(i0, i1, maximum(minimum((i2 + i3), i4), i5))}}.0, Shape: (), ElemSize: 8 Byte(s), TotalSize: 8.0 Byte(s)\n - Elemwise{sub,no_inplace}.0, Shape: (), ElemSize: 8 Byte(s), TotalSize: 8.0 Byte(s)\n - TensorConstant{4096}, Shape: (), ElemSize: 8 Byte(s), TotalSize: 8.0 Byte(s)\n - Shape_i{1}.0, Shape: (), ElemSize: 8 Byte(s), TotalSize: 8.0 Byte(s)\n - Shape_i{1}.0, Shape: (), ElemSize: 8 Byte(s), TotalSize: 8.0 Byte(s)\n - Shape_i{1}.0, Shape: (), ElemSize: 8 Byte(s), TotalSize: 8.0 Byte(s)\n - Shape_i{1}.0, Shape: (), ElemSize: 8 Byte(s), TotalSize: 8.0 Byte(s)\n - Shape_i{0}.0, Shape: (), ElemSize: 8 Byte(s), TotalSize: 8.0 Byte(s)\n - Shape_i{0}.0, Shape: (), ElemSize: 8 Byte(s), TotalSize: 8.0 Byte(s)\n - Constant{1}, Shape: (), ElemSize: 8 Byte(s), TotalSize: 8.0 Byte(s)\n - Shape_i{0}.0, Shape: (), ElemSize: 8 Byte(s), TotalSize: 8.0 Byte(s)\n - Elemwise{Composite{maximum(maximum(((i0 - Switch(i1, (i2 + i3), i2)) + i4), i5), maximum(((i0 - Switch(LT(Composite{Switch(LT(i0, i1), i1, i0)}(Composite{Switch(LT(i0, i1), (i2 - i3), i0)}(Composite{((i0 - (Switch(LT(i1, i2), i2, i1) - i3)) - i3)}((Composite{Switch(GE(Composite{Switch(LT(i0, i1), i2, i0)}(Composite{Switch(i0, (i1 + i2), i1)}(i0, i1, i2), i3, i4), i2), i5, Composite{Switch(LT(i0, i1), i2, i0)}(Composite{Switch(i0, (i1 + i2), i1)}(i0, i1, i2), i3, i4))}(i6, i7, i3, i8, i9, i10) + i4), Composite{((((i0 - Switch(GE(i1, i2), i2, i1)) - i3) // i4) + i4)}(Composite{Switch(GE(Composite{Switch(LT(i0, i1), i2, i0)}(Composite{Switch(i0, (i1 + i2), i1)}(i0, i1, i2), i3, i4), i2), i5, Composite{Switch(LT(i0, i1), i2, i0)}(Composite{Switch(i0, (i1 + i2), i1)}(i0, i1, i2), i3, i4))}(i6, i7, i3, i8, i9, i10), Composite{Switch(LT(i0, i1), i2, i0)}(Composite{Switch(i0, (i1 + i2), i1)}(i11, i12, i3), i8, i9), i3, i13, i4), i8, i13), i8, (Composite{Switch(GE(Composite{Switch(LT(i0, i1), i2, i0)}(Composite{Switch(i0, (i1 + i2), i1)}(i0, i1, i2), i3, i4), i2), i5, Composite{Switch(LT(i0, i1), i2, i0)}(Composite{Switch(i0, (i1 + i2), i1)}(i0, i1, i2), i3, i4))}(i6, i7, i3, i8, i9, i10) + i4), i13), i8), Composite{Switch(LT(i0, i1), i1, i0)}((Composite{Switch(GE(Composite{Switch(LT(i0, i1), i2, i0)}(Composite{Switch(i0, (i1 + i2), i1)}(i0, i1, i2), i3, i4), i2), i5, Composite{Switch(LT(i0, i1), i2, i0)}(Composite{Switch(i0, (i1 + i2), i1)}(i0, i1, i2), i3, i4))}(i6, i7, i3, i8, i9, i10) + i4), i8)), Composite{Switch(LT(i0, i1), i1, i0)}(Composite{Switch(LT(i0, i1), (i2 - i3), i0)}(Composite{((i0 - (Switch(LT(i1, i2), i2, i1) - i3)) - i3)}((Composite{Switch(GE(Composite{Switch(LT(i0, i1), i2, i0)}(Composite{Switch(i0, (i1 + i2), i1)}(i0, i1, i2), i3, i4), i2), i5, Composite{Switch(LT(i0, i1), i2, i0)}(Composite{Switch(i0, (i1 + i2), i1)}(i0, i1, i2), i3, i4))}(i6, i7, i3, i8, i9, i10) + i4), Composite{((((i0 - Switch(GE(i1, i2), i2, i1)) - i3) // i4) + i4)}(Composite{Switch(GE(Composite{Switch(LT(i0, i1), i2, i0)}(Composite{Switch(i0, (i1 + i2), i1)}(i0, i1, i2), i3, i4), i2), i5, Composite{Switch(LT(i0, i1), i2, i0)}(Composite{Switch(i0, (i1 + i2), i1)}(i0, i1, i2), i3, i4))}(i6, i7, i3, i8, i9, i10), Composite{Switch(LT(i0, i1), i2, i0)}(Composite{Switch(i0, (i1 + i2), i1)}(i11, i12, i3), i8, i9), i3, i13, i4), i8, i13), i8, (Composite{Switch(GE(Composite{Switch(LT(i0, i1), i2, i0)}(Composite{Switch(i0, (i1 + i2), i1)}(i0, i1, i2), i3, i4), i2), i5, Composite{Switch(LT(i0, i1), i2, i0)}(Composite{Switch(i0, (i1 + i2), i1)}(i0, i1, i2), i3, i4))}(i6, i7, i3, i8, i9, i10) + i4), i13), i8), Composite{Switch(LT(i0, i1), i1, i0)}((Composite{Switch(GE(Composite{Switch(LT(i0, i1), i2, i0)}(Composite{Switch(i0, (i1 + i2), i1)}(i0, i1, i2), i3, i4), i2), i5, Composite{Switch(LT(i0, i1), i2, i0)}(Composite{Switch(i0, (i1 + i2), i1)}(i0, i1, i2), i3, i4))}(i6, i7, i3, i8, i9, i10) + i4), i8))) + i4), i5))}}.0, Shape: (), ElemSize: 8 Byte(s), TotalSize: 8.0 Byte(s)\n - Elemwise{Identity}.0, Shape: (), ElemSize: 8 Byte(s), TotalSize: 8.0 Byte(s)\n - Shape_i{1}.0, Shape: (), ElemSize: 8 Byte(s), TotalSize: 8.0 Byte(s)\n - Elemwise{add,no_inplace}.0, Shape: (), ElemSize: 8 Byte(s), TotalSize: 8.0 Byte(s)\n - Elemwise{Composite{(Switch(LT(i0, i1), (i0 + i2), (i0 - i1)) + i2)}}.0, Shape: (), ElemSize: 8 Byte(s), TotalSize: 8.0 Byte(s)\n - Elemwise{Composite{maximum(maximum(((i0 - Switch(LT(Composite{Switch(LT(i0, i1), i1, i0)}(Composite{Switch(LT(i0, i1), (i2 - i3), i0)}(Composite{((i0 - (Switch(LT(i1, i2), i2, i1) - i3)) - i3)}((i1 + i2), (i3 + i2), i4, i5), i4, (i1 + i2), i5), i4), Composite{Switch(LT(i0, i1), i1, i0)}((i1 + i2), i4)), Composite{Switch(LT(i0, i1), i1, i0)}(Composite{Switch(LT(i0, i1), (i2 - i3), i0)}(Composite{((i0 - (Switch(LT(i1, i2), i2, i1) - i3)) - i3)}((i1 + i2), (i3 + i2), i4, i5), i4, (i1 + i2), i5), i4), Composite{Switch(LT(i0, i1), i1, i0)}((i1 + i2), i4))) + i2), i6), maximum(((i0 - Switch(LT(Composite{Switch(LT(i0, i1), i1, i0)}(Composite{Switch(LT(i0, i1), (i2 - i3), i0)}(Composite{((i0 - (Switch(LT(i1, i2), i2, i1) - i3)) - i3)}((i7 + i2), (i8 + i2), i4, i5), i4, (i7 + i2), i5), i4), Composite{Switch(LT(i0, i1), i1, i0)}((i7 + i2), i4)), Composite{Switch(LT(i0, i1), i1, i0)}(Composite{Switch(LT(i0, i1), (i2 - i3), i0)}(Composite{((i0 - (Switch(LT(i1, i2), i2, i1) - i3)) - i3)}((i7 + i2), (i8 + i2), i4, i5), i4, (i7 + i2), i5), i4), Composite{Switch(LT(i0, i1), i1, i0)}((i7 + i2), i4))) + i2), i6))}}.0, Shape: (), ElemSize: 8 Byte(s), TotalSize: 8.0 Byte(s)\n - Elemwise{add,no_inplace}.0, Shape: (), ElemSize: 8 Byte(s), TotalSize: 8.0 Byte(s)\n - Elemwise{Composite{Switch(GE(Composite{Switch(LT(i0, i1), i2, i0)}(Composite{Switch(LT(i0, i1), (i0 + i2), i0)}(Composite{Switch(i0, i1, maximum(i2, (i3 - i4)))}(i0, i1, i2, i3, i4), i1, i5), i1, i6), i5), i7, Composite{Switch(LT(i0, i1), i2, i0)}(Composite{Switch(LT(i0, i1), (i0 + i2), i0)}(Composite{Switch(i0, i1, maximum(i2, (i3 - i4)))}(i0, i1, i2, i3, i4), i1, i5), i1, i6))}}.0, Shape: (), ElemSize: 8 Byte(s), TotalSize: 8.0 Byte(s)\n - b, Shared Input, Shape: (2,), ElemSize: 4 Byte(s), TotalSize: 8 Byte(s)\n - TensorConstant{0}, Shape: (), ElemSize: 8 Byte(s), TotalSize: 8.0 Byte(s)\n - ScalarFromTensor.0, Shape: (), ElemSize: 8 Byte(s), TotalSize: 8.0 Byte(s)\n - Elemwise{sub,no_inplace}.0, Shape: (), ElemSize: 8 Byte(s), TotalSize: 8.0 Byte(s)\n - Elemwise{Composite{(Switch(LT(maximum(i0, i1), i2), (maximum(i0, i1) + i3), (maximum(i0, i1) - i2)) + i3)}}.0, Shape: (), ElemSize: 8 Byte(s), TotalSize: 8.0 Byte(s)\n - Elemwise{sub,no_inplace}.0, Shape: (), ElemSize: 8 Byte(s), TotalSize: 8.0 Byte(s)\n - Shape_i{1}.0, Shape: (), ElemSize: 8 Byte(s), TotalSize: 8.0 Byte(s)\n - Elemwise{Composite{Switch(LT(i0, i1), i1, i0)}}.0, Shape: (), ElemSize: 8 Byte(s), TotalSize: 8.0 Byte(s)\n - Elemwise{Composite{(((i0 - Switch(GE(Composite{Switch(LT(i0, i1), i2, i0)}(Composite{Switch(LT(i0, i1), (i0 + i2), i0)}(Composite{Switch(i0, i1, Switch(AND(LT(i2, i1), GT(i3, i1)), i4, maximum((i5 + i6), i2)))}(i1, i2, (i3 - i4), i5, i6, i7, i8), i2, i9), i2, i10), i9), i9, Composite{Switch(LT(i0, i1), i2, i0)}(Composite{Switch(LT(i0, i1), (i0 + i2), i0)}(Composite{Switch(i0, i1, Switch(AND(LT(i2, i1), GT(i3, i1)), i4, maximum((i5 + i6), i2)))}(i1, i2, (i3 - i4), i5, i6, i7, i8), i2, i9), i2, i10))) - i11) // i12)}}.0, Shape: (), ElemSize: 8 Byte(s), TotalSize: 8.0 Byte(s)\n - Shape_i{0}.0, Shape: (), ElemSize: 8 Byte(s), TotalSize: 8.0 Byte(s)\n - Elemwise{sub,no_inplace}.0, Shape: (), ElemSize: 8 Byte(s), TotalSize: 8.0 Byte(s)\n - Elemwise{Composite{((i0 - Switch(LT(Composite{Switch(LT(i0, i1), i1, i0)}(Composite{Switch(LT(i0, i1), (i2 - i3), i0)}(Composite{((i0 - (Switch(LT(i1, i2), i2, i1) - i3)) - i3)}((Composite{Switch(GE(Composite{Switch(LT(i0, i1), i2, i0)}(Composite{Switch(i0, (i1 + i2), i1)}(i0, i1, i2), i3, i4), i2), (i2 - i5), Composite{Switch(LT(i0, i1), i2, i0)}(Composite{Switch(i0, (i1 + i2), i1)}(i0, i1, i2), i3, i4))}(i1, i2, i3, i4, i5, i6) + i7), Composite{((((i0 - Switch(GE(i1, i2), i2, i1)) - i3) // i4) + i4)}(Composite{Switch(GE(Composite{Switch(LT(i0, i1), i2, i0)}(Composite{Switch(i0, (i1 + i2), i1)}(i0, i1, i2), i3, i4), i2), (i2 - i5), Composite{Switch(LT(i0, i1), i2, i0)}(Composite{Switch(i0, (i1 + i2), i1)}(i0, i1, i2), i3, i4))}(i1, i2, i3, i4, i5, i6), Composite{Switch(LT(i0, i1), i2, i0)}(Composite{Switch(i0, (i1 + i2), i1)}(i8, i9, i3), i4, i5), i3, i6, i7), i4, i6), i4, (Composite{Switch(GE(Composite{Switch(LT(i0, i1), i2, i0)}(Composite{Switch(i0, (i1 + i2), i1)}(i0, i1, i2), i3, i4), i2), (i2 - i5), Composite{Switch(LT(i0, i1), i2, i0)}(Composite{Switch(i0, (i1 + i2), i1)}(i0, i1, i2), i3, i4))}(i1, i2, i3, i4, i5, i6) + i7), i6), i4), Composite{Switch(LT(i0, i1), i1, i0)}((Composite{Switch(GE(Composite{Switch(LT(i0, i1), i2, i0)}(Composite{Switch(i0, (i1 + i2), i1)}(i0, i1, i2), i3, i4), i2), (i2 - i5), Composite{Switch(LT(i0, i1), i2, i0)}(Composite{Switch(i0, (i1 + i2), i1)}(i0, i1, i2), i3, i4))}(i1, i2, i3, i4, i5, i6) + i7), i4)), Composite{Switch(LT(i0, i1), i1, i0)}(Composite{Switch(LT(i0, i1), (i2 - i3), i0)}(Composite{((i0 - (Switch(LT(i1, i2), i2, i1) - i3)) - i3)}((Composite{Switch(GE(Composite{Switch(LT(i0, i1), i2, i0)}(Composite{Switch(i0, (i1 + i2), i1)}(i0, i1, i2), i3, i4), i2), (i2 - i5), Composite{Switch(LT(i0, i1), i2, i0)}(Composite{Switch(i0, (i1 + i2), i1)}(i0, i1, i2), i3, i4))}(i1, i2, i3, i4, i5, i6) + i7), Composite{((((i0 - Switch(GE(i1, i2), i2, i1)) - i3) // i4) + i4)}(Composite{Switch(GE(Composite{Switch(LT(i0, i1), i2, i0)}(Composite{Switch(i0, (i1 + i2), i1)}(i0, i1, i2), i3, i4), i2), (i2 - i5), Composite{Switch(LT(i0, i1), i2, i0)}(Composite{Switch(i0, (i1 + i2), i1)}(i0, i1, i2), i3, i4))}(i1, i2, i3, i4, i5, i6), Composite{Switch(LT(i0, i1), i2, i0)}(Composite{Switch(i0, (i1 + i2), i1)}(i8, i9, i3), i4, i5), i3, i6, i7), i4, i6), i4, (Composite{Switch(GE(Composite{Switch(LT(i0, i1), i2, i0)}(Composite{Switch(i0, (i1 + i2), i1)}(i0, i1, i2), i3, i4), i2), (i2 - i5), Composite{Switch(LT(i0, i1), i2, i0)}(Composite{Switch(i0, (i1 + i2), i1)}(i0, i1, i2), i3, i4))}(i1, i2, i3, i4, i5, i6) + i7), i6), i4), Composite{Switch(LT(i0, i1), i1, i0)}((Composite{Switch(GE(Composite{Switch(LT(i0, i1), i2, i0)}(Composite{Switch(i0, (i1 + i2), i1)}(i0, i1, i2), i3, i4), i2), (i2 - i5), Composite{Switch(LT(i0, i1), i2, i0)}(Composite{Switch(i0, (i1 + i2), i1)}(i0, i1, i2), i3, i4))}(i1, i2, i3, i4, i5, i6) + i7), i4))) + i7)}}.0, Shape: (), ElemSize: 8 Byte(s), TotalSize: 8.0 Byte(s)\n - Elemwise{Composite{((i0 - Switch(LT(Composite{Switch(LT(i0, i1), i1, i0)}(Composite{Switch(LT(i0, i1), (i2 - i3), i0)}(Composite{((i0 - (Switch(LT(i1, i2), i2, i1) - i3)) - i3)}(i1, (i2 + i3), i4, i5), i4, i1, i5), i4), i6), Composite{Switch(LT(i0, i1), i1, i0)}(Composite{Switch(LT(i0, i1), (i2 - i3), i0)}(Composite{((i0 - (Switch(LT(i1, i2), i2, i1) - i3)) - i3)}(i1, (i2 + i3), i4, i5), i4, i1, i5), i4), i6)) + i3)}}.0, Shape: (), ElemSize: 8 Byte(s), TotalSize: 8.0 Byte(s)\n - Elemwise{sub,no_inplace}.0, Shape: (), ElemSize: 8 Byte(s), TotalSize: 8.0 Byte(s)\n - Elemwise{Composite{(((i0 - Switch(GE(Composite{Switch(LT(i0, i1), i2, i0)}(Composite{Switch(i0, (i1 + i2), i1)}(i1, i2, i3), i4, i5), i3), i3, Composite{Switch(LT(i0, i1), i2, i0)}(Composite{Switch(i0, (i1 + i2), i1)}(i1, i2, i3), i4, i5))) - i6) // i7)}}.0, Shape: (), ElemSize: 8 Byte(s), TotalSize: 8.0 Byte(s)\n - Elemwise{Composite{(Switch(LT(maximum(i0, i1), i2), (maximum(i0, i1) + i3), (maximum(i0, i1) - i2)) + i3)}}.0, Shape: (), ElemSize: 8 Byte(s), TotalSize: 8.0 Byte(s)\n - Shape_i{1}.0, Shape: (), ElemSize: 8 Byte(s), TotalSize: 8.0 Byte(s)\n - TensorConstant{9}, Shape: (), ElemSize: 8 Byte(s), TotalSize: 8.0 Byte(s)\n - TensorConstant{-1}, Shape: (), ElemSize: 8 Byte(s), TotalSize: 8.0 Byte(s)\n - Elemwise{sub,no_inplace}.0, Shape: (), ElemSize: 8 Byte(s), TotalSize: 8.0 Byte(s)\n - TensorConstant{3072}, Shape: (), ElemSize: 8 Byte(s), TotalSize: 8.0 Byte(s)\n - Elemwise{mul,no_inplace}.0, Shape: (), ElemSize: 8 Byte(s), TotalSize: 8.0 Byte(s)\n - TensorConstant{20}, Shape: (), ElemSize: 8 Byte(s), TotalSize: 8.0 Byte(s)\n - Elemwise{add,no_inplace}.0, Shape: (), ElemSize: 8 Byte(s), TotalSize: 8.0 Byte(s)\n - Elemwise{minimum,no_inplace}.0, Shape: (), ElemSize: 8 Byte(s), TotalSize: 8.0 Byte(s)\n - Elemwise{Composite{((i0 - i1) + i2)}}.0, Shape: (), ElemSize: 8 Byte(s), TotalSize: 8.0 Byte(s)\n - TensorConstant{1024}, Shape: (), ElemSize: 8 Byte(s), TotalSize: 8.0 Byte(s)\n - TensorConstant{36071}, Shape: (), ElemSize: 8 Byte(s), TotalSize: 8.0 Byte(s)\n - ScalarFromTensor.0, Shape: (), ElemSize: 8 Byte(s), TotalSize: 8.0 Byte(s)\n - TensorConstant{-2}, Shape: (), ElemSize: 8 Byte(s), TotalSize: 8.0 Byte(s)\n - TensorConstant{1}, Shape: (), ElemSize: 8 Byte(s), TotalSize: 8.0 Byte(s)\n - Shape_i{1}.0, Shape: (), ElemSize: 8 Byte(s), TotalSize: 8.0 Byte(s)\n - Elemwise{Composite{(((i0 - Switch(GE(Composite{Switch(LT(i0, i1), i2, i0)}(Composite{Switch(i0, (i1 + i2), i1)}(i1, i2, i3), i4, i5), i3), i3, Composite{Switch(LT(i0, i1), i2, i0)}(Composite{Switch(i0, (i1 + i2), i1)}(i1, i2, i3), i4, i5))) - i6) // i7)}}.0, Shape: (), ElemSize: 8 Byte(s), TotalSize: 8.0 Byte(s)\n - Constant{-1}, Shape: (), ElemSize: 8 Byte(s), TotalSize: 8.0 Byte(s)\n - Shape_i{1}.0, Shape: (), ElemSize: 8 Byte(s), TotalSize: 8.0 Byte(s)\n - <TensorType(float32, scalar)>, Shared Input, Shape: (), ElemSize: 4 Byte(s), TotalSize: 4.0 Byte(s)\n - CudaNdarrayConstant{[[ 0.89999998]]}, Shape: (1, 1), ElemSize: 4 Byte(s), TotalSize: 4 Byte(s)\n - CudaNdarrayConstant{10.0}, Shape: (), ElemSize: 4 Byte(s), TotalSize: 4.0 Byte(s)\n - <TensorType(int32, scalar)>, Input, Shape: (), ElemSize: 4 Byte(s), TotalSize: 4.0 Byte(s)\n - CudaNdarrayConstant{[[ 0.10000002]]}, Shape: (1, 1), ElemSize: 4 Byte(s), TotalSize: 4 Byte(s)\n - CudaNdarrayConstant{[[[ 0.01]]]}, Shape: (1, 1, 1), ElemSize: 4 Byte(s), TotalSize: 4 Byte(s)\n - CudaNdarrayConstant{0.899999976158}, Shape: (), ElemSize: 4 Byte(s), TotalSize: 4.0 Byte(s)\n - Constant{0.0}, Shape: (), ElemSize: 4 Byte(s), TotalSize: 4.0 Byte(s)\n - TensorConstant{0.0}, Shape: (), ElemSize: 4 Byte(s), TotalSize: 4.0 Byte(s)\n - CudaNdarrayConstant{0.0}, Shape: (), ElemSize: 4 Byte(s), TotalSize: 4.0 Byte(s)\n - CudaNdarrayConstant{[ 0.00099999]}, Shape: (1,), ElemSize: 4 Byte(s), TotalSize: 4 Byte(s)\n - GpuDimShuffle{x,x}.0, Shape: (1, 1), ElemSize: 4 Byte(s), TotalSize: 4 Byte(s)\n - CudaNdarrayConstant{1.00000001169e-07}, Shape: (), ElemSize: 4 Byte(s), TotalSize: 4.0 Byte(s)\n - CudaNdarrayConstant{1.0}, Shape: (), ElemSize: 4 Byte(s), TotalSize: 4.0 Byte(s)\n - CudaNdarrayConstant{[[ 0.]]}, Shape: (1, 1), ElemSize: 4 Byte(s), TotalSize: 4 Byte(s)\n - CudaNdarrayConstant{0.999000012875}, Shape: (), ElemSize: 4 Byte(s), TotalSize: 4.0 Byte(s)\n - TensorConstant{36071}, Shape: (), ElemSize: 4 Byte(s), TotalSize: 4.0 Byte(s)\n - GpuElemwise{Composite{((i0 * sqrt((i1 - (i2 ** i3)))) / (i1 - (i4 ** i3)))},no_inplace}.0, Shape: (), ElemSize: 4 Byte(s), TotalSize: 4.0 Byte(s)\n - <CudaNdarrayType(float32, scalar)>, Shared Input, Shape: (), ElemSize: 4 Byte(s), TotalSize: 4.0 Byte(s)\n - CudaNdarrayConstant{[[ 0.01]]}, Shape: (1, 1), ElemSize: 4 Byte(s), TotalSize: 4 Byte(s)\n - CudaNdarrayConstant{[ 0.10000002]}, Shape: (1,), ElemSize: 4 Byte(s), TotalSize: 4 Byte(s)\n - CudaNdarrayConstant{[ 0.89999998]}, Shape: (1,), ElemSize: 4 Byte(s), TotalSize: 4 Byte(s)\n - CudaNdarrayConstant{[[-1.]]}, Shape: (1, 1), ElemSize: 4 Byte(s), TotalSize: 4 Byte(s)\n - CudaNdarrayConstant{[[[  1.00000001e-10]]]}, Shape: (1, 1, 1), ElemSize: 4 Byte(s), TotalSize: 4 Byte(s)\n - CudaNdarrayConstant{9.99999974738e-06}, Shape: (), ElemSize: 4 Byte(s), TotalSize: 4.0 Byte(s)\n - GpuDimShuffle{x}.0, Shape: (1,), ElemSize: 4 Byte(s), TotalSize: 4 Byte(s)\n - CudaNdarrayConstant{[[ 0.00099999]]}, Shape: (1, 1), ElemSize: 4 Byte(s), TotalSize: 4 Byte(s)\n - CudaNdarrayConstant{[[[ 0.]]]}, Shape: (1, 1, 1), ElemSize: 4 Byte(s), TotalSize: 4 Byte(s)\n - GpuElemwise{sqr,no_inplace}.0, Shape: (1, 1), ElemSize: 4 Byte(s), TotalSize: 4 Byte(s)\n - TensorConstant{(1, 1) of 36069}, Shape: (1, 1), ElemSize: 4 Byte(s), TotalSize: 4 Byte(s)\n - TensorConstant{1.0}, Shape: (), ElemSize: 4 Byte(s), TotalSize: 4.0 Byte(s)\n - Constant{1.0}, Shape: (), ElemSize: 4 Byte(s), TotalSize: 4.0 Byte(s)\n - CudaNdarrayConstant{[[  9.99999994e-09]]}, Shape: (1, 1), ElemSize: 4 Byte(s), TotalSize: 4 Byte(s)\n - CudaNdarrayConstant{[  9.99999994e-09]}, Shape: (1,), ElemSize: 4 Byte(s), TotalSize: 4 Byte(s)\n - TensorConstant{(1, 1, 1) of 36070}, Shape: (1, 1, 1), ElemSize: 4 Byte(s), TotalSize: 4 Byte(s)\n - CudaNdarrayConstant{[[ 0.99900001]]}, Shape: (1, 1), ElemSize: 4 Byte(s), TotalSize: 4 Byte(s)\n - CudaNdarrayConstant{[ 0.99900001]}, Shape: (1,), ElemSize: 4 Byte(s), TotalSize: 4 Byte(s)\n - TensorConstant{1}, Shape: (), ElemSize: 4 Byte(s), TotalSize: 4.0 Byte(s)\n - TensorConstant{1024}, Shape: (), ElemSize: 2 Byte(s), TotalSize: 2.0 Byte(s)\n - TensorConstant{-1}, Shape: (), ElemSize: 1 Byte(s), TotalSize: 1.0 Byte(s)\n - TensorConstant{0}, Shape: (), ElemSize: 1 Byte(s), TotalSize: 1.0 Byte(s)\n - TensorConstant{3}, Shape: (), ElemSize: 1 Byte(s), TotalSize: 1.0 Byte(s)\n - TensorConstant{(1, 1) of 0}, Shape: (1, 1), ElemSize: 1 Byte(s), TotalSize: 1 Byte(s)\n - TensorConstant{2}, Shape: (), ElemSize: 1 Byte(s), TotalSize: 1.0 Byte(s)\n - TensorConstant{1}, Shape: (), ElemSize: 1 Byte(s), TotalSize: 1.0 Byte(s)\n - Elemwise{lt,no_inplace}.0, Shape: (), ElemSize: 1 Byte(s), TotalSize: 1.0 Byte(s)\n - TensorConstant{20}, Shape: (), ElemSize: 1 Byte(s), TotalSize: 1.0 Byte(s)\n - Elemwise{Composite{AND(LT(i0, i1), GT(i2, i1))}}.0, Shape: (), ElemSize: 1 Byte(s), TotalSize: 1.0 Byte(s)\n - TensorConstant{(1, 1) of True}, Shape: (1, 1), ElemSize: 1 Byte(s), TotalSize: 1 Byte(s)\n - Constant{1}, Shape: (), ElemSize: 1 Byte(s), TotalSize: 1.0 Byte(s)\n - Elemwise{le,no_inplace}.0, Shape: (), ElemSize: 1 Byte(s), TotalSize: 1.0 Byte(s)\n - TensorConstant{3}, Shape: (), ElemSize: 1 Byte(s), TotalSize: 1.0 Byte(s)\n TotalSize: 1685981947.0 Byte(s) 1.570 GB\n TotalSize inputs: 694709416.0 Byte(s) 0.647 GB\n\nHINT: Re-running with most Theano optimization disabled could give you a back-trace of when this node was created. This can be done with by setting the Theano flag 'optimizer=fast_compile'. If that does not work, Theano optimizations can be disabled with 'optimizer=None'."
     ]
    }
   ],
   "source": [
    "for epoch in range(200):\n",
    "    for _ in range(1):\n",
    "        for bx, by, respondent in generate_data(data_rows, speakers_list=speakers_list, n_iter=3, max_len=seq_len):\n",
    "            err = pg_trainer.train_step(bx, respondent, 20)\n",
    "            gen_train_errors.append(err)\n",
    "        print(\"Gen %.5f\"%err)\n",
    "    for _ in range(6):\n",
    "        for bx, by, respondent in generate_data(data_rows, speakers_list=speakers_list, n_iter=8, max_len=seq_len):\n",
    "            err, infoloss = conv_discriminator.train_step(bx, by, respondent, 20, sample_c(respondent))\n",
    "            discr_train_errors.append(err)\n",
    "            info_train_errors.append(infoloss)\n",
    "        print(\"Discr %.5f\"%err)\n"
   ]
  },
  {
   "cell_type": "code",
   "execution_count": 78,
   "metadata": {
    "collapsed": false
   },
   "outputs": [
    {
     "data": {
      "image/png": "[encoded data removed]",
      "text/plain": [
       "<matplotlib.figure.Figure at 0x7f2423f467d0>"
      ]
     },
     "metadata": {},
     "output_type": "display_data"
    }
   ],
   "source": [
    "plt.figure(figsize=(16, 4))\n",
    "plt.subplot(1, 3, 1)\n",
    "plt.title(\"Information\")\n",
    "plot_smoothed(info_train_errors, n=1000);\n",
    "plt.subplot(1, 3, 2)\n",
    "plt.title(\"Generator loss\")\n",
    "plot_smoothed(gen_train_errors, n=100)\n",
    "# plt.plot(gen_train_errors)\n",
    "plt.subplot(1, 3, 3)\n",
    "plt.title(\"Discriminator loss\")\n",
    "plot_smoothed(discr_train_errors, n=100)"
   ]
  },
  {
   "cell_type": "code",
   "execution_count": null,
   "metadata": {
    "collapsed": true
   },
   "outputs": [],
   "source": []
  },
  {
   "cell_type": "code",
   "execution_count": 60,
   "metadata": {
    "collapsed": false
   },
   "outputs": [
    {
     "data": {
      "text/plain": [
       "(['friend', 'timmy'],\n",
       " [\"you ' re the best friend in the whole world ! i ' m afraid you don ' t know\",\n",
       "  'timmy !'])"
      ]
     },
     "execution_count": 60,
     "metadata": {},
     "output_type": "execute_result"
    }
   ],
   "source": [
    "accuracy_in_names()"
   ]
  },
  {
   "cell_type": "code",
   "execution_count": 65,
   "metadata": {
    "collapsed": false
   },
   "outputs": [
    {
     "data": {
      "text/plain": [
       "(['tom', 'son', 'butters', 'timmy'],\n",
       " [\"tom , i ' m standing in south park , where the address has been reported and rapido\",\n",
       "  'thank you all . hey , this is a very simple answer , son . truth or human organization is',\n",
       "  \"ah i ' m token ' s friend . i ' m butters ' private friend in the world he\",\n",
       "  '_UNK_ timmy !'])"
      ]
     },
     "execution_count": 65,
     "metadata": {},
     "output_type": "execute_result"
    }
   ],
   "source": [
    "accuracy_in_names()"
   ]
  },
  {
   "cell_type": "code",
   "execution_count": 50,
   "metadata": {
    "collapsed": false
   },
   "outputs": [
    {
     "data": {
      "text/plain": [
       "array(7.384118961709744)"
      ]
     },
     "execution_count": 50,
     "metadata": {},
     "output_type": "execute_result"
    }
   ],
   "source": [
    "generator.get_perplexity_fn(bx, respondent, 20)"
   ]
  },
  {
   "cell_type": "code",
   "execution_count": 69,
   "metadata": {
    "collapsed": true
   },
   "outputs": [],
   "source": [
    "import pickle\n",
    "with open('test_batches.pcl', 'rb') as f:\n",
    "    test_batches = pickle.load(f)"
   ]
  },
  {
   "cell_type": "code",
   "execution_count": 72,
   "metadata": {
    "collapsed": false
   },
   "outputs": [
    {
     "data": {
      "image/png": "[encoded data removed]",
      "text/plain": [
       "<matplotlib.figure.Figure at 0x7f2423f50550>"
      ]
     },
     "metadata": {},
     "output_type": "display_data"
    },
    {
     "data": {
      "image/png": "[encoded data removed]",
      "text/plain": [
       "<matplotlib.figure.Figure at 0x7f2423f12090>"
      ]
     },
     "metadata": {},
     "output_type": "display_data"
    }
   ],
   "source": [
    "outs = []\n",
    "real_outs = []\n",
    "for bx, by, respondent in test_batches:\n",
    "    outs.append(get_discr_out_on_fake(bx, respondent, 20))\n",
    "    real_outs.append(get_discr_out_on_real(bx, by))\n",
    "outs = np.concatenate(outs)\n",
    "real_outs = np.concatenate(real_outs)\n",
    "plt.hist(outs, bins=100);\n",
    "plt.show()\n",
    "plt.hist(real_outs, bins=100);\n",
    "plt.show()"
   ]
  },
  {
   "cell_type": "code",
   "execution_count": 73,
   "metadata": {
    "collapsed": false
   },
   "outputs": [
    {
     "data": {
      "text/plain": [
       "0.98963281250000001"
      ]
     },
     "execution_count": 73,
     "metadata": {},
     "output_type": "execute_result"
    }
   ],
   "source": [
    "from sklearn.metrics import roc_auc_score\n",
    "roc_auc_score(len(outs) * [0] + len(real_outs) * [1], np.concatenate([outs, real_outs]))"
   ]
  },
  {
   "cell_type": "code",
   "execution_count": null,
   "metadata": {
    "collapsed": true
   },
   "outputs": [],
   "source": []
  },
  {
   "cell_type": "code",
   "execution_count": null,
   "metadata": {
    "collapsed": true
   },
   "outputs": [],
   "source": []
  },
  {
   "cell_type": "code",
   "execution_count": 81,
   "metadata": {
    "collapsed": false
   },
   "outputs": [
    {
     "name": "stdout",
     "output_type": "stream",
     "text": [
      "0.0768643\n",
      "GENERATED:  oho kay , others , you don ' t want to learn all your stupid stuff like that .\n",
      "0.374519\n",
      "GENERATED:  my name is billy , and i feel like i ' m deep inside some space ship . if i\n",
      "3.82923e-09\n",
      "GENERATED:  jesus christ . it was a real disease .\n",
      "0.00285682\n",
      "GENERATED:  skeeter . u - uh . it looks like the red mega man ' s pet won by a shark\n",
      "0.0367845\n",
      "GENERATED:  my name is cameron , and this is my name . . . my b - b - bu -\n",
      "1.01067e-08\n",
      "GENERATED:  this is earth day world\n",
      "1.73698e-10\n",
      "GENERATED:  my name is randy marsh . my name is sharon .\n",
      "2.36476e-16\n",
      "GENERATED:  hyeah !\n",
      "9.39646e-10\n",
      "GENERATED:  kyle broflovski . he ' s a very smart boy .\n",
      "4.76818e-11\n",
      "GENERATED:  peter\n"
     ]
    }
   ],
   "source": [
    "for i in range(10):\n",
    "    name_id = 439\n",
    "    name_batch =  phrase_to_matrix([[\"Hello\", \"Hello\", \"What is your name ? \"]], max_len=20)\n",
    "    #att_seqs = attention_discriminator.get_attention_fake(name_batch, [name_id], 20)\n",
    "    gen_answer, gen_reward = test_discr_fn(name_batch, [name_id], 20)\n",
    "    gen_answer = ' '.join(phrase_from_idx(gen_answer[0], crop_by_eos=True))\n",
    "    print gen_reward[0, 1]\n",
    "    print \"GENERATED: \", gen_answer"
   ]
  },
  {
   "cell_type": "code",
   "execution_count": 68,
   "metadata": {
    "collapsed": false
   },
   "outputs": [
    {
     "name": "stdout",
     "output_type": "stream",
     "text": [
      "my name is stan marsh . i ' m from the future .\n",
      "kyle broflovski .\n",
      "my name is randy marsh . i ' m a man from a long line . i ' m a\n",
      "kyle broflovski .\n",
      "my name is randy marsh . i ' m from the future .\n"
     ]
    }
   ],
   "source": [
    "temperature.set_value(np.float32(0.5))\n",
    "for i in range(5):\n",
    "    print(generator.reply([\"Hello!\", \"Hello\", \"What is your name ?\"], 439))\n",
    "    \n",
    "temperature.set_value(np.float32(1))"
   ]
  },
  {
   "cell_type": "code",
   "execution_count": 58,
   "metadata": {
    "collapsed": false
   },
   "outputs": [
    {
     "name": "stdout",
     "output_type": "stream",
     "text": [
      "1.89896e-10\n",
      "what ? _EOS_ ( no , fuck you ! she ' s my girl ! ) _EOS_ you ' re\n",
      "REAL:  this must be decided at the _UNK_ in _UNK_ !\n",
      "GENERATED:  i ' m just an ignorant asshole like you .\n",
      "2.31016e-13\n",
      "my god , you ' re right . _EOS_ _EOS_ how ' s it goin ' , fat ass ?\n",
      "REAL:  i haven ' t made any money yet .\n",
      "GENERATED:  wait , what a bunch of five - darra\n",
      "0.00412678\n",
      "\" give a hoot , don ' t pollute , \" m ' kay . _EOS_ hi , i '\n",
      "REAL:  alright kids , time to split up and go into the forest . let ' s divide you all up\n",
      "GENERATED:  please , give me a call . i ' ve got some chili fudge in your mom ' s office\n",
      "3.03877e-14\n",
      "whoa . . . _EOS_ i have been sent from japan to serve as your personal robot . _EOS_ you\n",
      "REAL:  yes . i will be your new best friend .\n",
      "GENERATED:  now drive faster !\n",
      "3.49266e-06\n",
      "all right , let ' s get the hell out of here ! _EOS_ _EOS_ aah ! run , dude\n",
      "REAL:  k ' plagh ! k ' plagh !\n",
      "GENERATED:  did he ever do that ? do you think he knows what it means ? !\n",
      "0.410501\n",
      "that ' s better . _EOS_ don ' t call _EOS_ uh , hello ? we are having a bake\n",
      "REAL:  wow , what a great audience . i just flew into south park . boy , are my crutches tired\n",
      "GENERATED:  nono , w - why did you come up and pick up the pan ? i gotta figure you out\n",
      "5.05004e-06\n",
      "my god , it ' s beautiful . it never fails to amaze me how i manage to overcome adversity\n",
      "REAL:  uhhh , i ' m not sure ; i never made one this big .\n",
      "GENERATED:  we are in\n",
      "2.09762e-05\n",
      "here we see the constellation called , \" the big dipper \" . if i project a drawing of a\n",
      "REAL:  \n",
      "GENERATED:  ,\n",
      "1.65728e-05\n",
      "well those aren ' t left hands . _EOS_ ohhh . _EOS_ nope , this isn ' t our man\n",
      "REAL:  ( hey ! help ! )\n",
      "GENERATED:  oh . watch kyle .\n",
      "0.0348084\n",
      "we ' re going to have to rethink cities ! _EOS_ now , it is easily operated using four flexigrip\n",
      "REAL:  . . . there we go . now , the final flexigrip is directly in front of the driver so\n",
      "GENERATED:  but our best is to make sure that veteran monitors are in control of something very dangerous !\n",
      "0.0528677\n",
      "oh yeah . there he is . that ' s jeffy . _EOS_ that don ' t look like a\n",
      "REAL:  hey , he - is that the only song he ' ll dance to ?\n",
      "GENERATED:  dude , i don ' t get it now . all i know was , he lived a long time\n",
      "0.0950333\n",
      "young man , i am the adult here , and i say you go _EOS_ look : you can stay\n",
      "REAL:  nononono ! you\n",
      "GENERATED:  hello , eric . you ' re a little confused . . . ' cause i was to stop by\n",
      "0.00143945\n",
      "kenny ! what ' s it doing ? _EOS_ this says \" maximum . \" _EOS_ we ' re bastards\n",
      "REAL:  dude , i told you something was up with this place !\n",
      "GENERATED:  nobody move ! this isn ' t gonna stop until we ' ve reached the union !\n",
      "0.0173899\n",
      "yes . yeh - yes she did . _EOS_ okay , and she ' s telling me there ' s\n",
      "REAL:  must be from somewhere else in the audience , then . uh , d ' uh , money ? is\n",
      "GENERATED:  hey uh , wait a minute . shouldn ' t you check out your future self ?\n",
      "6.27372e-07\n",
      "gaaah ! _EOS_ kyle ! _EOS_ yeah , it was the craziest thing . i hid myself on a plane\n",
      "REAL:  so dude , did cartman ' s idea work ?\n",
      "GENERATED:  okay , come on . i ' ll kill him .\n",
      "0.0681706\n",
      "_EOS_ it just so happens that mr . twig is far more stable than mr . hat could ever be\n",
      "REAL:  how\n",
      "GENERATED:  that ' s true . thank god for the cut - up girls at last year ' s eve .\n",
      "0.000371413\n",
      "it ' s finally over , cartman . you lost ! _EOS_ yeah . and now you can take that\n",
      "REAL:  boys , as president of the united states , i want to commend you for stopping the rebel uprising .\n",
      "GENERATED:  ow ! hey , wait a minute , does this mean i ' ll cheat .\n",
      "0.111369\n",
      "oh it ' s so good to have you acting like yourself again , sweetie . _EOS_ well , come\n",
      "REAL:  it ' s still in baggage claims !\n",
      "GENERATED:  ike , i ' m sorry i didn ' t do drugs , okay , you guys . you can\n",
      "2.93571e-08\n",
      "god did ! when he killed my wife ! _EOS_ all right , the person who had head lice needs\n",
      "REAL:  okay , whoever you are , you are now not only a _UNK_ , you ' re a liar !\n",
      "GENERATED:  b - b - bu - _UNK_ ! screw that ! i screwed up !\n",
      "0.00269585\n",
      "you in here , peter ? _EOS_ oh hay , paul . come on in and meet the broflovskis _EOS_\n",
      "REAL:  hello .\n",
      "GENERATED:  well sure . you got nothing against people from joining our cartoons . all they ever do is just dumb\n",
      "1.50049e-07\n",
      "yes , john travolta and tom cruise are big scientologist ' s . do you believe me nooow ? _EOS_\n",
      "REAL:  l . ron ?\n",
      "GENERATED:  ooo , _UNK_ - i ' m sorry .\n",
      "0.025702\n",
      "( well yep , that ' s what i think . ) _EOS_ yeah , maybe you ' re right\n",
      "REAL:  go ahead . we don ' t wanna be in their stupid commercial .\n",
      "GENERATED:  whoa . i told you , i don ' t wanna see how much you lose your time , jenner\n",
      "0.160668\n",
      "i kept the crap in my office , nursed it , fed it biddy . and soon biddy made him\n",
      "REAL:  that ' s why he ' s able to do so much , try to help so many people ,\n",
      "GENERATED:  dad , i know , but i don ' t know what else to do . he ' s just\n",
      "3.79884e-07\n",
      "so what ? ! _EOS_ so he got hiv like fifty years ago , and he ' s still totally\n",
      "REAL:  my god . . .\n",
      "GENERATED:  look , kid , i didn ' t know\n",
      "0.0248293\n",
      "kyle ! ! _EOS_ _UNK_ - _EOS_ please ! i didn ' t help the terrorists get into imaginationland !\n",
      "REAL:  that is for the council of nine to decide !\n",
      "GENERATED:  uhh , in the france - raising college - equipment , cows take us all in order to get our\n",
      "1.31472e-06\n",
      "oohh , you look great , hon . mommy ' s fat little piggy . _EOS_ _UNK_ ! _EOS_ okay\n",
      "REAL:  \n",
      "GENERATED:  okay , now that one little boy is shakey ' s\n",
      "3.4945e-25\n",
      "very funny ! _EOS_ hi , uh , i ' m a pepper , and i ' m wondering if\n",
      "REAL:  yeah .\n",
      "GENERATED:  heh kawaii ?\n",
      "1.42e-06\n",
      "are you joking ? ! _EOS_ well , you are a little late , like , i dunno , maybe\n",
      "REAL:  sounds good . now get the fuck out of here .\n",
      "GENERATED:  are you seriously askin ' me anything ? !\n",
      "0.204692\n",
      "there it is ! _EOS_ that ' s kenny with branches on his head . _EOS_ cartman , jakovasaurs are\n",
      "REAL:  well , what does that have to do with me being all the way out . . . ? wait\n",
      "GENERATED:  no , uh i don ' t know what to do . it ' s just a little cold .\n",
      "0.0639676\n",
      "kewl , nascar ! sweet ! _EOS_ \" [ _UNK_ ] \" oh , fuck my ass ! _EOS_ eric\n",
      "REAL:  all that work . . . all the effort i put in . . . i still wasn ' t\n",
      "GENERATED:  okay . i made a deal with kyle . hey ! come on ! we ' re not pirates ,\n",
      "1.36576e-05\n",
      "we ' re just having a hard time finding him . _EOS_ slash is not hard to find ! he\n",
      "REAL:  mr . peters , can i call you back ? our company accountant needs me . yes , he is\n",
      "GENERATED:  yeah . )\n",
      "1.35268e-07\n",
      "what ? _EOS_ using stem cells is like playing god . you should leave nature alone . _EOS_ and go\n",
      "REAL:  i ' m saying that sometimes you need to just live with the cards you ' re dealt , christopher\n",
      "GENERATED:  are you having a real laugh ?\n"
     ]
    }
   ],
   "source": [
    "gen_answers, gen_rewards = test_discr_fn(one_batch[0], one_batch[2], 20)\n",
    "gen_answers = [' '.join(phrase_from_idx(gen_answers[j], crop_by_eos=True)) for j in range(len(one_batch[1]))]\n",
    "answers =  [' '.join(phrase_from_idx(one_batch[1][j], crop_by_eos=True)) for j in range(len(one_batch[1]))]\n",
    "discr_reward = gen_rewards[:, 1]\n",
    "#att_seqs = attention_discriminator.get_attention_real(one_batch[0], one_batch[1])\n",
    "for i in range(one_batch[0].shape[0]):\n",
    "    print discr_reward[i]\n",
    "    print ' '.join(phrase_from_idx(one_batch[0][i]))\n",
    "    print \"REAL: \", answers[i]\n",
    "    print \"GENERATED: \", gen_answers[i]"
   ]
  },
  {
   "cell_type": "code",
   "execution_count": null,
   "metadata": {
    "collapsed": true
   },
   "outputs": [],
   "source": []
  },
  {
   "cell_type": "code",
   "execution_count": null,
   "metadata": {
    "collapsed": true
   },
   "outputs": [],
   "source": []
  },
  {
   "cell_type": "code",
   "execution_count": null,
   "metadata": {
    "collapsed": true
   },
   "outputs": [],
   "source": []
  },
  {
   "cell_type": "markdown",
   "metadata": {},
   "source": [
    "# Stuff"
   ]
  },
  {
   "cell_type": "code",
   "execution_count": null,
   "metadata": {
    "collapsed": true
   },
   "outputs": [],
   "source": [
    "from agentnet.learning.generic import get_values_for_actions\n",
    "\n",
    "class conv_log_gan_trainer:    \n",
    "    \n",
    "    rewards = T.log(conv_discriminator.output_on_fake[:, 1])\n",
    "    baseline = T.log(conv_discriminator.output_on_greedy_fake[:, 1])\n",
    "\n",
    "    advantage = rewards - baseline\n",
    "\n",
    "    policy = T.maximum(generator.probs, 1e-10)\n",
    "    log_policy = T.log(policy)\n",
    "    \n",
    "    #policy gradient\n",
    "    J = log_policy * advantage[:,None]\n",
    "    \n",
    "    loss = -J.mean()\n",
    "    \n",
    "    \n",
    "    #regularize with negative entropy\n",
    "    entropy = -T.sum(policy * log_policy, axis=-1)\n",
    "\n",
    "    loss -= 0.01 * entropy.mean()\n",
    "\n",
    "    grads = T.grad(loss, generator.weights)\n",
    "    grads = lasagne.updates.total_norm_constraint(grads, 10)\n",
    "\n",
    "    updates = lasagne.updates.adam(grads, model.weights, learning_rate=1e-5) \n",
    "\n",
    "    train_step = theano.function([encoder.input_sequence],loss,\n",
    "                                 updates = model.auto_updates+model.greedy_auto_updates+updates)"
   ]
  },
  {
   "cell_type": "code",
   "execution_count": 120,
   "metadata": {
    "collapsed": true
   },
   "outputs": [],
   "source": [
    "actions, policy = generator.out[:, :-1], generator.probs[:, :-1]\n",
    "policy = T.maximum(policy, 1e-10)\n",
    "\n",
    "def one_step_reward(step_idx, gen_out):\n",
    "    return get_output(conv_discriminator.discr, \n",
    "                                            {conv_discriminator.question: encoder.input_phrase,\n",
    "                                             conv_discriminator.answer: gen_out[:, :step_idx+1], \n",
    "                                          })[:, 1]\n",
    "\n",
    "def one_step_reward_and_value(step_idx, gen_out):\n",
    "    assert False, \"Implement me\"\n",
    "    #output_on_fake = get_output(discr, {question: encoder.input_phrase, answer: generator.out})\n",
    "    #output_on_real = get_output(discr, {question: encoder.input_phrase, answer: reference_answers_var})\n",
    "    curr_reward, state_value = get_output([conv_discriminator.l_prob, baseline_discriminator.l_prob], \n",
    "                                            {discriminator.l_in: generator.out[:, :step_idx+1], \n",
    "                                            discriminator.l_mask: get_mask_from_end_indicator(\n",
    "                                                                       T.eq(generator.out[:, :step_idx+1], EOS_ix)),\n",
    "                                           baseline_discriminator.l_in: gen_out[:, :step_idx+1], \n",
    "                                            baseline_discriminator.l_mask: get_mask_from_end_indicator(\n",
    "                                                                           T.eq(gen_out[:, :step_idx+1], EOS_ix))\n",
    "                                          })\n",
    "    \n",
    "    return (curr_reward[:, 1], state_value[:, 1])"
   ]
  },
  {
   "cell_type": "code",
   "execution_count": 125,
   "metadata": {
    "collapsed": true
   },
   "outputs": [],
   "source": [
    "rewards, scan_updates = theano.scan(one_step_reward, sequences=[theano.tensor.arange(seq_len)],\n",
    "                                       non_sequences=[actions])\n",
    "rewards = rewards.T[:, :-1]\n"
   ]
  },
  {
   "cell_type": "code",
   "execution_count": 126,
   "metadata": {
    "collapsed": false
   },
   "outputs": [],
   "source": [
    "from agentnet.learning import reinforce\n",
    "\n",
    "reinforce_loss = reinforce.get_elementwise_objective(policy, actions, rewards).mean()\n",
    "gen_updates = lasagne.updates.adam(reinforce_loss, generator.weights, learning_rate=0.001)\n",
    "train_pg_step = theano.function([encoder.input_phrase, person_id_var, generator.n_steps],\n",
    "                                rewards.mean(), updates=generator.recurrence.get_automatic_updates() + gen_updates,\n",
    "                              allow_input_downcast=True)"
   ]
  },
  {
   "cell_type": "code",
   "execution_count": 110,
   "metadata": {
    "collapsed": false
   },
   "outputs": [
    {
     "data": {
      "text/plain": [
       "((32, 20), (32, 20), (32,))"
      ]
     },
     "execution_count": 110,
     "metadata": {},
     "output_type": "execute_result"
    }
   ],
   "source": [
    "bx.shape, by.shape, respondent.shape"
   ]
  },
  {
   "cell_type": "code",
   "execution_count": 30,
   "metadata": {
    "collapsed": false
   },
   "outputs": [
    {
     "name": "stderr",
     "output_type": "stream",
     "text": [
      "/usr/local/lib/python2.7/dist-packages/ipykernel/__main__.py:10: FutureWarning: comparison to `None` will result in an elementwise object comparison in the future.\n"
     ]
    }
   ],
   "source": [
    "perplexity_values = []\n",
    "for bx, by, respondent in generate_data(data_rows, speakers_list=speakers_list, n_iter=100, max_len=seq_len):\n",
    "    perplexity_values.append(generator.get_perplexity_fn(bx, respondent, 20))"
   ]
  },
  {
   "cell_type": "code",
   "execution_count": 82,
   "metadata": {
    "collapsed": false
   },
   "outputs": [
    {
     "name": "stderr",
     "output_type": "stream",
     "text": [
      "/anaconda2/lib/python2.7/site-packages/ipykernel/__main__.py:10: FutureWarning: comparison to `None` will result in an elementwise object comparison in the future.\n"
     ]
    }
   ],
   "source": [
    "test_batches = [[bx, by, respondent] for bx, by, respondent in \n",
    "                generate_data(data_rows, speakers_list=speakers_list, n_iter=100, max_len=seq_len)]"
   ]
  },
  {
   "cell_type": "code",
   "execution_count": 83,
   "metadata": {
    "collapsed": true
   },
   "outputs": [],
   "source": [
    "# with open('test_batches.pcl', 'wb') as f:\n",
    "#     pickle.dump(test_batches, f)"
   ]
  },
  {
   "cell_type": "code",
   "execution_count": 37,
   "metadata": {
    "collapsed": true
   },
   "outputs": [],
   "source": [
    "with open('test_batches.pcl', 'rb') as f:\n",
    "    test_batches = pickle.load(f)"
   ]
  },
  {
   "cell_type": "code",
   "execution_count": 85,
   "metadata": {
    "collapsed": true
   },
   "outputs": [],
   "source": [
    "perplexity_values = []"
   ]
  },
  {
   "cell_type": "code",
   "execution_count": 89,
   "metadata": {
    "collapsed": false
   },
   "outputs": [],
   "source": [
    "for bx, by, respondent in test_batches:\n",
    "    perplexity_values.append(generator.get_perplexity_fn(bx, respondent, 20))"
   ]
  },
  {
   "cell_type": "code",
   "execution_count": 90,
   "metadata": {
    "collapsed": false
   },
   "outputs": [
    {
     "data": {
      "text/plain": [
       "10.436289622399606"
      ]
     },
     "execution_count": 90,
     "metadata": {},
     "output_type": "execute_result"
    }
   ],
   "source": [
    "np.mean(perplexity_values)"
   ]
  },
  {
   "cell_type": "code",
   "execution_count": 28,
   "metadata": {
    "collapsed": true
   },
   "outputs": [],
   "source": [
    "persona_based_loss = []\n"
   ]
  },
  {
   "cell_type": "code",
   "execution_count": 105,
   "metadata": {
    "collapsed": true
   },
   "outputs": [],
   "source": [
    "gen_train_errors = []\n",
    "discr_train_errors = []"
   ]
  },
  {
   "cell_type": "code",
   "execution_count": 51,
   "metadata": {
    "collapsed": false
   },
   "outputs": [
    {
     "data": {
      "text/plain": [
       "1266"
      ]
     },
     "execution_count": 51,
     "metadata": {},
     "output_type": "execute_result"
    }
   ],
   "source": [
    "name_to_ix['Mother']"
   ]
  },
  {
   "cell_type": "code",
   "execution_count": 52,
   "metadata": {
    "collapsed": true
   },
   "outputs": [],
   "source": [
    "mother_phrases_idxs = []\n",
    "for i, idx in enumerate(speakers_list):\n",
    "    if idx == 1266:\n",
    "        mother_phrases_idxs.append(i)"
   ]
  },
  {
   "cell_type": "code",
   "execution_count": 53,
   "metadata": {
    "collapsed": false
   },
   "outputs": [
    {
     "data": {
      "text/plain": [
       "[3079,\n",
       " 3082,\n",
       " 3084,\n",
       " 6993,\n",
       " 9316,\n",
       " 25085,\n",
       " 25089,\n",
       " 26662,\n",
       " 26664,\n",
       " 26666,\n",
       " 26668,\n",
       " 26670,\n",
       " 26675,\n",
       " 48338,\n",
       " 48340,\n",
       " 60755,\n",
       " 62422,\n",
       " 72981,\n",
       " 72983,\n",
       " 74786]"
      ]
     },
     "execution_count": 53,
     "metadata": {},
     "output_type": "execute_result"
    }
   ],
   "source": [
    "mother_phrases_idxs"
   ]
  },
  {
   "cell_type": "code",
   "execution_count": 54,
   "metadata": {
    "collapsed": false
   },
   "outputs": [
    {
     "data": {
      "text/plain": [
       "array([ 3076,  3079,  3081,  6990,  9313, 25082, 25086, 26659, 26661,\n",
       "       26663, 26665, 26667, 26672, 48335, 48337, 60752, 62419, 72978,\n",
       "       72980, 74783])"
      ]
     },
     "execution_count": 54,
     "metadata": {},
     "output_type": "execute_result"
    }
   ],
   "source": [
    "np.array(mother_phrases_idxs) - 3"
   ]
  },
  {
   "cell_type": "code",
   "execution_count": 55,
   "metadata": {
    "collapsed": true
   },
   "outputs": [],
   "source": [
    "mother_contexts = [[data_rows[idx-3], data_rows[idx-2], data_rows[idx-1]] for idx in mother_phrases_idxs]"
   ]
  },
  {
   "cell_type": "code",
   "execution_count": 57,
   "metadata": {
    "collapsed": false
   },
   "outputs": [
    {
     "name": "stdout",
     "output_type": "stream",
     "text": [
      "CONTEXT\n",
      "_UNK_ . could you have them turn up the light s a little , please ? [ the waiter goes away ] _EOS_\n",
      "oh , look at it , gerald . all the new families moving in . [ a new mexican restaurant - _UNK_ _UNK_ - is having its grand opening across the street ] our little town is all grown up . _EOS_\n",
      "where ' s that other taco plate ? we need it now . _EOS_\n",
      "ANSWER\n",
      "OUR: you want us to tell you what we want to do ?\n",
      "REAL: i ' m a little overwhelmed . _EOS_\n",
      "CONTEXT\n",
      "i ' m a little overwhelmed . _EOS_\n",
      "i know . but we ' ve put everything into moving here and starting this business , and we have to be impressive . [ walks up to the boy and gets down on one knee ] _UNK_ , you must help your mama however you can . we ' re not going back to that miserable place ! _EOS_\n",
      "i don ' t wanna go back either . _EOS_\n",
      "ANSWER\n",
      "OUR: i ' m not sure .\n",
      "REAL: okay , done . _EOS_\n",
      "CONTEXT\n",
      "i don ' t wanna go back either . _EOS_\n",
      "okay , done . _EOS_\n",
      "great ! [ rises and goes for the plates ] we really have to impress this customer . he ' s the local food critic . [ rushes the plates out to the dining area ] _EOS_\n",
      "ANSWER\n",
      "OUR: well , we ' re not going to be part of the family now , so we ' re not\n",
      "REAL: another one ? _EOS_\n",
      "CONTEXT\n",
      "get out ! _EOS_\n",
      "you son of a bitch ! rip it down ! get out ! _EOS_\n",
      "you lied to me , mother . you said it was the _EOS_\n",
      "ANSWER\n",
      "OUR: i told you , i ' m not a big deal . i ' m not a _UNK_ .\n",
      "REAL: _UNK_ , yes , but - _EOS_\n",
      "CONTEXT\n",
      "_EOS_\n",
      "yea ! / hooray ! / summer ! _EOS_\n",
      "_EOS_\n",
      "ANSWER\n",
      "OUR: well , it was just a dream .\n",
      "REAL: oh golly , kevin , honey . _EOS_\n",
      "CONTEXT\n",
      "you ' re not gonna make my daughter part of your cult ! _EOS_\n",
      "your daughter could die tomorrow , and then what ? ! _EOS_\n",
      "you ' re just a stupid little fat kid who thinks that - - _EOS_\n",
      "ANSWER\n",
      "OUR: hey , uh , guys , can we get to the clubhouse ?\n",
      "REAL: stephen ? _EOS_\n",
      "CONTEXT\n",
      "the lord has spoken again - uh ! o , forgive us , lord , for our sins - uh ! _EOS_\n",
      "forgive us , lord . _EOS_\n",
      "let us pray . _EOS_\n",
      "ANSWER\n",
      "OUR: we are not afraid to die . we are not .\n",
      "REAL: stephen ? _EOS_\n",
      "CONTEXT\n",
      "huh , where are we goin ' ? _EOS_\n",
      "we ' re gon ' tuh take cartman ' s kidney . _EOS_\n",
      "_EOS_\n",
      "ANSWER\n",
      "OUR: you ' re a good boy , stan .\n",
      "REAL: _EOS_\n",
      "CONTEXT\n",
      "_EOS_\n",
      "_EOS_\n",
      "mom . . . do you ever have those heavy flow days ? _EOS_\n",
      "ANSWER\n",
      "OUR: i think it ' s time for me to go to sleep .\n",
      "REAL: oh absolutely sweetheart , everybody does . _EOS_\n",
      "CONTEXT\n",
      "mom . . . do you ever have those heavy flow days ? _EOS_\n",
      "oh absolutely sweetheart , everybody does . _EOS_\n",
      "mom , remember the movie _EOS_\n",
      "ANSWER\n",
      "OUR: no !\n",
      "REAL: oh honey what you need is a more absorbent tampon . _EOS_\n",
      "CONTEXT\n",
      "mom , remember the movie _EOS_\n",
      "oh honey what you need is a more absorbent tampon . _EOS_\n",
      "like what ? _EOS_\n",
      "ANSWER\n",
      "OUR: it ' s alright .\n",
      "REAL: well , what ' s the most absorbent thing in the world ? _EOS_\n",
      "CONTEXT\n",
      "like what ? _EOS_\n",
      "well , what ' s the most absorbent thing in the world ? _EOS_\n",
      "well . . . cherokee hair i guess . _EOS_\n",
      "ANSWER\n",
      "OUR: yeah , i think we should go see the kids .\n",
      "REAL: _EOS_\n",
      "CONTEXT\n",
      "_EOS_\n",
      "_EOS_\n",
      "you were right mom ! all natural cherokee hair tampons really did the trick . _EOS_\n",
      "ANSWER\n",
      "OUR: _UNK_ - -\n",
      "REAL: and when you ' re done using them _EOS_\n",
      "CONTEXT\n",
      "oho , gingers , yes . our cute little red - haired rascals . _EOS_\n",
      "i ' m sorry , but i don ' t understand . you both have dark hair and brown eyes . _EOS_\n",
      "yes , we ' ve learned that the ginger gene is recessive in both our families ' dna . actually , the odds of us having a red - haired freckled child were only one in four . and still it happened . three times . what are the odds ? _EOS_\n",
      "ANSWER\n",
      "OUR: and what about our kids ?\n",
      "REAL: a lot of people carry the ginger gene and don ' t know . _EOS_\n",
      "CONTEXT\n",
      "yes , we ' ve learned that the ginger gene is recessive in both our families ' dna . actually , the odds of us having a red - haired freckled child were only one in four . and still it happened . three times . what are the odds ? _EOS_\n",
      "a lot of people carry the ginger gene and don ' t know . _EOS_\n",
      "each one of them ' s a blessing . _EOS_\n",
      "ANSWER\n",
      "OUR: this is an important message for us .\n",
      "REAL: oh yes , each one of them ' s a blessing . _EOS_\n",
      "CONTEXT\n",
      "so nice to see _UNK_ chinese peopull _UNK_ . as you can see , we are chinese peopull ourselves . _EOS_\n",
      "_UNK_ fong ting tong . _EOS_\n",
      "ting ton _UNK_ . _EOS_\n",
      "ANSWER\n",
      "OUR: and we ' re done with our lives . we ' re all in danger .\n",
      "REAL: what are they doing ? _EOS_\n",
      "CONTEXT\n",
      "no wait . _EOS_\n",
      "come on , hurry up . _EOS_\n",
      "i can ' t run . you go ahead , i ' ll catch up with ya . _EOS_\n",
      "ANSWER\n",
      "OUR: so , uh , you ' re gonna go for a ride ?\n",
      "REAL: here davey . _EOS_\n",
      "CONTEXT\n",
      "how do we do that ? _EOS_\n",
      "we get a bus . . . and then we . . . throw eric cartman under it . _EOS_\n",
      "_EOS_\n",
      "ANSWER\n",
      "OUR: _UNK_ !\n",
      "REAL: yes ? _EOS_\n",
      "CONTEXT\n",
      "_EOS_\n",
      "yes ? _EOS_\n",
      "hi . does a vernon _UNK_ live here ? _EOS_\n",
      "ANSWER\n",
      "OUR: _UNK_ - _UNK_ .\n",
      "REAL: yes , vernon ' s around somewhere . _EOS_\n",
      "CONTEXT\n",
      "awkwaaard ! _EOS_\n",
      "and this june , funnybot shows off his range by playing every role in . . . _EOS_\n",
      "pass me the potatoes , mother . _EOS_\n",
      "ANSWER\n",
      "OUR: oh , my god .\n",
      "REAL: pass them yourself . _EOS_\n"
     ]
    }
   ],
   "source": [
    "temperature.set_value(0.5)\n",
    "for i in range(len(mother_contexts)):\n",
    "    phrases = [' '.join(map(tokens.__getitem__, mother_contexts[i][j])) for j in range(3)]\n",
    "    print 'CONTEXT'\n",
    "    for j in range(3):\n",
    "        print phrases[j]\n",
    "    print 'ANSWER'\n",
    "    print 'OUR:', generator.reply(phrases, 1266)\n",
    "    print 'REAL:', ' '.join(map(tokens.__getitem__, data_rows[mother_phrases_idxs[i]]))"
   ]
  },
  {
   "cell_type": "code",
   "execution_count": 628,
   "metadata": {
    "collapsed": false
   },
   "outputs": [
    {
     "name": "stdout",
     "output_type": "stream",
     "text": [
      "CONTEXT\n",
      "_UNK_ . could you have them turn up the light s a little , please ? [ the waiter goes away ] _EOS_\n",
      "oh , look at it , gerald . all the new families moving in . [ a new mexican restaurant - _UNK_ _UNK_ - is having its grand opening across the street ] our little town is all grown up . _EOS_\n",
      "where ' s that other taco plate ? we need it now . _EOS_\n",
      "ANSWER\n",
      "OUR: hey , you can ' t just leave the kids alone . it ' s the last time i came\n",
      "REAL i ' m a little overwhelmed . _EOS_\n",
      "CONTEXT\n",
      "i ' m a little overwhelmed . _EOS_\n",
      "i know . but we ' ve put everything into moving here and starting this business , and we have to be impressive . [ walks up to the boy and gets down on one knee ] _UNK_ , you must help your mama however you can . we ' re not going back to that miserable place ! _EOS_\n",
      "i don ' t wanna go back either . _EOS_\n",
      "ANSWER\n",
      "OUR: what ? clyde ? clyde ? clyde ? clyde ? timmy ! you have to come out of the closet\n",
      "REAL okay , done . _EOS_\n",
      "CONTEXT\n",
      "i don ' t wanna go back either . _EOS_\n",
      "okay , done . _EOS_\n",
      "great ! [ rises and goes for the plates ] we really have to impress this customer . he ' s the local food critic . [ rushes the plates out to the dining area ] _EOS_\n",
      "ANSWER\n",
      "OUR: what ' s ridiculous about him ? [ turns around ] why would somebody die ? !\n",
      "REAL another one ? _EOS_\n",
      "CONTEXT\n",
      "get out ! _EOS_\n",
      "you son of a bitch ! rip it down ! get out ! _EOS_\n",
      "you lied to me , mother . you said it was the _EOS_\n",
      "ANSWER\n",
      "OUR: kids , you know what , uh ? i ' m gonna go get the child you sneak in to\n",
      "REAL _UNK_ , yes , but - _EOS_\n",
      "CONTEXT\n",
      "_EOS_\n",
      "yea ! / hooray ! / summer ! _EOS_\n",
      "_EOS_\n",
      "ANSWER\n",
      "OUR: how am i supposed to be the new neighbors that moved by city by two months ago ?\n",
      "REAL oh golly , kevin , honey . _EOS_\n",
      "CONTEXT\n",
      "you ' re not gonna make my daughter part of your cult ! _EOS_\n",
      "your daughter could die tomorrow , and then what ? ! _EOS_\n",
      "you ' re just a stupid little fat kid who thinks that - - _EOS_\n",
      "ANSWER\n",
      "OUR: fine ! you ' ll do it , eric !\n",
      "REAL stephen ? _EOS_\n",
      "CONTEXT\n",
      "the lord has spoken again - uh ! o , forgive us , lord , for our sins - uh ! _EOS_\n",
      "forgive us , lord . _EOS_\n",
      "let us pray . _EOS_\n",
      "ANSWER\n",
      "OUR: here he is , inspector butters here .\n",
      "REAL stephen ? _EOS_\n",
      "CONTEXT\n",
      "huh , where are we goin ' ? _EOS_\n",
      "we ' re gon ' tuh take cartman ' s kidney . _EOS_\n",
      "_EOS_\n",
      "ANSWER\n",
      "OUR: of course he is . the new ms . choksondik ed department records on the -\n",
      "REAL _EOS_\n",
      "CONTEXT\n",
      "_EOS_\n",
      "_EOS_\n",
      "mom . . . do you ever have those heavy flow days ? _EOS_\n",
      "ANSWER\n",
      "OUR: mom , i need to talk to you .\n",
      "REAL oh absolutely sweetheart , everybody does . _EOS_\n",
      "CONTEXT\n",
      "mom . . . do you ever have those heavy flow days ? _EOS_\n",
      "oh absolutely sweetheart , everybody does . _EOS_\n",
      "mom , remember the movie _EOS_\n",
      "ANSWER\n",
      "OUR: you should at this , you stand by . you must go to the bathroom , for instance . [\n",
      "REAL oh honey what you need is a more absorbent tampon . _EOS_\n",
      "CONTEXT\n",
      "mom , remember the movie _EOS_\n",
      "oh honey what you need is a more absorbent tampon . _EOS_\n",
      "like what ? _EOS_\n",
      "ANSWER\n",
      "OUR: mom , do you know what it is ?\n",
      "REAL well , what ' s the most absorbent thing in the world ? _EOS_\n",
      "CONTEXT\n",
      "like what ? _EOS_\n",
      "well , what ' s the most absorbent thing in the world ? _EOS_\n",
      "well . . . cherokee hair i guess . _EOS_\n",
      "ANSWER\n",
      "OUR: then it was for the sex club .\n",
      "REAL _EOS_\n",
      "CONTEXT\n",
      "_EOS_\n",
      "_EOS_\n",
      "you were right mom ! all natural cherokee hair tampons really did the trick . _EOS_\n",
      "ANSWER\n",
      "OUR: if you ' re gonna get kenny or your friend to go for somethin ' real quick , then you\n",
      "REAL and when you ' re done using them _EOS_\n",
      "CONTEXT\n",
      "oho , gingers , yes . our cute little red - haired rascals . _EOS_\n",
      "i ' m sorry , but i don ' t understand . you both have dark hair and brown eyes . _EOS_\n",
      "yes , we ' ve learned that the ginger gene is recessive in both our families ' dna . actually , the odds of us having a red - haired freckled child were only one in four . and still it happened . three times . what are the odds ? _EOS_\n",
      "ANSWER\n",
      "OUR: now , listen ! we have muhammad gone under and we are going to give muhammad to them . it\n",
      "REAL a lot of people carry the ginger gene and don ' t know . _EOS_\n",
      "CONTEXT\n",
      "yes , we ' ve learned that the ginger gene is recessive in both our families ' dna . actually , the odds of us having a red - haired freckled child were only one in four . and still it happened . three times . what are the odds ? _EOS_\n",
      "a lot of people carry the ginger gene and don ' t know . _EOS_\n",
      "each one of them ' s a blessing . _EOS_\n",
      "ANSWER\n",
      "OUR: there ' s nothing more we can do , kyle . if we don ' t go to milk cows\n",
      "REAL oh yes , each one of them ' s a blessing . _EOS_\n",
      "CONTEXT\n",
      "so nice to see _UNK_ chinese peopull _UNK_ . as you can see , we are chinese peopull ourselves . _EOS_\n",
      "_UNK_ fong ting tong . _EOS_\n",
      "ting ton _UNK_ . _EOS_\n",
      "ANSWER\n",
      "OUR: see the hot one , does the ?\n",
      "REAL what are they doing ? _EOS_\n",
      "CONTEXT\n",
      "no wait . _EOS_\n",
      "come on , hurry up . _EOS_\n",
      "i can ' t run . you go ahead , i ' ll catch up with ya . _EOS_\n",
      "ANSWER\n",
      "OUR: now , come on ! this is stupid ! get out of here !\n",
      "REAL here davey . _EOS_\n",
      "CONTEXT\n",
      "how do we do that ? _EOS_\n",
      "we get a bus . . . and then we . . . throw eric cartman under it . _EOS_\n",
      "_EOS_\n",
      "ANSWER\n",
      "OUR: kids eat well in the future .\n",
      "REAL yes ? _EOS_\n",
      "CONTEXT\n",
      "_EOS_\n",
      "yes ? _EOS_\n",
      "hi . does a vernon _UNK_ live here ? _EOS_\n",
      "ANSWER\n",
      "OUR: what is your name ?\n",
      "REAL yes , vernon ' s around somewhere . _EOS_\n",
      "CONTEXT\n",
      "awkwaaard ! _EOS_\n",
      "and this june , funnybot shows off his range by playing every role in . . . _EOS_\n",
      "pass me the potatoes , mother . _EOS_\n",
      "ANSWER\n",
      "OUR: that ' s it , kenny ! you have to leave now !\n",
      "REAL pass them yourself . _EOS_\n"
     ]
    }
   ],
   "source": [
    "temperature.set_value(0.5)\n",
    "for i in range(len(mother_contexts)):\n",
    "    phrases = [' '.join(map(tokens.__getitem__, mother_contexts[i][j])) for j in range(3)]\n",
    "    print 'CONTEXT'\n",
    "    for j in range(3):\n",
    "        print phrases[j]\n",
    "    print 'ANSWER'\n",
    "    print 'OUR:', generator.reply(phrases, 1266)\n",
    "    print 'REAL', ' '.join(map(tokens.__getitem__, data_rows[mother_phrases_idxs[i]]))"
   ]
  },
  {
   "cell_type": "code",
   "execution_count": null,
   "metadata": {
    "collapsed": true
   },
   "outputs": [],
   "source": []
  },
  {
   "cell_type": "code",
   "execution_count": null,
   "metadata": {
    "collapsed": true
   },
   "outputs": [],
   "source": [
    "temperature.set_value(0.5)\n",
    "for i in range(len(mother_contexts)):\n",
    "    phrases = [' '.join(map(tokens.__getitem__, mother_contexts[i][j])) for j in range(3)]\n",
    "    print 'CONTEXT'\n",
    "    for j in range(3):\n",
    "        print phrases[j]\n",
    "    print 'ANSWER'\n",
    "    print 'OUR:', generator.reply(phrases, 1266)\n",
    "    print 'REAL', ' '.join(map(tokens.__getitem__, data_rows[mother_phrases_idxs[i]]))"
   ]
  },
  {
   "cell_type": "code",
   "execution_count": 615,
   "metadata": {
    "collapsed": false
   },
   "outputs": [
    {
     "data": {
      "text/plain": [
       "array([[14726, 20, 18026, 501, 17596, 21478, 19, 0],\n",
       "       [21005, 11, 9040, 19, 0], [1648, 21063, 16, 0],\n",
       "       [1, 11, 33406, 11, 4475, 10, 0],\n",
       "       [20971, 12744, 11, 16499, 11, 14299, 19, 0], [28501, 16, 0],\n",
       "       [28501, 16, 0], [0], [20971, 645, 29290, 11, 10417, 8960, 19, 0],\n",
       "       [20971, 14299, 32704, 33467, 20205, 15711, 501, 19655, 651, 29541, 19, 0],\n",
       "       [32627, 11, 32704, 20, 25698, 29957, 19723, 651, 30032, 15024, 29957, 33159, 16, 0],\n",
       "       [0], [1528, 32736, 33467, 20, 24193, 9040, 31664, 29972, 0],\n",
       "       [501, 17818, 20924, 22094, 4926, 29957, 12546, 12374, 1528, 9026, 20, 29407, 16710, 19, 0],\n",
       "       [20971, 33406, 11, 9518, 21063, 20924, 29972, 20, 25698, 501, 3492, 19, 0],\n",
       "       [32704, 1885, 30015, 8981, 16, 0], [13955, 7782, 19, 0],\n",
       "       [33406, 16, 0], [33406, 11, 31917, 20, 25698, 1970, 27800, 19, 0],\n",
       "       [21814, 29972, 33481, 19, 0]], dtype=object)"
      ]
     },
     "execution_count": 615,
     "metadata": {},
     "output_type": "execute_result"
    }
   ],
   "source": [
    "data_rows[mother_phrases_idxs]"
   ]
  },
  {
   "cell_type": "code",
   "execution_count": 618,
   "metadata": {
    "collapsed": false
   },
   "outputs": [
    {
     "name": "stdout",
     "output_type": "stream",
     "text": [
      "i ' m a little overwhelmed . _EOS_\n",
      "okay , done . _EOS_\n",
      "another one ? _EOS_\n",
      "_UNK_ , yes , but - _EOS_\n",
      "oh golly , kevin , honey . _EOS_\n",
      "stephen ? _EOS_\n",
      "stephen ? _EOS_\n",
      "_EOS_\n",
      "oh absolutely sweetheart , everybody does . _EOS_\n",
      "oh honey what you need is a more absorbent tampon . _EOS_\n",
      "well , what ' s the most absorbent thing in the world ? _EOS_\n",
      "_EOS_\n",
      "and when you ' re done using them _EOS_\n",
      "a lot of people carry the ginger gene and don ' t know . _EOS_\n",
      "oh yes , each one of them ' s a blessing . _EOS_\n",
      "what are they doing ? _EOS_\n",
      "here davey . _EOS_\n",
      "yes ? _EOS_\n",
      "yes , vernon ' s around somewhere . _EOS_\n",
      "pass them yourself . _EOS_\n"
     ]
    }
   ],
   "source": [
    "for row in data_rows[mother_phrases_idxs]:\n",
    "    print ' '.join(map(tokens.__getitem__, row))"
   ]
  }
 ],
 "metadata": {
  "kernelspec": {
   "display_name": "Python 2",
   "language": "python",
   "name": "python2"
  },
  "language_info": {
   "codemirror_mode": {
    "name": "ipython",
    "version": 2
   },
   "file_extension": ".py",
   "mimetype": "text/x-python",
   "name": "python",
   "nbconvert_exporter": "python",
   "pygments_lexer": "ipython2",
   "version": "2.7.13"
  }
 },
 "nbformat": 4,
 "nbformat_minor": 0
}
