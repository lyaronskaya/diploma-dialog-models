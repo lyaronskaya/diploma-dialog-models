{
 "cells": [
  {
   "cell_type": "code",
   "execution_count": 2,
   "metadata": {
    "collapsed": false
   },
   "outputs": [],
   "source": [
    "%load_ext autoreload\n",
    "%autoreload 2"
   ]
  },
  {
   "cell_type": "code",
   "execution_count": 3,
   "metadata": {
    "collapsed": false
   },
   "outputs": [
    {
     "name": "stdout",
     "output_type": "stream",
     "text": [
      "env: THEANO_FLAGS=device=gpu3,floatX=float32\n"
     ]
    }
   ],
   "source": [
    "%env THEANO_FLAGS=device=gpu3,floatX=float32"
   ]
  },
  {
   "cell_type": "code",
   "execution_count": 4,
   "metadata": {
    "collapsed": false
   },
   "outputs": [
    {
     "name": "stderr",
     "output_type": "stream",
     "text": [
      "WARNING (theano.sandbox.cuda): The cuda backend is deprecated and will be removed in the next release (v0.10).  Please switch to the gpuarray backend. You can get more information about how to switch at this URL:\n",
      " https://github.com/Theano/Theano/wiki/Converting-to-the-new-gpu-back-end%28gpuarray%29\n",
      "\n",
      "ERROR (theano.sandbox.cuda): ERROR: Not using GPU. Initialisation of device 3 failed:\n",
      "initCnmem: cnmemInit call failed! Reason=CNMEM_STATUS_OUT_OF_MEMORY. numdev=1\n",
      "\n",
      "WARNING (theano.sandbox.cuda): The cuda backend is deprecated and will be removed in the next release (v0.10).  Please switch to the gpuarray backend. You can get more information about how to switch at this URL:\n",
      " https://github.com/Theano/Theano/wiki/Converting-to-the-new-gpu-back-end%28gpuarray%29\n",
      "\n",
      "Using gpu device 1: Tesla K80 (CNMeM is enabled with initial size: 19.0% of memory, cuDNN 5110)\n"
     ]
    }
   ],
   "source": [
    "import numpy as np\n",
    "import theano\n",
    "import theano.tensor as T\n",
    "import lasagne\n",
    "from lasagne.layers import *\n",
    "\n",
    "import matplotlib.pyplot as plt\n",
    "%matplotlib inline"
   ]
  },
  {
   "cell_type": "code",
   "execution_count": 4,
   "metadata": {
    "collapsed": false
   },
   "outputs": [],
   "source": [
    "#!mkdir sasha_rnn \n",
    "# !wget https://www.dropbox.com/s/fxbjs8gebdm7lkv/sp.json?dl=0 -O sp.json\n",
    "# !wget https://www.dropbox.com/s/ongjlpx798h8ysq/tinytitles.txt?dl=0 -O tinytitles.txt\n",
    "# !wget https://www.dropbox.com/s/fqhq3v7h1d67e4e/tokens.txt?dl=0 -O tokens.txt\n",
    "# !wget https://www.dropbox.com/s/l72wr3fqk3wio44/weights_persona.pcl?dl=0 -O weights_persona.pcl\n",
    "# !wget https://www.dropbox.com/s/pfg0lx5c17r68tw/weights.pcl?dl=0 -O weights.pkl\n",
    "# !wget https://www.dropbox.com/s/6igoxt5cji02m5e/names_new.txt?dl=0 -O names_new.txt"
   ]
  },
  {
   "cell_type": "markdown",
   "metadata": {},
   "source": [
    "# data"
   ]
  },
  {
   "cell_type": "code",
   "execution_count": 6,
   "metadata": {
    "collapsed": true
   },
   "outputs": [],
   "source": [
    "NAMES_FILENAME = \"names_new.txt\"\n",
    "TOKENS_FILENAME = \"tokens.txt\""
   ]
  },
  {
   "cell_type": "code",
   "execution_count": 7,
   "metadata": {
    "collapsed": false
   },
   "outputs": [],
   "source": [
    "with open(NAMES_FILENAME) as fin:\n",
    "    names = list(filter(len, fin.read().split('\\n')))"
   ]
  },
  {
   "cell_type": "code",
   "execution_count": 8,
   "metadata": {
    "collapsed": false
   },
   "outputs": [
    {
     "data": {
      "text/plain": [
       "['dr._oz',\n",
       " 'human_wendy',\n",
       " 'whoopi',\n",
       " 'kkk_leader',\n",
       " 'an_official',\n",
       " 'woodsy_owl',\n",
       " 'captain',\n",
       " 'ozzy',\n",
       " 'geraldo',\n",
       " 'male_anchor']"
      ]
     },
     "execution_count": 8,
     "metadata": {},
     "output_type": "execute_result"
    }
   ],
   "source": [
    "names[:10]"
   ]
  },
  {
   "cell_type": "code",
   "execution_count": 9,
   "metadata": {
    "collapsed": false
   },
   "outputs": [],
   "source": [
    "with open(TOKENS_FILENAME) as fin:\n",
    "    tokens = list(filter(len, fin.read().split('\\n'))) #[:33646]\n",
    "  \n",
    "tokens = tokens[:33646] + [name.strip('_').lower() for name in tokens[33646:]]\n",
    "\n",
    "\n",
    "tokens.append(\"_BOS_\") #beginning of sentence. Omitted in danet\n",
    "tokens.append(\"_PAD_\") #padding. Omitted in danet\n",
    "\n",
    "#tokens += names\n",
    "\n",
    "UNK_ix, BOS_ix, EOS_ix, PAD_ix = list(map(tokens.index, [\"_UNK_\",\"_BOS_\",\"_EOS_\",\"_PAD_\"]))\n",
    "n_tokens = len(tokens)\n",
    "\n",
    "from collections import defaultdict\n",
    "token_to_ix = defaultdict(lambda : UNK_ix, {t:i for i, t in enumerate(tokens)})"
   ]
  },
  {
   "cell_type": "code",
   "execution_count": 10,
   "metadata": {
    "collapsed": true
   },
   "outputs": [],
   "source": [
    "name_to_ix = defaultdict(lambda : UNK_ix, {t:i for i, t in enumerate(names)})"
   ]
  },
  {
   "cell_type": "code",
   "execution_count": 11,
   "metadata": {
    "collapsed": false
   },
   "outputs": [],
   "source": [
    "import regex\n",
    "import numpy as np\n",
    "\n",
    "def preprocess(lines, max_len=20, speaker=None, add_eos=True):\n",
    "    if type(lines) == (str):\n",
    "        lines = [lines]\n",
    "    \n",
    "    context=[]\n",
    "    for line in lines:\n",
    "        line = line.lower()\n",
    "        line = regex.sub(r'(\\p{P}|`|~)', r' \\1 ', line)\n",
    "        line_ix = list(map(token_to_ix.__getitem__, filter(len, line.split())))\n",
    "        if add_eos:\n",
    "            line_ix.append(EOS_ix)\n",
    "        context += line_ix\n",
    "            \n",
    "    if speaker is not None:\n",
    "        context.append(speaker)\n",
    "        \n",
    "    return context\n",
    "\n",
    "def ix_to_matrix(phrases_ix, max_len=None):\n",
    "    max_len = max_len or max(map(len,phrases_ix))\n",
    "    \n",
    "    matrix = np.zeros((len(phrases_ix),max_len),dtype='int32') + PAD_ix\n",
    "    \n",
    "    for i,phrase_ix in enumerate(phrases_ix):\n",
    "        matrix[i,:min(len(phrase_ix),max_len)] = phrase_ix[:max_len]\n",
    "        \n",
    "    return matrix\n",
    "\n",
    "def phrase_to_matrix(contexts, max_len=None, **kwargs):\n",
    "            \n",
    "    return ix_to_matrix([preprocess(phrases,**kwargs) for phrases in contexts], max_len=max_len)"
   ]
  },
  {
   "cell_type": "code",
   "execution_count": 12,
   "metadata": {
    "collapsed": false
   },
   "outputs": [
    {
     "data": {
      "text/plain": [
       "36071"
      ]
     },
     "execution_count": 12,
     "metadata": {},
     "output_type": "execute_result"
    }
   ],
   "source": [
    "len(tokens)"
   ]
  },
  {
   "cell_type": "code",
   "execution_count": 13,
   "metadata": {
    "collapsed": false
   },
   "outputs": [
    {
     "data": {
      "text/plain": [
       "array([[13885, 34723,    14,    14,    14,     0]], dtype=int32)"
      ]
     },
     "execution_count": 13,
     "metadata": {},
     "output_type": "execute_result"
    }
   ],
   "source": [
    "phrase_to_matrix([\"Hello dude!!!\"])"
   ]
  },
  {
   "cell_type": "code",
   "execution_count": null,
   "metadata": {
    "collapsed": true
   },
   "outputs": [],
   "source": [
    "def generate_data(data_rows, batch_size=32, speakers_list=None, context_length=3, max_len=20, n_iter=np.inf):\n",
    "    i=0\n",
    "\n",
    "    while True:\n",
    "        batch_ix = np.random.randint(0, len(data_rows) - context_length - 1, batch_size)\n",
    "        context_ix = batch_ix[:, None] + np.arange(context_length)[None, :]\n",
    "        answer_ix = batch_ix + context_length\n",
    "        batch_x = ix_to_matrix(list(map(np.concatenate, data_rows[context_ix])), max_len=max_len)\n",
    "        batch_y = ix_to_matrix(data_rows[answer_ix], max_len=max_len)\n",
    "        if speakers_list == None:\n",
    "            yield batch_x, batch_y\n",
    "        else:\n",
    "            respondent = speakers_list[answer_ix]\n",
    "            yield batch_x, batch_y, respondent\n",
    "        i+=1\n",
    "        if i >= n_iter:\n",
    "            break"
   ]
  },
  {
   "cell_type": "markdown",
   "metadata": {},
   "source": [
    "## Load data"
   ]
  },
  {
   "cell_type": "code",
   "execution_count": null,
   "metadata": {
    "collapsed": true
   },
   "outputs": [],
   "source": [
    "import json\n",
    "from pprint import pprint\n",
    "\n",
    "with open('sp.json', 'r') as fn:    \n",
    "    data = json.load(fn, encoding='cp1251')\n",
    "    \n",
    "import re\n",
    "numbers_regex = re.compile('#?[0-9]+')\n",
    "\n",
    "def preprocess_speaker_name(name):\n",
    "    try:\n",
    "        str(name)\n",
    "    except:\n",
    "        return ''\n",
    "    name_parts = map(str.lower, str(name).split())\n",
    "    filtered = filter(lambda part: not re.match(numbers_regex, part), name_parts)\n",
    "    return '_'.join(filtered)\n",
    "\n",
    "data_rows = np.array([preprocess(lines=[phrase[1]])\n",
    "                      for part in data for phrase in part['conversation'] if phrase[0] and phrase[1] \n",
    "                      and len(phrase[0]) > 2])\n",
    "\n",
    "speakers_list = np.array([name_to_ix[preprocess_speaker_name(phrase[0][:-2])]\n",
    "                      for part in data for phrase in part['conversation'] if phrase[0] and phrase[1] \n",
    "                          and len(phrase[0]) > 2])"
   ]
  },
  {
   "cell_type": "markdown",
   "metadata": {},
   "source": [
    "# model"
   ]
  },
  {
   "cell_type": "code",
   "execution_count": 14,
   "metadata": {
    "collapsed": false
   },
   "outputs": [],
   "source": [
    "from warnings import warn\n",
    "import numpy as np\n",
    "import theano\n",
    "theano.config.floatX='float32'\n",
    "import theano.tensor as T"
   ]
  },
  {
   "cell_type": "code",
   "execution_count": 15,
   "metadata": {
    "collapsed": true
   },
   "outputs": [],
   "source": [
    "theano.config.exception_verbosity='high'"
   ]
  },
  {
   "cell_type": "code",
   "execution_count": 16,
   "metadata": {
    "collapsed": false
   },
   "outputs": [],
   "source": [
    "grad_clipping = 5\n",
    "lstm_units = 1024\n",
    "emb_size = 512\n",
    "bottleneck_units = 256\n",
    "person_emb_size = 100\n",
    "seq_len = 20\n",
    "sampling_num = 5\n",
    "\n",
    "temperature = theano.shared(np.float32(1.))\n"
   ]
  },
  {
   "cell_type": "code",
   "execution_count": 26,
   "metadata": {
    "collapsed": false
   },
   "outputs": [],
   "source": [
    "from sasha_rnn.wrong_lstm_layer import WrongLSTMLayer\n",
    "from lasagne.layers import *\n",
    "\n",
    "class encoder:\n",
    "        \n",
    "    input_phrase = T.imatrix(\"encoder phrase tokens\")\n",
    "    \n",
    "    l_in = InputLayer((None,None), input_phrase, name='context input')\n",
    "    l_mask = InputLayer((None,None), T.neq(input_phrase, PAD_ix), 'context mask')\n",
    "    \n",
    "    l_emb = EmbeddingLayer(l_in, n_tokens, emb_size, name=\"context embedding\")\n",
    "    \n",
    "    \n",
    "    ####LSTMLayer with incorrect outputgate####\n",
    "    \n",
    "    l_lstm = WrongLSTMLayer(\n",
    "                        l_emb,\n",
    "                        lstm_units,\n",
    "                        name='encoder_lstm',\n",
    "                        grad_clipping=grad_clipping,\n",
    "                        mask_input=l_mask,\n",
    "                        only_return_final=True,\n",
    "                        peepholes=False)\n",
    "    \n",
    "    output = l_lstm\n",
    "\n"
   ]
  },
  {
   "cell_type": "code",
   "execution_count": 27,
   "metadata": {
    "collapsed": false
   },
   "outputs": [],
   "source": [
    "n_persons = len(names)\n",
    "person_id_var = T.ivector(\"personality idxs\")\n",
    "l_person_id = InputLayer((None,), person_id_var)\n",
    "l_person_emb = EmbeddingLayer(l_person_id, n_persons, person_emb_size, name=\"persona_based.emb\")"
   ]
  },
  {
   "cell_type": "code",
   "execution_count": 28,
   "metadata": {
    "collapsed": false
   },
   "outputs": [],
   "source": [
    "from sasha_rnn.wrong_lstm_cell import WrongLSTMCell\n",
    "from agentnet import Recurrence\n",
    "from agentnet.resolver import  ProbabilisticResolver\n",
    "\n",
    "class decoder:\n",
    "    prev_cell = InputLayer((None,lstm_units), name='cell')\n",
    "    prev_out = InputLayer((None,lstm_units), name='out')\n",
    "    \n",
    "    \n",
    "    \n",
    "    #input\n",
    "    inp_word = InputLayer((None,))\n",
    "    word_embedding = EmbeddingLayer(inp_word, n_tokens, emb_size,\n",
    "                                         W=encoder.l_emb.W, name='emb')\n",
    "    encoder_lstm = InputLayer((None, lstm_units), name='encoder')\n",
    "    person_emb = InputLayer((None, person_emb_size), name='persona_based.each_tick')\n",
    "    #l_gumbel = InputLayer((None, person_emb_size), name='person_based_with_gumbel')\n",
    "\n",
    "    #recurrent units\n",
    "    new_cell,new_out = WrongLSTMCell(prev_cell, prev_out,\n",
    "                                     input_or_inputs=[word_embedding, encoder_lstm, person_emb],\n",
    "                                     name='decoder_lstm', peepholes=False\n",
    "                                    )\n",
    "    \n",
    "\n",
    "    bottleneck = DenseLayer(new_out, bottleneck_units,\n",
    "                              nonlinearity=T.tanh,\n",
    "                              name='decoder intermediate')\n",
    "\n",
    "    \n",
    "    next_word_probs = DenseLayer(bottleneck, n_tokens,\n",
    "                                 nonlinearity=lambda probs: T.nnet.softmax(probs/temperature),\n",
    "                                 name='decoder next word probas')\n",
    "\n",
    "    next_words = ProbabilisticResolver(next_word_probs, assume_normalized=True)\n",
    "    \n",
    "    \n",
    "\n"
   ]
  },
  {
   "cell_type": "code",
   "execution_count": 29,
   "metadata": {
    "collapsed": true
   },
   "outputs": [],
   "source": [
    "def get_mask_from_end_indicator(end_indicator):\n",
    "    return T.concatenate([T.ones_like(end_indicator[:,:1]),\n",
    "                          T.eq(T.cumsum(end_indicator,axis=1), 0)[:,:-1]], axis=1)"
   ]
  },
  {
   "cell_type": "code",
   "execution_count": 30,
   "metadata": {
    "collapsed": false
   },
   "outputs": [],
   "source": [
    "class generator:\n",
    "    \n",
    "    n_steps = T.iscalar()\n",
    "    \n",
    "    bos_input_layer = InputLayer((None,),T.zeros((encoder.input_phrase.shape[0],), 'int32')+BOS_ix, name=\"first input\")\n",
    "\n",
    "    recurrence = Recurrence(\n",
    "                           input_nonsequences={decoder.encoder_lstm: encoder.output,\n",
    "                                               decoder.person_emb: l_person_emb},\n",
    "                           state_variables={decoder.new_cell: decoder.prev_cell,\n",
    "                                            decoder.new_out: decoder.prev_out,\n",
    "                                            decoder.next_words: decoder.inp_word},\n",
    "                           tracked_outputs=[decoder.next_words, decoder.next_word_probs, decoder.new_cell, \n",
    "                                            decoder.new_out],\n",
    "                           state_init={decoder.next_words: bos_input_layer},\n",
    "                           n_steps=n_steps,\n",
    "                           unroll_scan=False,)\n",
    "    \n",
    "    weights = get_all_params(recurrence, trainable=True)    \n",
    "    \n",
    "    rec_output = get_output(recurrence)\n",
    "\n",
    "    out, probs, cell_seq, out_seq = rec_output[decoder.next_words], T.maximum(rec_output[decoder.next_word_probs],1e-10),\\\n",
    "                                               rec_output[decoder.new_cell], rec_output[decoder.new_out]\n",
    "    \n",
    "    mask = get_mask_from_end_indicator(T.eq(out, EOS_ix))\n",
    "    auto_updates = recurrence.get_automatic_updates()\n",
    "    generate = theano.function([encoder.input_phrase, person_id_var, n_steps], out,\n",
    "                                updates=auto_updates)\n",
    "\n",
    "    #Greedy mode\n",
    "    greedy_out = get_output(recurrence[decoder.next_words], recurrence_flags={\"greedy\": True})\n",
    "    \n",
    "    greedy_auto_updates = recurrence.get_automatic_updates()\n",
    "    greedy_mask = get_mask_from_end_indicator(T.eq(greedy_out, EOS_ix))\n",
    "    \n",
    "    generate_greedy = theano.function([encoder.input_phrase, person_id_var, n_steps], greedy_out,\n",
    "                                       updates=greedy_auto_updates)\n",
    "    \n",
    "    #Perplexity\n",
    "    from agentnet.learning.generic import get_values_for_actions\n",
    "    choosen_probs = get_values_for_actions(probs, out)\n",
    "    perplexity = T.mean(T.power(2, -T.sum(T.log(choosen_probs), axis=-1) / n_steps))\n",
    "    \n",
    "    get_perplexity_fn = theano.function([encoder.input_phrase, person_id_var, n_steps], perplexity,\n",
    "                                updates=auto_updates, allow_input_downcast=True)\n",
    "\n",
    "\n",
    "    @staticmethod\n",
    "    def reply(phrase, person_id, max_len=20, **kwargs):\n",
    "        phrase_ix = phrase_to_matrix([phrase], **kwargs)\n",
    "        answer_ix = generator.generate(phrase_ix, [person_id], max_len)[0]\n",
    "        if EOS_ix in answer_ix:\n",
    "            answer_ix = answer_ix[:list(answer_ix).index(EOS_ix)]\n",
    "        return ' '.join(map(tokens.__getitem__, answer_ix))\n",
    "    \n",
    "    "
   ]
  },
  {
   "cell_type": "code",
   "execution_count": 22,
   "metadata": {
    "collapsed": false
   },
   "outputs": [],
   "source": [
    "from agentnet.utils.persistence import save, load\n",
    "#load(generator.recurrence, 'generator_ent_weights.pkl')\n",
    "\n",
    "import pickle\n",
    "with open(\"generator_ent_weights.pkl\", 'rb') as f:\n",
    "    d = pickle.load(f)\n",
    "    "
   ]
  },
  {
   "cell_type": "code",
   "execution_count": 31,
   "metadata": {
    "collapsed": false
   },
   "outputs": [],
   "source": [
    "for i, param in enumerate(get_all_params(generator.recurrence)):\n",
    "    if i == 0:\n",
    "        param.set_value(d[15])\n",
    "    elif i < 16:\n",
    "        param.set_value(d[i - 1])\n",
    "    else:\n",
    "        param.set_value(d[i])"
   ]
  },
  {
   "cell_type": "code",
   "execution_count": 32,
   "metadata": {
    "collapsed": false
   },
   "outputs": [
    {
     "name": "stdout",
     "output_type": "stream",
     "text": [
      "my name is harry and i ' m the president ' s old pal , but i ' m sure\n",
      "my name is dan snyder . i ' m a very special little boy .\n",
      "my name is dr . biber .\n",
      "my name is dr . biber .\n",
      "my name is dr . biber .\n"
     ]
    }
   ],
   "source": [
    "temperature.set_value(np.float32(0.5))\n",
    "for i in range(5):\n",
    "    print(generator.reply([\"Hello!\", \"Hello\", \"What is your name ?\"], 2484))\n",
    "    \n",
    "temperature.set_value(np.float32(1))"
   ]
  },
  {
   "cell_type": "code",
   "execution_count": 25,
   "metadata": {
    "collapsed": false
   },
   "outputs": [],
   "source": [
    "# for i, param in enumerate(get_all_params(generator.recurrence)):\n",
    "#     print param.name, param.get_value().shape #, d[i].shape"
   ]
  },
  {
   "cell_type": "code",
   "execution_count": 53,
   "metadata": {
    "collapsed": false
   },
   "outputs": [],
   "source": [
    "# for i, param in enumerate(get_all_params(generator.recurrence)):\n",
    "#     if i == 15:\n",
    "#         param.set_value(d[0])\n",
    "#     elif i < 15:\n",
    "#         param.set_value(d[i + 1])\n",
    "#     else:\n",
    "#         param.set_value(d[i])"
   ]
  },
  {
   "cell_type": "code",
   "execution_count": 21,
   "metadata": {
    "collapsed": false
   },
   "outputs": [],
   "source": [
    "#generator.get_perplexity_fn(bx, respondent, 20)"
   ]
  },
  {
   "cell_type": "code",
   "execution_count": 33,
   "metadata": {
    "collapsed": true
   },
   "outputs": [],
   "source": [
    "reference_answers = T.imatrix(\"decoder reference answers\")"
   ]
  },
  {
   "cell_type": "code",
   "execution_count": 66,
   "metadata": {
    "collapsed": false
   },
   "outputs": [],
   "source": [
    "from agentnet.memory import LSTMCell\n",
    "from custom_layers import *\n",
    "\n",
    "class attention_discriminator:\n",
    "    \n",
    "    question = T.imatrix(\"question var\")\n",
    "    l_question = InputLayer((None, None), name='question')\n",
    "\n",
    "    question_emb = EmbeddingLayer(l_question, n_tokens, emb_size, W=encoder.l_emb.W.get_value(), name='emb')\n",
    "#     l_left_context_rnn = LSTMLayer(l_emb, 32, mask_input=l_mask)\n",
    "#     l_right_context_rnn = LSTMLayer(l_emb, 32, mask_input=l_mask, backwards=True)\n",
    "#     l_word_with_context = concat([l_left_context_rnn, l_emb, l_right_context_rnn], axis=2)\n",
    "    \n",
    "    question_rnn = LSTMLayer(question_emb, 128)\n",
    "    \n",
    "    class answer_cell:\n",
    "\n",
    "        question_rnn_input = InputLayer((None, None, 128))\n",
    "\n",
    "        inp_word = InputLayer((None,))\n",
    "        emb = EmbeddingLayer(inp_word, n_tokens, emb_size, W=encoder.l_emb.W.get_value(), name='emb in discr answer cell')\n",
    "\n",
    "        prev_cell = InputLayer((None, 200))\n",
    "        prev_out = InputLayer((None, 200))\n",
    "        \n",
    "        #Unefficient attention\n",
    "        attention_weights = AttentionWeightsLayer(prev_cell, question_rnn_input, input_length=seq_len)\n",
    "        attention = AttentionContextLayer(attention_weights, question_rnn_input)\n",
    "        #attention = RNNAttentionLayer(prev_cell, question_rnn_input)\n",
    "        new_cell, new_out = LSTMCell(prev_cell, prev_out, input_or_inputs=[emb, attention_weights]) \n",
    "    \n",
    "        dense = DenseLayer(new_out, 200, nonlinearity=lasagne.nonlinearities.tanh)\n",
    "        l_prob = DenseLayer(dense, 2, nonlinearity=T.nnet.softmax)\n",
    "\n",
    "    answer = T.imatrix(\"answer var\")\n",
    "    l_answer = InputLayer((None, None), name='answer')\n",
    "    l_mask = InputLayer((None, None))\n",
    "    \n",
    "    recurrence = Recurrence(input_sequences={answer_cell.inp_word: l_answer},\n",
    "                            input_nonsequences={answer_cell.question_rnn_input: question_rnn},\n",
    "                           state_variables={answer_cell.new_cell: answer_cell.prev_cell,\n",
    "                                            answer_cell.new_out: answer_cell.prev_out},\n",
    "                           tracked_outputs=[answer_cell.l_prob, answer_cell.attention_weights],\n",
    "                           mask_input=l_mask,\n",
    "                           unroll_scan=False,)\n",
    "\n",
    "    \n",
    "    #Sampling mode\n",
    "    output_on_fake, attention_seq_fake = get_output(recurrence[answer_cell.l_prob, answer_cell.attention_weights], \n",
    "                                                                {l_question: encoder.input_phrase,\n",
    "                                                                 l_answer: generator.out, \n",
    "                                                                 l_mask: get_mask_from_end_indicator(T.eq(generator.out, EOS_ix))})\n",
    "    \n",
    "    #Greedy mode\n",
    "    output_on_greedy_fake, attention_seq_greedy_fake = get_output(recurrence[answer_cell.l_prob, answer_cell.attention_weights], \n",
    "                                                                {l_question: encoder.input_phrase,\n",
    "                                                                 l_answer: generator.greedy_out, \n",
    "                                                                 l_mask: get_mask_from_end_indicator(T.eq(generator.out, EOS_ix))})\n",
    "    \n",
    "    #Reference answers\n",
    "    train_output_on_real = get_output(recurrence[answer_cell.l_prob], \n",
    "                                                                {l_question: encoder.input_phrase,\n",
    "                                                                l_answer: reference_answers,\n",
    "                                                                 l_mask: T.neq(reference_answers, PAD_ix)})\n",
    "    output_on_real, attention_seq_real = get_output(recurrence[answer_cell.l_prob, answer_cell.attention_weights], \n",
    "                                                                {l_question: question,\n",
    "                                                                l_answer: reference_answers,\n",
    "                                                                 l_mask: T.neq(reference_answers, PAD_ix)})\n",
    "\n",
    "    loss = -T.log(output_on_fake[:, -1, 0]).sum() - T.log(train_output_on_real[:, -1, 1]).sum()\n",
    "\n",
    "    \n",
    "    weights = get_all_params(recurrence, trainable=True)\n",
    "    weights.remove(question_emb.W)\n",
    "    weights.remove(answer_cell.emb.W)\n",
    "    \n",
    "    updates = generator.auto_updates + lasagne.updates.adam(loss, weights, learning_rate=1e-4) \n",
    "    \n",
    "    train_step = theano.function([encoder.input_phrase, reference_answers, person_id_var, generator.n_steps], loss, \n",
    "                                 updates=updates, allow_input_downcast=True)\n",
    "    get_attention_real = theano.function([question, reference_answers], \n",
    "                                         attention_seq_real)\n",
    "    get_attention_fake = theano.function([encoder.input_phrase, person_id_var, generator.n_steps], \n",
    "                                         attention_seq_fake, updates=generator.auto_updates)"
   ]
  },
  {
   "cell_type": "code",
   "execution_count": 67,
   "metadata": {
    "collapsed": false
   },
   "outputs": [],
   "source": [
    "get_discr_out_on_fake = theano.function([encoder.input_phrase, person_id_var, generator.n_steps],\n",
    "                                        attention_discriminator.output_on_fake[:, -1, 1], updates=generator.auto_updates,\n",
    "                                        allow_input_downcast=True)\n",
    "\n",
    "get_discr_out_on_real = theano.function([attention_discriminator.question, reference_answers], \n",
    "                                        attention_discriminator.output_on_real[:, -1, 1],\n",
    "                                        allow_input_downcast=True)"
   ]
  },
  {
   "cell_type": "code",
   "execution_count": 86,
   "metadata": {
    "collapsed": true
   },
   "outputs": [],
   "source": [
    "test_discr_fn = theano.function([encoder.input_phrase, person_id_var, generator.n_steps], \n",
    "                                [generator.out, attention_discriminator.output_on_fake], \n",
    "                                updates=generator.auto_updates, allow_input_downcast=True)"
   ]
  },
  {
   "cell_type": "code",
   "execution_count": 69,
   "metadata": {
    "collapsed": false
   },
   "outputs": [
    {
     "data": {
      "text/plain": [
       "<agentnet.agent.recurrence.Recurrence at 0x7fbcfa4fe5d0>"
      ]
     },
     "execution_count": 69,
     "metadata": {},
     "output_type": "execute_result"
    }
   ],
   "source": [
    "#load(attention_discriminator.recurrence, 'pretrain_att_discr.pkl')\n",
    "load(attention_discriminator.recurrence, 'pretrain_att_discr_ent.pkl')"
   ]
  },
  {
   "cell_type": "code",
   "execution_count": 63,
   "metadata": {
    "collapsed": true
   },
   "outputs": [],
   "source": [
    "save(attention_discriminator.recurrence, 'att_discr_ent.pkl')"
   ]
  },
  {
   "cell_type": "code",
   "execution_count": 64,
   "metadata": {
    "collapsed": true
   },
   "outputs": [],
   "source": [
    "save(generator.recurrence, 'generator_pg_from_attention.pkl')"
   ]
  },
  {
   "cell_type": "code",
   "execution_count": 40,
   "metadata": {
    "collapsed": false,
    "scrolled": false
   },
   "outputs": [
    {
     "name": "stderr",
     "output_type": "stream",
     "text": [
      "/anaconda2/lib/python2.7/site-packages/ipykernel/__main__.py:10: FutureWarning: comparison to `None` will result in an elementwise object comparison in the future.\n"
     ]
    }
   ],
   "source": [
    "one_batch = generate_data(data_rows, speakers_list=speakers_list, n_iter=1, max_len=seq_len).next()"
   ]
  },
  {
   "cell_type": "code",
   "execution_count": 41,
   "metadata": {
    "collapsed": true
   },
   "outputs": [],
   "source": [
    "att_seqs = attention_discriminator.get_attention_real(one_batch[0], one_batch[1])"
   ]
  },
  {
   "cell_type": "code",
   "execution_count": 42,
   "metadata": {
    "collapsed": false
   },
   "outputs": [
    {
     "data": {
      "text/plain": [
       "<matplotlib.image.AxesImage at 0x7fbd1470c210>"
      ]
     },
     "execution_count": 42,
     "metadata": {},
     "output_type": "execute_result"
    },
    {
     "data": {
      "image/png": "[encoded data removed]",
      "text/plain": [
       "<matplotlib.figure.Figure at 0x7fbd16833cd0>"
      ]
     },
     "metadata": {},
     "output_type": "display_data"
    }
   ],
   "source": [
    "plt.imshow(att_seqs[:, 0])"
   ]
  },
  {
   "cell_type": "code",
   "execution_count": 73,
   "metadata": {
    "collapsed": true
   },
   "outputs": [],
   "source": [
    "pretrain_attention_discr_loss = []"
   ]
  },
  {
   "cell_type": "code",
   "execution_count": 93,
   "metadata": {
    "collapsed": false
   },
   "outputs": [
    {
     "name": "stderr",
     "output_type": "stream",
     "text": [
      "/anaconda2/lib/python2.7/site-packages/ipykernel/__main__.py:10: FutureWarning: comparison to `None` will result in an elementwise object comparison in the future.\n"
     ]
    },
    {
     "name": "stdout",
     "output_type": "stream",
     "text": [
      "45.21070\n",
      "37.41234\n",
      "40.79372\n",
      "38.87643\n",
      "41.50592\n",
      "41.54293\n",
      "40.37329\n",
      "36.68286\n",
      "41.82545\n",
      "42.08524\n",
      "45.68925\n",
      "36.50140\n",
      "33.86416\n",
      "38.55825\n",
      "40.43900\n",
      "38.95137\n",
      "43.49425\n",
      "45.41165\n",
      "40.43970\n",
      "44.95321\n",
      "39.27753\n",
      "42.53679\n",
      "41.26587\n",
      "37.74017\n",
      "41.13825\n",
      "38.34433\n",
      "42.16132\n",
      "40.53318\n",
      "36.61463\n",
      "39.77700\n",
      "38.35924\n",
      "43.18003\n",
      "39.08480\n",
      "41.12815\n",
      "41.13782\n",
      "38.94044\n",
      "42.27779\n",
      "42.29353\n",
      "39.46774\n",
      "42.02230\n",
      "40.48825\n",
      "41.77866\n",
      "39.02364\n",
      "39.84501\n",
      "36.71781\n",
      "38.04281\n",
      "41.97009\n",
      "38.01809\n",
      "38.21240\n",
      "43.89863\n",
      "40.41682\n",
      "36.34694\n",
      "40.96124\n",
      "42.45418\n",
      "43.89456\n",
      "36.21869\n",
      "41.98783\n",
      "39.73675\n",
      "40.89252\n",
      "39.95551\n",
      "38.74763\n",
      "41.30737\n",
      "39.41623\n",
      "36.14894\n",
      "41.70383\n",
      "37.78809\n",
      "37.44706\n",
      "41.72820\n",
      "41.84645\n",
      "41.04699\n",
      "42.15232\n",
      "35.18367\n",
      "42.88710\n",
      "44.07101\n",
      "41.13539\n",
      "39.86529\n",
      "38.72569\n",
      "34.63213\n",
      "39.21137\n",
      "40.49435\n",
      "38.98818\n",
      "37.28667\n",
      "37.96075\n",
      "35.53314\n",
      "42.71462\n",
      "40.25858\n",
      "43.32005\n",
      "35.78250\n",
      "39.60296\n",
      "41.85965\n",
      "41.67739\n",
      "37.18393\n",
      "40.78563\n",
      "39.70316\n",
      "39.96709\n",
      "40.56879\n",
      "39.75954\n",
      "38.28834\n",
      "44.88572\n",
      "38.31922\n",
      "40.56928\n",
      "36.70842\n",
      "37.69307\n",
      "36.73157\n",
      "40.12769\n",
      "39.57655\n",
      "36.10027\n",
      "42.09204\n",
      "40.71988\n",
      "39.66067\n",
      "41.65667\n",
      "40.02244\n",
      "41.56867\n",
      "40.64756\n",
      "39.83787\n",
      "37.76193\n",
      "41.88708\n",
      "42.20244\n",
      "39.04351\n",
      "41.85418\n",
      "42.30302\n",
      "38.24932\n",
      "38.45552\n",
      "36.80433\n",
      "42.58992\n",
      "39.30598\n",
      "39.64904\n",
      "43.41485\n",
      "35.75715\n",
      "40.74638\n",
      "45.42308\n",
      "40.08025\n",
      "39.15019\n",
      "34.96974\n",
      "40.83765\n",
      "41.18736\n",
      "41.14938\n",
      "39.98464\n",
      "38.72368\n",
      "40.41698\n",
      "39.95040\n",
      "38.19037\n",
      "37.58060\n",
      "40.86090\n",
      "40.84772\n",
      "42.09438\n",
      "43.96311\n",
      "32.15220\n",
      "45.68766\n",
      "38.41266\n",
      "39.74941\n",
      "39.05619\n",
      "40.18980\n",
      "39.63977\n",
      "42.37479\n",
      "46.50784\n",
      "37.81882\n",
      "39.14774\n",
      "43.14401\n",
      "35.84631\n",
      "41.95090\n",
      "36.15868\n",
      "38.06180\n",
      "43.63919\n",
      "43.60738\n",
      "37.78640\n",
      "41.00052\n",
      "41.66656\n",
      "43.08067\n",
      "43.95166\n",
      "36.49168\n",
      "39.55173\n",
      "45.83094\n",
      "39.16821\n",
      "41.10260\n",
      "43.46736\n",
      "43.30574\n",
      "35.59517\n",
      "38.25144\n",
      "37.49798\n",
      "39.97791\n",
      "41.92472\n",
      "37.57320\n",
      "40.37327\n",
      "38.58778\n",
      "37.98966\n",
      "41.59829\n",
      "35.70315\n",
      "41.95465\n",
      "37.01086\n",
      "40.50654\n",
      "40.36199\n",
      "41.50439\n",
      "40.46894\n",
      "39.50900\n",
      "40.60743\n",
      "37.98415\n",
      "44.07089\n",
      "39.60938\n",
      "42.33154\n",
      "36.52991\n",
      "40.39824\n",
      "40.23439\n",
      "43.64110\n",
      "47.63662\n",
      "39.75273\n",
      "42.28519\n",
      "36.87096\n",
      "39.52612\n",
      "42.35666\n",
      "41.59152\n",
      "40.12549\n",
      "40.52879\n",
      "37.87936\n",
      "38.03710\n",
      "39.62110\n",
      "43.84583\n",
      "36.75032\n",
      "39.16021\n",
      "36.79617\n",
      "40.58566\n",
      "38.74926\n",
      "36.91202\n",
      "40.33609\n",
      "38.80563\n",
      "37.15505\n",
      "40.82244\n",
      "36.73649\n",
      "41.42500\n",
      "43.06740\n",
      "37.32227\n",
      "38.22308\n",
      "38.25478\n",
      "42.70406\n",
      "35.33735\n",
      "37.55608\n",
      "41.15933\n",
      "40.45795\n",
      "40.13813\n",
      "41.27567\n",
      "39.44621\n",
      "39.97073\n",
      "38.67175\n",
      "43.24405\n",
      "40.13623\n",
      "39.91277\n",
      "40.99759\n",
      "42.13280\n",
      "37.02599\n",
      "38.40448\n",
      "39.45908\n",
      "42.24157\n",
      "41.85780\n",
      "39.42480\n",
      "39.38058\n",
      "39.14692\n",
      "42.41813\n",
      "38.24440\n",
      "33.74501\n",
      "41.96223\n",
      "41.12981\n",
      "40.08034\n",
      "41.90115\n",
      "36.41311\n",
      "37.89436\n",
      "41.14115\n",
      "40.48842\n",
      "40.88875\n",
      "38.96983\n",
      "38.10681\n",
      "40.41166\n",
      "45.24823\n",
      "39.84385\n",
      "41.05003\n",
      "38.81464\n",
      "42.69202\n",
      "43.30133\n",
      "44.56188\n",
      "36.21464\n",
      "48.94428\n",
      "40.15282\n",
      "40.97771\n",
      "39.23636\n",
      "40.05949\n",
      "38.49577\n",
      "43.05054\n",
      "35.89923\n",
      "37.49929\n",
      "43.55334\n",
      "41.33693\n",
      "36.85433\n",
      "42.91968\n",
      "49.45763\n",
      "39.90199\n",
      "40.97208\n",
      "39.09244\n",
      "40.50483\n",
      "36.97760\n",
      "38.26323\n",
      "37.97031\n",
      "41.80323\n",
      "41.04431\n",
      "38.01902\n",
      "39.91928\n",
      "41.40350\n",
      "38.49389\n",
      "39.00045\n",
      "41.61499\n",
      "40.05177\n",
      "42.83019\n",
      "38.06721\n",
      "35.02056\n",
      "41.29089\n",
      "40.80416\n",
      "40.54157\n",
      "40.46167\n",
      "41.81720\n",
      "38.11806\n",
      "40.49573\n",
      "41.83495\n",
      "37.80073\n",
      "41.99233\n",
      "37.05035\n",
      "37.64970\n",
      "42.18223\n",
      "41.45952\n",
      "43.18760\n",
      "42.15406\n",
      "33.21959\n",
      "39.10522\n",
      "40.08803\n",
      "41.14154\n",
      "41.00551\n",
      "43.73820\n",
      "37.98346\n",
      "31.83167\n",
      "41.52957\n",
      "40.07862\n",
      "40.07599\n",
      "37.49161\n",
      "39.72048\n",
      "36.89642\n",
      "32.83889\n",
      "38.99904\n",
      "39.14244\n",
      "41.40820\n",
      "39.20425\n",
      "42.81034\n",
      "37.53326\n",
      "36.48541\n",
      "38.20255\n",
      "38.45880\n",
      "41.61365\n",
      "38.25858\n",
      "42.24276\n",
      "40.59107\n",
      "42.27077\n",
      "36.27951\n",
      "42.35719\n",
      "41.51089\n",
      "38.66360\n",
      "39.18729\n",
      "39.99935\n",
      "38.89269\n",
      "39.83883\n",
      "39.16536\n",
      "39.00619\n",
      "36.37466\n",
      "41.33807\n",
      "39.60241\n",
      "45.62363\n",
      "37.89982\n",
      "38.03161\n",
      "38.51240\n",
      "34.88319\n",
      "42.82710\n",
      "38.34031\n",
      "37.12874\n",
      "37.18715\n",
      "40.07747\n",
      "35.79718\n",
      "36.98092\n",
      "36.32343\n",
      "38.67197\n",
      "38.81738\n",
      "41.65230\n",
      "40.18596\n",
      "38.04534\n",
      "36.10519\n",
      "38.04188\n",
      "40.85901\n",
      "36.84174\n",
      "39.85920\n",
      "41.19072\n",
      "37.49931\n",
      "39.62295\n",
      "41.28873\n",
      "48.53112\n",
      "46.52288\n",
      "40.38228\n",
      "38.90924\n",
      "36.90603\n",
      "42.30414\n",
      "42.68283\n",
      "44.62964\n",
      "41.06789\n",
      "39.75080\n",
      "39.26823\n",
      "39.52010\n",
      "37.24420\n",
      "39.37526\n",
      "42.85903\n",
      "40.03497\n",
      "38.68685\n",
      "42.93732\n",
      "39.98829\n",
      "39.84135\n",
      "41.04230\n",
      "37.15330\n",
      "37.53729\n",
      "40.59047\n",
      "43.78041\n",
      "41.99177\n",
      "36.64862\n",
      "38.12874\n",
      "39.85065\n",
      "41.49834\n",
      "40.47750\n",
      "34.92136\n",
      "39.52601\n",
      "39.64085\n",
      "38.85224\n",
      "36.50458\n",
      "38.81872\n",
      "42.56660\n",
      "42.22480\n",
      "40.93354\n",
      "40.63879\n",
      "36.67929\n",
      "41.28957\n",
      "39.27483\n",
      "42.19138\n",
      "40.32690\n",
      "42.10401\n",
      "41.84255\n",
      "39.73978\n",
      "39.25846\n",
      "45.33344\n",
      "40.32587\n",
      "35.23075\n",
      "40.92313\n",
      "46.96257\n",
      "40.75584\n",
      "38.81548\n",
      "38.40288\n",
      "38.28912\n",
      "40.59184\n",
      "41.30719\n",
      "41.48667\n",
      "38.84192\n",
      "42.59879\n",
      "39.08708\n",
      "40.69480\n",
      "38.36041\n",
      "44.63009\n",
      "42.36057\n",
      "43.74313\n",
      "41.56774\n",
      "38.92448\n",
      "36.98734\n",
      "43.64786\n",
      "39.18527\n",
      "37.91523\n",
      "40.06124\n",
      "40.23748\n",
      "40.79790\n",
      "41.04102\n",
      "39.48714\n",
      "39.06678\n",
      "38.20734\n",
      "43.46318\n",
      "42.73793\n",
      "40.86271\n",
      "41.10117\n",
      "37.15049\n",
      "43.83833\n",
      "41.11752\n",
      "40.39520\n",
      "41.14523\n",
      "39.87932\n",
      "40.23016\n",
      "41.33353\n",
      "43.88353\n",
      "40.36996\n",
      "37.77930\n",
      "40.46363\n",
      "41.58580\n",
      "41.61934\n",
      "34.74262\n",
      "38.83695\n",
      "37.43811\n",
      "39.59104\n",
      "40.49046\n",
      "39.41037\n",
      "35.83760\n",
      "40.85187\n",
      "43.24139\n",
      "39.82769\n",
      "41.34935\n",
      "42.19489\n",
      "36.54428\n",
      "40.53191\n",
      "38.75395\n",
      "38.54931\n",
      "39.07108\n",
      "37.28462\n",
      "38.38900\n",
      "38.52328\n",
      "44.84967\n",
      "38.76876\n",
      "43.51970\n",
      "38.89208\n",
      "38.54628\n",
      "41.02663\n",
      "35.98608\n",
      "37.94205\n",
      "44.81720\n",
      "38.97031\n",
      "39.89357\n",
      "39.50082\n",
      "40.64382\n",
      "39.15131\n",
      "41.70195\n",
      "38.94952\n",
      "43.87859\n",
      "46.69257\n",
      "35.28213\n",
      "42.94975\n",
      "40.75201\n",
      "40.24355\n",
      "40.13296\n",
      "41.34837\n",
      "38.81860\n",
      "38.74797\n",
      "35.77362\n",
      "36.45022\n",
      "38.94475\n",
      "38.56985\n",
      "40.91698\n",
      "37.60161\n",
      "40.28206\n",
      "42.82901\n",
      "38.91623\n",
      "39.57817\n",
      "38.12740\n",
      "39.05999\n",
      "41.29313\n",
      "37.65226\n",
      "40.24036\n",
      "39.55154\n",
      "40.16847\n",
      "37.63039\n",
      "41.82124\n",
      "36.93804\n",
      "37.17295\n",
      "34.48841\n",
      "40.03410\n",
      "43.13653\n",
      "39.25087\n",
      "37.53009\n",
      "39.17728\n",
      "37.60845\n",
      "38.23605\n",
      "38.79635\n",
      "40.11185\n",
      "37.62730\n",
      "41.57495\n",
      "37.46532\n",
      "42.83091\n",
      "40.87270\n",
      "38.76393\n",
      "43.11302\n",
      "38.23121\n",
      "38.40663\n",
      "38.01325\n",
      "41.07447\n",
      "36.35571\n",
      "39.57620\n",
      "36.26900\n",
      "39.90418\n",
      "42.80853\n",
      "39.02750\n",
      "34.77842\n",
      "43.09227\n",
      "40.57608\n",
      "38.66052\n",
      "41.40977\n",
      "40.51103\n",
      "41.10519\n",
      "41.07975\n",
      "36.17579\n",
      "40.47775\n",
      "40.92910\n",
      "40.46122\n",
      "40.26973\n",
      "39.21157\n",
      "38.74113\n",
      "42.32696\n",
      "41.22342\n",
      "45.43109\n",
      "44.92576\n",
      "40.06785\n",
      "38.32846\n",
      "38.80854\n",
      "38.72950\n",
      "43.01443\n",
      "40.43350\n",
      "38.55558\n",
      "41.87535\n",
      "40.97169\n",
      "39.79034\n",
      "41.99560\n",
      "42.62231\n",
      "38.24051\n",
      "33.40699\n",
      "44.40433\n",
      "42.04843\n",
      "44.39503\n",
      "39.48427\n",
      "45.70969\n",
      "37.09959\n",
      "38.56966\n",
      "43.81145\n",
      "42.16927\n",
      "39.82991\n",
      "45.20719\n",
      "41.53296\n",
      "43.73770\n",
      "42.02650\n",
      "44.17849\n",
      "43.13663\n",
      "41.90890\n",
      "38.96044\n",
      "36.65084\n",
      "37.18217\n",
      "43.70253\n",
      "38.68866\n",
      "41.18272\n",
      "36.44580\n",
      "39.02481\n",
      "35.66579\n",
      "40.17852\n",
      "38.60273\n",
      "39.31871\n",
      "40.85638\n",
      "36.06047\n",
      "35.80506\n",
      "42.76703\n",
      "40.15694\n",
      "39.03545\n",
      "39.79607\n",
      "39.03220\n",
      "41.07389\n",
      "38.84659\n",
      "39.63271\n",
      "40.48030\n",
      "38.62436\n",
      "41.48689\n",
      "38.32894\n",
      "38.31606\n",
      "39.41454\n",
      "41.68102\n",
      "36.52662\n",
      "41.91880\n",
      "43.05020\n",
      "41.19328\n",
      "38.50373\n",
      "38.84814\n",
      "38.34747\n",
      "42.11241\n",
      "38.74508\n",
      "41.34116\n",
      "41.95744\n",
      "43.40169\n",
      "40.60132\n",
      "43.18649\n",
      "40.36533\n",
      "39.93263\n",
      "41.54094\n",
      "41.32557\n",
      "37.83829\n",
      "40.05682\n",
      "36.67487\n",
      "35.10284\n",
      "41.69948\n",
      "40.90875\n",
      "39.51202\n",
      "41.34502\n",
      "40.26768\n",
      "41.20373\n",
      "38.35526\n",
      "39.28635\n",
      "36.51067\n",
      "43.32081\n",
      "40.59066\n",
      "44.35667\n",
      "43.89165\n",
      "41.58992\n",
      "39.87209\n",
      "38.94297\n",
      "43.23079\n",
      "40.96167\n",
      "45.12571\n",
      "41.91811\n",
      "36.93756\n",
      "40.47857\n",
      "43.24741\n",
      "40.38034\n",
      "37.21917\n",
      "40.84328\n",
      "38.47796\n",
      "39.28207\n",
      "40.40320\n",
      "40.02740\n",
      "39.06409\n",
      "41.74423\n",
      "38.08730\n",
      "41.22702\n",
      "40.09223\n",
      "40.59279\n",
      "41.63486\n",
      "44.60935\n",
      "41.30264\n",
      "43.44885\n",
      "44.37459\n",
      "45.24118\n",
      "39.71146\n",
      "36.63633\n",
      "42.67258\n",
      "38.92865\n",
      "41.33006\n",
      "42.37917\n",
      "41.02067\n",
      "41.99113\n",
      "39.42682\n",
      "43.03549\n",
      "40.62163\n",
      "39.67841\n",
      "37.90959\n",
      "39.12428\n",
      "39.97557\n",
      "38.56072\n",
      "42.95836\n",
      "40.44299\n",
      "38.84222\n",
      "44.85426\n",
      "40.21604\n",
      "41.48042\n",
      "36.71352\n",
      "41.68287\n",
      "40.63988\n",
      "34.68565\n",
      "39.96911\n",
      "37.13992\n",
      "36.25287\n",
      "39.21117\n",
      "33.80141\n",
      "41.28247\n",
      "44.29338\n",
      "39.78848\n",
      "38.06215\n",
      "37.84304\n",
      "40.17304\n",
      "43.68334\n",
      "42.68037\n",
      "38.74723\n",
      "42.29647\n",
      "41.60245\n",
      "41.12744\n",
      "39.67560\n",
      "38.28496\n",
      "38.29421\n",
      "41.86816\n",
      "38.90499\n",
      "39.54876\n",
      "40.43700\n",
      "40.10010\n",
      "39.65381\n",
      "43.15493\n",
      "37.42716\n",
      "40.61646\n",
      "40.39737\n",
      "41.79034\n",
      "39.99586\n",
      "34.23134\n",
      "44.34882\n",
      "44.78488\n",
      "43.08322\n",
      "37.01757\n",
      "39.63528\n",
      "40.99052\n",
      "43.32942\n",
      "39.36702\n",
      "41.66753\n",
      "38.62418\n",
      "40.05788\n",
      "42.88580\n",
      "41.70530\n",
      "41.60733\n",
      "38.90970\n",
      "40.61669\n",
      "38.32127\n",
      "41.57111\n",
      "37.65285\n",
      "37.62556\n",
      "39.14861\n",
      "42.33080\n",
      "37.52332\n",
      "34.78072\n",
      "40.01653\n",
      "40.33250\n",
      "39.26511\n",
      "41.94259\n",
      "35.71955\n",
      "40.85563\n",
      "40.87390\n",
      "37.54450\n",
      "44.35774\n",
      "39.59317\n",
      "39.02538\n",
      "35.41143\n",
      "45.15891\n",
      "42.68517\n",
      "39.38523\n",
      "40.12176\n",
      "36.29740\n",
      "44.56007\n",
      "36.16996\n",
      "47.77342\n",
      "38.32422\n",
      "37.62580\n",
      "38.80593\n",
      "40.73258\n",
      "42.23249\n",
      "40.93240\n",
      "37.21731\n",
      "37.95537\n",
      "36.26114\n",
      "41.02781\n",
      "42.59470\n",
      "44.32980\n",
      "41.91968\n",
      "37.71320\n",
      "44.10836\n",
      "40.45210\n",
      "39.10331\n",
      "42.83472\n",
      "41.43884\n",
      "36.16917\n",
      "41.69541\n",
      "39.04880\n",
      "40.02597\n",
      "37.31386\n",
      "37.96233\n",
      "36.70609\n",
      "39.35576\n",
      "35.80373\n",
      "37.02974\n",
      "40.71840\n",
      "39.23245\n",
      "44.49023\n",
      "41.26386\n",
      "41.54638\n",
      "38.60027\n",
      "40.92962\n",
      "42.36320\n",
      "40.04813\n",
      "40.13031\n",
      "39.33839\n",
      "48.65948\n",
      "35.49183\n",
      "35.27217\n",
      "41.25059\n",
      "39.28836\n",
      "39.91549\n",
      "42.56586\n",
      "39.91758\n",
      "42.05075\n",
      "41.34140\n",
      "38.92151\n",
      "38.92200\n",
      "39.15439\n",
      "39.04403\n",
      "34.77267\n",
      "42.50585\n",
      "39.23093\n",
      "41.63113\n",
      "41.31456\n",
      "36.60863\n",
      "36.13605\n",
      "36.69607\n",
      "43.99004\n",
      "40.59126\n",
      "41.71439\n",
      "39.88373\n",
      "42.27327\n",
      "40.04648\n",
      "35.58677\n",
      "37.46610\n",
      "42.23367\n",
      "43.30068\n",
      "38.87870\n",
      "39.09723\n",
      "40.58577\n",
      "39.48191\n",
      "40.00564\n",
      "36.66362\n",
      "36.74520\n",
      "36.49792\n",
      "40.01021\n",
      "44.63565\n",
      "41.02486\n",
      "38.93949\n",
      "36.00622\n",
      "40.55807\n",
      "32.96016\n",
      "41.94018\n",
      "39.32139\n",
      "33.50961\n",
      "38.97018\n",
      "35.41515\n",
      "38.93221\n",
      "38.66334\n",
      "45.16658\n",
      "40.31068\n",
      "37.00147\n",
      "38.84869\n",
      "43.25990\n",
      "42.15243\n",
      "39.76811\n",
      "39.27988\n",
      "44.49591\n",
      "45.89885\n",
      "38.51371\n",
      "41.99578\n",
      "34.06900\n",
      "40.17960\n",
      "38.44938\n",
      "35.21793\n",
      "34.18002\n",
      "41.49189\n",
      "33.27174\n",
      "39.12578\n",
      "42.37265\n",
      "40.72237\n",
      "37.97535\n",
      "42.86617\n",
      "39.49945\n",
      "37.29712\n",
      "42.99753\n",
      "36.90030\n",
      "40.23548\n",
      "34.74539\n",
      "38.82053\n",
      "37.47122\n",
      "42.30736\n",
      "42.65923\n",
      "38.82493\n",
      "40.42701\n",
      "41.80342\n",
      "35.29791\n",
      "41.38615\n",
      "38.83164\n",
      "37.24577\n",
      "37.36089\n",
      "38.95438\n",
      "41.30592\n",
      "37.39327\n",
      "41.70720\n",
      "38.46365\n",
      "36.53251\n",
      "42.02168\n",
      "42.78790\n",
      "34.03724\n",
      "39.84161\n",
      "44.39105\n",
      "43.69913\n",
      "39.47763\n",
      "38.87513\n",
      "38.39838\n",
      "38.35835\n",
      "43.76842\n",
      "36.89173\n",
      "42.95998\n",
      "41.11529\n",
      "36.57405\n",
      "34.61063\n",
      "37.64856\n",
      "38.14737\n",
      "44.14163\n",
      "36.35258\n",
      "41.07427\n",
      "36.17119\n",
      "45.19369\n",
      "42.78547\n",
      "37.29243\n",
      "40.01960\n",
      "38.72815\n",
      "37.44641\n",
      "38.83800\n",
      "44.87864\n",
      "40.80317\n",
      "43.11739\n",
      "42.58425\n",
      "42.56676\n",
      "44.87178\n",
      "39.49134\n",
      "42.22224\n",
      "39.78332\n",
      "39.76166\n",
      "36.71988\n",
      "41.39286\n",
      "40.89347\n",
      "38.66167\n",
      "35.52381\n",
      "38.67884\n",
      "37.72791\n",
      "41.92196\n",
      "41.30445\n",
      "36.11711\n",
      "35.86786\n",
      "36.20294\n",
      "41.98073\n",
      "40.35818\n",
      "39.91693\n",
      "39.50203\n",
      "44.40796\n",
      "42.65101\n",
      "41.08939\n",
      "38.42505\n",
      "40.14576\n",
      "40.29308\n",
      "43.64686\n",
      "41.94976\n",
      "37.04015\n",
      "45.25386\n",
      "39.35915\n",
      "38.64262\n",
      "41.05536\n",
      "47.92001\n",
      "40.42779\n",
      "40.39150\n",
      "38.79450\n",
      "42.69592\n",
      "39.50753\n",
      "40.52511\n",
      "39.54519\n",
      "40.10446\n",
      "35.92068\n",
      "43.02147\n",
      "41.98304\n",
      "41.53250\n",
      "36.96671\n",
      "37.91331\n",
      "42.68478\n",
      "42.75077\n",
      "40.28769\n",
      "42.59721\n",
      "34.78624\n",
      "38.30145\n",
      "42.76331\n",
      "35.38851\n",
      "43.50099\n",
      "37.90383\n",
      "41.38680\n",
      "38.41068\n",
      "38.64521\n",
      "39.54010\n",
      "44.52244\n",
      "38.93460\n",
      "39.11971\n",
      "39.71820\n",
      "43.86300\n",
      "41.54900\n",
      "38.43292\n",
      "38.59465\n",
      "38.40895\n",
      "39.31322\n",
      "37.99107\n",
      "38.56297\n",
      "37.26540\n",
      "41.29736\n",
      "39.58343\n",
      "43.99329\n",
      "39.72543\n",
      "36.96424\n",
      "36.80235\n",
      "44.18362\n",
      "39.95390\n",
      "36.76275\n",
      "39.98167\n",
      "42.31785\n",
      "39.28835\n",
      "39.38935\n",
      "41.59961\n",
      "43.00149\n",
      "39.53468\n",
      "40.57105\n",
      "39.11778\n",
      "39.35673\n",
      "33.97086\n",
      "44.74452\n",
      "36.93498\n",
      "38.83035\n",
      "44.10241\n",
      "35.79388\n",
      "38.56620\n",
      "38.67786\n",
      "41.15514\n",
      "44.58160\n",
      "35.46074\n",
      "37.15648\n",
      "43.00539\n",
      "40.00056\n",
      "43.51166\n",
      "43.72161\n",
      "40.44455\n",
      "36.24345\n",
      "37.65025\n",
      "38.73055\n",
      "38.59267\n",
      "39.31805\n",
      "43.18969\n",
      "39.65514\n",
      "45.36545\n",
      "42.87917\n",
      "42.02889\n",
      "44.24377\n",
      "34.45328\n",
      "36.18212\n",
      "38.55126\n",
      "35.81721\n",
      "35.77184\n",
      "47.56425\n",
      "35.26101\n",
      "41.95958\n",
      "42.41354\n",
      "40.94382\n",
      "37.24691\n",
      "37.33109\n",
      "40.07624\n",
      "38.62140\n",
      "37.84172\n",
      "39.88978\n",
      "41.83872\n",
      "37.27481\n",
      "40.48464\n",
      "40.87819\n",
      "40.43916\n",
      "35.38395\n",
      "38.99878\n",
      "42.90099\n",
      "38.18724\n",
      "39.00116\n",
      "37.12929\n",
      "38.13914\n",
      "42.92352\n",
      "39.16286\n",
      "38.26088\n",
      "39.72801\n",
      "38.98927\n",
      "37.40738\n",
      "33.25002\n",
      "43.67449\n",
      "36.73455\n",
      "40.59855\n",
      "40.24028\n",
      "41.96436\n",
      "40.18341\n",
      "40.94073\n",
      "38.84248\n",
      "39.52193\n",
      "39.65543\n",
      "41.19704\n",
      "42.08543\n",
      "38.68192\n",
      "39.68052\n",
      "39.40651\n",
      "40.60427\n",
      "42.74821\n",
      "39.74751\n",
      "37.02935\n",
      "41.83113\n",
      "36.28086\n",
      "36.67348\n",
      "38.43272\n",
      "41.35674\n",
      "42.04567\n",
      "42.76006\n",
      "37.50654\n",
      "40.54640\n",
      "37.37614\n",
      "43.58968\n",
      "41.30916\n",
      "41.04239\n",
      "39.87666\n",
      "41.03293\n",
      "41.19401\n",
      "39.26608\n",
      "37.72574\n",
      "39.36898\n",
      "40.19506\n",
      "41.94797\n",
      "43.65342\n",
      "37.04963\n",
      "38.26030\n",
      "38.45668\n",
      "37.38469\n",
      "39.98392\n",
      "39.07966\n",
      "40.93345\n",
      "40.32503\n",
      "43.03360\n",
      "36.65541\n",
      "39.82523\n",
      "37.63798\n",
      "39.45966\n",
      "39.60400\n",
      "39.36195\n",
      "42.17801\n",
      "44.14716\n",
      "37.97496\n",
      "42.16679\n",
      "46.96712\n",
      "46.70119\n",
      "38.56357\n",
      "37.24863\n",
      "38.93697\n",
      "39.99393\n",
      "39.34732\n",
      "38.25632\n",
      "42.32336\n",
      "45.40170\n",
      "42.55982\n",
      "39.84705\n",
      "42.58493\n",
      "42.11348\n",
      "44.89277\n",
      "40.28362\n",
      "42.00959\n",
      "39.16235\n",
      "41.17118\n",
      "41.02616\n",
      "42.62226\n",
      "42.45897\n",
      "40.19171\n",
      "43.97316\n",
      "39.98701\n",
      "39.04837\n",
      "40.21217\n",
      "46.48427\n",
      "40.23989\n",
      "42.62319\n",
      "41.39939\n",
      "39.24880\n",
      "41.29235\n",
      "37.66381\n",
      "40.37881\n",
      "41.39765\n",
      "40.86360\n",
      "42.93623\n",
      "41.00969\n",
      "39.30836\n",
      "39.70579\n",
      "34.40899\n",
      "36.50179\n",
      "39.66744\n",
      "42.74225\n",
      "37.48702\n",
      "37.67856\n",
      "41.06759\n",
      "36.69136\n",
      "38.96598\n",
      "43.44543\n",
      "40.81255\n",
      "37.87626\n",
      "39.28028\n",
      "41.17473\n",
      "38.80057\n",
      "44.81522\n",
      "43.24358\n",
      "40.88279\n",
      "37.91612\n",
      "40.06717\n",
      "43.87952\n",
      "41.86537\n",
      "42.09338\n",
      "39.54437\n",
      "38.37068\n",
      "39.40421\n",
      "41.40662\n",
      "39.73572\n",
      "40.32439\n",
      "40.92039\n",
      "40.40070\n",
      "40.58410\n",
      "37.02164\n",
      "41.01591\n",
      "44.59424\n",
      "38.92753\n",
      "35.23737\n",
      "46.12624\n",
      "35.06831\n",
      "38.99646\n",
      "41.41330\n",
      "40.29438\n",
      "40.32922\n",
      "42.51497\n",
      "40.14031\n",
      "38.56968\n",
      "40.80602\n",
      "35.45837\n",
      "40.34055\n",
      "39.60191\n",
      "37.44523\n",
      "39.61442\n",
      "41.04311\n",
      "42.00959\n",
      "38.61124\n",
      "39.55869\n",
      "41.65251\n",
      "38.35994\n",
      "41.13381\n",
      "41.22250\n",
      "36.02244\n",
      "39.14021\n",
      "41.62779\n",
      "46.07850\n",
      "40.48603\n",
      "40.86343\n",
      "39.09277\n",
      "36.88209\n",
      "44.37324\n",
      "40.14693\n",
      "35.17741\n",
      "39.82547\n",
      "39.03232\n",
      "41.64998\n",
      "37.64936\n",
      "40.82973\n",
      "42.96049\n",
      "38.76621\n",
      "40.08211\n",
      "37.40560\n",
      "37.40501\n",
      "41.32879\n",
      "41.10328\n",
      "39.00280\n",
      "39.10458\n",
      "41.41908\n",
      "37.06058\n",
      "42.43909\n",
      "39.17475\n",
      "37.73145\n",
      "38.99154\n",
      "44.46748\n",
      "35.90639\n",
      "40.78219\n",
      "43.14062\n",
      "37.25279\n",
      "35.31690\n",
      "36.01292\n",
      "41.12473\n",
      "40.29330\n",
      "37.66681\n",
      "36.48146\n",
      "38.86834\n",
      "38.94970\n",
      "43.65232\n",
      "38.47467\n",
      "43.77341\n",
      "37.53090\n",
      "36.27279\n",
      "40.54467\n",
      "38.75248\n",
      "39.29993\n",
      "36.63189\n",
      "39.98917\n",
      "39.69001\n",
      "44.24443\n",
      "34.81949\n",
      "40.88873\n",
      "42.28814\n",
      "39.18454\n",
      "35.68858\n",
      "35.91264\n",
      "41.64715\n",
      "37.62238\n",
      "36.85992\n",
      "40.64661\n",
      "40.95540\n",
      "37.77756\n",
      "41.83707\n",
      "45.29294\n",
      "37.83829\n",
      "39.14775\n",
      "42.14895\n",
      "43.86215\n",
      "39.88496\n",
      "41.94213\n",
      "39.74256\n",
      "38.47613\n",
      "41.02076\n",
      "41.27381\n",
      "42.31847\n",
      "35.35703\n",
      "40.70900\n",
      "41.70635\n",
      "40.77918\n",
      "39.91119\n",
      "39.61447\n",
      "39.54984\n",
      "45.13925\n",
      "37.19275\n",
      "33.47815\n",
      "38.21983\n",
      "37.56104\n",
      "38.88329\n",
      "39.81400\n",
      "37.99620\n",
      "37.31261\n",
      "38.19498\n",
      "37.87548\n",
      "36.80951\n",
      "39.28284\n",
      "37.82129\n",
      "40.60345\n",
      "37.57664\n",
      "40.89355\n",
      "42.59710\n",
      "40.63664\n",
      "41.78325\n",
      "40.36803\n",
      "42.65356\n",
      "38.11695\n",
      "42.23907\n",
      "36.60541\n",
      "42.90977\n",
      "40.09631\n",
      "44.98756\n",
      "40.31313\n",
      "37.04813\n",
      "37.42904\n",
      "44.02391\n",
      "39.58137\n",
      "42.45413\n",
      "37.86830\n",
      "42.81194\n",
      "40.10081\n",
      "40.06369\n",
      "35.38875\n",
      "37.45130\n",
      "41.62034\n",
      "37.74837\n",
      "41.09588\n",
      "44.83027\n",
      "40.28967\n",
      "42.51208\n",
      "36.39001\n",
      "36.91522\n",
      "45.30630\n",
      "43.14513\n",
      "42.18267\n",
      "39.28637\n",
      "44.37537\n",
      "40.78542\n",
      "37.45467\n",
      "40.32845\n",
      "39.39883\n",
      "34.86454\n",
      "39.57850\n",
      "38.03497\n",
      "40.60616\n",
      "41.90001\n",
      "41.58056\n",
      "35.26436\n",
      "43.27904\n",
      "39.30573\n",
      "38.54402\n",
      "43.86935\n",
      "38.38039\n",
      "35.66312\n",
      "35.79655\n",
      "37.59388\n",
      "38.19125\n",
      "38.65875\n",
      "40.49619\n",
      "38.29525\n",
      "40.68208\n",
      "38.94405\n",
      "36.87892\n",
      "36.56097\n",
      "36.63332\n",
      "38.96808\n",
      "40.97767\n",
      "48.21167\n",
      "34.77132\n",
      "40.11189\n",
      "41.65094\n",
      "37.69523\n",
      "40.69181\n",
      "42.36226\n",
      "36.34184\n",
      "36.06650\n",
      "39.39006\n",
      "34.40619\n",
      "36.01192\n",
      "43.31711\n",
      "40.98945\n",
      "37.26827\n",
      "44.05090\n",
      "39.79906\n",
      "44.52985\n",
      "46.75914\n",
      "39.93244\n",
      "41.80880\n",
      "34.71200\n",
      "39.78454\n",
      "41.62443\n",
      "41.78128\n",
      "40.72587\n",
      "38.01619\n",
      "34.52485\n",
      "43.26496\n",
      "38.91879\n",
      "34.48524\n",
      "39.96976\n",
      "40.11789\n",
      "45.55047\n",
      "38.45171\n",
      "44.81723\n",
      "46.08865\n",
      "43.70499\n",
      "37.90329\n",
      "38.83087\n",
      "44.30991\n",
      "43.26820\n",
      "42.40016\n",
      "39.69396\n",
      "38.24776\n",
      "40.73309\n",
      "41.19542\n",
      "37.90176\n",
      "41.10259\n",
      "42.77045\n",
      "37.50290\n",
      "41.44965\n",
      "38.95631\n",
      "44.18865\n",
      "37.30789\n",
      "42.25499\n",
      "41.05923\n",
      "44.87510\n",
      "42.84676\n",
      "41.93770\n",
      "37.99420\n",
      "44.52432\n",
      "40.10841\n",
      "43.86131\n",
      "42.95877\n",
      "38.31787\n",
      "42.02286\n",
      "41.28365\n",
      "45.50126\n",
      "41.12101\n",
      "42.63684\n",
      "37.91481\n",
      "41.80922\n",
      "37.27098\n",
      "40.95825\n",
      "42.09024\n",
      "42.15642\n",
      "37.59589\n",
      "39.35948\n",
      "38.70484\n",
      "38.80964\n",
      "41.20498\n",
      "41.73101\n",
      "39.77708\n",
      "32.02649\n",
      "42.70758\n",
      "38.38665\n",
      "36.92387\n",
      "39.68195\n",
      "42.94131\n",
      "42.29740\n",
      "44.23476\n",
      "39.56842\n",
      "37.17175\n",
      "36.78519\n",
      "36.97559\n",
      "37.44979\n",
      "39.50984\n",
      "41.29090\n",
      "38.40726\n",
      "46.00076\n",
      "38.82309\n",
      "37.02107\n",
      "40.80308\n",
      "41.37599\n",
      "41.03200\n",
      "42.25724\n",
      "34.27334\n",
      "39.10895\n",
      "40.71529\n",
      "35.35460\n",
      "46.66105\n",
      "43.31744\n",
      "40.36717\n",
      "36.48221\n",
      "36.44311\n",
      "38.50301\n",
      "41.50272\n",
      "44.15332\n",
      "39.63018\n",
      "37.57905\n",
      "40.26840\n",
      "36.76992\n",
      "36.51054\n",
      "37.44853\n",
      "37.98204\n",
      "40.75403\n",
      "42.29953\n",
      "40.93260\n",
      "38.11288\n",
      "38.55911\n",
      "39.14878\n",
      "40.74342\n",
      "39.58804\n",
      "39.98804\n",
      "41.90674\n",
      "38.27011\n",
      "36.83379\n",
      "39.74575\n",
      "39.29404\n",
      "40.67561\n",
      "37.72252\n",
      "38.87418\n",
      "42.05116\n",
      "36.98689\n",
      "44.06461\n",
      "37.05878\n",
      "40.33054\n",
      "38.21406\n",
      "45.28761\n",
      "40.23689\n",
      "40.23180\n",
      "40.17821\n",
      "41.03119\n",
      "33.76730\n",
      "46.03962\n",
      "38.51842\n",
      "36.11292\n",
      "39.13919\n",
      "46.23423\n",
      "35.04363\n",
      "37.60285\n",
      "40.69389\n",
      "34.98480\n",
      "38.03616\n",
      "42.05402\n",
      "37.55279\n",
      "41.92916\n",
      "39.03149\n",
      "46.17821\n",
      "41.17050\n",
      "44.61695\n",
      "38.08218\n",
      "44.17269\n",
      "43.09013\n",
      "40.60626\n",
      "43.59138\n",
      "43.67235\n",
      "43.27894\n",
      "40.49131\n",
      "37.67827\n",
      "38.49847\n",
      "35.96011\n",
      "37.55581\n",
      "39.42365\n",
      "38.60269\n",
      "40.92168\n",
      "35.40739\n",
      "42.55231\n",
      "39.76147\n",
      "34.20933\n",
      "35.05861\n",
      "44.47001\n",
      "37.34502\n",
      "39.37290\n",
      "40.50214\n",
      "38.42893\n",
      "40.34967\n",
      "38.03236\n",
      "41.53543\n",
      "37.27287\n",
      "36.55204\n",
      "37.88779\n",
      "40.86369\n",
      "41.93202\n",
      "36.34332\n",
      "45.52481\n",
      "39.21296\n",
      "39.38380\n",
      "38.25682\n",
      "39.05784\n",
      "39.21658\n",
      "36.24971\n",
      "38.16182\n",
      "39.16295\n",
      "39.90660\n",
      "40.23352\n",
      "37.01263\n",
      "38.76791\n",
      "40.92566\n",
      "41.77886\n",
      "39.40002\n",
      "37.44941\n",
      "35.48086\n",
      "41.40552\n",
      "37.18853\n",
      "41.22291\n",
      "37.00182\n",
      "42.83634\n",
      "40.88032\n",
      "42.19519\n",
      "42.80009\n",
      "38.99413\n",
      "37.39153\n",
      "36.17732\n",
      "42.52377\n",
      "44.17899\n",
      "39.39848\n",
      "43.21595\n",
      "40.94952\n",
      "39.01008\n",
      "34.64240\n",
      "39.91834\n",
      "42.31980\n",
      "38.41801\n",
      "42.86169\n",
      "37.49245\n",
      "39.23504\n",
      "36.01324\n",
      "40.83450\n",
      "34.51031\n",
      "45.22417\n",
      "41.37290\n",
      "38.43639\n",
      "43.30327\n",
      "43.27432\n",
      "40.41883\n",
      "42.90679\n",
      "40.03622\n",
      "42.38345\n",
      "43.91695\n",
      "37.80885\n",
      "39.06501\n",
      "43.24940\n",
      "41.77524\n",
      "43.46209\n",
      "38.63113\n",
      "38.65376\n",
      "42.52576\n",
      "44.22872\n",
      "39.12987\n",
      "37.20162\n",
      "38.63831\n",
      "39.69529\n",
      "38.44901\n",
      "38.46255\n",
      "36.31733\n",
      "39.64558\n",
      "42.81321\n",
      "38.12429\n",
      "41.61566\n",
      "39.85158\n",
      "40.39027\n",
      "39.11798\n",
      "37.92345\n",
      "38.08240\n",
      "38.00148\n",
      "38.33592\n",
      "36.15458\n",
      "43.15748\n",
      "34.08688\n",
      "39.93816\n",
      "39.40370\n",
      "44.26891\n",
      "44.52191\n",
      "40.50237\n",
      "43.91473\n",
      "39.60335\n",
      "41.00691\n",
      "41.16995\n",
      "39.64130\n",
      "41.22828\n",
      "35.74089\n",
      "38.80825\n",
      "41.19273\n",
      "37.41453\n",
      "39.65856\n",
      "40.81038\n",
      "39.00944\n",
      "40.44014\n",
      "41.49911\n",
      "40.62751\n",
      "40.12506\n",
      "41.37809\n",
      "37.08414\n",
      "43.93779\n",
      "36.63242\n",
      "39.46802\n",
      "44.88370\n",
      "39.80274\n",
      "40.98339\n",
      "38.82706\n",
      "34.95963\n",
      "39.45823\n",
      "35.44275\n",
      "41.92526\n",
      "37.90187\n",
      "44.22925\n",
      "43.47750\n",
      "39.98550\n",
      "39.80104\n",
      "39.66785\n",
      "39.87611\n",
      "41.41051\n",
      "39.32284\n",
      "36.23195\n",
      "39.86545\n",
      "36.95154\n",
      "33.90190\n",
      "40.91580\n",
      "41.86087\n",
      "39.90211\n",
      "38.89510\n",
      "38.84565\n",
      "39.56574\n",
      "43.89729\n",
      "39.26908\n",
      "40.42427\n",
      "38.31027\n",
      "41.59733\n",
      "38.11884\n",
      "40.73071\n",
      "40.45999\n",
      "37.50990\n",
      "41.63579\n",
      "41.72168\n",
      "38.41055\n",
      "40.11492\n",
      "40.45514\n",
      "40.94815\n",
      "38.67349\n",
      "44.33128\n",
      "36.13381\n",
      "43.29141\n",
      "40.23096\n",
      "39.30167\n",
      "41.80701\n",
      "44.74785\n",
      "37.83855\n",
      "40.43329\n",
      "37.14989\n",
      "41.01002\n",
      "38.47730\n",
      "44.06452\n",
      "37.72021\n",
      "35.51474\n",
      "44.92028\n",
      "35.00753\n",
      "42.91819\n",
      "38.93455\n",
      "39.81326\n",
      "39.16294\n",
      "41.01791\n",
      "39.15907\n",
      "36.42247\n",
      "36.12572\n",
      "42.87169\n",
      "41.44033\n",
      "42.10004\n",
      "37.38637\n",
      "39.07999\n",
      "44.79536\n",
      "39.77862\n",
      "39.26719\n",
      "41.35664\n",
      "41.20675\n",
      "38.78919\n",
      "41.40068\n",
      "35.08633\n",
      "40.29165\n",
      "39.42343\n",
      "41.11118\n",
      "37.70566\n",
      "37.37452\n",
      "36.67677\n",
      "41.99602\n",
      "39.73054\n",
      "42.71406\n",
      "40.96890\n",
      "41.14871\n",
      "36.53532\n",
      "41.58687\n",
      "39.63654\n",
      "37.90431\n",
      "36.61591\n",
      "37.69874\n",
      "40.91859\n",
      "43.73294\n",
      "42.48390\n",
      "37.66859\n",
      "39.06890\n",
      "36.47697\n",
      "39.79202\n",
      "38.51441\n",
      "39.94772\n",
      "37.90153\n",
      "49.44625\n",
      "43.52917\n",
      "41.23279\n",
      "42.14709\n",
      "44.30716\n",
      "43.60284\n",
      "40.22512\n",
      "39.96096\n",
      "41.14634\n",
      "41.54163\n",
      "39.76733\n",
      "42.37698\n",
      "37.58555\n",
      "39.69211\n",
      "42.04881\n",
      "39.20930\n",
      "36.56810\n",
      "36.80318\n",
      "37.75461\n",
      "41.58986\n",
      "38.18908\n",
      "41.64292\n",
      "41.96352\n",
      "45.02158\n",
      "41.19063\n",
      "43.45609\n",
      "36.62454\n",
      "38.35414\n",
      "37.01641\n",
      "39.45895\n",
      "41.92512\n",
      "39.02253\n",
      "37.59125\n",
      "39.28018\n",
      "39.29331\n",
      "41.89207\n",
      "40.11330\n",
      "39.26889\n",
      "40.84622\n",
      "41.61955\n",
      "41.54144\n",
      "37.20642\n",
      "43.65843\n",
      "39.49907\n",
      "37.93320\n",
      "41.42091\n",
      "37.29198\n",
      "41.32330\n",
      "44.14560\n",
      "42.47902\n",
      "37.53996\n",
      "42.29109\n",
      "45.19115\n",
      "39.53553\n",
      "38.53209\n",
      "39.79599\n",
      "39.12131\n",
      "39.40871\n",
      "37.37714\n",
      "37.98053\n",
      "41.66646\n",
      "41.78452\n",
      "39.18285\n",
      "41.71154\n",
      "39.99332\n",
      "37.95268\n",
      "43.24146\n",
      "36.98505\n",
      "36.15415\n",
      "41.96946\n",
      "38.79912\n",
      "40.36276\n",
      "41.94118\n",
      "44.77255\n",
      "37.45949\n",
      "39.34977\n",
      "41.07571\n",
      "35.70739\n",
      "41.08732\n",
      "38.13206\n",
      "36.57090\n",
      "41.94108\n",
      "40.71359\n",
      "41.12884\n",
      "40.88713\n",
      "39.95510\n",
      "39.24474\n",
      "36.51587\n",
      "44.92467\n",
      "42.69580\n",
      "38.51947\n",
      "41.32375\n",
      "41.05808\n",
      "34.31655\n",
      "41.80324\n",
      "39.65092\n",
      "48.19492\n",
      "36.74980\n",
      "42.93392\n",
      "45.01334\n",
      "42.15022\n",
      "40.34041\n",
      "37.86757\n",
      "41.17386\n",
      "39.87823\n",
      "40.83604\n",
      "43.30624\n",
      "37.76903\n",
      "43.38360\n",
      "39.82212\n",
      "41.63685\n",
      "40.21026\n",
      "39.07259\n",
      "37.07478\n",
      "38.27813\n",
      "38.52591\n",
      "38.19559\n",
      "41.21949\n",
      "40.33538\n",
      "42.48396\n",
      "36.86483\n",
      "37.44657\n",
      "42.70391\n",
      "39.04185\n",
      "39.12948\n",
      "40.43551\n",
      "38.95240\n",
      "37.91173\n",
      "39.51782\n",
      "40.10981\n",
      "41.23043\n",
      "38.16877\n",
      "36.82414\n",
      "41.42100\n",
      "40.60509\n",
      "41.21617\n",
      "42.43144\n",
      "38.91148\n",
      "39.58459\n",
      "43.23273\n",
      "38.69311\n",
      "38.58409\n",
      "40.58815\n",
      "42.01938\n",
      "37.53399\n",
      "41.15812\n",
      "34.54425\n",
      "39.69231\n",
      "44.02515\n",
      "39.89154\n",
      "33.80397\n",
      "38.66517\n",
      "44.28509\n",
      "40.46466\n",
      "38.78316\n",
      "37.20936\n",
      "40.70350\n",
      "37.71426\n",
      "37.91024\n",
      "40.80240\n",
      "41.43731\n",
      "39.73006\n",
      "39.77652\n",
      "40.92798\n",
      "39.22295\n",
      "37.14182\n",
      "43.56097\n",
      "42.72239\n",
      "36.82766\n",
      "43.03220\n",
      "38.36668\n",
      "38.46886\n",
      "40.69765\n",
      "43.53539\n",
      "36.77161\n",
      "37.39928\n",
      "37.26615\n",
      "34.61552\n",
      "37.93075\n",
      "35.63420\n",
      "34.61827\n",
      "34.22939\n",
      "41.00313\n",
      "41.64285\n",
      "44.03675\n",
      "42.44614\n",
      "42.18890\n",
      "37.82245\n",
      "41.97896\n",
      "36.48956\n",
      "39.76009\n",
      "39.41137\n",
      "40.42765\n",
      "40.59010\n",
      "44.94177\n",
      "43.22010\n",
      "38.75723\n",
      "42.85080\n",
      "41.25201\n",
      "39.74947\n",
      "37.94237\n",
      "46.05791\n",
      "44.80121\n",
      "43.72669\n",
      "41.86979\n",
      "35.65981\n",
      "40.52554\n",
      "36.95111\n",
      "38.29295\n",
      "43.05692\n",
      "36.12814\n",
      "38.93706\n",
      "39.04678\n",
      "40.59596\n",
      "39.16055\n",
      "37.24177\n",
      "38.00247\n",
      "36.07363\n",
      "42.53290\n",
      "42.38200\n",
      "40.96930\n",
      "38.87482\n",
      "37.53535\n",
      "39.88519\n",
      "38.27301\n",
      "36.03207\n",
      "37.25611\n",
      "44.50365\n",
      "37.67748\n",
      "41.29632\n",
      "43.02300\n",
      "41.19535\n",
      "38.65217\n",
      "43.61986\n",
      "36.69674\n",
      "36.49297\n",
      "46.53179\n",
      "38.14215\n",
      "43.26582\n",
      "40.32324\n",
      "44.26217\n",
      "42.01880\n",
      "36.48372\n",
      "37.31057\n",
      "40.52332\n",
      "43.40346\n",
      "38.03532\n",
      "36.48403\n",
      "37.66937\n",
      "37.62620\n",
      "38.07258\n",
      "34.99864\n",
      "35.78199\n",
      "42.36543\n",
      "36.26229\n",
      "43.11404\n",
      "42.19833\n",
      "43.25105\n",
      "45.43214\n",
      "38.88888\n",
      "36.29248\n",
      "38.19675\n",
      "39.70755\n",
      "37.61749\n",
      "42.36877\n",
      "49.44996\n",
      "41.66081\n",
      "44.35834\n",
      "38.22498\n",
      "38.77045\n",
      "39.86463\n",
      "38.12970\n",
      "42.02725\n",
      "41.45333\n",
      "42.33060\n",
      "37.64271\n",
      "38.16347\n",
      "37.76703\n",
      "41.58642\n",
      "39.80497\n",
      "38.70544\n",
      "40.61795\n",
      "37.11957\n",
      "40.90461\n",
      "38.75957\n",
      "40.84972\n",
      "41.94796\n",
      "38.66193\n",
      "39.90508\n",
      "39.30395\n",
      "36.84618\n",
      "37.91981\n",
      "40.94151\n",
      "38.70858\n",
      "39.76278\n",
      "40.84766\n",
      "40.91267\n",
      "48.92733\n",
      "34.21413\n",
      "39.60106\n",
      "39.63781\n",
      "36.83315\n",
      "38.20615\n",
      "40.55228\n",
      "40.36315\n",
      "41.51863\n",
      "36.58144\n",
      "38.15419\n",
      "42.16931\n",
      "39.78641\n",
      "40.36584\n",
      "40.02227\n",
      "34.88736\n",
      "39.18424\n",
      "40.31261\n",
      "34.83775\n",
      "39.58193\n",
      "41.47416\n",
      "44.48526\n",
      "36.93110\n",
      "35.41035\n",
      "38.77624\n",
      "41.90655\n",
      "36.38566\n",
      "36.96254\n",
      "36.56907\n",
      "40.20227\n",
      "39.54116\n",
      "40.34305\n",
      "37.54958\n",
      "39.05954\n",
      "40.01175\n",
      "43.75657\n",
      "40.48112\n",
      "37.79504\n",
      "43.84225\n",
      "43.02477\n",
      "37.68479\n",
      "38.06345\n",
      "41.43923\n",
      "41.02954\n",
      "39.91100\n",
      "37.50791\n",
      "40.86097\n",
      "36.73137\n",
      "39.58575\n",
      "39.64177\n",
      "36.65776\n",
      "37.57140\n",
      "37.05351\n",
      "39.98482\n",
      "36.33517\n",
      "37.46463\n",
      "38.27013\n",
      "37.68670\n",
      "36.67892\n",
      "40.18031\n",
      "34.15239\n",
      "42.48506\n",
      "31.58581\n",
      "37.20472\n",
      "43.86342\n",
      "38.33932\n",
      "46.87287\n",
      "39.09132\n",
      "36.47749\n",
      "41.31461\n",
      "32.54102\n",
      "37.49786\n",
      "44.82223\n",
      "39.60958\n",
      "38.90682\n",
      "44.30734\n",
      "39.68129\n",
      "43.43750\n",
      "42.07120\n",
      "39.49928\n",
      "38.81062\n",
      "38.45146\n",
      "42.43810\n",
      "42.56503\n",
      "38.13203\n",
      "38.51196\n",
      "37.39261\n",
      "38.30124\n",
      "48.49012\n",
      "40.79317\n",
      "40.88433\n",
      "41.16026\n",
      "43.13441\n",
      "44.87952\n",
      "38.15115\n",
      "38.69293\n",
      "38.08563\n",
      "40.71103\n",
      "37.62519\n",
      "45.75042\n",
      "39.04224\n",
      "38.92175\n",
      "37.20174\n",
      "39.41023\n",
      "36.18967\n",
      "41.90091\n",
      "38.29610\n",
      "37.10933\n",
      "41.51791\n",
      "36.05557\n",
      "39.94878\n",
      "41.59097\n",
      "37.78653\n",
      "40.09178\n",
      "34.77320\n",
      "39.11810\n",
      "37.93272\n",
      "37.91513\n",
      "39.24352\n",
      "37.65354\n",
      "44.03910\n",
      "40.86704\n",
      "37.72454\n",
      "39.17504\n",
      "40.93173\n",
      "39.50154\n",
      "42.20205\n",
      "36.61181\n",
      "36.21247\n",
      "38.49286\n",
      "40.85551\n",
      "47.48121\n",
      "46.16084\n",
      "37.10120\n",
      "41.90863\n",
      "38.41729\n",
      "43.84689\n",
      "38.42674\n",
      "38.35623\n",
      "38.07142\n",
      "43.03590\n",
      "40.54134\n",
      "34.15548\n",
      "39.07726\n",
      "37.87964\n",
      "39.27381\n",
      "40.59801\n",
      "42.04736\n",
      "39.01874\n",
      "45.36561\n",
      "36.96803\n",
      "42.43038\n",
      "36.13057\n",
      "34.68185\n",
      "42.65673\n",
      "34.61818\n",
      "40.77911\n",
      "39.54507\n",
      "35.44872\n",
      "40.70547\n",
      "42.70385\n",
      "44.72884\n",
      "38.63654\n",
      "41.02254\n",
      "38.12843\n",
      "42.69199\n",
      "44.53151\n",
      "37.97965\n",
      "39.56429\n",
      "42.28493\n",
      "47.86400\n",
      "41.82983\n",
      "41.36118\n",
      "39.39738\n",
      "42.34620\n",
      "37.39014\n",
      "42.29385\n",
      "36.17850\n",
      "38.02943\n",
      "39.41869\n",
      "39.59215\n",
      "41.01387\n",
      "43.07693\n",
      "41.31818\n",
      "39.02058\n",
      "37.62157\n",
      "40.91720\n",
      "46.85617\n",
      "43.11557\n",
      "42.21410\n",
      "36.99201\n",
      "42.31149\n",
      "36.94292\n",
      "40.18056\n",
      "40.17385\n",
      "38.60944\n",
      "36.30524\n",
      "37.63141\n",
      "40.92174\n",
      "42.11073\n",
      "40.40601\n",
      "40.31139\n",
      "43.64583\n",
      "45.12697\n",
      "37.30242\n",
      "41.99482\n",
      "43.25723\n",
      "44.29180\n",
      "41.59209\n",
      "41.65641\n",
      "40.16426\n",
      "42.35456\n",
      "43.10735\n",
      "39.01531\n",
      "39.46411\n",
      "45.23605\n",
      "42.78979\n",
      "39.95216\n",
      "34.40997\n",
      "39.41052\n",
      "37.21221\n",
      "39.60335\n",
      "39.32716\n",
      "40.52760\n",
      "39.91942\n",
      "35.57168\n",
      "38.96696\n",
      "41.70054\n",
      "40.73980\n",
      "41.75009\n",
      "42.19213\n",
      "38.03041\n",
      "38.50867\n",
      "38.39880\n",
      "33.44824\n",
      "42.54939\n",
      "34.37194\n",
      "39.28956\n",
      "39.37151\n",
      "38.06375\n",
      "33.18634\n",
      "38.39455\n",
      "43.42270\n",
      "42.57662\n",
      "41.01662\n",
      "37.83258\n",
      "42.67897\n",
      "37.97393\n",
      "39.08389\n",
      "37.99646\n",
      "41.31053\n",
      "37.72068\n",
      "38.07800\n",
      "41.88505\n",
      "38.00325\n",
      "37.52325\n",
      "38.35113\n",
      "36.39616\n",
      "42.02672\n",
      "42.89080\n",
      "37.79977\n",
      "39.55796\n",
      "40.00855\n",
      "41.10760\n",
      "37.63448\n",
      "39.24937\n",
      "39.71269\n",
      "39.52964\n",
      "40.14137\n",
      "44.16872\n",
      "38.11288\n",
      "41.41566\n",
      "39.15005\n",
      "36.46192\n",
      "40.82713\n",
      "46.69727\n",
      "39.91696\n",
      "33.09541\n",
      "37.69694\n",
      "41.89545\n",
      "41.64263\n",
      "41.66835\n",
      "37.14276\n",
      "38.11337\n",
      "38.15122\n",
      "42.73164\n",
      "42.13739\n",
      "37.90218\n",
      "42.57379\n",
      "42.29914\n",
      "41.15345\n",
      "39.26645\n",
      "35.76295\n",
      "37.09431\n",
      "41.13493\n",
      "42.34583\n",
      "38.77262\n",
      "40.94304\n",
      "41.61991\n",
      "43.22823\n",
      "37.00504\n",
      "39.61516\n",
      "40.78661\n",
      "45.35550\n",
      "37.01464\n",
      "39.79741\n",
      "44.90815\n",
      "38.21616\n",
      "43.47651\n",
      "36.36784\n",
      "39.37626\n",
      "34.63956\n",
      "34.43729\n",
      "40.94431\n",
      "38.02986\n",
      "39.42928\n",
      "41.36514\n",
      "43.82875\n",
      "39.44270\n",
      "36.64442\n",
      "38.15263\n",
      "37.65387\n",
      "38.86410\n",
      "40.70024\n",
      "42.87850\n",
      "38.10066\n",
      "37.26254\n",
      "36.28879\n",
      "38.47055\n",
      "40.52297\n",
      "37.18471\n",
      "41.92185\n",
      "47.10605\n"
     ]
    },
    {
     "ename": "KeyboardInterrupt",
     "evalue": "",
     "output_type": "error",
     "traceback": [
      "\u001b[0;31m---------------------------------------------------------------------------\u001b[0m",
      "\u001b[0;31mKeyboardInterrupt\u001b[0m                         Traceback (most recent call last)",
      "\u001b[0;32m<ipython-input-93-71ae62adccee>\u001b[0m in \u001b[0;36m<module>\u001b[0;34m()\u001b[0m\n\u001b[1;32m      1\u001b[0m \u001b[0;32mfor\u001b[0m \u001b[0mbx\u001b[0m\u001b[0;34m,\u001b[0m \u001b[0mby\u001b[0m\u001b[0;34m,\u001b[0m \u001b[0mrespondent\u001b[0m \u001b[0;32min\u001b[0m \u001b[0mgenerate_data\u001b[0m\u001b[0;34m(\u001b[0m\u001b[0mdata_rows\u001b[0m\u001b[0;34m,\u001b[0m \u001b[0mspeakers_list\u001b[0m\u001b[0;34m=\u001b[0m\u001b[0mspeakers_list\u001b[0m\u001b[0;34m,\u001b[0m \u001b[0mn_iter\u001b[0m\u001b[0;34m=\u001b[0m\u001b[0;36m15000\u001b[0m\u001b[0;34m,\u001b[0m \u001b[0mmax_len\u001b[0m\u001b[0;34m=\u001b[0m\u001b[0mseq_len\u001b[0m\u001b[0;34m)\u001b[0m\u001b[0;34m:\u001b[0m\u001b[0;34m\u001b[0m\u001b[0m\n\u001b[0;32m----> 2\u001b[0;31m     \u001b[0merr\u001b[0m \u001b[0;34m=\u001b[0m \u001b[0mattention_discriminator\u001b[0m\u001b[0;34m.\u001b[0m\u001b[0mtrain_step\u001b[0m\u001b[0;34m(\u001b[0m\u001b[0mbx\u001b[0m\u001b[0;34m,\u001b[0m \u001b[0mby\u001b[0m\u001b[0;34m,\u001b[0m \u001b[0mrespondent\u001b[0m\u001b[0;34m,\u001b[0m \u001b[0;36m20\u001b[0m\u001b[0;34m)\u001b[0m\u001b[0;34m\u001b[0m\u001b[0m\n\u001b[0m\u001b[1;32m      3\u001b[0m     \u001b[0mpretrain_attention_discr_loss\u001b[0m\u001b[0;34m.\u001b[0m\u001b[0mappend\u001b[0m\u001b[0;34m(\u001b[0m\u001b[0merr\u001b[0m\u001b[0;34m)\u001b[0m\u001b[0;34m\u001b[0m\u001b[0m\n\u001b[1;32m      4\u001b[0m     \u001b[0;32mprint\u001b[0m\u001b[0;34m(\u001b[0m\u001b[0;34m\"%.5f\"\u001b[0m\u001b[0;34m%\u001b[0m\u001b[0merr\u001b[0m\u001b[0;34m)\u001b[0m\u001b[0;34m\u001b[0m\u001b[0m\n",
      "\u001b[0;32m/anaconda2/lib/python2.7/site-packages/theano/compile/function_module.pyc\u001b[0m in \u001b[0;36m__call__\u001b[0;34m(self, *args, **kwargs)\u001b[0m\n\u001b[1;32m    882\u001b[0m         \u001b[0;32mtry\u001b[0m\u001b[0;34m:\u001b[0m\u001b[0;34m\u001b[0m\u001b[0m\n\u001b[1;32m    883\u001b[0m             \u001b[0moutputs\u001b[0m \u001b[0;34m=\u001b[0m\u001b[0;31m\\\u001b[0m\u001b[0;34m\u001b[0m\u001b[0m\n\u001b[0;32m--> 884\u001b[0;31m                 \u001b[0mself\u001b[0m\u001b[0;34m.\u001b[0m\u001b[0mfn\u001b[0m\u001b[0;34m(\u001b[0m\u001b[0;34m)\u001b[0m \u001b[0;32mif\u001b[0m \u001b[0moutput_subset\u001b[0m \u001b[0;32mis\u001b[0m \u001b[0mNone\u001b[0m \u001b[0;32melse\u001b[0m\u001b[0;31m\\\u001b[0m\u001b[0;34m\u001b[0m\u001b[0m\n\u001b[0m\u001b[1;32m    885\u001b[0m                 \u001b[0mself\u001b[0m\u001b[0;34m.\u001b[0m\u001b[0mfn\u001b[0m\u001b[0;34m(\u001b[0m\u001b[0moutput_subset\u001b[0m\u001b[0;34m=\u001b[0m\u001b[0moutput_subset\u001b[0m\u001b[0;34m)\u001b[0m\u001b[0;34m\u001b[0m\u001b[0m\n\u001b[1;32m    886\u001b[0m         \u001b[0;32mexcept\u001b[0m \u001b[0mException\u001b[0m\u001b[0;34m:\u001b[0m\u001b[0;34m\u001b[0m\u001b[0m\n",
      "\u001b[0;32m/anaconda2/lib/python2.7/site-packages/theano/scan_module/scan_op.pyc\u001b[0m in \u001b[0;36mrval\u001b[0;34m(p, i, o, n, allow_gc)\u001b[0m\n\u001b[1;32m    987\u001b[0m         def rval(p=p, i=node_input_storage, o=node_output_storage, n=node,\n\u001b[1;32m    988\u001b[0m                  allow_gc=allow_gc):\n\u001b[0;32m--> 989\u001b[0;31m             \u001b[0mr\u001b[0m \u001b[0;34m=\u001b[0m \u001b[0mp\u001b[0m\u001b[0;34m(\u001b[0m\u001b[0mn\u001b[0m\u001b[0;34m,\u001b[0m \u001b[0;34m[\u001b[0m\u001b[0mx\u001b[0m\u001b[0;34m[\u001b[0m\u001b[0;36m0\u001b[0m\u001b[0;34m]\u001b[0m \u001b[0;32mfor\u001b[0m \u001b[0mx\u001b[0m \u001b[0;32min\u001b[0m \u001b[0mi\u001b[0m\u001b[0;34m]\u001b[0m\u001b[0;34m,\u001b[0m \u001b[0mo\u001b[0m\u001b[0;34m)\u001b[0m\u001b[0;34m\u001b[0m\u001b[0m\n\u001b[0m\u001b[1;32m    990\u001b[0m             \u001b[0;32mfor\u001b[0m \u001b[0mo\u001b[0m \u001b[0;32min\u001b[0m \u001b[0mnode\u001b[0m\u001b[0;34m.\u001b[0m\u001b[0moutputs\u001b[0m\u001b[0;34m:\u001b[0m\u001b[0;34m\u001b[0m\u001b[0m\n\u001b[1;32m    991\u001b[0m                 \u001b[0mcompute_map\u001b[0m\u001b[0;34m[\u001b[0m\u001b[0mo\u001b[0m\u001b[0;34m]\u001b[0m\u001b[0;34m[\u001b[0m\u001b[0;36m0\u001b[0m\u001b[0;34m]\u001b[0m \u001b[0;34m=\u001b[0m \u001b[0mTrue\u001b[0m\u001b[0;34m\u001b[0m\u001b[0m\n",
      "\u001b[0;32m/anaconda2/lib/python2.7/site-packages/theano/scan_module/scan_op.pyc\u001b[0m in \u001b[0;36mp\u001b[0;34m(node, args, outs)\u001b[0m\n\u001b[1;32m    976\u001b[0m                                                 \u001b[0margs\u001b[0m\u001b[0;34m,\u001b[0m\u001b[0;34m\u001b[0m\u001b[0m\n\u001b[1;32m    977\u001b[0m                                                 \u001b[0mouts\u001b[0m\u001b[0;34m,\u001b[0m\u001b[0;34m\u001b[0m\u001b[0m\n\u001b[0;32m--> 978\u001b[0;31m                                                 self, node)\n\u001b[0m\u001b[1;32m    979\u001b[0m         \u001b[0;32mexcept\u001b[0m \u001b[0;34m(\u001b[0m\u001b[0mImportError\u001b[0m\u001b[0;34m,\u001b[0m \u001b[0mtheano\u001b[0m\u001b[0;34m.\u001b[0m\u001b[0mgof\u001b[0m\u001b[0;34m.\u001b[0m\u001b[0mcmodule\u001b[0m\u001b[0;34m.\u001b[0m\u001b[0mMissingGXX\u001b[0m\u001b[0;34m)\u001b[0m\u001b[0;34m:\u001b[0m\u001b[0;34m\u001b[0m\u001b[0m\n\u001b[1;32m    980\u001b[0m             \u001b[0mp\u001b[0m \u001b[0;34m=\u001b[0m \u001b[0mself\u001b[0m\u001b[0;34m.\u001b[0m\u001b[0mexecute\u001b[0m\u001b[0;34m\u001b[0m\u001b[0m\n",
      "\u001b[0;32mtheano/scan_module/scan_perform.pyx\u001b[0m in \u001b[0;36mtheano.scan_module.scan_perform.perform (/home/common/.theano/compiledir_Linux-4.8--generic-x86_64-with-debian-stretch-sid-x86_64-2.7.13-64/scan_perform/mod.cpp:4490)\u001b[0;34m()\u001b[0m\n",
      "\u001b[0;32m/anaconda2/lib/python2.7/site-packages/theano/gof/op.pyc\u001b[0m in \u001b[0;36mrval\u001b[0;34m(p, i, o, n)\u001b[0m\n\u001b[1;32m    885\u001b[0m         \u001b[0;32mif\u001b[0m \u001b[0mparams\u001b[0m \u001b[0;32mis\u001b[0m \u001b[0mgraph\u001b[0m\u001b[0;34m.\u001b[0m\u001b[0mNoParams\u001b[0m\u001b[0;34m:\u001b[0m\u001b[0;34m\u001b[0m\u001b[0m\n\u001b[1;32m    886\u001b[0m             \u001b[0;31m# default arguments are stored in the closure of `rval`\u001b[0m\u001b[0;34m\u001b[0m\u001b[0;34m\u001b[0m\u001b[0m\n\u001b[0;32m--> 887\u001b[0;31m             \u001b[0;32mdef\u001b[0m \u001b[0mrval\u001b[0m\u001b[0;34m(\u001b[0m\u001b[0mp\u001b[0m\u001b[0;34m=\u001b[0m\u001b[0mp\u001b[0m\u001b[0;34m,\u001b[0m \u001b[0mi\u001b[0m\u001b[0;34m=\u001b[0m\u001b[0mnode_input_storage\u001b[0m\u001b[0;34m,\u001b[0m \u001b[0mo\u001b[0m\u001b[0;34m=\u001b[0m\u001b[0mnode_output_storage\u001b[0m\u001b[0;34m,\u001b[0m \u001b[0mn\u001b[0m\u001b[0;34m=\u001b[0m\u001b[0mnode\u001b[0m\u001b[0;34m)\u001b[0m\u001b[0;34m:\u001b[0m\u001b[0;34m\u001b[0m\u001b[0m\n\u001b[0m\u001b[1;32m    888\u001b[0m                 \u001b[0mr\u001b[0m \u001b[0;34m=\u001b[0m \u001b[0mp\u001b[0m\u001b[0;34m(\u001b[0m\u001b[0mn\u001b[0m\u001b[0;34m,\u001b[0m \u001b[0;34m[\u001b[0m\u001b[0mx\u001b[0m\u001b[0;34m[\u001b[0m\u001b[0;36m0\u001b[0m\u001b[0;34m]\u001b[0m \u001b[0;32mfor\u001b[0m \u001b[0mx\u001b[0m \u001b[0;32min\u001b[0m \u001b[0mi\u001b[0m\u001b[0;34m]\u001b[0m\u001b[0;34m,\u001b[0m \u001b[0mo\u001b[0m\u001b[0;34m)\u001b[0m\u001b[0;34m\u001b[0m\u001b[0m\n\u001b[1;32m    889\u001b[0m                 \u001b[0;32mfor\u001b[0m \u001b[0mo\u001b[0m \u001b[0;32min\u001b[0m \u001b[0mnode\u001b[0m\u001b[0;34m.\u001b[0m\u001b[0moutputs\u001b[0m\u001b[0;34m:\u001b[0m\u001b[0;34m\u001b[0m\u001b[0m\n",
      "\u001b[0;31mKeyboardInterrupt\u001b[0m: "
     ]
    }
   ],
   "source": [
    "for bx, by, respondent in generate_data(data_rows, speakers_list=speakers_list, n_iter=15000, max_len=seq_len):\n",
    "    err = attention_discriminator.train_step(bx, by, respondent, 20)\n",
    "    pretrain_attention_discr_loss.append(err)\n",
    "    print(\"%.5f\"%err)"
   ]
  },
  {
   "cell_type": "code",
   "execution_count": 94,
   "metadata": {
    "collapsed": false
   },
   "outputs": [
    {
     "data": {
      "image/png": "[encoded data removed]",
      "text/plain": [
       "<matplotlib.figure.Figure at 0x7fbd074cc390>"
      ]
     },
     "metadata": {},
     "output_type": "display_data"
    }
   ],
   "source": [
    "plot_smoothed(pretrain_attention_discr_loss, n=1000)"
   ]
  },
  {
   "cell_type": "code",
   "execution_count": 216,
   "metadata": {
    "collapsed": true
   },
   "outputs": [],
   "source": [
    "from agentnet.utils.persistence import save, load\n",
    "save(attention_discriminator.recurrence, 'pretrain_att_discr_ent2.pkl')"
   ]
  },
  {
   "cell_type": "markdown",
   "metadata": {},
   "source": [
    "attention sum loss"
   ]
  },
  {
   "cell_type": "code",
   "execution_count": 95,
   "metadata": {
    "collapsed": false
   },
   "outputs": [
    {
     "data": {
      "text/plain": [
       "<matplotlib.image.AxesImage at 0x7fbd1c577290>"
      ]
     },
     "execution_count": 95,
     "metadata": {},
     "output_type": "execute_result"
    },
    {
     "data": {
      "image/png": "[encoded data removed]",
      "text/plain": [
       "<matplotlib.figure.Figure at 0x7fbd1db01fd0>"
      ]
     },
     "metadata": {},
     "output_type": "display_data"
    }
   ],
   "source": [
    "att_seqs = attention_discriminator.get_attention_real(one_batch[0], one_batch[1])\n",
    "plt.imshow(att_seqs[:, 0])"
   ]
  },
  {
   "cell_type": "markdown",
   "metadata": {},
   "source": [
    "С необученными эмбеддингами имен в общем пространстве:"
   ]
  },
  {
   "cell_type": "code",
   "execution_count": 254,
   "metadata": {
    "collapsed": false
   },
   "outputs": [
    {
     "data": {
      "text/plain": [
       "<matplotlib.image.AxesImage at 0x7fa2de994490>"
      ]
     },
     "execution_count": 254,
     "metadata": {},
     "output_type": "execute_result"
    },
    {
     "data": {
      "image/png": "[encoded data removed]",
      "text/plain": [
       "<matplotlib.figure.Figure at 0x7fa2dd77c8d0>"
      ]
     },
     "metadata": {},
     "output_type": "display_data"
    }
   ],
   "source": [
    "att_seqs4 = attention_discriminator.get_attention_real(one_batch[0], one_batch[1])\n",
    "plt.imshow(att_seqs4[:, 0])"
   ]
  },
  {
   "cell_type": "code",
   "execution_count": 47,
   "metadata": {
    "collapsed": true
   },
   "outputs": [],
   "source": [
    "from termcolor import colored\n",
    "\n",
    "def phrase_from_idx(idxs, crop_by_eos=False):\n",
    "    if crop_by_eos and EOS_ix in idxs:\n",
    "        idxs = idxs[:list(idxs).index(EOS_ix)]\n",
    "        \n",
    "    phrase_tokens = map(tokens.__getitem__, idxs)\n",
    "    return phrase_tokens\n",
    "\n",
    "\n",
    "def print_phrase_and_attention(phrase, attention):\n",
    "    low = np.percentile(attention, 50.)\n",
    "    medium = np.percentile(attention, 70.)\n",
    "    high = np.percentile(attention, 80.)\n",
    "    plt.imshow(attention);\n",
    "    plt.show()\n",
    "    high_att_idxs = np.where(attention[0] >= high)[0]\n",
    "    prev_idx = 0\n",
    "    for idx in high_att_idxs:\n",
    "        print ' '.join(phrase_from_idx(phrase[prev_idx:idx])),\n",
    "        print colored(phrase_from_idx([phrase[idx]])[0], 'red'),\n",
    "        prev_idx = idx + 1\n",
    "    print ' '.join(phrase_from_idx(phrase[prev_idx:]))\n",
    "    #print ' '.join(phrase_from_idx(phrase))"
   ]
  },
  {
   "cell_type": "markdown",
   "metadata": {},
   "source": [
    "Test on names"
   ]
  },
  {
   "cell_type": "code",
   "execution_count": 221,
   "metadata": {
    "collapsed": false
   },
   "outputs": [
    {
     "name": "stdout",
     "output_type": "stream",
     "text": [
      "0.300507\n"
     ]
    },
    {
     "data": {
      "image/png": "[encoded data removed]",
      "text/plain": [
       "<matplotlib.figure.Figure at 0x7f14cd4e4450>"
      ]
     },
     "metadata": {},
     "output_type": "display_data"
    },
    {
     "name": "stdout",
     "output_type": "stream",
     "text": [
      "hello _EOS_ hello _EOS_ what is your \u001b[31mname\u001b[0m  \u001b[31m?\u001b[0m _EOS_ _PAD_ _PAD_ _PAD_ _PAD_ _PAD_ _PAD_ _PAD_ _PAD_ _PAD_ _PAD_\n",
      "GENERATED:  mark , mark , mark , you must remove your powers !\n"
     ]
    }
   ],
   "source": [
    "name_id = 439\n",
    "name_batch =  phrase_to_matrix([[\"Hello\", \"Hello\", \"What is your name ? \"]], max_len=20)\n",
    "att_seqs = attention_discriminator.get_attention_fake(name_batch, [name_id], 20)\n",
    "gen_answer, gen_reward = test_discr_fn(name_batch, [name_id], 20)\n",
    "gen_answer = ' '.join(phrase_from_idx(gen_answer[0], crop_by_eos=True))\n",
    "print gen_reward[0, -1, 1]\n",
    "print_phrase_and_attention(name_batch[0], att_seqs[:, 0])\n",
    "print \"GENERATED: \", gen_answer"
   ]
  },
  {
   "cell_type": "markdown",
   "metadata": {},
   "source": [
    "Rewards distribution"
   ]
  },
  {
   "cell_type": "code",
   "execution_count": 222,
   "metadata": {
    "collapsed": false
   },
   "outputs": [
    {
     "data": {
      "image/png": "[encoded data removed]",
      "text/plain": [
       "<matplotlib.figure.Figure at 0x7f14f60bc0d0>"
      ]
     },
     "metadata": {},
     "output_type": "display_data"
    }
   ],
   "source": [
    "plt.hist(gen_rewards[:, -1, 1]);"
   ]
  },
  {
   "cell_type": "code",
   "execution_count": 48,
   "metadata": {
    "collapsed": false
   },
   "outputs": [
    {
     "name": "stdout",
     "output_type": "stream",
     "text": [
      "0.580203\n"
     ]
    },
    {
     "data": {
      "image/png": "[encoded data removed]",
      "text/plain": [
       "<matplotlib.figure.Figure at 0x7fbd5d3649d0>"
      ]
     },
     "metadata": {},
     "output_type": "display_data"
    },
    {
     "name": "stdout",
     "output_type": "stream",
     "text": [
      "hello _EOS_ hello _EOS_ \u001b[31mwhat\u001b[0m  \u001b[31mis\u001b[0m your \u001b[31mname\u001b[0m  \u001b[31m?\u001b[0m _EOS_ _PAD_ _PAD_ _PAD_ _PAD_ _PAD_ _PAD_ _PAD_ _PAD_ _PAD_ _PAD_\n",
      "GENERATED:  baptize ta , l . c . o . broflovski .\n"
     ]
    }
   ],
   "source": [
    "name_id = 439\n",
    "name_batch =  phrase_to_matrix([[\"Hello\", \"Hello\", \"What is your name ? \"]], max_len=20)\n",
    "att_seqs = attention_discriminator.get_attention_fake(name_batch, [name_id], 20)\n",
    "gen_answer, gen_reward = test_discr_fn(name_batch, [name_id], 20)\n",
    "gen_answer = ' '.join(phrase_from_idx(gen_answer[0], crop_by_eos=True))\n",
    "print gen_reward[0, -1, 1]\n",
    "print_phrase_and_attention(name_batch[0], att_seqs[:, 0])\n",
    "print \"GENERATED: \", gen_answer"
   ]
  },
  {
   "cell_type": "code",
   "execution_count": 121,
   "metadata": {
    "collapsed": false
   },
   "outputs": [
    {
     "data": {
      "text/plain": [
       "'manson'"
      ]
     },
     "execution_count": 121,
     "metadata": {},
     "output_type": "execute_result"
    }
   ],
   "source": [
    "names[439]"
   ]
  },
  {
   "cell_type": "code",
   "execution_count": 50,
   "metadata": {
    "collapsed": false
   },
   "outputs": [
    {
     "name": "stdout",
     "output_type": "stream",
     "text": [
      "0.543448\n"
     ]
    },
    {
     "data": {
      "image/png": "[encoded data removed]",
      "text/plain": [
       "<matplotlib.figure.Figure at 0x7fbd146e31d0>"
      ]
     },
     "metadata": {},
     "output_type": "display_data"
    },
    {
     "name": "stdout",
     "output_type": "stream",
     "text": [
      "mom ! _EOS_ kyle ! _EOS_ i should have known \u001b[31mthey\u001b[0m  \u001b[31mwere\u001b[0m crab people . \u001b[31mthey\u001b[0m  \u001b[31mtried\u001b[0m this before with\n",
      "REAL:  so now , can you\n",
      "GENERATED:  are you sure ? come on , this bff , david blaine is drinking tea ?\n",
      "0.674853\n"
     ]
    },
    {
     "data": {
      "image/png": "[encoded data removed]",
      "text/plain": [
       "<matplotlib.figure.Figure at 0x7fbd073eedd0>"
      ]
     },
     "metadata": {},
     "output_type": "display_data"
    },
    {
     "name": "stdout",
     "output_type": "stream",
     "text": [
      "ike ! you are no longer to watch that stupid \u001b[31mlittle\u001b[0m youtube _UNK_ asshole \u001b[31m!\u001b[0m do you understand \u001b[31m?\u001b[0m  \u001b[31m!\u001b[0m \n",
      "REAL:  and they smell like soap .\n",
      "GENERATED:  no no no . independent films are made at their favorite superhero movies .\n",
      "0.431099\n"
     ]
    },
    {
     "data": {
      "image/png": "[encoded data removed]",
      "text/plain": [
       "<matplotlib.figure.Figure at 0x7fbd072c2050>"
      ]
     },
     "metadata": {},
     "output_type": "display_data"
    },
    {
     "name": "stdout",
     "output_type": "stream",
     "text": [
      " \u001b[31mwait\u001b[0m ! i ' \u001b[31mll\u001b[0m  \u001b[31mfight\u001b[0m ! _EOS_ tomorrow ? _EOS_ \u001b[31mokay\u001b[0m . _EOS_ _PAD_ _PAD_ _PAD_ _PAD_ _PAD_ _PAD_\n",
      "REAL:  craig , what the hell are you doing home ? ! you ' re supposed to be out fighting tweek\n",
      "GENERATED:  listen , the graphics on the phone have really real consequences\n",
      "0.44142\n"
     ]
    },
    {
     "data": {
      "image/png": "[encoded data removed]",
      "text/plain": [
       "<matplotlib.figure.Figure at 0x7fbd07267fd0>"
      ]
     },
     "metadata": {},
     "output_type": "display_data"
    },
    {
     "name": "stdout",
     "output_type": "stream",
     "text": [
      "yes . _EOS_ let ' s go make \u001b[31mthings\u001b[0m out of egg cartons . _EOS_ \u001b[31moooh\u001b[0m , \u001b[31myeah\u001b[0m . \u001b[31mi\u001b[0m \n",
      "REAL:  yeess .\n",
      "GENERATED:  ooh , look what we got ' em .\n",
      "0.35782\n"
     ]
    },
    {
     "data": {
      "image/png": "[encoded data removed]",
      "text/plain": [
       "<matplotlib.figure.Figure at 0x7fbd071999d0>"
      ]
     },
     "metadata": {},
     "output_type": "display_data"
    },
    {
     "name": "stdout",
     "output_type": "stream",
     "text": [
      "all right all right , fine ! _EOS_ could you spare some change , \u001b[31msir\u001b[0m  \u001b[31m?\u001b[0m _EOS_ _UNK_ \u001b[31m!\u001b[0m  \u001b[31m_EOS_\u001b[0m \n",
      "REAL:  i ' ve dissected several homeless to see what make them tick . their anatomy is shockingly similar to ours\n",
      "GENERATED:  what the hell are you doing ?\n",
      "0.417008\n"
     ]
    },
    {
     "data": {
      "image/png": "[encoded data removed]",
      "text/plain": [
       "<matplotlib.figure.Figure at 0x7fbd070bda50>"
      ]
     },
     "metadata": {},
     "output_type": "display_data"
    },
    {
     "name": "stdout",
     "output_type": "stream",
     "text": [
      "oh shit . who had \u001b[31mthe\u001b[0m ticket \u001b[31mstub\u001b[0m  \u001b[31m?\u001b[0m _EOS_ it was such a long time ago \u001b[31m!\u001b[0m _EOS_ wu\n",
      "REAL:  don ' t need the ticket stub ? ? are you high ? ? how else do i know you\n",
      "GENERATED:  butters ?\n",
      "0.528878\n"
     ]
    },
    {
     "data": {
      "image/png": "[encoded data removed]",
      "text/plain": [
       "<matplotlib.figure.Figure at 0x7fbd07063d90>"
      ]
     },
     "metadata": {},
     "output_type": "display_data"
    },
    {
     "name": "stdout",
     "output_type": "stream",
     "text": [
      "peter nelson ? _EOS_ yes ? _EOS_ brandon carlile , reporter , spin magazine . \u001b[31mi\u001b[0m  \u001b[31munderstand\u001b[0m  \u001b[31myou\u001b[0m  \u001b[31mwork\u001b[0m at\n",
      "REAL:  yeah , that ' s right .\n",
      "GENERATED:  hey stan , how did -\n",
      "0.60114\n"
     ]
    },
    {
     "data": {
      "image/png": "[encoded data removed]",
      "text/plain": [
       "<matplotlib.figure.Figure at 0x7fbd06f89f90>"
      ]
     },
     "metadata": {},
     "output_type": "display_data"
    },
    {
     "name": "stdout",
     "output_type": "stream",
     "text": [
      "mingie , what ' re you \u001b[31mdoin\u001b[0m  \u001b[31m'\u001b[0m  \u001b[31m?\u001b[0m _EOS_ gettin ' ou ' a here gary \u001b[31m!\u001b[0m one way\n",
      "REAL:  shut up ! shut up , you miserable old cow , or so help me i ' ll blow your\n",
      "GENERATED:  you don ' t want the girls back to their younger adults -\n",
      "0.118277\n"
     ]
    },
    {
     "data": {
      "image/png": "[encoded data removed]",
      "text/plain": [
       "<matplotlib.figure.Figure at 0x7fbd07206710>"
      ]
     },
     "metadata": {},
     "output_type": "display_data"
    },
    {
     "name": "stdout",
     "output_type": "stream",
     "text": [
      "well \u001b[31m,\u001b[0m  \u001b[31mhe\u001b[0m  \u001b[31m_EOS_\u001b[0m mr . garrison , i will remind you that we are in court \u001b[31m!\u001b[0m _EOS_ okay\n",
      "REAL:  principal victoria , were you aware that my client was being harassed at your school ?\n",
      "GENERATED:  as soon as the election ' s run over , boys , you go ahead and ' yo ' ass\n",
      "0.567022\n"
     ]
    },
    {
     "data": {
      "image/png": "[encoded data removed]",
      "text/plain": [
       "<matplotlib.figure.Figure at 0x7fbd06e56fd0>"
      ]
     },
     "metadata": {},
     "output_type": "display_data"
    },
    {
     "name": "stdout",
     "output_type": "stream",
     "text": [
      " \u001b[31meeewww\u001b[0m ! _EOS_ \u001b[31mhey\u001b[0m ! \u001b[31m_EOS_\u001b[0m  \u001b[31msorry\u001b[0m . _EOS_ _PAD_ _PAD_ _PAD_ _PAD_ _PAD_ _PAD_ _PAD_ _PAD_ _PAD_ _PAD_ _PAD_\n",
      "REAL:  well , why don ' t we just explore our sexuality ?\n",
      "GENERATED:  wait up .\n",
      "0.240307\n"
     ]
    },
    {
     "data": {
      "image/png": "[encoded data removed]",
      "text/plain": [
       "<matplotlib.figure.Figure at 0x7fbd06d7db10>"
      ]
     },
     "metadata": {},
     "output_type": "display_data"
    },
    {
     "name": "stdout",
     "output_type": "stream",
     "text": [
      "we are honored \u001b[31mto\u001b[0m  \u001b[31mhave\u001b[0m creators in our kingdom . _EOS_ now , \u001b[31mgood\u001b[0m news , everyone \u001b[31m!\u001b[0m these boys\n",
      "REAL:  well he said there was gonna be a - . . . that there was . . . gonna be\n",
      "GENERATED:  those ethiopians should live out in south park ' s park .\n",
      "0.51924\n"
     ]
    },
    {
     "data": {
      "image/png": "[encoded data removed]",
      "text/plain": [
       "<matplotlib.figure.Figure at 0x7fbd06e69e10>"
      ]
     },
     "metadata": {},
     "output_type": "display_data"
    },
    {
     "name": "stdout",
     "output_type": "stream",
     "text": [
      "you don ' \u001b[31mt\u001b[0m  \u001b[31mknow\u001b[0m  \u001b[31manything\u001b[0m  \u001b[31m!\u001b[0m _EOS_ i ' ve been wanting to stop going to those places ,\n",
      "REAL:  it just . . . it started as some curiosity on the internet . i would chat with other married\n",
      "GENERATED:  it ' s really great seeing you again for the holidays !\n",
      "0.613946\n"
     ]
    },
    {
     "data": {
      "image/png": "[encoded data removed]",
      "text/plain": [
       "<matplotlib.figure.Figure at 0x7fbd06c53990>"
      ]
     },
     "metadata": {},
     "output_type": "display_data"
    },
    {
     "name": "stdout",
     "output_type": "stream",
     "text": [
      "yeah ! this is bullshit ! _EOS_ together , we ' re \u001b[31mgonna\u001b[0m  \u001b[31mlearn\u001b[0m  \u001b[31mwhat\u001b[0m  \u001b[31mmakes\u001b[0m us angry , okay\n",
      "REAL:  rook ! _UNK_ somebody ordereduh shitty beef , anduh complain because they say they ordereduh shitty shrimp , it '\n",
      "GENERATED:  ' cause you think we what you have , too , don ' t you , dude ? we '\n",
      "0.409537\n"
     ]
    },
    {
     "data": {
      "image/png": "[encoded data removed]",
      "text/plain": [
       "<matplotlib.figure.Figure at 0x7fbd06b70d10>"
      ]
     },
     "metadata": {},
     "output_type": "display_data"
    },
    {
     "name": "stdout",
     "output_type": "stream",
     "text": [
      "we ' re \u001b[31mgonna\u001b[0m  \u001b[31mcharge\u001b[0m the front door \u001b[31mand\u001b[0m go get \u001b[31mit\u001b[0m . _EOS_ no you ' re not .\n",
      "REAL:  time out , kid ! we say you can ' t charge the front door , and you have to\n",
      "GENERATED:  did you get it ? !\n",
      "0.130712\n"
     ]
    },
    {
     "data": {
      "image/png": "[encoded data removed]",
      "text/plain": [
       "<matplotlib.figure.Figure at 0x7fbd06b1fc90>"
      ]
     },
     "metadata": {},
     "output_type": "display_data"
    },
    {
     "name": "stdout",
     "output_type": "stream",
     "text": [
      "well \u001b[31m,\u001b[0m  \u001b[31mthe\u001b[0m  \u001b[31mreason\u001b[0m  \u001b[31mi\u001b[0m ' m calling is that butters is supposed to go see his aunt nellie in\n",
      "REAL:  oh , but i suppose it would be good for him . yes , of course he can go .\n",
      "GENERATED:  well what about the time ? passed ? should i be going on easter ?\n",
      "0.53989\n"
     ]
    },
    {
     "data": {
      "image/png": "[encoded data removed]",
      "text/plain": [
       "<matplotlib.figure.Figure at 0x7fbd06b8ed50>"
      ]
     },
     "metadata": {},
     "output_type": "display_data"
    },
    {
     "name": "stdout",
     "output_type": "stream",
     "text": [
      "an absolutely gorgeous \u001b[31mgun\u001b[0m  \u001b[31m,\u001b[0m  \u001b[31mdavid\u001b[0m  \u001b[31m.\u001b[0m _EOS_ the playful and lovely australian _UNK_ owned by father maxi . _EOS_\n",
      "REAL:  that ' s a favorite of the crow here . always a favorite at these shows .\n",
      "GENERATED:  here it is ! here we go !\n",
      "0.469232\n"
     ]
    },
    {
     "data": {
      "image/png": "[encoded data removed]",
      "text/plain": [
       "<matplotlib.figure.Figure at 0x7fbd069ece90>"
      ]
     },
     "metadata": {},
     "output_type": "display_data"
    },
    {
     "name": "stdout",
     "output_type": "stream",
     "text": [
      "oh ! _EOS_ die ! _EOS_ ow ! _EOS_ _PAD_ _PAD_ _PAD_ _PAD_ _PAD_ _PAD_ _PAD_ \u001b[31m_PAD_\u001b[0m  \u001b[31m_PAD_\u001b[0m  \u001b[31m_PAD_\u001b[0m  \u001b[31m_PAD_\u001b[0m \n",
      "REAL:  get out !\n",
      "GENERATED:  _UNK_ !\n",
      "0.333221\n"
     ]
    },
    {
     "data": {
      "image/png": "[encoded data removed]",
      "text/plain": [
       "<matplotlib.figure.Figure at 0x7fbd06910cd0>"
      ]
     },
     "metadata": {},
     "output_type": "display_data"
    },
    {
     "name": "stdout",
     "output_type": "stream",
     "text": [
      "oh . . . oohhhh . _EOS_ it is lying , butters . your parents \u001b[31mlied\u001b[0m  \u001b[31mto\u001b[0m  \u001b[31myou\u001b[0m  \u001b[31mand\u001b[0m my\n",
      "REAL:  who ' s that ?\n",
      "GENERATED:  sure these are a bunch of information you have at your girlfriend alexandra\n",
      "0.491901\n"
     ]
    },
    {
     "data": {
      "image/png": "[encoded data removed]",
      "text/plain": [
       "<matplotlib.figure.Figure at 0x7fbd06980a10>"
      ]
     },
     "metadata": {},
     "output_type": "display_data"
    },
    {
     "name": "stdout",
     "output_type": "stream",
     "text": [
      "dad ? dad ? _EOS_ staaan . _EOS_ i know you \u001b[31mdo\u001b[0m  \u001b[31m,\u001b[0m  \u001b[31mdad\u001b[0m  \u001b[31m.\u001b[0m _EOS_ _PAD_ _PAD_ _PAD_ _PAD_\n",
      "REAL:  augh ! aaaaaaaaaaaaaaaaaaa . . .\n",
      "GENERATED:  did you know that being your boyfriend used to be a tobacco company long enough to only know about 9\n",
      "0.45303\n"
     ]
    },
    {
     "data": {
      "image/png": "[encoded data removed]",
      "text/plain": [
       "<matplotlib.figure.Figure at 0x7fbd06926ed0>"
      ]
     },
     "metadata": {},
     "output_type": "display_data"
    },
    {
     "name": "stdout",
     "output_type": "stream",
     "text": [
      "terrorists have just attacked . . . our imagination . _EOS_ if the terrorists blow that \u001b[31mbarrier\u001b[0m  \u001b[31m,\u001b[0m  \u001b[31mall\u001b[0m  \u001b[31mthe\u001b[0m \n",
      "REAL:  no ! !\n",
      "GENERATED:  impossible !\n",
      "0.545603\n"
     ]
    },
    {
     "data": {
      "image/png": "[encoded data removed]",
      "text/plain": [
       "<matplotlib.figure.Figure at 0x7fbd06b85d90>"
      ]
     },
     "metadata": {},
     "output_type": "display_data"
    },
    {
     "name": "stdout",
     "output_type": "stream",
     "text": [
      "ms . claridge , you all right ? _EOS_ can kyle come out and \u001b[31mplay\u001b[0m ? _EOS_ \u001b[31moh\u001b[0m  \u001b[31m,\u001b[0m  \u001b[31mkyle\u001b[0m \n",
      "REAL:  thank you , ma ' am .\n",
      "GENERATED:  but it can ' t work .\n",
      "0.780225\n"
     ]
    },
    {
     "data": {
      "image/png": "[encoded data removed]",
      "text/plain": [
       "<matplotlib.figure.Figure at 0x7fbd06980c90>"
      ]
     },
     "metadata": {},
     "output_type": "display_data"
    },
    {
     "name": "stdout",
     "output_type": "stream",
     "text": [
      "now , what seems to be the \u001b[31mproblem\u001b[0m  \u001b[31m?\u001b[0m _EOS_ \u001b[31maw\u001b[0m , \u001b[31mi\u001b[0m just hit my nose playing dodgeball .\n",
      "REAL:  _UNK_ ! !\n",
      "GENERATED:  don ' t worry , muhammad may be fixed and trouble . we ' ll make you fly . soon\n",
      "0.500891\n"
     ]
    },
    {
     "data": {
      "image/png": "[encoded data removed]",
      "text/plain": [
       "<matplotlib.figure.Figure at 0x7fbd06779650>"
      ]
     },
     "metadata": {},
     "output_type": "display_data"
    },
    {
     "name": "stdout",
     "output_type": "stream",
     "text": [
      ". . . how ? _EOS_ boy band . _EOS_ boy band ? _EOS_ _PAD_ _PAD_ \u001b[31m_PAD_\u001b[0m  \u001b[31m_PAD_\u001b[0m  \u001b[31m_PAD_\u001b[0m  \u001b[31m_PAD_\u001b[0m \n",
      "REAL:  boy band .\n",
      "GENERATED:  we aren ' t doing too old for parents , we had nothing to do . what do you mean\n",
      "0.44606\n"
     ]
    },
    {
     "data": {
      "image/png": "[encoded data removed]",
      "text/plain": [
       "<matplotlib.figure.Figure at 0x7fbd06648cd0>"
      ]
     },
     "metadata": {},
     "output_type": "display_data"
    },
    {
     "name": "stdout",
     "output_type": "stream",
     "text": [
      "howdy ho , \u001b[31mboys\u001b[0m  \u001b[31m.\u001b[0m _EOS_ mr . hankey \u001b[31m?\u001b[0m _EOS_ gosh , \u001b[31myou\u001b[0m boys smell like flowers . _EOS_\n",
      "REAL:  you ' re not the real mr . hankey .\n",
      "GENERATED:  don ' t you _UNK_ their _UNK_ ?\n",
      "0.789896\n"
     ]
    },
    {
     "data": {
      "image/png": "[encoded data removed]",
      "text/plain": [
       "<matplotlib.figure.Figure at 0x7fbd0649cf50>"
      ]
     },
     "metadata": {},
     "output_type": "display_data"
    },
    {
     "name": "stdout",
     "output_type": "stream",
     "text": [
      "yes , you \u001b[31m'\u001b[0m  \u001b[31mre\u001b[0m  \u001b[31mright\u001b[0m , kyle . \u001b[31mi\u001b[0m ' m sure that _EOS_ your attention , please .\n",
      "REAL:  kyle broflovski to the principal ' s office . please . _UNK_ ?\n",
      "GENERATED:  this is poetic _UNK_ ? you ' re gay ? let ' s do jokes out . cheers and fags\n",
      "0.251142\n"
     ]
    },
    {
     "data": {
      "image/png": "[encoded data removed]",
      "text/plain": [
       "<matplotlib.figure.Figure at 0x7fbd06720850>"
      ]
     },
     "metadata": {},
     "output_type": "display_data"
    },
    {
     "name": "stdout",
     "output_type": "stream",
     "text": [
      " \u001b[31maw\u001b[0m  \u001b[31m,\u001b[0m  \u001b[31mcome\u001b[0m on , dude . let her try . _EOS_ no \u001b[31mway\u001b[0m ! _EOS_ come on , cartman\n",
      "REAL:  okayokay , fine .\n",
      "GENERATED:  you know what you see as now , evil spark .\n",
      "0.372145\n"
     ]
    },
    {
     "data": {
      "image/png": "[encoded data removed]",
      "text/plain": [
       "<matplotlib.figure.Figure at 0x7fbd062f5ed0>"
      ]
     },
     "metadata": {},
     "output_type": "display_data"
    },
    {
     "name": "stdout",
     "output_type": "stream",
     "text": [
      "remember , kids , if \u001b[31myou\u001b[0m  \u001b[31msmoke\u001b[0m  \u001b[31m,\u001b[0m  \u001b[31myou\u001b[0m could grow up to be a failure . _EOS_ worse yet\n",
      "REAL:  yeah , because if you don ' t smoke , you can grow up to be -\n",
      "GENERATED:  really ? ?\n",
      "0.498542\n"
     ]
    },
    {
     "data": {
      "image/png": "[encoded data removed]",
      "text/plain": [
       "<matplotlib.figure.Figure at 0x7fbd0629bf10>"
      ]
     },
     "metadata": {},
     "output_type": "display_data"
    },
    {
     "name": "stdout",
     "output_type": "stream",
     "text": [
      " \u001b[31m_EOS_\u001b[0m _EOS_ _EOS_ _PAD_ _PAD_ _PAD_ _PAD_ \u001b[31m_PAD_\u001b[0m  \u001b[31m_PAD_\u001b[0m  \u001b[31m_PAD_\u001b[0m _PAD_ _PAD_ _PAD_ _PAD_ _PAD_ _PAD_ _PAD_ _PAD_ _PAD_ _PAD_\n",
      "REAL:  \n",
      "GENERATED:  \n",
      "0.775131\n"
     ]
    },
    {
     "data": {
      "image/png": "[encoded data removed]",
      "text/plain": [
       "<matplotlib.figure.Figure at 0x7fbd06314850>"
      ]
     },
     "metadata": {},
     "output_type": "display_data"
    },
    {
     "name": "stdout",
     "output_type": "stream",
     "text": [
      " \u001b[31mooooo\u001b[0m . _EOS_ \u001b[31mso\u001b[0m  \u001b[31myou\u001b[0m . . . remarried . _EOS_ yes \u001b[31m,\u001b[0m lorry . _EOS_ _PAD_ _PAD_ _PAD_ _PAD_\n",
      "REAL:  larry !\n",
      "GENERATED:  yes . old chap can only tell us for good stories . now it ' s been done .\n",
      "0.451538\n"
     ]
    },
    {
     "data": {
      "image/png": "[encoded data removed]",
      "text/plain": [
       "<matplotlib.figure.Figure at 0x7fbd060f3510>"
      ]
     },
     "metadata": {},
     "output_type": "display_data"
    },
    {
     "name": "stdout",
     "output_type": "stream",
     "text": [
      "i beat \u001b[31mout\u001b[0m your \u001b[31mfat\u001b[0m  \u001b[31mass\u001b[0m , cartman \u001b[31m!\u001b[0m _EOS_ all students trying out for the all - state team\n",
      "REAL:  all right boys , now you ' re all here because you ' re the best of the best .\n",
      "GENERATED:  my job is to always put you up to those best things , to make sure the world enough !\n",
      "0.596909\n"
     ]
    },
    {
     "data": {
      "image/png": "[encoded data removed]",
      "text/plain": [
       "<matplotlib.figure.Figure at 0x7fbd06239650>"
      ]
     },
     "metadata": {},
     "output_type": "display_data"
    },
    {
     "name": "stdout",
     "output_type": "stream",
     "text": [
      " \u001b[31mhey\u001b[0m ! _EOS_ ( well , . . . . . . and i can \u001b[31m'\u001b[0m  \u001b[31mt\u001b[0m  \u001b[31mtake\u001b[0m any of\n",
      "REAL:  don ' t give up on faith hilling , kenny . don ' t you give up on her .\n",
      "GENERATED:  hello . hello there .\n",
      "0.544237\n"
     ]
    },
    {
     "data": {
      "image/png": "[encoded data removed]",
      "text/plain": [
       "<matplotlib.figure.Figure at 0x7fbd05fc1f50>"
      ]
     },
     "metadata": {},
     "output_type": "display_data"
    },
    {
     "name": "stdout",
     "output_type": "stream",
     "text": [
      "did \u001b[31myou\u001b[0m  \u001b[31mget\u001b[0m  \u001b[31mto\u001b[0m  \u001b[31many\u001b[0m dirty parts yet ? _EOS_ no , it ' s still just some whiny ,\n",
      "REAL:  i know . i ' m almost at the end and there ' s nothing . [ the door opens\n",
      "GENERATED:  me no twerps .\n"
     ]
    }
   ],
   "source": [
    "gen_answers, gen_rewards = test_discr_fn(one_batch[0], np.zeros(one_batch[0].shape[0], dtype='int32'), 20)\n",
    "gen_answers = [' '.join(phrase_from_idx(gen_answers[j], crop_by_eos=True)) for j in range(len(one_batch[1]))]\n",
    "answers =  [' '.join(phrase_from_idx(one_batch[1][j], crop_by_eos=True)) for j in range(len(one_batch[1]))]\n",
    "discr_reward = gen_rewards[:, :, 1]\n",
    "att_seqs = attention_discriminator.get_attention_real(one_batch[0], one_batch[1])\n",
    "for i in range(one_batch[0].shape[0]):\n",
    "    print discr_reward[i, -1]\n",
    "    print_phrase_and_attention(one_batch[0][i], att_seqs[i:i+1, 0])\n",
    "    print \"REAL: \", answers[i]\n",
    "    print \"GENERATED: \", gen_answers[i]"
   ]
  },
  {
   "cell_type": "code",
   "execution_count": 51,
   "metadata": {
    "collapsed": false
   },
   "outputs": [
    {
     "name": "stdout",
     "output_type": "stream",
     "text": [
      "0.646619\n"
     ]
    },
    {
     "data": {
      "image/png": "[encoded data removed]",
      "text/plain": [
       "<matplotlib.figure.Figure at 0x7fbd07406890>"
      ]
     },
     "metadata": {},
     "output_type": "display_data"
    },
    {
     "name": "stdout",
     "output_type": "stream",
     "text": [
      "hello _EOS_ hello _EOS_ \u001b[31mwhat\u001b[0m  \u001b[31mis\u001b[0m your \u001b[31mname\u001b[0m  \u001b[31m?\u001b[0m _EOS_ _PAD_ _PAD_ _PAD_ _PAD_ _PAD_ _PAD_ _PAD_ _PAD_ _PAD_ _PAD_\n",
      "GENERATED:  my name is dr . biber .\n",
      "0.386294\n"
     ]
    },
    {
     "data": {
      "image/png": "[encoded data removed]",
      "text/plain": [
       "<matplotlib.figure.Figure at 0x7fbd05fd4b10>"
      ]
     },
     "metadata": {},
     "output_type": "display_data"
    },
    {
     "name": "stdout",
     "output_type": "stream",
     "text": [
      "hello _EOS_ hello _EOS_ \u001b[31mwhat\u001b[0m  \u001b[31mis\u001b[0m your \u001b[31mname\u001b[0m  \u001b[31m?\u001b[0m _EOS_ _PAD_ _PAD_ _PAD_ _PAD_ _PAD_ _PAD_ _PAD_ _PAD_ _PAD_ _PAD_\n",
      "GENERATED:  bye - bye , precious .\n",
      "0.280729\n"
     ]
    },
    {
     "data": {
      "image/png": "[encoded data removed]",
      "text/plain": [
       "<matplotlib.figure.Figure at 0x7fbd05efcd10>"
      ]
     },
     "metadata": {},
     "output_type": "display_data"
    },
    {
     "name": "stdout",
     "output_type": "stream",
     "text": [
      "hello _EOS_ hello _EOS_ \u001b[31mwhat\u001b[0m  \u001b[31mis\u001b[0m your \u001b[31mname\u001b[0m  \u001b[31m?\u001b[0m _EOS_ _PAD_ _PAD_ _PAD_ _PAD_ _PAD_ _PAD_ _PAD_ _PAD_ _PAD_ _PAD_\n",
      "GENERATED:  my children , mr . jefferson says you already made a sex doll the school nurse gollum has _UNK_ it\n",
      "0.535254\n"
     ]
    },
    {
     "data": {
      "image/png": "[encoded data removed]",
      "text/plain": [
       "<matplotlib.figure.Figure at 0x7fbd05ef3d90>"
      ]
     },
     "metadata": {},
     "output_type": "display_data"
    },
    {
     "name": "stdout",
     "output_type": "stream",
     "text": [
      "hello _EOS_ hello _EOS_ \u001b[31mwhat\u001b[0m  \u001b[31mis\u001b[0m your \u001b[31mname\u001b[0m  \u001b[31m?\u001b[0m _EOS_ _PAD_ _PAD_ _PAD_ _PAD_ _PAD_ _PAD_ _PAD_ _PAD_ _PAD_ _PAD_\n",
      "GENERATED:  trent boyett !\n",
      "0.325994\n"
     ]
    },
    {
     "data": {
      "image/png": "[encoded data removed]",
      "text/plain": [
       "<matplotlib.figure.Figure at 0x7fbd05e9ec10>"
      ]
     },
     "metadata": {},
     "output_type": "display_data"
    },
    {
     "name": "stdout",
     "output_type": "stream",
     "text": [
      "hello _EOS_ hello _EOS_ \u001b[31mwhat\u001b[0m  \u001b[31mis\u001b[0m your \u001b[31mname\u001b[0m  \u001b[31m?\u001b[0m _EOS_ _PAD_ _PAD_ _PAD_ _PAD_ _PAD_ _PAD_ _PAD_ _PAD_ _PAD_ _PAD_\n",
      "GENERATED:  very well .\n"
     ]
    }
   ],
   "source": [
    "for i in range(5):\n",
    "    name_id = 439\n",
    "    name_batch =  phrase_to_matrix([[\"Hello\", \"Hello\", \"What is your name ? \"]], max_len=20)\n",
    "    att_seqs = attention_discriminator.get_attention_fake(name_batch, [name_id], 20)\n",
    "    gen_answer, gen_reward = test_discr_fn(name_batch, [name_id], 20)\n",
    "    gen_answer = ' '.join(phrase_from_idx(gen_answer[0], crop_by_eos=True))\n",
    "    print gen_reward[0, -1, 1]\n",
    "    print_phrase_and_attention(name_batch[0], att_seqs[:, 0])\n",
    "    print \"GENERATED: \", gen_answer"
   ]
  },
  {
   "cell_type": "markdown",
   "metadata": {},
   "source": [
    "Дообучение еще немного"
   ]
  },
  {
   "cell_type": "code",
   "execution_count": 97,
   "metadata": {
    "collapsed": false
   },
   "outputs": [
    {
     "name": "stdout",
     "output_type": "stream",
     "text": [
      "0.565307\n"
     ]
    },
    {
     "data": {
      "image/png": "[encoded data removed]",
      "text/plain": [
       "<matplotlib.figure.Figure at 0x7fbcf2f50310>"
      ]
     },
     "metadata": {},
     "output_type": "display_data"
    },
    {
     "name": "stdout",
     "output_type": "stream",
     "text": [
      "hello _EOS_ hello _EOS_ what is your name ? _EOS_ _PAD_ _PAD_ _PAD_ _PAD_ _PAD_ _PAD_ \u001b[31m_PAD_\u001b[0m  \u001b[31m_PAD_\u001b[0m  \u001b[31m_PAD_\u001b[0m  \u001b[31m_PAD_\u001b[0m \n",
      "GENERATED:  kyle ? kyle !\n"
     ]
    }
   ],
   "source": [
    "name_id = 439\n",
    "name_batch =  phrase_to_matrix([[\"Hello\", \"Hello\", \"What is your name ? \"]], max_len=20)\n",
    "att_seqs = attention_discriminator.get_attention_fake(name_batch, [name_id], 20)\n",
    "gen_answer, gen_reward = test_discr_fn(name_batch, [name_id], 20)\n",
    "gen_answer = ' '.join(phrase_from_idx(gen_answer[0], crop_by_eos=True))\n",
    "print gen_reward[0, -1, 1]\n",
    "print_phrase_and_attention(name_batch[0], att_seqs[:, 0])\n",
    "print \"GENERATED: \", gen_answer"
   ]
  },
  {
   "cell_type": "code",
   "execution_count": 98,
   "metadata": {
    "collapsed": false
   },
   "outputs": [
    {
     "name": "stdout",
     "output_type": "stream",
     "text": [
      "0.670255\n"
     ]
    },
    {
     "data": {
      "image/png": "[encoded data removed]",
      "text/plain": [
       "<matplotlib.figure.Figure at 0x7fbd3c2454d0>"
      ]
     },
     "metadata": {},
     "output_type": "display_data"
    },
    {
     "name": "stdout",
     "output_type": "stream",
     "text": [
      "mom ! _EOS_ kyle ! _EOS_ i should have known \u001b[31mthey\u001b[0m  \u001b[31mwere\u001b[0m crab people . \u001b[31mthey\u001b[0m  \u001b[31mtried\u001b[0m this before with\n",
      "REAL:  so now , can you\n",
      "GENERATED:  these could in quite a handy when aggghhh carlile musicals something in their vomit !\n",
      "0.418673\n"
     ]
    },
    {
     "data": {
      "image/png": "[encoded data removed]",
      "text/plain": [
       "<matplotlib.figure.Figure at 0x7fbd3c245950>"
      ]
     },
     "metadata": {},
     "output_type": "display_data"
    },
    {
     "name": "stdout",
     "output_type": "stream",
     "text": [
      "ike ! you are no longer to watch that stupid \u001b[31mlittle\u001b[0m youtube _UNK_ \u001b[31masshole\u001b[0m  \u001b[31m!\u001b[0m do you understand ? \u001b[31m!\u001b[0m \n",
      "REAL:  and they smell like soap .\n",
      "GENERATED:  stay in touch with you ?\n",
      "0.438657\n"
     ]
    },
    {
     "data": {
      "image/png": "[encoded data removed]",
      "text/plain": [
       "<matplotlib.figure.Figure at 0x7fbd1d3f5a50>"
      ]
     },
     "metadata": {},
     "output_type": "display_data"
    },
    {
     "name": "stdout",
     "output_type": "stream",
     "text": [
      "wait ! i ' ll fight ! _EOS_ tomorrow ? _EOS_ \u001b[31mokay\u001b[0m  \u001b[31m.\u001b[0m  \u001b[31m_EOS_\u001b[0m _PAD_ _PAD_ _PAD_ _PAD_ _PAD_ \u001b[31m_PAD_\u001b[0m \n",
      "REAL:  craig , what the hell are you doing home ? ! you ' re supposed to be out fighting tweek\n",
      "GENERATED:  you go this way , cartman ! i ' ll tell you all about yourself !\n",
      "0.685884\n"
     ]
    },
    {
     "data": {
      "image/png": "[encoded data removed]",
      "text/plain": [
       "<matplotlib.figure.Figure at 0x7fbd5ccdf810>"
      ]
     },
     "metadata": {},
     "output_type": "display_data"
    },
    {
     "name": "stdout",
     "output_type": "stream",
     "text": [
      "yes . _EOS_ let ' s \u001b[31mgo\u001b[0m make things out of egg cartons . \u001b[31m_EOS_\u001b[0m  \u001b[31moooh\u001b[0m , \u001b[31myeah\u001b[0m . i\n",
      "REAL:  yeess .\n",
      "GENERATED:  shhhh .\n",
      "0.54921\n"
     ]
    },
    {
     "data": {
      "image/png": "[encoded data removed]",
      "text/plain": [
       "<matplotlib.figure.Figure at 0x7fbd3de88f90>"
      ]
     },
     "metadata": {},
     "output_type": "display_data"
    },
    {
     "name": "stdout",
     "output_type": "stream",
     "text": [
      "all right all right , fine ! _EOS_ could you spare some change \u001b[31m,\u001b[0m  \u001b[31msir\u001b[0m  \u001b[31m?\u001b[0m _EOS_ _UNK_ \u001b[31m!\u001b[0m _EOS_\n",
      "REAL:  i ' ve dissected several homeless to see what make them tick . their anatomy is shockingly similar to ours\n",
      "GENERATED:  what are you talking about ?\n",
      "0.510229\n"
     ]
    },
    {
     "data": {
      "image/png": "[encoded data removed]",
      "text/plain": [
       "<matplotlib.figure.Figure at 0x7fbd5cbbff90>"
      ]
     },
     "metadata": {},
     "output_type": "display_data"
    },
    {
     "name": "stdout",
     "output_type": "stream",
     "text": [
      "oh shit . who had the ticket stub \u001b[31m?\u001b[0m _EOS_ it was such a long \u001b[31mtime\u001b[0m  \u001b[31mago\u001b[0m  \u001b[31m!\u001b[0m _EOS_ wu\n",
      "REAL:  don ' t need the ticket stub ? ? are you high ? ? how else do i know you\n",
      "GENERATED:  hey . you okay ?\n",
      "0.44259\n"
     ]
    },
    {
     "data": {
      "image/png": "[encoded data removed]",
      "text/plain": [
       "<matplotlib.figure.Figure at 0x7fbd4e9930d0>"
      ]
     },
     "metadata": {},
     "output_type": "display_data"
    },
    {
     "name": "stdout",
     "output_type": "stream",
     "text": [
      "peter nelson ? _EOS_ yes ? _EOS_ brandon carlile , reporter , spin magazine \u001b[31m.\u001b[0m  \u001b[31mi\u001b[0m  \u001b[31munderstand\u001b[0m you \u001b[31mwork\u001b[0m at\n",
      "REAL:  yeah , that ' s right .\n",
      "GENERATED:  yeah , that ' s right .\n",
      "0.200182\n"
     ]
    },
    {
     "data": {
      "image/png": "[encoded data removed]",
      "text/plain": [
       "<matplotlib.figure.Figure at 0x7fbd3e04a950>"
      ]
     },
     "metadata": {},
     "output_type": "display_data"
    },
    {
     "name": "stdout",
     "output_type": "stream",
     "text": [
      "mingie , what ' re \u001b[31myou\u001b[0m  \u001b[31mdoin\u001b[0m ' ? _EOS_ gettin ' ou ' a here gary \u001b[31m!\u001b[0m  \u001b[31mone\u001b[0m way\n",
      "REAL:  shut up ! shut up , you miserable old cow , or so help me i ' ll blow your\n",
      "GENERATED:  take that and go run out of the _UNK_ . if you try this way , then me alone will\n",
      "0.530387\n"
     ]
    },
    {
     "data": {
      "image/png": "[encoded data removed]",
      "text/plain": [
       "<matplotlib.figure.Figure at 0x7fbd5bca1f90>"
      ]
     },
     "metadata": {},
     "output_type": "display_data"
    },
    {
     "name": "stdout",
     "output_type": "stream",
     "text": [
      " \u001b[31mwell\u001b[0m  \u001b[31m,\u001b[0m  \u001b[31mhe\u001b[0m  \u001b[31m_EOS_\u001b[0m mr . garrison , i will remind you that we are in court ! _EOS_ okay\n",
      "REAL:  principal victoria , were you aware that my client was being harassed at your school ?\n",
      "GENERATED:  when butters does\n",
      "0.357262\n"
     ]
    },
    {
     "data": {
      "image/png": "[encoded data removed]",
      "text/plain": [
       "<matplotlib.figure.Figure at 0x7fbd3ca0d890>"
      ]
     },
     "metadata": {},
     "output_type": "display_data"
    },
    {
     "name": "stdout",
     "output_type": "stream",
     "text": [
      " \u001b[31meeewww\u001b[0m ! _EOS_ hey ! _EOS_ sorry . _EOS_ _PAD_ _PAD_ _PAD_ _PAD_ _PAD_ _PAD_ _PAD_ _PAD_ \u001b[31m_PAD_\u001b[0m  \u001b[31m_PAD_\u001b[0m  \u001b[31m_PAD_\u001b[0m \n",
      "REAL:  well , why don ' t we just explore our sexuality ?\n",
      "GENERATED:  sorry .\n",
      "0.264578\n"
     ]
    },
    {
     "data": {
      "image/png": "[encoded data removed]",
      "text/plain": [
       "<matplotlib.figure.Figure at 0x7fbd3deb7c90>"
      ]
     },
     "metadata": {},
     "output_type": "display_data"
    },
    {
     "name": "stdout",
     "output_type": "stream",
     "text": [
      "we are honored to \u001b[31mhave\u001b[0m creators in our kingdom . _EOS_ now , \u001b[31mgood\u001b[0m  \u001b[31mnews\u001b[0m , everyone \u001b[31m!\u001b[0m these boys\n",
      "REAL:  well he said there was gonna be a - . . . that there was . . . gonna be\n",
      "GENERATED:  it ' s actually really great having the union back , to be able to ' hallelujah and see it\n",
      "0.00950142\n"
     ]
    },
    {
     "data": {
      "image/png": "[encoded data removed]",
      "text/plain": [
       "<matplotlib.figure.Figure at 0x7fbd3c8f7ad0>"
      ]
     },
     "metadata": {},
     "output_type": "display_data"
    },
    {
     "name": "stdout",
     "output_type": "stream",
     "text": [
      "you don ' t \u001b[31mknow\u001b[0m  \u001b[31manything\u001b[0m  \u001b[31m!\u001b[0m _EOS_ i ' ve \u001b[31mbeen\u001b[0m wanting to stop going to those places ,\n",
      "REAL:  it just . . . it started as some curiosity on the internet . i would chat with other married\n",
      "GENERATED:  what if i never had a man , my father was a non - caring person like you ?\n",
      "0.497858\n"
     ]
    },
    {
     "data": {
      "image/png": "[encoded data removed]",
      "text/plain": [
       "<matplotlib.figure.Figure at 0x7fbd3ca36b10>"
      ]
     },
     "metadata": {},
     "output_type": "display_data"
    },
    {
     "name": "stdout",
     "output_type": "stream",
     "text": [
      "yeah ! this is bullshit ! _EOS_ together , we ' \u001b[31mre\u001b[0m  \u001b[31mgonna\u001b[0m  \u001b[31mlearn\u001b[0m  \u001b[31mwhat\u001b[0m makes us angry , okay\n",
      "REAL:  rook ! _UNK_ somebody ordereduh shitty beef , anduh complain because they say they ordereduh shitty shrimp , it '\n",
      "GENERATED:  \n",
      "0.532768\n"
     ]
    },
    {
     "data": {
      "image/png": "[encoded data removed]",
      "text/plain": [
       "<matplotlib.figure.Figure at 0x7fbd43804b10>"
      ]
     },
     "metadata": {},
     "output_type": "display_data"
    },
    {
     "name": "stdout",
     "output_type": "stream",
     "text": [
      "we ' re gonna \u001b[31mcharge\u001b[0m  \u001b[31mthe\u001b[0m  \u001b[31mfront\u001b[0m door and go get it . _EOS_ no \u001b[31myou\u001b[0m ' re not .\n",
      "REAL:  time out , kid ! we say you can ' t charge the front door , and you have to\n",
      "GENERATED:  hey ! uh you got me .\n",
      "0.167544\n"
     ]
    },
    {
     "data": {
      "image/png": "[encoded data removed]",
      "text/plain": [
       "<matplotlib.figure.Figure at 0x7fbd3f8f2d90>"
      ]
     },
     "metadata": {},
     "output_type": "display_data"
    },
    {
     "name": "stdout",
     "output_type": "stream",
     "text": [
      "well \u001b[31m,\u001b[0m  \u001b[31mthe\u001b[0m  \u001b[31mreason\u001b[0m  \u001b[31mi\u001b[0m ' m calling is that butters is supposed to go see his aunt nellie in\n",
      "REAL:  oh , but i suppose it would be good for him . yes , of course he can go .\n",
      "GENERATED:  well ? what ' s wrong , sweetie ? are you really gettin ' miserable at best to keep your\n",
      "0.52161\n"
     ]
    },
    {
     "data": {
      "image/png": "[encoded data removed]",
      "text/plain": [
       "<matplotlib.figure.Figure at 0x7fbd3f8f2c90>"
      ]
     },
     "metadata": {},
     "output_type": "display_data"
    },
    {
     "name": "stdout",
     "output_type": "stream",
     "text": [
      "an absolutely gorgeous gun , david . _EOS_ the playful \u001b[31mand\u001b[0m  \u001b[31mlovely\u001b[0m  \u001b[31maustralian\u001b[0m  \u001b[31m_UNK_\u001b[0m owned by father maxi . _EOS_\n",
      "REAL:  that ' s a favorite of the crow here . always a favorite at these shows .\n",
      "GENERATED:  chef ! this is where all our money gets burned by _UNK_\n",
      "0.217214\n"
     ]
    },
    {
     "data": {
      "image/png": "[encoded data removed]",
      "text/plain": [
       "<matplotlib.figure.Figure at 0x7fbd3e6733d0>"
      ]
     },
     "metadata": {},
     "output_type": "display_data"
    },
    {
     "name": "stdout",
     "output_type": "stream",
     "text": [
      "oh ! _EOS_ die ! _EOS_ ow ! _EOS_ _PAD_ _PAD_ _PAD_ _PAD_ _PAD_ _PAD_ _PAD_ \u001b[31m_PAD_\u001b[0m  \u001b[31m_PAD_\u001b[0m  \u001b[31m_PAD_\u001b[0m  \u001b[31m_PAD_\u001b[0m \n",
      "REAL:  get out !\n",
      "GENERATED:  ! right there ! it ' s okay all this time !\n",
      "0.809645\n"
     ]
    },
    {
     "data": {
      "image/png": "[encoded data removed]",
      "text/plain": [
       "<matplotlib.figure.Figure at 0x7fbd3df7b110>"
      ]
     },
     "metadata": {},
     "output_type": "display_data"
    },
    {
     "name": "stdout",
     "output_type": "stream",
     "text": [
      "oh . . . oohhhh . _EOS_ it is lying , butters . \u001b[31myour\u001b[0m parents \u001b[31mlied\u001b[0m  \u001b[31mto\u001b[0m  \u001b[31myou\u001b[0m and my\n",
      "REAL:  who ' s that ?\n",
      "GENERATED:  because it was all two four and the five , four together and five all the other kids ' ve\n",
      "0.167136\n"
     ]
    },
    {
     "data": {
      "image/png": "[encoded data removed]",
      "text/plain": [
       "<matplotlib.figure.Figure at 0x7fbd4f161b10>"
      ]
     },
     "metadata": {},
     "output_type": "display_data"
    },
    {
     "name": "stdout",
     "output_type": "stream",
     "text": [
      "dad ? dad ? _EOS_ staaan . _EOS_ i know you \u001b[31mdo\u001b[0m  \u001b[31m,\u001b[0m  \u001b[31mdad\u001b[0m  \u001b[31m.\u001b[0m _EOS_ _PAD_ _PAD_ _PAD_ _PAD_\n",
      "REAL:  augh ! aaaaaaaaaaaaaaaaaaa . . .\n",
      "GENERATED:  no ! you don ' t know what you ' re talking about !\n",
      "0.539768\n"
     ]
    },
    {
     "data": {
      "image/png": "[encoded data removed]",
      "text/plain": [
       "<matplotlib.figure.Figure at 0x7fbd3d6e4bd0>"
      ]
     },
     "metadata": {},
     "output_type": "display_data"
    },
    {
     "name": "stdout",
     "output_type": "stream",
     "text": [
      "terrorists have just attacked . . . our imagination . _EOS_ if the terrorists blow that \u001b[31mbarrier\u001b[0m  \u001b[31m,\u001b[0m  \u001b[31mall\u001b[0m  \u001b[31mthe\u001b[0m \n",
      "REAL:  no ! !\n",
      "GENERATED:  mother !\n",
      "0.605828\n"
     ]
    },
    {
     "data": {
      "image/png": "[encoded data removed]",
      "text/plain": [
       "<matplotlib.figure.Figure at 0x7fbd3cd61410>"
      ]
     },
     "metadata": {},
     "output_type": "display_data"
    },
    {
     "name": "stdout",
     "output_type": "stream",
     "text": [
      "ms . claridge , you all right ? _EOS_ can kyle come out and \u001b[31mplay\u001b[0m ? _EOS_ \u001b[31moh\u001b[0m  \u001b[31m,\u001b[0m  \u001b[31mkyle\u001b[0m \n",
      "REAL:  thank you , ma ' am .\n",
      "GENERATED:  oh my god , you know . that i used to study behind the theater . now i can hide\n",
      "0.476279\n"
     ]
    },
    {
     "data": {
      "image/png": "[encoded data removed]",
      "text/plain": [
       "<matplotlib.figure.Figure at 0x7fbd3cc6db50>"
      ]
     },
     "metadata": {},
     "output_type": "display_data"
    },
    {
     "name": "stdout",
     "output_type": "stream",
     "text": [
      "now , what seems to be the \u001b[31mproblem\u001b[0m  \u001b[31m?\u001b[0m _EOS_ aw , \u001b[31mi\u001b[0m just hit my nose \u001b[31mplaying\u001b[0m dodgeball .\n",
      "REAL:  _UNK_ ! !\n",
      "GENERATED:  what ?\n",
      "0.41377\n"
     ]
    },
    {
     "data": {
      "image/png": "[encoded data removed]",
      "text/plain": [
       "<matplotlib.figure.Figure at 0x7fbd3cce0450>"
      ]
     },
     "metadata": {},
     "output_type": "display_data"
    },
    {
     "name": "stdout",
     "output_type": "stream",
     "text": [
      ". . . how ? _EOS_ boy band . _EOS_ boy band ? _EOS_ _PAD_ _PAD_ \u001b[31m_PAD_\u001b[0m  \u001b[31m_PAD_\u001b[0m  \u001b[31m_PAD_\u001b[0m  \u001b[31m_PAD_\u001b[0m \n",
      "REAL:  boy band .\n",
      "GENERATED:  the band , dude . play tv ? bands at band practice ?\n",
      "0.542468\n"
     ]
    },
    {
     "data": {
      "image/png": "[encoded data removed]",
      "text/plain": [
       "<matplotlib.figure.Figure at 0x7fbd52061fd0>"
      ]
     },
     "metadata": {},
     "output_type": "display_data"
    },
    {
     "name": "stdout",
     "output_type": "stream",
     "text": [
      "howdy ho , boys . _EOS_ mr . hankey ? _EOS_ gosh \u001b[31m,\u001b[0m  \u001b[31myou\u001b[0m  \u001b[31mboys\u001b[0m  \u001b[31msmell\u001b[0m like flowers . _EOS_\n",
      "REAL:  you ' re not the real mr . hankey .\n",
      "GENERATED:  crap , these are\n",
      "0.294203\n"
     ]
    },
    {
     "data": {
      "image/png": "[encoded data removed]",
      "text/plain": [
       "<matplotlib.figure.Figure at 0x7fbd4075d0d0>"
      ]
     },
     "metadata": {},
     "output_type": "display_data"
    },
    {
     "name": "stdout",
     "output_type": "stream",
     "text": [
      "yes , \u001b[31myou\u001b[0m  \u001b[31m'\u001b[0m re \u001b[31mright\u001b[0m , kyle . i ' m \u001b[31msure\u001b[0m that _EOS_ your attention , please .\n",
      "REAL:  kyle broflovski to the principal ' s office . please . _UNK_ ?\n",
      "GENERATED:  kyle broflovski to school , or i ' m for c - c - c - late .\n",
      "0.305387\n"
     ]
    },
    {
     "data": {
      "image/png": "[encoded data removed]",
      "text/plain": [
       "<matplotlib.figure.Figure at 0x7fbd195f3890>"
      ]
     },
     "metadata": {},
     "output_type": "display_data"
    },
    {
     "name": "stdout",
     "output_type": "stream",
     "text": [
      "aw \u001b[31m,\u001b[0m come on , dude . let \u001b[31mher\u001b[0m try . \u001b[31m_EOS_\u001b[0m no way \u001b[31m!\u001b[0m _EOS_ come on , cartman\n",
      "REAL:  okayokay , fine .\n",
      "GENERATED:  hey ! open your mouths and just open your potato salad !\n",
      "0.711359\n"
     ]
    },
    {
     "data": {
      "image/png": "[encoded data removed]",
      "text/plain": [
       "<matplotlib.figure.Figure at 0x7fbd1a2b9ad0>"
      ]
     },
     "metadata": {},
     "output_type": "display_data"
    },
    {
     "name": "stdout",
     "output_type": "stream",
     "text": [
      "remember , kids , if \u001b[31myou\u001b[0m  \u001b[31msmoke\u001b[0m  \u001b[31m,\u001b[0m  \u001b[31myou\u001b[0m could grow up to be a failure . _EOS_ worse yet\n",
      "REAL:  yeah , because if you don ' t smoke , you can grow up to be -\n",
      "GENERATED:  that sick kid and he ' d kick his ass . that ' s what the mike students are really\n",
      "0.522393\n"
     ]
    },
    {
     "data": {
      "image/png": "[encoded data removed]",
      "text/plain": [
       "<matplotlib.figure.Figure at 0x7fbd58cf5c90>"
      ]
     },
     "metadata": {},
     "output_type": "display_data"
    },
    {
     "name": "stdout",
     "output_type": "stream",
     "text": [
      "_EOS_ _EOS_ _EOS_ _PAD_ _PAD_ _PAD_ _PAD_ _PAD_ _PAD_ _PAD_ _PAD_ _PAD_ _PAD_ _PAD_ _PAD_ _PAD_ \u001b[31m_PAD_\u001b[0m  \u001b[31m_PAD_\u001b[0m  \u001b[31m_PAD_\u001b[0m  \u001b[31m_PAD_\u001b[0m \n",
      "REAL:  \n",
      "GENERATED:  \n",
      "0.554054\n"
     ]
    },
    {
     "data": {
      "image/png": "[encoded data removed]",
      "text/plain": [
       "<matplotlib.figure.Figure at 0x7fbd1ab89090>"
      ]
     },
     "metadata": {},
     "output_type": "display_data"
    },
    {
     "name": "stdout",
     "output_type": "stream",
     "text": [
      " \u001b[31mooooo\u001b[0m . _EOS_ so you . . . remarried . _EOS_ yes , lorry . _EOS_ _PAD_ \u001b[31m_PAD_\u001b[0m  \u001b[31m_PAD_\u001b[0m  \u001b[31m_PAD_\u001b[0m \n",
      "REAL:  larry !\n",
      "GENERATED:  . . . no , geoff . . .\n",
      "0.471098\n"
     ]
    },
    {
     "data": {
      "image/png": "[encoded data removed]",
      "text/plain": [
       "<matplotlib.figure.Figure at 0x7fbd3d0c9350>"
      ]
     },
     "metadata": {},
     "output_type": "display_data"
    },
    {
     "name": "stdout",
     "output_type": "stream",
     "text": [
      "i beat \u001b[31mout\u001b[0m your fat ass , cartman ! _EOS_ all students trying \u001b[31mout\u001b[0m for the all - \u001b[31mstate\u001b[0m  \u001b[31mteam\u001b[0m \n",
      "REAL:  all right boys , now you ' re all here because you ' re the best of the best .\n",
      "GENERATED:  all right . now , here ' s your \" christmas ' s anniversary box , \" whatever .\n",
      "0.120684\n"
     ]
    },
    {
     "data": {
      "image/png": "[encoded data removed]",
      "text/plain": [
       "<matplotlib.figure.Figure at 0x7fbd1ab6b7d0>"
      ]
     },
     "metadata": {},
     "output_type": "display_data"
    },
    {
     "name": "stdout",
     "output_type": "stream",
     "text": [
      " \u001b[31mhey\u001b[0m ! _EOS_ ( well , . . . . . . and i \u001b[31mcan\u001b[0m  \u001b[31m'\u001b[0m  \u001b[31mt\u001b[0m take any of\n",
      "REAL:  don ' t give up on faith hilling , kenny . don ' t you give up on her .\n",
      "GENERATED:  yah it was craig and i can ' t wait for him to see my car !\n",
      "0.53708\n"
     ]
    },
    {
     "data": {
      "image/png": "[encoded data removed]",
      "text/plain": [
       "<matplotlib.figure.Figure at 0x7fbd1af43990>"
      ]
     },
     "metadata": {},
     "output_type": "display_data"
    },
    {
     "name": "stdout",
     "output_type": "stream",
     "text": [
      "did \u001b[31myou\u001b[0m  \u001b[31mget\u001b[0m  \u001b[31mto\u001b[0m any dirty parts yet ? _EOS_ no , it ' s \u001b[31mstill\u001b[0m just some whiny ,\n",
      "REAL:  i know . i ' m almost at the end and there ' s nothing . [ the door opens\n",
      "GENERATED:  you wendy ?\n"
     ]
    }
   ],
   "source": [
    "gen_answers, gen_rewards = test_discr_fn(one_batch[0], one_batch[2], 20)\n",
    "gen_answers = [' '.join(phrase_from_idx(gen_answers[j], crop_by_eos=True)) for j in range(len(one_batch[1]))]\n",
    "answers =  [' '.join(phrase_from_idx(one_batch[1][j], crop_by_eos=True)) for j in range(len(one_batch[1]))]\n",
    "discr_reward = gen_rewards[:, :, 1]\n",
    "att_seqs = attention_discriminator.get_attention_real(one_batch[0], one_batch[1])\n",
    "for i in range(one_batch[0].shape[0]):\n",
    "    print discr_reward[i, -1]\n",
    "    print_phrase_and_attention(one_batch[0][i], att_seqs[i:i+1, 0])\n",
    "    print \"REAL: \", answers[i]\n",
    "    print \"GENERATED: \", gen_answers[i]"
   ]
  },
  {
   "cell_type": "code",
   "execution_count": 246,
   "metadata": {
    "collapsed": false
   },
   "outputs": [
    {
     "name": "stdout",
     "output_type": "stream",
     "text": [
      "0.640909\n"
     ]
    },
    {
     "data": {
      "image/png": "[encoded data removed]",
      "text/plain": [
       "<matplotlib.figure.Figure at 0x7f148a20e7d0>"
      ]
     },
     "metadata": {},
     "output_type": "display_data"
    },
    {
     "name": "stdout",
     "output_type": "stream",
     "text": [
      "why are \u001b[31myou\u001b[0m so \u001b[31mobsessed\u001b[0m with cartman ' s trapper keeper , bill cosby ? _EOS_ bill cosby ? _EOS_\n",
      "REAL:  well , i knew you weren ' t bill cosby !\n",
      "GENERATED:  well , it ' s been a sophisticated project and its only work is done . the design is integrity\n",
      "0.494966\n"
     ]
    },
    {
     "data": {
      "image/png": "[encoded data removed]",
      "text/plain": [
       "<matplotlib.figure.Figure at 0x7f148a445bd0>"
      ]
     },
     "metadata": {},
     "output_type": "display_data"
    },
    {
     "name": "stdout",
     "output_type": "stream",
     "text": [
      "ahhh . _EOS_ oh . _EOS_ sheila , could you pass me the \u001b[31mdead\u001b[0m fetus \u001b[31m?\u001b[0m _EOS_ _PAD_ _PAD_ _PAD_\n",
      "REAL:  ow !\n",
      "GENERATED:  move along , folks . we have a new condition soon .\n",
      "0.688524\n"
     ]
    },
    {
     "data": {
      "image/png": "[encoded data removed]",
      "text/plain": [
       "<matplotlib.figure.Figure at 0x7f148ac94910>"
      ]
     },
     "metadata": {},
     "output_type": "display_data"
    },
    {
     "name": "stdout",
     "output_type": "stream",
     "text": [
      "awkwaaard ! _EOS_ and this june , funnybot shows \u001b[31moff\u001b[0m  \u001b[31mhis\u001b[0m range by playing every role in . . .\n",
      "REAL:  pass them yourself .\n",
      "GENERATED:  pass it through !\n",
      "0.781413\n"
     ]
    },
    {
     "data": {
      "image/png": "[encoded data removed]",
      "text/plain": [
       "<matplotlib.figure.Figure at 0x7f148a627110>"
      ]
     },
     "metadata": {},
     "output_type": "display_data"
    },
    {
     "name": "stdout",
     "output_type": "stream",
     "text": [
      "no ! allied atheist alliance ! that way it has \u001b[31mthree\u001b[0m a ' s \u001b[31m!\u001b[0m that is the logical choice\n",
      "REAL:  i have to get out of here ! why is everyone in my past so stupid that they think i\n",
      "GENERATED:  hey , look over , don ' t you get it , attitude or will you guys ? ! are\n",
      "0.774498\n"
     ]
    },
    {
     "data": {
      "image/png": "[encoded data removed]",
      "text/plain": [
       "<matplotlib.figure.Figure at 0x7f148ab5fd10>"
      ]
     },
     "metadata": {},
     "output_type": "display_data"
    },
    {
     "name": "stdout",
     "output_type": "stream",
     "text": [
      "oh , god , it ' s horrible \u001b[31m!\u001b[0m _EOS_ that ' d disgusting , dude \u001b[31m!\u001b[0m _EOS_ god ,\n",
      "REAL:  we have to go to butters ' or cartman ' s house ! we have nowhere else to go !\n",
      "GENERATED:  we found companies that tried to screw us off , made them responsible for bigger fans !\n",
      "0.443952\n"
     ]
    },
    {
     "data": {
      "image/png": "[encoded data removed]",
      "text/plain": [
       "<matplotlib.figure.Figure at 0x7f148ac16f50>"
      ]
     },
     "metadata": {},
     "output_type": "display_data"
    },
    {
     "name": "stdout",
     "output_type": "stream",
     "text": [
      "no ! no , no boys ! aw goddammit ! _EOS_ this is hbc news . a \u001b[31mright\u001b[0m - \u001b[31mto\u001b[0m \n",
      "REAL:  you bastards !\n",
      "GENERATED:  no , aboot what ?\n",
      "0.542417\n"
     ]
    },
    {
     "data": {
      "image/png": "[encoded data removed]",
      "text/plain": [
       "<matplotlib.figure.Figure at 0x7f14982fee10>"
      ]
     },
     "metadata": {},
     "output_type": "display_data"
    },
    {
     "name": "stdout",
     "output_type": "stream",
     "text": [
      "here carol \u001b[31m,\u001b[0m  \u001b[31mi\u001b[0m think it ' s your boy . _EOS_ oh thanks . what is it stanley -\n",
      "REAL:  stanley , honey , you need to leave mommy alone , i ' m doing something very , very important\n",
      "GENERATED:  turning , channel or approaching !\n",
      "0.412841\n"
     ]
    },
    {
     "data": {
      "image/png": "[encoded data removed]",
      "text/plain": [
       "<matplotlib.figure.Figure at 0x7f1498311b50>"
      ]
     },
     "metadata": {},
     "output_type": "display_data"
    },
    {
     "name": "stdout",
     "output_type": "stream",
     "text": [
      "what do \u001b[31myou\u001b[0m guys wanna do first ? i hear \u001b[31mthey\u001b[0m have a new inner tube slide . _EOS_ no\n",
      "REAL:  you know , there ' s always like five or six minorities wearing their t - shirts in the wave\n",
      "GENERATED:  did you ever have any adult friends ?\n",
      "0.826511\n"
     ]
    },
    {
     "data": {
      "image/png": "[encoded data removed]",
      "text/plain": [
       "<matplotlib.figure.Figure at 0x7f149395d350>"
      ]
     },
     "metadata": {},
     "output_type": "display_data"
    },
    {
     "name": "stdout",
     "output_type": "stream",
     "text": [
      "what ? _EOS_ mayor , this is a jakovasaur . \u001b[31ma\u001b[0m live one has never been \u001b[31mseen\u001b[0m . _EOS_ oh\n",
      "REAL:  incredible .\n",
      "GENERATED:  let ' s go from now on ! alter america sees a hero . no rewards for world .\n",
      "0.356693\n"
     ]
    },
    {
     "data": {
      "image/png": "[encoded data removed]",
      "text/plain": [
       "<matplotlib.figure.Figure at 0x7f14905520d0>"
      ]
     },
     "metadata": {},
     "output_type": "display_data"
    },
    {
     "name": "stdout",
     "output_type": "stream",
     "text": [
      "oh , jeez , you wouldn ' \u001b[31mt\u001b[0m  \u001b[31mhave\u001b[0m believed how angry i was when teacher said i had to\n",
      "REAL:  and sometimes mommies do things that seem hurtful to their babies , but it ' s really for the best\n",
      "GENERATED:  give it up , president the jews !\n",
      "0.541994\n"
     ]
    },
    {
     "data": {
      "image/png": "[encoded data removed]",
      "text/plain": [
       "<matplotlib.figure.Figure at 0x7f149387efd0>"
      ]
     },
     "metadata": {},
     "output_type": "display_data"
    },
    {
     "name": "stdout",
     "output_type": "stream",
     "text": [
      "oprah ' s got egg all over her face \u001b[31m!\u001b[0m  \u001b[31mshe\u001b[0m ' ll have to retire ! _EOS_ it '\n",
      "REAL:  sure . and ' er gary . we did it , mate !\n",
      "GENERATED:  that ' s no problem !\n",
      "0.442352\n"
     ]
    },
    {
     "data": {
      "image/png": "[encoded data removed]",
      "text/plain": [
       "<matplotlib.figure.Figure at 0x7f1490f86e90>"
      ]
     },
     "metadata": {},
     "output_type": "display_data"
    },
    {
     "name": "stdout",
     "output_type": "stream",
     "text": [
      "so what you do , \u001b[31msee\u001b[0m , is wait for a car to drive by that \u001b[31mbig\u001b[0m pine tree .\n",
      "REAL:  you try it , bebe .\n",
      "GENERATED:  use the chicken . use it in human kindness .\n",
      "0.618033\n"
     ]
    },
    {
     "data": {
      "image/png": "[encoded data removed]",
      "text/plain": [
       "<matplotlib.figure.Figure at 0x7f14abccc110>"
      ]
     },
     "metadata": {},
     "output_type": "display_data"
    },
    {
     "name": "stdout",
     "output_type": "stream",
     "text": [
      "stan ! stan ! oh . okay , uh , you you \u001b[31mmight\u001b[0m be \u001b[31mwondering\u001b[0m why butters has a future\n",
      "REAL:  oh . . . well . . . son , we ' ve just been trying to make sure you\n",
      "GENERATED:  wow , that ' s a great idea you had on twitter ? what ' s your bp ?\n",
      "0.434616\n"
     ]
    },
    {
     "data": {
      "image/png": "[encoded data removed]",
      "text/plain": [
       "<matplotlib.figure.Figure at 0x7f14ce399150>"
      ]
     },
     "metadata": {},
     "output_type": "display_data"
    },
    {
     "name": "stdout",
     "output_type": "stream",
     "text": [
      "alright ! _EOS_ they were so scared , i ' m sure \u001b[31mthey\u001b[0m ' ll never be back \u001b[31m!\u001b[0m _EOS_\n",
      "REAL:  what ?\n",
      "GENERATED:  what ? a police came ?\n",
      "0.430695\n"
     ]
    },
    {
     "data": {
      "image/png": "[encoded data removed]",
      "text/plain": [
       "<matplotlib.figure.Figure at 0x7f14ac02c490>"
      ]
     },
     "metadata": {},
     "output_type": "display_data"
    },
    {
     "name": "stdout",
     "output_type": "stream",
     "text": [
      "no , that ' s \u001b[31mimpossible\u001b[0m  \u001b[31m!\u001b[0m _EOS_ little boy , are you sure you haven ' t taken it\n",
      "REAL:  kyle ? kyle !\n",
      "GENERATED:  kyle ?\n",
      "0.471726\n"
     ]
    },
    {
     "data": {
      "image/png": "[encoded data removed]",
      "text/plain": [
       "<matplotlib.figure.Figure at 0x7f14cacbb850>"
      ]
     },
     "metadata": {},
     "output_type": "display_data"
    },
    {
     "name": "stdout",
     "output_type": "stream",
     "text": [
      "hallo ? _EOS_ who ith thith ? _EOS_ this \u001b[31mis\u001b[0m  \u001b[31mgary\u001b[0m . _EOS_ _PAD_ _PAD_ _PAD_ _PAD_ _PAD_ _PAD_ _PAD_\n",
      "REAL:  gary who ? ! what is your last name ? !\n",
      "GENERATED:  get down to your stations !\n",
      "0.504002\n"
     ]
    },
    {
     "data": {
      "image/png": "[encoded data removed]",
      "text/plain": [
       "<matplotlib.figure.Figure at 0x7f14bd8bb890>"
      ]
     },
     "metadata": {},
     "output_type": "display_data"
    },
    {
     "name": "stdout",
     "output_type": "stream",
     "text": [
      "think about it \u001b[31m,\u001b[0m guys . \u001b[31mif\u001b[0m somebody kills sarah jessica parker , then they ' ll assume that somebody\n",
      "REAL:  shut up , cartman ! just face it . we lost this one .\n",
      "GENERATED:  \n",
      "0.239116\n"
     ]
    },
    {
     "data": {
      "image/png": "[encoded data removed]",
      "text/plain": [
       "<matplotlib.figure.Figure at 0x7f148d1888d0>"
      ]
     },
     "metadata": {},
     "output_type": "display_data"
    },
    {
     "name": "stdout",
     "output_type": "stream",
     "text": [
      "sir , we ' ve got confirmation . \u001b[31mthere\u001b[0m ' s \u001b[31mtwo\u001b[0m black guys in the upstairs of the house\n",
      "REAL:  yehah ? hang on ! mitch !\n",
      "GENERATED:  do you really think the history gum people will give you attention to big canadians ?\n",
      "0.328405\n"
     ]
    },
    {
     "data": {
      "image/png": "[encoded data removed]",
      "text/plain": [
       "<matplotlib.figure.Figure at 0x7f1489b416d0>"
      ]
     },
     "metadata": {},
     "output_type": "display_data"
    },
    {
     "name": "stdout",
     "output_type": "stream",
     "text": [
      "what ? _EOS_ timmy and i are competing in a variety of events . _EOS_ \u001b[31myeah\u001b[0m  \u001b[31msure\u001b[0m , we '\n",
      "REAL:  yeah , that ' d be cool .\n",
      "GENERATED:  yeah sure , that ' d be good or not south of town !\n",
      "0.439149\n"
     ]
    },
    {
     "data": {
      "image/png": "[encoded data removed]",
      "text/plain": [
       "<matplotlib.figure.Figure at 0x7f148a2d7e50>"
      ]
     },
     "metadata": {},
     "output_type": "display_data"
    },
    {
     "name": "stdout",
     "output_type": "stream",
     "text": [
      "but jews can ' t play basketball \u001b[31m!\u001b[0m _EOS_ kyle , \u001b[31myou\u001b[0m ' d better stop being anti - semitic\n",
      "REAL:  oh , that does it !\n",
      "GENERATED:  oh , that does it !\n",
      "0.577949\n"
     ]
    },
    {
     "data": {
      "image/png": "[encoded data removed]",
      "text/plain": [
       "<matplotlib.figure.Figure at 0x7f148af77750>"
      ]
     },
     "metadata": {},
     "output_type": "display_data"
    },
    {
     "name": "stdout",
     "output_type": "stream",
     "text": [
      "randy , what is this ? _EOS_ hey \u001b[31m!\u001b[0m you are now under the authority of the aarp \u001b[31m!\u001b[0m _EOS_\n",
      "REAL:  dad , what are you doing ? ?\n",
      "GENERATED:  it ' s your choice , don ' t .\n",
      "0.629648\n"
     ]
    },
    {
     "data": {
      "image/png": "[encoded data removed]",
      "text/plain": [
       "<matplotlib.figure.Figure at 0x7f1493c71c10>"
      ]
     },
     "metadata": {},
     "output_type": "display_data"
    },
    {
     "name": "stdout",
     "output_type": "stream",
     "text": [
      "no he ' s not . _EOS_ \u001b[31mi\u001b[0m don ' t \u001b[31mknow\u001b[0m . _EOS_ i just need to explain things\n",
      "REAL:  yeah , i was watching with my whole family . and then we saw all the _UNK_ this morning in\n",
      "GENERATED:  all the time we saw here is an abomination of mint ! the muslim things inside your muslim dream underwear\n",
      "0.123943\n"
     ]
    },
    {
     "data": {
      "image/png": "[encoded data removed]",
      "text/plain": [
       "<matplotlib.figure.Figure at 0x7f1489847950>"
      ]
     },
     "metadata": {},
     "output_type": "display_data"
    },
    {
     "name": "stdout",
     "output_type": "stream",
     "text": [
      "well \u001b[31m,\u001b[0m  \u001b[31mi\u001b[0m ' m afraid i can ' t give it to you , because then you wouldn '\n",
      "REAL:  . . . yeah ?\n",
      "GENERATED:  all right good job , fatass ! come on ! everyone up _UNK_ ' my evil and - big head\n",
      "0.164227\n"
     ]
    },
    {
     "data": {
      "image/png": "[encoded data removed]",
      "text/plain": [
       "<matplotlib.figure.Figure at 0x7f148a874950>"
      ]
     },
     "metadata": {},
     "output_type": "display_data"
    },
    {
     "name": "stdout",
     "output_type": "stream",
     "text": [
      "what did \u001b[31mthey\u001b[0m  \u001b[31mdo\u001b[0m you you ? at that camp ? _EOS_ what do you mean ? just the usual\n",
      "REAL:  that ' s ridiculous . i ' m not anything . i don ' t fit in anywhere . i\n",
      "GENERATED:  that ' s not cool . we ' re basing the _UNK_ them for you .\n",
      "0.565291\n"
     ]
    },
    {
     "data": {
      "image/png": "[encoded data removed]",
      "text/plain": [
       "<matplotlib.figure.Figure at 0x7f149137add0>"
      ]
     },
     "metadata": {},
     "output_type": "display_data"
    },
    {
     "name": "stdout",
     "output_type": "stream",
     "text": [
      "mom ! doorbell ! _EOS_ wait , before you \u001b[31mdo\u001b[0m , pull my thumb . _EOS_ mom \u001b[31m!\u001b[0m answer the\n",
      "REAL:  hey phillip , guess what ?\n",
      "GENERATED:  what is the gas source ?\n",
      "0.674226\n"
     ]
    },
    {
     "data": {
      "image/png": "[encoded data removed]",
      "text/plain": [
       "<matplotlib.figure.Figure at 0x7f1494175390>"
      ]
     },
     "metadata": {},
     "output_type": "display_data"
    },
    {
     "name": "stdout",
     "output_type": "stream",
     "text": [
      "no way ! the bitches from cirque du _UNK_ ! _EOS_ \u001b[31myeah\u001b[0m . \u001b[31mthey\u001b[0m ' re quintuplets from romania .\n",
      "REAL:  ve are twins , except there are five of us instead of two .\n",
      "GENERATED:  let ' s all ginger kids in south park are recording a reading of the students ' win .\n",
      "0.476206\n"
     ]
    },
    {
     "data": {
      "image/png": "[encoded data removed]",
      "text/plain": [
       "<matplotlib.figure.Figure at 0x7f148ffe4090>"
      ]
     },
     "metadata": {},
     "output_type": "display_data"
    },
    {
     "name": "stdout",
     "output_type": "stream",
     "text": [
      "oohh , morning \u001b[31m,\u001b[0m  \u001b[31mhum\u001b[0m , _UNK_ . _UNK_ ! _EOS_ okay , asshole ! give me back my kidney\n",
      "REAL:  it ' s mine ! not yours , mine ! give it back right now , or there ' s\n",
      "GENERATED:  the only thing the humans have to do change their life than you , you can get tobacco companies themselves\n",
      "0.506104\n"
     ]
    },
    {
     "data": {
      "image/png": "[encoded data removed]",
      "text/plain": [
       "<matplotlib.figure.Figure at 0x7f1490e97650>"
      ]
     },
     "metadata": {},
     "output_type": "display_data"
    },
    {
     "name": "stdout",
     "output_type": "stream",
     "text": [
      "yeah . but i have to \u001b[31msay\u001b[0m , \u001b[31mi\u001b[0m feel a lot better now . _EOS_ i know what you\n",
      "REAL:  i didn ' t feel bad before , but now i just feel terrible .\n",
      "GENERATED:  what we going to do now ?\n",
      "0.601103\n"
     ]
    },
    {
     "data": {
      "image/png": "[encoded data removed]",
      "text/plain": [
       "<matplotlib.figure.Figure at 0x7f148a0dfc50>"
      ]
     },
     "metadata": {},
     "output_type": "display_data"
    },
    {
     "name": "stdout",
     "output_type": "stream",
     "text": [
      "can you believe \u001b[31mit\u001b[0m , boys ? \u001b[31m!\u001b[0m we ' re playing in the state championship game ! _EOS_ we\n",
      "REAL:  well , then your whole season starts over , but on the national circuit ! you get to spend your\n",
      "GENERATED:  no game on social circuit ! you must feel pretty goddamned right now when it comes to\n",
      "0.238989\n"
     ]
    },
    {
     "data": {
      "image/png": "[encoded data removed]",
      "text/plain": [
       "<matplotlib.figure.Figure at 0x7f1493828050>"
      ]
     },
     "metadata": {},
     "output_type": "display_data"
    },
    {
     "name": "stdout",
     "output_type": "stream",
     "text": [
      "i \u001b[31mhope\u001b[0m  \u001b[31mfor\u001b[0m your sake that ' s true . you ' ve never thrown a party of this magnitude\n",
      "REAL:  satan _UNK_ us .\n",
      "GENERATED:  we ' re going to use all the internet to help her get out of town .\n",
      "0.630551\n"
     ]
    },
    {
     "data": {
      "image/png": "[encoded data removed]",
      "text/plain": [
       "<matplotlib.figure.Figure at 0x7f148d1a5290>"
      ]
     },
     "metadata": {},
     "output_type": "display_data"
    },
    {
     "name": "stdout",
     "output_type": "stream",
     "text": [
      "i think this \u001b[31mwill\u001b[0m be very \u001b[31mgood\u001b[0m for you _EOS_ but we don ' t even _EOS_ and that '\n",
      "REAL:  please , mr . mackey , we ' ll be good . don ' t send us to that ole\n",
      "GENERATED:  we ' re trying to tell you something , something . . . even people with attention . prepare for\n",
      "0.560772\n"
     ]
    },
    {
     "data": {
      "image/png": "[encoded data removed]",
      "text/plain": [
       "<matplotlib.figure.Figure at 0x7f14d11ec950>"
      ]
     },
     "metadata": {},
     "output_type": "display_data"
    },
    {
     "name": "stdout",
     "output_type": "stream",
     "text": [
      ". . . chef ? ? a - are you \u001b[31mokay\u001b[0m ? _EOS_ \u001b[31mi\u001b[0m want to stick my balls inside\n",
      "REAL:  i ' m gonna make love to your asshole , children .\n",
      "GENERATED:  they ' re about to kick your ass .\n"
     ]
    }
   ],
   "source": [
    "gen_answers, gen_rewards = test_discr_fn(one_batch[0], np.zeros(len(bx), dtype='int32'), 20)\n",
    "gen_answers = [' '.join(phrase_from_idx(gen_answers[j], crop_by_eos=True)) for j in range(len(one_batch[1]))]\n",
    "answers =  [' '.join(phrase_from_idx(one_batch[1][j], crop_by_eos=True)) for j in range(len(one_batch[1]))]\n",
    "discr_reward = gen_rewards[:, :, 1]\n",
    "att_seqs = attention_discriminator.get_attention_real(one_batch[0], one_batch[1])\n",
    "for i in range(one_batch[0].shape[0]):\n",
    "    print discr_reward[i, -1]\n",
    "    print_phrase_and_attention(one_batch[0][i], att_seqs[i:i+1, 0])\n",
    "    print \"REAL: \", answers[i]\n",
    "    print \"GENERATED: \", gen_answers[i]"
   ]
  },
  {
   "cell_type": "markdown",
   "metadata": {
    "collapsed": true
   },
   "source": [
    "mean loss"
   ]
  },
  {
   "cell_type": "code",
   "execution_count": 287,
   "metadata": {
    "collapsed": false
   },
   "outputs": [
    {
     "name": "stdout",
     "output_type": "stream",
     "text": [
      "0.556569\n"
     ]
    },
    {
     "data": {
      "image/png": "[encoded data removed]",
      "text/plain": [
       "<matplotlib.figure.Figure at 0x7f150abb2890>"
      ]
     },
     "metadata": {},
     "output_type": "display_data"
    },
    {
     "name": "stdout",
     "output_type": "stream",
     "text": [
      "hello _EOS_ hello _EOS_ \u001b[31mwhat\u001b[0m is your name \u001b[31m?\u001b[0m _EOS_ _PAD_ _PAD_ _PAD_ _PAD_ _PAD_ _PAD_ _PAD_ _PAD_ _PAD_ _PAD_\n",
      "GENERATED:  it just isn ' t very nice . i just need to ve a nice little . . .\n",
      "0.596792\n"
     ]
    },
    {
     "data": {
      "image/png": "[encoded data removed]",
      "text/plain": [
       "<matplotlib.figure.Figure at 0x7f1506e7e310>"
      ]
     },
     "metadata": {},
     "output_type": "display_data"
    },
    {
     "name": "stdout",
     "output_type": "stream",
     "text": [
      "hello _EOS_ hello _EOS_ \u001b[31mwhat\u001b[0m is your name \u001b[31m?\u001b[0m _EOS_ _PAD_ _PAD_ _PAD_ _PAD_ _PAD_ _PAD_ _PAD_ _PAD_ _PAD_ _PAD_\n",
      "GENERATED:  tc marsh .\n",
      "0.464669\n"
     ]
    },
    {
     "data": {
      "image/png": "[encoded data removed]",
      "text/plain": [
       "<matplotlib.figure.Figure at 0x7f152f5dd110>"
      ]
     },
     "metadata": {},
     "output_type": "display_data"
    },
    {
     "name": "stdout",
     "output_type": "stream",
     "text": [
      "hello _EOS_ hello _EOS_ \u001b[31mwhat\u001b[0m is your name \u001b[31m?\u001b[0m _EOS_ _PAD_ _PAD_ _PAD_ _PAD_ _PAD_ _PAD_ _PAD_ _PAD_ _PAD_ _PAD_\n",
      "GENERATED:  wull , why are you doing this ?\n",
      "0.444882\n"
     ]
    },
    {
     "data": {
      "image/png": "[encoded data removed]",
      "text/plain": [
       "<matplotlib.figure.Figure at 0x7f14d82f4fd0>"
      ]
     },
     "metadata": {},
     "output_type": "display_data"
    },
    {
     "name": "stdout",
     "output_type": "stream",
     "text": [
      "hello _EOS_ hello _EOS_ \u001b[31mwhat\u001b[0m is your name \u001b[31m?\u001b[0m _EOS_ _PAD_ _PAD_ _PAD_ _PAD_ _PAD_ _PAD_ _PAD_ _PAD_ _PAD_ _PAD_\n",
      "GENERATED:  my name is father maxi . i\n",
      "0.438679\n"
     ]
    },
    {
     "data": {
      "image/png": "[encoded data removed]",
      "text/plain": [
       "<matplotlib.figure.Figure at 0x7f15157f1ed0>"
      ]
     },
     "metadata": {},
     "output_type": "display_data"
    },
    {
     "name": "stdout",
     "output_type": "stream",
     "text": [
      "hello _EOS_ hello _EOS_ \u001b[31mwhat\u001b[0m is your name \u001b[31m?\u001b[0m _EOS_ _PAD_ _PAD_ _PAD_ _PAD_ _PAD_ _PAD_ _PAD_ _PAD_ _PAD_ _PAD_\n",
      "GENERATED:  kyle broflovski .\n"
     ]
    }
   ],
   "source": [
    "for i in range(5):\n",
    "    name_id = 439\n",
    "    name_batch =  phrase_to_matrix([[\"Hello\", \"Hello\", \"What is your name ? \"]], max_len=20)\n",
    "    att_seqs = attention_discriminator.get_attention_fake(name_batch, [name_id], 20)\n",
    "    gen_answer, gen_reward = test_discr_fn(name_batch, [name_id], 20)\n",
    "    gen_answer = ' '.join(phrase_from_idx(gen_answer[0], crop_by_eos=True))\n",
    "    print gen_reward[0, -1, 1]\n",
    "    print_phrase_and_attention(name_batch[0], att_seqs[:, 0])\n",
    "    print \"GENERATED: \", gen_answer"
   ]
  },
  {
   "cell_type": "code",
   "execution_count": 271,
   "metadata": {
    "collapsed": false
   },
   "outputs": [
    {
     "name": "stdout",
     "output_type": "stream",
     "text": [
      "0.56306\n"
     ]
    },
    {
     "data": {
      "image/png": "[encoded data removed]",
      "text/plain": [
       "<matplotlib.figure.Figure at 0x7f14b029de50>"
      ]
     },
     "metadata": {},
     "output_type": "display_data"
    },
    {
     "name": "stdout",
     "output_type": "stream",
     "text": [
      "why are \u001b[31myou\u001b[0m so \u001b[31mobsessed\u001b[0m with cartman ' s trapper keeper , bill cosby ? _EOS_ bill cosby ? _EOS_\n",
      "REAL:  well , i knew you weren ' t bill cosby !\n",
      "GENERATED:  well , it turns out students , nasty hilling , is also considered the fastest negotiator for the filmore of\n",
      "0.407778\n"
     ]
    },
    {
     "data": {
      "image/png": "[encoded data removed]",
      "text/plain": [
       "<matplotlib.figure.Figure at 0x7f14aec4e350>"
      ]
     },
     "metadata": {},
     "output_type": "display_data"
    },
    {
     "name": "stdout",
     "output_type": "stream",
     "text": [
      "ahhh . _EOS_ oh . _EOS_ sheila , could you pass me the \u001b[31mdead\u001b[0m fetus \u001b[31m?\u001b[0m _EOS_ _PAD_ _PAD_ _PAD_\n",
      "REAL:  ow !\n",
      "GENERATED:  back in of the early minute an orderly fashion is our first night of lawyer predator .\n",
      "0.590147\n"
     ]
    },
    {
     "data": {
      "image/png": "[encoded data removed]",
      "text/plain": [
       "<matplotlib.figure.Figure at 0x7f14d1435d10>"
      ]
     },
     "metadata": {},
     "output_type": "display_data"
    },
    {
     "name": "stdout",
     "output_type": "stream",
     "text": [
      "awkwaaard ! _EOS_ and this june , funnybot \u001b[31mshows\u001b[0m  \u001b[31moff\u001b[0m his range by playing every role in . . .\n",
      "REAL:  pass them yourself .\n",
      "GENERATED:  pass them yourself .\n",
      "0.699889\n"
     ]
    },
    {
     "data": {
      "image/png": "[encoded data removed]",
      "text/plain": [
       "<matplotlib.figure.Figure at 0x7f14b1509c50>"
      ]
     },
     "metadata": {},
     "output_type": "display_data"
    },
    {
     "name": "stdout",
     "output_type": "stream",
     "text": [
      "no ! allied atheist alliance ! that way it has \u001b[31mthree\u001b[0m a ' s \u001b[31m!\u001b[0m that is the logical choice\n",
      "REAL:  i have to get out of here ! why is everyone in my past so stupid that they think i\n",
      "GENERATED:  for one new child to get everyone to destroy the great one , we make everyone understand that we '\n",
      "0.785337\n"
     ]
    },
    {
     "data": {
      "image/png": "[encoded data removed]",
      "text/plain": [
       "<matplotlib.figure.Figure at 0x7f14afc88310>"
      ]
     },
     "metadata": {},
     "output_type": "display_data"
    },
    {
     "name": "stdout",
     "output_type": "stream",
     "text": [
      "oh , god , it ' s horrible \u001b[31m!\u001b[0m _EOS_ that ' d disgusting , dude \u001b[31m!\u001b[0m _EOS_ god ,\n",
      "REAL:  we have to go to butters ' or cartman ' s house ! we have nowhere else to go !\n",
      "GENERATED:  we know that this is even more complicated than it seems : the judge wouldn ' t car . it\n",
      "0.357774\n"
     ]
    },
    {
     "data": {
      "image/png": "[encoded data removed]",
      "text/plain": [
       "<matplotlib.figure.Figure at 0x7f148aa23f90>"
      ]
     },
     "metadata": {},
     "output_type": "display_data"
    },
    {
     "name": "stdout",
     "output_type": "stream",
     "text": [
      "no ! no , no boys ! aw goddammit ! _EOS_ this is hbc news . a \u001b[31mright\u001b[0m - \u001b[31mto\u001b[0m \n",
      "REAL:  you bastards !\n",
      "GENERATED:  do you think we ' re getting our shot to the principal ? !\n",
      "0.361799\n"
     ]
    },
    {
     "data": {
      "image/png": "[encoded data removed]",
      "text/plain": [
       "<matplotlib.figure.Figure at 0x7f14b2b1c4d0>"
      ]
     },
     "metadata": {},
     "output_type": "display_data"
    },
    {
     "name": "stdout",
     "output_type": "stream",
     "text": [
      "here carol \u001b[31m,\u001b[0m  \u001b[31mi\u001b[0m think it ' s your boy . _EOS_ oh thanks . what is it stanley -\n",
      "REAL:  stanley , honey , you need to leave mommy alone , i ' m doing something very , very important\n",
      "GENERATED:  dinner is playing wide and what about pot , some such for girls like hope ?\n",
      "0.199881\n"
     ]
    },
    {
     "data": {
      "image/png": "[encoded data removed]",
      "text/plain": [
       "<matplotlib.figure.Figure at 0x7f14c8675d50>"
      ]
     },
     "metadata": {},
     "output_type": "display_data"
    },
    {
     "name": "stdout",
     "output_type": "stream",
     "text": [
      "what do \u001b[31myou\u001b[0m guys wanna do first ? i hear \u001b[31mthey\u001b[0m have a new inner tube slide . _EOS_ no\n",
      "REAL:  you know , there ' s always like five or six minorities wearing their t - shirts in the wave\n",
      "GENERATED:  now children , as children do , with the screening of the focused on the other side , our top\n",
      "0.200228\n"
     ]
    },
    {
     "data": {
      "image/png": "[encoded data removed]",
      "text/plain": [
       "<matplotlib.figure.Figure at 0x7f14ab4a61d0>"
      ]
     },
     "metadata": {},
     "output_type": "display_data"
    },
    {
     "name": "stdout",
     "output_type": "stream",
     "text": [
      "what ? _EOS_ mayor , this is a jakovasaur . \u001b[31ma\u001b[0m live one has never been \u001b[31mseen\u001b[0m . _EOS_ oh\n",
      "REAL:  incredible .\n",
      "GENERATED:  the time border came from us , it appears to have been steve . he ' s been reading through\n",
      "0.591092\n"
     ]
    },
    {
     "data": {
      "image/png": "[encoded data removed]",
      "text/plain": [
       "<matplotlib.figure.Figure at 0x7f14af3a5fd0>"
      ]
     },
     "metadata": {},
     "output_type": "display_data"
    },
    {
     "name": "stdout",
     "output_type": "stream",
     "text": [
      "oh , jeez , you wouldn \u001b[31m'\u001b[0m  \u001b[31mt\u001b[0m have believed how angry i was when teacher said i had to\n",
      "REAL:  and sometimes mommies do things that seem hurtful to their babies , but it ' s really for the best\n",
      "GENERATED:  give him your phone , mr white .\n",
      "0.613383\n"
     ]
    },
    {
     "data": {
      "image/png": "[encoded data removed]",
      "text/plain": [
       "<matplotlib.figure.Figure at 0x7f14c62e5b10>"
      ]
     },
     "metadata": {},
     "output_type": "display_data"
    },
    {
     "name": "stdout",
     "output_type": "stream",
     "text": [
      "oprah ' s got egg all over her face \u001b[31m!\u001b[0m  \u001b[31mshe\u001b[0m ' ll have to retire ! _EOS_ it '\n",
      "REAL:  sure . and ' er gary . we did it , mate !\n",
      "GENERATED:  make love to that terrance and phillip terrance and phillip _UNK_ in romania . remember no one chef was a\n",
      "0.718785\n"
     ]
    },
    {
     "data": {
      "image/png": "[encoded data removed]",
      "text/plain": [
       "<matplotlib.figure.Figure at 0x7f148461f190>"
      ]
     },
     "metadata": {},
     "output_type": "display_data"
    },
    {
     "name": "stdout",
     "output_type": "stream",
     "text": [
      "so what you do , \u001b[31msee\u001b[0m , is wait for a car to drive by that \u001b[31mbig\u001b[0m pine tree .\n",
      "REAL:  you try it , bebe .\n",
      "GENERATED:  what do you want it for ?\n",
      "0.610062\n"
     ]
    },
    {
     "data": {
      "image/png": "[encoded data removed]",
      "text/plain": [
       "<matplotlib.figure.Figure at 0x7f1507d0eb50>"
      ]
     },
     "metadata": {},
     "output_type": "display_data"
    },
    {
     "name": "stdout",
     "output_type": "stream",
     "text": [
      "stan ! stan ! oh . okay , uh , you you \u001b[31mmight\u001b[0m be \u001b[31mwondering\u001b[0m why butters has a future\n",
      "REAL:  oh . . . well . . . son , we ' ve just been trying to make sure you\n",
      "GENERATED:  well . . . there ' s you . see there ' s something i need to know about ih\n",
      "0.476048\n"
     ]
    },
    {
     "data": {
      "image/png": "[encoded data removed]",
      "text/plain": [
       "<matplotlib.figure.Figure at 0x7f14fafb8210>"
      ]
     },
     "metadata": {},
     "output_type": "display_data"
    },
    {
     "name": "stdout",
     "output_type": "stream",
     "text": [
      "alright ! _EOS_ they were so scared , i ' m \u001b[31msure\u001b[0m  \u001b[31mthey\u001b[0m ' ll never be back ! _EOS_\n",
      "REAL:  what ?\n",
      "GENERATED:  why couldn ' t we just throw the key to the four of you ?\n",
      "0.617938\n"
     ]
    },
    {
     "data": {
      "image/png": "[encoded data removed]",
      "text/plain": [
       "<matplotlib.figure.Figure at 0x7f14ca805d10>"
      ]
     },
     "metadata": {},
     "output_type": "display_data"
    },
    {
     "name": "stdout",
     "output_type": "stream",
     "text": [
      "no , that ' s \u001b[31mimpossible\u001b[0m  \u001b[31m!\u001b[0m _EOS_ little boy , are you sure you haven ' t taken it\n",
      "REAL:  kyle ? kyle !\n",
      "GENERATED:  all right , the monster nambla showed up outside to get to listen to you . the holiday year is\n",
      "0.64593\n"
     ]
    },
    {
     "data": {
      "image/png": "[encoded data removed]",
      "text/plain": [
       "<matplotlib.figure.Figure at 0x7f1504776e50>"
      ]
     },
     "metadata": {},
     "output_type": "display_data"
    },
    {
     "name": "stdout",
     "output_type": "stream",
     "text": [
      "hallo ? _EOS_ who ith thith \u001b[31m?\u001b[0m _EOS_ this is \u001b[31mgary\u001b[0m . _EOS_ _PAD_ _PAD_ _PAD_ _PAD_ _PAD_ _PAD_ _PAD_\n",
      "REAL:  gary who ? ! what is your last name ? !\n",
      "GENERATED:  put your gun in the car , put in the gun !\n",
      "0.704385\n"
     ]
    },
    {
     "data": {
      "image/png": "[encoded data removed]",
      "text/plain": [
       "<matplotlib.figure.Figure at 0x7f14c00dfa90>"
      ]
     },
     "metadata": {},
     "output_type": "display_data"
    },
    {
     "name": "stdout",
     "output_type": "stream",
     "text": [
      "think about it , guys . \u001b[31mif\u001b[0m somebody kills sarah jessica parker , then \u001b[31mthey\u001b[0m ' ll assume that somebody\n",
      "REAL:  shut up , cartman ! just face it . we lost this one .\n",
      "GENERATED:  calm down . we don ' t have time for a bit . looks like nelson has gone over one\n",
      "0.410721\n"
     ]
    },
    {
     "data": {
      "image/png": "[encoded data removed]",
      "text/plain": [
       "<matplotlib.figure.Figure at 0x7f14b3601610>"
      ]
     },
     "metadata": {},
     "output_type": "display_data"
    },
    {
     "name": "stdout",
     "output_type": "stream",
     "text": [
      "sir , we ' ve got confirmation . \u001b[31mthere\u001b[0m ' s \u001b[31mtwo\u001b[0m black guys in the upstairs of the house\n",
      "REAL:  yehah ? hang on ! mitch !\n",
      "GENERATED:  you call it \" \" fuckin ' indian ! \"\n",
      "0.508307\n"
     ]
    },
    {
     "data": {
      "image/png": "[encoded data removed]",
      "text/plain": [
       "<matplotlib.figure.Figure at 0x7f14d319d5d0>"
      ]
     },
     "metadata": {},
     "output_type": "display_data"
    },
    {
     "name": "stdout",
     "output_type": "stream",
     "text": [
      "what ? _EOS_ timmy and i are competing in a variety of events . _EOS_ \u001b[31myeah\u001b[0m  \u001b[31msure\u001b[0m , we '\n",
      "REAL:  yeah , that ' d be cool .\n",
      "GENERATED:  yeah sure . wouldn ' t it be nice to have this kind of year ?\n",
      "0.895345\n"
     ]
    },
    {
     "data": {
      "image/png": "[encoded data removed]",
      "text/plain": [
       "<matplotlib.figure.Figure at 0x7f1488705290>"
      ]
     },
     "metadata": {},
     "output_type": "display_data"
    },
    {
     "name": "stdout",
     "output_type": "stream",
     "text": [
      "but jews can ' t play basketball \u001b[31m!\u001b[0m _EOS_ kyle , you ' d \u001b[31mbetter\u001b[0m stop being anti - semitic\n",
      "REAL:  oh , that does it !\n",
      "GENERATED:  oh , about what an older child is now having puberty trapped in grows from a country and child bullying\n",
      "0.499807\n"
     ]
    },
    {
     "data": {
      "image/png": "[encoded data removed]",
      "text/plain": [
       "<matplotlib.figure.Figure at 0x7f14aa1c5590>"
      ]
     },
     "metadata": {},
     "output_type": "display_data"
    },
    {
     "name": "stdout",
     "output_type": "stream",
     "text": [
      "randy , what is this ? _EOS_ hey \u001b[31m!\u001b[0m you are now under the authority of the aarp \u001b[31m!\u001b[0m _EOS_\n",
      "REAL:  dad , what are you doing ? ?\n",
      "GENERATED:  it is an ungrateful passing - law , my son . what are you doing ?\n",
      "0.812598\n"
     ]
    },
    {
     "data": {
      "image/png": "[encoded data removed]",
      "text/plain": [
       "<matplotlib.figure.Figure at 0x7f14c8ebfc10>"
      ]
     },
     "metadata": {},
     "output_type": "display_data"
    },
    {
     "name": "stdout",
     "output_type": "stream",
     "text": [
      "no he ' s not \u001b[31m.\u001b[0m _EOS_ i don ' t \u001b[31mknow\u001b[0m . _EOS_ i just need to explain things\n",
      "REAL:  yeah , i was watching with my whole family . and then we saw all the _UNK_ this morning in\n",
      "GENERATED:  then we should give on it . have you ever nambla ? great - attention people . now what do\n",
      "0.332081\n"
     ]
    },
    {
     "data": {
      "image/png": "[encoded data removed]",
      "text/plain": [
       "<matplotlib.figure.Figure at 0x7f14d36c5750>"
      ]
     },
     "metadata": {},
     "output_type": "display_data"
    },
    {
     "name": "stdout",
     "output_type": "stream",
     "text": [
      "well , \u001b[31mi\u001b[0m ' \u001b[31mm\u001b[0m afraid i can ' t give it to you , because then you wouldn '\n",
      "REAL:  . . . yeah ?\n",
      "GENERATED:  before you get cancer , the first thing we have to do with this \" denver broncos \" pop the\n",
      "0.486275\n"
     ]
    },
    {
     "data": {
      "image/png": "[encoded data removed]",
      "text/plain": [
       "<matplotlib.figure.Figure at 0x7f14d2dc55d0>"
      ]
     },
     "metadata": {},
     "output_type": "display_data"
    },
    {
     "name": "stdout",
     "output_type": "stream",
     "text": [
      "what did \u001b[31mthey\u001b[0m  \u001b[31mdo\u001b[0m you you ? at that camp ? _EOS_ what do you mean ? just the usual\n",
      "REAL:  that ' s ridiculous . i ' m not anything . i don ' t fit in anywhere . i\n",
      "GENERATED:  i told you to noo - serve them you ' re a dwarf .\n",
      "0.377801\n"
     ]
    },
    {
     "data": {
      "image/png": "[encoded data removed]",
      "text/plain": [
       "<matplotlib.figure.Figure at 0x7f14d3656f10>"
      ]
     },
     "metadata": {},
     "output_type": "display_data"
    },
    {
     "name": "stdout",
     "output_type": "stream",
     "text": [
      "mom ! doorbell ! _EOS_ wait , before you \u001b[31mdo\u001b[0m , pull my thumb . _EOS_ mom \u001b[31m!\u001b[0m answer the\n",
      "REAL:  hey phillip , guess what ?\n",
      "GENERATED:  all right , comedy is what you need to be in a mascot with big your coach . you '\n",
      "0.528153\n"
     ]
    },
    {
     "data": {
      "image/png": "[encoded data removed]",
      "text/plain": [
       "<matplotlib.figure.Figure at 0x7f14fc4be110>"
      ]
     },
     "metadata": {},
     "output_type": "display_data"
    },
    {
     "name": "stdout",
     "output_type": "stream",
     "text": [
      "no way ! the bitches from cirque du _UNK_ \u001b[31m!\u001b[0m _EOS_ yeah . \u001b[31mthey\u001b[0m ' re quintuplets from romania .\n",
      "REAL:  ve are twins , except there are five of us instead of two .\n",
      "GENERATED:  when they first yup don ' t get involved . gang , they found another poor kid .\n",
      "0.704652\n"
     ]
    },
    {
     "data": {
      "image/png": "[encoded data removed]",
      "text/plain": [
       "<matplotlib.figure.Figure at 0x7f1515647290>"
      ]
     },
     "metadata": {},
     "output_type": "display_data"
    },
    {
     "name": "stdout",
     "output_type": "stream",
     "text": [
      "oohh , morning , \u001b[31mhum\u001b[0m , _UNK_ . _UNK_ ! _EOS_ okay , asshole \u001b[31m!\u001b[0m give me back my kidney\n",
      "REAL:  it ' s mine ! not yours , mine ! give it back right now , or there ' s\n",
      "GENERATED:  it is yours ! your other hands are ours !\n",
      "0.286695\n"
     ]
    },
    {
     "data": {
      "image/png": "[encoded data removed]",
      "text/plain": [
       "<matplotlib.figure.Figure at 0x7f148bb05fd0>"
      ]
     },
     "metadata": {},
     "output_type": "display_data"
    },
    {
     "name": "stdout",
     "output_type": "stream",
     "text": [
      "yeah . but i have to \u001b[31msay\u001b[0m , i feel a lot \u001b[31mbetter\u001b[0m now . _EOS_ i know what you\n",
      "REAL:  i didn ' t feel bad before , but now i just feel terrible .\n",
      "GENERATED:  this is the denver broncos la cucaracha line mohammad champion , and apparently , kid , these _UNK_ cast _UNK_\n",
      "0.393436\n"
     ]
    },
    {
     "data": {
      "image/png": "[encoded data removed]",
      "text/plain": [
       "<matplotlib.figure.Figure at 0x7f14f71c4fd0>"
      ]
     },
     "metadata": {},
     "output_type": "display_data"
    },
    {
     "name": "stdout",
     "output_type": "stream",
     "text": [
      "can you \u001b[31mbelieve\u001b[0m  \u001b[31mit\u001b[0m , boys ? ! we ' re playing in the state championship game ! _EOS_ we\n",
      "REAL:  well , then your whole season starts over , but on the national circuit ! you get to spend your\n",
      "GENERATED:  let ' s kill it !\n",
      "0.42226\n"
     ]
    },
    {
     "data": {
      "image/png": "[encoded data removed]",
      "text/plain": [
       "<matplotlib.figure.Figure at 0x7f148878fdd0>"
      ]
     },
     "metadata": {},
     "output_type": "display_data"
    },
    {
     "name": "stdout",
     "output_type": "stream",
     "text": [
      "i \u001b[31mhope\u001b[0m  \u001b[31mfor\u001b[0m your sake that ' s true . you ' ve never thrown a party of this magnitude\n",
      "REAL:  satan _UNK_ us .\n",
      "GENERATED:  wait , wait . it ' s one of the denver turkeys ' party .\n",
      "0.501879\n"
     ]
    },
    {
     "data": {
      "image/png": "[encoded data removed]",
      "text/plain": [
       "<matplotlib.figure.Figure at 0x7f151349f750>"
      ]
     },
     "metadata": {},
     "output_type": "display_data"
    },
    {
     "name": "stdout",
     "output_type": "stream",
     "text": [
      "i think this \u001b[31mwill\u001b[0m be very \u001b[31mgood\u001b[0m for you _EOS_ but we don ' t even _EOS_ and that '\n",
      "REAL:  please , mr . mackey , we ' ll be good . don ' t send us to that ole\n",
      "GENERATED:  and please you call to bring jews that will bring jews together again will the very day of miss crunch\n",
      "0.616187\n"
     ]
    },
    {
     "data": {
      "image/png": "[encoded data removed]",
      "text/plain": [
       "<matplotlib.figure.Figure at 0x7f1497c556d0>"
      ]
     },
     "metadata": {},
     "output_type": "display_data"
    },
    {
     "name": "stdout",
     "output_type": "stream",
     "text": [
      ". . . chef ? ? a - are you \u001b[31mokay\u001b[0m  \u001b[31m?\u001b[0m _EOS_ i want to stick my balls inside\n",
      "REAL:  i ' m gonna make love to your asshole , children .\n",
      "GENERATED:  i don ' t think so .\n"
     ]
    }
   ],
   "source": [
    "gen_answers, gen_rewards = test_discr_fn(one_batch[0], np.zeros(len(bx), dtype='int32'), 20)\n",
    "gen_answers = [' '.join(phrase_from_idx(gen_answers[j], crop_by_eos=True)) for j in range(len(one_batch[1]))]\n",
    "answers =  [' '.join(phrase_from_idx(one_batch[1][j], crop_by_eos=True)) for j in range(len(one_batch[1]))]\n",
    "discr_reward = gen_rewards[:, :, 1]\n",
    "att_seqs = attention_discriminator.get_attention_real(one_batch[0], one_batch[1])\n",
    "for i in range(one_batch[0].shape[0]):\n",
    "    print discr_reward[i, -1]\n",
    "    print_phrase_and_attention(one_batch[0][i], att_seqs[i:i+1, 0])\n",
    "    print \"REAL: \", answers[i]\n",
    "    print \"GENERATED: \", gen_answers[i]"
   ]
  },
  {
   "cell_type": "code",
   "execution_count": 285,
   "metadata": {
    "collapsed": false
   },
   "outputs": [
    {
     "name": "stdout",
     "output_type": "stream",
     "text": [
      "kyle broflovski , have you seen my paper ?\n",
      "kyle broflovski .\n",
      "it ' s a pretty name .\n",
      "kyle broflovski , have a seat over there .\n",
      "kyle broflovski , nice to meet you .\n"
     ]
    }
   ],
   "source": [
    "temperature.set_value(np.float32(0.5))\n",
    "for i in range(5):\n",
    "    print(generator.reply([\"Hello!\", \"Hello\", \"What is your name ?\"], 1))\n",
    "    \n",
    "temperature.set_value(np.float32(1))"
   ]
  },
  {
   "cell_type": "code",
   "execution_count": 40,
   "metadata": {
    "collapsed": false
   },
   "outputs": [
    {
     "name": "stdout",
     "output_type": "stream",
     "text": [
      "0.460211\n"
     ]
    },
    {
     "data": {
      "image/png": "[encoded data removed]",
      "text/plain": [
       "<matplotlib.figure.Figure at 0x7f06149ca790>"
      ]
     },
     "metadata": {},
     "output_type": "display_data"
    },
    {
     "name": "stdout",
     "output_type": "stream",
     "text": [
      "hello _EOS_ hello _EOS_ what is your \u001b[31mname\u001b[0m  \u001b[31m?\u001b[0m _EOS_ _PAD_ _PAD_ _PAD_ _PAD_ _PAD_ _PAD_ _PAD_ _PAD_ _PAD_ _PAD_\n",
      "GENERATED:  my name is randy marsh . i ' m r - r - confused about nice stuff like that first\n",
      "0.580203\n"
     ]
    },
    {
     "data": {
      "image/png": "[encoded data removed]",
      "text/plain": [
       "<matplotlib.figure.Figure at 0x7f064d910e10>"
      ]
     },
     "metadata": {},
     "output_type": "display_data"
    },
    {
     "name": "stdout",
     "output_type": "stream",
     "text": [
      "hello _EOS_ hello _EOS_ what is your \u001b[31mname\u001b[0m  \u001b[31m?\u001b[0m _EOS_ _PAD_ _PAD_ _PAD_ _PAD_ _PAD_ _PAD_ _PAD_ _PAD_ _PAD_ _PAD_\n",
      "GENERATED:  baptize ta , l . c . o . broflovski .\n",
      "0.671239\n"
     ]
    },
    {
     "data": {
      "image/png": "[encoded data removed]",
      "text/plain": [
       "<matplotlib.figure.Figure at 0x7f0609ae19d0>"
      ]
     },
     "metadata": {},
     "output_type": "display_data"
    },
    {
     "name": "stdout",
     "output_type": "stream",
     "text": [
      "hello _EOS_ hello _EOS_ what is your \u001b[31mname\u001b[0m  \u001b[31m?\u001b[0m _EOS_ _PAD_ _PAD_ _PAD_ _PAD_ _PAD_ _PAD_ _PAD_ _PAD_ _PAD_ _PAD_\n",
      "GENERATED:  door will open well . it ' s super best friends ; show your support or will you stay with\n",
      "0.432322\n"
     ]
    },
    {
     "data": {
      "image/png": "[encoded data removed]",
      "text/plain": [
       "<matplotlib.figure.Figure at 0x7f064d882d90>"
      ]
     },
     "metadata": {},
     "output_type": "display_data"
    },
    {
     "name": "stdout",
     "output_type": "stream",
     "text": [
      "hello _EOS_ hello _EOS_ what is your \u001b[31mname\u001b[0m  \u001b[31m?\u001b[0m _EOS_ _PAD_ _PAD_ _PAD_ _PAD_ _PAD_ _PAD_ _PAD_ _PAD_ _PAD_ _PAD_\n",
      "GENERATED:  kyle .\n",
      "0.646619\n"
     ]
    },
    {
     "data": {
      "image/png": "[encoded data removed]",
      "text/plain": [
       "<matplotlib.figure.Figure at 0x7f06521c5ed0>"
      ]
     },
     "metadata": {},
     "output_type": "display_data"
    },
    {
     "name": "stdout",
     "output_type": "stream",
     "text": [
      "hello _EOS_ hello _EOS_ what is your \u001b[31mname\u001b[0m  \u001b[31m?\u001b[0m _EOS_ _PAD_ _PAD_ _PAD_ _PAD_ _PAD_ _PAD_ _PAD_ _PAD_ _PAD_ _PAD_\n",
      "GENERATED:  my name is dr . biber .\n"
     ]
    }
   ],
   "source": [
    "for i in range(5):\n",
    "    name_id = 439\n",
    "    name_batch =  phrase_to_matrix([[\"Hello\", \"Hello\", \"What is your name ? \"]], max_len=20)\n",
    "    att_seqs = attention_discriminator.get_attention_fake(name_batch, [name_id], 20)\n",
    "    gen_answer, gen_reward = test_discr_fn(name_batch, [name_id], 20)\n",
    "    gen_answer = ' '.join(phrase_from_idx(gen_answer[0], crop_by_eos=True))\n",
    "    print gen_reward[0, -1, 1]\n",
    "    print_phrase_and_attention(name_batch[0], att_seqs[:, 0])\n",
    "    print \"GENERATED: \", gen_answer"
   ]
  },
  {
   "cell_type": "code",
   "execution_count": null,
   "metadata": {
    "collapsed": true
   },
   "outputs": [],
   "source": []
  },
  {
   "cell_type": "code",
   "execution_count": null,
   "metadata": {
    "collapsed": true
   },
   "outputs": [],
   "source": []
  },
  {
   "cell_type": "code",
   "execution_count": 101,
   "metadata": {
    "collapsed": false
   },
   "outputs": [],
   "source": [
    "from agentnet.learning.generic import get_values_for_actions\n",
    "\n",
    "class pg_trainer:    \n",
    "    \n",
    "    rewards = attention_discriminator.output_on_fake[:, -1, 1]\n",
    "    baseline = attention_discriminator.output_on_greedy_fake[:, -1, 1]\n",
    "\n",
    "    advantage = rewards - baseline\n",
    "\n",
    "    policy = get_values_for_actions(generator.probs, generator.out)\n",
    "    #policy = T.maximum(policy, 1e-10)\n",
    "    log_policy = T.log(policy)\n",
    "    neg_entropy = (generator.probs * T.log(generator.probs)).sum(axis=-1)\n",
    "\n",
    "    loss = ((-log_policy * advantage[:,None] + 0.01 * neg_entropy) * generator.mask).sum() / generator.mask.sum()\n",
    "\n",
    "    grads = T.grad(loss, generator.weights)\n",
    "    grads = lasagne.updates.total_norm_constraint(grads, 10)\n",
    "\n",
    "    updates = generator.auto_updates + generator.greedy_auto_updates\n",
    "    updates += lasagne.updates.adam(grads, generator.weights, learning_rate=1e-4) \n",
    "    \n",
    "#     f = theano.function([encoder.input_phrase, person_id_var, generator.n_steps], generator.out, \n",
    "#                    generator.auto_updates, allow_input_downcast=True)\n",
    "\n",
    "    train_step = theano.function([encoder.input_phrase, person_id_var, generator.n_steps], loss,\n",
    "                                 updates=updates,\n",
    "                                 allow_input_downcast=True)"
   ]
  },
  {
   "cell_type": "code",
   "execution_count": 102,
   "metadata": {
    "collapsed": false
   },
   "outputs": [],
   "source": [
    "name_batch =  phrase_to_matrix([[\"Hello\", \"Hello\", \"What is your name ? \"]], max_len=20)\n",
    "\n",
    "conversation_names = set(names) & set(tokens)\n",
    "\n",
    "conversation_name_idxs = map(name_to_ix.get, conversation_names)\n",
    "conversation_token_idxs = map(token_to_ix.get, conversation_names)\n",
    "\n",
    "name_batch_repeated = np.repeat(name_batch, len(conversation_names), axis=0)\n",
    "\n",
    "def accuracy_in_names():\n",
    "    #model_answers = generator.generate(name_batch_repeated, conversation_name_idxs, 20, latent_for_name_batch)\n",
    "    model_answers = [generator.generate(name_batch, [name_idx], 20) \n",
    "                                        for name_idx in conversation_name_idxs]\n",
    "    def crop_by_eos(answer):\n",
    "        if  EOS_ix in answer:\n",
    "            return answer[:list(answer).index(EOS_ix)]\n",
    "        return answer\n",
    "        \n",
    "    res = map(lambda answer, name_idx: name_idx in set(crop_by_eos(answer[0])), model_answers, conversation_token_idxs)   \n",
    "    matched_idxs = np.where(res)[0]\n",
    "    name_idxs = [conversation_name_idxs[idx] for idx in matched_idxs]\n",
    "    matched_names = [names[idx] for idx in name_idxs]\n",
    "    \n",
    "    matched_answers = [' '.join(phrase_from_idx(model_answers[idx][0], crop_by_eos=True)) for idx in matched_idxs] \n",
    "    return matched_names, matched_answers\n",
    "    return sum(res)"
   ]
  },
  {
   "cell_type": "code",
   "execution_count": 103,
   "metadata": {
    "collapsed": true
   },
   "outputs": [],
   "source": [
    "def plot_smoothed(x, n=10):\n",
    "    smoothed_x = [np.mean(x[i-n:i]) for i in range(n, len(x))]\n",
    "    plt.plot(smoothed_x)"
   ]
  },
  {
   "cell_type": "code",
   "execution_count": 104,
   "metadata": {
    "collapsed": true
   },
   "outputs": [],
   "source": [
    "gen_train_errors = []\n",
    "discr_train_errors = []\n",
    "accuracies_in_names = []"
   ]
  },
  {
   "cell_type": "code",
   "execution_count": 105,
   "metadata": {
    "collapsed": false
   },
   "outputs": [
    {
     "name": "stderr",
     "output_type": "stream",
     "text": [
      "/anaconda2/lib/python2.7/site-packages/ipykernel/__main__.py:10: FutureWarning: comparison to `None` will result in an elementwise object comparison in the future.\n"
     ]
    },
    {
     "name": "stdout",
     "output_type": "stream",
     "text": [
      "Gen -0.17828\n",
      "Gen 0.47887\n",
      "Gen 0.03732\n",
      "Gen -0.11570\n",
      "Gen 0.13739\n",
      "Gen -0.06154\n",
      "Gen 0.24034\n",
      "Gen -0.08678\n",
      "Gen 0.06567\n",
      "Gen -0.04981\n",
      "Gen 0.17704\n",
      "Gen 0.04493\n",
      "Gen -0.28015\n",
      "Gen 0.10555\n",
      "Gen 0.34172\n",
      "Gen -0.05716\n",
      "Gen 0.27269\n",
      "Gen 0.21232\n",
      "Gen 0.21438\n",
      "Gen 0.18439\n",
      "Gen 0.04233\n",
      "Gen 0.23012\n",
      "Gen 0.04967\n",
      "Gen 0.16284\n",
      "Gen 0.39753\n",
      "Gen 0.10990\n",
      "Gen 0.07120\n",
      "Gen -0.19108\n",
      "Gen 0.10930\n",
      "Gen 0.01967\n",
      "Gen -0.12535\n",
      "Gen 0.00837\n",
      "Gen -0.00087\n",
      "Gen 0.12656\n",
      "Gen -0.02007\n",
      "Gen -0.18573\n",
      "Gen -0.20585\n",
      "Gen 0.06287\n",
      "Gen 0.23239\n",
      "Gen -0.02142\n",
      "Gen -0.12052\n",
      "Gen -0.06851\n",
      "Gen -0.19253\n",
      "Gen -0.18941\n",
      "Gen 0.03741\n",
      "Gen 0.02732\n",
      "Gen 0.00114\n",
      "Gen 0.07580\n",
      "Gen 0.29254\n",
      "Gen 0.20085\n",
      "Gen -0.04162\n",
      "Gen -0.07306\n",
      "Gen 0.02694\n",
      "Gen -0.04041\n",
      "Gen 0.23965\n",
      "Gen 0.19671\n",
      "Gen 0.14064\n",
      "Gen 0.05190\n",
      "Gen 0.04635\n",
      "Gen -0.00543\n",
      "Gen -0.07702\n",
      "Gen -0.01887\n",
      "Gen -0.25307\n",
      "Gen -0.10878\n",
      "Gen -0.01473\n",
      "Gen -0.16745\n",
      "Gen 0.19708\n",
      "Gen -0.02664\n",
      "Gen 0.10732\n",
      "Gen 0.21868\n",
      "Gen -0.00439\n",
      "Gen 0.13600\n",
      "Gen -0.10160\n",
      "Gen 0.06383\n",
      "Gen -0.10160\n",
      "Gen -0.09891\n",
      "Gen -0.15906\n",
      "Gen -0.04045\n",
      "Gen 0.02584\n",
      "Gen -0.19340\n",
      "Gen 0.02332\n",
      "Gen 0.37980\n",
      "Gen -0.09052\n",
      "Gen 0.25879\n",
      "Gen 0.02473\n",
      "Gen 0.21608\n",
      "Gen 0.14059\n",
      "Gen -0.30360\n"
     ]
    },
    {
     "ename": "KeyboardInterrupt",
     "evalue": "",
     "output_type": "error",
     "traceback": [
      "\u001b[0;31m---------------------------------------------------------------------------\u001b[0m",
      "\u001b[0;31mKeyboardInterrupt\u001b[0m                         Traceback (most recent call last)",
      "\u001b[0;32m<ipython-input-105-f6f349510e64>\u001b[0m in \u001b[0;36m<module>\u001b[0;34m()\u001b[0m\n\u001b[1;32m      7\u001b[0m     \u001b[0;32mfor\u001b[0m \u001b[0m_\u001b[0m \u001b[0;32min\u001b[0m \u001b[0mrange\u001b[0m\u001b[0;34m(\u001b[0m\u001b[0;36m6\u001b[0m\u001b[0;34m)\u001b[0m\u001b[0;34m:\u001b[0m\u001b[0;34m\u001b[0m\u001b[0m\n\u001b[1;32m      8\u001b[0m         \u001b[0;32mfor\u001b[0m \u001b[0mbx\u001b[0m\u001b[0;34m,\u001b[0m \u001b[0mby\u001b[0m\u001b[0;34m,\u001b[0m \u001b[0mrespondent\u001b[0m \u001b[0;32min\u001b[0m \u001b[0mgenerate_data\u001b[0m\u001b[0;34m(\u001b[0m\u001b[0mdata_rows\u001b[0m\u001b[0;34m,\u001b[0m \u001b[0mspeakers_list\u001b[0m\u001b[0;34m=\u001b[0m\u001b[0mspeakers_list\u001b[0m\u001b[0;34m,\u001b[0m \u001b[0mn_iter\u001b[0m\u001b[0;34m=\u001b[0m\u001b[0;36m8\u001b[0m\u001b[0;34m,\u001b[0m \u001b[0mmax_len\u001b[0m\u001b[0;34m=\u001b[0m\u001b[0mseq_len\u001b[0m\u001b[0;34m)\u001b[0m\u001b[0;34m:\u001b[0m\u001b[0;34m\u001b[0m\u001b[0m\n\u001b[0;32m----> 9\u001b[0;31m             \u001b[0merr\u001b[0m \u001b[0;34m=\u001b[0m \u001b[0mattention_discriminator\u001b[0m\u001b[0;34m.\u001b[0m\u001b[0mtrain_step\u001b[0m\u001b[0;34m(\u001b[0m\u001b[0mbx\u001b[0m\u001b[0;34m,\u001b[0m \u001b[0mby\u001b[0m\u001b[0;34m,\u001b[0m \u001b[0mrespondent\u001b[0m\u001b[0;34m,\u001b[0m \u001b[0;36m20\u001b[0m\u001b[0;34m)\u001b[0m\u001b[0;34m\u001b[0m\u001b[0m\n\u001b[0m\u001b[1;32m     10\u001b[0m             \u001b[0mdiscr_train_errors\u001b[0m\u001b[0;34m.\u001b[0m\u001b[0mappend\u001b[0m\u001b[0;34m(\u001b[0m\u001b[0merr\u001b[0m\u001b[0;34m)\u001b[0m\u001b[0;34m\u001b[0m\u001b[0m\n\u001b[1;32m     11\u001b[0m         \u001b[0;31m#print(\"Discr %.5f\"%err)\u001b[0m\u001b[0;34m\u001b[0m\u001b[0;34m\u001b[0m\u001b[0m\n",
      "\u001b[0;32m/anaconda2/lib/python2.7/site-packages/theano/compile/function_module.pyc\u001b[0m in \u001b[0;36m__call__\u001b[0;34m(self, *args, **kwargs)\u001b[0m\n\u001b[1;32m    882\u001b[0m         \u001b[0;32mtry\u001b[0m\u001b[0;34m:\u001b[0m\u001b[0;34m\u001b[0m\u001b[0m\n\u001b[1;32m    883\u001b[0m             \u001b[0moutputs\u001b[0m \u001b[0;34m=\u001b[0m\u001b[0;31m\\\u001b[0m\u001b[0;34m\u001b[0m\u001b[0m\n\u001b[0;32m--> 884\u001b[0;31m                 \u001b[0mself\u001b[0m\u001b[0;34m.\u001b[0m\u001b[0mfn\u001b[0m\u001b[0;34m(\u001b[0m\u001b[0;34m)\u001b[0m \u001b[0;32mif\u001b[0m \u001b[0moutput_subset\u001b[0m \u001b[0;32mis\u001b[0m \u001b[0mNone\u001b[0m \u001b[0;32melse\u001b[0m\u001b[0;31m\\\u001b[0m\u001b[0;34m\u001b[0m\u001b[0m\n\u001b[0m\u001b[1;32m    885\u001b[0m                 \u001b[0mself\u001b[0m\u001b[0;34m.\u001b[0m\u001b[0mfn\u001b[0m\u001b[0;34m(\u001b[0m\u001b[0moutput_subset\u001b[0m\u001b[0;34m=\u001b[0m\u001b[0moutput_subset\u001b[0m\u001b[0;34m)\u001b[0m\u001b[0;34m\u001b[0m\u001b[0m\n\u001b[1;32m    886\u001b[0m         \u001b[0;32mexcept\u001b[0m \u001b[0mException\u001b[0m\u001b[0;34m:\u001b[0m\u001b[0;34m\u001b[0m\u001b[0m\n",
      "\u001b[0;32m/anaconda2/lib/python2.7/site-packages/theano/scan_module/scan_op.pyc\u001b[0m in \u001b[0;36mrval\u001b[0;34m(p, i, o, n, allow_gc)\u001b[0m\n\u001b[1;32m    987\u001b[0m         def rval(p=p, i=node_input_storage, o=node_output_storage, n=node,\n\u001b[1;32m    988\u001b[0m                  allow_gc=allow_gc):\n\u001b[0;32m--> 989\u001b[0;31m             \u001b[0mr\u001b[0m \u001b[0;34m=\u001b[0m \u001b[0mp\u001b[0m\u001b[0;34m(\u001b[0m\u001b[0mn\u001b[0m\u001b[0;34m,\u001b[0m \u001b[0;34m[\u001b[0m\u001b[0mx\u001b[0m\u001b[0;34m[\u001b[0m\u001b[0;36m0\u001b[0m\u001b[0;34m]\u001b[0m \u001b[0;32mfor\u001b[0m \u001b[0mx\u001b[0m \u001b[0;32min\u001b[0m \u001b[0mi\u001b[0m\u001b[0;34m]\u001b[0m\u001b[0;34m,\u001b[0m \u001b[0mo\u001b[0m\u001b[0;34m)\u001b[0m\u001b[0;34m\u001b[0m\u001b[0m\n\u001b[0m\u001b[1;32m    990\u001b[0m             \u001b[0;32mfor\u001b[0m \u001b[0mo\u001b[0m \u001b[0;32min\u001b[0m \u001b[0mnode\u001b[0m\u001b[0;34m.\u001b[0m\u001b[0moutputs\u001b[0m\u001b[0;34m:\u001b[0m\u001b[0;34m\u001b[0m\u001b[0m\n\u001b[1;32m    991\u001b[0m                 \u001b[0mcompute_map\u001b[0m\u001b[0;34m[\u001b[0m\u001b[0mo\u001b[0m\u001b[0;34m]\u001b[0m\u001b[0;34m[\u001b[0m\u001b[0;36m0\u001b[0m\u001b[0;34m]\u001b[0m \u001b[0;34m=\u001b[0m \u001b[0mTrue\u001b[0m\u001b[0;34m\u001b[0m\u001b[0m\n",
      "\u001b[0;32m/anaconda2/lib/python2.7/site-packages/theano/scan_module/scan_op.pyc\u001b[0m in \u001b[0;36mp\u001b[0;34m(node, args, outs)\u001b[0m\n\u001b[1;32m    976\u001b[0m                                                 \u001b[0margs\u001b[0m\u001b[0;34m,\u001b[0m\u001b[0;34m\u001b[0m\u001b[0m\n\u001b[1;32m    977\u001b[0m                                                 \u001b[0mouts\u001b[0m\u001b[0;34m,\u001b[0m\u001b[0;34m\u001b[0m\u001b[0m\n\u001b[0;32m--> 978\u001b[0;31m                                                 self, node)\n\u001b[0m\u001b[1;32m    979\u001b[0m         \u001b[0;32mexcept\u001b[0m \u001b[0;34m(\u001b[0m\u001b[0mImportError\u001b[0m\u001b[0;34m,\u001b[0m \u001b[0mtheano\u001b[0m\u001b[0;34m.\u001b[0m\u001b[0mgof\u001b[0m\u001b[0;34m.\u001b[0m\u001b[0mcmodule\u001b[0m\u001b[0;34m.\u001b[0m\u001b[0mMissingGXX\u001b[0m\u001b[0;34m)\u001b[0m\u001b[0;34m:\u001b[0m\u001b[0;34m\u001b[0m\u001b[0m\n\u001b[1;32m    980\u001b[0m             \u001b[0mp\u001b[0m \u001b[0;34m=\u001b[0m \u001b[0mself\u001b[0m\u001b[0;34m.\u001b[0m\u001b[0mexecute\u001b[0m\u001b[0;34m\u001b[0m\u001b[0m\n",
      "\u001b[0;32mtheano/scan_module/scan_perform.pyx\u001b[0m in \u001b[0;36mtheano.scan_module.scan_perform.perform (/home/common/.theano/compiledir_Linux-4.8--generic-x86_64-with-debian-stretch-sid-x86_64-2.7.13-64/scan_perform/mod.cpp:4490)\u001b[0;34m()\u001b[0m\n",
      "\u001b[0;32m/anaconda2/lib/python2.7/site-packages/theano/gof/op.pyc\u001b[0m in \u001b[0;36mrval\u001b[0;34m(p, i, o, n)\u001b[0m\n\u001b[1;32m    886\u001b[0m             \u001b[0;31m# default arguments are stored in the closure of `rval`\u001b[0m\u001b[0;34m\u001b[0m\u001b[0;34m\u001b[0m\u001b[0m\n\u001b[1;32m    887\u001b[0m             \u001b[0;32mdef\u001b[0m \u001b[0mrval\u001b[0m\u001b[0;34m(\u001b[0m\u001b[0mp\u001b[0m\u001b[0;34m=\u001b[0m\u001b[0mp\u001b[0m\u001b[0;34m,\u001b[0m \u001b[0mi\u001b[0m\u001b[0;34m=\u001b[0m\u001b[0mnode_input_storage\u001b[0m\u001b[0;34m,\u001b[0m \u001b[0mo\u001b[0m\u001b[0;34m=\u001b[0m\u001b[0mnode_output_storage\u001b[0m\u001b[0;34m,\u001b[0m \u001b[0mn\u001b[0m\u001b[0;34m=\u001b[0m\u001b[0mnode\u001b[0m\u001b[0;34m)\u001b[0m\u001b[0;34m:\u001b[0m\u001b[0;34m\u001b[0m\u001b[0m\n\u001b[0;32m--> 888\u001b[0;31m                 \u001b[0mr\u001b[0m \u001b[0;34m=\u001b[0m \u001b[0mp\u001b[0m\u001b[0;34m(\u001b[0m\u001b[0mn\u001b[0m\u001b[0;34m,\u001b[0m \u001b[0;34m[\u001b[0m\u001b[0mx\u001b[0m\u001b[0;34m[\u001b[0m\u001b[0;36m0\u001b[0m\u001b[0;34m]\u001b[0m \u001b[0;32mfor\u001b[0m \u001b[0mx\u001b[0m \u001b[0;32min\u001b[0m \u001b[0mi\u001b[0m\u001b[0;34m]\u001b[0m\u001b[0;34m,\u001b[0m \u001b[0mo\u001b[0m\u001b[0;34m)\u001b[0m\u001b[0;34m\u001b[0m\u001b[0m\n\u001b[0m\u001b[1;32m    889\u001b[0m                 \u001b[0;32mfor\u001b[0m \u001b[0mo\u001b[0m \u001b[0;32min\u001b[0m \u001b[0mnode\u001b[0m\u001b[0;34m.\u001b[0m\u001b[0moutputs\u001b[0m\u001b[0;34m:\u001b[0m\u001b[0;34m\u001b[0m\u001b[0m\n\u001b[1;32m    890\u001b[0m                     \u001b[0mcompute_map\u001b[0m\u001b[0;34m[\u001b[0m\u001b[0mo\u001b[0m\u001b[0;34m]\u001b[0m\u001b[0;34m[\u001b[0m\u001b[0;36m0\u001b[0m\u001b[0;34m]\u001b[0m \u001b[0;34m=\u001b[0m \u001b[0mTrue\u001b[0m\u001b[0;34m\u001b[0m\u001b[0m\n",
      "\u001b[0;32m/anaconda2/lib/python2.7/site-packages/theano/tensor/basic.pyc\u001b[0m in \u001b[0;36mperform\u001b[0;34m(self, node, inputs, outputs)\u001b[0m\n\u001b[1;32m   3737\u001b[0m                              (len(splits), self.len_splits))\n\u001b[1;32m   3738\u001b[0m \u001b[0;34m\u001b[0m\u001b[0m\n\u001b[0;32m-> 3739\u001b[0;31m         \u001b[0;32mif\u001b[0m \u001b[0mnp\u001b[0m\u001b[0;34m.\u001b[0m\u001b[0msum\u001b[0m\u001b[0;34m(\u001b[0m\u001b[0msplits\u001b[0m\u001b[0;34m)\u001b[0m \u001b[0;34m!=\u001b[0m \u001b[0mlen_along_axis\u001b[0m\u001b[0;34m:\u001b[0m\u001b[0;34m\u001b[0m\u001b[0m\n\u001b[0m\u001b[1;32m   3740\u001b[0m             raise ValueError('The splits sum to %s, expected %s' %\n\u001b[1;32m   3741\u001b[0m                              (np.sum(splits), len_along_axis))\n",
      "\u001b[0;32m/anaconda2/lib/python2.7/site-packages/numpy/core/fromnumeric.pyc\u001b[0m in \u001b[0;36msum\u001b[0;34m(a, axis, dtype, out, keepdims)\u001b[0m\n\u001b[1;32m   1812\u001b[0m             \u001b[0;32mreturn\u001b[0m \u001b[0msum\u001b[0m\u001b[0;34m(\u001b[0m\u001b[0maxis\u001b[0m\u001b[0;34m=\u001b[0m\u001b[0maxis\u001b[0m\u001b[0;34m,\u001b[0m \u001b[0mdtype\u001b[0m\u001b[0;34m=\u001b[0m\u001b[0mdtype\u001b[0m\u001b[0;34m,\u001b[0m \u001b[0mout\u001b[0m\u001b[0;34m=\u001b[0m\u001b[0mout\u001b[0m\u001b[0;34m,\u001b[0m \u001b[0;34m**\u001b[0m\u001b[0mkwargs\u001b[0m\u001b[0;34m)\u001b[0m\u001b[0;34m\u001b[0m\u001b[0m\n\u001b[1;32m   1813\u001b[0m     return _methods._sum(a, axis=axis, dtype=dtype,\n\u001b[0;32m-> 1814\u001b[0;31m                          out=out, **kwargs)\n\u001b[0m\u001b[1;32m   1815\u001b[0m \u001b[0;34m\u001b[0m\u001b[0m\n\u001b[1;32m   1816\u001b[0m \u001b[0;34m\u001b[0m\u001b[0m\n",
      "\u001b[0;32m/anaconda2/lib/python2.7/site-packages/numpy/core/_methods.pyc\u001b[0m in \u001b[0;36m_sum\u001b[0;34m(a, axis, dtype, out, keepdims)\u001b[0m\n\u001b[1;32m     30\u001b[0m \u001b[0;34m\u001b[0m\u001b[0m\n\u001b[1;32m     31\u001b[0m \u001b[0;32mdef\u001b[0m \u001b[0m_sum\u001b[0m\u001b[0;34m(\u001b[0m\u001b[0ma\u001b[0m\u001b[0;34m,\u001b[0m \u001b[0maxis\u001b[0m\u001b[0;34m=\u001b[0m\u001b[0mNone\u001b[0m\u001b[0;34m,\u001b[0m \u001b[0mdtype\u001b[0m\u001b[0;34m=\u001b[0m\u001b[0mNone\u001b[0m\u001b[0;34m,\u001b[0m \u001b[0mout\u001b[0m\u001b[0;34m=\u001b[0m\u001b[0mNone\u001b[0m\u001b[0;34m,\u001b[0m \u001b[0mkeepdims\u001b[0m\u001b[0;34m=\u001b[0m\u001b[0mFalse\u001b[0m\u001b[0;34m)\u001b[0m\u001b[0;34m:\u001b[0m\u001b[0;34m\u001b[0m\u001b[0m\n\u001b[0;32m---> 32\u001b[0;31m     \u001b[0;32mreturn\u001b[0m \u001b[0mumr_sum\u001b[0m\u001b[0;34m(\u001b[0m\u001b[0ma\u001b[0m\u001b[0;34m,\u001b[0m \u001b[0maxis\u001b[0m\u001b[0;34m,\u001b[0m \u001b[0mdtype\u001b[0m\u001b[0;34m,\u001b[0m \u001b[0mout\u001b[0m\u001b[0;34m,\u001b[0m \u001b[0mkeepdims\u001b[0m\u001b[0;34m)\u001b[0m\u001b[0;34m\u001b[0m\u001b[0m\n\u001b[0m\u001b[1;32m     33\u001b[0m \u001b[0;34m\u001b[0m\u001b[0m\n\u001b[1;32m     34\u001b[0m \u001b[0;32mdef\u001b[0m \u001b[0m_prod\u001b[0m\u001b[0;34m(\u001b[0m\u001b[0ma\u001b[0m\u001b[0;34m,\u001b[0m \u001b[0maxis\u001b[0m\u001b[0;34m=\u001b[0m\u001b[0mNone\u001b[0m\u001b[0;34m,\u001b[0m \u001b[0mdtype\u001b[0m\u001b[0;34m=\u001b[0m\u001b[0mNone\u001b[0m\u001b[0;34m,\u001b[0m \u001b[0mout\u001b[0m\u001b[0;34m=\u001b[0m\u001b[0mNone\u001b[0m\u001b[0;34m,\u001b[0m \u001b[0mkeepdims\u001b[0m\u001b[0;34m=\u001b[0m\u001b[0mFalse\u001b[0m\u001b[0;34m)\u001b[0m\u001b[0;34m:\u001b[0m\u001b[0;34m\u001b[0m\u001b[0m\n",
      "\u001b[0;31mKeyboardInterrupt\u001b[0m: "
     ]
    }
   ],
   "source": [
    "for epoch in range(200):\n",
    "    for _ in range(1):\n",
    "        for bx, by, respondent in generate_data(data_rows, speakers_list=speakers_list, n_iter=2, max_len=seq_len):\n",
    "            err = pg_trainer.train_step(bx, respondent, 20)\n",
    "            gen_train_errors.append(err)\n",
    "        print(\"Gen %.5f\"%err)\n",
    "    for _ in range(6):\n",
    "        for bx, by, respondent in generate_data(data_rows, speakers_list=speakers_list, n_iter=8, max_len=seq_len):\n",
    "            err = attention_discriminator.train_step(bx, by, respondent, 20)\n",
    "            discr_train_errors.append(err)\n",
    "        #print(\"Discr %.5f\"%err)\n"
   ]
  },
  {
   "cell_type": "code",
   "execution_count": 46,
   "metadata": {
    "collapsed": false
   },
   "outputs": [
    {
     "data": {
      "text/plain": [
       "(['president', 'scott'],\n",
       " [\"it ' s the president of wall - mart . at south park elementary . the second was a hit\",\n",
       "  \"my name . . . called scott , but my dad isn ' t even legal anymore ?\"])"
      ]
     },
     "execution_count": 46,
     "metadata": {},
     "output_type": "execute_result"
    }
   ],
   "source": [
    "accuracy_in_names()"
   ]
  },
  {
   "cell_type": "code",
   "execution_count": 58,
   "metadata": {
    "collapsed": false
   },
   "outputs": [
    {
     "data": {
      "text/plain": [
       "(['vampir', 'everyone'],\n",
       " ['my name is vampir veronica , little guy brought in a little doll face . a new girlfriend , a',\n",
       "  \"it ' s all everyone . everyone write a good song , all wrassling entitled together .\"])"
      ]
     },
     "execution_count": 58,
     "metadata": {},
     "output_type": "execute_result"
    }
   ],
   "source": [
    "accuracy_in_names()"
   ]
  },
  {
   "cell_type": "code",
   "execution_count": 60,
   "metadata": {
    "collapsed": false
   },
   "outputs": [
    {
     "data": {
      "text/plain": [
       "(['cartman'],\n",
       " [\"my name is eric cartman . i ' m singing about swimming lessons in another elementary school . i '\"])"
      ]
     },
     "execution_count": 60,
     "metadata": {},
     "output_type": "execute_result"
    }
   ],
   "source": [
    "accuracy_in_names()"
   ]
  },
  {
   "cell_type": "code",
   "execution_count": 106,
   "metadata": {
    "collapsed": false
   },
   "outputs": [
    {
     "data": {
      "image/png": "[encoded data removed]",
      "text/plain": [
       "<matplotlib.figure.Figure at 0x7fbd3f405550>"
      ]
     },
     "metadata": {},
     "output_type": "display_data"
    }
   ],
   "source": [
    "plt.figure(figsize=(16, 4))\n",
    "\n",
    "plt.subplot(1, 2, 1)\n",
    "plt.title(\"Generator loss\")\n",
    "plot_smoothed(gen_train_errors, n=10)\n",
    "#plt.plot(gen_train_errors)\n",
    "plt.subplot(1, 2, 2)\n",
    "plt.title(\"Discriminator loss\")\n",
    "plot_smoothed(discr_train_errors, n=100)"
   ]
  },
  {
   "cell_type": "code",
   "execution_count": 62,
   "metadata": {
    "collapsed": false
   },
   "outputs": [
    {
     "name": "stdout",
     "output_type": "stream",
     "text": [
      "my name is randy marsh , and i ' m the fourth of july , and south park county sheriff\n",
      "the president of the united states is on the phone for you .\n",
      "my name is randy marsh , and i ' m stan marsh of the black friday .\n",
      "stan marsh , a girl named _UNK_ , a _UNK_ .\n",
      "my name is randy marsh , and i ' m supposed to read your favorite psalm for you .\n"
     ]
    }
   ],
   "source": [
    "temperature.set_value(np.float32(0.5))\n",
    "for i in range(5):\n",
    "    print(generator.reply([\"Hello!\", \"Hello\", \"What is your name ?\"], 100))\n",
    "    \n",
    "temperature.set_value(np.float32(1))"
   ]
  },
  {
   "cell_type": "code",
   "execution_count": 85,
   "metadata": {
    "collapsed": false
   },
   "outputs": [
    {
     "name": "stdout",
     "output_type": "stream",
     "text": [
      "0.435703\n"
     ]
    },
    {
     "data": {
      "image/png": "[encoded data removed]",
      "text/plain": [
       "<matplotlib.figure.Figure at 0x7f060751be90>"
      ]
     },
     "metadata": {},
     "output_type": "display_data"
    },
    {
     "name": "stdout",
     "output_type": "stream",
     "text": [
      "hello _EOS_ hello _EOS_ what is your name ? _EOS_ _PAD_ _PAD_ _PAD_ _PAD_ _PAD_ _PAD_ _PAD_ \u001b[31m_PAD_\u001b[0m  \u001b[31m_PAD_\u001b[0m _PAD_\n",
      "GENERATED:  stan marsh , ah i ' m with my friends done for about to take me to see peter panda\n"
     ]
    }
   ],
   "source": [
    "name_id = 439\n",
    "name_batch =  phrase_to_matrix([[\"Hello\", \"Hello\", \"What is your name ? \"]], max_len=20)\n",
    "att_seqs = attention_discriminator.get_attention_fake(name_batch, [name_id], 20)\n",
    "gen_answer, gen_reward = test_discr_fn(name_batch, [name_id], 20)\n",
    "gen_answer = ' '.join(phrase_from_idx(gen_answer[0], crop_by_eos=True))\n",
    "print gen_reward[0, -1, 1]\n",
    "print_phrase_and_attention(name_batch[0], att_seqs[:, 0])\n",
    "print \"GENERATED: \", gen_answer"
   ]
  },
  {
   "cell_type": "code",
   "execution_count": 140,
   "metadata": {
    "collapsed": false
   },
   "outputs": [
    {
     "name": "stdout",
     "output_type": "stream",
     "text": [
      "pessimist horsehead _Beary_ haqa _Pope_Francis_ resolute _Mrs._Tenorman_ jakovasaur wokay _al-Zawahri_ _Mona_ _Bar_Patron_1_ _Patty_ _Pizza_Man_ kiiill dofiiin ush sobered _Bradley_ eewww\n",
      "freda _Center_Judge_ _Worker_4_ wugh _Mechanic_ mmmmmmmmmm _Kid_4_ weeeeee _Kid_4_ _El_Presidente_ _Darryl_Weathers_ yelper _Blond_Trekker_ _NAMBLA_Leader_ _Townsman_1_ assface _Jeff_VanVonderen_ fingerbang scrimp tutsi\n",
      "_Tammy_ _Man_In_Middle_ _The_Situation_ _Therapist_ disagreeable _Whole_Foods_Rep_ _Romper_Stomper_ _Refugees_ _Lucas_ talangar sega > _Younger_Man_ _Aunt_Flo_ _Ganz_ _MC_ _Francis_ astrologer _Skynard_Man_ infusing\n",
      "carlotta viviane aaaaaaaaaa medea skedaddle _Smoker_ yongee _Mephesto_ dofiiin _Meat_Loaf_ yeup _Greeley_Officer_3_ _Sgt._Yates_ caiaphas _Saddam_Hussein_ _Officer_5_ oogh _Resident_3_ _Executor_ ihatecartmanbrah\n",
      "_Reporter_ sterben _Muslim_2_ _Nellie_ belarrus _Det._Jarvis_ _Bebe_ _Choir_Teacher_ _Tad_and_friends_ _Mr._Fun_ _Mike_ foolies _Inmate_ gentleness thuh maaaa hmkay _K-10_ _Cow_ _KoRn_\n"
     ]
    }
   ],
   "source": [
    "temperature.set_value(np.float32(0.5))\n",
    "for i in range(5):\n",
    "    print(generator.reply([\"Hello!\", \"Hello\", \"How are you ?\"], 100))\n",
    "    \n",
    "temperature.set_value(np.float32(1))"
   ]
  },
  {
   "cell_type": "markdown",
   "metadata": {},
   "source": [
    "### Adversarial success"
   ]
  },
  {
   "cell_type": "code",
   "execution_count": 109,
   "metadata": {
    "collapsed": false
   },
   "outputs": [
    {
     "data": {
      "text/plain": [
       "array(7.652363567378589)"
      ]
     },
     "execution_count": 109,
     "metadata": {},
     "output_type": "execute_result"
    }
   ],
   "source": [
    "generator.get_perplexity_fn(one_batch[0], one_batch[2], 20)"
   ]
  },
  {
   "cell_type": "code",
   "execution_count": 56,
   "metadata": {
    "collapsed": true
   },
   "outputs": [],
   "source": [
    "import pickle\n",
    "with open('test_batches.pcl', 'rb') as f:\n",
    "    test_batches = pickle.load(f)"
   ]
  },
  {
   "cell_type": "code",
   "execution_count": 107,
   "metadata": {
    "collapsed": false
   },
   "outputs": [
    {
     "data": {
      "image/png": "[encoded data removed]",
      "text/plain": [
       "<matplotlib.figure.Figure at 0x7fbd1b0e6e10>"
      ]
     },
     "metadata": {},
     "output_type": "display_data"
    }
   ],
   "source": [
    "outs = []\n",
    "real_outs = []\n",
    "for bx, by, respondent in test_batches:\n",
    "    outs.append(get_discr_out_on_fake(bx, respondent, 20))\n",
    "    real_outs.append(get_discr_out_on_real(bx, by))\n",
    "outs = np.concatenate(outs)\n",
    "real_outs = np.concatenate(real_outs)\n",
    "\n",
    "plt.subplot(1, 2, 1)\n",
    "plt.title(\"Generated\")\n",
    "plt.hist(outs, bins=100);\n",
    "plt.subplot(1, 2, 2)\n",
    "plt.title(\"Real\")\n",
    "plt.hist(real_outs, bins=100);\n"
   ]
  },
  {
   "cell_type": "code",
   "execution_count": 108,
   "metadata": {
    "collapsed": false
   },
   "outputs": [
    {
     "data": {
      "text/plain": [
       "0.6919197265625"
      ]
     },
     "execution_count": 108,
     "metadata": {},
     "output_type": "execute_result"
    }
   ],
   "source": [
    "from sklearn.metrics import roc_auc_score\n",
    "roc_auc_score(len(outs) * [0] + len(real_outs) * [1], np.concatenate([outs, real_outs]))"
   ]
  },
  {
   "cell_type": "code",
   "execution_count": null,
   "metadata": {
    "collapsed": true
   },
   "outputs": [],
   "source": []
  }
 ],
 "metadata": {
  "kernelspec": {
   "display_name": "Python 2",
   "language": "python",
   "name": "python2"
  },
  "language_info": {
   "codemirror_mode": {
    "name": "ipython",
    "version": 2
   },
   "file_extension": ".py",
   "mimetype": "text/x-python",
   "name": "python",
   "nbconvert_exporter": "python",
   "pygments_lexer": "ipython2",
   "version": "2.7.13"
  }
 },
 "nbformat": 4,
 "nbformat_minor": 0
}
